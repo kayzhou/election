{
 "cells": [
  {
   "cell_type": "markdown",
   "metadata": {},
   "source": [
    "# 根据fake_tweets产生的数据文件进行分析"
   ]
  },
  {
   "cell_type": "code",
   "execution_count": 18,
   "metadata": {},
   "outputs": [],
   "source": [
    "from my_weapon import *\n",
    "from collections import defaultdict, Counter"
   ]
  },
  {
   "cell_type": "code",
   "execution_count": 19,
   "metadata": {},
   "outputs": [],
   "source": [
    "from IPython.display import display"
   ]
  },
  {
   "cell_type": "code",
   "execution_count": 2,
   "metadata": {},
   "outputs": [],
   "source": [
    "url_tweets = json.load(open(\"data/fake-url-tweets.json\"))"
   ]
  },
  {
   "cell_type": "code",
   "execution_count": 3,
   "metadata": {},
   "outputs": [
    {
     "data": {
      "image/png": "[encoded data removed]",
      "text/plain": [
       "<Figure size 720x432 with 1 Axes>"
      ]
     },
     "metadata": {
      "needs_background": "light"
     },
     "output_type": "display_data"
    }
   ],
   "source": [
    "# x, cdf, pdf = get_cdf_pdf(data, 0, 15000, 100)\n",
    "plt.figure(figsize=(10, 6))\n",
    "data = pd.Series([len(url_tweet[\"tweets\"]) for url_tweet in url_tweets])\n",
    "data.hist(bins=30)\n",
    "plt.title('Distribution of size of fake news', fontsize=15)\n",
    "plt.ylabel('N of the fake news', fontsize=14)\n",
    "plt.xlabel('Amount of tweets referring to this fake news', fontsize=14)\n",
    "plt.xticks(fontsize=13); plt.yticks(fontsize=13)\n",
    "plt.yscale(\"log\")\n",
    "plt.savefig('fig/distribution_size_fake_news.pdf', dpi=300)\n",
    "plt.show()\n",
    "plt.close()"
   ]
  },
  {
   "cell_type": "code",
   "execution_count": 4,
   "metadata": {},
   "outputs": [
    {
     "data": {
      "text/plain": [
       "{'url': 'http://thepoliticalinsider.com/secret-service',\n",
       " 'tweets': [{'tweet_id': '771072785854570496',\n",
       "   'user_id': '32144891',\n",
       "   'dt': '2016-08-31 14:50:52',\n",
       "   'is_first': 1,\n",
       "   'is_source': 1,\n",
       "   'is_IRA': 0,\n",
       "   'URL': 'http://thepoliticalinsider.com/secret-service',\n",
       "   'hostname': 'thepoliticalinsider.com'},\n",
       "  {'tweet_id': '771073146879291392',\n",
       "   'user_id': '533402213',\n",
       "   'dt': '2016-08-31 14:52:18',\n",
       "   'is_first': 0,\n",
       "   'is_source': 0,\n",
       "   'is_IRA': 0,\n",
       "   'URL': 'http://thepoliticalinsider.com/secret-service',\n",
       "   'hostname': 'thepoliticalinsider.com'}]}"
      ]
     },
     "execution_count": 4,
     "metadata": {},
     "output_type": "execute_result"
    }
   ],
   "source": [
    "url_tweets[88888]"
   ]
  },
  {
   "cell_type": "markdown",
   "metadata": {},
   "source": [
    "- 189620条谣言URL, 914272条初始推特；\n",
    "- 25212个第一条谣言的用户, 88215个发初始推特的用户；\n",
    "\n",
    "### 专门针对用户的分析，放到analyze_users.ipy中～"
   ]
  },
  {
   "cell_type": "code",
   "execution_count": 5,
   "metadata": {},
   "outputs": [],
   "source": [
    "import pendulum\n",
    "\n",
    "\n",
    "def get_day(dt):\n",
    "    return pendulum.parse(dt).format(\"YYYY-MM-DD 00:00:00\")\n",
    "    \n",
    "    \n",
    "def get_hour(dt):\n",
    "    return pendulum.parse(dt).format(\"YYYY-MM-DD HH:00:00\")\n",
    "    \n",
    "\n",
    "def cal_ts_day(dts):\n",
    "    start = get_day(dts[0])\n",
    "    end = get_day(dts[-1])\n",
    "    rng = pd.date_range(start, end, freq='D')\n",
    "    ts = pd.Series(0, rng)\n",
    "    for dt in dts:\n",
    "        now = get_day(dt)\n",
    "        ts[now] += 1\n",
    "    return ts\n",
    "\n",
    "\n",
    "def cal_ts_48hours(dts):\n",
    "    start = get_hour(dts[0])\n",
    "    rng = pd.date_range(start, periods=48, freq=\"H\")\n",
    "    ts = pd.Series(0, rng)\n",
    "    for dt in dts:\n",
    "        now = get_hour(dt)\n",
    "        if now in ts:\n",
    "            ts[now] += 1\n",
    "    return ts\n",
    "    \n",
    "    \n",
    "def plot_day(i, url, sorted_dts, sorted_dts2=None, save=False):\n",
    "    \"\"\"\n",
    "    包含了两条线！\n",
    "    \"\"\"\n",
    "\n",
    "    plt.figure(figsize=(10, 6))\n",
    "    ts = cal_ts_day(sorted_dts)\n",
    "    ts.plot()\n",
    "    \n",
    "    if sorted_dts2:\n",
    "        ts2 = cal_ts_day(sorted_dts2)\n",
    "        ts2.plot()\n",
    "    \n",
    "    # configure\n",
    "    plt.ylabel('N of tweets with this fake news', fontsize=15)\n",
    "    plt.xticks(fontsize=11); plt.yticks(fontsize=11)\n",
    "#     plt.xlabel('$Date$', fontsize=15)\n",
    "#     plt.title(url)\n",
    "    \n",
    "    if save:\n",
    "        plt.savefig('fig/{}-{}-overall-spread.pdf'.format(i, url), dpi=300)\n",
    "    else:\n",
    "        plt.show()\n",
    "    \n",
    "    plt.close()\n",
    "\n",
    "\n",
    "def plot_48hours(i, url, sorted_dts, sorted_dts2=None, save=False):\n",
    "    \"\"\"\n",
    "    包含了两条线！\n",
    "    \"\"\"\n",
    "    \n",
    "#     print(url)\n",
    "#     print(\"实际传播开始和结束时间：\", sorted_dts[0], sorted_dts[-1])\n",
    "\n",
    "    plt.figure(figsize=(10, 6))\n",
    "    ts = cal_ts_48hours(sorted_dts)\n",
    "    ts.plot()\n",
    "    \n",
    "    if sorted_dts2:\n",
    "        ts2 = cal_ts_48hours(sorted_dts2)\n",
    "        ts2.plot()\n",
    "\n",
    "    \n",
    "    # configure\n",
    "    plt.ylabel('N of tweets with this fake news', fontsize=15)\n",
    "    plt.xticks(fontsize=11); plt.yticks(fontsize=11)\n",
    "#     plt.xlabel('$Date$', fontsize=15)\n",
    "#     plt.title(url)\n",
    "\n",
    "    if save:\n",
    "        plt.savefig('fig/{}-{}-first-48-hours.pdf'.format(i, url), dpi=300)\n",
    "    else:\n",
    "        plt.show()\n",
    "        \n",
    "    plt.close()\n"
   ]
  },
  {
   "cell_type": "code",
   "execution_count": 6,
   "metadata": {},
   "outputs": [
    {
     "name": "stdout",
     "output_type": "stream",
     "text": [
      "plot 1 ~\n"
     ]
    },
    {
     "data": {
      "image/png": "[encoded data removed]",
      "text/plain": [
       "<Figure size 720x432 with 1 Axes>"
      ]
     },
     "metadata": {
      "needs_background": "light"
     },
     "output_type": "display_data"
    },
    {
     "data": {
      "image/png": "[encoded data removed]",
      "text/plain": [
       "<Figure size 720x432 with 1 Axes>"
      ]
     },
     "metadata": {
      "needs_background": "light"
     },
     "output_type": "display_data"
    },
    {
     "name": "stdout",
     "output_type": "stream",
     "text": [
      "plot 2 ~\n"
     ]
    },
    {
     "data": {
      "image/png": "[encoded data removed]",
      "text/plain": [
       "<Figure size 720x432 with 1 Axes>"
      ]
     },
     "metadata": {
      "needs_background": "light"
     },
     "output_type": "display_data"
    },
    {
     "data": {
      "image/png": "[encoded data removed]",
      "text/plain": [
       "<Figure size 720x432 with 1 Axes>"
      ]
     },
     "metadata": {
      "needs_background": "light"
     },
     "output_type": "display_data"
    }
   ],
   "source": [
    "for i, url_tweet in enumerate(url_tweets):\n",
    "\n",
    "    if i == 0:\n",
    "        continue\n",
    "    if i >= 3:\n",
    "        break\n",
    "    print(\"plot {} ~\".format(i))\n",
    "    \n",
    "    url = url_tweet[\"url\"]\n",
    "    tweets_list = url_tweet[\"tweets\"]\n",
    "    dts = [t[\"dt\"] for t in tweets_list]\n",
    "    \n",
    "    dts2 = [t[\"dt\"] for t in tweets_list if t[\"is_source\"]==1]\n",
    "    plot_day(i, url, dts, dts2)\n",
    "    plot_48hours(i, url, dts, dts2)\n",
    "\n",
    "#     plot_day(i, url, dts)\n",
    "#     plot_48hours(i, url, dts)"
   ]
  },
  {
   "cell_type": "markdown",
   "metadata": {},
   "source": [
    "---\n",
    "\n",
    "## source对trump和hillary的态度"
   ]
  },
  {
   "cell_type": "code",
   "execution_count": 3,
   "metadata": {},
   "outputs": [
    {
     "name": "stderr",
     "output_type": "stream",
     "text": [
      "2562218it [10:21, 4120.16it/s]\n"
     ]
    }
   ],
   "source": [
    "from SQLite_handler import opinion\n",
    "\n",
    "first_opinion = []\n",
    "staters_opinion = []\n",
    "other_opinion = []\n",
    "\n",
    "tweets_csv = pd.read_csv(\"data/fake-tweets.csv\", usecols=[\"tweet_id\", \"is_first\", \"is_source\"])\n",
    "\n",
    "\n",
    "for i, row in tqdm(tweets_csv.iterrows()):\n",
    "    tid = row[\"tweet_id\"]\n",
    "    opi = opinion(tid)\n",
    "    if row[\"is_first\"] == 1:\n",
    "        first_opinion.append(opi)\n",
    "    if row[\"is_source\"] == 1:\n",
    "        staters_opinion.append(opi)\n",
    "    else:\n",
    "        other_opinion.append(opi)\n",
    "    "
   ]
  },
  {
   "cell_type": "code",
   "execution_count": 29,
   "metadata": {},
   "outputs": [
    {
     "name": "stdout",
     "output_type": "stream",
     "text": [
      "Counter({1: 145411, 0: 43464, -1: 587})\n",
      "Counter({1: 713400, 0: 181059, -1: 2585})\n",
      "Counter({1: 1488826, 0: 175888, -1: 460})\n"
     ]
    },
    {
     "data": {
      "image/png": "[encoded data removed]",
      "text/plain": [
       "<Figure size 1440x432 with 3 Axes>"
      ]
     },
     "metadata": {},
     "output_type": "display_data"
    }
   ],
   "source": [
    "from collections import Counter\n",
    "sns.set_style(\"white\")\n",
    "sns.color_palette(\"RdBu\", n_colors=7)\n",
    "\n",
    "count = Counter(first_opinion)\n",
    "print(count)\n",
    "\n",
    "label = [\"pro-hillary\", \"pro-trump\"]\n",
    "plt.figure(figsize=(20, 6))\n",
    "\n",
    "plt.subplot(131)\n",
    "plt.bar(1, count[0], color=sns.color_palette(\"RdBu\")[5], width=0.2)\n",
    "plt.bar(1.5, count[1], color=sns.color_palette(\"RdBu\")[0], width=0.2)\n",
    "label = [\"pro-hillary\\n{0:.0%}\".format(count[0] / (count[0]+count[1])), \"pro-trump\\n{0:.0%}\".format(count[1] / (count[0]+count[1]))]\n",
    "plt.xticks([1, 1.5], label)\n",
    "plt.xlabel('First source', fontsize=15)\n",
    "plt.ylabel('Number of tweets', fontsize=15)\n",
    "plt.xticks(fontsize=14); plt.yticks(fontsize=14)\n",
    "\n",
    "count = Counter(staters_opinion)\n",
    "print(count)\n",
    "\n",
    "plt.subplot(132)\n",
    "plt.bar(1, count[0], color=sns.color_palette(\"RdBu\")[5], width=0.2)\n",
    "plt.bar(1.5, count[1], color=sns.color_palette(\"RdBu\")[0], width=0.2)\n",
    "label = [\"pro-hillary\\n{0:.0%}\".format(count[0] / (count[0]+count[1])), \"pro-trump\\n{0:.0%}\".format(count[1] / (count[0]+count[1]))]\n",
    "plt.xticks([1, 1.5], label)\n",
    "plt.xlabel('source', fontsize=15)\n",
    "plt.xticks(fontsize=14); plt.yticks(fontsize=14)\n",
    "\n",
    "count = Counter(other_opinion)\n",
    "print(count)\n",
    "\n",
    "plt.subplot(133)\n",
    "plt.bar(1, count[0], color=sns.color_palette(\"RdBu\")[5], width=0.2)\n",
    "plt.bar(1.5, count[1], color=sns.color_palette(\"RdBu\")[0], width=0.2)\n",
    "label = [\"pro-hillary\\n{0:.0%}\".format(count[0] / (count[0]+count[1])), \"pro-trump\\n{0:.0%}\".format(count[1] / (count[0]+count[1]))]\n",
    "plt.xticks([1, 1.5], label)\n",
    "plt.xlabel('non-source', fontsize=15)\n",
    "# plt.ylabel('N of fake sources', fontsize=15)\n",
    "plt.xticks(fontsize=14); plt.yticks(fontsize=14)\n",
    "\n",
    "plt.savefig(\"fig/support.pdf\", dpi=300, bbox_inches='tight')\n",
    "plt.show()\n",
    "plt.close()"
   ]
  },
  {
   "cell_type": "code",
   "execution_count": 9,
   "metadata": {},
   "outputs": [],
   "source": [
    "uids_of_IRA = set(json.load(open(\"data/IRA_map.json\")).values())"
   ]
  },
  {
   "cell_type": "markdown",
   "metadata": {},
   "source": [
    "## 下面对fake-tweets.csv分析"
   ]
  },
  {
   "cell_type": "code",
   "execution_count": 59,
   "metadata": {},
   "outputs": [
    {
     "data": {
      "text/html": [
       "<div>\n",
       "<style scoped>\n",
       "    .dataframe tbody tr th:only-of-type {\n",
       "        vertical-align: middle;\n",
       "    }\n",
       "\n",
       "    .dataframe tbody tr th {\n",
       "        vertical-align: top;\n",
       "    }\n",
       "\n",
       "    .dataframe thead th {\n",
       "        text-align: right;\n",
       "    }\n",
       "</style>\n",
       "<table border=\"1\" class=\"dataframe\">\n",
       "  <thead>\n",
       "    <tr style=\"text-align: right;\">\n",
       "      <th></th>\n",
       "      <th>URL</th>\n",
       "      <th>dt</th>\n",
       "      <th>hostname</th>\n",
       "      <th>is_IRA</th>\n",
       "      <th>is_first</th>\n",
       "      <th>is_source</th>\n",
       "      <th>tweet_id</th>\n",
       "      <th>user_id</th>\n",
       "    </tr>\n",
       "  </thead>\n",
       "  <tbody>\n",
       "    <tr>\n",
       "      <th>0</th>\n",
       "      <td>http://infowars.com/show</td>\n",
       "      <td>2016-04-29 10:51:25</td>\n",
       "      <td>infowars.com</td>\n",
       "      <td>0</td>\n",
       "      <td>1</td>\n",
       "      <td>1</td>\n",
       "      <td>726076431411761152</td>\n",
       "      <td>733838438</td>\n",
       "    </tr>\n",
       "    <tr>\n",
       "      <th>1</th>\n",
       "      <td>http://infowars.com/show</td>\n",
       "      <td>2016-05-24 12:42:06</td>\n",
       "      <td>infowars.com</td>\n",
       "      <td>0</td>\n",
       "      <td>0</td>\n",
       "      <td>1</td>\n",
       "      <td>735163983376719872</td>\n",
       "      <td>109065990</td>\n",
       "    </tr>\n",
       "    <tr>\n",
       "      <th>2</th>\n",
       "      <td>http://infowars.com/show</td>\n",
       "      <td>2016-05-26 19:02:31</td>\n",
       "      <td>infowars.com</td>\n",
       "      <td>0</td>\n",
       "      <td>0</td>\n",
       "      <td>1</td>\n",
       "      <td>735984491114565633</td>\n",
       "      <td>14505245</td>\n",
       "    </tr>\n",
       "    <tr>\n",
       "      <th>3</th>\n",
       "      <td>http://infowars.com/show</td>\n",
       "      <td>2016-05-27 11:35:43</td>\n",
       "      <td>infowars.com</td>\n",
       "      <td>0</td>\n",
       "      <td>0</td>\n",
       "      <td>1</td>\n",
       "      <td>736234437550080000</td>\n",
       "      <td>109065990</td>\n",
       "    </tr>\n",
       "    <tr>\n",
       "      <th>4</th>\n",
       "      <td>http://infowars.com/show</td>\n",
       "      <td>2016-06-01 16:20:17</td>\n",
       "      <td>infowars.com</td>\n",
       "      <td>0</td>\n",
       "      <td>0</td>\n",
       "      <td>0</td>\n",
       "      <td>738117991074660356</td>\n",
       "      <td>352537680</td>\n",
       "    </tr>\n",
       "    <tr>\n",
       "      <th>5</th>\n",
       "      <td>http://infowars.com/show</td>\n",
       "      <td>2016-06-01 17:09:51</td>\n",
       "      <td>infowars.com</td>\n",
       "      <td>0</td>\n",
       "      <td>0</td>\n",
       "      <td>0</td>\n",
       "      <td>738130465551355904</td>\n",
       "      <td>705518452035997698</td>\n",
       "    </tr>\n",
       "    <tr>\n",
       "      <th>6</th>\n",
       "      <td>http://infowars.com/show</td>\n",
       "      <td>2016-06-02 11:07:02</td>\n",
       "      <td>infowars.com</td>\n",
       "      <td>0</td>\n",
       "      <td>0</td>\n",
       "      <td>1</td>\n",
       "      <td>738401546002538496</td>\n",
       "      <td>109065990</td>\n",
       "    </tr>\n",
       "    <tr>\n",
       "      <th>7</th>\n",
       "      <td>http://infowars.com/show</td>\n",
       "      <td>2016-06-02 11:07:23</td>\n",
       "      <td>infowars.com</td>\n",
       "      <td>0</td>\n",
       "      <td>0</td>\n",
       "      <td>0</td>\n",
       "      <td>738401637371420673</td>\n",
       "      <td>4921258114</td>\n",
       "    </tr>\n",
       "    <tr>\n",
       "      <th>8</th>\n",
       "      <td>http://infowars.com/show</td>\n",
       "      <td>2016-06-02 11:07:28</td>\n",
       "      <td>infowars.com</td>\n",
       "      <td>0</td>\n",
       "      <td>0</td>\n",
       "      <td>0</td>\n",
       "      <td>738401658271588352</td>\n",
       "      <td>2426872238</td>\n",
       "    </tr>\n",
       "    <tr>\n",
       "      <th>9</th>\n",
       "      <td>http://infowars.com/show</td>\n",
       "      <td>2016-06-02 11:07:31</td>\n",
       "      <td>infowars.com</td>\n",
       "      <td>0</td>\n",
       "      <td>0</td>\n",
       "      <td>0</td>\n",
       "      <td>738401671361990657</td>\n",
       "      <td>725448266867970049</td>\n",
       "    </tr>\n",
       "    <tr>\n",
       "      <th>10</th>\n",
       "      <td>http://infowars.com/show</td>\n",
       "      <td>2016-06-02 11:07:33</td>\n",
       "      <td>infowars.com</td>\n",
       "      <td>0</td>\n",
       "      <td>0</td>\n",
       "      <td>0</td>\n",
       "      <td>738401676571201536</td>\n",
       "      <td>738398383375712256</td>\n",
       "    </tr>\n",
       "    <tr>\n",
       "      <th>11</th>\n",
       "      <td>http://infowars.com/show</td>\n",
       "      <td>2016-06-02 11:08:06</td>\n",
       "      <td>infowars.com</td>\n",
       "      <td>0</td>\n",
       "      <td>0</td>\n",
       "      <td>0</td>\n",
       "      <td>738401815494959104</td>\n",
       "      <td>963952604</td>\n",
       "    </tr>\n",
       "    <tr>\n",
       "      <th>12</th>\n",
       "      <td>http://infowars.com/show</td>\n",
       "      <td>2016-06-02 11:08:14</td>\n",
       "      <td>infowars.com</td>\n",
       "      <td>0</td>\n",
       "      <td>0</td>\n",
       "      <td>0</td>\n",
       "      <td>738401849468948480</td>\n",
       "      <td>362482415</td>\n",
       "    </tr>\n",
       "    <tr>\n",
       "      <th>13</th>\n",
       "      <td>http://infowars.com/show</td>\n",
       "      <td>2016-06-02 11:08:14</td>\n",
       "      <td>infowars.com</td>\n",
       "      <td>0</td>\n",
       "      <td>0</td>\n",
       "      <td>0</td>\n",
       "      <td>738401850894864385</td>\n",
       "      <td>1332367184</td>\n",
       "    </tr>\n",
       "    <tr>\n",
       "      <th>14</th>\n",
       "      <td>http://infowars.com/show</td>\n",
       "      <td>2016-06-02 11:09:30</td>\n",
       "      <td>infowars.com</td>\n",
       "      <td>0</td>\n",
       "      <td>0</td>\n",
       "      <td>0</td>\n",
       "      <td>738402167111847936</td>\n",
       "      <td>2828483761</td>\n",
       "    </tr>\n",
       "    <tr>\n",
       "      <th>15</th>\n",
       "      <td>http://infowars.com/show</td>\n",
       "      <td>2016-06-02 11:09:43</td>\n",
       "      <td>infowars.com</td>\n",
       "      <td>0</td>\n",
       "      <td>0</td>\n",
       "      <td>0</td>\n",
       "      <td>738402222912966658</td>\n",
       "      <td>735233974486831106</td>\n",
       "    </tr>\n",
       "    <tr>\n",
       "      <th>16</th>\n",
       "      <td>http://infowars.com/show</td>\n",
       "      <td>2016-06-02 11:09:55</td>\n",
       "      <td>infowars.com</td>\n",
       "      <td>0</td>\n",
       "      <td>0</td>\n",
       "      <td>0</td>\n",
       "      <td>738402272955277312</td>\n",
       "      <td>1618325365</td>\n",
       "    </tr>\n",
       "    <tr>\n",
       "      <th>17</th>\n",
       "      <td>http://infowars.com/show</td>\n",
       "      <td>2016-06-02 11:10:12</td>\n",
       "      <td>infowars.com</td>\n",
       "      <td>0</td>\n",
       "      <td>0</td>\n",
       "      <td>0</td>\n",
       "      <td>738402346330247170</td>\n",
       "      <td>3301022112</td>\n",
       "    </tr>\n",
       "    <tr>\n",
       "      <th>18</th>\n",
       "      <td>http://infowars.com/show</td>\n",
       "      <td>2016-06-02 11:11:04</td>\n",
       "      <td>infowars.com</td>\n",
       "      <td>0</td>\n",
       "      <td>0</td>\n",
       "      <td>0</td>\n",
       "      <td>738402562718601216</td>\n",
       "      <td>152208943</td>\n",
       "    </tr>\n",
       "    <tr>\n",
       "      <th>19</th>\n",
       "      <td>http://infowars.com/show</td>\n",
       "      <td>2016-06-02 11:12:32</td>\n",
       "      <td>infowars.com</td>\n",
       "      <td>0</td>\n",
       "      <td>0</td>\n",
       "      <td>0</td>\n",
       "      <td>738402930374643714</td>\n",
       "      <td>4493227335</td>\n",
       "    </tr>\n",
       "    <tr>\n",
       "      <th>20</th>\n",
       "      <td>http://infowars.com/show</td>\n",
       "      <td>2016-06-02 11:12:35</td>\n",
       "      <td>infowars.com</td>\n",
       "      <td>0</td>\n",
       "      <td>0</td>\n",
       "      <td>0</td>\n",
       "      <td>738402945750945796</td>\n",
       "      <td>97492736</td>\n",
       "    </tr>\n",
       "    <tr>\n",
       "      <th>21</th>\n",
       "      <td>http://infowars.com/show</td>\n",
       "      <td>2016-06-02 11:13:11</td>\n",
       "      <td>infowars.com</td>\n",
       "      <td>0</td>\n",
       "      <td>0</td>\n",
       "      <td>0</td>\n",
       "      <td>738403096167092229</td>\n",
       "      <td>3334087930</td>\n",
       "    </tr>\n",
       "    <tr>\n",
       "      <th>22</th>\n",
       "      <td>http://infowars.com/show</td>\n",
       "      <td>2016-06-02 11:15:47</td>\n",
       "      <td>infowars.com</td>\n",
       "      <td>0</td>\n",
       "      <td>0</td>\n",
       "      <td>0</td>\n",
       "      <td>738403748402204672</td>\n",
       "      <td>3025921727</td>\n",
       "    </tr>\n",
       "    <tr>\n",
       "      <th>23</th>\n",
       "      <td>http://infowars.com/show</td>\n",
       "      <td>2016-06-02 11:16:04</td>\n",
       "      <td>infowars.com</td>\n",
       "      <td>0</td>\n",
       "      <td>0</td>\n",
       "      <td>0</td>\n",
       "      <td>738403819697131520</td>\n",
       "      <td>718285027101032448</td>\n",
       "    </tr>\n",
       "    <tr>\n",
       "      <th>24</th>\n",
       "      <td>http://infowars.com/show</td>\n",
       "      <td>2016-06-02 11:18:22</td>\n",
       "      <td>infowars.com</td>\n",
       "      <td>0</td>\n",
       "      <td>0</td>\n",
       "      <td>1</td>\n",
       "      <td>738404398578163712</td>\n",
       "      <td>95918629</td>\n",
       "    </tr>\n",
       "    <tr>\n",
       "      <th>25</th>\n",
       "      <td>http://infowars.com/show</td>\n",
       "      <td>2016-06-02 11:18:31</td>\n",
       "      <td>infowars.com</td>\n",
       "      <td>0</td>\n",
       "      <td>0</td>\n",
       "      <td>0</td>\n",
       "      <td>738404439069884416</td>\n",
       "      <td>993451813</td>\n",
       "    </tr>\n",
       "    <tr>\n",
       "      <th>26</th>\n",
       "      <td>http://infowars.com/show</td>\n",
       "      <td>2016-06-02 11:18:36</td>\n",
       "      <td>infowars.com</td>\n",
       "      <td>0</td>\n",
       "      <td>0</td>\n",
       "      <td>0</td>\n",
       "      <td>738404457386364929</td>\n",
       "      <td>14505245</td>\n",
       "    </tr>\n",
       "    <tr>\n",
       "      <th>27</th>\n",
       "      <td>http://infowars.com/show</td>\n",
       "      <td>2016-06-02 11:18:40</td>\n",
       "      <td>infowars.com</td>\n",
       "      <td>0</td>\n",
       "      <td>0</td>\n",
       "      <td>0</td>\n",
       "      <td>738404473765138433</td>\n",
       "      <td>733838438</td>\n",
       "    </tr>\n",
       "    <tr>\n",
       "      <th>28</th>\n",
       "      <td>http://infowars.com/show</td>\n",
       "      <td>2016-06-02 11:19:07</td>\n",
       "      <td>infowars.com</td>\n",
       "      <td>0</td>\n",
       "      <td>0</td>\n",
       "      <td>0</td>\n",
       "      <td>738404589184114692</td>\n",
       "      <td>2799966304</td>\n",
       "    </tr>\n",
       "    <tr>\n",
       "      <th>29</th>\n",
       "      <td>http://infowars.com/show</td>\n",
       "      <td>2016-06-02 11:19:57</td>\n",
       "      <td>infowars.com</td>\n",
       "      <td>0</td>\n",
       "      <td>0</td>\n",
       "      <td>0</td>\n",
       "      <td>738404799012425728</td>\n",
       "      <td>227368502</td>\n",
       "    </tr>\n",
       "    <tr>\n",
       "      <th>...</th>\n",
       "      <td>...</td>\n",
       "      <td>...</td>\n",
       "      <td>...</td>\n",
       "      <td>...</td>\n",
       "      <td>...</td>\n",
       "      <td>...</td>\n",
       "      <td>...</td>\n",
       "      <td>...</td>\n",
       "    </tr>\n",
       "    <tr>\n",
       "      <th>2491983</th>\n",
       "      <td>https://therightscoop.com/marco-rubio-is-killi...</td>\n",
       "      <td>2016-10-06 16:31:00</td>\n",
       "      <td>therightscoop.com</td>\n",
       "      <td>1</td>\n",
       "      <td>1</td>\n",
       "      <td>1</td>\n",
       "      <td>784068551535579136</td>\n",
       "      <td>1671234620</td>\n",
       "    </tr>\n",
       "    <tr>\n",
       "      <th>2491984</th>\n",
       "      <td>https://neonnettle.com/videos/455-video-retire...</td>\n",
       "      <td>2016-09-17 10:57:00</td>\n",
       "      <td>neonnettle.com</td>\n",
       "      <td>1</td>\n",
       "      <td>1</td>\n",
       "      <td>1</td>\n",
       "      <td>777099134964686850</td>\n",
       "      <td>1679279490</td>\n",
       "    </tr>\n",
       "    <tr>\n",
       "      <th>2491985</th>\n",
       "      <td>https://bb4sp.com/,%20http:/fb.me/1l5b5sjlh</td>\n",
       "      <td>2016-09-14 12:17:00</td>\n",
       "      <td>bb4sp.com</td>\n",
       "      <td>1</td>\n",
       "      <td>1</td>\n",
       "      <td>1</td>\n",
       "      <td>776032027179122689</td>\n",
       "      <td>2535166748</td>\n",
       "    </tr>\n",
       "    <tr>\n",
       "      <th>2491986</th>\n",
       "      <td>http://donaldtrumpnews.co/news/look-happened-i...</td>\n",
       "      <td>2016-10-10 07:11:00</td>\n",
       "      <td>donaldtrumpnews.co</td>\n",
       "      <td>1</td>\n",
       "      <td>1</td>\n",
       "      <td>1</td>\n",
       "      <td>785377089839099904</td>\n",
       "      <td>1651693646</td>\n",
       "    </tr>\n",
       "    <tr>\n",
       "      <th>2491987</th>\n",
       "      <td>https://bb4sp.com/,%20http:/fb.me/8jeq0jmig</td>\n",
       "      <td>2016-09-14 12:17:00</td>\n",
       "      <td>bb4sp.com</td>\n",
       "      <td>1</td>\n",
       "      <td>1</td>\n",
       "      <td>1</td>\n",
       "      <td>776032166060830722</td>\n",
       "      <td>2535166748</td>\n",
       "    </tr>\n",
       "    <tr>\n",
       "      <th>2491988</th>\n",
       "      <td>https://neonnettle.com/sphere/449-us-governmen...</td>\n",
       "      <td>2016-09-11 05:27:00</td>\n",
       "      <td>neonnettle.com</td>\n",
       "      <td>1</td>\n",
       "      <td>1</td>\n",
       "      <td>1</td>\n",
       "      <td>774841706625794048</td>\n",
       "      <td>1679279490</td>\n",
       "    </tr>\n",
       "    <tr>\n",
       "      <th>2491989</th>\n",
       "      <td>https://beforeitsnews.com/v3/politics/2016/283...</td>\n",
       "      <td>2016-09-18 18:38:00</td>\n",
       "      <td>beforeitsnews.com</td>\n",
       "      <td>1</td>\n",
       "      <td>1</td>\n",
       "      <td>0</td>\n",
       "      <td>777577480710418432</td>\n",
       "      <td>1694026190</td>\n",
       "    </tr>\n",
       "    <tr>\n",
       "      <th>2491990</th>\n",
       "      <td>http://familysecuritymatters.org/publications/...</td>\n",
       "      <td>2016-10-07 00:43:00</td>\n",
       "      <td>familysecuritymatters.org</td>\n",
       "      <td>1</td>\n",
       "      <td>1</td>\n",
       "      <td>1</td>\n",
       "      <td>784192351761817600</td>\n",
       "      <td>2671070290</td>\n",
       "    </tr>\n",
       "    <tr>\n",
       "      <th>2491991</th>\n",
       "      <td>http://truthfeed.com/video-obama-goes-batshit-...</td>\n",
       "      <td>2016-11-04 22:25:00</td>\n",
       "      <td>truthfeed.com</td>\n",
       "      <td>1</td>\n",
       "      <td>1</td>\n",
       "      <td>1</td>\n",
       "      <td>794666976064872448</td>\n",
       "      <td>789266125485998080</td>\n",
       "    </tr>\n",
       "    <tr>\n",
       "      <th>2491992</th>\n",
       "      <td>https://therightscoop.com/the-navy-just-neuter...</td>\n",
       "      <td>2016-10-02 18:05:00</td>\n",
       "      <td>therightscoop.com</td>\n",
       "      <td>1</td>\n",
       "      <td>1</td>\n",
       "      <td>1</td>\n",
       "      <td>782642797534785536</td>\n",
       "      <td>1671234620</td>\n",
       "    </tr>\n",
       "    <tr>\n",
       "      <th>2491993</th>\n",
       "      <td>https://bb4sp.com/dallas-cop-sues-black-lives-...</td>\n",
       "      <td>2016-09-17 10:57:00</td>\n",
       "      <td>bb4sp.com</td>\n",
       "      <td>1</td>\n",
       "      <td>1</td>\n",
       "      <td>1</td>\n",
       "      <td>777099102815412224</td>\n",
       "      <td>2606301939</td>\n",
       "    </tr>\n",
       "    <tr>\n",
       "      <th>2491994</th>\n",
       "      <td>http://americannews.com/veteran-told-to-remove...</td>\n",
       "      <td>2016-09-17 11:43:00</td>\n",
       "      <td>americannews.com</td>\n",
       "      <td>1</td>\n",
       "      <td>1</td>\n",
       "      <td>1</td>\n",
       "      <td>777110667379650560</td>\n",
       "      <td>2606301939</td>\n",
       "    </tr>\n",
       "    <tr>\n",
       "      <th>2491995</th>\n",
       "      <td>https://awarenessact.com/hacked-memo-reveals-g...</td>\n",
       "      <td>2016-09-30 12:01:00</td>\n",
       "      <td>awarenessact.com</td>\n",
       "      <td>1</td>\n",
       "      <td>1</td>\n",
       "      <td>1</td>\n",
       "      <td>781826272905297920</td>\n",
       "      <td>1679279490</td>\n",
       "    </tr>\n",
       "    <tr>\n",
       "      <th>2491996</th>\n",
       "      <td>https://truthfeed.com/video-hillary-busted-usi...</td>\n",
       "      <td>2016-10-31 10:26:00</td>\n",
       "      <td>truthfeed.com</td>\n",
       "      <td>1</td>\n",
       "      <td>1</td>\n",
       "      <td>0</td>\n",
       "      <td>793036334986321921</td>\n",
       "      <td>1679279490</td>\n",
       "    </tr>\n",
       "    <tr>\n",
       "      <th>2491997</th>\n",
       "      <td>http://donaldtrumpnews.co/news/texas-gov-calls...</td>\n",
       "      <td>2016-10-28 11:19:00</td>\n",
       "      <td>donaldtrumpnews.co</td>\n",
       "      <td>1</td>\n",
       "      <td>1</td>\n",
       "      <td>1</td>\n",
       "      <td>791962534299308034</td>\n",
       "      <td>1676481360</td>\n",
       "    </tr>\n",
       "    <tr>\n",
       "      <th>2491998</th>\n",
       "      <td>http://truthfeed.com/a-woman-who-allowed-her-m...</td>\n",
       "      <td>2016-11-06 22:56:00</td>\n",
       "      <td>truthfeed.com</td>\n",
       "      <td>1</td>\n",
       "      <td>1</td>\n",
       "      <td>1</td>\n",
       "      <td>795399386654064640</td>\n",
       "      <td>789266125485998080</td>\n",
       "    </tr>\n",
       "    <tr>\n",
       "      <th>2491999</th>\n",
       "      <td>https://therightscoop.com/st-cloud-police-mall...</td>\n",
       "      <td>2016-09-18 05:37:00</td>\n",
       "      <td>therightscoop.com</td>\n",
       "      <td>1</td>\n",
       "      <td>1</td>\n",
       "      <td>1</td>\n",
       "      <td>777380948237221888</td>\n",
       "      <td>1671234620</td>\n",
       "    </tr>\n",
       "    <tr>\n",
       "      <th>2492000</th>\n",
       "      <td>http://truthfeed.com/breaking-over-40-illegals...</td>\n",
       "      <td>2016-11-08 21:19:00</td>\n",
       "      <td>truthfeed.com</td>\n",
       "      <td>1</td>\n",
       "      <td>1</td>\n",
       "      <td>1</td>\n",
       "      <td>796099791121883137</td>\n",
       "      <td>789266125485998080</td>\n",
       "    </tr>\n",
       "    <tr>\n",
       "      <th>2492001</th>\n",
       "      <td>https://bb4sp.com/,%20http:/fb.me/5g9j4cv5r</td>\n",
       "      <td>2016-09-12 15:11:00</td>\n",
       "      <td>bb4sp.com</td>\n",
       "      <td>1</td>\n",
       "      <td>1</td>\n",
       "      <td>1</td>\n",
       "      <td>775351054791835649</td>\n",
       "      <td>2535166748</td>\n",
       "    </tr>\n",
       "    <tr>\n",
       "      <th>2492002</th>\n",
       "      <td>http://thenewyorkevening.com/index.php/2016/08...</td>\n",
       "      <td>2016-08-13 18:46:00</td>\n",
       "      <td>thenewyorkevening.com</td>\n",
       "      <td>1</td>\n",
       "      <td>1</td>\n",
       "      <td>1</td>\n",
       "      <td>764533592093450245</td>\n",
       "      <td>4332740714</td>\n",
       "    </tr>\n",
       "    <tr>\n",
       "      <th>2492003</th>\n",
       "      <td>http://rickwells.us/secret-service-chelseas-ap...</td>\n",
       "      <td>2016-09-14 12:16:00</td>\n",
       "      <td>rickwells.us</td>\n",
       "      <td>1</td>\n",
       "      <td>1</td>\n",
       "      <td>1</td>\n",
       "      <td>776031925639254016</td>\n",
       "      <td>2535166748</td>\n",
       "    </tr>\n",
       "    <tr>\n",
       "      <th>2492004</th>\n",
       "      <td>https://bb4sp.com/,%20http:/fb.me/2vt9xro6a</td>\n",
       "      <td>2016-09-10 04:11:00</td>\n",
       "      <td>bb4sp.com</td>\n",
       "      <td>1</td>\n",
       "      <td>1</td>\n",
       "      <td>1</td>\n",
       "      <td>774460154351849472</td>\n",
       "      <td>1679279490</td>\n",
       "    </tr>\n",
       "    <tr>\n",
       "      <th>2492005</th>\n",
       "      <td>https://bb4sp.com/train-crashes-mass-casualties/</td>\n",
       "      <td>2016-10-02 17:42:00</td>\n",
       "      <td>bb4sp.com</td>\n",
       "      <td>1</td>\n",
       "      <td>1</td>\n",
       "      <td>1</td>\n",
       "      <td>782636779140546560</td>\n",
       "      <td>1629828379</td>\n",
       "    </tr>\n",
       "    <tr>\n",
       "      <th>2492006</th>\n",
       "      <td>http://shoebat.com/2016/09/12/the-islamic-refu...</td>\n",
       "      <td>2016-09-14 11:57:00</td>\n",
       "      <td>shoebat.com</td>\n",
       "      <td>1</td>\n",
       "      <td>1</td>\n",
       "      <td>1</td>\n",
       "      <td>776027171026591744</td>\n",
       "      <td>2535166748</td>\n",
       "    </tr>\n",
       "    <tr>\n",
       "      <th>2492007</th>\n",
       "      <td>http://departed.co/breaking-isis-just-pledged-...</td>\n",
       "      <td>2016-10-11 15:18:00</td>\n",
       "      <td>departed.co</td>\n",
       "      <td>1</td>\n",
       "      <td>1</td>\n",
       "      <td>1</td>\n",
       "      <td>785862058734710784</td>\n",
       "      <td>1533813962</td>\n",
       "    </tr>\n",
       "    <tr>\n",
       "      <th>2492008</th>\n",
       "      <td>https://bb4sp.com/ny-times-gets-punked/</td>\n",
       "      <td>2016-10-15 18:32:00</td>\n",
       "      <td>bb4sp.com</td>\n",
       "      <td>1</td>\n",
       "      <td>1</td>\n",
       "      <td>1</td>\n",
       "      <td>787360548228706305</td>\n",
       "      <td>2606301939</td>\n",
       "    </tr>\n",
       "    <tr>\n",
       "      <th>2492009</th>\n",
       "      <td>http://pamelageller.com/2016/02/video-rape-les...</td>\n",
       "      <td>2016-08-18 10:14:00</td>\n",
       "      <td>pamelageller.com</td>\n",
       "      <td>1</td>\n",
       "      <td>1</td>\n",
       "      <td>1</td>\n",
       "      <td>766216597128241152</td>\n",
       "      <td>1833223908</td>\n",
       "    </tr>\n",
       "    <tr>\n",
       "      <th>2492010</th>\n",
       "      <td>http://therightscoop.com/worst-weve-ever-teste...</td>\n",
       "      <td>2016-10-11 11:45:00</td>\n",
       "      <td>therightscoop.com</td>\n",
       "      <td>1</td>\n",
       "      <td>1</td>\n",
       "      <td>1</td>\n",
       "      <td>785808498990813184</td>\n",
       "      <td>1679279490</td>\n",
       "    </tr>\n",
       "    <tr>\n",
       "      <th>2492011</th>\n",
       "      <td>http://freedomoutpost.com/2014/02/government-c...</td>\n",
       "      <td>2016-09-13 06:41:00</td>\n",
       "      <td>freedomoutpost.com</td>\n",
       "      <td>1</td>\n",
       "      <td>1</td>\n",
       "      <td>1</td>\n",
       "      <td>775585191582658560</td>\n",
       "      <td>2535166748</td>\n",
       "    </tr>\n",
       "    <tr>\n",
       "      <th>2492012</th>\n",
       "      <td>http://clashdaily.com/2015/12/hey-cnn-fox-is-a...</td>\n",
       "      <td>2016-08-12 02:47:00</td>\n",
       "      <td>clashdaily.com</td>\n",
       "      <td>1</td>\n",
       "      <td>1</td>\n",
       "      <td>1</td>\n",
       "      <td>763929804986908672</td>\n",
       "      <td>4311371968</td>\n",
       "    </tr>\n",
       "  </tbody>\n",
       "</table>\n",
       "<p>2492013 rows × 8 columns</p>\n",
       "</div>"
      ],
      "text/plain": [
       "                                                       URL  \\\n",
       "0                                 http://infowars.com/show   \n",
       "1                                 http://infowars.com/show   \n",
       "2                                 http://infowars.com/show   \n",
       "3                                 http://infowars.com/show   \n",
       "4                                 http://infowars.com/show   \n",
       "5                                 http://infowars.com/show   \n",
       "6                                 http://infowars.com/show   \n",
       "7                                 http://infowars.com/show   \n",
       "8                                 http://infowars.com/show   \n",
       "9                                 http://infowars.com/show   \n",
       "10                                http://infowars.com/show   \n",
       "11                                http://infowars.com/show   \n",
       "12                                http://infowars.com/show   \n",
       "13                                http://infowars.com/show   \n",
       "14                                http://infowars.com/show   \n",
       "15                                http://infowars.com/show   \n",
       "16                                http://infowars.com/show   \n",
       "17                                http://infowars.com/show   \n",
       "18                                http://infowars.com/show   \n",
       "19                                http://infowars.com/show   \n",
       "20                                http://infowars.com/show   \n",
       "21                                http://infowars.com/show   \n",
       "22                                http://infowars.com/show   \n",
       "23                                http://infowars.com/show   \n",
       "24                                http://infowars.com/show   \n",
       "25                                http://infowars.com/show   \n",
       "26                                http://infowars.com/show   \n",
       "27                                http://infowars.com/show   \n",
       "28                                http://infowars.com/show   \n",
       "29                                http://infowars.com/show   \n",
       "...                                                    ...   \n",
       "2491983  https://therightscoop.com/marco-rubio-is-killi...   \n",
       "2491984  https://neonnettle.com/videos/455-video-retire...   \n",
       "2491985        https://bb4sp.com/,%20http:/fb.me/1l5b5sjlh   \n",
       "2491986  http://donaldtrumpnews.co/news/look-happened-i...   \n",
       "2491987        https://bb4sp.com/,%20http:/fb.me/8jeq0jmig   \n",
       "2491988  https://neonnettle.com/sphere/449-us-governmen...   \n",
       "2491989  https://beforeitsnews.com/v3/politics/2016/283...   \n",
       "2491990  http://familysecuritymatters.org/publications/...   \n",
       "2491991  http://truthfeed.com/video-obama-goes-batshit-...   \n",
       "2491992  https://therightscoop.com/the-navy-just-neuter...   \n",
       "2491993  https://bb4sp.com/dallas-cop-sues-black-lives-...   \n",
       "2491994  http://americannews.com/veteran-told-to-remove...   \n",
       "2491995  https://awarenessact.com/hacked-memo-reveals-g...   \n",
       "2491996  https://truthfeed.com/video-hillary-busted-usi...   \n",
       "2491997  http://donaldtrumpnews.co/news/texas-gov-calls...   \n",
       "2491998  http://truthfeed.com/a-woman-who-allowed-her-m...   \n",
       "2491999  https://therightscoop.com/st-cloud-police-mall...   \n",
       "2492000  http://truthfeed.com/breaking-over-40-illegals...   \n",
       "2492001        https://bb4sp.com/,%20http:/fb.me/5g9j4cv5r   \n",
       "2492002  http://thenewyorkevening.com/index.php/2016/08...   \n",
       "2492003  http://rickwells.us/secret-service-chelseas-ap...   \n",
       "2492004        https://bb4sp.com/,%20http:/fb.me/2vt9xro6a   \n",
       "2492005   https://bb4sp.com/train-crashes-mass-casualties/   \n",
       "2492006  http://shoebat.com/2016/09/12/the-islamic-refu...   \n",
       "2492007  http://departed.co/breaking-isis-just-pledged-...   \n",
       "2492008            https://bb4sp.com/ny-times-gets-punked/   \n",
       "2492009  http://pamelageller.com/2016/02/video-rape-les...   \n",
       "2492010  http://therightscoop.com/worst-weve-ever-teste...   \n",
       "2492011  http://freedomoutpost.com/2014/02/government-c...   \n",
       "2492012  http://clashdaily.com/2015/12/hey-cnn-fox-is-a...   \n",
       "\n",
       "                          dt                   hostname  is_IRA  is_first  \\\n",
       "0        2016-04-29 10:51:25               infowars.com       0         1   \n",
       "1        2016-05-24 12:42:06               infowars.com       0         0   \n",
       "2        2016-05-26 19:02:31               infowars.com       0         0   \n",
       "3        2016-05-27 11:35:43               infowars.com       0         0   \n",
       "4        2016-06-01 16:20:17               infowars.com       0         0   \n",
       "5        2016-06-01 17:09:51               infowars.com       0         0   \n",
       "6        2016-06-02 11:07:02               infowars.com       0         0   \n",
       "7        2016-06-02 11:07:23               infowars.com       0         0   \n",
       "8        2016-06-02 11:07:28               infowars.com       0         0   \n",
       "9        2016-06-02 11:07:31               infowars.com       0         0   \n",
       "10       2016-06-02 11:07:33               infowars.com       0         0   \n",
       "11       2016-06-02 11:08:06               infowars.com       0         0   \n",
       "12       2016-06-02 11:08:14               infowars.com       0         0   \n",
       "13       2016-06-02 11:08:14               infowars.com       0         0   \n",
       "14       2016-06-02 11:09:30               infowars.com       0         0   \n",
       "15       2016-06-02 11:09:43               infowars.com       0         0   \n",
       "16       2016-06-02 11:09:55               infowars.com       0         0   \n",
       "17       2016-06-02 11:10:12               infowars.com       0         0   \n",
       "18       2016-06-02 11:11:04               infowars.com       0         0   \n",
       "19       2016-06-02 11:12:32               infowars.com       0         0   \n",
       "20       2016-06-02 11:12:35               infowars.com       0         0   \n",
       "21       2016-06-02 11:13:11               infowars.com       0         0   \n",
       "22       2016-06-02 11:15:47               infowars.com       0         0   \n",
       "23       2016-06-02 11:16:04               infowars.com       0         0   \n",
       "24       2016-06-02 11:18:22               infowars.com       0         0   \n",
       "25       2016-06-02 11:18:31               infowars.com       0         0   \n",
       "26       2016-06-02 11:18:36               infowars.com       0         0   \n",
       "27       2016-06-02 11:18:40               infowars.com       0         0   \n",
       "28       2016-06-02 11:19:07               infowars.com       0         0   \n",
       "29       2016-06-02 11:19:57               infowars.com       0         0   \n",
       "...                      ...                        ...     ...       ...   \n",
       "2491983  2016-10-06 16:31:00          therightscoop.com       1         1   \n",
       "2491984  2016-09-17 10:57:00             neonnettle.com       1         1   \n",
       "2491985  2016-09-14 12:17:00                  bb4sp.com       1         1   \n",
       "2491986  2016-10-10 07:11:00         donaldtrumpnews.co       1         1   \n",
       "2491987  2016-09-14 12:17:00                  bb4sp.com       1         1   \n",
       "2491988  2016-09-11 05:27:00             neonnettle.com       1         1   \n",
       "2491989  2016-09-18 18:38:00          beforeitsnews.com       1         1   \n",
       "2491990  2016-10-07 00:43:00  familysecuritymatters.org       1         1   \n",
       "2491991  2016-11-04 22:25:00              truthfeed.com       1         1   \n",
       "2491992  2016-10-02 18:05:00          therightscoop.com       1         1   \n",
       "2491993  2016-09-17 10:57:00                  bb4sp.com       1         1   \n",
       "2491994  2016-09-17 11:43:00           americannews.com       1         1   \n",
       "2491995  2016-09-30 12:01:00           awarenessact.com       1         1   \n",
       "2491996  2016-10-31 10:26:00              truthfeed.com       1         1   \n",
       "2491997  2016-10-28 11:19:00         donaldtrumpnews.co       1         1   \n",
       "2491998  2016-11-06 22:56:00              truthfeed.com       1         1   \n",
       "2491999  2016-09-18 05:37:00          therightscoop.com       1         1   \n",
       "2492000  2016-11-08 21:19:00              truthfeed.com       1         1   \n",
       "2492001  2016-09-12 15:11:00                  bb4sp.com       1         1   \n",
       "2492002  2016-08-13 18:46:00      thenewyorkevening.com       1         1   \n",
       "2492003  2016-09-14 12:16:00               rickwells.us       1         1   \n",
       "2492004  2016-09-10 04:11:00                  bb4sp.com       1         1   \n",
       "2492005  2016-10-02 17:42:00                  bb4sp.com       1         1   \n",
       "2492006  2016-09-14 11:57:00                shoebat.com       1         1   \n",
       "2492007  2016-10-11 15:18:00                departed.co       1         1   \n",
       "2492008  2016-10-15 18:32:00                  bb4sp.com       1         1   \n",
       "2492009  2016-08-18 10:14:00           pamelageller.com       1         1   \n",
       "2492010  2016-10-11 11:45:00          therightscoop.com       1         1   \n",
       "2492011  2016-09-13 06:41:00         freedomoutpost.com       1         1   \n",
       "2492012  2016-08-12 02:47:00             clashdaily.com       1         1   \n",
       "\n",
       "         is_source            tweet_id             user_id  \n",
       "0                1  726076431411761152           733838438  \n",
       "1                1  735163983376719872           109065990  \n",
       "2                1  735984491114565633            14505245  \n",
       "3                1  736234437550080000           109065990  \n",
       "4                0  738117991074660356           352537680  \n",
       "5                0  738130465551355904  705518452035997698  \n",
       "6                1  738401546002538496           109065990  \n",
       "7                0  738401637371420673          4921258114  \n",
       "8                0  738401658271588352          2426872238  \n",
       "9                0  738401671361990657  725448266867970049  \n",
       "10               0  738401676571201536  738398383375712256  \n",
       "11               0  738401815494959104           963952604  \n",
       "12               0  738401849468948480           362482415  \n",
       "13               0  738401850894864385          1332367184  \n",
       "14               0  738402167111847936          2828483761  \n",
       "15               0  738402222912966658  735233974486831106  \n",
       "16               0  738402272955277312          1618325365  \n",
       "17               0  738402346330247170          3301022112  \n",
       "18               0  738402562718601216           152208943  \n",
       "19               0  738402930374643714          4493227335  \n",
       "20               0  738402945750945796            97492736  \n",
       "21               0  738403096167092229          3334087930  \n",
       "22               0  738403748402204672          3025921727  \n",
       "23               0  738403819697131520  718285027101032448  \n",
       "24               1  738404398578163712            95918629  \n",
       "25               0  738404439069884416           993451813  \n",
       "26               0  738404457386364929            14505245  \n",
       "27               0  738404473765138433           733838438  \n",
       "28               0  738404589184114692          2799966304  \n",
       "29               0  738404799012425728           227368502  \n",
       "...            ...                 ...                 ...  \n",
       "2491983          1  784068551535579136          1671234620  \n",
       "2491984          1  777099134964686850          1679279490  \n",
       "2491985          1  776032027179122689          2535166748  \n",
       "2491986          1  785377089839099904          1651693646  \n",
       "2491987          1  776032166060830722          2535166748  \n",
       "2491988          1  774841706625794048          1679279490  \n",
       "2491989          0  777577480710418432          1694026190  \n",
       "2491990          1  784192351761817600          2671070290  \n",
       "2491991          1  794666976064872448  789266125485998080  \n",
       "2491992          1  782642797534785536          1671234620  \n",
       "2491993          1  777099102815412224          2606301939  \n",
       "2491994          1  777110667379650560          2606301939  \n",
       "2491995          1  781826272905297920          1679279490  \n",
       "2491996          0  793036334986321921          1679279490  \n",
       "2491997          1  791962534299308034          1676481360  \n",
       "2491998          1  795399386654064640  789266125485998080  \n",
       "2491999          1  777380948237221888          1671234620  \n",
       "2492000          1  796099791121883137  789266125485998080  \n",
       "2492001          1  775351054791835649          2535166748  \n",
       "2492002          1  764533592093450245          4332740714  \n",
       "2492003          1  776031925639254016          2535166748  \n",
       "2492004          1  774460154351849472          1679279490  \n",
       "2492005          1  782636779140546560          1629828379  \n",
       "2492006          1  776027171026591744          2535166748  \n",
       "2492007          1  785862058734710784          1533813962  \n",
       "2492008          1  787360548228706305          2606301939  \n",
       "2492009          1  766216597128241152          1833223908  \n",
       "2492010          1  785808498990813184          1679279490  \n",
       "2492011          1  775585191582658560          2535166748  \n",
       "2492012          1  763929804986908672          4311371968  \n",
       "\n",
       "[2492013 rows x 8 columns]"
      ]
     },
     "execution_count": 59,
     "metadata": {},
     "output_type": "execute_result"
    }
   ],
   "source": [
    "from datetime import datetime\n",
    "\n",
    "tweets_csv = pd.read_csv(\"data/fake-tweets.csv\", dtype=str)\n",
    "tweets_csv = tweets_csv.astype({\"is_IRA\": int, \"is_first\": int, \"is_source\": int, \"dt\": datetime})\n",
    "tweets_csv"
   ]
  },
  {
   "cell_type": "code",
   "execution_count": 62,
   "metadata": {},
   "outputs": [
    {
     "data": {
      "text/plain": [
       "2492013"
      ]
     },
     "execution_count": 62,
     "metadata": {},
     "output_type": "execute_result"
    }
   ],
   "source": [
    "len(tweets_csv[\"tweet_id\"].unique())"
   ]
  },
  {
   "cell_type": "markdown",
   "metadata": {},
   "source": [
    "## tweets_csv有多少url，多少is_source，多少is_first"
   ]
  },
  {
   "cell_type": "code",
   "execution_count": 8,
   "metadata": {},
   "outputs": [
    {
     "data": {
      "text/plain": [
       "(184297, 208367)"
      ]
     },
     "execution_count": 8,
     "metadata": {},
     "output_type": "execute_result"
    }
   ],
   "source": [
    "len(tweets_csv[\"URL\"].unique()), len(tweets_csv[\"user_id\"].unique())"
   ]
  },
  {
   "cell_type": "markdown",
   "metadata": {},
   "source": [
    "## * 基于用户的转发网络构建"
   ]
  },
  {
   "cell_type": "code",
   "execution_count": 26,
   "metadata": {},
   "outputs": [],
   "source": [
    "retweet_network = json.load(open(\"data/fake_retweet_network.json\"))"
   ]
  },
  {
   "cell_type": "code",
   "execution_count": 20,
   "metadata": {},
   "outputs": [
    {
     "name": "stderr",
     "output_type": "stream",
     "text": [
      "\n",
      "188949it [00:26, 22041.75it/s]\u001b[A"
     ]
    },
    {
     "name": "stdout",
     "output_type": "stream",
     "text": [
      "add nodes from ...\n",
      "add edge from ...\n"
     ]
    }
   ],
   "source": [
    "def save_network():\n",
    "    G = nx.DiGraph()\n",
    "\n",
    "    nodes = tweets_csv[\"user_id\"].tolist()\n",
    "    edges = []\n",
    "    dict_tweetid_userid = {}\n",
    "    for _, row in tweets_csv.iterrows():\n",
    "        dict_tweetid_userid[row[\"tweet_id\"]] = row[\"user_id\"]\n",
    "    \n",
    "    for n2, n1 in retweet_network.items():\n",
    "        u1 = dict_tweetid_userid[n1]\n",
    "        u2 = dict_tweetid_userid[n2]\n",
    "        edges.append((u1, u2))\n",
    "\n",
    "    print(\"add nodes from ...\")\n",
    "    G.add_nodes_from(nodes)\n",
    "    print(\"add edge from ...\")\n",
    "    G.add_edges_from(edges)\n",
    "    nx.write_gpickle(G, \"data/fake_network.gpickle\")\n",
    "    \n",
    "save_network()"
   ]
  },
  {
   "cell_type": "code",
   "execution_count": 22,
   "metadata": {},
   "outputs": [],
   "source": [
    "G = nx.read_gpickle(\"data/fake_network.gpickle\")"
   ]
  },
  {
   "cell_type": "code",
   "execution_count": 25,
   "metadata": {},
   "outputs": [
    {
     "data": {
      "text/plain": [
       "208367"
      ]
     },
     "execution_count": 25,
     "metadata": {},
     "output_type": "execute_result"
    }
   ],
   "source": [
    "G.number_of_nodes()"
   ]
  },
  {
   "cell_type": "code",
   "execution_count": 26,
   "metadata": {},
   "outputs": [
    {
     "data": {
      "text/plain": [
       "1031782"
      ]
     },
     "execution_count": 26,
     "metadata": {},
     "output_type": "execute_result"
    }
   ],
   "source": [
    "G.number_of_edges()"
   ]
  },
  {
   "cell_type": "code",
   "execution_count": 29,
   "metadata": {},
   "outputs": [
    {
     "name": "stdout",
     "output_type": "stream",
     "text": [
      "add nodes from ...\n",
      "add edge from ...\n"
     ]
    }
   ],
   "source": [
    "import graph_tool.all as gt\n",
    "\n",
    "def save_network_gt():\n",
    "    g = gt.Graph()\n",
    "\n",
    "    nodes = tweets_csv[\"user_id\"].tolist()\n",
    "    node_map = {n:i for i, n in enumerate(nodes)}\n",
    "    \n",
    "    dict_tweetid_userid = {}\n",
    "    for _, row in tweets_csv.iterrows():\n",
    "        dict_tweetid_userid[row[\"tweet_id\"]] = row[\"user_id\"]\n",
    "    \n",
    "    print(\"add nodes from ...\")\n",
    "    vlist = g.add_vertex(len(nodes))\n",
    "        \n",
    "    edges = []\n",
    "    print(\"add edge from ...\")\n",
    "    for n2, n1 in retweet_network.items():\n",
    "        u1 = node_map[dict_tweetid_userid[n1]]\n",
    "        u2 = node_map[dict_tweetid_userid[n2]]\n",
    "        g.add_edge(g.vertex(u1), g.vertex(u2))\n",
    "\n",
    "    g.save(\"data/fake_network.gt\")\n",
    "    \n",
    "save_network_gt()"
   ]
  },
  {
   "cell_type": "code",
   "execution_count": 262,
   "metadata": {},
   "outputs": [],
   "source": [
    "g = gt.load_graph(\"data/fake_network.gt\")"
   ]
  },
  {
   "cell_type": "code",
   "execution_count": 273,
   "metadata": {},
   "outputs": [
    {
     "data": {
      "text/plain": [
       "0"
      ]
     },
     "execution_count": 273,
     "metadata": {},
     "output_type": "execute_result"
    }
   ],
   "source": [
    "g.vp.CI_out[3]"
   ]
  },
  {
   "cell_type": "code",
   "execution_count": 65,
   "metadata": {},
   "outputs": [],
   "source": [
    "from random import random\n",
    "\n",
    "def deg_sample():\n",
    "    if random() > 0.5:\n",
    "        return np.random.poisson(4), np.random.poisson(4)\n",
    "    else:\n",
    "        return np.random.poisson(20), np.random.poisson(20)\n",
    "    \n",
    "g = gt.random_graph(100, deg_sample)\n",
    "g.save(\"data/test_network.gt\")"
   ]
  },
  {
   "cell_type": "code",
   "execution_count": 73,
   "metadata": {},
   "outputs": [
    {
     "name": "stdout",
     "output_type": "stream",
     "text": [
      "0\n",
      "1\n",
      "2\n",
      "(0, 1)\n"
     ]
    }
   ],
   "source": [
    "# test graph-tool\n",
    "\n",
    "# import graph_tool.draw\n",
    "\n",
    "g = gt.Graph()\n",
    "g.add_vertex(3)\n",
    "g.add_edge(g.vertex(0), g.vertex(1))\n",
    "for v in g.vertices():\n",
    "    print(v)\n",
    "for e in g.edges():\n",
    "    print(e)"
   ]
  },
  {
   "cell_type": "markdown",
   "metadata": {},
   "source": [
    "## Their CI rank\n",
    "\n",
    "data/fake_winners.json"
   ]
  },
  {
   "cell_type": "code",
   "execution_count": 118,
   "metadata": {},
   "outputs": [],
   "source": [
    "winners = json.load(open(\"data/fake_winners.json\"))"
   ]
  },
  {
   "cell_type": "code",
   "execution_count": 82,
   "metadata": {},
   "outputs": [
    {
     "data": {
      "image/png": "[encoded data removed]",
      "text/plain": [
       "<Figure size 432x432 with 1 Axes>"
      ]
     },
     "metadata": {
      "needs_background": "light"
     },
     "output_type": "display_data"
    }
   ],
   "source": [
    "label = [\"first source\", \"source\", \"non-source\"]\n",
    "plt.figure(figsize=(6, 6))\n",
    "\n",
    "# plt.subplot(131)\n",
    "\n",
    "plt.bar(1, len(tweets_csv[tweets_csv[\"is_first\"]==1]), width=0.3)\n",
    "plt.bar(2, len(tweets_csv[tweets_csv[\"is_source\"]==1]), width=0.3)\n",
    "plt.bar(3, len(tweets_csv[tweets_csv[\"is_source\"]==0]), width=0.3)\n",
    "\n",
    "plt.xticks([1, 2, 3], label)\n",
    "plt.xlabel('All users', fontsize=15)\n",
    "plt.ylabel('Number of fake news tweets', fontsize=15)\n",
    "plt.xticks(fontsize=14); plt.yticks(fontsize=14)\n",
    "plt.savefig(\"fig/N-of-all-users.pdf\", dpi=300, bbox_inches='tight')\n",
    "plt.show()\n",
    "plt.tight_layout()\n",
    "plt.close()"
   ]
  },
  {
   "cell_type": "code",
   "execution_count": 3,
   "metadata": {},
   "outputs": [
    {
     "data": {
      "text/plain": [
       "('曾经为source的用户量', 84370)"
      ]
     },
     "execution_count": 3,
     "metadata": {},
     "output_type": "execute_result"
    }
   ],
   "source": [
    "source_tweets = tweets_csv[tweets_csv[\"is_source\"]==1]\n",
    "\"曾经为source的用户量\", len(source_tweets[\"user_id\"].unique())"
   ]
  },
  {
   "cell_type": "markdown",
   "metadata": {},
   "source": [
    "### 分析fake news的source_content"
   ]
  },
  {
   "cell_type": "code",
   "execution_count": 14,
   "metadata": {},
   "outputs": [],
   "source": [
    "import SQLite_handler\n",
    "import importlib\n",
    "importlib.reload(SQLite_handler)\n",
    "    \n",
    "tweet_ids = source_tweets[\"tweet_id\"].tolist()\n",
    "rsts = SQLite_handler.find_source(tweet_ids)"
   ]
  },
  {
   "cell_type": "code",
   "execution_count": 19,
   "metadata": {},
   "outputs": [
    {
     "name": "stdout",
     "output_type": "stream",
     "text": [
      "amount of tweets of which source can be found: 876655\n",
      "Twitter Web Client - 33.36%\n",
      "dlvr.it - 22.55%\n",
      "Twitter for iPhone - 7.94%\n",
      "Facebook - 7.71%\n",
      "Twitter for Android - 5.80%\n",
      "Twitter for iPad - 3.15%\n",
      "Put your button on any page!  - 2.81%\n",
      "Mobile Web - 2.48%\n",
      "twitterfeed - 2.23%\n",
      "IFTTT - 1.62%\n",
      "Hootsuite - 1.04%\n",
      "SocialOomph - 0.88%\n",
      "Sprout Social - 0.86%\n",
      "Linkis.com - 0.84%\n",
      "Buffer - 0.64%\n",
      "WordPress.com - 0.47%\n",
      "Rignite - 0.41%\n",
      "OS X - 0.32%\n",
      "TweetDeck - 0.32%\n",
      "Mobile Web (M5) - 0.26%\n"
     ]
    }
   ],
   "source": [
    "count = [r[\"source_content\"] for r in rsts if r[\"source_content\"] != -1]\n",
    "_sum = len(count)\n",
    "print(\"amount of tweets of which source can be found:\", _sum)\n",
    "count = Counter(count)\n",
    "\n",
    "for k, v in count.most_common(20):\n",
    "    print(k, '- {:.2%}'.format(v / _sum))"
   ]
  },
  {
   "cell_type": "code",
   "execution_count": 86,
   "metadata": {},
   "outputs": [
    {
     "data": {
      "text/plain": [
       "('曾经为first source的用户量', 24446)"
      ]
     },
     "execution_count": 86,
     "metadata": {},
     "output_type": "execute_result"
    }
   ],
   "source": [
    "first_tweets = tweets_csv[tweets_csv[\"is_first\"]==1]\n",
    "\"曾经为first source的用户量\", len(first_tweets[\"user_id\"].unique())"
   ]
  },
  {
   "cell_type": "code",
   "execution_count": 31,
   "metadata": {},
   "outputs": [
    {
     "data": {
      "text/plain": [
       "('IRA用户量', 92)"
      ]
     },
     "execution_count": 31,
     "metadata": {},
     "output_type": "execute_result"
    }
   ],
   "source": [
    "ira_tweets = tweets_csv[tweets_csv[\"is_IRA\"]==1]\n",
    "'IRA用户量', len(ira_tweets[\"user_id\"].unique())"
   ]
  },
  {
   "cell_type": "markdown",
   "metadata": {},
   "source": [
    "说明并没有匿名用户存在，非常好"
   ]
  },
  {
   "cell_type": "code",
   "execution_count": 93,
   "metadata": {},
   "outputs": [
    {
     "data": {
      "image/png": "[encoded data removed]",
      "text/plain": [
       "<Figure size 432x432 with 1 Axes>"
      ]
     },
     "metadata": {
      "needs_background": "light"
     },
     "output_type": "display_data"
    }
   ],
   "source": [
    "label = [\"first source\", \"source\", \"non-source\"]\n",
    "plt.figure(figsize=(6, 6))\n",
    "\n",
    "# plt.subplot(131)\n",
    "plt.bar(1, len(ira_tweets[ira_tweets[\"is_first\"]==1]), width=0.3)\n",
    "plt.bar(2, len(ira_tweets[ira_tweets[\"is_source\"]==1]), width=0.3)\n",
    "plt.bar(3, len(ira_tweets[ira_tweets[\"is_source\"]==0]), width=0.3)\n",
    "\n",
    "# label = [\"pro-hillary\\n{0:.0%}\".format(count[0] / (count[0]+count[1])), \"pro-trump\\n{0:.0%}\".format(count[1] / (count[0]+count[1]))]\n",
    "plt.xticks([1, 2, 3], label)\n",
    "plt.xlabel('Only IRA', fontsize=15)\n",
    "plt.ylabel('Number of fake news tweets', fontsize=15)\n",
    "plt.xticks(fontsize=14); plt.yticks(fontsize=14)\n",
    "plt.savefig(\"fig/N-of-only-IRA.pdf\", dpi=300, bbox_inches='tight')\n",
    "plt.show()\n",
    "plt.tight_layout()\n",
    "plt.close()"
   ]
  },
  {
   "cell_type": "markdown",
   "metadata": {},
   "source": [
    "## The influence of IRAs in fake news spreading"
   ]
  },
  {
   "cell_type": "markdown",
   "metadata": {},
   "source": [
    "### IRA涉及了哪些URL"
   ]
  },
  {
   "cell_type": "code",
   "execution_count": 94,
   "metadata": {},
   "outputs": [
    {
     "data": {
      "text/plain": [
       "(1274, 344, 696, 600)"
      ]
     },
     "execution_count": 94,
     "metadata": {},
     "output_type": "execute_result"
    }
   ],
   "source": [
    "ira_url = set(ira_tweets[\"URL\"])\n",
    "ira_first_url = set(ira_tweets[ira_tweets[\"is_first\"]==1][\"URL\"])\n",
    "ira_source_url = set(ira_tweets[ira_tweets[\"is_source\"]==1][\"URL\"])\n",
    "non_source_url = set(ira_tweets[ira_tweets[\"is_source\"]==0][\"URL\"])\n",
    "\n",
    "len(ira_url), len(ira_first_url), len(ira_source_url), len(non_source_url)"
   ]
  },
  {
   "cell_type": "markdown",
   "metadata": {},
   "source": [
    "### IRA涉及的URL影响了多少其他人？"
   ]
  },
  {
   "cell_type": "code",
   "execution_count": 95,
   "metadata": {},
   "outputs": [
    {
     "name": "stderr",
     "output_type": "stream",
     "text": [
      "2492013it [02:15, 18381.03it/s]\n"
     ]
    },
    {
     "data": {
      "text/plain": [
       "(263591, 599, 74070, 202404)"
      ]
     },
     "execution_count": 95,
     "metadata": {},
     "output_type": "execute_result"
    }
   ],
   "source": [
    "from tqdm import tqdm\n",
    "\n",
    "cnt = 0\n",
    "cnt_first = 0\n",
    "cnt_source = 0\n",
    "cnt_non = 0\n",
    "for i, row in tqdm(tweets_csv.iterrows()):\n",
    "    if row[\"URL\"] in ira_url:\n",
    "        cnt += 1\n",
    "    if row[\"URL\"] in ira_first_url:\n",
    "        cnt_first += 1\n",
    "    if row[\"URL\"] in ira_source_url:\n",
    "        cnt_source += 1\n",
    "    if row[\"URL\"] in non_source_url:\n",
    "        cnt_non += 1\n",
    "cnt, cnt_first, cnt_source, cnt_non"
   ]
  },
  {
   "cell_type": "code",
   "execution_count": 97,
   "metadata": {},
   "outputs": [
    {
     "data": {
      "image/png": "[encoded data removed]",
      "text/plain": [
       "<Figure size 432x432 with 1 Axes>"
      ]
     },
     "metadata": {
      "needs_background": "light"
     },
     "output_type": "display_data"
    }
   ],
   "source": [
    "label = [\"source\", \"urls\", \"tweets\"]\n",
    "plt.figure(figsize=(6, 6))\n",
    "\n",
    "# plt.subplot(131)\n",
    "\n",
    "plt.bar(1, len(ira_tweets[ira_tweets[\"is_source\"]==1]), width=0.3)\n",
    "plt.bar(2, len(ira_source_url), width=0.3)\n",
    "plt.bar(3, cnt_source, width=0.3)\n",
    "\n",
    "# label = [\"pro-hillary\\n{0:.0%}\".format(count[0] / (count[0]+count[1])), \"pro-trump\\n{0:.0%}\".format(count[1] / (count[0]+count[1]))]\n",
    "plt.xticks([1, 2, 3], label)\n",
    "# plt.xlabel('All users', fontsize=15)\n",
    "plt.ylabel('Number', fontsize=15)\n",
    "plt.xticks(fontsize=14); plt.yticks(fontsize=14)\n",
    "# plt.yscale(\"log\")\n",
    "plt.savefig(\"fig/ira-source.pdf\", dpi=300, bbox_inches='tight')\n",
    "plt.show()\n",
    "plt.tight_layout()\n",
    "plt.close()"
   ]
  },
  {
   "cell_type": "code",
   "execution_count": 98,
   "metadata": {},
   "outputs": [
    {
     "data": {
      "image/png": "[encoded data removed]",
      "text/plain": [
       "<Figure size 432x432 with 1 Axes>"
      ]
     },
     "metadata": {
      "needs_background": "light"
     },
     "output_type": "display_data"
    }
   ],
   "source": [
    "label = [\"non source\", \"urls\", \"tweets\"]\n",
    "plt.figure(figsize=(6, 6))\n",
    "\n",
    "# plt.subplot(131)\n",
    "\n",
    "plt.bar(1, len(ira_tweets[ira_tweets[\"is_source\"]==0]), width=0.3)\n",
    "plt.bar(2, len(non_source_url), width=0.3)\n",
    "plt.bar(3, cnt_non, width=0.3)\n",
    "\n",
    "# label = [\"pro-hillary\\n{0:.0%}\".format(count[0] / (count[0]+count[1])), \"pro-trump\\n{0:.0%}\".format(count[1] / (count[0]+count[1]))]\n",
    "plt.xticks([1, 2, 3], label)\n",
    "# plt.xlabel('All users', fontsize=15)\n",
    "plt.ylabel('Number', fontsize=15)\n",
    "plt.xticks(fontsize=14); plt.yticks(fontsize=14)\n",
    "# plt.yscale(\"log\")\n",
    "plt.savefig(\"fig/ira-source.pdf\", dpi=300, bbox_inches='tight')\n",
    "plt.show()\n",
    "plt.tight_layout()\n",
    "plt.close()"
   ]
  },
  {
   "cell_type": "code",
   "execution_count": 99,
   "metadata": {},
   "outputs": [
    {
     "data": {
      "text/plain": [
       "13.521723088275989"
      ]
     },
     "execution_count": 99,
     "metadata": {},
     "output_type": "execute_result"
    }
   ],
   "source": [
    "len(tweets_csv) / len(tweets_csv[\"URL\"].unique())"
   ]
  },
  {
   "cell_type": "code",
   "execution_count": 100,
   "metadata": {},
   "outputs": [
    {
     "data": {
      "text/plain": [
       "1.228448275862069"
      ]
     },
     "execution_count": 100,
     "metadata": {},
     "output_type": "execute_result"
    }
   ],
   "source": [
    "len(ira_tweets[ira_tweets[\"is_source\"]==1]) / len(ira_source_url)"
   ]
  },
  {
   "cell_type": "code",
   "execution_count": 101,
   "metadata": {},
   "outputs": [
    {
     "data": {
      "text/plain": [
       "337.34"
      ]
     },
     "execution_count": 101,
     "metadata": {},
     "output_type": "execute_result"
    }
   ],
   "source": [
    "cnt_non / len(non_source_url)"
   ]
  },
  {
   "cell_type": "markdown",
   "metadata": {},
   "source": [
    "## IRA的被转发情况"
   ]
  },
  {
   "cell_type": "code",
   "execution_count": 102,
   "metadata": {},
   "outputs": [],
   "source": [
    "all_tweets = pd.read_csv(\"data/ira_tweets_csv_hashed.csv\", \n",
    "                         usecols=[\"tweetid\", \"userid\", \"retweet_count\"])"
   ]
  },
  {
   "cell_type": "code",
   "execution_count": 104,
   "metadata": {},
   "outputs": [
    {
     "data": {
      "text/html": [
       "<div>\n",
       "<style scoped>\n",
       "    .dataframe tbody tr th:only-of-type {\n",
       "        vertical-align: middle;\n",
       "    }\n",
       "\n",
       "    .dataframe tbody tr th {\n",
       "        vertical-align: top;\n",
       "    }\n",
       "\n",
       "    .dataframe thead th {\n",
       "        text-align: right;\n",
       "    }\n",
       "</style>\n",
       "<table border=\"1\" class=\"dataframe\">\n",
       "  <thead>\n",
       "    <tr style=\"text-align: right;\">\n",
       "      <th></th>\n",
       "      <th>tweetid</th>\n",
       "      <th>retweet_count</th>\n",
       "    </tr>\n",
       "  </thead>\n",
       "  <tbody>\n",
       "    <tr>\n",
       "      <th>count</th>\n",
       "      <td>8.550000e+02</td>\n",
       "      <td>855.000000</td>\n",
       "    </tr>\n",
       "    <tr>\n",
       "      <th>mean</th>\n",
       "      <td>7.816363e+17</td>\n",
       "      <td>9.987135</td>\n",
       "    </tr>\n",
       "    <tr>\n",
       "      <th>std</th>\n",
       "      <td>1.369839e+16</td>\n",
       "      <td>44.360178</td>\n",
       "    </tr>\n",
       "    <tr>\n",
       "      <th>min</th>\n",
       "      <td>7.345768e+17</td>\n",
       "      <td>0.000000</td>\n",
       "    </tr>\n",
       "    <tr>\n",
       "      <th>25%</th>\n",
       "      <td>7.769366e+17</td>\n",
       "      <td>0.000000</td>\n",
       "    </tr>\n",
       "    <tr>\n",
       "      <th>50%</th>\n",
       "      <td>7.818376e+17</td>\n",
       "      <td>0.000000</td>\n",
       "    </tr>\n",
       "    <tr>\n",
       "      <th>75%</th>\n",
       "      <td>7.942575e+17</td>\n",
       "      <td>1.000000</td>\n",
       "    </tr>\n",
       "    <tr>\n",
       "      <th>max</th>\n",
       "      <td>7.961374e+17</td>\n",
       "      <td>640.000000</td>\n",
       "    </tr>\n",
       "  </tbody>\n",
       "</table>\n",
       "</div>"
      ],
      "text/plain": [
       "            tweetid  retweet_count\n",
       "count  8.550000e+02     855.000000\n",
       "mean   7.816363e+17       9.987135\n",
       "std    1.369839e+16      44.360178\n",
       "min    7.345768e+17       0.000000\n",
       "25%    7.769366e+17       0.000000\n",
       "50%    7.818376e+17       0.000000\n",
       "75%    7.942575e+17       1.000000\n",
       "max    7.961374e+17     640.000000"
      ]
     },
     "execution_count": 104,
     "metadata": {},
     "output_type": "execute_result"
    }
   ],
   "source": [
    "ira_id = set(ira_tweets[ira_tweets[\"is_source\"] == 1][\"tweet_id\"])\n",
    "df = all_tweets.loc[all_tweets['tweetid'].isin(ira_id)]\n",
    "df.describe()"
   ]
  },
  {
   "cell_type": "markdown",
   "metadata": {},
   "source": [
    "# 用户分析 （Group）"
   ]
  },
  {
   "cell_type": "code",
   "execution_count": 20,
   "metadata": {},
   "outputs": [
    {
     "data": {
      "text/plain": [
       "4855687055            8738\n",
       "4831603043            7334\n",
       "3374126201            4844\n",
       "2242085304            4732\n",
       "122455671             3738\n",
       "758652815996776448    2956\n",
       "4906718786            2908\n",
       "2462473820            2879\n",
       "750517084166193156    2766\n",
       "382921457             2707\n",
       "751963872899305472    2703\n",
       "1075296265            2605\n",
       "60893069              2594\n",
       "759317433345769472    2491\n",
       "825501626             2476\n",
       "763982421297553408    2405\n",
       "707278892801765377    2376\n",
       "2700350600            2338\n",
       "746875038901633024    2324\n",
       "766499969696169984    2321\n",
       "755614943039352832    2189\n",
       "3274720530            2169\n",
       "4857584175            2158\n",
       "763518863212511232    2136\n",
       "765648314159210496    2112\n",
       "Name: is_fake, dtype: int64"
      ]
     },
     "execution_count": 20,
     "metadata": {},
     "output_type": "execute_result"
    }
   ],
   "source": [
    "user_count = pd.value_counts(tweets_csv[\"user_id\"]).rename(\"is_fake\")\n",
    "user_count.head(25)\n",
    "# type(user_count)"
   ]
  },
  {
   "cell_type": "markdown",
   "metadata": {},
   "source": [
    "## TOP sources"
   ]
  },
  {
   "cell_type": "code",
   "execution_count": 21,
   "metadata": {},
   "outputs": [
    {
     "data": {
      "text/plain": [
       "user_id\n",
       "4855687055            8610\n",
       "4831603043            7332\n",
       "3374126201            4844\n",
       "2242085304            4732\n",
       "122455671             3738\n",
       "758652815996776448    2955\n",
       "2462473820            2878\n",
       "4906718786            2827\n",
       "750517084166193156    2766\n",
       "382921457             2706\n",
       "751963872899305472    2702\n",
       "1075296265            2605\n",
       "60893069              2520\n",
       "759317433345769472    2486\n",
       "825501626             2460\n",
       "763982421297553408    2405\n",
       "707278892801765377    2376\n",
       "2700350600            2338\n",
       "746875038901633024    2324\n",
       "766499969696169984    2321\n",
       "755614943039352832    2189\n",
       "4857584175            2158\n",
       "763518863212511232    2136\n",
       "3274720530            2128\n",
       "765648314159210496    2112\n",
       "Name: is_source, dtype: int64"
      ]
     },
     "execution_count": 21,
     "metadata": {},
     "output_type": "execute_result"
    }
   ],
   "source": [
    "user_sources_count = tweets_csv[\"is_source\"].groupby(tweets_csv[\"user_id\"]).sum().sort_values(ascending=False)\n",
    "user_sources_count.head(25)"
   ]
  },
  {
   "cell_type": "code",
   "execution_count": 22,
   "metadata": {},
   "outputs": [
    {
     "data": {
      "text/plain": [
       "8610"
      ]
     },
     "execution_count": 22,
     "metadata": {},
     "output_type": "execute_result"
    }
   ],
   "source": [
    "user_sources_count[\"4855687055\"]"
   ]
  },
  {
   "cell_type": "code",
   "execution_count": 50,
   "metadata": {},
   "outputs": [
    {
     "name": "stdout",
     "output_type": "stream",
     "text": [
      "4855687055 -1\n",
      "4831603043 -1\n",
      "3374126201 -1\n",
      "2242085304 -1\n",
      "122455671 -1\n",
      "758652815996776448 -1\n",
      "2462473820 -1\n",
      "4906718786 -1\n",
      "750517084166193156 -1\n",
      "382921457 -1\n",
      "751963872899305472 -1\n",
      "1075296265 -1\n",
      "60893069 -1\n",
      "759317433345769472 -1\n",
      "825501626 -1\n",
      "763982421297553408 -1\n",
      "707278892801765377 -1\n",
      "2700350600 -1\n",
      "746875038901633024 -1\n",
      "766499969696169984 -1\n",
      "755614943039352832 -1\n",
      "4857584175 -1\n",
      "763518863212511232 -1\n",
      "3274720530 -1\n",
      "765648314159210496 -1\n"
     ]
    }
   ],
   "source": [
    "for uid in user_sources_count.head(25).index:\n",
    "    try:\n",
    "        print(uid, winners.index(uid) + 1)\n",
    "    except:\n",
    "        print(uid, -1)"
   ]
  },
  {
   "cell_type": "markdown",
   "metadata": {},
   "source": [
    "## TOP first sources"
   ]
  },
  {
   "cell_type": "code",
   "execution_count": 23,
   "metadata": {},
   "outputs": [
    {
     "data": {
      "text/plain": [
       "user_id\n",
       "122455671             3701\n",
       "4831603043            2481\n",
       "60893069              2079\n",
       "4496549793            1814\n",
       "825501626             1689\n",
       "3274720530            1683\n",
       "3374126201            1565\n",
       "14210021              1451\n",
       "137637040             1102\n",
       "18856867              1085\n",
       "18208120              1028\n",
       "138092553              916\n",
       "634330366              881\n",
       "112732163              851\n",
       "359122436              781\n",
       "1494835716             775\n",
       "166721424              763\n",
       "1246177122             759\n",
       "2270900414             744\n",
       "3326947147             733\n",
       "2507996790             708\n",
       "386235552              682\n",
       "750517084166193156     679\n",
       "4578277935             674\n",
       "466090255              674\n",
       "Name: is_first, dtype: int64"
      ]
     },
     "execution_count": 23,
     "metadata": {},
     "output_type": "execute_result"
    }
   ],
   "source": [
    "user_first_count = tweets_csv[\"is_first\"].groupby(tweets_csv[\"user_id\"]).sum().sort_values(ascending=False)\n",
    "user_first_count.head(25)"
   ]
  },
  {
   "cell_type": "code",
   "execution_count": 52,
   "metadata": {},
   "outputs": [
    {
     "name": "stdout",
     "output_type": "stream",
     "text": [
      "122455671 -1\n",
      "4831603043 -1\n",
      "60893069 -1\n",
      "4496549793 -1\n",
      "825501626 -1\n",
      "3274720530 -1\n",
      "3374126201 -1\n",
      "14210021 -1\n",
      "137637040 -1\n",
      "18856867 -1\n",
      "18208120 -1\n",
      "138092553 -1\n",
      "634330366 -1\n",
      "112732163 -1\n",
      "359122436 -1\n",
      "1494835716 -1\n",
      "166721424 -1\n",
      "1246177122 -1\n",
      "2270900414 -1\n",
      "3326947147 -1\n",
      "2507996790 -1\n",
      "386235552 -1\n",
      "750517084166193156 -1\n",
      "4578277935 -1\n",
      "466090255 -1\n"
     ]
    }
   ],
   "source": [
    "for uid in user_first_count.head(25).index:\n",
    "    try:\n",
    "        print(uid, winners.index(uid) + 1)\n",
    "    except:\n",
    "        print(uid, -1)"
   ]
  },
  {
   "cell_type": "code",
   "execution_count": 33,
   "metadata": {},
   "outputs": [
    {
     "data": {
      "text/html": [
       "<div>\n",
       "<style scoped>\n",
       "    .dataframe tbody tr th:only-of-type {\n",
       "        vertical-align: middle;\n",
       "    }\n",
       "\n",
       "    .dataframe tbody tr th {\n",
       "        vertical-align: top;\n",
       "    }\n",
       "\n",
       "    .dataframe thead th {\n",
       "        text-align: right;\n",
       "    }\n",
       "</style>\n",
       "<table border=\"1\" class=\"dataframe\">\n",
       "  <thead>\n",
       "    <tr style=\"text-align: right;\">\n",
       "      <th></th>\n",
       "      <th>is_fake</th>\n",
       "      <th>is_first</th>\n",
       "      <th>is_source</th>\n",
       "      <th>source_rate</th>\n",
       "      <th>first_rate</th>\n",
       "      <th>first_source_rate</th>\n",
       "    </tr>\n",
       "  </thead>\n",
       "  <tbody>\n",
       "    <tr>\n",
       "      <th>4855687055</th>\n",
       "      <td>8738</td>\n",
       "      <td>327</td>\n",
       "      <td>8610</td>\n",
       "      <td>0.985351</td>\n",
       "      <td>0.037423</td>\n",
       "      <td>0.037979</td>\n",
       "    </tr>\n",
       "    <tr>\n",
       "      <th>4831603043</th>\n",
       "      <td>7334</td>\n",
       "      <td>2481</td>\n",
       "      <td>7332</td>\n",
       "      <td>0.999727</td>\n",
       "      <td>0.338287</td>\n",
       "      <td>0.338380</td>\n",
       "    </tr>\n",
       "    <tr>\n",
       "      <th>3374126201</th>\n",
       "      <td>4844</td>\n",
       "      <td>1565</td>\n",
       "      <td>4844</td>\n",
       "      <td>1.000000</td>\n",
       "      <td>0.323080</td>\n",
       "      <td>0.323080</td>\n",
       "    </tr>\n",
       "    <tr>\n",
       "      <th>2242085304</th>\n",
       "      <td>4732</td>\n",
       "      <td>183</td>\n",
       "      <td>4732</td>\n",
       "      <td>1.000000</td>\n",
       "      <td>0.038673</td>\n",
       "      <td>0.038673</td>\n",
       "    </tr>\n",
       "    <tr>\n",
       "      <th>122455671</th>\n",
       "      <td>3738</td>\n",
       "      <td>3701</td>\n",
       "      <td>3738</td>\n",
       "      <td>1.000000</td>\n",
       "      <td>0.990102</td>\n",
       "      <td>0.990102</td>\n",
       "    </tr>\n",
       "  </tbody>\n",
       "</table>\n",
       "</div>"
      ],
      "text/plain": [
       "            is_fake  is_first  is_source  source_rate  first_rate  \\\n",
       "4855687055     8738       327       8610     0.985351    0.037423   \n",
       "4831603043     7334      2481       7332     0.999727    0.338287   \n",
       "3374126201     4844      1565       4844     1.000000    0.323080   \n",
       "2242085304     4732       183       4732     1.000000    0.038673   \n",
       "122455671      3738      3701       3738     1.000000    0.990102   \n",
       "\n",
       "            first_source_rate  \n",
       "4855687055           0.037979  \n",
       "4831603043           0.338380  \n",
       "3374126201           0.323080  \n",
       "2242085304           0.038673  \n",
       "122455671            0.990102  "
      ]
     },
     "execution_count": 33,
     "metadata": {},
     "output_type": "execute_result"
    }
   ],
   "source": [
    "users = pd.concat([user_count, user_first_count, user_sources_count], axis=1, sort=False)\n",
    "users[\"source_rate\"] = users[\"is_source\"] / users[\"is_fake\"]\n",
    "users[\"first_rate\"] = users[\"is_first\"] / users[\"is_fake\"]\n",
    "users[\"first_source_rate\"] = users[\"is_first\"] / users[\"is_source\"]\n",
    "users = users.fillna(0)\n",
    "users.head()"
   ]
  },
  {
   "cell_type": "markdown",
   "metadata": {},
   "source": [
    "## 根据Get_User爬虫获取的信息进一步补充users数据项"
   ]
  },
  {
   "cell_type": "code",
   "execution_count": 35,
   "metadata": {},
   "outputs": [],
   "source": [
    "user_info = pd.DataFrame([json.loads(line.strip()) for line in open(\"data/fake-users-info.json\")])\n",
    "user_info = user_info.rename(columns={'id_str': 'user_id'})\n",
    "user_info = user_info.set_index(\"user_id\")\n",
    "\n",
    "tmp = pd.concat([users, user_info], axis=1, join=\"inner\")\n",
    "tmp[\"message\"].fillna(\"User going well.\", inplace=True)"
   ]
  },
  {
   "cell_type": "code",
   "execution_count": 30,
   "metadata": {},
   "outputs": [],
   "source": [
    "tmp.to_csv(\"data/fake_users.csv\")"
   ]
  },
  {
   "cell_type": "markdown",
   "metadata": {},
   "source": [
    "# 全面分析涉及到的用户特征"
   ]
  },
  {
   "cell_type": "code",
   "execution_count": 36,
   "metadata": {},
   "outputs": [],
   "source": [
    "users = tmp\n",
    "# users = pd.read_csv(\"data/fake_users.csv\")"
   ]
  },
  {
   "cell_type": "code",
   "execution_count": 45,
   "metadata": {},
   "outputs": [],
   "source": [
    "# 用户已经被注销的那些tweets\n",
    "\n",
    "tweets_csv[tweets_csv[\"user_id\"].isin(users[users[\"message\"]!=\"User going well.\"].index)][\"tweet_id\"].to_csv(\"data/tweets_id_user_not_found.csv\")"
   ]
  },
  {
   "cell_type": "code",
   "execution_count": 303,
   "metadata": {},
   "outputs": [
    {
     "data": {
      "image/png": "[encoded data removed]",
      "text/plain": [
       "<Figure size 576x432 with 1 Axes>"
      ]
     },
     "metadata": {
      "needs_background": "light"
     },
     "output_type": "display_data"
    }
   ],
   "source": [
    "def get_cdf_pdf(data, mini, maxi, step, norm=True):\n",
    "    x = [float(i) for i in np.arange(mini, maxi, step)]\n",
    "    cdf = [0] * len(x)\n",
    "    pdf = [0] * len(x)\n",
    "    count = 0\n",
    "    for d in data:\n",
    "        d = float(d)\n",
    "        if d < mini or d > maxi:\n",
    "            continue\n",
    "        count += 1\n",
    "        for i in range(len(x)):\n",
    "            if i == (len(x) - 1) and d >= x[i]:\n",
    "                pdf[i] += 1\n",
    "            elif d >= x[i] and d < x[i+1]:\n",
    "                pdf[i] += 1\n",
    "\n",
    "            if d >= x[i]:\n",
    "                cdf[i] += 1\n",
    "\n",
    "    if norm:\n",
    "        cdf = [c / count for c in cdf]\n",
    "        pdf = [p / count for p in pdf]\n",
    "\n",
    "    return x, cdf, pdf\n",
    "\n",
    "plt.figure(figsize=(8, 6))\n",
    "x, cdf, pdf = get_cdf_pdf(users[\"is_fake\"], 0, 10000, 100)\n",
    "plt.plot(x, cdf, label=\"participant\")\n",
    "x, cdf, pdf = get_cdf_pdf(users[\"is_source\"], 0, 10000, 100)\n",
    "plt.plot(x, cdf, label=\"source\")\n",
    "x, cdf, pdf = get_cdf_pdf(users[\"is_first\"], 0, 10000, 100)\n",
    "plt.plot(x, cdf, label=\"first source\")\n",
    "# plt.title('Distribution of size of fake news ', fontsize=15)\n",
    "plt.ylabel('CCDF', fontsize=14)\n",
    "plt.xlabel('the amount of tweets for each user', fontsize=14)\n",
    "plt.xticks(fontsize=13); plt.yticks(fontsize=13)\n",
    "plt.yscale(\"log\")\n",
    "plt.xscale(\"log\")\n",
    "plt.legend(fontsize=13)\n",
    "plt.savefig('fig/distribution_starters.pdf', dpi=300)\n",
    "plt.show()\n",
    "plt.close()"
   ]
  },
  {
   "cell_type": "code",
   "execution_count": 294,
   "metadata": {},
   "outputs": [
    {
     "data": {
      "image/png": "[encoded data removed]",
      "text/plain": [
       "<Figure size 576x432 with 1 Axes>"
      ]
     },
     "metadata": {
      "needs_background": "light"
     },
     "output_type": "display_data"
    }
   ],
   "source": [
    "plt.figure(figsize=(8, 6))\n",
    "x, cdf, pdf = get_cdf_pdf(users[\"source_rate\"], 0, 1, 0.02)\n",
    "plt.plot(x, cdf)\n",
    "plt.ylabel('CCDF', fontsize=14)\n",
    "plt.xlabel('source rate', fontsize=14)\n",
    "plt.xticks(fontsize=13); plt.yticks(fontsize=13)\n",
    "# plt.yscale(\"log\"); plt.xscale(\"log\")\n",
    "plt.savefig('fig/distribution_starters.pdf', dpi=300)\n",
    "plt.show()\n",
    "plt.close()"
   ]
  },
  {
   "cell_type": "markdown",
   "metadata": {},
   "source": [
    "## 用户分类source top500与其他用户\n",
    "\n",
    "为了研究source users的特点，需要进行对比，目前用户都是跟fake news有关（至少发布一条），选择其他剩余的全部用户作为对比组"
   ]
  },
  {
   "cell_type": "code",
   "execution_count": 99,
   "metadata": {},
   "outputs": [],
   "source": [
    "top_users = users.sort_values(\"is_source\", ascending=False).head(500)\n",
    "top_users.to_csv(\"data/top500-fake-source-users.csv\") # save top 500\n",
    "other_users = users.sort_values(\"is_source\", ascending=False).iloc[500:]"
   ]
  },
  {
   "cell_type": "code",
   "execution_count": 101,
   "metadata": {},
   "outputs": [],
   "source": [
    "users[\"is_source_top\"] = (users[\"is_fake\"] >= 242)"
   ]
  },
  {
   "cell_type": "markdown",
   "metadata": {},
   "source": [
    "## 0. 多少用户被suspened，或not found "
   ]
  },
  {
   "cell_type": "code",
   "execution_count": 123,
   "metadata": {},
   "outputs": [],
   "source": [
    "prop_df = (users[\"message\"]\n",
    "           .groupby(users[\"is_source_top\"])\n",
    "           .value_counts(normalize=True)\n",
    "           .rename(\"Prop\")\n",
    "           .reset_index())"
   ]
  },
  {
   "cell_type": "code",
   "execution_count": 124,
   "metadata": {},
   "outputs": [
    {
     "data": {
      "text/html": [
       "<div>\n",
       "<style scoped>\n",
       "    .dataframe tbody tr th:only-of-type {\n",
       "        vertical-align: middle;\n",
       "    }\n",
       "\n",
       "    .dataframe tbody tr th {\n",
       "        vertical-align: top;\n",
       "    }\n",
       "\n",
       "    .dataframe thead th {\n",
       "        text-align: right;\n",
       "    }\n",
       "</style>\n",
       "<table border=\"1\" class=\"dataframe\">\n",
       "  <thead>\n",
       "    <tr style=\"text-align: right;\">\n",
       "      <th></th>\n",
       "      <th>is_source_top</th>\n",
       "      <th>message</th>\n",
       "      <th>Prop</th>\n",
       "    </tr>\n",
       "  </thead>\n",
       "  <tbody>\n",
       "    <tr>\n",
       "      <th>0</th>\n",
       "      <td>False</td>\n",
       "      <td>User going well.</td>\n",
       "      <td>0.827816</td>\n",
       "    </tr>\n",
       "    <tr>\n",
       "      <th>1</th>\n",
       "      <td>False</td>\n",
       "      <td>User has been suspended.</td>\n",
       "      <td>0.093130</td>\n",
       "    </tr>\n",
       "    <tr>\n",
       "      <th>2</th>\n",
       "      <td>False</td>\n",
       "      <td>User not found.</td>\n",
       "      <td>0.079055</td>\n",
       "    </tr>\n",
       "    <tr>\n",
       "      <th>3</th>\n",
       "      <td>True</td>\n",
       "      <td>User going well.</td>\n",
       "      <td>0.720036</td>\n",
       "    </tr>\n",
       "    <tr>\n",
       "      <th>4</th>\n",
       "      <td>True</td>\n",
       "      <td>User has been suspended.</td>\n",
       "      <td>0.238819</td>\n",
       "    </tr>\n",
       "    <tr>\n",
       "      <th>5</th>\n",
       "      <td>True</td>\n",
       "      <td>User not found.</td>\n",
       "      <td>0.041145</td>\n",
       "    </tr>\n",
       "  </tbody>\n",
       "</table>\n",
       "</div>"
      ],
      "text/plain": [
       "   is_source_top                   message      Prop\n",
       "0          False          User going well.  0.827816\n",
       "1          False  User has been suspended.  0.093130\n",
       "2          False           User not found.  0.079055\n",
       "3           True          User going well.  0.720036\n",
       "4           True  User has been suspended.  0.238819\n",
       "5           True           User not found.  0.041145"
      ]
     },
     "execution_count": 124,
     "metadata": {},
     "output_type": "execute_result"
    }
   ],
   "source": [
    "prop_df"
   ]
  },
  {
   "cell_type": "code",
   "execution_count": 129,
   "metadata": {},
   "outputs": [
    {
     "data": {
      "text/plain": [
       "User going well.            172369\n",
       "User has been suspended.     19568\n",
       "User not found.              16430\n",
       "Name: message, dtype: int64"
      ]
     },
     "execution_count": 129,
     "metadata": {},
     "output_type": "execute_result"
    }
   ],
   "source": [
    "users[\"message\"].value_counts()"
   ]
  },
  {
   "cell_type": "code",
   "execution_count": 125,
   "metadata": {},
   "outputs": [
    {
     "name": "stdout",
     "output_type": "stream",
     "text": [
      "User going well.            0.827238\n",
      "User has been suspended.    0.093911\n",
      "User not found.             0.078851\n",
      "Name: message, dtype: float64\n"
     ]
    },
    {
     "data": {
      "image/png": "[encoded data removed]",
      "text/plain": [
       "<Figure size 432x288 with 1 Axes>"
      ]
     },
     "metadata": {
      "needs_background": "light"
     },
     "output_type": "display_data"
    }
   ],
   "source": [
    "# cnt_not_found = len(users[users[\"code\"]==50]) # 50 not found\n",
    "# cnt_suspened = len(users[users[\"code\"]==63]) # 63 suspened\n",
    "# cnt_exists = len(users) - cnt_not_found - cnt_suspened\n",
    "\n",
    "# height = [cnt_exists, cnt_suspened, cnt_not_found]\n",
    "# bars = ('exists', 'suspened', 'not found')\n",
    "# y_pos = np.arange(len(bars))\n",
    "# plt.xticks(y_pos, bars)\n",
    "# plt.bar(y_pos, height)\n",
    "\n",
    "sns.barplot(x=\"message\", y=\"Prop\", data=prop_df, hue=\"is_source_top\")\n",
    "# users[\"message\"].fillna(\"User going well.\", inplace=True)\n",
    "print(users[\"message\"].value_counts(normalize=True))"
   ]
  },
  {
   "cell_type": "code",
   "execution_count": 130,
   "metadata": {},
   "outputs": [
    {
     "data": {
      "text/plain": [
       "<matplotlib.axes._subplots.AxesSubplot at 0x7fee782125f8>"
      ]
     },
     "execution_count": 130,
     "metadata": {},
     "output_type": "execute_result"
    },
    {
     "data": {
      "image/png": "[encoded data removed]",
      "text/plain": [
       "<Figure size 432x288 with 1 Axes>"
      ]
     },
     "metadata": {
      "needs_background": "light"
     },
     "output_type": "display_data"
    }
   ],
   "source": [
    "sns.countplot(x=\"message\", data=top_users)"
   ]
  },
  {
   "cell_type": "markdown",
   "metadata": {},
   "source": [
    "### 检查为什么会存在not found \n",
    "\n",
    "<span style=\"color:red\">*已经用账号testkaykaykay进行测试，发现是自己主动deactive the account*</span>\n",
    "\n",
    "所以suspened和not found的用户在传播过程中是非常重要的，我们不能放过对他们的研究。"
   ]
  },
  {
   "cell_type": "code",
   "execution_count": 248,
   "metadata": {},
   "outputs": [],
   "source": [
    "uids_not_found = users[users[\"code\"]==50].index"
   ]
  },
  {
   "cell_type": "code",
   "execution_count": 255,
   "metadata": {},
   "outputs": [
    {
     "data": {
      "text/plain": [
       "Index(['137637040', '2711204024', '501567221', '2330112218', '356324005',\n",
       "       '753082489711816704', '4856642956', '292586544', '4895096885',\n",
       "       '105604742',\n",
       "       ...\n",
       "       '90271735', '734874821759229952', '3053971999', '371334115',\n",
       "       '154234924', '136617688', '896136019', '2744985801', '307481163',\n",
       "       '700050080'],\n",
       "      dtype='object', length=16430)"
      ]
     },
     "execution_count": 255,
     "metadata": {},
     "output_type": "execute_result"
    }
   ],
   "source": [
    "uids_not_found"
   ]
  },
  {
   "cell_type": "code",
   "execution_count": 254,
   "metadata": {},
   "outputs": [
    {
     "data": {
      "text/plain": [
       "<module 'SQLite_handler' from '/home/alex/kayzhou/election/SQLite_handler.py'>"
      ]
     },
     "execution_count": 254,
     "metadata": {},
     "output_type": "execute_result"
    }
   ],
   "source": [
    "importlib.reload(SQLite_handler)"
   ]
  },
  {
   "cell_type": "code",
   "execution_count": 256,
   "metadata": {},
   "outputs": [],
   "source": [
    "users_data_not_found = SQLite_handler.find_users(uids_not_found)"
   ]
  },
  {
   "cell_type": "code",
   "execution_count": 275,
   "metadata": {},
   "outputs": [
    {
     "name": "stdout",
     "output_type": "stream",
     "text": [
      "{'user_id': '612933174', 'error': 'not found'}\n",
      "{'user_id': '274551374', 'error': 'not found'}\n",
      "{'user_id': '3271339802', 'error': 'not found'}\n",
      "{'user_id': '757449025243131904', 'error': 'not found'}\n",
      "{'user_id': '706122184985600000', 'error': 'not found'}\n",
      "{'user_id': '2928819864', 'error': 'not found'}\n",
      "{'user_id': '4418720713', 'error': 'not found'}\n",
      "{'user_id': '2201548476', 'error': 'not found'}\n",
      "{'user_id': '78047698', 'error': 'not found'}\n"
     ]
    },
    {
     "data": {
      "text/plain": [
       "9"
      ]
     },
     "execution_count": 275,
     "metadata": {},
     "output_type": "execute_result"
    }
   ],
   "source": [
    "c = 0\n",
    "for u in users_data_not_found:\n",
    "    if \"error\" in u:\n",
    "        print(u)\n",
    "        c += 1\n",
    "c"
   ]
  },
  {
   "cell_type": "code",
   "execution_count": 258,
   "metadata": {},
   "outputs": [],
   "source": [
    "users_data_not_found_large = SQLite_handler.find_users_from_large(uids_not_found)"
   ]
  },
  {
   "cell_type": "code",
   "execution_count": 273,
   "metadata": {},
   "outputs": [
    {
     "data": {
      "text/plain": [
       "2974"
      ]
     },
     "execution_count": 273,
     "metadata": {},
     "output_type": "execute_result"
    }
   ],
   "source": [
    "c = 0\n",
    "for u in users_data_not_found_large:\n",
    "    if \"error\" in u:\n",
    "        c += 1\n",
    "c"
   ]
  },
  {
   "cell_type": "markdown",
   "metadata": {},
   "source": [
    "有2974在users.db中没有找到，其中9个用户在alex.db没有找到，可能是IRA"
   ]
  },
  {
   "cell_type": "markdown",
   "metadata": {},
   "source": [
    "## 1. 地区及语言"
   ]
  },
  {
   "cell_type": "code",
   "execution_count": 138,
   "metadata": {},
   "outputs": [
    {
     "data": {
      "text/plain": [
       "<matplotlib.axes._subplots.AxesSubplot at 0x7fee72571400>"
      ]
     },
     "execution_count": 138,
     "metadata": {},
     "output_type": "execute_result"
    },
    {
     "data": {
      "image/png": "[encoded data removed]",
      "text/plain": [
       "<Figure size 1008x432 with 2 Axes>"
      ]
     },
     "metadata": {
      "needs_background": "light"
     },
     "output_type": "display_data"
    }
   ],
   "source": [
    "plt.figure(figsize=(14, 6))\n",
    "plt.subplot(121)\n",
    "x = top_users.lang.value_counts()[:10]\n",
    "sns.barplot(x=x.index, y=x)\n",
    "plt.subplot(122)\n",
    "x = other_users.lang.value_counts()[:10]\n",
    "sns.barplot(x=x.index, y=x)"
   ]
  },
  {
   "cell_type": "code",
   "execution_count": 142,
   "metadata": {},
   "outputs": [
    {
     "data": {
      "text/plain": [
       "<matplotlib.axes._subplots.AxesSubplot at 0x7fee70946cc0>"
      ]
     },
     "execution_count": 142,
     "metadata": {},
     "output_type": "execute_result"
    },
    {
     "data": {
      "image/png": "[encoded data removed]",
      "text/plain": [
       "<Figure size 1008x432 with 2 Axes>"
      ]
     },
     "metadata": {
      "needs_background": "light"
     },
     "output_type": "display_data"
    }
   ],
   "source": [
    "plt.figure(figsize=(14, 6))\n",
    "plt.subplot(121)\n",
    "x = top_users.geo_enabled.value_counts()\n",
    "sns.barplot(x=x.index, y=x)\n",
    "plt.subplot(122)\n",
    "x = other_users.geo_enabled.value_counts()\n",
    "sns.barplot(x=x.index, y=x)"
   ]
  },
  {
   "cell_type": "code",
   "execution_count": 146,
   "metadata": {},
   "outputs": [
    {
     "data": {
      "text/plain": [
       "<matplotlib.axes._subplots.AxesSubplot at 0x7fee6e76a0f0>"
      ]
     },
     "execution_count": 146,
     "metadata": {},
     "output_type": "execute_result"
    },
    {
     "data": {
      "image/png": "[encoded data removed]",
      "text/plain": [
       "<Figure size 1296x432 with 2 Axes>"
      ]
     },
     "metadata": {
      "needs_background": "light"
     },
     "output_type": "display_data"
    }
   ],
   "source": [
    "plt.figure(figsize=(18, 6))\n",
    "plt.subplot(121)\n",
    "x = top_users.location.value_counts()[:10]\n",
    "# print(top_users.location.value_counts())\n",
    "sns.barplot(x=x.index, y=x)\n",
    "plt.subplot(122)\n",
    "x = other_users.location.value_counts()[:10]\n",
    "# print(other_users.location.value_counts())\n",
    "sns.barplot(x=x.index, y=x)"
   ]
  },
  {
   "cell_type": "markdown",
   "metadata": {},
   "source": [
    "# 2. 是否为验证用户 "
   ]
  },
  {
   "cell_type": "code",
   "execution_count": 148,
   "metadata": {},
   "outputs": [
    {
     "name": "stdout",
     "output_type": "stream",
     "text": [
      "False    288\n",
      "True       2\n",
      "Name: verified, dtype: int64\n",
      "False    171331\n",
      "True        748\n",
      "Name: verified, dtype: int64\n"
     ]
    },
    {
     "data": {
      "text/plain": [
       "<matplotlib.axes._subplots.AxesSubplot at 0x7fee6d579048>"
      ]
     },
     "execution_count": 148,
     "metadata": {},
     "output_type": "execute_result"
    },
    {
     "data": {
      "image/png": "[encoded data removed]",
      "text/plain": [
       "<Figure size 1008x432 with 2 Axes>"
      ]
     },
     "metadata": {
      "needs_background": "light"
     },
     "output_type": "display_data"
    }
   ],
   "source": [
    "plt.figure(figsize=(14, 6))\n",
    "plt.subplot(121)\n",
    "x = top_users.verified.value_counts()\n",
    "print(x)\n",
    "sns.barplot(x=x.index, y=x)\n",
    "plt.subplot(122)\n",
    "x = other_users.verified.value_counts()\n",
    "print(x)\n",
    "sns.barplot(x=x.index, y=x)"
   ]
  },
  {
   "cell_type": "code",
   "execution_count": 310,
   "metadata": {},
   "outputs": [],
   "source": [
    "top_users = users.sort_values(\"is_source\", ascending=False).head(500)\n",
    "top_users.to_csv(\"data/top-fake-source-users.csv\") # save top 500"
   ]
  },
  {
   "cell_type": "markdown",
   "metadata": {},
   "source": [
    "# 3. fake news指标上的数值"
   ]
  },
  {
   "cell_type": "code",
   "execution_count": 307,
   "metadata": {},
   "outputs": [
    {
     "data": {
      "text/html": [
       "<div>\n",
       "<style scoped>\n",
       "    .dataframe tbody tr th:only-of-type {\n",
       "        vertical-align: middle;\n",
       "    }\n",
       "\n",
       "    .dataframe tbody tr th {\n",
       "        vertical-align: top;\n",
       "    }\n",
       "\n",
       "    .dataframe thead th {\n",
       "        text-align: right;\n",
       "    }\n",
       "</style>\n",
       "<table border=\"1\" class=\"dataframe\">\n",
       "  <thead>\n",
       "    <tr style=\"text-align: right;\">\n",
       "      <th></th>\n",
       "      <th>is_fake</th>\n",
       "      <th>is_first</th>\n",
       "      <th>is_source</th>\n",
       "      <th>source_rate</th>\n",
       "      <th>first_rate</th>\n",
       "      <th>first_source_rate</th>\n",
       "      <th>code</th>\n",
       "      <th>favourites_count</th>\n",
       "      <th>followers_count</th>\n",
       "      <th>friends_count</th>\n",
       "      <th>id</th>\n",
       "      <th>listed_count</th>\n",
       "      <th>statuses_count</th>\n",
       "      <th>time_zone</th>\n",
       "      <th>utc_offset</th>\n",
       "    </tr>\n",
       "  </thead>\n",
       "  <tbody>\n",
       "    <tr>\n",
       "      <th>count</th>\n",
       "      <td>500.000000</td>\n",
       "      <td>500.000000</td>\n",
       "      <td>500.000000</td>\n",
       "      <td>500.000000</td>\n",
       "      <td>500.000000</td>\n",
       "      <td>500.000000</td>\n",
       "      <td>210.000000</td>\n",
       "      <td>290.000000</td>\n",
       "      <td>290.000000</td>\n",
       "      <td>290.000000</td>\n",
       "      <td>5.000000e+02</td>\n",
       "      <td>290.000000</td>\n",
       "      <td>2.900000e+02</td>\n",
       "      <td>0.0</td>\n",
       "      <td>0.0</td>\n",
       "    </tr>\n",
       "    <tr>\n",
       "      <th>mean</th>\n",
       "      <td>762.926000</td>\n",
       "      <td>169.300000</td>\n",
       "      <td>735.654000</td>\n",
       "      <td>0.960769</td>\n",
       "      <td>0.236179</td>\n",
       "      <td>0.243625</td>\n",
       "      <td>61.452381</td>\n",
       "      <td>19108.682759</td>\n",
       "      <td>19948.996552</td>\n",
       "      <td>10876.831034</td>\n",
       "      <td>2.382561e+17</td>\n",
       "      <td>273.306897</td>\n",
       "      <td>1.508388e+05</td>\n",
       "      <td>NaN</td>\n",
       "      <td>NaN</td>\n",
       "    </tr>\n",
       "    <tr>\n",
       "      <th>std</th>\n",
       "      <td>774.666688</td>\n",
       "      <td>317.297238</td>\n",
       "      <td>770.916332</td>\n",
       "      <td>0.096048</td>\n",
       "      <td>0.296095</td>\n",
       "      <td>0.300387</td>\n",
       "      <td>4.220039</td>\n",
       "      <td>39534.300396</td>\n",
       "      <td>70624.566055</td>\n",
       "      <td>29152.609896</td>\n",
       "      <td>3.526803e+17</td>\n",
       "      <td>1075.046048</td>\n",
       "      <td>1.835696e+05</td>\n",
       "      <td>NaN</td>\n",
       "      <td>NaN</td>\n",
       "    </tr>\n",
       "    <tr>\n",
       "      <th>min</th>\n",
       "      <td>242.000000</td>\n",
       "      <td>0.000000</td>\n",
       "      <td>242.000000</td>\n",
       "      <td>0.158537</td>\n",
       "      <td>0.000000</td>\n",
       "      <td>0.000000</td>\n",
       "      <td>50.000000</td>\n",
       "      <td>0.000000</td>\n",
       "      <td>22.000000</td>\n",
       "      <td>0.000000</td>\n",
       "      <td>1.267113e+07</td>\n",
       "      <td>0.000000</td>\n",
       "      <td>0.000000e+00</td>\n",
       "      <td>NaN</td>\n",
       "      <td>NaN</td>\n",
       "    </tr>\n",
       "    <tr>\n",
       "      <th>25%</th>\n",
       "      <td>352.750000</td>\n",
       "      <td>18.000000</td>\n",
       "      <td>326.500000</td>\n",
       "      <td>0.974556</td>\n",
       "      <td>0.031736</td>\n",
       "      <td>0.035021</td>\n",
       "      <td>63.000000</td>\n",
       "      <td>24.500000</td>\n",
       "      <td>853.000000</td>\n",
       "      <td>550.250000</td>\n",
       "      <td>1.978720e+08</td>\n",
       "      <td>30.250000</td>\n",
       "      <td>4.066850e+04</td>\n",
       "      <td>NaN</td>\n",
       "      <td>NaN</td>\n",
       "    </tr>\n",
       "    <tr>\n",
       "      <th>50%</th>\n",
       "      <td>495.500000</td>\n",
       "      <td>60.000000</td>\n",
       "      <td>463.000000</td>\n",
       "      <td>1.000000</td>\n",
       "      <td>0.101484</td>\n",
       "      <td>0.105237</td>\n",
       "      <td>63.000000</td>\n",
       "      <td>1546.000000</td>\n",
       "      <td>4226.000000</td>\n",
       "      <td>2961.000000</td>\n",
       "      <td>2.222342e+09</td>\n",
       "      <td>97.500000</td>\n",
       "      <td>9.859950e+04</td>\n",
       "      <td>NaN</td>\n",
       "      <td>NaN</td>\n",
       "    </tr>\n",
       "    <tr>\n",
       "      <th>75%</th>\n",
       "      <td>868.750000</td>\n",
       "      <td>189.250000</td>\n",
       "      <td>832.250000</td>\n",
       "      <td>1.000000</td>\n",
       "      <td>0.308026</td>\n",
       "      <td>0.319565</td>\n",
       "      <td>63.000000</td>\n",
       "      <td>21422.500000</td>\n",
       "      <td>14281.500000</td>\n",
       "      <td>9325.000000</td>\n",
       "      <td>7.512894e+17</td>\n",
       "      <td>232.500000</td>\n",
       "      <td>1.787560e+05</td>\n",
       "      <td>NaN</td>\n",
       "      <td>NaN</td>\n",
       "    </tr>\n",
       "    <tr>\n",
       "      <th>max</th>\n",
       "      <td>8738.000000</td>\n",
       "      <td>3701.000000</td>\n",
       "      <td>8610.000000</td>\n",
       "      <td>1.000000</td>\n",
       "      <td>1.000000</td>\n",
       "      <td>1.000000</td>\n",
       "      <td>63.000000</td>\n",
       "      <td>443492.000000</td>\n",
       "      <td>929739.000000</td>\n",
       "      <td>367616.000000</td>\n",
       "      <td>7.909311e+17</td>\n",
       "      <td>16015.000000</td>\n",
       "      <td>1.045437e+06</td>\n",
       "      <td>NaN</td>\n",
       "      <td>NaN</td>\n",
       "    </tr>\n",
       "  </tbody>\n",
       "</table>\n",
       "</div>"
      ],
      "text/plain": [
       "           is_fake     is_first    is_source  source_rate  first_rate  \\\n",
       "count   500.000000   500.000000   500.000000   500.000000  500.000000   \n",
       "mean    762.926000   169.300000   735.654000     0.960769    0.236179   \n",
       "std     774.666688   317.297238   770.916332     0.096048    0.296095   \n",
       "min     242.000000     0.000000   242.000000     0.158537    0.000000   \n",
       "25%     352.750000    18.000000   326.500000     0.974556    0.031736   \n",
       "50%     495.500000    60.000000   463.000000     1.000000    0.101484   \n",
       "75%     868.750000   189.250000   832.250000     1.000000    0.308026   \n",
       "max    8738.000000  3701.000000  8610.000000     1.000000    1.000000   \n",
       "\n",
       "       first_source_rate        code  favourites_count  followers_count  \\\n",
       "count         500.000000  210.000000        290.000000       290.000000   \n",
       "mean            0.243625   61.452381      19108.682759     19948.996552   \n",
       "std             0.300387    4.220039      39534.300396     70624.566055   \n",
       "min             0.000000   50.000000          0.000000        22.000000   \n",
       "25%             0.035021   63.000000         24.500000       853.000000   \n",
       "50%             0.105237   63.000000       1546.000000      4226.000000   \n",
       "75%             0.319565   63.000000      21422.500000     14281.500000   \n",
       "max             1.000000   63.000000     443492.000000    929739.000000   \n",
       "\n",
       "       friends_count            id  listed_count  statuses_count  time_zone  \\\n",
       "count     290.000000  5.000000e+02    290.000000    2.900000e+02        0.0   \n",
       "mean    10876.831034  2.382561e+17    273.306897    1.508388e+05        NaN   \n",
       "std     29152.609896  3.526803e+17   1075.046048    1.835696e+05        NaN   \n",
       "min         0.000000  1.267113e+07      0.000000    0.000000e+00        NaN   \n",
       "25%       550.250000  1.978720e+08     30.250000    4.066850e+04        NaN   \n",
       "50%      2961.000000  2.222342e+09     97.500000    9.859950e+04        NaN   \n",
       "75%      9325.000000  7.512894e+17    232.500000    1.787560e+05        NaN   \n",
       "max    367616.000000  7.909311e+17  16015.000000    1.045437e+06        NaN   \n",
       "\n",
       "       utc_offset  \n",
       "count         0.0  \n",
       "mean          NaN  \n",
       "std           NaN  \n",
       "min           NaN  \n",
       "25%           NaN  \n",
       "50%           NaN  \n",
       "75%           NaN  \n",
       "max           NaN  "
      ]
     },
     "execution_count": 307,
     "metadata": {},
     "output_type": "execute_result"
    }
   ],
   "source": [
    "top_users.describe()"
   ]
  },
  {
   "cell_type": "code",
   "execution_count": 153,
   "metadata": {},
   "outputs": [
    {
     "data": {
      "text/plain": [
       "<matplotlib.axes._subplots.AxesSubplot at 0x7fee6cb8d438>"
      ]
     },
     "execution_count": 153,
     "metadata": {},
     "output_type": "execute_result"
    },
    {
     "data": {
      "image/png": "[encoded data removed]",
      "text/plain": [
       "<Figure size 432x288 with 1 Axes>"
      ]
     },
     "metadata": {
      "needs_background": "light"
     },
     "output_type": "display_data"
    }
   ],
   "source": [
    "sns.barplot(x=\"is_source_top\", y=\"is_fake\", data=users, estimator=np.mean)"
   ]
  },
  {
   "cell_type": "code",
   "execution_count": 154,
   "metadata": {},
   "outputs": [
    {
     "data": {
      "text/plain": [
       "<matplotlib.axes._subplots.AxesSubplot at 0x7fee6d169c50>"
      ]
     },
     "execution_count": 154,
     "metadata": {},
     "output_type": "execute_result"
    },
    {
     "data": {
      "image/png": "[encoded data removed]",
      "text/plain": [
       "<Figure size 432x288 with 1 Axes>"
      ]
     },
     "metadata": {
      "needs_background": "light"
     },
     "output_type": "display_data"
    }
   ],
   "source": [
    "sns.barplot(x=\"is_source_top\", y=\"is_source\", data=users, estimator=np.mean)"
   ]
  },
  {
   "cell_type": "code",
   "execution_count": 163,
   "metadata": {},
   "outputs": [
    {
     "data": {
      "text/plain": [
       "<matplotlib.axes._subplots.AxesSubplot at 0x7fee6b574be0>"
      ]
     },
     "execution_count": 163,
     "metadata": {},
     "output_type": "execute_result"
    },
    {
     "data": {
      "image/png": "[encoded data removed]",
      "text/plain": [
       "<Figure size 432x288 with 1 Axes>"
      ]
     },
     "metadata": {
      "needs_background": "light"
     },
     "output_type": "display_data"
    }
   ],
   "source": [
    "sns.barplot(x=\"is_source_top\", y=\"source_rate\", data=users, estimator=np.mean)"
   ]
  },
  {
   "cell_type": "markdown",
   "metadata": {},
   "source": [
    "# 4. 基本统计数据上的数值"
   ]
  },
  {
   "cell_type": "code",
   "execution_count": 156,
   "metadata": {},
   "outputs": [
    {
     "data": {
      "text/plain": [
       "<matplotlib.axes._subplots.AxesSubplot at 0x7fee6c399cf8>"
      ]
     },
     "execution_count": 156,
     "metadata": {},
     "output_type": "execute_result"
    },
    {
     "data": {
      "image/png": "[encoded data removed]",
      "text/plain": [
       "<Figure size 432x288 with 1 Axes>"
      ]
     },
     "metadata": {
      "needs_background": "light"
     },
     "output_type": "display_data"
    }
   ],
   "source": [
    "sns.barplot(x=\"is_source_top\", y=\"followers_count\", data=users, estimator=np.mean)"
   ]
  },
  {
   "cell_type": "code",
   "execution_count": 158,
   "metadata": {},
   "outputs": [
    {
     "data": {
      "text/plain": [
       "<matplotlib.axes._subplots.AxesSubplot at 0x7fee6c0462b0>"
      ]
     },
     "execution_count": 158,
     "metadata": {},
     "output_type": "execute_result"
    },
    {
     "data": {
      "image/png": "[encoded data removed]",
      "text/plain": [
       "<Figure size 432x288 with 1 Axes>"
      ]
     },
     "metadata": {
      "needs_background": "light"
     },
     "output_type": "display_data"
    }
   ],
   "source": [
    "sns.barplot(x=\"is_source_top\", y=\"friends_count\", data=users, estimator=np.mean)"
   ]
  },
  {
   "cell_type": "code",
   "execution_count": 159,
   "metadata": {},
   "outputs": [
    {
     "data": {
      "text/plain": [
       "<matplotlib.axes._subplots.AxesSubplot at 0x7fee6bdf28d0>"
      ]
     },
     "execution_count": 159,
     "metadata": {},
     "output_type": "execute_result"
    },
    {
     "data": {
      "image/png": "[encoded data removed]",
      "text/plain": [
       "<Figure size 432x288 with 1 Axes>"
      ]
     },
     "metadata": {
      "needs_background": "light"
     },
     "output_type": "display_data"
    }
   ],
   "source": [
    "sns.barplot(x=\"is_source_top\", y=\"statuses_count\", data=users, estimator=np.mean)"
   ]
  },
  {
   "cell_type": "code",
   "execution_count": 160,
   "metadata": {},
   "outputs": [
    {
     "data": {
      "text/plain": [
       "<matplotlib.axes._subplots.AxesSubplot at 0x7fee6ba0eac8>"
      ]
     },
     "execution_count": 160,
     "metadata": {},
     "output_type": "execute_result"
    },
    {
     "data": {
      "image/png": "[encoded data removed]",
      "text/plain": [
       "<Figure size 432x288 with 1 Axes>"
      ]
     },
     "metadata": {
      "needs_background": "light"
     },
     "output_type": "display_data"
    }
   ],
   "source": [
    "sns.barplot(x=\"is_source_top\", y=\"listed_count\", data=users, estimator=np.mean)"
   ]
  },
  {
   "cell_type": "code",
   "execution_count": 162,
   "metadata": {},
   "outputs": [
    {
     "data": {
      "text/plain": [
       "<matplotlib.axes._subplots.AxesSubplot at 0x7fee6ba0e710>"
      ]
     },
     "execution_count": 162,
     "metadata": {},
     "output_type": "execute_result"
    },
    {
     "data": {
      "image/png": "[encoded data removed]",
      "text/plain": [
       "<Figure size 432x288 with 1 Axes>"
      ]
     },
     "metadata": {
      "needs_background": "light"
     },
     "output_type": "display_data"
    }
   ],
   "source": [
    "sns.barplot(x=\"is_source_top\", y=\"favourites_count\", data=users, estimator=np.mean)"
   ]
  },
  {
   "cell_type": "markdown",
   "metadata": {},
   "source": [
    "# 5. CI与source的关系"
   ]
  },
  {
   "cell_type": "code",
   "execution_count": 22,
   "metadata": {},
   "outputs": [],
   "source": [
    "f_labels = [\"FAKE\", \"BIAS\", \"LEFT\", \"LEFTCENTER\", \"CENTER\", \"RIGHTCENTER\", \"RIGHT\"]"
   ]
  },
  {
   "cell_type": "code",
   "execution_count": 23,
   "metadata": {},
   "outputs": [],
   "source": [
    "node_map = json.load(open(\"disk/node_map.json\"))"
   ]
  },
  {
   "cell_type": "code",
   "execution_count": 189,
   "metadata": {},
   "outputs": [
    {
     "name": "stdout",
     "output_type": "stream",
     "text": [
      "FAKE ...\n",
      "BIAS ...\n",
      "LEFT ...\n",
      "LEFTCENTER ...\n",
      "CENTER ...\n",
      "RIGHTCENTER ...\n",
      "RIGHT ...\n"
     ]
    },
    {
     "data": {
      "text/plain": [
       "{'FAKE': 346,\n",
       " 'BIAS': 349,\n",
       " 'LEFT': 248,\n",
       " 'LEFTCENTER': 162,\n",
       " 'CENTER': 159,\n",
       " 'RIGHTCENTER': 151,\n",
       " 'RIGHT': 241}"
      ]
     },
     "metadata": {},
     "output_type": "display_data"
    },
    {
     "data": {
      "image/png": "[encoded data removed]",
      "text/plain": [
       "<Figure size 432x432 with 1 Axes>"
      ]
     },
     "metadata": {
      "needs_background": "light"
     },
     "output_type": "display_data"
    }
   ],
   "source": [
    "pea_source_cnt_CI_rank = {}\n",
    "spe_source_cnt_CI_rank = {}\n",
    "pea_source_cnt_CI_value = {}\n",
    "spe_source_cnt_CI_value = {}\n",
    "\n",
    "pea_first_cnt_CI_rank = {}\n",
    "spe_first_cnt_CI_rank = {}\n",
    "pea_first_cnt_CI_value = {}\n",
    "spe_first_cnt_CI_value = {}\n",
    "\n",
    "top_num = 1000\n",
    "\n",
    "len_intersection = {}\n",
    "\n",
    "for label in f_labels:\n",
    "    print(label, \"...\")\n",
    "    CI_rst = np.load(\"data/CI_rst/CI_out_{}.npy\".format(label))\n",
    "    CI_rank_rst = CI_rst[0][:top_num]\n",
    "    # print(CI_rank_rst)\n",
    "    CI_values_rst = CI_rst[1]\n",
    "    \n",
    "    CI_index = []\n",
    "    CI_rank_values = []\n",
    "    CI_values = []\n",
    "\n",
    "    users = pd.read_csv(\"data/users_{}.csv\".format(label), dtype=str, nrows=top_num)\n",
    "    users = users.astype({\"cnt\": int, \"source_cnt\": int, \"first_cnt\": int, \n",
    "                          \"source_rate\": float, \"first_rate\": float, \"first_source_rate\": float})\n",
    "    users = users.set_index(\"user_id\")\n",
    "    # print(users)\n",
    "    \n",
    "    set_CI_users = set(CI_rank_rst)\n",
    "    set_source_users = set()\n",
    "    \n",
    "    for user_id, row in users.iterrows():\n",
    "        node_id = node_map[user_id]\n",
    "        set_source_users.add(node_id)\n",
    "        try:\n",
    "            i = CI_rank_rst.index(node_id)\n",
    "            rank = top_num - i\n",
    "        except ValueError as e:\n",
    "            rank = 0\n",
    "\n",
    "        val = CI_values_rst[node_id]\n",
    "        # print(\"->\", user_id, rank, val)\n",
    "        CI_index.append(user_id)\n",
    "        CI_rank_values.append(rank)\n",
    "        CI_values.append(val)\n",
    "\n",
    "    len_intersection[label] = len(set_CI_users & set_source_users)\n",
    "        \n",
    "    CI_rank = pd.Series(CI_rank_values, index=CI_index)\n",
    "    CI_values = pd.Series(CI_values, index=CI_index)\n",
    "    users[\"CI_rank\"] = pd.Series(CI_rank)\n",
    "    users[\"CI_values\"] = pd.Series(CI_values)\n",
    "    \n",
    "    source_CI = pd.DataFrame({\n",
    "                              \"CI_rank\": users[\"CI_rank\"],\n",
    "                              \"CI_values\": users[\"CI_values\"],\n",
    "                              \"cnt\": users[\"cnt\"],\n",
    "                              \"source_cnt\": users[\"source_cnt\"],\n",
    "                              \"first_cnt\": users[\"first_cnt\"],\n",
    "                              \"source_rate\": users[\"source_rate\"]}\n",
    "                            )\n",
    "    \n",
    "#     print(\"pearson ~\")\n",
    "    cor = source_CI.corr(method=\"pearson\")\n",
    "#     display(cor)\n",
    "    pea_source_cnt_CI_rank[label] = cor.source_cnt[\"CI_rank\"]\n",
    "    pea_source_cnt_CI_value[label] = cor.source_cnt[\"CI_values\"]\n",
    "    \n",
    "#     print(\"spearman ~\")\n",
    "    cor = source_CI.corr(method=\"spearman\")\n",
    "#     display(cor)\n",
    "    spe_source_cnt_CI_rank[label] = cor.source_cnt[\"CI_rank\"]\n",
    "    spe_source_cnt_CI_value[label] = cor.source_cnt[\"CI_values\"]\n",
    "    \n",
    "#     print(\"pearson ~\")\n",
    "    cor = source_CI.corr(method=\"pearson\")\n",
    "#     display(cor)\n",
    "    pea_first_cnt_CI_rank[label] = cor.first_cnt[\"CI_rank\"]\n",
    "    pea_first_cnt_CI_value[label] = cor.first_cnt[\"CI_values\"]\n",
    "    \n",
    "#     print(\"spearman ~\")\n",
    "    cor = source_CI.corr(method=\"spearman\")\n",
    "#     display(cor)\n",
    "    spe_first_cnt_CI_rank[label] = cor.first_cnt[\"CI_rank\"]\n",
    "    spe_first_cnt_CI_value[label] = cor.first_cnt[\"CI_values\"]\n",
    "    \n",
    "def plot_corr(cor):\n",
    "    display(cor)\n",
    "    plt.figure(figsize=(6, 6))\n",
    "    x = range(len(f_labels))\n",
    "    for i in x:\n",
    "        plt.bar(i, cor[f_labels[i]], color=sns.color_palette(\"coolwarm\", 7)[6-i])\n",
    "    plt.xticks(x, f_labels)\n",
    "#     plt.xlabel('Only IRA', fontsize=15)\n",
    "    plt.ylabel('Size of intersection between CIs and sources', fontsize=15)\n",
    "    plt.xticks(fontsize=9, rotation=40); plt.yticks(fontsize=14)\n",
    "    plt.savefig(\"fig/size-of-intersection500.pdf\", dpi=300, bbox_inches='tight')\n",
    "    plt.show()\n",
    "    plt.tight_layout()\n",
    "    plt.close()\n",
    "    \n",
    "# plot_corr(pea_source_cnt_CI_rank)\n",
    "# plot_corr(spe_source_cnt_CI_rank)\n",
    "# plot_corr(pea_source_cnt_CI_value)\n",
    "# plot_corr(spe_source_cnt_CI_value)\n",
    "\n",
    "plot_corr(len_intersection)\n",
    "\n",
    "# # plot_corr(pea_source_cnt_CI_rank)\n",
    "# plot_corr(spe_first_cnt_CI_rank)\n",
    "# # plot_corr(pea_source_cnt_CI_value)\n",
    "# plot_corr(spe_first_cnt_CI_value)\n"
   ]
  },
  {
   "cell_type": "code",
   "execution_count": 300,
   "metadata": {},
   "outputs": [
    {
     "name": "stderr",
     "output_type": "stream",
     "text": [
      "/home/alex/anaconda3/lib/python3.6/site-packages/scipy/stats/stats.py:1713: FutureWarning: Using a non-tuple sequence for multidimensional indexing is deprecated; use `arr[tuple(seq)]` instead of `arr[seq]`. In the future this will be interpreted as an array index, `arr[np.array(seq)]`, which will result either in an error or a different result.\n",
      "  return np.add.reduce(sorted[indexer] * weights, axis=axis) / sumval\n"
     ]
    },
    {
     "data": {
      "text/plain": [
       "<matplotlib.axes._subplots.AxesSubplot at 0x7fee61d61550>"
      ]
     },
     "execution_count": 300,
     "metadata": {},
     "output_type": "execute_result"
    },
    {
     "data": {
      "image/png": "[encoded data removed]",
      "text/plain": [
       "<Figure size 432x288 with 1 Axes>"
      ]
     },
     "metadata": {
      "needs_background": "light"
     },
     "output_type": "display_data"
    }
   ],
   "source": [
    "sns.barplot(x=\"is_source_top\", y=\"CI_rank\", data=users, estimator=np.mean)"
   ]
  },
  {
   "cell_type": "code",
   "execution_count": 301,
   "metadata": {},
   "outputs": [
    {
     "data": {
      "text/plain": [
       "<matplotlib.axes._subplots.AxesSubplot at 0x7fee62113cc0>"
      ]
     },
     "execution_count": 301,
     "metadata": {},
     "output_type": "execute_result"
    },
    {
     "data": {
      "image/png": "[encoded data removed]",
      "text/plain": [
       "<Figure size 432x288 with 1 Axes>"
      ]
     },
     "metadata": {
      "needs_background": "light"
     },
     "output_type": "display_data"
    }
   ],
   "source": [
    "sns.barplot(x=\"is_source_top\", y=\"CI_values\", data=users, estimator=np.mean)"
   ]
  },
  {
   "cell_type": "code",
   "execution_count": 302,
   "metadata": {},
   "outputs": [],
   "source": [
    "source_CI = pd.DataFrame({\"CI_rank\": users[\"CI_rank\"],\n",
    "                          \"CI_values\": users[\"CI_values\"],\n",
    "                          \"is_source\": users[\"is_source\"],\n",
    "                          \"source_rate\": users[\"source_rate\"]})"
   ]
  },
  {
   "cell_type": "code",
   "execution_count": 303,
   "metadata": {},
   "outputs": [
    {
     "data": {
      "text/html": [
       "<div>\n",
       "<style scoped>\n",
       "    .dataframe tbody tr th:only-of-type {\n",
       "        vertical-align: middle;\n",
       "    }\n",
       "\n",
       "    .dataframe tbody tr th {\n",
       "        vertical-align: top;\n",
       "    }\n",
       "\n",
       "    .dataframe thead th {\n",
       "        text-align: right;\n",
       "    }\n",
       "</style>\n",
       "<table border=\"1\" class=\"dataframe\">\n",
       "  <thead>\n",
       "    <tr style=\"text-align: right;\">\n",
       "      <th></th>\n",
       "      <th>CI_rank</th>\n",
       "      <th>CI_values</th>\n",
       "      <th>is_source</th>\n",
       "      <th>source_rate</th>\n",
       "    </tr>\n",
       "  </thead>\n",
       "  <tbody>\n",
       "    <tr>\n",
       "      <th>CI_rank</th>\n",
       "      <td>1.000000</td>\n",
       "      <td>0.257452</td>\n",
       "      <td>0.488942</td>\n",
       "      <td>0.082084</td>\n",
       "    </tr>\n",
       "    <tr>\n",
       "      <th>CI_values</th>\n",
       "      <td>0.257452</td>\n",
       "      <td>1.000000</td>\n",
       "      <td>0.328691</td>\n",
       "      <td>0.016954</td>\n",
       "    </tr>\n",
       "    <tr>\n",
       "      <th>is_source</th>\n",
       "      <td>0.488942</td>\n",
       "      <td>0.328691</td>\n",
       "      <td>1.000000</td>\n",
       "      <td>0.109910</td>\n",
       "    </tr>\n",
       "    <tr>\n",
       "      <th>source_rate</th>\n",
       "      <td>0.082084</td>\n",
       "      <td>0.016954</td>\n",
       "      <td>0.109910</td>\n",
       "      <td>1.000000</td>\n",
       "    </tr>\n",
       "  </tbody>\n",
       "</table>\n",
       "</div>"
      ],
      "text/plain": [
       "              CI_rank  CI_values  is_source  source_rate\n",
       "CI_rank      1.000000   0.257452   0.488942     0.082084\n",
       "CI_values    0.257452   1.000000   0.328691     0.016954\n",
       "is_source    0.488942   0.328691   1.000000     0.109910\n",
       "source_rate  0.082084   0.016954   0.109910     1.000000"
      ]
     },
     "execution_count": 303,
     "metadata": {},
     "output_type": "execute_result"
    }
   ],
   "source": [
    "source_CI.corr()"
   ]
  },
  {
   "cell_type": "code",
   "execution_count": 304,
   "metadata": {},
   "outputs": [],
   "source": [
    "# 顺便这里把IRA做一下\n",
    "\n",
    "ira_users = users.loc[ira_tweets[\"user_id\"].unique()]"
   ]
  },
  {
   "cell_type": "code",
   "execution_count": 305,
   "metadata": {},
   "outputs": [
    {
     "data": {
      "text/html": [
       "<div>\n",
       "<style scoped>\n",
       "    .dataframe tbody tr th:only-of-type {\n",
       "        vertical-align: middle;\n",
       "    }\n",
       "\n",
       "    .dataframe tbody tr th {\n",
       "        vertical-align: top;\n",
       "    }\n",
       "\n",
       "    .dataframe thead th {\n",
       "        text-align: right;\n",
       "    }\n",
       "</style>\n",
       "<table border=\"1\" class=\"dataframe\">\n",
       "  <thead>\n",
       "    <tr style=\"text-align: right;\">\n",
       "      <th></th>\n",
       "      <th>is_fake</th>\n",
       "      <th>is_first</th>\n",
       "      <th>is_source</th>\n",
       "      <th>source_rate</th>\n",
       "      <th>first_rate</th>\n",
       "      <th>first_source_rate</th>\n",
       "      <th>code</th>\n",
       "      <th>contributors_enabled</th>\n",
       "      <th>created_at</th>\n",
       "      <th>default_profile</th>\n",
       "      <th>...</th>\n",
       "      <th>statuses_count</th>\n",
       "      <th>time_zone</th>\n",
       "      <th>translator_type</th>\n",
       "      <th>url</th>\n",
       "      <th>utc_offset</th>\n",
       "      <th>verified</th>\n",
       "      <th>withheld_in_countries</th>\n",
       "      <th>is_source_top</th>\n",
       "      <th>CI_rank</th>\n",
       "      <th>CI_values</th>\n",
       "    </tr>\n",
       "  </thead>\n",
       "  <tbody>\n",
       "    <tr>\n",
       "      <th>4437444442</th>\n",
       "      <td>5</td>\n",
       "      <td>0</td>\n",
       "      <td>5</td>\n",
       "      <td>1.000000</td>\n",
       "      <td>0.000000</td>\n",
       "      <td>0.000000</td>\n",
       "      <td>63.0</td>\n",
       "      <td>NaN</td>\n",
       "      <td>NaN</td>\n",
       "      <td>NaN</td>\n",
       "      <td>...</td>\n",
       "      <td>NaN</td>\n",
       "      <td>NaN</td>\n",
       "      <td>NaN</td>\n",
       "      <td>NaN</td>\n",
       "      <td>NaN</td>\n",
       "      <td>NaN</td>\n",
       "      <td>NaN</td>\n",
       "      <td>False</td>\n",
       "      <td>305</td>\n",
       "      <td>3486230</td>\n",
       "    </tr>\n",
       "    <tr>\n",
       "      <th>4272870988</th>\n",
       "      <td>23</td>\n",
       "      <td>3</td>\n",
       "      <td>22</td>\n",
       "      <td>0.956522</td>\n",
       "      <td>0.130435</td>\n",
       "      <td>0.136364</td>\n",
       "      <td>63.0</td>\n",
       "      <td>NaN</td>\n",
       "      <td>NaN</td>\n",
       "      <td>NaN</td>\n",
       "      <td>...</td>\n",
       "      <td>NaN</td>\n",
       "      <td>NaN</td>\n",
       "      <td>NaN</td>\n",
       "      <td>NaN</td>\n",
       "      <td>NaN</td>\n",
       "      <td>NaN</td>\n",
       "      <td>NaN</td>\n",
       "      <td>False</td>\n",
       "      <td>606</td>\n",
       "      <td>19000410</td>\n",
       "    </tr>\n",
       "    <tr>\n",
       "      <th>4224729994</th>\n",
       "      <td>18</td>\n",
       "      <td>9</td>\n",
       "      <td>17</td>\n",
       "      <td>0.944444</td>\n",
       "      <td>0.500000</td>\n",
       "      <td>0.529412</td>\n",
       "      <td>63.0</td>\n",
       "      <td>NaN</td>\n",
       "      <td>NaN</td>\n",
       "      <td>NaN</td>\n",
       "      <td>...</td>\n",
       "      <td>NaN</td>\n",
       "      <td>NaN</td>\n",
       "      <td>NaN</td>\n",
       "      <td>NaN</td>\n",
       "      <td>NaN</td>\n",
       "      <td>NaN</td>\n",
       "      <td>NaN</td>\n",
       "      <td>False</td>\n",
       "      <td>717</td>\n",
       "      <td>45916704</td>\n",
       "    </tr>\n",
       "    <tr>\n",
       "      <th>4289431230</th>\n",
       "      <td>5</td>\n",
       "      <td>0</td>\n",
       "      <td>5</td>\n",
       "      <td>1.000000</td>\n",
       "      <td>0.000000</td>\n",
       "      <td>0.000000</td>\n",
       "      <td>63.0</td>\n",
       "      <td>NaN</td>\n",
       "      <td>NaN</td>\n",
       "      <td>NaN</td>\n",
       "      <td>...</td>\n",
       "      <td>NaN</td>\n",
       "      <td>NaN</td>\n",
       "      <td>NaN</td>\n",
       "      <td>NaN</td>\n",
       "      <td>NaN</td>\n",
       "      <td>NaN</td>\n",
       "      <td>NaN</td>\n",
       "      <td>False</td>\n",
       "      <td>342</td>\n",
       "      <td>4104793</td>\n",
       "    </tr>\n",
       "    <tr>\n",
       "      <th>4355797094</th>\n",
       "      <td>6</td>\n",
       "      <td>1</td>\n",
       "      <td>6</td>\n",
       "      <td>1.000000</td>\n",
       "      <td>0.166667</td>\n",
       "      <td>0.166667</td>\n",
       "      <td>63.0</td>\n",
       "      <td>NaN</td>\n",
       "      <td>NaN</td>\n",
       "      <td>NaN</td>\n",
       "      <td>...</td>\n",
       "      <td>NaN</td>\n",
       "      <td>NaN</td>\n",
       "      <td>NaN</td>\n",
       "      <td>NaN</td>\n",
       "      <td>NaN</td>\n",
       "      <td>NaN</td>\n",
       "      <td>NaN</td>\n",
       "      <td>False</td>\n",
       "      <td>320</td>\n",
       "      <td>3662592</td>\n",
       "    </tr>\n",
       "    <tr>\n",
       "      <th>789266125485998080</th>\n",
       "      <td>223</td>\n",
       "      <td>29</td>\n",
       "      <td>223</td>\n",
       "      <td>1.000000</td>\n",
       "      <td>0.130045</td>\n",
       "      <td>0.130045</td>\n",
       "      <td>63.0</td>\n",
       "      <td>NaN</td>\n",
       "      <td>NaN</td>\n",
       "      <td>NaN</td>\n",
       "      <td>...</td>\n",
       "      <td>NaN</td>\n",
       "      <td>NaN</td>\n",
       "      <td>NaN</td>\n",
       "      <td>NaN</td>\n",
       "      <td>NaN</td>\n",
       "      <td>NaN</td>\n",
       "      <td>NaN</td>\n",
       "      <td>False</td>\n",
       "      <td>92</td>\n",
       "      <td>1299480</td>\n",
       "    </tr>\n",
       "    <tr>\n",
       "      <th>4311371968</th>\n",
       "      <td>11</td>\n",
       "      <td>2</td>\n",
       "      <td>10</td>\n",
       "      <td>0.909091</td>\n",
       "      <td>0.181818</td>\n",
       "      <td>0.200000</td>\n",
       "      <td>63.0</td>\n",
       "      <td>NaN</td>\n",
       "      <td>NaN</td>\n",
       "      <td>NaN</td>\n",
       "      <td>...</td>\n",
       "      <td>NaN</td>\n",
       "      <td>NaN</td>\n",
       "      <td>NaN</td>\n",
       "      <td>NaN</td>\n",
       "      <td>NaN</td>\n",
       "      <td>NaN</td>\n",
       "      <td>NaN</td>\n",
       "      <td>False</td>\n",
       "      <td>385</td>\n",
       "      <td>5149200</td>\n",
       "    </tr>\n",
       "  </tbody>\n",
       "</table>\n",
       "<p>7 rows × 55 columns</p>\n",
       "</div>"
      ],
      "text/plain": [
       "                    is_fake  is_first  is_source  source_rate  first_rate  \\\n",
       "4437444442                5         0          5     1.000000    0.000000   \n",
       "4272870988               23         3         22     0.956522    0.130435   \n",
       "4224729994               18         9         17     0.944444    0.500000   \n",
       "4289431230                5         0          5     1.000000    0.000000   \n",
       "4355797094                6         1          6     1.000000    0.166667   \n",
       "789266125485998080      223        29        223     1.000000    0.130045   \n",
       "4311371968               11         2         10     0.909091    0.181818   \n",
       "\n",
       "                    first_source_rate  code contributors_enabled created_at  \\\n",
       "4437444442                   0.000000  63.0                  NaN        NaN   \n",
       "4272870988                   0.136364  63.0                  NaN        NaN   \n",
       "4224729994                   0.529412  63.0                  NaN        NaN   \n",
       "4289431230                   0.000000  63.0                  NaN        NaN   \n",
       "4355797094                   0.166667  63.0                  NaN        NaN   \n",
       "789266125485998080           0.130045  63.0                  NaN        NaN   \n",
       "4311371968                   0.200000  63.0                  NaN        NaN   \n",
       "\n",
       "                   default_profile    ...    statuses_count time_zone  \\\n",
       "4437444442                     NaN    ...               NaN       NaN   \n",
       "4272870988                     NaN    ...               NaN       NaN   \n",
       "4224729994                     NaN    ...               NaN       NaN   \n",
       "4289431230                     NaN    ...               NaN       NaN   \n",
       "4355797094                     NaN    ...               NaN       NaN   \n",
       "789266125485998080             NaN    ...               NaN       NaN   \n",
       "4311371968                     NaN    ...               NaN       NaN   \n",
       "\n",
       "                   translator_type  url utc_offset  verified  \\\n",
       "4437444442                     NaN  NaN        NaN       NaN   \n",
       "4272870988                     NaN  NaN        NaN       NaN   \n",
       "4224729994                     NaN  NaN        NaN       NaN   \n",
       "4289431230                     NaN  NaN        NaN       NaN   \n",
       "4355797094                     NaN  NaN        NaN       NaN   \n",
       "789266125485998080             NaN  NaN        NaN       NaN   \n",
       "4311371968                     NaN  NaN        NaN       NaN   \n",
       "\n",
       "                   withheld_in_countries  is_source_top CI_rank CI_values  \n",
       "4437444442                           NaN          False     305   3486230  \n",
       "4272870988                           NaN          False     606  19000410  \n",
       "4224729994                           NaN          False     717  45916704  \n",
       "4289431230                           NaN          False     342   4104793  \n",
       "4355797094                           NaN          False     320   3662592  \n",
       "789266125485998080                   NaN          False      92   1299480  \n",
       "4311371968                           NaN          False     385   5149200  \n",
       "\n",
       "[7 rows x 55 columns]"
      ]
     },
     "execution_count": 305,
     "metadata": {},
     "output_type": "execute_result"
    }
   ],
   "source": [
    "ira_users[ira_users[\"CI_rank\"] > 0]"
   ]
  },
  {
   "cell_type": "code",
   "execution_count": 291,
   "metadata": {},
   "outputs": [
    {
     "data": {
      "text/html": [
       "<div>\n",
       "<style scoped>\n",
       "    .dataframe tbody tr th:only-of-type {\n",
       "        vertical-align: middle;\n",
       "    }\n",
       "\n",
       "    .dataframe tbody tr th {\n",
       "        vertical-align: top;\n",
       "    }\n",
       "\n",
       "    .dataframe thead th {\n",
       "        text-align: right;\n",
       "    }\n",
       "</style>\n",
       "<table border=\"1\" class=\"dataframe\">\n",
       "  <thead>\n",
       "    <tr style=\"text-align: right;\">\n",
       "      <th></th>\n",
       "      <th>is_fake</th>\n",
       "      <th>is_first</th>\n",
       "      <th>is_source</th>\n",
       "      <th>source_rate</th>\n",
       "      <th>first_rate</th>\n",
       "      <th>first_source_rate</th>\n",
       "      <th>code</th>\n",
       "      <th>favourites_count</th>\n",
       "      <th>followers_count</th>\n",
       "      <th>friends_count</th>\n",
       "      <th>id</th>\n",
       "      <th>listed_count</th>\n",
       "      <th>statuses_count</th>\n",
       "      <th>time_zone</th>\n",
       "      <th>utc_offset</th>\n",
       "      <th>CI_rank</th>\n",
       "      <th>CI_values</th>\n",
       "    </tr>\n",
       "  </thead>\n",
       "  <tbody>\n",
       "    <tr>\n",
       "      <th>count</th>\n",
       "      <td>92.000000</td>\n",
       "      <td>92.000000</td>\n",
       "      <td>92.000000</td>\n",
       "      <td>92.000000</td>\n",
       "      <td>92.000000</td>\n",
       "      <td>92.000000</td>\n",
       "      <td>92.0</td>\n",
       "      <td>0.0</td>\n",
       "      <td>0.0</td>\n",
       "      <td>0.0</td>\n",
       "      <td>9.200000e+01</td>\n",
       "      <td>0.0</td>\n",
       "      <td>0.0</td>\n",
       "      <td>0.0</td>\n",
       "      <td>0.0</td>\n",
       "      <td>92.00000</td>\n",
       "      <td>9.200000e+01</td>\n",
       "    </tr>\n",
       "    <tr>\n",
       "      <th>mean</th>\n",
       "      <td>17.706522</td>\n",
       "      <td>3.739130</td>\n",
       "      <td>9.336957</td>\n",
       "      <td>0.537902</td>\n",
       "      <td>0.174323</td>\n",
       "      <td>inf</td>\n",
       "      <td>63.0</td>\n",
       "      <td>NaN</td>\n",
       "      <td>NaN</td>\n",
       "      <td>NaN</td>\n",
       "      <td>4.026391e+16</td>\n",
       "      <td>NaN</td>\n",
       "      <td>NaN</td>\n",
       "      <td>NaN</td>\n",
       "      <td>NaN</td>\n",
       "      <td>15.50000</td>\n",
       "      <td>2.367963e+06</td>\n",
       "    </tr>\n",
       "    <tr>\n",
       "      <th>std</th>\n",
       "      <td>40.342092</td>\n",
       "      <td>8.527743</td>\n",
       "      <td>26.549261</td>\n",
       "      <td>0.369736</td>\n",
       "      <td>0.242284</td>\n",
       "      <td>NaN</td>\n",
       "      <td>0.0</td>\n",
       "      <td>NaN</td>\n",
       "      <td>NaN</td>\n",
       "      <td>NaN</td>\n",
       "      <td>1.690001e+17</td>\n",
       "      <td>NaN</td>\n",
       "      <td>NaN</td>\n",
       "      <td>NaN</td>\n",
       "      <td>NaN</td>\n",
       "      <td>84.76775</td>\n",
       "      <td>1.469957e+07</td>\n",
       "    </tr>\n",
       "    <tr>\n",
       "      <th>min</th>\n",
       "      <td>1.000000</td>\n",
       "      <td>0.000000</td>\n",
       "      <td>0.000000</td>\n",
       "      <td>0.000000</td>\n",
       "      <td>0.000000</td>\n",
       "      <td>0.000000</td>\n",
       "      <td>63.0</td>\n",
       "      <td>NaN</td>\n",
       "      <td>NaN</td>\n",
       "      <td>NaN</td>\n",
       "      <td>1.513801e+09</td>\n",
       "      <td>NaN</td>\n",
       "      <td>NaN</td>\n",
       "      <td>NaN</td>\n",
       "      <td>NaN</td>\n",
       "      <td>0.00000</td>\n",
       "      <td>0.000000e+00</td>\n",
       "    </tr>\n",
       "    <tr>\n",
       "      <th>25%</th>\n",
       "      <td>1.000000</td>\n",
       "      <td>0.000000</td>\n",
       "      <td>1.000000</td>\n",
       "      <td>0.279720</td>\n",
       "      <td>0.000000</td>\n",
       "      <td>0.000000</td>\n",
       "      <td>63.0</td>\n",
       "      <td>NaN</td>\n",
       "      <td>NaN</td>\n",
       "      <td>NaN</td>\n",
       "      <td>1.671006e+09</td>\n",
       "      <td>NaN</td>\n",
       "      <td>NaN</td>\n",
       "      <td>NaN</td>\n",
       "      <td>NaN</td>\n",
       "      <td>0.00000</td>\n",
       "      <td>0.000000e+00</td>\n",
       "    </tr>\n",
       "    <tr>\n",
       "      <th>50%</th>\n",
       "      <td>4.000000</td>\n",
       "      <td>1.000000</td>\n",
       "      <td>2.000000</td>\n",
       "      <td>0.500000</td>\n",
       "      <td>0.102302</td>\n",
       "      <td>0.183333</td>\n",
       "      <td>63.0</td>\n",
       "      <td>NaN</td>\n",
       "      <td>NaN</td>\n",
       "      <td>NaN</td>\n",
       "      <td>2.492015e+09</td>\n",
       "      <td>NaN</td>\n",
       "      <td>NaN</td>\n",
       "      <td>NaN</td>\n",
       "      <td>NaN</td>\n",
       "      <td>0.00000</td>\n",
       "      <td>0.000000e+00</td>\n",
       "    </tr>\n",
       "    <tr>\n",
       "      <th>75%</th>\n",
       "      <td>15.500000</td>\n",
       "      <td>2.250000</td>\n",
       "      <td>7.000000</td>\n",
       "      <td>1.000000</td>\n",
       "      <td>0.254332</td>\n",
       "      <td>0.582543</td>\n",
       "      <td>63.0</td>\n",
       "      <td>NaN</td>\n",
       "      <td>NaN</td>\n",
       "      <td>NaN</td>\n",
       "      <td>2.932521e+09</td>\n",
       "      <td>NaN</td>\n",
       "      <td>NaN</td>\n",
       "      <td>NaN</td>\n",
       "      <td>NaN</td>\n",
       "      <td>0.00000</td>\n",
       "      <td>0.000000e+00</td>\n",
       "    </tr>\n",
       "    <tr>\n",
       "      <th>max</th>\n",
       "      <td>228.000000</td>\n",
       "      <td>54.000000</td>\n",
       "      <td>223.000000</td>\n",
       "      <td>1.000000</td>\n",
       "      <td>1.000000</td>\n",
       "      <td>inf</td>\n",
       "      <td>63.0</td>\n",
       "      <td>NaN</td>\n",
       "      <td>NaN</td>\n",
       "      <td>NaN</td>\n",
       "      <td>7.892661e+17</td>\n",
       "      <td>NaN</td>\n",
       "      <td>NaN</td>\n",
       "      <td>NaN</td>\n",
       "      <td>NaN</td>\n",
       "      <td>620.00000</td>\n",
       "      <td>1.295445e+08</td>\n",
       "    </tr>\n",
       "  </tbody>\n",
       "</table>\n",
       "</div>"
      ],
      "text/plain": [
       "          is_fake   is_first   is_source  source_rate  first_rate  \\\n",
       "count   92.000000  92.000000   92.000000    92.000000   92.000000   \n",
       "mean    17.706522   3.739130    9.336957     0.537902    0.174323   \n",
       "std     40.342092   8.527743   26.549261     0.369736    0.242284   \n",
       "min      1.000000   0.000000    0.000000     0.000000    0.000000   \n",
       "25%      1.000000   0.000000    1.000000     0.279720    0.000000   \n",
       "50%      4.000000   1.000000    2.000000     0.500000    0.102302   \n",
       "75%     15.500000   2.250000    7.000000     1.000000    0.254332   \n",
       "max    228.000000  54.000000  223.000000     1.000000    1.000000   \n",
       "\n",
       "       first_source_rate  code  favourites_count  followers_count  \\\n",
       "count          92.000000  92.0               0.0              0.0   \n",
       "mean                 inf  63.0               NaN              NaN   \n",
       "std                  NaN   0.0               NaN              NaN   \n",
       "min             0.000000  63.0               NaN              NaN   \n",
       "25%             0.000000  63.0               NaN              NaN   \n",
       "50%             0.183333  63.0               NaN              NaN   \n",
       "75%             0.582543  63.0               NaN              NaN   \n",
       "max                  inf  63.0               NaN              NaN   \n",
       "\n",
       "       friends_count            id  listed_count  statuses_count  time_zone  \\\n",
       "count            0.0  9.200000e+01           0.0             0.0        0.0   \n",
       "mean             NaN  4.026391e+16           NaN             NaN        NaN   \n",
       "std              NaN  1.690001e+17           NaN             NaN        NaN   \n",
       "min              NaN  1.513801e+09           NaN             NaN        NaN   \n",
       "25%              NaN  1.671006e+09           NaN             NaN        NaN   \n",
       "50%              NaN  2.492015e+09           NaN             NaN        NaN   \n",
       "75%              NaN  2.932521e+09           NaN             NaN        NaN   \n",
       "max              NaN  7.892661e+17           NaN             NaN        NaN   \n",
       "\n",
       "       utc_offset    CI_rank     CI_values  \n",
       "count         0.0   92.00000  9.200000e+01  \n",
       "mean          NaN   15.50000  2.367963e+06  \n",
       "std           NaN   84.76775  1.469957e+07  \n",
       "min           NaN    0.00000  0.000000e+00  \n",
       "25%           NaN    0.00000  0.000000e+00  \n",
       "50%           NaN    0.00000  0.000000e+00  \n",
       "75%           NaN    0.00000  0.000000e+00  \n",
       "max           NaN  620.00000  1.295445e+08  "
      ]
     },
     "execution_count": 291,
     "metadata": {},
     "output_type": "execute_result"
    }
   ],
   "source": [
    "ira_users.describe()"
   ]
  },
  {
   "cell_type": "code",
   "execution_count": 293,
   "metadata": {},
   "outputs": [],
   "source": [
    "## 明天把数据都补充上！这下就更牛逼了！"
   ]
  },
  {
   "cell_type": "markdown",
   "metadata": {},
   "source": [
    "___\n",
    "# 全面数据！ 包括bias, fake, center等等"
   ]
  },
  {
   "cell_type": "code",
   "execution_count": 193,
   "metadata": {},
   "outputs": [
    {
     "name": "stdout",
     "output_type": "stream",
     "text": [
      "CPU times: user 1min 21s, sys: 3.9 s, total: 1min 25s\n",
      "Wall time: 1min 25s\n"
     ]
    }
   ],
   "source": [
    "%time all_tweets = pd.read_csv(\"disk/all-tweets.csv\", dtype=str)"
   ]
  },
  {
   "cell_type": "code",
   "execution_count": 194,
   "metadata": {},
   "outputs": [],
   "source": [
    "from datetime import datetime\n",
    "\n",
    "all_tweets = all_tweets.astype({\"is_IRA\": int, \"is_first\": int, \"is_source\": int, \"dt\": datetime})"
   ]
  },
  {
   "cell_type": "code",
   "execution_count": 11,
   "metadata": {},
   "outputs": [
    {
     "data": {
      "text/html": [
       "<div>\n",
       "<style scoped>\n",
       "    .dataframe tbody tr th:only-of-type {\n",
       "        vertical-align: middle;\n",
       "    }\n",
       "\n",
       "    .dataframe tbody tr th {\n",
       "        vertical-align: top;\n",
       "    }\n",
       "\n",
       "    .dataframe thead th {\n",
       "        text-align: right;\n",
       "    }\n",
       "</style>\n",
       "<table border=\"1\" class=\"dataframe\">\n",
       "  <thead>\n",
       "    <tr style=\"text-align: right;\">\n",
       "      <th></th>\n",
       "      <th>URL</th>\n",
       "      <th>dt</th>\n",
       "      <th>fake</th>\n",
       "      <th>hostname</th>\n",
       "      <th>is_IRA</th>\n",
       "      <th>is_first</th>\n",
       "      <th>is_source</th>\n",
       "      <th>polarity</th>\n",
       "      <th>tweet_id</th>\n",
       "      <th>user_id</th>\n",
       "    </tr>\n",
       "  </thead>\n",
       "  <tbody>\n",
       "    <tr>\n",
       "      <th>0</th>\n",
       "      <td>https://wikileaks.org/podesta-emails/?q=&amp;mfrom...</td>\n",
       "      <td>2016-10-10 08:36:14</td>\n",
       "      <td>GOOD</td>\n",
       "      <td>wikileaks.org</td>\n",
       "      <td>0</td>\n",
       "      <td>1</td>\n",
       "      <td>1</td>\n",
       "      <td>RIGHTCENTER</td>\n",
       "      <td>785474021211140096</td>\n",
       "      <td>16589206</td>\n",
       "    </tr>\n",
       "    <tr>\n",
       "      <th>1</th>\n",
       "      <td>https://wikileaks.org/podesta-emails/?q=&amp;mfrom...</td>\n",
       "      <td>2016-10-10 08:46:51</td>\n",
       "      <td>GOOD</td>\n",
       "      <td>wikileaks.org</td>\n",
       "      <td>0</td>\n",
       "      <td>0</td>\n",
       "      <td>1</td>\n",
       "      <td>RIGHTCENTER</td>\n",
       "      <td>785476690940080128</td>\n",
       "      <td>1703623476</td>\n",
       "    </tr>\n",
       "    <tr>\n",
       "      <th>2</th>\n",
       "      <td>https://wikileaks.org/podesta-emails/?q=&amp;mfrom...</td>\n",
       "      <td>2016-10-10 08:54:38</td>\n",
       "      <td>GOOD</td>\n",
       "      <td>wikileaks.org</td>\n",
       "      <td>0</td>\n",
       "      <td>0</td>\n",
       "      <td>0</td>\n",
       "      <td>RIGHTCENTER</td>\n",
       "      <td>785478650502283264</td>\n",
       "      <td>775767583731703810</td>\n",
       "    </tr>\n",
       "    <tr>\n",
       "      <th>3</th>\n",
       "      <td>https://wikileaks.org/podesta-emails/?q=&amp;mfrom...</td>\n",
       "      <td>2016-10-10 08:55:26</td>\n",
       "      <td>GOOD</td>\n",
       "      <td>wikileaks.org</td>\n",
       "      <td>0</td>\n",
       "      <td>0</td>\n",
       "      <td>1</td>\n",
       "      <td>RIGHTCENTER</td>\n",
       "      <td>785478853338685444</td>\n",
       "      <td>1703623476</td>\n",
       "    </tr>\n",
       "    <tr>\n",
       "      <th>4</th>\n",
       "      <td>https://wikileaks.org/podesta-emails/?q=&amp;mfrom...</td>\n",
       "      <td>2016-10-10 09:06:00</td>\n",
       "      <td>GOOD</td>\n",
       "      <td>wikileaks.org</td>\n",
       "      <td>0</td>\n",
       "      <td>0</td>\n",
       "      <td>1</td>\n",
       "      <td>RIGHTCENTER</td>\n",
       "      <td>785481512472961025</td>\n",
       "      <td>562063761</td>\n",
       "    </tr>\n",
       "  </tbody>\n",
       "</table>\n",
       "</div>"
      ],
      "text/plain": [
       "                                                 URL                   dt  \\\n",
       "0  https://wikileaks.org/podesta-emails/?q=&mfrom...  2016-10-10 08:36:14   \n",
       "1  https://wikileaks.org/podesta-emails/?q=&mfrom...  2016-10-10 08:46:51   \n",
       "2  https://wikileaks.org/podesta-emails/?q=&mfrom...  2016-10-10 08:54:38   \n",
       "3  https://wikileaks.org/podesta-emails/?q=&mfrom...  2016-10-10 08:55:26   \n",
       "4  https://wikileaks.org/podesta-emails/?q=&mfrom...  2016-10-10 09:06:00   \n",
       "\n",
       "   fake       hostname  is_IRA  is_first  is_source     polarity  \\\n",
       "0  GOOD  wikileaks.org       0         1          1  RIGHTCENTER   \n",
       "1  GOOD  wikileaks.org       0         0          1  RIGHTCENTER   \n",
       "2  GOOD  wikileaks.org       0         0          0  RIGHTCENTER   \n",
       "3  GOOD  wikileaks.org       0         0          1  RIGHTCENTER   \n",
       "4  GOOD  wikileaks.org       0         0          1  RIGHTCENTER   \n",
       "\n",
       "             tweet_id             user_id  \n",
       "0  785474021211140096            16589206  \n",
       "1  785476690940080128          1703623476  \n",
       "2  785478650502283264  775767583731703810  \n",
       "3  785478853338685444          1703623476  \n",
       "4  785481512472961025           562063761  "
      ]
     },
     "execution_count": 11,
     "metadata": {},
     "output_type": "execute_result"
    }
   ],
   "source": [
    "all_tweets.head()"
   ]
  },
  {
   "cell_type": "code",
   "execution_count": 9,
   "metadata": {},
   "outputs": [],
   "source": [
    "bias_tweets = all_tweets[all_tweets[\"fake\"] == \"BIAS\"]"
   ]
  },
  {
   "cell_type": "code",
   "execution_count": 37,
   "metadata": {},
   "outputs": [
    {
     "data": {
      "text/plain": [
       "-1             1873714\n",
       "RIGHT          1062605\n",
       "LEFT            210705\n",
       "ANTISCIENCE     183588\n",
       "RIGHTCENTER      39246\n",
       "LEFTCENTER        2055\n",
       "Name: polarity, dtype: int64"
      ]
     },
     "execution_count": 37,
     "metadata": {},
     "output_type": "execute_result"
    }
   ],
   "source": [
    "bias_tweets[\"polarity\"].value_counts()"
   ]
  },
  {
   "cell_type": "markdown",
   "metadata": {},
   "source": [
    "## polarity 分析"
   ]
  },
  {
   "cell_type": "code",
   "execution_count": 42,
   "metadata": {},
   "outputs": [
    {
     "data": {
      "text/plain": [
       "3371913"
      ]
     },
     "execution_count": 42,
     "metadata": {},
     "output_type": "execute_result"
    }
   ],
   "source": [
    "len(set(bias_tweets.tweet_id))"
   ]
  },
  {
   "cell_type": "code",
   "execution_count": 53,
   "metadata": {},
   "outputs": [
    {
     "data": {
      "text/plain": [
       "LEFTCENTER     13646055\n",
       "LEFT            7990382\n",
       "RIGHT           6841486\n",
       "-1              3663201\n",
       "RIGHTCENTER     2808406\n",
       "CENTER          1407988\n",
       "ANTISCIENCE     1245821\n",
       "PROSCIENCE        59243\n",
       "Name: polarity, dtype: int64"
      ]
     },
     "execution_count": 53,
     "metadata": {},
     "output_type": "execute_result"
    }
   ],
   "source": [
    "all_tweets[\"polarity\"].value_counts()"
   ]
  },
  {
   "cell_type": "markdown",
   "metadata": {},
   "source": [
    "## Making all-users.csv ... ..."
   ]
  },
  {
   "cell_type": "code",
   "execution_count": 278,
   "metadata": {},
   "outputs": [],
   "source": [
    "%time all_tweets = pd.read_csv(\"disk/all-tweets.csv\", dtype=str)"
   ]
  },
  {
   "cell_type": "code",
   "execution_count": 279,
   "metadata": {},
   "outputs": [],
   "source": [
    "from datetime import datetime\n",
    "\n",
    "all_tweets = all_tweets.astype({\"is_IRA\": int, \"is_first\": int, \"is_source\": int, \"dt\": datetime})"
   ]
  },
  {
   "cell_type": "code",
   "execution_count": 290,
   "metadata": {},
   "outputs": [],
   "source": [
    "# caculate the rate\n",
    "\n",
    "f_labels = [\"FAKE\", \"BIAS\", \"LEFT\", \"LEFTCENTER\", \"CENTER\", \"RIGHTCENTER\", \"RIGHT\"]\n",
    "\n",
    "for f_label in f_labels:\n",
    "    users[f_label + \"_source_rate\"] = users[f_label + \"_source\"] / users[f_label]\n",
    "    users[f_label + \"_first_rate\"] = users[f_label + \"_first\"] / users[f_label]\n",
    "    users[f_label + \"_first_source_rate\"] = users[f_label + \"_first\"] / users[f_label + \"_source\"]"
   ]
  },
  {
   "cell_type": "code",
   "execution_count": 297,
   "metadata": {},
   "outputs": [],
   "source": [
    "# who is IRA?\n",
    "\n",
    "IRA_tweets = all_tweets[all_tweets[\"is_IRA\"]==1]\n",
    "IRA_u = IRA_tweets[\"is_IRA\"].groupby(tweets[\"user_id\"]).sum().rename(\"is_IRA\")\n",
    "users = pd.concat([users, IRA_u], axis=1, sort=False)"
   ]
  },
  {
   "cell_type": "code",
   "execution_count": 299,
   "metadata": {},
   "outputs": [],
   "source": [
    "users.fillna(0, inplace=True)"
   ]
  },
  {
   "cell_type": "code",
   "execution_count": 300,
   "metadata": {},
   "outputs": [],
   "source": [
    "# save data\n",
    "\n",
    "users[\"user_id\"] = users.index\n",
    "users.to_csv(\"data/all-users.csv\", index=False)"
   ]
  },
  {
   "cell_type": "code",
   "execution_count": 302,
   "metadata": {},
   "outputs": [],
   "source": [
    "users = pd.read_csv(\"data/all-users.csv\", index_col=\"user_id\", dtype={\"user_id\": str})\n",
    "\n",
    "# change the type\n",
    "f_labels = [\"FAKE\", \"BIAS\", \"LEFT\", \"LEFTCENTER\", \"CENTER\", \"RIGHTCENTER\", \"RIGHT\"]\n",
    "users = users.astype({\"is_IRA\": int})\n",
    "\n",
    "for label in f_labels:\n",
    "    users = users.astype({label: float, label + \"_source\": float, label + \"_first\": float, \n",
    "                          label + \"_source_rate\": float, label + \"_first_rate\": float, label + \"_first_source_rate\": float,})"
   ]
  },
  {
   "cell_type": "code",
   "execution_count": 305,
   "metadata": {},
   "outputs": [],
   "source": [
    "# user_id > name\n",
    "\n",
    "user_info = pd.DataFrame([json.loads(line.strip()) for line in open(\"data/user-top-info.json\")])\n",
    "user_info = user_info.rename(columns={'id_str': 'user_id'})\n",
    "user_info = user_info.set_index(\"user_id\")\n",
    "map_user_name = []\n",
    "\n",
    "for line in open(\"data/user-top-info.json\"):\n",
    "    d = json.loads(line.strip())\n",
    "    try:\n",
    "        dat = {\"user_id\": d[\"id_str\"], \"name\": d[\"name\"]}\n",
    "    except:\n",
    "        dat = {\"user_id\": d[\"id_str\"], \"name\": d[\"message\"]}\n",
    "    map_user_name.append(dat)\n",
    "    \n",
    "map_user_name = pd.DataFrame(map_user_name).set_index(\"user_id\")"
   ]
  },
  {
   "cell_type": "code",
   "execution_count": 307,
   "metadata": {},
   "outputs": [
    {
     "name": "stdout",
     "output_type": "stream",
     "text": [
      "FAKE\n",
      "BIAS\n",
      "LEFT\n",
      "LEFTCENTER\n",
      "CENTER\n",
      "RIGHTCENTER\n",
      "RIGHT\n"
     ]
    }
   ],
   "source": [
    "# Show the top sources !!!\n",
    "\n",
    "for label in f_labels:\n",
    "    print(label)\n",
    "    tmp = users.sort_values(label + \"_source\", ascending=False).head(25)\n",
    "    tmp = tmp.join(map_user_name)\n",
    "#     display(tmp)\n",
    "#     display(tmp[[label + \"_source\", \"name\"]].sort_values(label + \"_source\", ascending=False))\n",
    "    "
   ]
  },
  {
   "cell_type": "code",
   "execution_count": 308,
   "metadata": {},
   "outputs": [
    {
     "data": {
      "text/plain": [
       "Index(['FAKE', 'FAKE_first', 'FAKE_source', 'BIAS', 'BIAS_first',\n",
       "       'BIAS_source', 'LEFT', 'LEFT_first', 'LEFT_source', 'LEFTCENTER',\n",
       "       'LEFTCENTER_first', 'LEFTCENTER_source', 'CENTER', 'CENTER_first',\n",
       "       'CENTER_source', 'RIGHTCENTER', 'RIGHTCENTER_first',\n",
       "       'RIGHTCENTER_source', 'RIGHT', 'RIGHT_first', 'RIGHT_source',\n",
       "       'FAKE_source_rate', 'FAKE_first_rate', 'FAKE_first_source_rate',\n",
       "       'BIAS_source_rate', 'BIAS_first_rate', 'BIAS_first_source_rate',\n",
       "       'LEFT_source_rate', 'LEFT_first_rate', 'LEFT_first_source_rate',\n",
       "       'LEFTCENTER_source_rate', 'LEFTCENTER_first_rate',\n",
       "       'LEFTCENTER_first_source_rate', 'CENTER_source_rate',\n",
       "       'CENTER_first_rate', 'CENTER_first_source_rate',\n",
       "       'RIGHTCENTER_source_rate', 'RIGHTCENTER_first_rate',\n",
       "       'RIGHTCENTER_first_source_rate', 'RIGHT_source_rate',\n",
       "       'RIGHT_first_rate', 'RIGHT_first_source_rate', 'is_IRA'],\n",
       "      dtype='object')"
      ]
     },
     "execution_count": 308,
     "metadata": {},
     "output_type": "execute_result"
    }
   ],
   "source": [
    "users.columns"
   ]
  },
  {
   "cell_type": "markdown",
   "metadata": {},
   "source": [
    "## Are IRAs the sources of fake news or influencers? "
   ]
  },
  {
   "cell_type": "code",
   "execution_count": 312,
   "metadata": {},
   "outputs": [
    {
     "data": {
      "text/plain": [
       "276061"
      ]
     },
     "execution_count": 312,
     "metadata": {},
     "output_type": "execute_result"
    }
   ],
   "source": [
    "IRA_tweets = all_tweets[all_tweets[\"is_IRA\"]!=0]\n",
    "len(IRA_tweets)"
   ]
  },
  {
   "cell_type": "code",
   "execution_count": 313,
   "metadata": {},
   "outputs": [
    {
     "data": {
      "text/plain": [
       "10928"
      ]
     },
     "execution_count": 313,
     "metadata": {},
     "output_type": "execute_result"
    }
   ],
   "source": [
    "IRA_tweets_bingo = IRA_tweets[(IRA_tweets[\"fake\"] != \"GOOD\") | (IRA_tweets[\"polarity\"] != \"-1\")]\n",
    "len(IRA_tweets_bingo)"
   ]
  },
  {
   "cell_type": "code",
   "execution_count": 314,
   "metadata": {},
   "outputs": [
    {
     "data": {
      "text/plain": [
       "314"
      ]
     },
     "execution_count": 314,
     "metadata": {},
     "output_type": "execute_result"
    }
   ],
   "source": [
    "len(IRA_tweets_bingo.user_id.unique())"
   ]
  },
  {
   "cell_type": "code",
   "execution_count": 317,
   "metadata": {},
   "outputs": [],
   "source": [
    "IRA_users = users[users[\"is_IRA\"]>0]\n",
    "other_users = users[users[\"is_IRA\"]==0]"
   ]
  },
  {
   "cell_type": "code",
   "execution_count": 318,
   "metadata": {},
   "outputs": [
    {
     "data": {
      "text/plain": [
       "131"
      ]
     },
     "execution_count": 318,
     "metadata": {},
     "output_type": "execute_result"
    }
   ],
   "source": [
    "len(IRA_users)"
   ]
  },
  {
   "cell_type": "code",
   "execution_count": 319,
   "metadata": {},
   "outputs": [
    {
     "data": {
      "image/png": "[encoded data removed]",
      "text/plain": [
       "<Figure size 936x432 with 2 Axes>"
      ]
     },
     "metadata": {
      "needs_background": "light"
     },
     "output_type": "display_data"
    }
   ],
   "source": [
    "f_labels = [\"FAKE\", \"BIAS\", \"LEFT\", \"LEFTCENTER\", \"CENTER\", \"RIGHTCENTER\", \"RIGHT\"]\n",
    "\n",
    "from matplotlib.ticker import FuncFormatter\n",
    "\n",
    "plt.figure(figsize=(13, 6))\n",
    "ax = plt.subplot(121)\n",
    "x = range(len(f_labels))\n",
    "for i in x:\n",
    "    plt.bar(i, IRA_users[f_labels[i]].sum(), color=sns.color_palette(\"coolwarm\", 7)[6-i])\n",
    "plt.xticks(x, f_labels)\n",
    "plt.xlabel(\"IRAs\", fontsize=18)\n",
    "plt.ylabel('Volume of tweets', fontsize=15)\n",
    "plt.xticks(fontsize=9, rotation=40); plt.yticks(fontsize=14)\n",
    "# plt.savefig(\"fig/size-of-intersection500.pdf\", dpi=300, bbox_inches='tight')\n",
    "\n",
    "ax = plt.subplot(122)\n",
    "x = range(len(f_labels))\n",
    "for i in x:\n",
    "    plt.bar(i, other_users[f_labels[i]].sum(), color=sns.color_palette(\"coolwarm\", 7)[6-i])\n",
    "plt.xticks(x, f_labels)\n",
    "plt.xlabel(\"Others\", fontsize=18)\n",
    "# plt.ylabel('Source rate of tweets of all users', fontsize=15)\n",
    "plt.xticks(fontsize=9, rotation=40); plt.yticks(fontsize=14)\n",
    "def formatnum(x, pos):\n",
    "    return '$%.1f$x$10^{7}$' % (x/10000000)\n",
    "formatter = FuncFormatter(formatnum)\n",
    "ax.yaxis.set_major_formatter(formatter)\n",
    "\n",
    "plt.show()\n",
    "plt.tight_layout()\n",
    "plt.savefig(\"fig/IRA Volume.pdf\", dpi=300, bbox_inches='tight')\n",
    "plt.close()"
   ]
  },
  {
   "cell_type": "code",
   "execution_count": 320,
   "metadata": {},
   "outputs": [
    {
     "data": {
      "image/png": "[encoded data removed]",
      "text/plain": [
       "<Figure size 936x432 with 2 Axes>"
      ]
     },
     "metadata": {
      "needs_background": "light"
     },
     "output_type": "display_data"
    }
   ],
   "source": [
    "from matplotlib.ticker import FuncFormatter\n",
    "\n",
    "plt.figure(figsize=(13, 6))\n",
    "ax = plt.subplot(121)\n",
    "x = range(len(f_labels))\n",
    "for i in x:\n",
    "    plt.bar(i, IRA_users[f_labels[i] + \"_source\"].sum(), color=sns.color_palette(\"coolwarm\", 7)[6-i])\n",
    "plt.xticks(x, f_labels)\n",
    "plt.ylabel('Volume of source tweets', fontsize=15)\n",
    "plt.xlabel(\"IRAs\", fontsize=18)\n",
    "plt.xticks(fontsize=9, rotation=40); plt.yticks(fontsize=14)\n",
    "# plt.savefig(\"fig/size-of-intersection500.pdf\", dpi=300, bbox_inches='tight')\n",
    "\n",
    "ax = plt.subplot(122)\n",
    "x = range(len(f_labels))\n",
    "for i in x:\n",
    "    plt.bar(i, other_users[f_labels[i] + \"_source\"].sum(), color=sns.color_palette(\"coolwarm\", 7)[6-i])\n",
    "plt.xticks(x, f_labels)\n",
    "# plt.ylabel('Source rate of tweets of all users', fontsize=15)\n",
    "plt.xlabel(\"Others\", fontsize=18)\n",
    "plt.xticks(fontsize=9, rotation=40); plt.yticks(fontsize=14)\n",
    "def formatnum(x, pos):\n",
    "    return '$%.1f$x$10^{6}$' % (x/1000000)\n",
    "formatter = FuncFormatter(formatnum)\n",
    "ax.yaxis.set_major_formatter(formatter)\n",
    "\n",
    "plt.show()\n",
    "plt.tight_layout()\n",
    "plt.savefig(\"fig/IRA Volume source.pdf\", dpi=300, bbox_inches='tight')\n",
    "plt.close()"
   ]
  },
  {
   "cell_type": "code",
   "execution_count": 321,
   "metadata": {},
   "outputs": [
    {
     "data": {
      "image/png": "[encoded data removed]",
      "text/plain": [
       "<Figure size 936x432 with 2 Axes>"
      ]
     },
     "metadata": {
      "needs_background": "light"
     },
     "output_type": "display_data"
    }
   ],
   "source": [
    "from matplotlib.ticker import FuncFormatter\n",
    "\n",
    "plt.figure(figsize=(13, 6))\n",
    "ax = plt.subplot(121)\n",
    "x = range(len(f_labels))\n",
    "for i in x:\n",
    "    plt.bar(i, IRA_users[f_labels[i] + \"_source_rate\"].mean(), color=sns.color_palette(\"coolwarm\", 7)[6-i])\n",
    "plt.xticks(x, f_labels)\n",
    "plt.ylabel('Average source rate for users', fontsize=15)\n",
    "plt.xlabel(\"IRAs\", fontsize=18)\n",
    "plt.xticks(fontsize=9, rotation=40); plt.yticks(fontsize=14)\n",
    "plt.ylim((0, 1))\n",
    "# plt.savefig(\"fig/size-of-intersection500.pdf\", dpi=300, bbox_inches='tight')\n",
    "\n",
    "ax = plt.subplot(122)\n",
    "x = range(len(f_labels))\n",
    "for i in x:\n",
    "    plt.bar(i, other_users[f_labels[i] + \"_source_rate\"].mean(), color=sns.color_palette(\"coolwarm\", 7)[6-i])\n",
    "plt.xlabel(\"Others\", fontsize=18)    \n",
    "plt.xticks(x, f_labels)\n",
    "# plt.ylabel('Source rate of tweets of all users', fontsize=15)\n",
    "plt.xticks(fontsize=9, rotation=40); plt.yticks(fontsize=14)\n",
    "plt.ylim((0, 1))\n",
    "\n",
    "plt.show()\n",
    "plt.tight_layout()\n",
    "plt.savefig(\"fig/IRA Volume source rate.pdf\", dpi=300, bbox_inches='tight')\n",
    "plt.close()"
   ]
  },
  {
   "cell_type": "code",
   "execution_count": 322,
   "metadata": {},
   "outputs": [
    {
     "name": "stdout",
     "output_type": "stream",
     "text": [
      "FAKE ...\n",
      "267\n",
      "286\n",
      "613\n",
      "685\n",
      "694\n",
      "658\n",
      "BIAS ...\n",
      "402\n",
      "542\n",
      "415\n",
      "980\n",
      "871\n",
      "615\n",
      "LEFT ...\n",
      "LEFTCENTER ...\n",
      "CENTER ...\n",
      "RIGHTCENTER ...\n",
      "435\n",
      "284\n",
      "924\n",
      "RIGHT ...\n",
      "377\n",
      "565\n",
      "339\n",
      "672\n",
      "878\n"
     ]
    },
    {
     "data": {
      "text/plain": [
       "{'FAKE': 6,\n",
       " 'BIAS': 6,\n",
       " 'LEFT': 0,\n",
       " 'LEFTCENTER': 0,\n",
       " 'CENTER': 0,\n",
       " 'RIGHTCENTER': 3,\n",
       " 'RIGHT': 5}"
      ]
     },
     "metadata": {},
     "output_type": "display_data"
    },
    {
     "data": {
      "image/png": "[encoded data removed]",
      "text/plain": [
       "<Figure size 432x432 with 1 Axes>"
      ]
     },
     "metadata": {
      "needs_background": "light"
     },
     "output_type": "display_data"
    }
   ],
   "source": [
    "top_num = 1000\n",
    "\n",
    "len_intersection = {}\n",
    "\n",
    "for label in f_labels:\n",
    "    print(label, \"...\")\n",
    "    CI_rst = np.load(\"data/CI_rst/CI_out_{}.npy\".format(label))\n",
    "    CI_rank_rst = CI_rst[0][:top_num]\n",
    "    # print(CI_rank_rst)\n",
    "    CI_values_rst = CI_rst[1]\n",
    "    \n",
    "    set_CI_users = set(CI_rank_rst)\n",
    "    set_source_users = set()\n",
    "    \n",
    "    for user_id, row in IRA_users.iterrows():\n",
    "        node_id = node_map[user_id]\n",
    "        set_source_users.add(node_id)\n",
    "        try:\n",
    "            i = CI_rank_rst.index(node_id)\n",
    "            print(i)\n",
    "            rank = top_num - i\n",
    "        except ValueError as e:\n",
    "            rank = 0\n",
    "\n",
    "    len_intersection[label] = len(set_CI_users & set_source_users)\n",
    "\n",
    "    \n",
    "def plot_corr(cor):\n",
    "    display(cor)\n",
    "    plt.figure(figsize=(6, 6))\n",
    "    x = range(len(f_labels))\n",
    "    for i in x:\n",
    "        plt.bar(i, cor[f_labels[i]], color=sns.color_palette(\"coolwarm\", 7)[6-i])\n",
    "    plt.xticks(x, f_labels)\n",
    "#     plt.xlabel('Only IRA', fontsize=15)\n",
    "    plt.ylabel('Size of intersection between 1000 top CIs and IRAs', fontsize=15)\n",
    "    plt.xticks(fontsize=9, rotation=40); plt.yticks(fontsize=14)\n",
    "    plt.savefig(\"fig/size-of-intersection500.pdf\", dpi=300, bbox_inches='tight')\n",
    "    plt.show()\n",
    "    plt.tight_layout()\n",
    "    plt.close()\n",
    "    \n",
    "plot_corr(len_intersection)"
   ]
  },
  {
   "cell_type": "code",
   "execution_count": 98,
   "metadata": {},
   "outputs": [
    {
     "data": {
      "text/plain": [
       "[{'user_id': 56257941,\n",
       "  'first_location': None,\n",
       "  'first_tweet_time_EST': '2016-10-14 19:36:41',\n",
       "  'latest_tweet_time_EST': '2016-11-03 09:47:28',\n",
       "  'num_tweet': 8}]"
      ]
     },
     "execution_count": 98,
     "metadata": {},
     "output_type": "execute_result"
    }
   ],
   "source": [
    "from SQLite_handler import find_users\n",
    "\n",
    "find_users([56257941])"
   ]
  },
  {
   "cell_type": "code",
   "execution_count": null,
   "metadata": {},
   "outputs": [],
   "source": []
  },
  {
   "cell_type": "markdown",
   "metadata": {},
   "source": [
    "## Are IRAs the sources of fake news or influencers? "
   ]
  },
  {
   "cell_type": "code",
   "execution_count": null,
   "metadata": {},
   "outputs": [],
   "source": []
  }
 ],
 "metadata": {
  "kernelspec": {
   "display_name": "Python 3",
   "language": "python",
   "name": "python3"
  },
  "language_info": {
   "codemirror_mode": {
    "name": "ipython",
    "version": 3
   },
   "file_extension": ".py",
   "mimetype": "text/x-python",
   "name": "python",
   "nbconvert_exporter": "python",
   "pygments_lexer": "ipython3",
   "version": "3.6.6"
  }
 },
 "nbformat": 4,
 "nbformat_minor": 2
}
