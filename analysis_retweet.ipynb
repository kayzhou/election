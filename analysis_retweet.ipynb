{
 "cells": [
  {
   "cell_type": "code",
   "execution_count": 2,
   "metadata": {},
   "outputs": [],
   "source": [
    "import networkx as nx"
   ]
  },
  {
   "cell_type": "code",
   "execution_count": 3,
   "metadata": {},
   "outputs": [
    {
     "name": "stdout",
     "output_type": "stream",
     "text": [
      "1930939 1663428\n"
     ]
    }
   ],
   "source": [
    "# load network\n",
    "\n",
    "# 目前关注转发网络，且网络中存在至少一次转发\n",
    "\n",
    "nodes = set()\n",
    "edges = []\n",
    "\n",
    "for line in open(\"data/edge-tid-fake-news.txt\"):\n",
    "    n1, n2 = line.strip().split(\"\\t\")\n",
    "    n1 = int(n1); n2 = int(n2)\n",
    "    nodes.add(n1)\n",
    "    nodes.add(n2)\n",
    "    # n1 -> n2\n",
    "    edges.append((n1, n2))\n",
    "    \n",
    "print(len(nodes), len(edges))"
   ]
  },
  {
   "cell_type": "code",
   "execution_count": 5,
   "metadata": {},
   "outputs": [
    {
     "data": {
      "image/png": "[encoded data removed]",
      "text/plain": [
       "<Figure size 432x288 with 1 Axes>"
      ]
     },
     "metadata": {},
     "output_type": "display_data"
    }
   ],
   "source": [
    "import matplotlib.pyplot as plt\n",
    "G = nx.DiGraph()\n",
    "# G.add_nodes_from(list(nodes))\n",
    "G.add_edges_from([(1,2), (3,2), (2,4)])\n",
    "nx.draw(G)\n",
    "plt.show()"
   ]
  },
  {
   "cell_type": "code",
   "execution_count": 6,
   "metadata": {},
   "outputs": [],
   "source": [
    "G = nx.DiGraph()\n",
    "G.add_edges_from(edges)"
   ]
  },
  {
   "cell_type": "code",
   "execution_count": 8,
   "metadata": {},
   "outputs": [],
   "source": [
    "with open(\"data/fake_source.txt\", \"w\") as f:\n",
    "    for deg in G.in_degree():\n",
    "        if deg[1] == 0:\n",
    "            f.write(str(deg[0]) + '\\n')"
   ]
  }
 ],
 "metadata": {
  "kernelspec": {
   "display_name": "Python 3",
   "language": "python",
   "name": "python3"
  },
  "language_info": {
   "codemirror_mode": {
    "name": "ipython",
    "version": 3
   },
   "file_extension": ".py",
   "mimetype": "text/x-python",
   "name": "python",
   "nbconvert_exporter": "python",
   "pygments_lexer": "ipython3",
   "version": "3.7.0"
  }
 },
 "nbformat": 4,
 "nbformat_minor": 2
}
