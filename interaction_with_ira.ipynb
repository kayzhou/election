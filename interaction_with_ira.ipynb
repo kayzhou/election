{
 "cells": [
  {
   "cell_type": "code",
   "execution_count": 1,
   "metadata": {},
   "outputs": [],
   "source": [
    "from my_weapon import *\n",
    "from tqdm import tqdm_notebook as tqdm\n",
    "from fake_identify import Are_you_IRA\n",
    "\n",
    "Putin = Are_you_IRA()"
   ]
  },
  {
   "cell_type": "markdown",
   "metadata": {},
   "source": [
    "## retweet reply and mention 交互"
   ]
  },
  {
   "cell_type": "code",
   "execution_count": null,
   "metadata": {},
   "outputs": [],
   "source": [
    "def num_of_interaction(G):\n",
    "    print(G.number_of_nodes(), G.number_of_edges())\n",
    "    freq_ira_as_n1 = []\n",
    "    freq_ira_as_n2 = []\n",
    "    freq_ira_toge = []\n",
    "\n",
    "    for e in tqdm(G.edges(data=True)):\n",
    "        if Putin.fuck(e[0]) and Putin.fuck(e[1]):\n",
    "            freq_ira_toge.append(e[2][\"weight\"])\n",
    "        if Putin.fuck(e[0]) and not Putin.fuck(e[1]):\n",
    "            freq_ira_as_n1.append(e[2][\"weight\"])\n",
    "        if Putin.fuck(e[1]) and not Putin.fuck(e[0]):\n",
    "            freq_ira_as_n2.append(e[2][\"weight\"])\n",
    "\n",
    "    freq_ira_as_n1 = pd.Series(freq_ira_as_n1)\n",
    "    freq_ira_as_n2 = pd.Series(freq_ira_as_n2)\n",
    "    freq_ira_toge = pd.Series(freq_ira_toge)\n",
    "    \n",
    "    print(freq_ira_as_n1.describe())\n",
    "    freq_ira_as_n1.hist()\n",
    "    plt.show()\n",
    "    plt.close()\n",
    "    print(freq_ira_as_n2.describe())\n",
    "    freq_ira_as_n2.hist()\n",
    "    plt.show()\n",
    "    plt.close()\n",
    "    print(freq_ira_toge.describe())\n",
    "    \n",
    "    return freq_ira_as_n1, freq_ira_as_n2"
   ]
  },
  {
   "cell_type": "code",
   "execution_count": 10,
   "metadata": {},
   "outputs": [],
   "source": [
    "%matplotlib inline\n",
    "\n",
    "def get_cdf_pdf(data, mini, maxi, step, norm=True):\n",
    "    x = [float(i) for i in np.arange(mini, maxi, step)]\n",
    "    cdf = [0] * len(x)\n",
    "    pdf = [0] * len(x)\n",
    "    count = 0\n",
    "    for d in data:\n",
    "        d = float(d)\n",
    "        if d < mini or d > maxi:\n",
    "            continue\n",
    "        count += 1\n",
    "        for i in range(len(x)):\n",
    "            if i == (len(x) - 1) and d >= x[i]:\n",
    "                pdf[i] += 1\n",
    "            elif d >= x[i] and d < x[i+1]:\n",
    "                pdf[i] += 1\n",
    "\n",
    "            if d >= x[i]:\n",
    "                cdf[i] += 1\n",
    "\n",
    "    if norm:\n",
    "        cdf = [c / count for c in cdf]\n",
    "        pdf = [p / count for p in pdf]\n",
    "\n",
    "    return x, cdf, pdf"
   ]
  },
  {
   "cell_type": "code",
   "execution_count": 93,
   "metadata": {},
   "outputs": [
    {
     "name": "stdout",
     "output_type": "stream",
     "text": [
      "123368 240481\n"
     ]
    },
    {
     "data": {
      "application/vnd.jupyter.widget-view+json": {
       "model_id": "fba1b1fd033a4e329d0bfd07815d6a3a",
       "version_major": 2,
       "version_minor": 0
      },
      "text/plain": [
       "HBox(children=(IntProgress(value=0, max=240481), HTML(value='')))"
      ]
     },
     "metadata": {},
     "output_type": "display_data"
    },
    {
     "name": "stdout",
     "output_type": "stream",
     "text": [
      "\n",
      "count    230320.000000\n",
      "mean          2.464185\n",
      "std           4.490389\n",
      "min           1.000000\n",
      "25%           1.000000\n",
      "50%           1.000000\n",
      "75%           2.000000\n",
      "max         202.000000\n",
      "dtype: float64\n"
     ]
    },
    {
     "data": {
      "image/png": "[encoded data removed]",
      "text/plain": [
       "<Figure size 432x288 with 1 Axes>"
      ]
     },
     "metadata": {
      "needs_background": "light"
     },
     "output_type": "display_data"
    },
    {
     "name": "stdout",
     "output_type": "stream",
     "text": [
      "count    10411.000000\n",
      "mean         1.309672\n",
      "std          1.299213\n",
      "min          1.000000\n",
      "25%          1.000000\n",
      "50%          1.000000\n",
      "75%          1.000000\n",
      "max         57.000000\n",
      "dtype: float64\n"
     ]
    },
    {
     "data": {
      "image/png": "[encoded data removed]",
      "text/plain": [
       "<Figure size 432x288 with 1 Axes>"
      ]
     },
     "metadata": {
      "needs_background": "light"
     },
     "output_type": "display_data"
    },
    {
     "name": "stdout",
     "output_type": "stream",
     "text": [
      "count    250.000000\n",
      "mean       1.932000\n",
      "std        2.617399\n",
      "min        1.000000\n",
      "25%        1.000000\n",
      "50%        1.000000\n",
      "75%        2.000000\n",
      "max       27.000000\n",
      "dtype: float64\n"
     ]
    }
   ],
   "source": [
    "G = nx.read_gpickle(\"disk/ira-ret-SQL.gp\")\n",
    "freq_ira_as_n1, freq_ira_as_n2 = num_of_interaction(G)"
   ]
  },
  {
   "cell_type": "code",
   "execution_count": 78,
   "metadata": {},
   "outputs": [
    {
     "data": {
      "text/plain": [
       "<matplotlib.legend.Legend at 0x7f8818ac48d0>"
      ]
     },
     "execution_count": 78,
     "metadata": {},
     "output_type": "execute_result"
    },
    {
     "data": {
      "image/png": "[encoded data removed]",
      "text/plain": [
       "<Figure size 432x288 with 1 Axes>"
      ]
     },
     "metadata": {
      "needs_background": "light"
     },
     "output_type": "display_data"
    }
   ],
   "source": [
    "# plt.figure(figsize=(8, 6))\n",
    "x, cdf, pdf = get_cdf_pdf(freq_ira_as_n1, 0, 200, 5)\n",
    "plt.xscale('log'); plt.yscale('log')\n",
    "plt.plot(x, cdf, label='be retweeted')\n",
    "\n",
    "x, cdf, pdf = get_cdf_pdf(freq_ira_as_n2, 0, 200, 5)\n",
    "plt.xscale('log'); plt.yscale('log')\n",
    "plt.plot(x, cdf, label='retweet')\n",
    "plt.legend()"
   ]
  },
  {
   "cell_type": "code",
   "execution_count": 94,
   "metadata": {},
   "outputs": [
    {
     "name": "stdout",
     "output_type": "stream",
     "text": [
      "11784 13773\n"
     ]
    },
    {
     "data": {
      "application/vnd.jupyter.widget-view+json": {
       "model_id": "cb79aa4f9e5040eb8037ad6c7cd64b8f",
       "version_major": 2,
       "version_minor": 0
      },
      "text/plain": [
       "HBox(children=(IntProgress(value=0, max=13773), HTML(value='')))"
      ]
     },
     "metadata": {},
     "output_type": "display_data"
    },
    {
     "name": "stdout",
     "output_type": "stream",
     "text": [
      "\n",
      "count    13622.000000\n",
      "mean         1.178828\n",
      "std          0.659280\n",
      "min          1.000000\n",
      "25%          1.000000\n",
      "50%          1.000000\n",
      "75%          1.000000\n",
      "max         15.000000\n",
      "dtype: float64\n"
     ]
    },
    {
     "data": {
      "image/png": "[encoded data removed]",
      "text/plain": [
       "<Figure size 432x288 with 1 Axes>"
      ]
     },
     "metadata": {
      "needs_background": "light"
     },
     "output_type": "display_data"
    },
    {
     "name": "stdout",
     "output_type": "stream",
     "text": [
      "count    169.000000\n",
      "mean       1.579882\n",
      "std        3.397453\n",
      "min        1.000000\n",
      "25%        1.000000\n",
      "50%        1.000000\n",
      "75%        1.000000\n",
      "max       34.000000\n",
      "dtype: float64\n"
     ]
    },
    {
     "data": {
      "image/png": "[encoded data removed]",
      "text/plain": [
       "<Figure size 432x288 with 1 Axes>"
      ]
     },
     "metadata": {
      "needs_background": "light"
     },
     "output_type": "display_data"
    },
    {
     "name": "stdout",
     "output_type": "stream",
     "text": [
      "count    18.0\n",
      "mean      1.0\n",
      "std       0.0\n",
      "min       1.0\n",
      "25%       1.0\n",
      "50%       1.0\n",
      "75%       1.0\n",
      "max       1.0\n",
      "dtype: float64\n"
     ]
    }
   ],
   "source": [
    "G = nx.read_gpickle(\"disk/ira-rep-SQL.gp\")\n",
    "freq_ira_as_n1, freq_ira_as_n2 = num_of_interaction(G)"
   ]
  },
  {
   "cell_type": "code",
   "execution_count": 82,
   "metadata": {},
   "outputs": [
    {
     "data": {
      "text/plain": [
       "<matplotlib.legend.Legend at 0x7f88188f5898>"
      ]
     },
     "execution_count": 82,
     "metadata": {},
     "output_type": "execute_result"
    },
    {
     "data": {
      "image/png": "[encoded data removed]",
      "text/plain": [
       "<Figure size 432x288 with 1 Axes>"
      ]
     },
     "metadata": {
      "needs_background": "light"
     },
     "output_type": "display_data"
    }
   ],
   "source": [
    "# plt.figure(figsize=(8, 6))\n",
    "x, cdf, pdf = get_cdf_pdf(freq_ira_as_n1, 0, 160, 1)\n",
    "plt.xscale('log'); plt.yscale('log')\n",
    "plt.plot(x, cdf, label='be replied')\n",
    "\n",
    "x, cdf, pdf = get_cdf_pdf(freq_ira_as_n2, 0, 160, 1)\n",
    "plt.xscale('log'); plt.yscale('log')\n",
    "plt.plot(x, cdf, label='reply')\n",
    "plt.legend()"
   ]
  },
  {
   "cell_type": "code",
   "execution_count": 95,
   "metadata": {},
   "outputs": [
    {
     "name": "stdout",
     "output_type": "stream",
     "text": [
      "16854 22137\n"
     ]
    },
    {
     "data": {
      "application/vnd.jupyter.widget-view+json": {
       "model_id": "4569694da0d0498b9832a3abb756be77",
       "version_major": 2,
       "version_minor": 0
      },
      "text/plain": [
       "HBox(children=(IntProgress(value=0, max=22137), HTML(value='')))"
      ]
     },
     "metadata": {},
     "output_type": "display_data"
    },
    {
     "name": "stdout",
     "output_type": "stream",
     "text": [
      "\n",
      "count    3858.000000\n",
      "mean        1.707102\n",
      "std         5.900898\n",
      "min         1.000000\n",
      "25%         1.000000\n",
      "50%         1.000000\n",
      "75%         1.000000\n",
      "max       206.000000\n",
      "dtype: float64\n"
     ]
    },
    {
     "data": {
      "image/png": "[encoded data removed]",
      "text/plain": [
       "<Figure size 432x288 with 1 Axes>"
      ]
     },
     "metadata": {
      "needs_background": "light"
     },
     "output_type": "display_data"
    },
    {
     "name": "stdout",
     "output_type": "stream",
     "text": [
      "count    18311.000000\n",
      "mean         1.391513\n",
      "std          1.506045\n",
      "min          1.000000\n",
      "25%          1.000000\n",
      "50%          1.000000\n",
      "75%          1.000000\n",
      "max        107.000000\n",
      "dtype: float64\n"
     ]
    },
    {
     "data": {
      "image/png": "[encoded data removed]",
      "text/plain": [
       "<Figure size 432x288 with 1 Axes>"
      ]
     },
     "metadata": {
      "needs_background": "light"
     },
     "output_type": "display_data"
    },
    {
     "name": "stdout",
     "output_type": "stream",
     "text": [
      "count    32.000000\n",
      "mean      1.125000\n",
      "std       0.421212\n",
      "min       1.000000\n",
      "25%       1.000000\n",
      "50%       1.000000\n",
      "75%       1.000000\n",
      "max       3.000000\n",
      "dtype: float64\n"
     ]
    }
   ],
   "source": [
    "G = nx.read_gpickle(\"disk/ira-men-SQL.gp\")\n",
    "freq_ira_as_n1, freq_ira_as_n2 = num_of_interaction(G)"
   ]
  },
  {
   "cell_type": "code",
   "execution_count": 84,
   "metadata": {},
   "outputs": [
    {
     "data": {
      "text/plain": [
       "<matplotlib.legend.Legend at 0x7f8818a4ef60>"
      ]
     },
     "execution_count": 84,
     "metadata": {},
     "output_type": "execute_result"
    },
    {
     "data": {
      "image/png": "[encoded data removed]",
      "text/plain": [
       "<Figure size 432x288 with 1 Axes>"
      ]
     },
     "metadata": {
      "needs_background": "light"
     },
     "output_type": "display_data"
    }
   ],
   "source": [
    "# plt.figure(figsize=(8, 6))\n",
    "x, cdf, pdf = get_cdf_pdf(freq_ira_as_n1, 0, 200, 5)\n",
    "plt.xscale('log'); plt.yscale('log')\n",
    "plt.plot(x, cdf, label='be @')\n",
    "\n",
    "x, cdf, pdf = get_cdf_pdf(freq_ira_as_n2, 0, 200, 5)\n",
    "plt.xscale('log'); plt.yscale('log')\n",
    "plt.plot(x, cdf, label='@')\n",
    "plt.legend()"
   ]
  },
  {
   "cell_type": "code",
   "execution_count": null,
   "metadata": {},
   "outputs": [],
   "source": [
    "sns.set(style=\"ticks\")\n",
    "\n",
    "rs = np.random.RandomState(11)\n",
    "x = rs.gamma(2, size=1000)\n",
    "y = -.5 * x + rs.normal(size=1000)\n",
    "\n",
    "sns.jointplot(x, y, kind=\"hex\", color=\"#4CB391\")"
   ]
  },
  {
   "cell_type": "code",
   "execution_count": 3,
   "metadata": {},
   "outputs": [],
   "source": [
    "from collections import defaultdict\n",
    "users = {}\n",
    "\n",
    "G = nx.read_gpickle(\"disk/ira-ret.gp\")\n",
    "for e in G.edges(data=True):\n",
    "    if e[0] not in users:\n",
    "        users[e[0]] = {\"user_id\": e[0], \"in_rep\": 0, \"out_rep\": 0, \"in_men\": 0, \"out_men\": 0, \"in_ret\": 0, \"out_ret\": 0}\n",
    "    if e[1] not in users:\n",
    "        users[e[1]] = {\"user_id\": e[1], \"in_rep\": 0, \"out_rep\": 0, \"in_men\": 0, \"out_men\": 0, \"in_ret\": 0, \"out_ret\": 0}\n",
    "         \n",
    "    if Putin.fuck(e[1]):   \n",
    "        users[e[0]][\"out_ret\"] += e[2][\"weight\"]\n",
    "    if Putin.fuck(e[0]):\n",
    "        users[e[1]][\"in_ret\"] += e[2][\"weight\"]\n",
    "\n",
    "G = nx.read_gpickle(\"disk/ira-rep.gp\")\n",
    "for e in G.edges(data=True):\n",
    "    if e[0] not in users:\n",
    "        users[e[0]] = {\"user_id\": e[0], \"in_rep\": 0, \"out_rep\": 0, \"in_men\": 0, \"out_men\": 0, \"in_ret\": 0, \"out_ret\": 0}\n",
    "    if e[1] not in users:\n",
    "        users[e[1]] = {\"user_id\": e[1], \"in_rep\": 0, \"out_rep\": 0, \"in_men\": 0, \"out_men\": 0, \"in_ret\": 0, \"out_ret\": 0}\n",
    "    \n",
    "    if Putin.fuck(e[1]):\n",
    "        users[e[0]][\"out_rep\"] += e[2][\"weight\"]\n",
    "    if Putin.fuck(e[0]):\n",
    "        users[e[1]][\"in_rep\"] += e[2][\"weight\"]\n",
    "    \n",
    "G = nx.read_gpickle(\"disk/ira-men.gp\")\n",
    "for e in G.edges(data=True):\n",
    "    if e[0] not in users:\n",
    "        users[e[0]] = {\"user_id\": e[0], \"in_rep\": 0, \"out_rep\": 0, \"in_men\": 0, \"out_men\": 0, \"in_ret\": 0, \"out_ret\": 0}\n",
    "    if e[1] not in users:\n",
    "        users[e[1]] = {\"user_id\": e[1], \"in_rep\": 0, \"out_rep\": 0, \"in_men\": 0, \"out_men\": 0, \"in_ret\": 0, \"out_ret\": 0}\n",
    "    \n",
    "    if Putin.fuck(e[1]):\n",
    "        users[e[0]][\"out_men\"] += e[2][\"weight\"]\n",
    "    if Putin.fuck(e[0]):\n",
    "        users[e[1]][\"in_men\"] += e[2][\"weight\"]\n",
    "    \n",
    "    \n",
    "for uid in list(Putin.IRA_user_set):\n",
    "    try:\n",
    "        del users[uid]\n",
    "    except:\n",
    "        pass\n",
    "    \n",
    "users = pd.DataFrame(users).transpose()"
   ]
  },
  {
   "cell_type": "code",
   "execution_count": 24,
   "metadata": {},
   "outputs": [
    {
     "name": "stdout",
     "output_type": "stream",
     "text": [
      "count    58796.000000\n",
      "mean         5.507654\n",
      "std         40.305442\n",
      "min          1.000000\n",
      "25%          1.000000\n",
      "50%          1.000000\n",
      "75%          3.000000\n",
      "max       5064.000000\n",
      "dtype: float64\n"
     ]
    },
    {
     "data": {
      "text/plain": [
       "[<matplotlib.lines.Line2D at 0x7f2999cdcd68>]"
      ]
     },
     "execution_count": 24,
     "metadata": {},
     "output_type": "execute_result"
    },
    {
     "data": {
      "image/png": "[encoded data removed]",
      "text/plain": [
       "<Figure size 432x288 with 1 Axes>"
      ]
     },
     "metadata": {},
     "output_type": "display_data"
    }
   ],
   "source": [
    "sns.set(style=\"white\")\n",
    "\n",
    "freq = pd.Series([v for v in users.in_men if v > 0])\n",
    "print(freq.describe())\n",
    "x, cdf, pdf = get_cdf_pdf(freq, 0, 3000, 10)\n",
    "plt.yscale('log')\n",
    "plt.xscale('log')\n",
    "plt.plot(x, cdf)"
   ]
  },
  {
   "cell_type": "code",
   "execution_count": 26,
   "metadata": {},
   "outputs": [
    {
     "name": "stdout",
     "output_type": "stream",
     "text": [
      "count    14940.000000\n",
      "mean         1.703079\n",
      "std          2.101081\n",
      "min          1.000000\n",
      "25%          1.000000\n",
      "50%          1.000000\n",
      "75%          2.000000\n",
      "max        107.000000\n",
      "dtype: float64\n"
     ]
    },
    {
     "data": {
      "text/plain": [
       "[<matplotlib.lines.Line2D at 0x7f2999efef60>]"
      ]
     },
     "execution_count": 26,
     "metadata": {},
     "output_type": "execute_result"
    },
    {
     "data": {
      "image/png": "[encoded data removed]",
      "text/plain": [
       "<Figure size 432x288 with 1 Axes>"
      ]
     },
     "metadata": {},
     "output_type": "display_data"
    }
   ],
   "source": [
    "freq = pd.Series([v for v in users.out_men if v > 0])\n",
    "print(freq.describe())\n",
    "x, cdf, pdf = get_cdf_pdf(freq, 0, 100, 2)\n",
    "plt.yscale('log')\n",
    "plt.xscale('log')\n",
    "plt.plot(x, cdf)"
   ]
  },
  {
   "cell_type": "code",
   "execution_count": 21,
   "metadata": {},
   "outputs": [
    {
     "name": "stdout",
     "output_type": "stream",
     "text": [
      "count    11542.000000\n",
      "mean         1.389707\n",
      "std          1.136590\n",
      "min          1.000000\n",
      "25%          1.000000\n",
      "50%          1.000000\n",
      "75%          1.000000\n",
      "max         29.000000\n",
      "dtype: float64\n"
     ]
    },
    {
     "data": {
      "text/plain": [
       "[<matplotlib.lines.Line2D at 0x7f299b60a2e8>]"
      ]
     },
     "execution_count": 21,
     "metadata": {},
     "output_type": "execute_result"
    },
    {
     "data": {
      "image/png": "[encoded data removed]",
      "text/plain": [
       "<Figure size 432x288 with 1 Axes>"
      ]
     },
     "metadata": {},
     "output_type": "display_data"
    }
   ],
   "source": [
    "freq = pd.Series([v for v in users.in_rep if v > 0])\n",
    "print(freq.describe())\n",
    "x, cdf, pdf = get_cdf_pdf(freq, 0, 30, 1)\n",
    "plt.yscale('log')\n",
    "plt.xscale('log')\n",
    "plt.plot(x, cdf)"
   ]
  },
  {
   "cell_type": "code",
   "execution_count": 28,
   "metadata": {},
   "outputs": [
    {
     "name": "stdout",
     "output_type": "stream",
     "text": [
      "count    2843.000000\n",
      "mean        1.725642\n",
      "std         6.680715\n",
      "min         1.000000\n",
      "25%         1.000000\n",
      "50%         1.000000\n",
      "75%         1.000000\n",
      "max       274.000000\n",
      "dtype: float64\n"
     ]
    },
    {
     "data": {
      "text/plain": [
       "[<matplotlib.lines.Line2D at 0x7f2999feae10>]"
      ]
     },
     "execution_count": 28,
     "metadata": {},
     "output_type": "execute_result"
    },
    {
     "data": {
      "image/png": "[encoded data removed]",
      "text/plain": [
       "<Figure size 432x288 with 1 Axes>"
      ]
     },
     "metadata": {},
     "output_type": "display_data"
    }
   ],
   "source": [
    "freq = pd.Series([v for v in users.out_rep if v > 0])\n",
    "print(freq.describe())\n",
    "x, cdf, pdf = get_cdf_pdf(freq, 0, 300, 2)\n",
    "plt.yscale('log')\n",
    "plt.xscale('log')\n",
    "plt.plot(x, cdf)"
   ]
  },
  {
   "cell_type": "code",
   "execution_count": 23,
   "metadata": {},
   "outputs": [
    {
     "name": "stdout",
     "output_type": "stream",
     "text": [
      "count    120123.000000\n",
      "mean          4.720728\n",
      "std          10.208152\n",
      "min           1.000000\n",
      "25%           1.000000\n",
      "50%           1.000000\n",
      "75%           4.000000\n",
      "max         444.000000\n",
      "dtype: float64\n"
     ]
    },
    {
     "data": {
      "text/plain": [
       "[<matplotlib.lines.Line2D at 0x7f2998aed9e8>]"
      ]
     },
     "execution_count": 23,
     "metadata": {},
     "output_type": "execute_result"
    },
    {
     "data": {
      "image/png": "[encoded data removed]",
      "text/plain": [
       "<Figure size 432x288 with 1 Axes>"
      ]
     },
     "metadata": {},
     "output_type": "display_data"
    }
   ],
   "source": [
    "freq = pd.Series([v for v in users.in_ret if v > 0])\n",
    "print(freq.describe())\n",
    "x, cdf, pdf = get_cdf_pdf(freq, 0, 400, 1)\n",
    "plt.yscale('log')\n",
    "plt.xscale('log')\n",
    "plt.plot(x, cdf)"
   ]
  },
  {
   "cell_type": "code",
   "execution_count": 30,
   "metadata": {},
   "outputs": [
    {
     "name": "stdout",
     "output_type": "stream",
     "text": [
      "count    42195.000000\n",
      "mean         5.639768\n",
      "std         29.152727\n",
      "min          1.000000\n",
      "25%          1.000000\n",
      "50%          1.000000\n",
      "75%          3.000000\n",
      "max       2766.000000\n",
      "dtype: float64\n"
     ]
    },
    {
     "data": {
      "text/plain": [
       "[<matplotlib.lines.Line2D at 0x7f299ae44438>]"
      ]
     },
     "execution_count": 30,
     "metadata": {},
     "output_type": "execute_result"
    },
    {
     "data": {
      "image/png": "[encoded data removed]",
      "text/plain": [
       "<Figure size 432x288 with 1 Axes>"
      ]
     },
     "metadata": {},
     "output_type": "display_data"
    }
   ],
   "source": [
    "freq = pd.Series([v for v in users.out_ret if v > 0])\n",
    "print(freq.describe())\n",
    "x, cdf, pdf = get_cdf_pdf(freq, 0, 2000, 10)\n",
    "plt.yscale('log')\n",
    "plt.xscale('log')\n",
    "plt.plot(x, cdf)"
   ]
  },
  {
   "cell_type": "code",
   "execution_count": null,
   "metadata": {},
   "outputs": [],
   "source": []
  }
 ],
 "metadata": {
  "kernelspec": {
   "display_name": "Python 3",
   "language": "python",
   "name": "python3"
  },
  "language_info": {
   "codemirror_mode": {
    "name": "ipython",
    "version": 3
   },
   "file_extension": ".py",
   "mimetype": "text/x-python",
   "name": "python",
   "nbconvert_exporter": "python",
   "pygments_lexer": "ipython3",
   "version": "3.6.8"
  }
 },
 "nbformat": 4,
 "nbformat_minor": 2
}
