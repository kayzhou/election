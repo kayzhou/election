{
 "cells": [
  {
   "cell_type": "code",
   "execution_count": 2,
   "metadata": {},
   "outputs": [],
   "source": [
    "from my_weapon import *\n",
    "from collections import defaultdict"
   ]
  },
  {
   "cell_type": "code",
   "execution_count": 21,
   "metadata": {},
   "outputs": [
    {
     "name": "stderr",
     "output_type": "stream",
     "text": [
      "2338079it [00:25, 92175.51it/s]"
     ]
    },
    {
     "name": "stdout",
     "output_type": "stream",
     "text": [
      "存在url of fake news的tweet： 2338079\n",
      "url集合的量： 189621\n"
     ]
    },
    {
     "name": "stderr",
     "output_type": "stream",
     "text": [
      "\n"
     ]
    }
   ],
   "source": [
    "tweets = {}                     # tweet 内容\n",
    "tweets_url = {}                 # tweets对应的url\n",
    "url_tweetid = defaultdict(list) # url对应的tweets\n",
    "\n",
    "# 载入原始fake_news数据\n",
    "for line in tqdm(open(\"data/tweets_fake.txt\")):\n",
    "    d = json.loads(line)\n",
    "    if \"final_url\" in d:\n",
    "        tweet_id = int(d[\"tweet_id\"])\n",
    "        tweets[tweet_id] = d\n",
    "        url = d[\"final_url\"].lower()\n",
    "        tweets_url[tweet_id] = url\n",
    "        url_tweetid[url].append({\"id\": tweet_id, \"dt\": d[\"datetime_EST\"], \"user_id\": d[\"user_id\"]})\n",
    "            \n",
    "# with open(\"data/tweets_fake.txt\", \"w\") as f:\n",
    "#     for v in tweets.values():\n",
    "#         f.write(json.dumps(v, ensure_ascii=False) + \"\\n\")\n",
    "\n",
    "print(\"存在url of fake news的tweet：\", len(tweets))\n",
    "print(\"url集合的量：\", len(url_tweetid))"
   ]
  },
  {
   "cell_type": "code",
   "execution_count": 31,
   "metadata": {},
   "outputs": [
    {
     "data": {
      "text/plain": [
       "{'tweet_id': 742417158429233152,\n",
       " 'query_id': 0,\n",
       " 'filename_id': 53,\n",
       " 'datetime_EST': '2016-06-13 13:03:38',\n",
       " 'user_id': 1226167963,\n",
       " 'text': \"@TheRalphRetort #WTF Saudi Arabia Has Funded 20% Of Hillary's Presidential Campaign, Saudi Crown Prince Claims https://t.co/3UCj9G0HGn\",\n",
       " 'place': None,\n",
       " 'source_url_id': 2,\n",
       " 'source_content_id': 2}"
      ]
     },
     "execution_count": 31,
     "metadata": {},
     "output_type": "execute_result"
    }
   ],
   "source": [
    "from SQLite_handler import find_tweet, find_user\n",
    "\n",
    "find_tweet(742417158429233152)\n",
    "# find_user(743166519157227520)"
   ]
  },
  {
   "cell_type": "code",
   "execution_count": 31,
   "metadata": {},
   "outputs": [
    {
     "name": "stderr",
     "output_type": "stream",
     "text": [
      "100%|██████████| 1663428/1663428 [03:10<00:00, 8711.92it/s]"
     ]
    },
    {
     "name": "stdout",
     "output_type": "stream",
     "text": [
      "fake spread的节点个数： 1930939\n"
     ]
    },
    {
     "name": "stderr",
     "output_type": "stream",
     "text": [
      "\n"
     ]
    }
   ],
   "source": [
    "# 利用转发网络扩充谣言数据\n",
    "\n",
    "# tweet -> retwtweet\n",
    "fake_retweets_links = json.load(open(\"data/retweet_network_fake.json\"))\n",
    "# fake_tweets = set()\n",
    "\n",
    "for tweet_id, retweetd_id in tqdm(fake_retweets_links.items()):\n",
    "    tweet_id, retweetd_id = int(tweet_id), int(retweetd_id)\n",
    "#     fake_tweets.add(tweet_id)\n",
    "#     fake_tweets.add(retweetd_id)\n",
    "    url = tweets_url[int(retweetd_id)] # 得到 转发消息 的URL\n",
    "    \n",
    "    tweets_url[tweet_id] = url\n",
    "    \n",
    "    if tweet_id not in tweets:\n",
    "        d = find_tweet(tweet_id)\n",
    "        url_tweetid[url].append({\"id\": tweet_id, \"dt\": d[\"datetime_EST\"]})\n",
    "    \n",
    "\n",
    "# print(\"fake spread的节点个数：\", len(fake_tweets))"
   ]
  },
  {
   "cell_type": "code",
   "execution_count": 32,
   "metadata": {},
   "outputs": [
    {
     "data": {
      "text/plain": [
       "count    189621.000000\n",
       "mean         13.598974\n",
       "std          93.549382\n",
       "min           1.000000\n",
       "25%           1.000000\n",
       "50%           2.000000\n",
       "75%           5.000000\n",
       "max       13367.000000\n",
       "dtype: float64"
      ]
     },
     "execution_count": 32,
     "metadata": {},
     "output_type": "execute_result"
    }
   ],
   "source": [
    "import pandas as pd\n",
    "\n",
    "data = pd.Series([len(v) for v in url_tweetid.values()])\n",
    "data.describe()"
   ]
  },
  {
   "cell_type": "code",
   "execution_count": 34,
   "metadata": {},
   "outputs": [
    {
     "data": {
      "image/png": "[encoded data removed]",
      "text/plain": [
       "<Figure size 720x432 with 1 Axes>"
      ]
     },
     "metadata": {
      "needs_background": "light"
     },
     "output_type": "display_data"
    }
   ],
   "source": [
    "import numpy as np\n",
    "import matplotlib.pyplot as plt\n",
    "\n",
    "def get_cdf_pdf(data, mini, maxi, step, norm=True):\n",
    "    x = [float(i) for i in np.arange(mini, maxi, step)]\n",
    "    cdf = [0] * len(x)\n",
    "    pdf = [0] * len(x)\n",
    "    count = 0\n",
    "    for d in data:\n",
    "        d = float(d)\n",
    "        if d < mini or d > maxi:\n",
    "            continue\n",
    "        count += 1\n",
    "        for i in range(len(x)):\n",
    "            if i == (len(x) - 1) and d >= x[i]:\n",
    "                pdf[i] += 1\n",
    "            elif d >= x[i] and d < x[i+1]:\n",
    "                pdf[i] += 1\n",
    "\n",
    "            if d >= x[i]:\n",
    "                cdf[i] += 1\n",
    "\n",
    "    if norm:\n",
    "        cdf = [c / count for c in cdf]\n",
    "        pdf = [p / count for p in pdf]\n",
    "\n",
    "    return x, cdf, pdf\n",
    "\n",
    "\n",
    "# x, cdf, pdf = get_cdf_pdf(data, 0, 15000, 100)\n",
    "plt.figure(figsize=(10, 6))\n",
    "data.hist(bins=30)\n",
    "plt.title('Distribution of size of fake news ', fontsize=15)\n",
    "plt.ylabel('N of the fake news', fontsize=14)\n",
    "plt.xlabel('Size of fake news', fontsize=14)\n",
    "plt.xticks(fontsize=13); plt.yticks(fontsize=13)\n",
    "plt.yscale(\"log\")\n",
    "plt.savefig('fig/distribution_size_fake_news.pdf', dpi=300)\n",
    "plt.show()\n",
    "plt.close()\n"
   ]
  },
  {
   "cell_type": "code",
   "execution_count": 35,
   "metadata": {},
   "outputs": [
    {
     "data": {
      "text/plain": [
       "[{'id': 763804618547572736, 'dt': '2016-08-11 13:29:46'},\n",
       " {'id': 763804883212505088, 'dt': '2016-08-11 13:30:49'},\n",
       " {'id': 763993324285861893, 'dt': '2016-08-12 01:59:37'},\n",
       " {'id': 764000152042414084, 'dt': '2016-08-12 02:26:45'},\n",
       " {'id': 764028274485829633, 'dt': '2016-08-12 04:18:30'},\n",
       " {'id': 764051322282782721, 'dt': '2016-08-12 05:50:05'},\n",
       " {'id': 764055110414536704, 'dt': '2016-08-12 06:05:08'},\n",
       " {'id': 765316378341482496, 'dt': '2016-08-15 17:36:58'},\n",
       " {'id': 765643842888437760, 'dt': '2016-08-16 15:18:11'}]"
      ]
     },
     "execution_count": 35,
     "metadata": {},
     "output_type": "execute_result"
    }
   ],
   "source": [
    "url_tweetid[\"https://thepoliticalinsider.com/clinton-foundation-obama-made-major-move-keep-prison-leaked/\"]"
   ]
  },
  {
   "cell_type": "code",
   "execution_count": 79,
   "metadata": {},
   "outputs": [],
   "source": [
    "# 先按照每个谣言涉及到的tweet数量进行排序\n",
    "\n",
    "sorted_url = sorted(url_tweetid.items(), key=lambda d: len(d[1]), reverse=True)\n",
    "\n",
    "with open(\"data/id_len_url.txt\", \"w\") as f:\n",
    "    for i, v in enumerate(sorted_url):\n",
    "        f.write(\"{}\\t{}\\t{}\\n\".format(i, len(v[1]), v[0]))"
   ]
  },
  {
   "cell_type": "markdown",
   "metadata": {},
   "source": [
    "---\n",
    "\n",
    "以上的分析找到了每个URL传播的过程，然后我要分析哪些是原创的tweet，方法就是判断是不是转发的微博，转发的微博就是在转发网络的keys中～"
   ]
  },
  {
   "cell_type": "code",
   "execution_count": 80,
   "metadata": {},
   "outputs": [],
   "source": [
    "retweeting_tweets = set([int(k) for k in fake_retweets_links.keys()])"
   ]
  },
  {
   "cell_type": "raw",
   "metadata": {},
   "source": [
    "url_tweets = []\n",
    "\n",
    "for v in tqdm(sorted_url):\n",
    "    tweet_list = []\n",
    "    for tweet in v[1]:\n",
    "        if tweet['id'] in retweeting_tweets:\n",
    "            tweet[\"origin\"] = False\n",
    "        else:\n",
    "            tweet[\"origin\"] = True\n",
    "        tweet_list.append(tweet)\n",
    "    url = v[0]\n",
    "    sorted_tweets_list = sorted(tweet_list, key=lambda d: d[\"dt\"])\n",
    "    url_tweets.append({\"url\": url, \"tweets\": sorted_tweets_list})"
   ]
  },
  {
   "cell_type": "markdown",
   "metadata": {},
   "source": [
    "# 下面是非常关键的数据！\n",
    "\n",
    "url -> tweets"
   ]
  },
  {
   "cell_type": "code",
   "execution_count": 79,
   "metadata": {},
   "outputs": [],
   "source": [
    "# save\n",
    "\n",
    "# json.dump(url_tweets, open(\"data/url_tweets.txt\", \"w\"), indent=2)\n",
    "\n",
    "url_tweets = json.load(open(\"data/url-tweets.json\"))\n",
    "del url_tweets[0] # 第一条too general 目前的数据已经删除\n",
    "\n",
    "# starters_cnt = 0\n",
    "# first_users = set()\n",
    "# starter_users = set()\n",
    "\n",
    "# for fake in url_tweets:\n",
    "#     for j, t in enumerate(fake[\"tweets\"]):\n",
    "#         if t[\"origin\"]:\n",
    "#             starters_cnt += 1\n",
    "#             starter_users.add(t[\"user_id\"])\n",
    "#             if j == 0:\n",
    "#                 first_users.add(t[\"user_id\"])\n",
    "    \n",
    "# len(url_tweets), starters_cnt, len(first_users), len(starter_users)"
   ]
  },
  {
   "cell_type": "markdown",
   "metadata": {},
   "source": [
    "- 189620条谣言URL, 914272条初始推特；\n",
    "- 25212个第一条谣言的用户, 88215个发初始推特的用户；\n",
    "\n",
    "### 专门针对用户的分析，放到analyze_users.ipy中～"
   ]
  },
  {
   "cell_type": "code",
   "execution_count": 4,
   "metadata": {},
   "outputs": [],
   "source": [
    "from urllib.parse import urlparse\n",
    "\n",
    "\n",
    "def get_day(dt):\n",
    "    return pendulum.parse(dt).format(\"YYYY-MM-DD 00:00:00\")\n",
    "    \n",
    "    \n",
    "def get_hour(dt):\n",
    "    return pendulum.parse(dt).format(\"YYYY-MM-DD HH:00:00\")\n",
    "    \n",
    "\n",
    "def cal_ts_day(dts):\n",
    "    start = get_day(dts[0])\n",
    "    end = get_day(dts[-1])\n",
    "    rng = pd.date_range(start, end, freq='D')\n",
    "    ts = pd.Series(0, rng)\n",
    "    for dt in dts:\n",
    "        now = get_day(dt)\n",
    "        ts[now] += 1\n",
    "    return ts\n",
    "\n",
    "\n",
    "def cal_ts_48hours(dts):\n",
    "    start = get_hour(dts[0])\n",
    "    rng = pd.date_range(start, periods=48, freq=\"H\")\n",
    "    ts = pd.Series(0, rng)\n",
    "    for dt in dts:\n",
    "        now = get_hour(dt)\n",
    "        if now in ts:\n",
    "            ts[now] += 1\n",
    "    return ts\n",
    "    \n",
    "    \n",
    "def plot_day_v2_starter(i, url, sorted_dts, sorted_dts2, save=False):\n",
    "    \"\"\"\n",
    "    包含了两条线！\n",
    "    \"\"\"\n",
    "\n",
    "    plt.figure(figsize=(10, 6))\n",
    "    ts = cal_ts_day(sorted_dts)\n",
    "    ts.plot()\n",
    "    \n",
    "    ts2 = cal_ts_day(sorted_dts2)\n",
    "    ts2.plot()\n",
    "    \n",
    "    # configure\n",
    "    plt.ylabel('N of tweets with this fake news', fontsize=15)\n",
    "    plt.xticks(fontsize=11); plt.yticks(fontsize=11)\n",
    "#     plt.xlabel('$Date$', fontsize=15)\n",
    "#     plt.title(url)\n",
    "    \n",
    "    if save:\n",
    "        plt.savefig('fig/{}-{}-overall-spread.pdf'.format(i, url), dpi=300)\n",
    "    else:\n",
    "        plt.show()\n",
    "    \n",
    "    plt.close()\n",
    "\n",
    "\n",
    "def plot_48hours_v2_starter(i, url, sorted_dts, sorted_dts2, save=False):\n",
    "    \"\"\"\n",
    "    包含了两条线！\n",
    "    \"\"\"\n",
    "    \n",
    "#     print(url)\n",
    "#     print(\"实际传播开始和结束时间：\", sorted_dts[0], sorted_dts[-1])\n",
    "\n",
    "    plt.figure(figsize=(10, 6))\n",
    "    ts = cal_ts_48hours(sorted_dts)\n",
    "    ts.plot()\n",
    "    \n",
    "    ts2 = cal_ts_48hours(sorted_dts2)\n",
    "    ts2.plot()\n",
    "    \n",
    "    # configure\n",
    "    plt.ylabel('N of tweets with this fake news', fontsize=15)\n",
    "    plt.xticks(fontsize=11); plt.yticks(fontsize=11)\n",
    "#     plt.xlabel('$Date$', fontsize=15)\n",
    "#     plt.title(url)\n",
    "\n",
    "    if save:\n",
    "        plt.savefig('fig/{}-{}-first-48-hours.pdf'.format(i, url), dpi=300)\n",
    "    else:\n",
    "        plt.show()\n",
    "        \n",
    "    plt.close()\n"
   ]
  },
  {
   "cell_type": "code",
   "execution_count": 5,
   "metadata": {},
   "outputs": [
    {
     "name": "stdout",
     "output_type": "stream",
     "text": [
      "ploting ~ 1\n"
     ]
    },
    {
     "data": {
      "image/png": "[encoded data removed]",
      "text/plain": [
       "<Figure size 720x432 with 1 Axes>"
      ]
     },
     "metadata": {
      "needs_background": "light"
     },
     "output_type": "display_data"
    },
    {
     "data": {
      "image/png": "[encoded data removed]",
      "text/plain": [
       "<Figure size 720x432 with 1 Axes>"
      ]
     },
     "metadata": {
      "needs_background": "light"
     },
     "output_type": "display_data"
    }
   ],
   "source": [
    "for i, v in enumerate(url_tweets):\n",
    "    if i != 1:\n",
    "        continue\n",
    "        \n",
    "    print(\"ploting ~\", i)\n",
    "    url = v[\"url\"]\n",
    "    tweets_list = v[\"tweets\"]\n",
    "    \n",
    "    dts = [t[\"dt\"] for t in tweets_list]\n",
    "\n",
    "#     covert_timeseries(i, url, dts)\n",
    "#     plot_first48hours(i, url, dts)\n",
    "    \n",
    "    dts2 = [t[\"dt\"] for t in tweets_list if t[\"origin\"]==True]\n",
    "    plot_day_v2_starter(i, url, dts, dts2)\n",
    "    plot_48hours_v2_starter(i, url, dts, dts2)"
   ]
  },
  {
   "cell_type": "code",
   "execution_count": 12,
   "metadata": {},
   "outputs": [
    {
     "name": "stdout",
     "output_type": "stream",
     "text": [
      "Twitter Web Client - 33.09%\n",
      "dlvr.it - 22.99%\n",
      "Twitter for iPhone - 7.88%\n",
      "Facebook - 7.87%\n",
      "Twitter for Android - 5.81%\n",
      "Twitter for iPad - 3.11%\n",
      "Put your button on any page!  - 2.79%\n",
      "Mobile Web - 2.47%\n",
      "twitterfeed - 2.17%\n",
      "IFTTT - 1.59%\n",
      "Hootsuite - 1.01%\n",
      "SocialOomph - 0.84%\n",
      "Linkis.com - 0.84%\n",
      "Sprout Social - 0.82%\n",
      "Buffer - 0.62%\n",
      "TweetDeck - 0.48%\n",
      "WordPress.com - 0.44%\n",
      "Rignite - 0.39%\n",
      "OS X - 0.31%\n",
      "Mobile Web (M5) - 0.26%\n"
     ]
    }
   ],
   "source": [
    "# 分析starter的source_content\n",
    "\n",
    "from collections import Counter\n",
    "\n",
    "count = []\n",
    "for v in url_tweets:\n",
    "    url = v[\"url\"]\n",
    "    tweet_list = v[\"tweets\"]\n",
    "    for t in tweet_list:\n",
    "        if t[\"origin\"]:\n",
    "            tid = t[\"id\"]\n",
    "            d = find_source(tid)\n",
    "            count.append(d)\n",
    "\n",
    "_sum = len(count)\n",
    "count = Counter(count)\n"
   ]
  },
  {
   "cell_type": "code",
   "execution_count": 14,
   "metadata": {},
   "outputs": [
    {
     "name": "stdout",
     "output_type": "stream",
     "text": [
      "Twitter Web Client - 33.09%\n",
      "dlvr.it - 22.99%\n",
      "Twitter for iPhone - 7.88%\n",
      "Facebook - 7.87%\n",
      "Twitter for Android - 5.81%\n",
      "Twitter for iPad - 3.11%\n",
      "Put your button on any page!  - 2.79%\n",
      "Mobile Web - 2.47%\n",
      "twitterfeed - 2.17%\n",
      "IFTTT - 1.59%\n",
      "Hootsuite - 1.01%\n",
      "SocialOomph - 0.84%\n",
      "Linkis.com - 0.84%\n",
      "Sprout Social - 0.82%\n",
      "Buffer - 0.62%\n",
      "TweetDeck - 0.48%\n",
      "WordPress.com - 0.44%\n",
      "Rignite - 0.39%\n",
      "OS X - 0.31%\n",
      "Mobile Web (M5) - 0.26%\n",
      "Boost your self-promotion! - 0.23%\n",
      "Put your brand on any website! - 0.21%\n",
      "Your best free sharing tool! - 0.17%\n",
      "PatriotJournalist - 0.16%\n",
      "AboveTopSecret.com New Topics - 0.16%\n",
      "iOS - 0.15%\n",
      "Turn sharing to content creation - 0.14%\n",
      "Twitter for Windows Phone - 0.14%\n",
      "TweetCaster for Android - 0.13%\n",
      "The Right Scoop - 0.12%\n",
      "Zero Hedge Publisher II - 0.12%\n",
      "Google - 0.12%\n",
      "Linkis: turn sharing into growth - 0.11%\n",
      "TheRightScoop - 0.11%\n",
      "Tweet Jukebox - 0.11%\n",
      "Win the Customer - 0.11%\n",
      "Sociocaster App - 0.09%\n",
      "Linkis - fuel your sharing! - 0.09%\n",
      "Turn sharing into growth! - 0.08%\n",
      "Prntly - 0.08%\n",
      "Bitly - 0.08%\n",
      "Twitter for Windows - 0.08%\n",
      "DepartedXX - 0.07%\n",
      "GMN Report - 0.07%\n",
      "Mobile Web (M2) - 0.06%\n",
      "Twitter for BlackBerry - 0.06%\n",
      "Linkis—biggest sharing network! - 0.06%\n",
      "Twitter for Android Tablets - 0.05%\n",
      "Crowdfire App - 0.05%\n",
      "quikonnekt - 0.04%\n"
     ]
    }
   ],
   "source": [
    "for k, v in count.most_common(50):\n",
    "    print(k, '- {:.2%}'.format(v / _sum))"
   ]
  },
  {
   "cell_type": "code",
   "execution_count": 213,
   "metadata": {},
   "outputs": [
    {
     "data": {
      "text/plain": [
       "[(122455671, 3701),\n",
       " (4831603043, 2532),\n",
       " (60893069, 2079),\n",
       " (4496549793, 1814),\n",
       " (825501626, 1689),\n",
       " (3274720530, 1686),\n",
       " (3374126201, 1567),\n",
       " (14210021, 1451),\n",
       " (137637040, 1102),\n",
       " (18856867, 1085),\n",
       " (18208120, 1028),\n",
       " (138092553, 916),\n",
       " (634330366, 881),\n",
       " (112732163, 851),\n",
       " (359122436, 781),\n",
       " (1494835716, 775),\n",
       " (166721424, 763),\n",
       " (1246177122, 761),\n",
       " (2270900414, 744),\n",
       " (3326947147, 733)]"
      ]
     },
     "execution_count": 213,
     "metadata": {},
     "output_type": "execute_result"
    }
   ],
   "source": [
    "# 用户分析\n",
    "\n",
    "count = []\n",
    "for k, v in url_first.items():\n",
    "    count.append(v[\"user_id\"])\n",
    "_sum = len(count)\n",
    "count = Counter(count)\n",
    "count.most_common(20)"
   ]
  },
  {
   "cell_type": "code",
   "execution_count": 219,
   "metadata": {},
   "outputs": [
    {
     "data": {
      "text/plain": [
       "count    25277.000000\n",
       "mean         7.501721\n",
       "std         51.665360\n",
       "min          1.000000\n",
       "25%          1.000000\n",
       "50%          1.000000\n",
       "75%          3.000000\n",
       "max       3701.000000\n",
       "dtype: float64"
      ]
     },
     "execution_count": 219,
     "metadata": {},
     "output_type": "execute_result"
    }
   ],
   "source": [
    "user_tweets_cnt = []\n",
    "for c in count.values():\n",
    "    user_tweets_cnt.append(c)\n",
    "user_tweets_cnt = pd.Series(user_tweets_cnt)\n",
    "user_tweets_cnt.describe()"
   ]
  },
  {
   "cell_type": "code",
   "execution_count": 227,
   "metadata": {},
   "outputs": [
    {
     "data": {
      "image/png": "[encoded data removed]",
      "text/plain": [
       "<Figure size 576x432 with 1 Axes>"
      ]
     },
     "metadata": {
      "needs_background": "light"
     },
     "output_type": "display_data"
    }
   ],
   "source": [
    "x, cdf, pdf = get_cdf_pdf(user_tweets_cnt, 0, 4000, 10)\n",
    "plt.figure(figsize=(8, 6))\n",
    "# user_tweets_cnt.hist(bins=50)\n",
    "plt.plot(x, cdf)\n",
    "# plt.title('Distribution of size of fake news ', fontsize=15)\n",
    "plt.ylabel('CCDF', fontsize=14)\n",
    "plt.xlabel('N of starters for each user', fontsize=14)\n",
    "plt.xticks(fontsize=13); plt.yticks(fontsize=13)\n",
    "plt.yscale(\"log\")\n",
    "plt.xscale(\"log\")\n",
    "plt.savefig('fig/distribution_starters.pdf', dpi=300)\n",
    "plt.show()\n",
    "plt.close()"
   ]
  },
  {
   "cell_type": "code",
   "execution_count": 240,
   "metadata": {},
   "outputs": [
    {
     "data": {
      "text/plain": [
       "1285"
      ]
     },
     "execution_count": 240,
     "metadata": {},
     "output_type": "execute_result"
    }
   ],
   "source": [
    "len(user_tweets_cnt[user_tweets_cnt>20])"
   ]
  },
  {
   "cell_type": "markdown",
   "metadata": {},
   "source": [
    "---\n",
    "\n",
    "## source对trump和hillary的态度"
   ]
  },
  {
   "cell_type": "code",
   "execution_count": 3,
   "metadata": {},
   "outputs": [
    {
     "name": "stderr",
     "output_type": "stream",
     "text": [
      "2562218it [10:21, 4120.16it/s]\n"
     ]
    }
   ],
   "source": [
    "from SQLite_handler import opinion\n",
    "\n",
    "first_opinion = []\n",
    "staters_opinion = []\n",
    "other_opinion = []\n",
    "\n",
    "tweets_csv = pd.read_csv(\"data/url-fake-tweets.csv\", usecols=[\"tweet_id\", \"is_first\", \"is_source\"])\n",
    "\n",
    "\n",
    "for i, row in tqdm(tweets_csv.iterrows()):\n",
    "    tid = row[\"tweet_id\"]\n",
    "    opi = opinion(tid)\n",
    "    if row[\"is_first\"] == 1:\n",
    "        first_opinion.append(opi)\n",
    "    if row[\"is_source\"] == 1:\n",
    "        staters_opinion.append(opi)\n",
    "    else:\n",
    "        other_opinion.append(opi)\n",
    "    "
   ]
  },
  {
   "cell_type": "code",
   "execution_count": 4,
   "metadata": {},
   "outputs": [
    {
     "name": "stdout",
     "output_type": "stream",
     "text": [
      "Counter({1: 145411, 0: 43464, -1: 587})\n",
      "Counter({1: 713400, 0: 181059, -1: 2585})\n",
      "Counter({1: 1488826, 0: 175888, -1: 460})\n"
     ]
    },
    {
     "data": {
      "image/png": "[encoded data removed]",
      "text/plain": [
       "<Figure size 1440x432 with 3 Axes>"
      ]
     },
     "metadata": {},
     "output_type": "display_data"
    }
   ],
   "source": [
    "from collections import Counter\n",
    "sns.set_style(\"white\")\n",
    "sns.color_palette(\"RdBu\", n_colors=7)\n",
    "\n",
    "count = Counter(first_opinion)\n",
    "print(count)\n",
    "\n",
    "label = [\"pro-hillary\", \"pro-trump\"]\n",
    "plt.figure(figsize=(20, 6))\n",
    "\n",
    "plt.subplot(131)\n",
    "plt.bar(1, count[0], color=sns.color_palette(\"RdBu\")[0], width=0.2)\n",
    "plt.bar(1.5, count[1], color=sns.color_palette(\"RdBu\")[5], width=0.2)\n",
    "label = [\"pro-hillary\\n{0:.0%}\".format(count[0] / (count[0]+count[1])), \"pro-trump\\n{0:.0%}\".format(count[1] / (count[0]+count[1]))]\n",
    "plt.xticks([1, 1.5], label)\n",
    "plt.xlabel('First source', fontsize=15)\n",
    "plt.ylabel('Number of tweets', fontsize=15)\n",
    "plt.xticks(fontsize=14); plt.yticks(fontsize=14)\n",
    "\n",
    "count = Counter(staters_opinion)\n",
    "print(count)\n",
    "\n",
    "plt.subplot(132)\n",
    "plt.bar(1, count[0], color=sns.color_palette(\"RdBu\")[0], width=0.2)\n",
    "plt.bar(1.5, count[1], color=sns.color_palette(\"RdBu\")[5], width=0.2)\n",
    "label = [\"pro-hillary\\n{0:.0%}\".format(count[0] / (count[0]+count[1])), \"pro-trump\\n{0:.0%}\".format(count[1] / (count[0]+count[1]))]\n",
    "plt.xticks([1, 1.5], label)\n",
    "plt.xlabel('source', fontsize=15)\n",
    "plt.xticks(fontsize=14); plt.yticks(fontsize=14)\n",
    "\n",
    "count = Counter(other_opinion)\n",
    "print(count)\n",
    "\n",
    "plt.subplot(133)\n",
    "plt.bar(1, count[0], color=sns.color_palette(\"RdBu\")[5], width=0.2)\n",
    "plt.bar(1.5, count[1], color=sns.color_palette(\"RdBu\")[0], width=0.2)\n",
    "label = [\"pro-hillary\\n{0:.0%}\".format(count[0] / (count[0]+count[1])), \"pro-trump\\n{0:.0%}\".format(count[1] / (count[0]+count[1]))]\n",
    "plt.xticks([1, 1.5], label)\n",
    "plt.xlabel('non-source', fontsize=15)\n",
    "# plt.ylabel('N of fake sources', fontsize=15)\n",
    "plt.xticks(fontsize=14); plt.yticks(fontsize=14)\n",
    "\n",
    "plt.savefig(\"fig/support.pdf\", dpi=300, bbox_inches='tight')\n",
    "plt.show()\n",
    "plt.close()"
   ]
  },
  {
   "cell_type": "code",
   "execution_count": 6,
   "metadata": {},
   "outputs": [],
   "source": [
    "uids_of_IRA = set(json.load(open(\"data/IRA_match.json\")).values())"
   ]
  },
  {
   "cell_type": "markdown",
   "metadata": {},
   "source": [
    "## 下面对CSV文件进行分析"
   ]
  },
  {
   "cell_type": "code",
   "execution_count": 6,
   "metadata": {},
   "outputs": [],
   "source": [
    "tweets_csv = pd.read_csv(\"data/url-fake-tweets.csv\")"
   ]
  },
  {
   "cell_type": "code",
   "execution_count": 7,
   "metadata": {},
   "outputs": [
    {
     "data": {
      "text/html": [
       "<div>\n",
       "<style scoped>\n",
       "    .dataframe tbody tr th:only-of-type {\n",
       "        vertical-align: middle;\n",
       "    }\n",
       "\n",
       "    .dataframe tbody tr th {\n",
       "        vertical-align: top;\n",
       "    }\n",
       "\n",
       "    .dataframe thead th {\n",
       "        text-align: right;\n",
       "    }\n",
       "</style>\n",
       "<table border=\"1\" class=\"dataframe\">\n",
       "  <thead>\n",
       "    <tr style=\"text-align: right;\">\n",
       "      <th></th>\n",
       "      <th>URL</th>\n",
       "      <th>dt</th>\n",
       "      <th>hostname</th>\n",
       "      <th>is_IRA</th>\n",
       "      <th>is_first</th>\n",
       "      <th>is_source</th>\n",
       "      <th>tweet_id</th>\n",
       "      <th>user_id</th>\n",
       "    </tr>\n",
       "  </thead>\n",
       "  <tbody>\n",
       "    <tr>\n",
       "      <th>0</th>\n",
       "      <td>http://infowars.com/show</td>\n",
       "      <td>2016-04-29 10:51:25</td>\n",
       "      <td>infowars.com</td>\n",
       "      <td>0</td>\n",
       "      <td>1</td>\n",
       "      <td>1</td>\n",
       "      <td>726076431411761152</td>\n",
       "      <td>733838438</td>\n",
       "    </tr>\n",
       "    <tr>\n",
       "      <th>1</th>\n",
       "      <td>http://infowars.com/show</td>\n",
       "      <td>2016-05-24 12:42:06</td>\n",
       "      <td>infowars.com</td>\n",
       "      <td>0</td>\n",
       "      <td>0</td>\n",
       "      <td>1</td>\n",
       "      <td>735163983376719872</td>\n",
       "      <td>109065990</td>\n",
       "    </tr>\n",
       "    <tr>\n",
       "      <th>2</th>\n",
       "      <td>http://infowars.com/show</td>\n",
       "      <td>2016-05-26 19:02:31</td>\n",
       "      <td>infowars.com</td>\n",
       "      <td>0</td>\n",
       "      <td>0</td>\n",
       "      <td>1</td>\n",
       "      <td>735984491114565633</td>\n",
       "      <td>14505245</td>\n",
       "    </tr>\n",
       "    <tr>\n",
       "      <th>3</th>\n",
       "      <td>http://infowars.com/show</td>\n",
       "      <td>2016-05-27 11:35:43</td>\n",
       "      <td>infowars.com</td>\n",
       "      <td>0</td>\n",
       "      <td>0</td>\n",
       "      <td>1</td>\n",
       "      <td>736234437550080000</td>\n",
       "      <td>109065990</td>\n",
       "    </tr>\n",
       "    <tr>\n",
       "      <th>4</th>\n",
       "      <td>http://infowars.com/show</td>\n",
       "      <td>2016-06-01 16:20:17</td>\n",
       "      <td>infowars.com</td>\n",
       "      <td>0</td>\n",
       "      <td>0</td>\n",
       "      <td>0</td>\n",
       "      <td>738117991074660356</td>\n",
       "      <td>352537680</td>\n",
       "    </tr>\n",
       "  </tbody>\n",
       "</table>\n",
       "</div>"
      ],
      "text/plain": [
       "                        URL                   dt      hostname  is_IRA  \\\n",
       "0  http://infowars.com/show  2016-04-29 10:51:25  infowars.com       0   \n",
       "1  http://infowars.com/show  2016-05-24 12:42:06  infowars.com       0   \n",
       "2  http://infowars.com/show  2016-05-26 19:02:31  infowars.com       0   \n",
       "3  http://infowars.com/show  2016-05-27 11:35:43  infowars.com       0   \n",
       "4  http://infowars.com/show  2016-06-01 16:20:17  infowars.com       0   \n",
       "\n",
       "   is_first  is_source            tweet_id    user_id  \n",
       "0         1          1  726076431411761152  733838438  \n",
       "1         0          1  735163983376719872  109065990  \n",
       "2         0          1  735984491114565633   14505245  \n",
       "3         0          1  736234437550080000  109065990  \n",
       "4         0          0  738117991074660356  352537680  "
      ]
     },
     "execution_count": 7,
     "metadata": {},
     "output_type": "execute_result"
    }
   ],
   "source": [
    "tweets_csv.head()"
   ]
  },
  {
   "cell_type": "markdown",
   "metadata": {},
   "source": [
    "## tweets_csv有多少url，多少is_source，多少is_first"
   ]
  },
  {
   "cell_type": "code",
   "execution_count": 8,
   "metadata": {},
   "outputs": [
    {
     "data": {
      "text/plain": [
       "189462"
      ]
     },
     "execution_count": 8,
     "metadata": {},
     "output_type": "execute_result"
    }
   ],
   "source": [
    "import collections\n",
    "\n",
    "len(collections.Counter(tweets_csv[\"URL\"]))"
   ]
  },
  {
   "cell_type": "code",
   "execution_count": 9,
   "metadata": {},
   "outputs": [
    {
     "data": {
      "text/plain": [
       "215300"
      ]
     },
     "execution_count": 9,
     "metadata": {},
     "output_type": "execute_result"
    }
   ],
   "source": [
    "len(collections.Counter(tweets_csv[\"user_id\"]))"
   ]
  },
  {
   "cell_type": "code",
   "execution_count": 10,
   "metadata": {},
   "outputs": [
    {
     "name": "stdout",
     "output_type": "stream",
     "text": [
      "Counter({0: 1665174, 1: 897044}) Counter({0: 2372756, 1: 189462})\n"
     ]
    },
    {
     "data": {
      "image/png": "[encoded data removed]",
      "text/plain": [
       "<Figure size 432x432 with 1 Axes>"
      ]
     },
     "metadata": {},
     "output_type": "display_data"
    }
   ],
   "source": [
    "c_source = collections.Counter(tweets_csv[\"is_source\"])\n",
    "c_first = collections.Counter(tweets_csv[\"is_first\"])\n",
    "print(c_source, c_first)\n",
    "\n",
    "label = [\"first source\", \"source\", \"non-source\"]\n",
    "plt.figure(figsize=(6, 6))\n",
    "\n",
    "# plt.subplot(131)\n",
    "\n",
    "plt.bar(1, c_first[1], width=0.3)\n",
    "plt.bar(2, c_source[1], width=0.3)\n",
    "plt.bar(3, c_source[0], width=0.3)\n",
    "\n",
    "# label = [\"pro-hillary\\n{0:.0%}\".format(count[0] / (count[0]+count[1])), \"pro-trump\\n{0:.0%}\".format(count[1] / (count[0]+count[1]))]\n",
    "plt.xticks([1, 2, 3], label)\n",
    "plt.xlabel('All users', fontsize=15)\n",
    "plt.ylabel('Number of fake news tweets', fontsize=15)\n",
    "plt.xticks(fontsize=14); plt.yticks(fontsize=14)\n",
    "plt.savefig(\"fig/N-of-all-users.pdf\", dpi=300, bbox_inches='tight')\n",
    "plt.show()\n",
    "plt.tight_layout()\n",
    "plt.close()\n"
   ]
  },
  {
   "cell_type": "code",
   "execution_count": 11,
   "metadata": {},
   "outputs": [
    {
     "data": {
      "text/plain": [
       "Counter({0: 2561215, 1: 1003})"
      ]
     },
     "execution_count": 11,
     "metadata": {},
     "output_type": "execute_result"
    }
   ],
   "source": [
    "collections.Counter(tweets_csv[\"is_IRA\"])"
   ]
  },
  {
   "cell_type": "code",
   "execution_count": 12,
   "metadata": {},
   "outputs": [
    {
     "data": {
      "text/plain": [
       "80448"
      ]
     },
     "execution_count": 12,
     "metadata": {},
     "output_type": "execute_result"
    }
   ],
   "source": [
    "source_tweets = tweets_csv[tweets_csv[\"is_source\"]==1]\n",
    "len(collections.Counter(source_tweets[\"user_id\"]))"
   ]
  },
  {
   "cell_type": "code",
   "execution_count": 13,
   "metadata": {},
   "outputs": [
    {
     "data": {
      "text/plain": [
       "24736"
      ]
     },
     "execution_count": 13,
     "metadata": {},
     "output_type": "execute_result"
    }
   ],
   "source": [
    "first_tweets = tweets_csv[tweets_csv[\"is_first\"]==1]\n",
    "len(collections.Counter(first_tweets[\"user_id\"]))"
   ]
  },
  {
   "cell_type": "code",
   "execution_count": 14,
   "metadata": {},
   "outputs": [
    {
     "data": {
      "text/plain": [
       "78"
      ]
     },
     "execution_count": 14,
     "metadata": {},
     "output_type": "execute_result"
    }
   ],
   "source": [
    "ira_tweets = tweets_csv[tweets_csv[\"is_IRA\"]==1]\n",
    "len(collections.Counter(ira_tweets[\"user_id\"]))"
   ]
  },
  {
   "cell_type": "code",
   "execution_count": 15,
   "metadata": {},
   "outputs": [
    {
     "name": "stdout",
     "output_type": "stream",
     "text": [
      "Counter({0: 782, 1: 221}) Counter({0: 986, 1: 17})\n"
     ]
    },
    {
     "data": {
      "image/png": "[encoded data removed]",
      "text/plain": [
       "<Figure size 432x432 with 1 Axes>"
      ]
     },
     "metadata": {},
     "output_type": "display_data"
    }
   ],
   "source": [
    "c_source = collections.Counter(ira_tweets[\"is_source\"])\n",
    "c_first = collections.Counter(ira_tweets[\"is_first\"])\n",
    "print(c_source, c_first)\n",
    "\n",
    "label = [\"first source\", \"source\", \"non-source\"]\n",
    "plt.figure(figsize=(6, 6))\n",
    "\n",
    "# plt.subplot(131)\n",
    "plt.bar(1, c_first[1], width=0.3)\n",
    "plt.bar(2, c_source[1], width=0.3)\n",
    "plt.bar(3, c_source[0], width=0.3)\n",
    "\n",
    "# label = [\"pro-hillary\\n{0:.0%}\".format(count[0] / (count[0]+count[1])), \"pro-trump\\n{0:.0%}\".format(count[1] / (count[0]+count[1]))]\n",
    "plt.xticks([1, 2, 3], label)\n",
    "plt.xlabel('Only IRA', fontsize=15)\n",
    "plt.ylabel('Number of fake news tweets', fontsize=15)\n",
    "plt.xticks(fontsize=14); plt.yticks(fontsize=14)\n",
    "plt.savefig(\"fig/N-of-only-IRA.pdf\", dpi=300, bbox_inches='tight')\n",
    "plt.show()\n",
    "plt.tight_layout()\n",
    "plt.close()"
   ]
  },
  {
   "cell_type": "markdown",
   "metadata": {},
   "source": [
    "## The influence of IRAs in fake news spreading."
   ]
  },
  {
   "cell_type": "code",
   "execution_count": 16,
   "metadata": {},
   "outputs": [
    {
     "data": {
      "text/plain": [
       "(828, 17, 216, 620)"
      ]
     },
     "execution_count": 16,
     "metadata": {},
     "output_type": "execute_result"
    }
   ],
   "source": [
    "ira_url = set(ira_tweets[\"URL\"])\n",
    "ira_first_url = set(ira_tweets[ira_tweets[\"is_first\"]==1][\"URL\"])\n",
    "ira_source_url = set(ira_tweets[ira_tweets[\"is_source\"]==1][\"URL\"])\n",
    "non_source_url = set(ira_tweets[ira_tweets[\"is_source\"]==0][\"URL\"])\n",
    "\n",
    "len(ira_url), len(ira_first_url), len(ira_source_url), len(non_source_url)"
   ]
  },
  {
   "cell_type": "code",
   "execution_count": 17,
   "metadata": {},
   "outputs": [
    {
     "name": "stderr",
     "output_type": "stream",
     "text": [
      "2562218it [02:24, 17781.78it/s]\n"
     ]
    },
    {
     "data": {
      "text/plain": [
       "(254820, 19, 47521, 211769)"
      ]
     },
     "execution_count": 17,
     "metadata": {},
     "output_type": "execute_result"
    }
   ],
   "source": [
    "cnt = 0\n",
    "cnt_first = 0\n",
    "cnt_source = 0\n",
    "cnt_non = 0\n",
    "for i, row in tqdm(tweets_csv.iterrows()):\n",
    "    if row[\"URL\"] in ira_url:\n",
    "        cnt += 1\n",
    "    if row[\"URL\"] in ira_first_url:\n",
    "        cnt_first += 1\n",
    "    if row[\"URL\"] in ira_source_url:\n",
    "        cnt_source += 1\n",
    "    if row[\"URL\"] in non_source_url:\n",
    "        cnt_non += 1\n",
    "cnt, cnt_first, cnt_source, cnt_non"
   ]
  },
  {
   "cell_type": "code",
   "execution_count": 26,
   "metadata": {},
   "outputs": [
    {
     "data": {
      "image/png": "[encoded data removed]",
      "text/plain": [
       "<Figure size 432x432 with 1 Axes>"
      ]
     },
     "metadata": {},
     "output_type": "display_data"
    }
   ],
   "source": [
    "label = [\"source\", \"urls\", \"tweets referring\\n to these urls\"]\n",
    "plt.figure(figsize=(6, 6))\n",
    "\n",
    "# plt.subplot(131)\n",
    "\n",
    "plt.bar(1, len(ira_tweets[ira_tweets[\"is_source\"]==1]), width=0.3)\n",
    "plt.bar(2, len(ira_source_url), width=0.3)\n",
    "plt.bar(3, cnt_source, width=0.3)\n",
    "\n",
    "# label = [\"pro-hillary\\n{0:.0%}\".format(count[0] / (count[0]+count[1])), \"pro-trump\\n{0:.0%}\".format(count[1] / (count[0]+count[1]))]\n",
    "plt.xticks([1, 2, 3], label)\n",
    "# plt.xlabel('All users', fontsize=15)\n",
    "plt.ylabel('Number', fontsize=15)\n",
    "plt.xticks(fontsize=14); plt.yticks(fontsize=14)\n",
    "# plt.yscale(\"log\")\n",
    "plt.savefig(\"fig/ira-source.pdf\", dpi=300, bbox_inches='tight')\n",
    "plt.show()\n",
    "plt.tight_layout()\n",
    "plt.close()"
   ]
  },
  {
   "cell_type": "code",
   "execution_count": 27,
   "metadata": {},
   "outputs": [
    {
     "data": {
      "image/png": "[encoded data removed]",
      "text/plain": [
       "<Figure size 432x432 with 1 Axes>"
      ]
     },
     "metadata": {},
     "output_type": "display_data"
    }
   ],
   "source": [
    "label = [\"tweets\", \"urls\", \"tweets referring\\n to these urls\"]\n",
    "plt.figure(figsize=(6, 6))\n",
    "\n",
    "# plt.subplot(131)\n",
    "\n",
    "plt.bar(1, len(ira_tweets[ira_tweets[\"is_source\"]==0]), width=0.3)\n",
    "plt.bar(2, len(non_source_url), width=0.3)\n",
    "plt.bar(3, cnt_non, width=0.3)\n",
    "\n",
    "# label = [\"pro-hillary\\n{0:.0%}\".format(count[0] / (count[0]+count[1])), \"pro-trump\\n{0:.0%}\".format(count[1] / (count[0]+count[1]))]\n",
    "plt.xticks([1, 2, 3], label)\n",
    "# plt.xlabel('All users', fontsize=15)\n",
    "plt.ylabel('Number', fontsize=15)\n",
    "plt.xticks(fontsize=14); plt.yticks(fontsize=14)\n",
    "# plt.yscale(\"log\")\n",
    "plt.savefig(\"fig/ira-source.pdf\", dpi=300, bbox_inches='tight')\n",
    "plt.show()\n",
    "plt.tight_layout()\n",
    "plt.close()"
   ]
  },
  {
   "cell_type": "code",
   "execution_count": 96,
   "metadata": {},
   "outputs": [
    {
     "data": {
      "text/plain": [
       "13.523651180711699"
      ]
     },
     "execution_count": 96,
     "metadata": {},
     "output_type": "execute_result"
    }
   ],
   "source": [
    "len(tweets_csv) / len(collections.Counter(tweets_csv[\"URL\"]))"
   ]
  },
  {
   "cell_type": "code",
   "execution_count": 97,
   "metadata": {},
   "outputs": [
    {
     "data": {
      "text/plain": [
       "220.00462962962962"
      ]
     },
     "execution_count": 97,
     "metadata": {},
     "output_type": "execute_result"
    }
   ],
   "source": [
    "len(ira_tweets[ira_tweets[\"is_source\"]==1]) / len(ira_source_url)"
   ]
  },
  {
   "cell_type": "code",
   "execution_count": 98,
   "metadata": {},
   "outputs": [
    {
     "data": {
      "text/plain": [
       "341.56290322580645"
      ]
     },
     "execution_count": 98,
     "metadata": {},
     "output_type": "execute_result"
    }
   ],
   "source": [
    "cnt_non / len(non_source_url)"
   ]
  },
  {
   "cell_type": "code",
   "execution_count": null,
   "metadata": {},
   "outputs": [],
   "source": [
    "\n"
   ]
  },
  {
   "cell_type": "code",
   "execution_count": 109,
   "metadata": {},
   "outputs": [
    {
     "data": {
      "text/html": [
       "<div>\n",
       "<style scoped>\n",
       "    .dataframe tbody tr th:only-of-type {\n",
       "        vertical-align: middle;\n",
       "    }\n",
       "\n",
       "    .dataframe tbody tr th {\n",
       "        vertical-align: top;\n",
       "    }\n",
       "\n",
       "    .dataframe thead th {\n",
       "        text-align: right;\n",
       "    }\n",
       "</style>\n",
       "<table border=\"1\" class=\"dataframe\">\n",
       "  <thead>\n",
       "    <tr style=\"text-align: right;\">\n",
       "      <th></th>\n",
       "      <th>tweetid</th>\n",
       "      <th>retweet_count</th>\n",
       "    </tr>\n",
       "  </thead>\n",
       "  <tbody>\n",
       "    <tr>\n",
       "      <th>count</th>\n",
       "      <td>1.003000e+03</td>\n",
       "      <td>1003.000000</td>\n",
       "    </tr>\n",
       "    <tr>\n",
       "      <th>mean</th>\n",
       "      <td>7.835163e+17</td>\n",
       "      <td>5.616152</td>\n",
       "    </tr>\n",
       "    <tr>\n",
       "      <th>std</th>\n",
       "      <td>1.236209e+16</td>\n",
       "      <td>32.106845</td>\n",
       "    </tr>\n",
       "    <tr>\n",
       "      <th>min</th>\n",
       "      <td>7.345768e+17</td>\n",
       "      <td>0.000000</td>\n",
       "    </tr>\n",
       "    <tr>\n",
       "      <th>25%</th>\n",
       "      <td>7.770994e+17</td>\n",
       "      <td>0.000000</td>\n",
       "    </tr>\n",
       "    <tr>\n",
       "      <th>50%</th>\n",
       "      <td>7.841792e+17</td>\n",
       "      <td>0.000000</td>\n",
       "    </tr>\n",
       "    <tr>\n",
       "      <th>75%</th>\n",
       "      <td>7.938885e+17</td>\n",
       "      <td>0.000000</td>\n",
       "    </tr>\n",
       "    <tr>\n",
       "      <th>max</th>\n",
       "      <td>8.450640e+17</td>\n",
       "      <td>640.000000</td>\n",
       "    </tr>\n",
       "  </tbody>\n",
       "</table>\n",
       "</div>"
      ],
      "text/plain": [
       "            tweetid  retweet_count\n",
       "count  1.003000e+03    1003.000000\n",
       "mean   7.835163e+17       5.616152\n",
       "std    1.236209e+16      32.106845\n",
       "min    7.345768e+17       0.000000\n",
       "25%    7.770994e+17       0.000000\n",
       "50%    7.841792e+17       0.000000\n",
       "75%    7.938885e+17       0.000000\n",
       "max    8.450640e+17     640.000000"
      ]
     },
     "execution_count": 109,
     "metadata": {},
     "output_type": "execute_result"
    }
   ],
   "source": [
    "# 看看多少转发了IRA\n",
    "\n",
    "ira_id = set(ira_tweets[\"tweet_id\"])\n",
    "df = pd.read_csv(\"data/ira_tweets_csv_hashed.csv\", usecols=[\"tweetid\", \"userid\", \"retweet_count\"])\n",
    "df = df.loc[df['tweetid'].isin(ira_id)]\n",
    "df.describe()"
   ]
  },
  {
   "cell_type": "code",
   "execution_count": null,
   "metadata": {},
   "outputs": [],
   "source": []
  }
 ],
 "metadata": {
  "kernelspec": {
   "display_name": "Python 3",
   "language": "python",
   "name": "python3"
  },
  "language_info": {
   "codemirror_mode": {
    "name": "ipython",
    "version": 3
   },
   "file_extension": ".py",
   "mimetype": "text/x-python",
   "name": "python",
   "nbconvert_exporter": "python",
   "pygments_lexer": "ipython3",
   "version": "3.7.0"
  }
 },
 "nbformat": 4,
 "nbformat_minor": 2
}
