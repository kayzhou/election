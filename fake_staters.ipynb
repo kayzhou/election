{
 "cells": [
  {
   "cell_type": "code",
   "execution_count": 1,
   "metadata": {},
   "outputs": [],
   "source": [
    "from my_weapon import *\n",
    "from collections import defaultdict"
   ]
  },
  {
   "cell_type": "code",
   "execution_count": 21,
   "metadata": {},
   "outputs": [
    {
     "name": "stderr",
     "output_type": "stream",
     "text": [
      "2338079it [00:25, 92175.51it/s]"
     ]
    },
    {
     "name": "stdout",
     "output_type": "stream",
     "text": [
      "存在url of fake news的tweet： 2338079\n",
      "url集合的量： 189621\n"
     ]
    },
    {
     "name": "stderr",
     "output_type": "stream",
     "text": [
      "\n"
     ]
    }
   ],
   "source": [
    "tweets = {}                     # tweet 内容\n",
    "tweets_url = {}                 # tweets对应的url\n",
    "url_tweetid = defaultdict(list) # url对应的tweets\n",
    "\n",
    "# 载入原始fake_news数据\n",
    "for line in tqdm(open(\"data/tweets_fake.txt\")):\n",
    "    d = json.loads(line)\n",
    "    if \"final_url\" in d:\n",
    "        tweet_id = int(d[\"tweet_id\"])\n",
    "        tweets[tweet_id] = d\n",
    "        url = d[\"final_url\"].lower()\n",
    "        tweets_url[tweet_id] = url\n",
    "        url_tweetid[url].append({\"id\": tweet_id, \"dt\": d[\"datetime_EST\"], \"user_id\": d[\"user_id\"]})\n",
    "            \n",
    "# with open(\"data/tweets_fake.txt\", \"w\") as f:\n",
    "#     for v in tweets.values():\n",
    "#         f.write(json.dumps(v, ensure_ascii=False) + \"\\n\")\n",
    "\n",
    "print(\"存在url of fake news的tweet：\", len(tweets))\n",
    "print(\"url集合的量：\", len(url_tweetid))"
   ]
  },
  {
   "cell_type": "code",
   "execution_count": 31,
   "metadata": {},
   "outputs": [
    {
     "data": {
      "text/plain": [
       "{'tweet_id': 742417158429233152,\n",
       " 'query_id': 0,\n",
       " 'filename_id': 53,\n",
       " 'datetime_EST': '2016-06-13 13:03:38',\n",
       " 'user_id': 1226167963,\n",
       " 'text': \"@TheRalphRetort #WTF Saudi Arabia Has Funded 20% Of Hillary's Presidential Campaign, Saudi Crown Prince Claims https://t.co/3UCj9G0HGn\",\n",
       " 'place': None,\n",
       " 'source_url_id': 2,\n",
       " 'source_content_id': 2}"
      ]
     },
     "execution_count": 31,
     "metadata": {},
     "output_type": "execute_result"
    }
   ],
   "source": [
    "from SQLite_handler import find_tweet, find_user\n",
    "\n",
    "find_tweet(742417158429233152)\n",
    "# find_user(743166519157227520)"
   ]
  },
  {
   "cell_type": "code",
   "execution_count": 31,
   "metadata": {},
   "outputs": [
    {
     "name": "stderr",
     "output_type": "stream",
     "text": [
      "100%|██████████| 1663428/1663428 [03:10<00:00, 8711.92it/s]"
     ]
    },
    {
     "name": "stdout",
     "output_type": "stream",
     "text": [
      "fake spread的节点个数： 1930939\n"
     ]
    },
    {
     "name": "stderr",
     "output_type": "stream",
     "text": [
      "\n"
     ]
    }
   ],
   "source": [
    "# 利用转发网络扩充谣言数据\n",
    "\n",
    "# tweet -> retwtweet\n",
    "fake_retweets_links = json.load(open(\"data/retweet_network_fake.json\"))\n",
    "# fake_tweets = set()\n",
    "\n",
    "for tweet_id, retweetd_id in tqdm(fake_retweets_links.items()):\n",
    "    tweet_id, retweetd_id = int(tweet_id), int(retweetd_id)\n",
    "#     fake_tweets.add(tweet_id)\n",
    "#     fake_tweets.add(retweetd_id)\n",
    "    url = tweets_url[int(retweetd_id)] # 得到 转发消息 的URL\n",
    "    \n",
    "    tweets_url[tweet_id] = url\n",
    "    \n",
    "    if tweet_id not in tweets:\n",
    "        d = find_tweet(tweet_id)\n",
    "        url_tweetid[url].append({\"id\": tweet_id, \"dt\": d[\"datetime_EST\"]})\n",
    "    \n",
    "\n",
    "# print(\"fake spread的节点个数：\", len(fake_tweets))"
   ]
  },
  {
   "cell_type": "code",
   "execution_count": 32,
   "metadata": {},
   "outputs": [
    {
     "data": {
      "text/plain": [
       "count    189621.000000\n",
       "mean         13.598974\n",
       "std          93.549382\n",
       "min           1.000000\n",
       "25%           1.000000\n",
       "50%           2.000000\n",
       "75%           5.000000\n",
       "max       13367.000000\n",
       "dtype: float64"
      ]
     },
     "execution_count": 32,
     "metadata": {},
     "output_type": "execute_result"
    }
   ],
   "source": [
    "import pandas as pd\n",
    "\n",
    "data = pd.Series([len(v) for v in url_tweetid.values()])\n",
    "data.describe()"
   ]
  },
  {
   "cell_type": "code",
   "execution_count": 34,
   "metadata": {},
   "outputs": [
    {
     "data": {
      "image/png": "[encoded data removed]",
      "text/plain": [
       "<Figure size 720x432 with 1 Axes>"
      ]
     },
     "metadata": {
      "needs_background": "light"
     },
     "output_type": "display_data"
    }
   ],
   "source": [
    "import numpy as np\n",
    "import matplotlib.pyplot as plt\n",
    "\n",
    "def get_cdf_pdf(data, mini, maxi, step, norm=True):\n",
    "    x = [float(i) for i in np.arange(mini, maxi, step)]\n",
    "    cdf = [0] * len(x)\n",
    "    pdf = [0] * len(x)\n",
    "    count = 0\n",
    "    for d in data:\n",
    "        d = float(d)\n",
    "        if d < mini or d > maxi:\n",
    "            continue\n",
    "        count += 1\n",
    "        for i in range(len(x)):\n",
    "            if i == (len(x) - 1) and d >= x[i]:\n",
    "                pdf[i] += 1\n",
    "            elif d >= x[i] and d < x[i+1]:\n",
    "                pdf[i] += 1\n",
    "\n",
    "            if d >= x[i]:\n",
    "                cdf[i] += 1\n",
    "\n",
    "    if norm:\n",
    "        cdf = [c / count for c in cdf]\n",
    "        pdf = [p / count for p in pdf]\n",
    "\n",
    "    return x, cdf, pdf\n",
    "\n",
    "\n",
    "# x, cdf, pdf = get_cdf_pdf(data, 0, 15000, 100)\n",
    "plt.figure(figsize=(10, 6))\n",
    "data.hist(bins=30)\n",
    "plt.title('Distribution of size of fake news ', fontsize=15)\n",
    "plt.ylabel('N of the fake news', fontsize=14)\n",
    "plt.xlabel('Size of fake news', fontsize=14)\n",
    "plt.xticks(fontsize=13); plt.yticks(fontsize=13)\n",
    "plt.yscale(\"log\")\n",
    "plt.savefig('fig/distribution_size_fake_news.pdf', dpi=300)\n",
    "plt.show()\n",
    "plt.close()\n"
   ]
  },
  {
   "cell_type": "code",
   "execution_count": 35,
   "metadata": {},
   "outputs": [
    {
     "data": {
      "text/plain": [
       "[{'id': 763804618547572736, 'dt': '2016-08-11 13:29:46'},\n",
       " {'id': 763804883212505088, 'dt': '2016-08-11 13:30:49'},\n",
       " {'id': 763993324285861893, 'dt': '2016-08-12 01:59:37'},\n",
       " {'id': 764000152042414084, 'dt': '2016-08-12 02:26:45'},\n",
       " {'id': 764028274485829633, 'dt': '2016-08-12 04:18:30'},\n",
       " {'id': 764051322282782721, 'dt': '2016-08-12 05:50:05'},\n",
       " {'id': 764055110414536704, 'dt': '2016-08-12 06:05:08'},\n",
       " {'id': 765316378341482496, 'dt': '2016-08-15 17:36:58'},\n",
       " {'id': 765643842888437760, 'dt': '2016-08-16 15:18:11'}]"
      ]
     },
     "execution_count": 35,
     "metadata": {},
     "output_type": "execute_result"
    }
   ],
   "source": [
    "url_tweetid[\"https://thepoliticalinsider.com/clinton-foundation-obama-made-major-move-keep-prison-leaked/\"]"
   ]
  },
  {
   "cell_type": "code",
   "execution_count": 79,
   "metadata": {},
   "outputs": [],
   "source": [
    "# 先按照每个谣言涉及到的tweet数量进行排序\n",
    "\n",
    "sorted_url = sorted(url_tweetid.items(), key=lambda d: len(d[1]), reverse=True)\n",
    "\n",
    "with open(\"data/id_len_url.txt\", \"w\") as f:\n",
    "    for i, v in enumerate(sorted_url):\n",
    "        f.write(\"{}\\t{}\\t{}\\n\".format(i, len(v[1]), v[0]))"
   ]
  },
  {
   "cell_type": "markdown",
   "metadata": {},
   "source": [
    "---\n",
    "\n",
    "以上的分析找到了每个URL传播的过程，然后我要分析哪些是原创的tweet，方法就是判断是不是转发的微博，转发的微博就是在转发网络的keys中～"
   ]
  },
  {
   "cell_type": "code",
   "execution_count": 80,
   "metadata": {},
   "outputs": [],
   "source": [
    "retweeting_tweets = set([int(k) for k in fake_retweets_links.keys()])"
   ]
  },
  {
   "cell_type": "raw",
   "metadata": {},
   "source": [
    "url_tweets = []\n",
    "\n",
    "for v in tqdm(sorted_url):\n",
    "    tweet_list = []\n",
    "    for tweet in v[1]:\n",
    "        if tweet['id'] in retweeting_tweets:\n",
    "            tweet[\"origin\"] = False\n",
    "        else:\n",
    "            tweet[\"origin\"] = True\n",
    "        tweet_list.append(tweet)\n",
    "    url = v[0]\n",
    "    sorted_tweets_list = sorted(tweet_list, key=lambda d: d[\"dt\"])\n",
    "    url_tweets.append({\"url\": url, \"tweets\": sorted_tweets_list})"
   ]
  },
  {
   "cell_type": "markdown",
   "metadata": {},
   "source": [
    "# 下面是非常关键的数据！\n",
    "\n",
    "url -> tweets"
   ]
  },
  {
   "cell_type": "code",
   "execution_count": 79,
   "metadata": {},
   "outputs": [],
   "source": [
    "# save\n",
    "\n",
    "# json.dump(url_tweets, open(\"data/url_tweets.txt\", \"w\"), indent=2)\n",
    "\n",
    "url_tweets = json.load(open(\"data/url_tweets_v2.json\"))\n",
    "# del url_tweets[0] # 第一条too general 目前的数据已经删除\n",
    "\n",
    "# starters_cnt = 0\n",
    "# first_users = set()\n",
    "# starter_users = set()\n",
    "\n",
    "# for fake in url_tweets:\n",
    "#     for j, t in enumerate(fake[\"tweets\"]):\n",
    "#         if t[\"origin\"]:\n",
    "#             starters_cnt += 1\n",
    "#             starter_users.add(t[\"user_id\"])\n",
    "#             if j == 0:\n",
    "#                 first_users.add(t[\"user_id\"])\n",
    "    \n",
    "# len(url_tweets), starters_cnt, len(first_users), len(starter_users)"
   ]
  },
  {
   "cell_type": "markdown",
   "metadata": {},
   "source": [
    "- 189620条谣言URL, 914272条初始推特；\n",
    "- 25212个第一条谣言的用户, 88215个发初始推特的用户；\n",
    "\n",
    "### 专门针对用户的分析，放到analyze_users.ipy中～"
   ]
  },
  {
   "cell_type": "code",
   "execution_count": 4,
   "metadata": {},
   "outputs": [],
   "source": [
    "from urllib.parse import urlparse\n",
    "\n",
    "\n",
    "def get_day(dt):\n",
    "    return pendulum.parse(dt).format(\"YYYY-MM-DD 00:00:00\")\n",
    "    \n",
    "    \n",
    "def get_hour(dt):\n",
    "    return pendulum.parse(dt).format(\"YYYY-MM-DD HH:00:00\")\n",
    "    \n",
    "\n",
    "def cal_ts_day(dts):\n",
    "    start = get_day(dts[0])\n",
    "    end = get_day(dts[-1])\n",
    "    rng = pd.date_range(start, end, freq='D')\n",
    "    ts = pd.Series(0, rng)\n",
    "    for dt in dts:\n",
    "        now = get_day(dt)\n",
    "        ts[now] += 1\n",
    "    return ts\n",
    "\n",
    "\n",
    "def cal_ts_48hours(dts):\n",
    "    start = get_hour(dts[0])\n",
    "    rng = pd.date_range(start, periods=48, freq=\"H\")\n",
    "    ts = pd.Series(0, rng)\n",
    "    for dt in dts:\n",
    "        now = get_hour(dt)\n",
    "        if now in ts:\n",
    "            ts[now] += 1\n",
    "    return ts\n",
    "    \n",
    "    \n",
    "def plot_day_v2_starter(i, url, sorted_dts, sorted_dts2, save=False):\n",
    "    \"\"\"\n",
    "    包含了两条线！\n",
    "    \"\"\"\n",
    "\n",
    "    plt.figure(figsize=(10, 6))\n",
    "    ts = cal_ts_day(sorted_dts)\n",
    "    ts.plot()\n",
    "    \n",
    "    ts2 = cal_ts_day(sorted_dts2)\n",
    "    ts2.plot()\n",
    "    \n",
    "    # configure\n",
    "    plt.ylabel('N of tweets with this fake news', fontsize=15)\n",
    "    plt.xticks(fontsize=11); plt.yticks(fontsize=11)\n",
    "#     plt.xlabel('$Date$', fontsize=15)\n",
    "#     plt.title(url)\n",
    "    \n",
    "    if save:\n",
    "        plt.savefig('fig/{}-{}-overall-spread.pdf'.format(i, url), dpi=300)\n",
    "    else:\n",
    "        plt.show()\n",
    "    \n",
    "    plt.close()\n",
    "\n",
    "\n",
    "def plot_48hours_v2_starter(i, url, sorted_dts, sorted_dts2, save=False):\n",
    "    \"\"\"\n",
    "    包含了两条线！\n",
    "    \"\"\"\n",
    "    \n",
    "#     print(url)\n",
    "#     print(\"实际传播开始和结束时间：\", sorted_dts[0], sorted_dts[-1])\n",
    "\n",
    "    plt.figure(figsize=(10, 6))\n",
    "    ts = cal_ts_48hours(sorted_dts)\n",
    "    ts.plot()\n",
    "    \n",
    "    ts2 = cal_ts_48hours(sorted_dts2)\n",
    "    ts2.plot()\n",
    "    \n",
    "    # configure\n",
    "    plt.ylabel('N of tweets with this fake news', fontsize=15)\n",
    "    plt.xticks(fontsize=11); plt.yticks(fontsize=11)\n",
    "#     plt.xlabel('$Date$', fontsize=15)\n",
    "#     plt.title(url)\n",
    "\n",
    "    if save:\n",
    "        plt.savefig('fig/{}-{}-first-48-hours.pdf'.format(i, url), dpi=300)\n",
    "    else:\n",
    "        plt.show()\n",
    "        \n",
    "    plt.close()\n"
   ]
  },
  {
   "cell_type": "code",
   "execution_count": 5,
   "metadata": {},
   "outputs": [
    {
     "name": "stdout",
     "output_type": "stream",
     "text": [
      "ploting ~ 1\n"
     ]
    },
    {
     "data": {
      "image/png": "[encoded data removed]",
      "text/plain": [
       "<Figure size 720x432 with 1 Axes>"
      ]
     },
     "metadata": {
      "needs_background": "light"
     },
     "output_type": "display_data"
    },
    {
     "data": {
      "image/png": "[encoded data removed]",
      "text/plain": [
       "<Figure size 720x432 with 1 Axes>"
      ]
     },
     "metadata": {
      "needs_background": "light"
     },
     "output_type": "display_data"
    }
   ],
   "source": [
    "for i, v in enumerate(url_tweets):\n",
    "    if i != 1:\n",
    "        continue\n",
    "        \n",
    "    print(\"ploting ~\", i)\n",
    "    url = v[\"url\"]\n",
    "    tweets_list = v[\"tweets\"]\n",
    "    \n",
    "    dts = [t[\"dt\"] for t in tweets_list]\n",
    "\n",
    "#     covert_timeseries(i, url, dts)\n",
    "#     plot_first48hours(i, url, dts)\n",
    "    \n",
    "    dts2 = [t[\"dt\"] for t in tweets_list if t[\"origin\"]==True]\n",
    "    plot_day_v2_starter(i, url, dts, dts2)\n",
    "    plot_48hours_v2_starter(i, url, dts, dts2)"
   ]
  },
  {
   "cell_type": "code",
   "execution_count": 12,
   "metadata": {},
   "outputs": [
    {
     "name": "stdout",
     "output_type": "stream",
     "text": [
      "Twitter Web Client - 33.09%\n",
      "dlvr.it - 22.99%\n",
      "Twitter for iPhone - 7.88%\n",
      "Facebook - 7.87%\n",
      "Twitter for Android - 5.81%\n",
      "Twitter for iPad - 3.11%\n",
      "Put your button on any page!  - 2.79%\n",
      "Mobile Web - 2.47%\n",
      "twitterfeed - 2.17%\n",
      "IFTTT - 1.59%\n",
      "Hootsuite - 1.01%\n",
      "SocialOomph - 0.84%\n",
      "Linkis.com - 0.84%\n",
      "Sprout Social - 0.82%\n",
      "Buffer - 0.62%\n",
      "TweetDeck - 0.48%\n",
      "WordPress.com - 0.44%\n",
      "Rignite - 0.39%\n",
      "OS X - 0.31%\n",
      "Mobile Web (M5) - 0.26%\n"
     ]
    }
   ],
   "source": [
    "# 分析starter的source_content\n",
    "\n",
    "from collections import Counter\n",
    "\n",
    "count = []\n",
    "for v in url_tweets:\n",
    "    url = v[\"url\"]\n",
    "    tweet_list = v[\"tweets\"]\n",
    "    for t in tweet_list:\n",
    "        if t[\"origin\"]:\n",
    "            tid = t[\"id\"]\n",
    "            d = find_source(tid)\n",
    "            count.append(d)\n",
    "\n",
    "_sum = len(count)\n",
    "count = Counter(count)\n"
   ]
  },
  {
   "cell_type": "code",
   "execution_count": 14,
   "metadata": {},
   "outputs": [
    {
     "name": "stdout",
     "output_type": "stream",
     "text": [
      "Twitter Web Client - 33.09%\n",
      "dlvr.it - 22.99%\n",
      "Twitter for iPhone - 7.88%\n",
      "Facebook - 7.87%\n",
      "Twitter for Android - 5.81%\n",
      "Twitter for iPad - 3.11%\n",
      "Put your button on any page!  - 2.79%\n",
      "Mobile Web - 2.47%\n",
      "twitterfeed - 2.17%\n",
      "IFTTT - 1.59%\n",
      "Hootsuite - 1.01%\n",
      "SocialOomph - 0.84%\n",
      "Linkis.com - 0.84%\n",
      "Sprout Social - 0.82%\n",
      "Buffer - 0.62%\n",
      "TweetDeck - 0.48%\n",
      "WordPress.com - 0.44%\n",
      "Rignite - 0.39%\n",
      "OS X - 0.31%\n",
      "Mobile Web (M5) - 0.26%\n",
      "Boost your self-promotion! - 0.23%\n",
      "Put your brand on any website! - 0.21%\n",
      "Your best free sharing tool! - 0.17%\n",
      "PatriotJournalist - 0.16%\n",
      "AboveTopSecret.com New Topics - 0.16%\n",
      "iOS - 0.15%\n",
      "Turn sharing to content creation - 0.14%\n",
      "Twitter for Windows Phone - 0.14%\n",
      "TweetCaster for Android - 0.13%\n",
      "The Right Scoop - 0.12%\n",
      "Zero Hedge Publisher II - 0.12%\n",
      "Google - 0.12%\n",
      "Linkis: turn sharing into growth - 0.11%\n",
      "TheRightScoop - 0.11%\n",
      "Tweet Jukebox - 0.11%\n",
      "Win the Customer - 0.11%\n",
      "Sociocaster App - 0.09%\n",
      "Linkis - fuel your sharing! - 0.09%\n",
      "Turn sharing into growth! - 0.08%\n",
      "Prntly - 0.08%\n",
      "Bitly - 0.08%\n",
      "Twitter for Windows - 0.08%\n",
      "DepartedXX - 0.07%\n",
      "GMN Report - 0.07%\n",
      "Mobile Web (M2) - 0.06%\n",
      "Twitter for BlackBerry - 0.06%\n",
      "Linkis—biggest sharing network! - 0.06%\n",
      "Twitter for Android Tablets - 0.05%\n",
      "Crowdfire App - 0.05%\n",
      "quikonnekt - 0.04%\n"
     ]
    }
   ],
   "source": [
    "for k, v in count.most_common(50):\n",
    "    print(k, '- {:.2%}'.format(v / _sum))"
   ]
  },
  {
   "cell_type": "code",
   "execution_count": 213,
   "metadata": {},
   "outputs": [
    {
     "data": {
      "text/plain": [
       "[(122455671, 3701),\n",
       " (4831603043, 2532),\n",
       " (60893069, 2079),\n",
       " (4496549793, 1814),\n",
       " (825501626, 1689),\n",
       " (3274720530, 1686),\n",
       " (3374126201, 1567),\n",
       " (14210021, 1451),\n",
       " (137637040, 1102),\n",
       " (18856867, 1085),\n",
       " (18208120, 1028),\n",
       " (138092553, 916),\n",
       " (634330366, 881),\n",
       " (112732163, 851),\n",
       " (359122436, 781),\n",
       " (1494835716, 775),\n",
       " (166721424, 763),\n",
       " (1246177122, 761),\n",
       " (2270900414, 744),\n",
       " (3326947147, 733)]"
      ]
     },
     "execution_count": 213,
     "metadata": {},
     "output_type": "execute_result"
    }
   ],
   "source": [
    "# 用户分析\n",
    "\n",
    "count = []\n",
    "for k, v in url_first.items():\n",
    "    count.append(v[\"user_id\"])\n",
    "_sum = len(count)\n",
    "count = Counter(count)\n",
    "count.most_common(20)"
   ]
  },
  {
   "cell_type": "code",
   "execution_count": 219,
   "metadata": {},
   "outputs": [
    {
     "data": {
      "text/plain": [
       "count    25277.000000\n",
       "mean         7.501721\n",
       "std         51.665360\n",
       "min          1.000000\n",
       "25%          1.000000\n",
       "50%          1.000000\n",
       "75%          3.000000\n",
       "max       3701.000000\n",
       "dtype: float64"
      ]
     },
     "execution_count": 219,
     "metadata": {},
     "output_type": "execute_result"
    }
   ],
   "source": [
    "user_tweets_cnt = []\n",
    "for c in count.values():\n",
    "    user_tweets_cnt.append(c)\n",
    "user_tweets_cnt = pd.Series(user_tweets_cnt)\n",
    "user_tweets_cnt.describe()"
   ]
  },
  {
   "cell_type": "code",
   "execution_count": 227,
   "metadata": {},
   "outputs": [
    {
     "data": {
      "image/png": "[encoded data removed]",
      "text/plain": [
       "<Figure size 576x432 with 1 Axes>"
      ]
     },
     "metadata": {
      "needs_background": "light"
     },
     "output_type": "display_data"
    }
   ],
   "source": [
    "x, cdf, pdf = get_cdf_pdf(user_tweets_cnt, 0, 4000, 10)\n",
    "plt.figure(figsize=(8, 6))\n",
    "# user_tweets_cnt.hist(bins=50)\n",
    "plt.plot(x, cdf)\n",
    "# plt.title('Distribution of size of fake news ', fontsize=15)\n",
    "plt.ylabel('CCDF', fontsize=14)\n",
    "plt.xlabel('N of starters for each user', fontsize=14)\n",
    "plt.xticks(fontsize=13); plt.yticks(fontsize=13)\n",
    "plt.yscale(\"log\")\n",
    "plt.xscale(\"log\")\n",
    "plt.savefig('fig/distribution_starters.pdf', dpi=300)\n",
    "plt.show()\n",
    "plt.close()"
   ]
  },
  {
   "cell_type": "code",
   "execution_count": 240,
   "metadata": {},
   "outputs": [
    {
     "data": {
      "text/plain": [
       "1285"
      ]
     },
     "execution_count": 240,
     "metadata": {},
     "output_type": "execute_result"
    }
   ],
   "source": [
    "len(user_tweets_cnt[user_tweets_cnt>20])"
   ]
  },
  {
   "cell_type": "markdown",
   "metadata": {},
   "source": [
    "---\n",
    "\n",
    "## 发现first和starter的态度"
   ]
  },
  {
   "cell_type": "code",
   "execution_count": 80,
   "metadata": {},
   "outputs": [
    {
     "name": "stderr",
     "output_type": "stream",
     "text": [
      "100%|██████████| 189620/189620 [21:56<00:00, 144.02it/s]\n"
     ]
    }
   ],
   "source": [
    "from SQLite_handler import opinion\n",
    "\n",
    "first_opinion = []\n",
    "staters_opinion = []\n",
    "other_opinion = []\n",
    "\n",
    "for fake in tqdm(url_tweets):\n",
    "    url = fake[\"url\"]\n",
    "    first = fake[\"tweets\"][0][\"id\"]\n",
    "    for t in fake[\"tweets\"]:\n",
    "        if t[\"origin\"]:\n",
    "            staters_opinion.append(opinion(t[\"id\"]))\n",
    "        else:\n",
    "            other_opinion.append(opinion(t[\"id\"]))\n",
    "    \n",
    "    first_opinion.append(opinion(first))"
   ]
  },
  {
   "cell_type": "markdown",
   "metadata": {},
   "source": [
    "发现有很多推特没有找到支持态度，先存疑？\n",
    "\n",
    "为什么？Alex的论文中说有很多是因为中性所以无法分析！"
   ]
  },
  {
   "cell_type": "code",
   "execution_count": 97,
   "metadata": {},
   "outputs": [
    {
     "name": "stdout",
     "output_type": "stream",
     "text": [
      "Counter({1: 119631, -1: 42753, 0: 27236})\n",
      "Counter({1: 650202, -1: 149707, 0: 114363})\n",
      "Counter({1: 1530424, 0: 114612, -1: 6434})\n"
     ]
    },
    {
     "data": {
      "image/png": "[encoded data removed]",
      "text/plain": [
       "<Figure size 1440x432 with 3 Axes>"
      ]
     },
     "metadata": {},
     "output_type": "display_data"
    }
   ],
   "source": [
    "from collections import Counter\n",
    "sns.set_style(\"white\")\n",
    "sns.color_palette(\"RdBu\", n_colors=7)\n",
    "\n",
    "\n",
    "\n",
    "count = Counter(first_opinion)\n",
    "print(count)\n",
    "\n",
    "label = [\"pro-hillary\", \"pro-trump\"]\n",
    "plt.figure(figsize=(20, 6))\n",
    "\n",
    "plt.subplot(131)\n",
    "plt.bar(1, count[0], color=sns.color_palette(\"RdBu\")[0], width=0.2)\n",
    "plt.bar(1.5, count[1], color=sns.color_palette(\"RdBu\")[5], width=0.2)\n",
    "label = [\"pro-hillary\\n{0:.0%}\".format(count[0] / (count[0]+count[1])), \"pro-trump\\n{0:.0%}\".format(count[1] / (count[0]+count[1]))]\n",
    "plt.xticks([1, 1.5], label)\n",
    "plt.xlabel('First fake sources', fontsize=15)\n",
    "plt.ylabel('Number of tweets', fontsize=15)\n",
    "plt.xticks(fontsize=14); plt.yticks(fontsize=14)\n",
    "\n",
    "count = Counter(staters_opinion)\n",
    "print(count)\n",
    "\n",
    "plt.subplot(132)\n",
    "plt.bar(1, count[0], color=sns.color_palette(\"RdBu\")[0], width=0.2)\n",
    "plt.bar(1.5, count[1], color=sns.color_palette(\"RdBu\")[5], width=0.2)\n",
    "label = [\"pro-hillary\\n{0:.0%}\".format(count[0] / (count[0]+count[1])), \"pro-trump\\n{0:.0%}\".format(count[1] / (count[0]+count[1]))]\n",
    "plt.xticks([1, 1.5], label)\n",
    "plt.xlabel('Fake sources', fontsize=15)\n",
    "plt.xticks(fontsize=14); plt.yticks(fontsize=14)\n",
    "\n",
    "count = Counter(other_opinion)\n",
    "print(count)\n",
    "\n",
    "plt.subplot(133)\n",
    "plt.bar(1, count[0], color=sns.color_palette(\"RdBu\")[0], width=0.2)\n",
    "plt.bar(1.5, count[1], color=sns.color_palette(\"RdBu\")[5], width=0.2)\n",
    "label = [\"pro-hillary\\n{0:.0%}\".format(count[0] / (count[0]+count[1])), \"pro-trump\\n{0:.0%}\".format(count[1] / (count[0]+count[1]))]\n",
    "plt.xticks([1, 1.5], label)\n",
    "plt.xlabel('Non-sources', fontsize=15)\n",
    "# plt.ylabel('N of fake sources', fontsize=15)\n",
    "plt.xticks(fontsize=14); plt.yticks(fontsize=14)\n",
    "\n",
    "plt.savefig(\"fig/N-of-fake-sources.pdf\", dpi=300)\n",
    "plt.show()\n",
    "plt.close()\n",
    "\n"
   ]
  },
  {
   "cell_type": "code",
   "execution_count": 6,
   "metadata": {},
   "outputs": [],
   "source": [
    "uids_of_IRA = set(json.load(open(\"data/IRA_match.json\")).values())"
   ]
  },
  {
   "cell_type": "code",
   "execution_count": 12,
   "metadata": {},
   "outputs": [
    {
     "name": "stderr",
     "output_type": "stream",
     "text": [
      "189620it [00:00, 217251.10it/s]\n"
     ]
    },
    {
     "data": {
      "text/plain": [
       "(6, 144)"
      ]
     },
     "execution_count": 12,
     "metadata": {},
     "output_type": "execute_result"
    }
   ],
   "source": [
    "from SQLite_handler import find_tweet\n",
    "\n",
    "count_IRA_first = 0\n",
    "count_IRA_starters = 0\n",
    "\n",
    "for i, fake in tqdm(enumerate(url_tweets)):\n",
    "    url = fake[\"url\"]\n",
    "    for j, t in enumerate(fake[\"tweets\"]):\n",
    "        if t[\"origin\"]:\n",
    "            if str(t[\"user_id\"]) in uids_of_IRA:\n",
    "                count_IRA_starters += 1\n",
    "                if j == 0:\n",
    "                    count_IRA_first += 1\n",
    "\n",
    "count_IRA_first, count_IRA_starters\n",
    "\n",
    "# url_tweets[-100000][\"tweets\"]\n",
    "# json.dump(url_tweets, open(\"data/url_tweets.json\", \"w\"), indent=2)"
   ]
  },
  {
   "cell_type": "code",
   "execution_count": 16,
   "metadata": {},
   "outputs": [],
   "source": []
  },
  {
   "cell_type": "code",
   "execution_count": null,
   "metadata": {},
   "outputs": [],
   "source": []
  }
 ],
 "metadata": {
  "kernelspec": {
   "display_name": "Python 3",
   "language": "python",
   "name": "python3"
  },
  "language_info": {
   "codemirror_mode": {
    "name": "ipython",
    "version": 3
   },
   "file_extension": ".py",
   "mimetype": "text/x-python",
   "name": "python",
   "nbconvert_exporter": "python",
   "pygments_lexer": "ipython3",
   "version": "3.7.0"
  }
 },
 "nbformat": 4,
 "nbformat_minor": 2
}
