{
 "cells": [
  {
   "cell_type": "code",
   "execution_count": 1,
   "metadata": {},
   "outputs": [],
   "source": [
    "from my_weapon import *\n",
    "from collections import defaultdict"
   ]
  },
  {
   "cell_type": "code",
   "execution_count": 2,
   "metadata": {},
   "outputs": [
    {
     "data": {
      "text/plain": [
       "(189620, 914272, 25212, 88215)"
      ]
     },
     "execution_count": 2,
     "metadata": {},
     "output_type": "execute_result"
    }
   ],
   "source": [
    "url_tweets = json.load(open(\"data/url_tweets.json\"))\n",
    "# del url_tweets[0] # 第一条too general 目前的数据已经删除\n",
    "\n",
    "starters_cnt = 0\n",
    "first_users = set()\n",
    "starter_users = set()\n",
    "\n",
    "for fake in url_tweets:\n",
    "    for j, t in enumerate(fake[\"tweets\"]):\n",
    "        if t[\"origin\"]:\n",
    "            starters_cnt += 1\n",
    "            starter_users.add(t[\"user_id\"])\n",
    "            if j == 0:\n",
    "                first_users.add(t[\"user_id\"])\n",
    "    \n",
    "len(url_tweets), starters_cnt, len(first_users), len(starter_users)"
   ]
  },
  {
   "cell_type": "markdown",
   "metadata": {},
   "source": [
    "- 189620条谣言URL, 914272条初始推特；\n",
    "- 25212个第一条谣言的用户, 88215个发初始推特的用户；\n",
    "\n",
    "### 专门针对用户的分析，放到analyze_users.ipy中～"
   ]
  },
  {
   "cell_type": "raw",
   "metadata": {},
   "source": [
    "一个用户在传播中有两种身份，starter和participant，我重新定义了一种first starter，是需要关注的！\n",
    "\n",
    "role = 0, 1, 2 分别是first starter, starter, participant\n",
    "\n",
    "我现在打算建立反向的数据：\n",
    "\n",
    "uid -> fake news 传播中的行为；以为twitter上面的一些特征"
   ]
  },
  {
   "cell_type": "code",
   "execution_count": 11,
   "metadata": {},
   "outputs": [
    {
     "name": "stderr",
     "output_type": "stream",
     "text": [
      "100%|██████████| 189620/189620 [00:02<00:00, 65628.35it/s]\n"
     ]
    }
   ],
   "source": [
    "user_data = defaultdict(list)\n",
    "\n",
    "for fake in tqdm(url_tweets):\n",
    "    url = fake[\"url\"]\n",
    "    for j, t in enumerate(fake[\"tweets\"]):\n",
    "        uid = t[\"user_id\"]\n",
    "        if t[\"origin\"]:\n",
    "            if j == 0: # first\n",
    "                user_data[str(uid)].append({\"id\": t[\"id\"], \"role\": 0, \"url\": url, \"dt\": t[\"dt\"]})\n",
    "            else:\n",
    "                user_data[str(uid)].append({\"id\": t[\"id\"], \"role\": 1, \"url\": url, \"dt\": t[\"dt\"]})\n",
    "        else:\n",
    "            user_data[str(uid)].append({\"id\": t[\"id\"], \"role\": 2, \"url\": url, \"dt\": t[\"dt\"]})\n",
    "            "
   ]
  },
  {
   "cell_type": "code",
   "execution_count": 26,
   "metadata": {},
   "outputs": [],
   "source": [
    "# json.dump(tmp, open(\"data/user-behaviors.txt\", \"w\"), indent=2)\n",
    "\n",
    "user_data = json.load(open(\"data/user-behaviors.json\"))"
   ]
  },
  {
   "cell_type": "code",
   "execution_count": 28,
   "metadata": {},
   "outputs": [],
   "source": [
    "with open(\"data/user-behavior-features.csv\", \"w\") as f:\n",
    "    for d in user_data:\n",
    "        uid = d[\"uid\"]\n",
    "        cnt_0 = 0\n",
    "        cnt_1 = 0\n",
    "        cnt_2 = 0\n",
    "        url = set()\n",
    "        for t in d[\"tweets\"]:\n",
    "            if t[\"role\"] == 0:\n",
    "                cnt_0 += 1\n",
    "            elif t[\"role\"] == 1:\n",
    "                cnt_1 += 1\n",
    "            elif t[\"role\"] == 2:\n",
    "                cnt_2 += 1\n",
    "            url.add(t[\"url\"])\n",
    "        f.write(\"{},{},{},{},{},{}\\n\".format(uid, cnt_0, cnt_1, cnt_2, len(d[\"tweets\"]), len(url)))\n",
    "    "
   ]
  },
  {
   "cell_type": "raw",
   "metadata": {},
   "source": [
    "一共有21万人参加了选举谣言的传播，我要去他们的行为进行分类"
   ]
  },
  {
   "cell_type": "code",
   "execution_count": 44,
   "metadata": {},
   "outputs": [],
   "source": [
    "uids_of_IRA = set( [int(d) for d in json.load(open(\"data/IRA_match.json\")).values()] )"
   ]
  },
  {
   "cell_type": "code",
   "execution_count": 31,
   "metadata": {},
   "outputs": [],
   "source": [
    "user_data = pd.read_csv(\"data/user-behavior-features.csv\")"
   ]
  },
  {
   "cell_type": "code",
   "execution_count": 48,
   "metadata": {},
   "outputs": [
    {
     "name": "stdout",
     "output_type": "stream",
     "text": [
      "789266125485998080 76\n",
      "1679279490 61\n",
      "1671234620 54\n",
      "1662779209 18\n",
      "4272870988 15\n",
      "2606301939 15\n",
      "743166519157227520 13\n",
      "2491081213 13\n",
      "2671070290 12\n",
      "1694026190 11\n",
      "2535166748 11\n",
      "1661246144 10\n",
      "1715424829 8\n",
      "1651693646 9\n",
      "1629828379 9\n",
      "2572058134 7\n",
      "1647045721 7\n",
      "1649967228 7\n",
      "4311371968 7\n",
      "4224729994 6\n",
      "1688370956 6\n",
      "3990577513 5\n",
      "2535818742 5\n",
      "1833223908 5\n",
      "3083844539 5\n",
      "4355797094 5\n",
      "4437444442 4\n",
      "1533813962 4\n",
      "1685718216 4\n",
      "1710804738 4\n",
      "1623180199 3\n",
      "4289431230 3\n",
      "1720117201 3\n",
      "4224912857 3\n",
      "4332740714 3\n",
      "4208754922 3\n",
      "1676481360 3\n",
      "2540758755 3\n",
      "4508630900 2\n",
      "2570631118 2\n",
      "4209684039 2\n",
      "1655194147 2\n",
      "1649144358 2\n",
      "1690487623 2\n",
      "2586506586 1\n",
      "4218156466 1\n",
      "1652987412 1\n",
      "2533221819 1\n",
      "1681162956 1\n",
      "737420000043139072 1\n",
      "1676377446 1\n",
      "1659753702 1\n",
      "3084866039 1\n",
      "3312143142 1\n",
      "1868981054 1\n",
      "1617939218 1\n",
      "1658202894 1\n",
      "1653553555 1\n",
      "1716228906 1\n"
     ]
    },
    {
     "data": {
      "text/plain": [
       "59"
      ]
     },
     "execution_count": 48,
     "metadata": {},
     "output_type": "execute_result"
    }
   ],
   "source": [
    "cnt = 0\n",
    "\n",
    "for i, row in user_data.iterrows():\n",
    "    if row[\"uid\"] in uids_of_IRA:\n",
    "        print(row[\"uid\"], row[\"cnt_url\"])\n",
    "        cnt += 1\n",
    "        \n",
    "cnt"
   ]
  },
  {
   "cell_type": "code",
   "execution_count": null,
   "metadata": {},
   "outputs": [],
   "source": []
  }
 ],
 "metadata": {
  "kernelspec": {
   "display_name": "Python 3",
   "language": "python",
   "name": "python3"
  },
  "language_info": {
   "codemirror_mode": {
    "name": "ipython",
    "version": 3
   },
   "file_extension": ".py",
   "mimetype": "text/x-python",
   "name": "python",
   "nbconvert_exporter": "python",
   "pygments_lexer": "ipython3",
   "version": "3.7.0"
  }
 },
 "nbformat": 4,
 "nbformat_minor": 2
}
