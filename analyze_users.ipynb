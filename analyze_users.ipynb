{
 "cells": [
  {
   "cell_type": "code",
   "execution_count": null,
   "metadata": {},
   "outputs": [],
   "source": [
    "from my_weapon import *\n",
    "from collections import defaultdict"
   ]
  },
  {
   "cell_type": "code",
   "execution_count": 2,
   "metadata": {},
   "outputs": [],
   "source": [
    "url_tweets = json.load(open(\"data/url_tweets_v2.json\"))\n",
    "# del url_tweets[0] # 第一条too general 目前的数据已经删除"
   ]
  },
  {
   "cell_type": "code",
   "execution_count": 3,
   "metadata": {},
   "outputs": [
    {
     "data": {
      "text/plain": [
       "(189620, 914272, 25212, 88215, 109, 912)"
      ]
     },
     "execution_count": 3,
     "metadata": {},
     "output_type": "execute_result"
    }
   ],
   "source": [
    "starters_cnt = 0\n",
    "IRAs_cnt = 0\n",
    "first_users = set()\n",
    "starter_users = set()\n",
    "IRAs = set()\n",
    "\n",
    "for fake in url_tweets:\n",
    "    for j, t in enumerate(fake[\"tweets\"]):\n",
    "        if t[\"IRA\"]:\n",
    "            IRAs.add(t[\"user_id\"])\n",
    "            IRAs_cnt += 1\n",
    "            \n",
    "        if t[\"origin\"]:\n",
    "            starters_cnt += 1\n",
    "            starter_users.add(t[\"user_id\"])\n",
    "            if j == 0:\n",
    "                first_users.add(t[\"user_id\"])\n",
    "    \n",
    "len(url_tweets), starters_cnt, len(first_users), len(starter_users), len(IRAs), IRAs_cnt"
   ]
  },
  {
   "cell_type": "code",
   "execution_count": 4,
   "metadata": {},
   "outputs": [
    {
     "name": "stderr",
     "output_type": "stream",
     "text": [
      "100%|██████████| 88215/88215 [19:51<00:00, 74.06it/s]\n"
     ]
    }
   ],
   "source": [
    "from SQLite_handler import find_user_info\n",
    "\n",
    "starter_users_info = []\n",
    "\n",
    "with open(\"data/sources_users_info.json\", \"w\") as f:\n",
    "    for user_id in tqdm(starter_users):\n",
    "        d = find_user_info(user_id)\n",
    "        if d:\n",
    "            if user_id in first_users:\n",
    "                d[\"first\"] = True\n",
    "            else:\n",
    "                d[\"first\"] = False\n",
    "            starter_users_info.append(d)\n",
    "            f.write(json.dumps(d, ensure_ascii=False) + \"\\n\")"
   ]
  },
  {
   "cell_type": "code",
   "execution_count": 5,
   "metadata": {},
   "outputs": [
    {
     "data": {
      "text/plain": [
       "81959"
      ]
     },
     "execution_count": 5,
     "metadata": {},
     "output_type": "execute_result"
    }
   ],
   "source": [
    "len(starter_users_info)"
   ]
  },
  {
   "cell_type": "raw",
   "metadata": {},
   "source": [
    "居然缺少了6200个用户！"
   ]
  },
  {
   "cell_type": "code",
   "execution_count": 8,
   "metadata": {},
   "outputs": [
    {
     "data": {
      "text/plain": [
       "{'profile_image_url': 'http://pbs.twimg.com/profile_images/482744514860179456/yPRbWqz7_normal.jpeg',\n",
       " 'profile_background_image_url': 'http://abs.twimg.com/images/themes/theme1/bg.png',\n",
       " 'favourites_count': 4726,\n",
       " 'url': None,\n",
       " 'profile_image_url_https': 'https://pbs.twimg.com/profile_images/482744514860179456/yPRbWqz7_normal.jpeg',\n",
       " 'description': None,\n",
       " 'id': 807990584,\n",
       " 'profile_background_image_url_https': 'https://abs.twimg.com/images/themes/theme1/bg.png',\n",
       " 'follow_request_sent': None,\n",
       " 'profile_sidebar_fill_color': 'DDEEF6',\n",
       " 'profile_background_color': 'C0DEED',\n",
       " 'contributors_enabled': False,\n",
       " 'statuses_count': 6147,\n",
       " 'profile_text_color': '333333',\n",
       " 'lang': 'en',\n",
       " 'profile_banner_url': 'https://pbs.twimg.com/profile_banners/807990584/1403920298',\n",
       " 'verified': False,\n",
       " 'default_profile_image': False,\n",
       " 'created_at': 'Fri Sep 07 02:01:22 +0000 2012',\n",
       " 'time_zone': None,\n",
       " 'name': 'Michael Stage',\n",
       " 'is_translator': False,\n",
       " 'utc_offset': None,\n",
       " 'notifications': None,\n",
       " 'geo_enabled': False,\n",
       " 'following': None,\n",
       " 'id_str': '807990584',\n",
       " 'profile_use_background_image': True,\n",
       " 'screen_name': 'al_stage',\n",
       " 'location': None,\n",
       " 'protected': False,\n",
       " 'profile_link_color': '0084B4',\n",
       " 'listed_count': 28,\n",
       " 'followers_count': 173,\n",
       " 'profile_sidebar_border_color': 'C0DEED',\n",
       " 'default_profile': True,\n",
       " 'friends_count': 171,\n",
       " 'profile_background_tile': False,\n",
       " 'first': False}"
      ]
     },
     "execution_count": 8,
     "metadata": {},
     "output_type": "execute_result"
    }
   ],
   "source": [
    "starter_users_info[0]"
   ]
  },
  {
   "cell_type": "code",
   "execution_count": 9,
   "metadata": {},
   "outputs": [],
   "source": [
    "users_info = pd.DataFrame(starter_users_info)"
   ]
  },
  {
   "cell_type": "code",
   "execution_count": 11,
   "metadata": {},
   "outputs": [
    {
     "data": {
      "text/html": [
       "<div>\n",
       "<style scoped>\n",
       "    .dataframe tbody tr th:only-of-type {\n",
       "        vertical-align: middle;\n",
       "    }\n",
       "\n",
       "    .dataframe tbody tr th {\n",
       "        vertical-align: top;\n",
       "    }\n",
       "\n",
       "    .dataframe thead th {\n",
       "        text-align: right;\n",
       "    }\n",
       "</style>\n",
       "<table border=\"1\" class=\"dataframe\">\n",
       "  <thead>\n",
       "    <tr style=\"text-align: right;\">\n",
       "      <th></th>\n",
       "      <th>contributors_enabled</th>\n",
       "      <th>created_at</th>\n",
       "      <th>default_profile</th>\n",
       "      <th>default_profile_image</th>\n",
       "      <th>description</th>\n",
       "      <th>favourites_count</th>\n",
       "      <th>first</th>\n",
       "      <th>follow_request_sent</th>\n",
       "      <th>followers_count</th>\n",
       "      <th>following</th>\n",
       "      <th>...</th>\n",
       "      <th>profile_sidebar_fill_color</th>\n",
       "      <th>profile_text_color</th>\n",
       "      <th>profile_use_background_image</th>\n",
       "      <th>protected</th>\n",
       "      <th>screen_name</th>\n",
       "      <th>statuses_count</th>\n",
       "      <th>time_zone</th>\n",
       "      <th>url</th>\n",
       "      <th>utc_offset</th>\n",
       "      <th>verified</th>\n",
       "    </tr>\n",
       "  </thead>\n",
       "  <tbody>\n",
       "    <tr>\n",
       "      <th>0</th>\n",
       "      <td>False</td>\n",
       "      <td>Fri Sep 07 02:01:22 +0000 2012</td>\n",
       "      <td>True</td>\n",
       "      <td>False</td>\n",
       "      <td>None</td>\n",
       "      <td>4726</td>\n",
       "      <td>False</td>\n",
       "      <td>None</td>\n",
       "      <td>173</td>\n",
       "      <td>None</td>\n",
       "      <td>...</td>\n",
       "      <td>DDEEF6</td>\n",
       "      <td>333333</td>\n",
       "      <td>True</td>\n",
       "      <td>False</td>\n",
       "      <td>al_stage</td>\n",
       "      <td>6147</td>\n",
       "      <td>None</td>\n",
       "      <td>None</td>\n",
       "      <td>NaN</td>\n",
       "      <td>False</td>\n",
       "    </tr>\n",
       "    <tr>\n",
       "      <th>1</th>\n",
       "      <td>False</td>\n",
       "      <td>Wed Sep 14 02:34:41 +0000 2016</td>\n",
       "      <td>False</td>\n",
       "      <td>False</td>\n",
       "      <td>I'm a doctor. For owls. Hoot hoot!</td>\n",
       "      <td>8371</td>\n",
       "      <td>True</td>\n",
       "      <td>None</td>\n",
       "      <td>449</td>\n",
       "      <td>None</td>\n",
       "      <td>...</td>\n",
       "      <td>000000</td>\n",
       "      <td>000000</td>\n",
       "      <td>False</td>\n",
       "      <td>False</td>\n",
       "      <td>theowldoctor</td>\n",
       "      <td>7838</td>\n",
       "      <td>Pacific Time (US &amp; Canada)</td>\n",
       "      <td>http://bit.ly/2cWRQFn</td>\n",
       "      <td>-25200.0</td>\n",
       "      <td>False</td>\n",
       "    </tr>\n",
       "    <tr>\n",
       "      <th>2</th>\n",
       "      <td>False</td>\n",
       "      <td>Sat Jul 05 15:16:44 +0000 2014</td>\n",
       "      <td>True</td>\n",
       "      <td>False</td>\n",
       "      <td>All things considered #Liberal.  #UniteBlue. I...</td>\n",
       "      <td>64</td>\n",
       "      <td>False</td>\n",
       "      <td>None</td>\n",
       "      <td>14520</td>\n",
       "      <td>None</td>\n",
       "      <td>...</td>\n",
       "      <td>DDEEF6</td>\n",
       "      <td>333333</td>\n",
       "      <td>True</td>\n",
       "      <td>False</td>\n",
       "      <td>YngLiberalGirl</td>\n",
       "      <td>13209</td>\n",
       "      <td>Athens</td>\n",
       "      <td>None</td>\n",
       "      <td>7200.0</td>\n",
       "      <td>False</td>\n",
       "    </tr>\n",
       "    <tr>\n",
       "      <th>3</th>\n",
       "      <td>False</td>\n",
       "      <td>Thu Mar 17 16:56:12 +0000 2016</td>\n",
       "      <td>True</td>\n",
       "      <td>True</td>\n",
       "      <td>Trump Fan, America lover, grandfather, cab driver</td>\n",
       "      <td>24569</td>\n",
       "      <td>True</td>\n",
       "      <td>None</td>\n",
       "      <td>515</td>\n",
       "      <td>None</td>\n",
       "      <td>...</td>\n",
       "      <td>DDEEF6</td>\n",
       "      <td>333333</td>\n",
       "      <td>True</td>\n",
       "      <td>False</td>\n",
       "      <td>RBaker37115</td>\n",
       "      <td>13487</td>\n",
       "      <td>None</td>\n",
       "      <td>None</td>\n",
       "      <td>NaN</td>\n",
       "      <td>False</td>\n",
       "    </tr>\n",
       "    <tr>\n",
       "      <th>4</th>\n",
       "      <td>False</td>\n",
       "      <td>Mon May 17 17:27:53 +0000 2010</td>\n",
       "      <td>False</td>\n",
       "      <td>False</td>\n",
       "      <td>WEB COPY MECHANIC – Fixing Your Web Pages So T...</td>\n",
       "      <td>1</td>\n",
       "      <td>False</td>\n",
       "      <td>None</td>\n",
       "      <td>71</td>\n",
       "      <td>None</td>\n",
       "      <td>...</td>\n",
       "      <td>FFFFFF</td>\n",
       "      <td>333333</td>\n",
       "      <td>True</td>\n",
       "      <td>False</td>\n",
       "      <td>Eldo_Barkhuizen</td>\n",
       "      <td>169</td>\n",
       "      <td>London</td>\n",
       "      <td>http://arrowwrite.com</td>\n",
       "      <td>0.0</td>\n",
       "      <td>False</td>\n",
       "    </tr>\n",
       "  </tbody>\n",
       "</table>\n",
       "<p>5 rows × 39 columns</p>\n",
       "</div>"
      ],
      "text/plain": [
       "   contributors_enabled                      created_at  default_profile  \\\n",
       "0                 False  Fri Sep 07 02:01:22 +0000 2012             True   \n",
       "1                 False  Wed Sep 14 02:34:41 +0000 2016            False   \n",
       "2                 False  Sat Jul 05 15:16:44 +0000 2014             True   \n",
       "3                 False  Thu Mar 17 16:56:12 +0000 2016             True   \n",
       "4                 False  Mon May 17 17:27:53 +0000 2010            False   \n",
       "\n",
       "   default_profile_image                                        description  \\\n",
       "0                  False                                               None   \n",
       "1                  False                 I'm a doctor. For owls. Hoot hoot!   \n",
       "2                  False  All things considered #Liberal.  #UniteBlue. I...   \n",
       "3                   True  Trump Fan, America lover, grandfather, cab driver   \n",
       "4                  False  WEB COPY MECHANIC – Fixing Your Web Pages So T...   \n",
       "\n",
       "   favourites_count  first follow_request_sent  followers_count following  \\\n",
       "0              4726  False                None              173      None   \n",
       "1              8371   True                None              449      None   \n",
       "2                64  False                None            14520      None   \n",
       "3             24569   True                None              515      None   \n",
       "4                 1  False                None               71      None   \n",
       "\n",
       "    ...     profile_sidebar_fill_color  profile_text_color  \\\n",
       "0   ...                         DDEEF6              333333   \n",
       "1   ...                         000000              000000   \n",
       "2   ...                         DDEEF6              333333   \n",
       "3   ...                         DDEEF6              333333   \n",
       "4   ...                         FFFFFF              333333   \n",
       "\n",
       "   profile_use_background_image protected      screen_name statuses_count  \\\n",
       "0                          True     False         al_stage           6147   \n",
       "1                         False     False     theowldoctor           7838   \n",
       "2                          True     False   YngLiberalGirl          13209   \n",
       "3                          True     False      RBaker37115          13487   \n",
       "4                          True     False  Eldo_Barkhuizen            169   \n",
       "\n",
       "                    time_zone                    url utc_offset verified  \n",
       "0                        None                   None        NaN    False  \n",
       "1  Pacific Time (US & Canada)  http://bit.ly/2cWRQFn   -25200.0    False  \n",
       "2                      Athens                   None     7200.0    False  \n",
       "3                        None                   None        NaN    False  \n",
       "4                      London  http://arrowwrite.com        0.0    False  \n",
       "\n",
       "[5 rows x 39 columns]"
      ]
     },
     "execution_count": 11,
     "metadata": {},
     "output_type": "execute_result"
    }
   ],
   "source": [
    "users_info.head()"
   ]
  },
  {
   "cell_type": "code",
   "execution_count": 25,
   "metadata": {},
   "outputs": [
    {
     "data": {
      "text/plain": [
       "Index(['contributors_enabled', 'created_at', 'default_profile',\n",
       "       'default_profile_image', 'description', 'favourites_count', 'first',\n",
       "       'follow_request_sent', 'followers_count', 'following', 'friends_count',\n",
       "       'geo_enabled', 'id', 'id_str', 'is_translator', 'lang', 'listed_count',\n",
       "       'location', 'name', 'notifications', 'profile_background_color',\n",
       "       'profile_background_image_url', 'profile_background_image_url_https',\n",
       "       'profile_background_tile', 'profile_banner_url', 'profile_image_url',\n",
       "       'profile_image_url_https', 'profile_link_color',\n",
       "       'profile_sidebar_border_color', 'profile_sidebar_fill_color',\n",
       "       'profile_text_color', 'profile_use_background_image', 'protected',\n",
       "       'screen_name', 'statuses_count', 'time_zone', 'url', 'utc_offset',\n",
       "       'verified'],\n",
       "      dtype='object')"
      ]
     },
     "execution_count": 25,
     "metadata": {},
     "output_type": "execute_result"
    }
   ],
   "source": [
    "users_info.columns"
   ]
  },
  {
   "cell_type": "code",
   "execution_count": null,
   "metadata": {},
   "outputs": [],
   "source": [
    "# user_data\n",
    "def get_cdf_pdf(data, mini, maxi, step, norm=True):\n",
    "    x = [float(i) for i in np.arange(mini, maxi, step)]\n",
    "    cdf = [0] * len(x)\n",
    "    pdf = [0] * len(x)\n",
    "    count = 0\n",
    "    for d in data:\n",
    "        d = float(d)\n",
    "        if d < mini or d > maxi:\n",
    "            continue\n",
    "        count += 1\n",
    "        for i in range(len(x)):\n",
    "            if i == (len(x) - 1) and d >= x[i]:\n",
    "                pdf[i] += 1\n",
    "            elif d >= x[i] and d < x[i+1]:\n",
    "                pdf[i] += 1\n",
    "\n",
    "            if d >= x[i]:\n",
    "                cdf[i] += 1\n",
    "\n",
    "    if norm:\n",
    "        cdf = [c / count for c in cdf]\n",
    "        pdf = [p / count for p in pdf]\n",
    "\n",
    "    return x, cdf, pdf\n",
    "\n",
    "\n",
    "plt.figure(figsize=(8, 6))\n",
    "x, cdf, pdf = get_cdf_pdf(users_info['followers_count'], 0, 2000000, 500)\n",
    "plt.xscale('log'); plt.yscale('log')\n",
    "plt.plot(x, cdf, label='$follower\\ count$')\n",
    "\n",
    "# pd.DataFrame({'x': x, 'cdf': cdf}).to_csv('dist_follower_count.csv')\n",
    "\n",
    "x, cdf, pdf = get_cdf_pdf(users_info['friends_count'], 0, 1000000, 500)\n",
    "plt.ylabel('$CCDF$', fontsize=15)\n",
    "# pd.DataFrame({'x': x, 'cdf': cdf}).to_csv('dist_following_count.csv')\n",
    "\n",
    "\n",
    "plt.xticks(fontsize=14); plt.yticks(fontsize=14)\n",
    "plt.xscale('log'); plt.yscale('log')\n",
    "\n",
    "plt.plot(x, cdf, label='$following\\ count$')\n",
    "plt.legend(fontsize=13)\n",
    "plt.savefig('fig/fol.pdf', dpi=300)\n",
    "plt.show()"
   ]
  },
  {
   "cell_type": "markdown",
   "metadata": {},
   "source": [
    "- 189620条谣言URL, 914272条初始推特；\n",
    "- 25212个第一条谣言的用户, 88215个发初始推特的用户；\n",
    "\n",
    "### 专门针对用户的分析，放到analyze_users.ipy中～"
   ]
  },
  {
   "cell_type": "raw",
   "metadata": {},
   "source": [
    "一个用户在传播中有两种身份，starter和participant，我重新定义了一种first starter，是需要关注的！\n",
    "\n",
    "role = 0, 1, 2 分别是first starter, starter, participant\n",
    "\n",
    "我现在打算建立反向的数据：\n",
    "\n",
    "uid -> fake news 传播中的行为；以为twitter上面的一些特征"
   ]
  },
  {
   "cell_type": "code",
   "execution_count": 11,
   "metadata": {},
   "outputs": [
    {
     "name": "stderr",
     "output_type": "stream",
     "text": [
      "100%|██████████| 189620/189620 [00:02<00:00, 65628.35it/s]\n"
     ]
    }
   ],
   "source": [
    "user_data = defaultdict(list)\n",
    "\n",
    "for fake in tqdm(url_tweets):\n",
    "    url = fake[\"url\"]\n",
    "    for j, t in enumerate(fake[\"tweets\"]):\n",
    "        uid = t[\"user_id\"]\n",
    "        if t[\"origin\"]:\n",
    "            if j == 0: # first\n",
    "                user_data[str(uid)].append({\"id\": t[\"id\"], \"role\": 0, \"url\": url, \"dt\": t[\"dt\"]})\n",
    "            else:\n",
    "                user_data[str(uid)].append({\"id\": t[\"id\"], \"role\": 1, \"url\": url, \"dt\": t[\"dt\"]})\n",
    "        else:\n",
    "            user_data[str(uid)].append({\"id\": t[\"id\"], \"role\": 2, \"url\": url, \"dt\": t[\"dt\"]})\n",
    "            "
   ]
  },
  {
   "cell_type": "code",
   "execution_count": 26,
   "metadata": {},
   "outputs": [],
   "source": [
    "# json.dump(tmp, open(\"data/user-behaviors.txt\", \"w\"), indent=2)\n",
    "\n",
    "user_data = json.load(open(\"data/user-behaviors.json\"))"
   ]
  },
  {
   "cell_type": "code",
   "execution_count": 28,
   "metadata": {},
   "outputs": [],
   "source": [
    "with open(\"data/user-behavior-features.csv\", \"w\") as f:\n",
    "    for d in user_data:\n",
    "        uid = d[\"uid\"]\n",
    "        cnt_0 = 0\n",
    "        cnt_1 = 0\n",
    "        cnt_2 = 0\n",
    "        url = set()\n",
    "        for t in d[\"tweets\"]:\n",
    "            if t[\"role\"] == 0:\n",
    "                cnt_0 += 1\n",
    "            elif t[\"role\"] == 1:\n",
    "                cnt_1 += 1\n",
    "            elif t[\"role\"] == 2:\n",
    "                cnt_2 += 1\n",
    "            url.add(t[\"url\"])\n",
    "        f.write(\"{},{},{},{},{},{}\\n\".format(uid, cnt_0, cnt_1, cnt_2, len(d[\"tweets\"]), len(url)))\n",
    "    "
   ]
  },
  {
   "cell_type": "raw",
   "metadata": {},
   "source": [
    "一共有21万人参加了选举谣言的传播，我要去他们的行为进行分类"
   ]
  },
  {
   "cell_type": "code",
   "execution_count": 44,
   "metadata": {},
   "outputs": [],
   "source": [
    "uids_of_IRA = set( [int(d) for d in json.load(open(\"data/IRA_match.json\")).values()] )"
   ]
  },
  {
   "cell_type": "code",
   "execution_count": 31,
   "metadata": {},
   "outputs": [],
   "source": [
    "user_data = pd.read_csv(\"data/user-behavior-features.csv\")"
   ]
  },
  {
   "cell_type": "code",
   "execution_count": 48,
   "metadata": {},
   "outputs": [
    {
     "name": "stdout",
     "output_type": "stream",
     "text": [
      "789266125485998080 76\n",
      "1679279490 61\n",
      "1671234620 54\n",
      "1662779209 18\n",
      "4272870988 15\n",
      "2606301939 15\n",
      "743166519157227520 13\n",
      "2491081213 13\n",
      "2671070290 12\n",
      "1694026190 11\n",
      "2535166748 11\n",
      "1661246144 10\n",
      "1715424829 8\n",
      "1651693646 9\n",
      "1629828379 9\n",
      "2572058134 7\n",
      "1647045721 7\n",
      "1649967228 7\n",
      "4311371968 7\n",
      "4224729994 6\n",
      "1688370956 6\n",
      "3990577513 5\n",
      "2535818742 5\n",
      "1833223908 5\n",
      "3083844539 5\n",
      "4355797094 5\n",
      "4437444442 4\n",
      "1533813962 4\n",
      "1685718216 4\n",
      "1710804738 4\n",
      "1623180199 3\n",
      "4289431230 3\n",
      "1720117201 3\n",
      "4224912857 3\n",
      "4332740714 3\n",
      "4208754922 3\n",
      "1676481360 3\n",
      "2540758755 3\n",
      "4508630900 2\n",
      "2570631118 2\n",
      "4209684039 2\n",
      "1655194147 2\n",
      "1649144358 2\n",
      "1690487623 2\n",
      "2586506586 1\n",
      "4218156466 1\n",
      "1652987412 1\n",
      "2533221819 1\n",
      "1681162956 1\n",
      "737420000043139072 1\n",
      "1676377446 1\n",
      "1659753702 1\n",
      "3084866039 1\n",
      "3312143142 1\n",
      "1868981054 1\n",
      "1617939218 1\n",
      "1658202894 1\n",
      "1653553555 1\n",
      "1716228906 1\n"
     ]
    },
    {
     "data": {
      "text/plain": [
       "59"
      ]
     },
     "execution_count": 48,
     "metadata": {},
     "output_type": "execute_result"
    }
   ],
   "source": [
    "cnt = 0\n",
    "\n",
    "for i, row in user_data.iterrows():\n",
    "    if row[\"uid\"] in uids_of_IRA:\n",
    "        print(row[\"uid\"], row[\"cnt_url\"])\n",
    "        cnt += 1\n",
    "        \n",
    "cnt"
   ]
  },
  {
   "cell_type": "code",
   "execution_count": null,
   "metadata": {},
   "outputs": [],
   "source": []
  }
 ],
 "metadata": {
  "kernelspec": {
   "display_name": "Python 3",
   "language": "python",
   "name": "python3"
  },
  "language_info": {
   "codemirror_mode": {
    "name": "ipython",
    "version": 3
   },
   "file_extension": ".py",
   "mimetype": "text/x-python",
   "name": "python",
   "nbconvert_exporter": "python",
   "pygments_lexer": "ipython3",
   "version": "3.7.0"
  }
 },
 "nbformat": 4,
 "nbformat_minor": 2
}
