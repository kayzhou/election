{
 "cells": [
  {
   "cell_type": "code",
   "execution_count": 4,
   "metadata": {},
   "outputs": [
    {
     "name": "stderr",
     "output_type": "stream",
     "text": [
      "17363162it [00:22, 771496.27it/s]\n"
     ]
    }
   ],
   "source": [
    "from collections import defaultdict\n",
    "from tqdm import tqdm\n",
    "\n",
    "data = defaultdict(list)\n",
    "\n",
    "match = {\n",
    "    \"ht_pro_trump\": 1,\n",
    "    \"ht_anti_trump\": 0,\n",
    "    \"ht_pro_hillary\": 0,\n",
    "    \"ht_anti_hillary\": 1\n",
    "}\n",
    "\n",
    "\n",
    "for line in tqdm(open(\"data/train.csv\")):\n",
    "    tid, hashtag, userid, opinion = line.strip().split(\",\")\n",
    "    data[tid].append(match[opinion])"
   ]
  },
  {
   "cell_type": "code",
   "execution_count": 5,
   "metadata": {},
   "outputs": [
    {
     "data": {
      "text/plain": [
       "12827490"
      ]
     },
     "execution_count": 5,
     "metadata": {},
     "output_type": "execute_result"
    }
   ],
   "source": [
    "len(data)"
   ]
  },
  {
   "cell_type": "code",
   "execution_count": 8,
   "metadata": {},
   "outputs": [],
   "source": [
    "data_label = {}\n",
    "\n",
    "for k, v in data.items():\n",
    "    if sum(v) == 0:\n",
    "        data_label[k] = 0\n",
    "    elif sum(v) == len(v):\n",
    "        data_label[k] = 1"
   ]
  },
  {
   "cell_type": "code",
   "execution_count": 9,
   "metadata": {},
   "outputs": [
    {
     "data": {
      "text/plain": [
       "12530831"
      ]
     },
     "execution_count": 9,
     "metadata": {},
     "output_type": "execute_result"
    }
   ],
   "source": [
    "len(data_label)"
   ]
  },
  {
   "cell_type": "code",
   "execution_count": 13,
   "metadata": {},
   "outputs": [
    {
     "name": "stdout",
     "output_type": "stream",
     "text": [
      "0\n"
     ]
    },
    {
     "ename": "KeyboardInterrupt",
     "evalue": "",
     "output_type": "error",
     "traceback": [
      "\u001b[0;31m---------------------------------------------------------------------------\u001b[0m",
      "\u001b[0;31mKeyboardInterrupt\u001b[0m                         Traceback (most recent call last)",
      "\u001b[0;32m<ipython-input-13-4b37dfd41653>\u001b[0m in \u001b[0;36m<module>\u001b[0;34m()\u001b[0m\n\u001b[1;32m      8\u001b[0m     \u001b[0;32mif\u001b[0m \u001b[0mi\u001b[0m \u001b[0;34m%\u001b[0m \u001b[0;36m50000\u001b[0m \u001b[0;34m==\u001b[0m \u001b[0;36m0\u001b[0m\u001b[0;34m:\u001b[0m\u001b[0;34m\u001b[0m\u001b[0m\n\u001b[1;32m      9\u001b[0m         \u001b[0mprint\u001b[0m\u001b[0;34m(\u001b[0m\u001b[0mi\u001b[0m\u001b[0;34m)\u001b[0m\u001b[0;34m\u001b[0m\u001b[0m\n\u001b[0;32m---> 10\u001b[0;31m     \u001b[0mwriten_line\u001b[0m \u001b[0;34m=\u001b[0m \u001b[0mfind_tweet\u001b[0m\u001b[0;34m(\u001b[0m\u001b[0mtid\u001b[0m\u001b[0;34m)\u001b[0m\u001b[0;34m[\u001b[0m\u001b[0;34m\"text\"\u001b[0m\u001b[0;34m]\u001b[0m\u001b[0;34m.\u001b[0m\u001b[0mstrip\u001b[0m\u001b[0;34m(\u001b[0m\u001b[0;34m)\u001b[0m\u001b[0;34m\u001b[0m\u001b[0m\n\u001b[0m\u001b[1;32m     11\u001b[0m     \u001b[0mwriten_line\u001b[0m \u001b[0;34m=\u001b[0m \u001b[0mwriten_line\u001b[0m\u001b[0;34m.\u001b[0m\u001b[0mreplace\u001b[0m\u001b[0;34m(\u001b[0m\u001b[0;34m\"\\n\"\u001b[0m\u001b[0;34m,\u001b[0m \u001b[0;34m\" \"\u001b[0m\u001b[0;34m)\u001b[0m\u001b[0;34m\u001b[0m\u001b[0m\n\u001b[1;32m     12\u001b[0m     \u001b[0;32mif\u001b[0m \u001b[0mwriten_line\u001b[0m\u001b[0;34m:\u001b[0m\u001b[0;34m\u001b[0m\u001b[0m\n",
      "\u001b[0;32m~/kayzhou/election/SQLite_handler.py\u001b[0m in \u001b[0;36mfind_tweet\u001b[0;34m(_id)\u001b[0m\n\u001b[1;32m     15\u001b[0m     \u001b[0mconn1\u001b[0m \u001b[0;34m=\u001b[0m \u001b[0msqlite3\u001b[0m\u001b[0;34m.\u001b[0m\u001b[0mconnect\u001b[0m\u001b[0;34m(\u001b[0m\u001b[0;34m\"/home/alex/network_workdir/elections/databases_ssd/complete_trump_vs_hillary_db.sqlite\"\u001b[0m\u001b[0;34m)\u001b[0m\u001b[0;34m\u001b[0m\u001b[0m\n\u001b[1;32m     16\u001b[0m     \u001b[0mc1\u001b[0m \u001b[0;34m=\u001b[0m \u001b[0mconn1\u001b[0m\u001b[0;34m.\u001b[0m\u001b[0mcursor\u001b[0m\u001b[0;34m(\u001b[0m\u001b[0;34m)\u001b[0m\u001b[0;34m\u001b[0m\u001b[0m\n\u001b[0;32m---> 17\u001b[0;31m     \u001b[0mc1\u001b[0m\u001b[0;34m.\u001b[0m\u001b[0mexecute\u001b[0m\u001b[0;34m(\u001b[0m\u001b[0;34m'''SELECT * FROM tweet WHERE tweet_id={}'''\u001b[0m\u001b[0;34m.\u001b[0m\u001b[0mformat\u001b[0m\u001b[0;34m(\u001b[0m\u001b[0m_id\u001b[0m\u001b[0;34m)\u001b[0m\u001b[0;34m)\u001b[0m\u001b[0;34m\u001b[0m\u001b[0m\n\u001b[0m\u001b[1;32m     18\u001b[0m     \u001b[0md\u001b[0m \u001b[0;34m=\u001b[0m \u001b[0mc1\u001b[0m\u001b[0;34m.\u001b[0m\u001b[0mfetchone\u001b[0m\u001b[0;34m(\u001b[0m\u001b[0;34m)\u001b[0m\u001b[0;34m\u001b[0m\u001b[0m\n\u001b[1;32m     19\u001b[0m     \u001b[0;32mif\u001b[0m \u001b[0md\u001b[0m\u001b[0;34m:\u001b[0m\u001b[0;34m\u001b[0m\u001b[0m\n",
      "\u001b[0;31mKeyboardInterrupt\u001b[0m: "
     ]
    }
   ],
   "source": [
    "from SQLite_handler import find_tweet\n",
    "\n",
    "Tw = TwPro()\n",
    "\n",
    "pro = open(\"data/1.txt\", \"w\")\n",
    "anti = open(\"data/0.txt\", \"w\")\n",
    "\n",
    "for i, (tid, opinion) in enumerate(data_label.items()):\n",
    "    writen_line = find_tweet(tid)[\"text\"].strip()\n",
    "    writen_line = writen_line.replace(\"\\n\", \" \")\n",
    "    if writen_line:\n",
    "        if opinion == 1:\n",
    "            pro.write(str(tid) + \"\\t\" + writen_line + \"\\n\")\n",
    "        if opinion == 0:\n",
    "            anti.write(str(tid) + \"\\t\" + writen_line + \"\\n\")\n",
    "    "
   ]
  },
  {
   "cell_type": "code",
   "execution_count": 8,
   "metadata": {},
   "outputs": [
    {
     "name": "stderr",
     "output_type": "stream",
     "text": [
      "14954it [00:06, 2169.79it/s] \n",
      "9689it [00:01, 6165.51it/s] "
     ]
    },
    {
     "name": "stdout",
     "output_type": "stream",
     "text": [
      "17\n"
     ]
    },
    {
     "name": "stderr",
     "output_type": "stream",
     "text": [
      "\n"
     ]
    }
   ],
   "source": [
    "# 开始处理\n",
    "\n",
    "from tqdm import tqdm\n",
    "from tweet_process import TwPro\n",
    "\n",
    "cnt = 0\n",
    "with open(\"data/1-processed.txt\", \"w\") as f:\n",
    "    for line in tqdm(open(\"data/1.txt\")):\n",
    "        try:\n",
    "            tid, tweet = line.strip().split(\"\\t\")\n",
    "        except ValueError:\n",
    "            cnt += 1\n",
    "            tweet = \"RT\"\n",
    "        if tweet[:2] != \"RT\":\n",
    "            tokens = Tw.process_tweet(tweet)\n",
    "            f.write(\" \".join(tokens) + \"\\n\")\n",
    "\n",
    "with open(\"data/0-processed.txt\", \"w\") as f:\n",
    "    for line in tqdm(open(\"data/0.txt\")):\n",
    "        try:\n",
    "            tid, tweet = line.strip().split(\"\\t\")\n",
    "        except ValueError:\n",
    "            cnt += 1\n",
    "            tweet = \"RT\"\n",
    "        if tweet[:2] != \"RT\":\n",
    "            tokens = Tw.process_tweet(tweet)\n",
    "            f.write(\" \".join(tokens) + \"\\n\")\n",
    "            \n",
    "print(cnt)\n"
   ]
  },
  {
   "cell_type": "code",
   "execution_count": null,
   "metadata": {},
   "outputs": [],
   "source": []
  }
 ],
 "metadata": {
  "kernelspec": {
   "display_name": "Python 3",
   "language": "python",
   "name": "python3"
  },
  "language_info": {
   "codemirror_mode": {
    "name": "ipython",
    "version": 3
   },
   "file_extension": ".py",
   "mimetype": "text/x-python",
   "name": "python",
   "nbconvert_exporter": "python",
   "pygments_lexer": "ipython3",
   "version": "3.7.0"
  }
 },
 "nbformat": 4,
 "nbformat_minor": 2
}
