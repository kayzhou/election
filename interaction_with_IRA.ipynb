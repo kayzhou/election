{
 "cells": [
  {
   "cell_type": "code",
   "execution_count": 2,
   "metadata": {},
   "outputs": [],
   "source": [
    "from my_weapon import *\n",
    "from tqdm import tqdm_notebook as tqdm\n",
    "from fake_identify import Are_you_IRA\n",
    "import matplotlib\n",
    "from collections import Counter\n",
    "# matplotlib.rcParams[\"font.size\"] = 14\n",
    "# sns.set_style(\"darkgrid\")\n",
    "ira_c = sns.color_palette(\"coolwarm\", 8)[7]\n",
    "all_c = sns.color_palette(\"coolwarm\", 8)[0]\n",
    "sns.set(style=\"darkgrid\", font_scale=1.2)\n",
    "Putin = Are_you_IRA()"
   ]
  },
  {
   "cell_type": "markdown",
   "metadata": {},
   "source": [
    "## retweet reply and mention 交互"
   ]
  },
  {
   "cell_type": "code",
   "execution_count": 452,
   "metadata": {},
   "outputs": [],
   "source": [
    "def num_of_interaction(G):\n",
    "    \"\"\"\n",
    "    交互频率\n",
    "    \"\"\"\n",
    "    print(G.number_of_nodes(), G.number_of_edges())\n",
    "    freq_ira_as_n1 = []\n",
    "    freq_ira_as_n2 = []\n",
    "    freq_ira_toge = []\n",
    "\n",
    "    for e in tqdm(G.edges(data=True)):\n",
    "        if Putin.fuck(e[0]) and Putin.fuck(e[1]):\n",
    "            freq_ira_toge.append(e[2][\"weight\"])\n",
    "        if Putin.fuck(e[0]) and not Putin.fuck(e[1]):\n",
    "            freq_ira_as_n1.append(e[2][\"weight\"])\n",
    "        if Putin.fuck(e[1]) and not Putin.fuck(e[0]):\n",
    "            freq_ira_as_n2.append(e[2][\"weight\"])\n",
    "\n",
    "    freq_ira_as_n1 = pd.Series(freq_ira_as_n1)\n",
    "    freq_ira_as_n2 = pd.Series(freq_ira_as_n2)\n",
    "    freq_ira_toge = pd.Series(freq_ira_toge)\n",
    "    \n",
    "    print(freq_ira_as_n1.describe())\n",
    "#     freq_ira_as_n1.hist()\n",
    "#     plt.show()\n",
    "#     plt.close()\n",
    "    print(freq_ira_as_n2.describe())\n",
    "#     freq_ira_as_n2.hist()\n",
    "#     plt.show()\n",
    "#     plt.close()\n",
    "#     print(freq_ira_toge.describe())\n",
    "    \n",
    "    return freq_ira_as_n1, freq_ira_as_n2"
   ]
  },
  {
   "cell_type": "code",
   "execution_count": 11,
   "metadata": {},
   "outputs": [],
   "source": [
    "from fake_identify import Are_you_IRA\n",
    "\n",
    "putin = Are_you_IRA()\n",
    "\n",
    "\n",
    "def get_G_char(g_file):\n",
    "    print(g_file, \"...\")\n",
    "    G = nx.read_gpickle(g_file)\n",
    "    \n",
    "    n_nodes = G.number_of_nodes()\n",
    "    n_edges = G.number_of_edges()\n",
    "    k = G.number_of_edges() / G.number_of_nodes()\n",
    "\n",
    "    out_d = pd.Series([k[1] for k in G.out_degree()])\n",
    "    # print(out_d)\n",
    "    ave_out_d = out_d.mean()\n",
    "    std_out_d = out_d.std() / k\n",
    "    max_out_d = out_d.max()\n",
    "\n",
    "    in_d = pd.Series([k[1] for k in G.in_degree()])\n",
    "    # print(in_d)\n",
    "    ave_in_d = in_d.mean()\n",
    "    std_in_d = in_d.std() / k\n",
    "    max_in_d = in_d.max()\n",
    "\n",
    "    return {\n",
    "        \"N nodes\": n_nodes,\n",
    "        \"N edges\": n_edges,\n",
    "        \"<k>\": k,\n",
    "        \"std(k_out) / <k>\": std_out_d,\n",
    "        \"std(k_in) / <k>\": std_in_d,\n",
    "        \"max(k_out)\": max_out_d,\n",
    "        \"max(k_in)\": max_in_d,\n",
    "    }        \n",
    "\n",
    "\n",
    "def get_G_char_IRA(g_file):\n",
    "    print(g_file, \"...\")\n",
    "    G = nx.read_gpickle(g_file)\n",
    "    \n",
    "    nodes = [uid for uid in putin.IRA_user_set if G.has_node(uid)]\n",
    "    \n",
    "    n_nodes = len(nodes)\n",
    "    out_d = pd.Series([G.out_degree(n) for n in nodes])\n",
    "    ave_k_out = out_d.sum() / n_nodes\n",
    "    std_k_out = out_d.std() / ave_k_out\n",
    "    max_out_d = out_d.max()\n",
    "\n",
    "    in_d = pd.Series([G.in_degree(n) for n in nodes])\n",
    "    ave_k_in = in_d.sum() / n_nodes\n",
    "    std_k_in = in_d.std() / ave_k_in\n",
    "    max_in_d = in_d.max()\n",
    "    \n",
    "    return {\n",
    "        \"N nodes\": n_nodes,\n",
    "        \"<k_out>\": ave_k_out,\n",
    "        \"<k_in>\": ave_k_in,\n",
    "        \"std(k_out) / <k_out>\": std_k_out,\n",
    "        \"std(k_in) / <k_in>\": std_k_in,\n",
    "        \"max(k_out)\": max_out_d,\n",
    "        \"max(k_in)\": max_in_d,\n",
    "    }\n"
   ]
  },
  {
   "cell_type": "code",
   "execution_count": 13,
   "metadata": {},
   "outputs": [
    {
     "name": "stdout",
     "output_type": "stream",
     "text": [
      "disk/ira-ret.gp ...\n",
      "disk/ira-men.gp ...\n",
      "disk/ira-rep.gp ...\n",
      "disk/ira-quo.gp ...\n"
     ]
    },
    {
     "data": {
      "text/html": [
       "<div>\n",
       "<style scoped>\n",
       "    .dataframe tbody tr th:only-of-type {\n",
       "        vertical-align: middle;\n",
       "    }\n",
       "\n",
       "    .dataframe tbody tr th {\n",
       "        vertical-align: top;\n",
       "    }\n",
       "\n",
       "    .dataframe thead th {\n",
       "        text-align: right;\n",
       "    }\n",
       "</style>\n",
       "<table border=\"1\" class=\"dataframe\">\n",
       "  <thead>\n",
       "    <tr style=\"text-align: right;\">\n",
       "      <th></th>\n",
       "      <th>N nodes</th>\n",
       "      <th>N edges</th>\n",
       "      <th>&lt;k&gt;</th>\n",
       "      <th>std(k_out) / &lt;k&gt;</th>\n",
       "      <th>std(k_in) / &lt;k&gt;</th>\n",
       "      <th>max(k_out)</th>\n",
       "      <th>max(k_in)</th>\n",
       "    </tr>\n",
       "  </thead>\n",
       "  <tbody>\n",
       "    <tr>\n",
       "      <th>retweeting</th>\n",
       "      <td>154366.0</td>\n",
       "      <td>360265.0</td>\n",
       "      <td>2.333836</td>\n",
       "      <td>101.515416</td>\n",
       "      <td>13.832627</td>\n",
       "      <td>74754.0</td>\n",
       "      <td>6238.0</td>\n",
       "    </tr>\n",
       "    <tr>\n",
       "      <th>mentioning</th>\n",
       "      <td>70926.0</td>\n",
       "      <td>197644.0</td>\n",
       "      <td>2.786623</td>\n",
       "      <td>22.314064</td>\n",
       "      <td>12.883068</td>\n",
       "      <td>8371.0</td>\n",
       "      <td>8879.0</td>\n",
       "    </tr>\n",
       "    <tr>\n",
       "      <th>replying</th>\n",
       "      <td>14225.0</td>\n",
       "      <td>16775.0</td>\n",
       "      <td>1.179262</td>\n",
       "      <td>47.190944</td>\n",
       "      <td>6.514765</td>\n",
       "      <td>6076.0</td>\n",
       "      <td>660.0</td>\n",
       "    </tr>\n",
       "    <tr>\n",
       "      <th>quoting</th>\n",
       "      <td>19195.0</td>\n",
       "      <td>31538.0</td>\n",
       "      <td>1.643032</td>\n",
       "      <td>25.141455</td>\n",
       "      <td>12.666609</td>\n",
       "      <td>4879.0</td>\n",
       "      <td>1716.0</td>\n",
       "    </tr>\n",
       "  </tbody>\n",
       "</table>\n",
       "</div>"
      ],
      "text/plain": [
       "             N nodes   N edges       <k>  std(k_out) / <k>  std(k_in) / <k>  \\\n",
       "retweeting  154366.0  360265.0  2.333836        101.515416        13.832627   \n",
       "mentioning   70926.0  197644.0  2.786623         22.314064        12.883068   \n",
       "replying     14225.0   16775.0  1.179262         47.190944         6.514765   \n",
       "quoting      19195.0   31538.0  1.643032         25.141455        12.666609   \n",
       "\n",
       "            max(k_out)  max(k_in)  \n",
       "retweeting     74754.0     6238.0  \n",
       "mentioning      8371.0     8879.0  \n",
       "replying        6076.0      660.0  \n",
       "quoting         4879.0     1716.0  "
      ]
     },
     "execution_count": 13,
     "metadata": {},
     "output_type": "execute_result"
    }
   ],
   "source": [
    "all_rst = {}\n",
    "all_rst[\"retweeting\"] = get_G_char(\"disk/ira-ret.gp\")\n",
    "all_rst[\"mentioning\"] = get_G_char(\"disk/ira-men.gp\")\n",
    "all_rst[\"replying\"] = get_G_char(\"disk/ira-rep.gp\")\n",
    "all_rst[\"quoting\"] = get_G_char(\"disk/ira-quo.gp\")\n",
    "# all_rst[\"interactionng (aggregated)\"] = get_G_char(\"data/ira-interaction.gp\")\n",
    "\n",
    "networks_char = pd.DataFrame(all_rst).transpose()\n",
    "networks_char = networks_char[[\"N nodes\", \"N edges\", \"<k>\", \"std(k_out) / <k>\", \"std(k_in) / <k>\", \"max(k_out)\", \"max(k_in)\"]]\n",
    "\n",
    "networks_char.to_csv(\"data/table_all_inter.csv\", float_format=\"%.1f\")\n",
    "networks_char"
   ]
  },
  {
   "cell_type": "code",
   "execution_count": 14,
   "metadata": {},
   "outputs": [
    {
     "name": "stdout",
     "output_type": "stream",
     "text": [
      "disk/ira-ret.gp ...\n",
      "disk/ira-men.gp ...\n",
      "disk/ira-rep.gp ...\n",
      "disk/ira-quo.gp ...\n"
     ]
    },
    {
     "data": {
      "text/html": [
       "<div>\n",
       "<style scoped>\n",
       "    .dataframe tbody tr th:only-of-type {\n",
       "        vertical-align: middle;\n",
       "    }\n",
       "\n",
       "    .dataframe tbody tr th {\n",
       "        vertical-align: top;\n",
       "    }\n",
       "\n",
       "    .dataframe thead th {\n",
       "        text-align: right;\n",
       "    }\n",
       "</style>\n",
       "<table border=\"1\" class=\"dataframe\">\n",
       "  <thead>\n",
       "    <tr style=\"text-align: right;\">\n",
       "      <th></th>\n",
       "      <th>N nodes</th>\n",
       "      <th>&lt;k_out&gt;</th>\n",
       "      <th>&lt;k_in&gt;</th>\n",
       "      <th>std(k_out) / &lt;k_out&gt;</th>\n",
       "      <th>std(k_in) / &lt;k_in&gt;</th>\n",
       "      <th>max(k_out)</th>\n",
       "      <th>max(k_in)</th>\n",
       "    </tr>\n",
       "  </thead>\n",
       "  <tbody>\n",
       "    <tr>\n",
       "      <th>retweeting</th>\n",
       "      <td>497.0</td>\n",
       "      <td>468.436620</td>\n",
       "      <td>261.961771</td>\n",
       "      <td>8.865644</td>\n",
       "      <td>1.930338</td>\n",
       "      <td>74754.0</td>\n",
       "      <td>6238.0</td>\n",
       "    </tr>\n",
       "    <tr>\n",
       "      <th>mentioning</th>\n",
       "      <td>508.0</td>\n",
       "      <td>353.080709</td>\n",
       "      <td>41.724409</td>\n",
       "      <td>1.828928</td>\n",
       "      <td>10.008341</td>\n",
       "      <td>8371.0</td>\n",
       "      <td>8879.0</td>\n",
       "    </tr>\n",
       "    <tr>\n",
       "      <th>replying</th>\n",
       "      <td>193.0</td>\n",
       "      <td>71.191710</td>\n",
       "      <td>16.430052</td>\n",
       "      <td>6.654323</td>\n",
       "      <td>3.899116</td>\n",
       "      <td>6076.0</td>\n",
       "      <td>660.0</td>\n",
       "    </tr>\n",
       "    <tr>\n",
       "      <th>quoting</th>\n",
       "      <td>353.0</td>\n",
       "      <td>36.390935</td>\n",
       "      <td>53.614731</td>\n",
       "      <td>8.313209</td>\n",
       "      <td>2.691440</td>\n",
       "      <td>4879.0</td>\n",
       "      <td>1716.0</td>\n",
       "    </tr>\n",
       "  </tbody>\n",
       "</table>\n",
       "</div>"
      ],
      "text/plain": [
       "            N nodes     <k_out>      <k_in>  std(k_out) / <k_out>  \\\n",
       "retweeting    497.0  468.436620  261.961771              8.865644   \n",
       "mentioning    508.0  353.080709   41.724409              1.828928   \n",
       "replying      193.0   71.191710   16.430052              6.654323   \n",
       "quoting       353.0   36.390935   53.614731              8.313209   \n",
       "\n",
       "            std(k_in) / <k_in>  max(k_out)  max(k_in)  \n",
       "retweeting            1.930338     74754.0     6238.0  \n",
       "mentioning           10.008341      8371.0     8879.0  \n",
       "replying              3.899116      6076.0      660.0  \n",
       "quoting               2.691440      4879.0     1716.0  "
      ]
     },
     "execution_count": 14,
     "metadata": {},
     "output_type": "execute_result"
    }
   ],
   "source": [
    "ira_rst = {}\n",
    "ira_rst[\"retweeting\"] = get_G_char_IRA(\"disk/ira-ret.gp\")\n",
    "ira_rst[\"mentioning\"] = get_G_char_IRA(\"disk/ira-men.gp\")\n",
    "ira_rst[\"replying\"] = get_G_char_IRA(\"disk/ira-rep.gp\")\n",
    "ira_rst[\"quoting\"] = get_G_char_IRA(\"disk/ira-quo.gp\")\n",
    "# ira_rst[\"interactionng (aggregated)\"] = get_G_char_IRA(\"data/ira-interaction.gp\")\n",
    "\n",
    "networks_char = pd.DataFrame(ira_rst).transpose()\n",
    "networks_char = networks_char[[\"N nodes\", \"<k_out>\", \"<k_in>\", \"std(k_out) / <k_out>\", \\\n",
    "                               \"std(k_in) / <k_in>\", \"max(k_out)\", \"max(k_in)\"]]\n",
    "networks_char\n",
    "\n",
    "networks_char.to_csv(\"data/table_IRA_inter.csv\", float_format=\"%.1f\")\n",
    "networks_char"
   ]
  },
  {
   "cell_type": "code",
   "execution_count": 28,
   "metadata": {},
   "outputs": [],
   "source": [
    "%matplotlib inline\n",
    "\n",
    "def get_cdf_pdf(data, mini=0, maxi=0, step=0, norm=True):\n",
    "    if maxi == 0:\n",
    "        maxi = data.max()\n",
    "        print(\"max(x):\", maxi)\n",
    "    if step == 0:\n",
    "        step = int((maxi - mini) / 100)\n",
    "        if step == 0:\n",
    "            step = 1\n",
    "    x = np.arange(mini, maxi, step, dtype=np.float32)\n",
    "    cdf = [0] * len(x)\n",
    "    pdf = [0] * len(x)\n",
    "    count = 0\n",
    "    for d in data:\n",
    "        d = float(d)\n",
    "        if d < mini or d > maxi:\n",
    "            continue\n",
    "        count += 1\n",
    "        for i in range(len(x)):\n",
    "            if i == (len(x) - 1) and d >= x[i]:\n",
    "                pdf[i] += 1\n",
    "            elif d >= x[i] and d < x[i+1]:\n",
    "                pdf[i] += 1\n",
    "\n",
    "            if d >= x[i]:\n",
    "                cdf[i] += 1\n",
    "\n",
    "    if norm:\n",
    "        cdf = [c / count for c in cdf]\n",
    "        pdf = [p / count for p in pdf]\n",
    "\n",
    "    return x, cdf, pdf"
   ]
  },
  {
   "cell_type": "code",
   "execution_count": 14,
   "metadata": {},
   "outputs": [
    {
     "name": "stdout",
     "output_type": "stream",
     "text": [
      "154366 360265\n"
     ]
    },
    {
     "data": {
      "application/vnd.jupyter.widget-view+json": {
       "model_id": "41d980bb3da64d6ebddbb6fc40f42ef9",
       "version_major": 2,
       "version_minor": 0
      },
      "text/plain": [
       "HBox(children=(IntProgress(value=0, max=360265), HTML(value='')))"
      ]
     },
     "metadata": {},
     "output_type": "display_data"
    },
    {
     "name": "stdout",
     "output_type": "stream",
     "text": [
      "\n",
      "count    230070.000000\n",
      "mean          2.464763\n",
      "std           4.491968\n",
      "min           1.000000\n",
      "25%           1.000000\n",
      "50%           1.000000\n",
      "75%           2.000000\n",
      "max         202.000000\n",
      "dtype: float64\n",
      "count    127452.000000\n",
      "mean          1.867134\n",
      "std           4.127021\n",
      "min           1.000000\n",
      "25%           1.000000\n",
      "50%           1.000000\n",
      "75%           2.000000\n",
      "max         379.000000\n",
      "dtype: float64\n"
     ]
    }
   ],
   "source": [
    "G = nx.read_gpickle(\"disk/ira-ret.gp\")\n",
    "freq_ira_as_n1, freq_ira_as_n2 = num_of_interaction(G)"
   ]
  },
  {
   "cell_type": "code",
   "execution_count": 15,
   "metadata": {},
   "outputs": [
    {
     "data": {
      "text/plain": [
       "<matplotlib.legend.Legend at 0x7fdfc43c0908>"
      ]
     },
     "execution_count": 15,
     "metadata": {},
     "output_type": "execute_result"
    },
    {
     "data": {
      "image/png": "[encoded data removed]",
      "text/plain": [
       "<Figure size 432x288 with 1 Axes>"
      ]
     },
     "metadata": {
      "needs_background": "light"
     },
     "output_type": "display_data"
    }
   ],
   "source": [
    "# plt.figure(figsize=(8, 6))\n",
    "x, cdf, pdf = get_cdf_pdf(freq_ira_as_n1, 0, 200, 5)\n",
    "plt.xscale('log'); plt.yscale('log')\n",
    "plt.plot(x, cdf, label='be retweeted')\n",
    "\n",
    "x, cdf, pdf = get_cdf_pdf(freq_ira_as_n2, 0, 200, 5)\n",
    "plt.xscale('log'); plt.yscale('log')\n",
    "plt.plot(x, cdf, label='retweet')\n",
    "plt.legend()"
   ]
  },
  {
   "cell_type": "code",
   "execution_count": 16,
   "metadata": {},
   "outputs": [
    {
     "name": "stdout",
     "output_type": "stream",
     "text": [
      "14225 16775\n"
     ]
    },
    {
     "data": {
      "application/vnd.jupyter.widget-view+json": {
       "model_id": "b3c44d847ec54ebe985d26d1a795e256",
       "version_major": 2,
       "version_minor": 0
      },
      "text/plain": [
       "HBox(children=(IntProgress(value=0, max=16775), HTML(value='')))"
      ]
     },
     "metadata": {},
     "output_type": "display_data"
    },
    {
     "name": "stdout",
     "output_type": "stream",
     "text": [
      "\n",
      "count    13604.000000\n",
      "mean         1.179065\n",
      "std          0.659684\n",
      "min          1.000000\n",
      "25%          1.000000\n",
      "50%          1.000000\n",
      "75%          1.000000\n",
      "max         15.000000\n",
      "dtype: float64\n",
      "count    3035.000000\n",
      "mean        1.616474\n",
      "std         4.337203\n",
      "min         1.000000\n",
      "25%         1.000000\n",
      "50%         1.000000\n",
      "75%         1.000000\n",
      "max       164.000000\n",
      "dtype: float64\n"
     ]
    }
   ],
   "source": [
    "G = nx.read_gpickle(\"disk/ira-rep.gp\")\n",
    "freq_ira_as_n1, freq_ira_as_n2 = num_of_interaction(G)"
   ]
  },
  {
   "cell_type": "code",
   "execution_count": 23,
   "metadata": {},
   "outputs": [
    {
     "data": {
      "text/plain": [
       "<matplotlib.legend.Legend at 0x7fdfd152e1d0>"
      ]
     },
     "execution_count": 23,
     "metadata": {},
     "output_type": "execute_result"
    },
    {
     "data": {
      "image/png": "[encoded data removed]",
      "text/plain": [
       "<Figure size 432x288 with 1 Axes>"
      ]
     },
     "metadata": {
      "needs_background": "light"
     },
     "output_type": "display_data"
    }
   ],
   "source": [
    "# plt.figure(figsize=(8, 6))\n",
    "x, cdf, pdf = get_cdf_pdf(freq_ira_as_n1, 0, 160, 1)\n",
    "plt.xscale('log'); plt.yscale('log')\n",
    "plt.plot(x, cdf, label='be replied')\n",
    "\n",
    "x, cdf, pdf = get_cdf_pdf(freq_ira_as_n2, 0, 100, 1)\n",
    "plt.xscale('log'); plt.yscale('log')\n",
    "plt.plot(x, cdf, label='reply')\n",
    "plt.legend()"
   ]
  },
  {
   "cell_type": "code",
   "execution_count": 24,
   "metadata": {},
   "outputs": [
    {
     "name": "stdout",
     "output_type": "stream",
     "text": [
      "70926 197644\n"
     ]
    },
    {
     "data": {
      "application/vnd.jupyter.widget-view+json": {
       "model_id": "bcefb4a8a65b4cc7a89da6f7d1d6427e",
       "version_major": 2,
       "version_minor": 0
      },
      "text/plain": [
       "HBox(children=(IntProgress(value=0, max=197644), HTML(value='')))"
      ]
     },
     "metadata": {},
     "output_type": "display_data"
    },
    {
     "name": "stdout",
     "output_type": "stream",
     "text": [
      "\n",
      "count    176448.000000\n",
      "mean          1.835260\n",
      "std           5.206205\n",
      "min           1.000000\n",
      "25%           1.000000\n",
      "50%           1.000000\n",
      "75%           1.000000\n",
      "max         782.000000\n",
      "dtype: float64\n",
      "count    18279.000000\n",
      "mean         1.391980\n",
      "std          1.507222\n",
      "min          1.000000\n",
      "25%          1.000000\n",
      "50%          1.000000\n",
      "75%          1.000000\n",
      "max        107.000000\n",
      "dtype: float64\n"
     ]
    }
   ],
   "source": [
    "G = nx.read_gpickle(\"disk/ira-men.gp\")\n",
    "freq_ira_as_n1, freq_ira_as_n2 = num_of_interaction(G)"
   ]
  },
  {
   "cell_type": "code",
   "execution_count": 26,
   "metadata": {},
   "outputs": [
    {
     "data": {
      "text/plain": [
       "<matplotlib.legend.Legend at 0x7fdfcbbd2828>"
      ]
     },
     "execution_count": 26,
     "metadata": {},
     "output_type": "execute_result"
    },
    {
     "data": {
      "image/png": "[encoded data removed]",
      "text/plain": [
       "<Figure size 432x288 with 1 Axes>"
      ]
     },
     "metadata": {
      "needs_background": "light"
     },
     "output_type": "display_data"
    }
   ],
   "source": [
    "# plt.figure(figsize=(8, 6))\n",
    "x, cdf, pdf = get_cdf_pdf(freq_ira_as_n1, 0, 800, 5)\n",
    "plt.xscale('log'); plt.yscale('log')\n",
    "plt.plot(x, cdf, label='be mentioned')\n",
    "\n",
    "x, cdf, pdf = get_cdf_pdf(freq_ira_as_n2, 0, 200, 5)\n",
    "plt.xscale('log'); plt.yscale('log')\n",
    "plt.plot(x, cdf, label='mentioning')\n",
    "plt.legend()"
   ]
  },
  {
   "cell_type": "markdown",
   "metadata": {},
   "source": [
    "## 用户与ira的交互表"
   ]
  },
  {
   "cell_type": "code",
   "execution_count": 457,
   "metadata": {},
   "outputs": [],
   "source": [
    "from collections import defaultdict\n",
    "users = {}\n",
    "\n",
    "def _init(_n):\n",
    "    if _n not in users:\n",
    "        users[_n] = {\"user_id\": _n,\n",
    "                     \"in_rep\": 0, \"out_rep\": 0,\n",
    "                     \"in_men\": 0, \"out_men\": 0,\n",
    "                     \"in_ret\": 0, \"out_ret\": 0,\n",
    "                     \"in_quo\": 0, \"out_quo\": 0,}\n",
    "\n",
    "G = nx.read_gpickle(\"disk/ira-ret.gp\")\n",
    "for e in G.edges(data=True):\n",
    "    _init(e[0]) \n",
    "    _init(e[1])  \n",
    "    if Putin.fuck(e[1]):   \n",
    "        users[e[0]][\"out_ret\"] += e[2][\"weight\"]\n",
    "    if Putin.fuck(e[0]):\n",
    "        users[e[1]][\"in_ret\"] += e[2][\"weight\"]\n",
    "\n",
    "G = nx.read_gpickle(\"disk/ira-rep.gp\")\n",
    "for e in G.edges(data=True):\n",
    "    _init(e[0]) \n",
    "    _init(e[1])  \n",
    "    \n",
    "    if Putin.fuck(e[1]):\n",
    "        users[e[0]][\"out_rep\"] += e[2][\"weight\"]\n",
    "    if Putin.fuck(e[0]):\n",
    "        users[e[1]][\"in_rep\"] += e[2][\"weight\"]\n",
    "    \n",
    "G = nx.read_gpickle(\"disk/ira-men.gp\")\n",
    "for e in G.edges(data=True):\n",
    "    _init(e[0]) \n",
    "    _init(e[1])\n",
    "    \n",
    "    if Putin.fuck(e[1]):\n",
    "        users[e[0]][\"out_men\"] += e[2][\"weight\"]\n",
    "    if Putin.fuck(e[0]):\n",
    "        users[e[1]][\"in_men\"] += e[2][\"weight\"]\n",
    "\n",
    "G = nx.read_gpickle(\"disk/ira-quo.gp\")\n",
    "for e in G.edges(data=True):\n",
    "    _init(e[0]) \n",
    "    _init(e[1])  \n",
    "    \n",
    "    if Putin.fuck(e[1]):\n",
    "        users[e[0]][\"out_quo\"] += e[2][\"weight\"]\n",
    "    if Putin.fuck(e[0]):\n",
    "        users[e[1]][\"in_quo\"] += e[2][\"weight\"]\n",
    "    \n",
    "    \n",
    "# 剔除IRA\n",
    "for uid in list(Putin.IRA_user_set):\n",
    "    try:\n",
    "        del users[uid]\n",
    "    except:\n",
    "        pass\n",
    "    \n",
    "users = pd.DataFrame(users).transpose()\n",
    "# users"
   ]
  },
  {
   "cell_type": "code",
   "execution_count": 64,
   "metadata": {},
   "outputs": [
    {
     "name": "stdout",
     "output_type": "stream",
     "text": [
      "max(x): 444\n",
      "max(x): 2766\n"
     ]
    },
    {
     "data": {
      "image/png": "[encoded data removed]",
      "text/plain": [
       "<Figure size 432x288 with 1 Axes>"
      ]
     },
     "metadata": {},
     "output_type": "display_data"
    },
    {
     "name": "stdout",
     "output_type": "stream",
     "text": [
      "max(x): 5064\n",
      "max(x): 107\n"
     ]
    },
    {
     "data": {
      "image/png": "[encoded data removed]",
      "text/plain": [
       "<Figure size 432x288 with 1 Axes>"
      ]
     },
     "metadata": {},
     "output_type": "display_data"
    },
    {
     "name": "stdout",
     "output_type": "stream",
     "text": [
      "max(x): 29\n",
      "max(x): 274\n"
     ]
    },
    {
     "data": {
      "image/png": "[encoded data removed]",
      "text/plain": [
       "<Figure size 432x288 with 1 Axes>"
      ]
     },
     "metadata": {},
     "output_type": "display_data"
    },
    {
     "name": "stdout",
     "output_type": "stream",
     "text": [
      "max(x): 49\n",
      "max(x): 1113\n"
     ]
    },
    {
     "data": {
      "image/png": "[encoded data removed]",
      "text/plain": [
       "<Figure size 432x288 with 1 Axes>"
      ]
     },
     "metadata": {},
     "output_type": "display_data"
    }
   ],
   "source": [
    "\n",
    "\n",
    "for beh in [\"ret\", \"men\", \"rep\", \"quo\"]:\n",
    "    \n",
    "    plt.figure(figsize=(6, 4))\n",
    "    # ax = plt.subplot(121)\n",
    "    freq = pd.Series([v for v in users[\"in_\" + beh] if v > 0])\n",
    "    # print(freq.describe())\n",
    "    x, cdf, pdf = get_cdf_pdf(freq, 1)\n",
    "    plt.yscale('log')\n",
    "    plt.xscale('log')\n",
    "    plt.plot(x, cdf, label=\"in_\" + beh)\n",
    "\n",
    "    # ax = plt.subplot(122)\n",
    "    freq = pd.Series([v for v in users[\"out_\" + beh] if v > 0])\n",
    "    # print(freq.describe())\n",
    "    x, cdf, pdf = get_cdf_pdf(freq, 1)\n",
    "    plt.yscale('log')\n",
    "    plt.xscale('log')\n",
    "    plt.ylabel(\"CCDF\")\n",
    "    plt.xlabel(\"Frequency of interactions\")\n",
    "    plt.plot(x, cdf, label=\"out_\" + beh)\n",
    "    plt.legend()\n",
    "    plt.tight_layout()\n",
    "    plt.savefig(\"fig/Frequency of interactions {}.pdf\".format(beh), dpi=300)\n",
    "    plt.show(); plt.close()"
   ]
  },
  {
   "cell_type": "markdown",
   "metadata": {},
   "source": [
    "## IRA的目标人群或是和IRA产生频繁交互的用户\n",
    "\n",
    "发现：大量支持trump的用户主动与IRA互动"
   ]
  },
  {
   "cell_type": "code",
   "execution_count": 471,
   "metadata": {},
   "outputs": [],
   "source": [
    "# users.to_csv(\"data/users_with_ira.csv\", index=None)\n",
    "users = pd.read_csv(\"data/users_with_ira.csv\", dtype=str)\n",
    "users = users.astype({\"in_ret\": int, \"out_ret\": int, \"in_men\": int, \"out_men\": int,\n",
    "                      \"in_rep\": int, \"out_rep\": int, \"in_quo\": int, \"out_quo\": int})"
   ]
  },
  {
   "cell_type": "code",
   "execution_count": 472,
   "metadata": {},
   "outputs": [
    {
     "data": {
      "application/vnd.jupyter.widget-view+json": {
       "model_id": "4bbe6901864841e98877632f8b0d8454",
       "version_major": 2,
       "version_minor": 0
      },
      "text/plain": [
       "HBox(children=(IntProgress(value=1, bar_style='info', max=1), HTML(value='')))"
      ]
     },
     "metadata": {},
     "output_type": "display_data"
    }
   ],
   "source": [
    "user_strump = {}\n",
    "user_strump2 = {}\n",
    "\n",
    "for line in tqdm(open(\"disk/user_support.txt\")):\n",
    "    w = line.strip().split(\",\")\n",
    "    _sum = int(w[2])\n",
    "    _proT = _sum - int(w[1]) + 1\n",
    "    _proH = int(w[1]) + 1\n",
    "    user_strump[w[0]] = np.log(_proT / _proH)\n",
    "    # user_strump2[w[0]] = 1 - float(w[3]) / int(w[2])"
   ]
  },
  {
   "cell_type": "code",
   "execution_count": 473,
   "metadata": {},
   "outputs": [
    {
     "name": "stdout",
     "output_type": "stream",
     "text": [
      "168664\n"
     ]
    },
    {
     "data": {
      "application/vnd.jupyter.widget-view+json": {
       "model_id": "ea8a09c275f54025b70329c0b1dcd7b2",
       "version_major": 2,
       "version_minor": 0
      },
      "text/plain": [
       "HBox(children=(IntProgress(value=1, bar_style='info', max=1), HTML(value='')))"
      ]
     },
     "metadata": {},
     "output_type": "display_data"
    },
    {
     "name": "stdout",
     "output_type": "stream",
     "text": [
      "Before dropna 168664\n",
      "After dropna 168664\n"
     ]
    }
   ],
   "source": [
    "users = users.sort_values(\"in_ret\", ascending=False)\n",
    "print(len(users))\n",
    "pro_trump = []\n",
    "is_pro_trump = []\n",
    "for _, row in tqdm(users.iterrows()):\n",
    "    try:\n",
    "        pro_trump.append(user_strump[row.user_id])\n",
    "        if float(user_strump[row.user_id]) >= 0:\n",
    "            is_pro_trump.append(1)\n",
    "        else:\n",
    "            is_pro_trump.append(0)\n",
    "        # print(user_strump[str(row.user_id)])\n",
    "        \n",
    "    except Exception as e:\n",
    "        # print(e)\n",
    "        pro_trump.append(None)\n",
    "        is_pro_trump.append(None)\n",
    "\n",
    "print(\"Before dropna\", len(users))        \n",
    "users[\"supp_trump\"] = pro_trump\n",
    "users[\"is_trump\"] = is_pro_trump\n",
    "users = users.dropna() # 不能识别支持\n",
    "print(\"After dropna\", len(users))"
   ]
  },
  {
   "cell_type": "code",
   "execution_count": 489,
   "metadata": {},
   "outputs": [
    {
     "data": {
      "image/png": "[encoded data removed]",
      "text/plain": [
       "<Figure size 432x288 with 1 Axes>"
      ]
     },
     "metadata": {},
     "output_type": "display_data"
    }
   ],
   "source": [
    "# sns.set(\"darkgrid\", font_scale=1.2)\n",
    "\n",
    "pro_trump = pd.Series(pro_trump)\n",
    "plt.ylabel(\"N of users\")\n",
    "plt.xlabel(\"$S_{t}$\")\n",
    "pro_trump.hist(bins=15)\n",
    "plt.xlim((-5, 5))\n",
    "plt.tight_layout()\n",
    "plt.savefig(\"fig/support_trump.pdf\", dpi=300)\n",
    "plt.show()"
   ]
  },
  {
   "cell_type": "code",
   "execution_count": 482,
   "metadata": {},
   "outputs": [
    {
     "data": {
      "image/png": "[encoded data removed]",
      "text/plain": [
       "<Figure size 576x432 with 1 Axes>"
      ]
     },
     "metadata": {},
     "output_type": "display_data"
    },
    {
     "data": {
      "image/png": "[encoded data removed]",
      "text/plain": [
       "<Figure size 576x432 with 1 Axes>"
      ]
     },
     "metadata": {},
     "output_type": "display_data"
    },
    {
     "data": {
      "image/png": "[encoded data removed]",
      "text/plain": [
       "<Figure size 576x432 with 1 Axes>"
      ]
     },
     "metadata": {},
     "output_type": "display_data"
    },
    {
     "data": {
      "image/png": "[encoded data removed]",
      "text/plain": [
       "<Figure size 576x432 with 1 Axes>"
      ]
     },
     "metadata": {},
     "output_type": "display_data"
    },
    {
     "data": {
      "image/png": "[encoded data removed]",
      "text/plain": [
       "<Figure size 576x432 with 1 Axes>"
      ]
     },
     "metadata": {},
     "output_type": "display_data"
    },
    {
     "data": {
      "image/png": "[encoded data removed]",
      "text/plain": [
       "<Figure size 576x432 with 1 Axes>"
      ]
     },
     "metadata": {},
     "output_type": "display_data"
    },
    {
     "data": {
      "image/png": "[encoded data removed]",
      "text/plain": [
       "<Figure size 576x432 with 1 Axes>"
      ]
     },
     "metadata": {},
     "output_type": "display_data"
    },
    {
     "data": {
      "image/png": "[encoded data removed]",
      "text/plain": [
       "<Figure size 576x432 with 1 Axes>"
      ]
     },
     "metadata": {},
     "output_type": "display_data"
    }
   ],
   "source": [
    "sns.set(style=\"darkgrid\", font_scale=1.5)\n",
    "\n",
    "for beh in [\"in_ret\", \"out_ret\", \"in_men\", \"out_men\", \"in_rep\", \"out_rep\", \"in_quo\", \"out_quo\"]:\n",
    "    plt.figure(figsize=(8, 6))\n",
    "    tmp = users[users[beh] > 0]\n",
    "    sns.scatterplot(x=beh, y=\"supp_trump\", size=beh, data=tmp, \n",
    "                    alpha=0.5, sizes=(5, 200), edgecolor=\"none\", legend=False)\n",
    "    plt.ylim((-5, 5))\n",
    "    plt.ylabel(\"$S_{t}$\")\n",
    "#     plt.legend(frameon=False)\n",
    "    plt.savefig(\"fig/St_{}.png\".format(beh), dpi=300)\n",
    "    plt.show(); plt.close()"
   ]
  },
  {
   "cell_type": "code",
   "execution_count": 13,
   "metadata": {},
   "outputs": [
    {
     "data": {
      "text/html": [
       "<div>\n",
       "<style scoped>\n",
       "    .dataframe tbody tr th:only-of-type {\n",
       "        vertical-align: middle;\n",
       "    }\n",
       "\n",
       "    .dataframe tbody tr th {\n",
       "        vertical-align: top;\n",
       "    }\n",
       "\n",
       "    .dataframe thead th {\n",
       "        text-align: right;\n",
       "    }\n",
       "</style>\n",
       "<table border=\"1\" class=\"dataframe\">\n",
       "  <thead>\n",
       "    <tr style=\"text-align: right;\">\n",
       "      <th></th>\n",
       "      <th>in_men</th>\n",
       "      <th>in_quo</th>\n",
       "      <th>in_rep</th>\n",
       "      <th>in_ret</th>\n",
       "      <th>out_men</th>\n",
       "      <th>out_quo</th>\n",
       "      <th>out_rep</th>\n",
       "      <th>out_ret</th>\n",
       "      <th>supp_trump</th>\n",
       "      <th>is_trump</th>\n",
       "    </tr>\n",
       "  </thead>\n",
       "  <tbody>\n",
       "    <tr>\n",
       "      <th>in_men</th>\n",
       "      <td>1.000000</td>\n",
       "      <td>-0.001275</td>\n",
       "      <td>-0.007508</td>\n",
       "      <td>-0.014822</td>\n",
       "      <td>0.006293</td>\n",
       "      <td>0.356267</td>\n",
       "      <td>0.639711</td>\n",
       "      <td>0.717177</td>\n",
       "      <td>-0.062426</td>\n",
       "      <td>-0.062182</td>\n",
       "    </tr>\n",
       "    <tr>\n",
       "      <th>in_quo</th>\n",
       "      <td>-0.001275</td>\n",
       "      <td>1.000000</td>\n",
       "      <td>0.078444</td>\n",
       "      <td>0.151186</td>\n",
       "      <td>0.109610</td>\n",
       "      <td>0.022548</td>\n",
       "      <td>0.002958</td>\n",
       "      <td>0.002098</td>\n",
       "      <td>0.068297</td>\n",
       "      <td>0.065565</td>\n",
       "    </tr>\n",
       "    <tr>\n",
       "      <th>in_rep</th>\n",
       "      <td>-0.007508</td>\n",
       "      <td>0.078444</td>\n",
       "      <td>1.000000</td>\n",
       "      <td>0.146647</td>\n",
       "      <td>0.214002</td>\n",
       "      <td>-0.003983</td>\n",
       "      <td>0.013701</td>\n",
       "      <td>-0.008970</td>\n",
       "      <td>0.031677</td>\n",
       "      <td>0.020969</td>\n",
       "    </tr>\n",
       "    <tr>\n",
       "      <th>in_ret</th>\n",
       "      <td>-0.014822</td>\n",
       "      <td>0.151186</td>\n",
       "      <td>0.146647</td>\n",
       "      <td>1.000000</td>\n",
       "      <td>0.324219</td>\n",
       "      <td>-0.002150</td>\n",
       "      <td>-0.002958</td>\n",
       "      <td>-0.016136</td>\n",
       "      <td>0.232825</td>\n",
       "      <td>0.201204</td>\n",
       "    </tr>\n",
       "    <tr>\n",
       "      <th>out_men</th>\n",
       "      <td>0.006293</td>\n",
       "      <td>0.109610</td>\n",
       "      <td>0.214002</td>\n",
       "      <td>0.324219</td>\n",
       "      <td>1.000000</td>\n",
       "      <td>0.004442</td>\n",
       "      <td>0.002310</td>\n",
       "      <td>0.011607</td>\n",
       "      <td>0.066727</td>\n",
       "      <td>0.054664</td>\n",
       "    </tr>\n",
       "    <tr>\n",
       "      <th>out_quo</th>\n",
       "      <td>0.356267</td>\n",
       "      <td>0.022548</td>\n",
       "      <td>-0.003983</td>\n",
       "      <td>-0.002150</td>\n",
       "      <td>0.004442</td>\n",
       "      <td>1.000000</td>\n",
       "      <td>0.082033</td>\n",
       "      <td>0.449663</td>\n",
       "      <td>-0.036731</td>\n",
       "      <td>-0.036901</td>\n",
       "    </tr>\n",
       "    <tr>\n",
       "      <th>out_rep</th>\n",
       "      <td>0.639711</td>\n",
       "      <td>0.002958</td>\n",
       "      <td>0.013701</td>\n",
       "      <td>-0.002958</td>\n",
       "      <td>0.002310</td>\n",
       "      <td>0.082033</td>\n",
       "      <td>1.000000</td>\n",
       "      <td>0.150058</td>\n",
       "      <td>-0.018101</td>\n",
       "      <td>-0.016367</td>\n",
       "    </tr>\n",
       "    <tr>\n",
       "      <th>out_ret</th>\n",
       "      <td>0.717177</td>\n",
       "      <td>0.002098</td>\n",
       "      <td>-0.008970</td>\n",
       "      <td>-0.016136</td>\n",
       "      <td>0.011607</td>\n",
       "      <td>0.449663</td>\n",
       "      <td>0.150058</td>\n",
       "      <td>1.000000</td>\n",
       "      <td>-0.073174</td>\n",
       "      <td>-0.073936</td>\n",
       "    </tr>\n",
       "    <tr>\n",
       "      <th>supp_trump</th>\n",
       "      <td>-0.062426</td>\n",
       "      <td>0.068297</td>\n",
       "      <td>0.031677</td>\n",
       "      <td>0.232825</td>\n",
       "      <td>0.066727</td>\n",
       "      <td>-0.036731</td>\n",
       "      <td>-0.018101</td>\n",
       "      <td>-0.073174</td>\n",
       "      <td>1.000000</td>\n",
       "      <td>0.899009</td>\n",
       "    </tr>\n",
       "    <tr>\n",
       "      <th>is_trump</th>\n",
       "      <td>-0.062182</td>\n",
       "      <td>0.065565</td>\n",
       "      <td>0.020969</td>\n",
       "      <td>0.201204</td>\n",
       "      <td>0.054664</td>\n",
       "      <td>-0.036901</td>\n",
       "      <td>-0.016367</td>\n",
       "      <td>-0.073936</td>\n",
       "      <td>0.899009</td>\n",
       "      <td>1.000000</td>\n",
       "    </tr>\n",
       "  </tbody>\n",
       "</table>\n",
       "</div>"
      ],
      "text/plain": [
       "              in_men    in_quo    in_rep    in_ret   out_men   out_quo  \\\n",
       "in_men      1.000000 -0.001275 -0.007508 -0.014822  0.006293  0.356267   \n",
       "in_quo     -0.001275  1.000000  0.078444  0.151186  0.109610  0.022548   \n",
       "in_rep     -0.007508  0.078444  1.000000  0.146647  0.214002 -0.003983   \n",
       "in_ret     -0.014822  0.151186  0.146647  1.000000  0.324219 -0.002150   \n",
       "out_men     0.006293  0.109610  0.214002  0.324219  1.000000  0.004442   \n",
       "out_quo     0.356267  0.022548 -0.003983 -0.002150  0.004442  1.000000   \n",
       "out_rep     0.639711  0.002958  0.013701 -0.002958  0.002310  0.082033   \n",
       "out_ret     0.717177  0.002098 -0.008970 -0.016136  0.011607  0.449663   \n",
       "supp_trump -0.062426  0.068297  0.031677  0.232825  0.066727 -0.036731   \n",
       "is_trump   -0.062182  0.065565  0.020969  0.201204  0.054664 -0.036901   \n",
       "\n",
       "             out_rep   out_ret  supp_trump  is_trump  \n",
       "in_men      0.639711  0.717177   -0.062426 -0.062182  \n",
       "in_quo      0.002958  0.002098    0.068297  0.065565  \n",
       "in_rep      0.013701 -0.008970    0.031677  0.020969  \n",
       "in_ret     -0.002958 -0.016136    0.232825  0.201204  \n",
       "out_men     0.002310  0.011607    0.066727  0.054664  \n",
       "out_quo     0.082033  0.449663   -0.036731 -0.036901  \n",
       "out_rep     1.000000  0.150058   -0.018101 -0.016367  \n",
       "out_ret     0.150058  1.000000   -0.073174 -0.073936  \n",
       "supp_trump -0.018101 -0.073174    1.000000  0.899009  \n",
       "is_trump   -0.016367 -0.073936    0.899009  1.000000  "
      ]
     },
     "execution_count": 13,
     "metadata": {},
     "output_type": "execute_result"
    }
   ],
   "source": [
    "users.corr()"
   ]
  },
  {
   "cell_type": "code",
   "execution_count": null,
   "metadata": {},
   "outputs": [],
   "source": [
    "%matplotlib inline\n",
    "\n",
    "def get_group(data, y, mini=0, maxi=0, step=0):\n",
    "    if maxi == 0:\n",
    "        maxi = data.max()\n",
    "#         print(\"max(x):\", maxi)\n",
    "    if step == 0:\n",
    "        step = int((maxi - mini) / 5)\n",
    "        if step == 0:\n",
    "            step = 1\n",
    "        \n",
    "    print(mini, maxi, step)\n",
    "    x = np.arange(mini, maxi, step, dtype=int)\n",
    "#     print(x)\n",
    "    pdf = [[] for _ in range(len(x))] \n",
    "    for d, y_i in zip(data, y):\n",
    "\n",
    "        if d < mini or d > maxi:\n",
    "            continue\n",
    "\n",
    "        for i in range(len(x)):\n",
    "            if i == (len(x) - 1) and d >= x[i]:\n",
    "                pdf[i].append(y_i)\n",
    "            elif d >= x[i] and d < x[i+1]:\n",
    "                pdf[i].append(y_i)\n",
    "    \n",
    "    pdf = [pd.Series(pdf[i]).mean() for i in range(len(x))]\n",
    "    \n",
    "    return x, pdf"
   ]
  },
  {
   "cell_type": "code",
   "execution_count": 118,
   "metadata": {},
   "outputs": [
    {
     "name": "stdout",
     "output_type": "stream",
     "text": [
      "0 444 88\n",
      "0 2766 553\n",
      "0 5064 1012\n",
      "0 107 21\n",
      "0 29 5\n",
      "0 274 54\n",
      "0 49 9\n",
      "0 1113 222\n"
     ]
    }
   ],
   "source": [
    "for beh in [\"in_ret\", \"out_ret\", \"in_men\", \"out_men\", \"in_rep\", \"out_rep\", \"in_quo\", \"out_quo\"]:\n",
    "#     plt.figure(figsize=(8, 6))\n",
    "    tmp = users[users[beh] > 0]\n",
    "    x, y = get_group(tmp[beh], tmp[\"is_trump\"])\n",
    "#     plt.plot(x, y)\n",
    "#     sns.scatterplot(x=beh, y=\"is_trump\", size=beh, data=tmp, alpha=0.5, sizes=(5, 200), edgecolor=\"none\", legend=False)\n",
    "#     plt.ylabel(\"$S_{t}$\")\n",
    "#     plt.legend(frameon=False)\n",
    "#     plt.savefig(\"fig/St and {}.pdf\".format(beh), dpi=100)\n",
    "#     plt.show(); plt.close()"
   ]
  },
  {
   "cell_type": "markdown",
   "metadata": {},
   "source": [
    "## IRA主动交互的是谁呢？\n",
    "\n",
    "补充name及粉丝数等信息"
   ]
  },
  {
   "cell_type": "code",
   "execution_count": 136,
   "metadata": {},
   "outputs": [
    {
     "data": {
      "application/vnd.jupyter.widget-view+json": {
       "model_id": "cd9f498ed4674634b4c415c6869ec408",
       "version_major": 2,
       "version_minor": 0
      },
      "text/plain": [
       "HBox(children=(IntProgress(value=1, bar_style='info', max=1), HTML(value='')))"
      ]
     },
     "metadata": {},
     "output_type": "display_data"
    }
   ],
   "source": [
    "user_data = {}\n",
    "\n",
    "for line in tqdm(open(\"disk/user_info.json\")):\n",
    "    w = line.strip().split(\",\")\n",
    "    if int(w[2]) >= 1 and int(w[3]) >= 1:\n",
    "        user_data[w[0]] = {\n",
    "            \"user_id\": w[0],\n",
    "            \"name\": w[1],\n",
    "            \"fol\": int(w[2]),\n",
    "            \"fri\": int(w[3]),\n",
    "        }"
   ]
  },
  {
   "cell_type": "code",
   "execution_count": 147,
   "metadata": {},
   "outputs": [
    {
     "name": "stdout",
     "output_type": "stream",
     "text": [
      "Before dropna 167912\n"
     ]
    },
    {
     "data": {
      "application/vnd.jupyter.widget-view+json": {
       "model_id": "98faa91b10724f54a90c80d3da94643b",
       "version_major": 2,
       "version_minor": 0
      },
      "text/plain": [
       "HBox(children=(IntProgress(value=1, bar_style='info', max=1), HTML(value='')))"
      ]
     },
     "metadata": {},
     "output_type": "display_data"
    },
    {
     "name": "stderr",
     "output_type": "stream",
     "text": [
      "/home/alex/anaconda3/lib/python3.6/site-packages/ipykernel_launcher.py:16: SettingWithCopyWarning: \n",
      "A value is trying to be set on a copy of a slice from a DataFrame.\n",
      "Try using .loc[row_indexer,col_indexer] = value instead\n",
      "\n",
      "See the caveats in the documentation: http://pandas.pydata.org/pandas-docs/stable/indexing.html#indexing-view-versus-copy\n",
      "  app.launch_new_instance()\n",
      "/home/alex/anaconda3/lib/python3.6/site-packages/ipykernel_launcher.py:17: SettingWithCopyWarning: \n",
      "A value is trying to be set on a copy of a slice from a DataFrame.\n",
      "Try using .loc[row_indexer,col_indexer] = value instead\n",
      "\n",
      "See the caveats in the documentation: http://pandas.pydata.org/pandas-docs/stable/indexing.html#indexing-view-versus-copy\n"
     ]
    },
    {
     "name": "stdout",
     "output_type": "stream",
     "text": [
      "After dropna 167912\n"
     ]
    },
    {
     "name": "stderr",
     "output_type": "stream",
     "text": [
      "/home/alex/anaconda3/lib/python3.6/site-packages/ipykernel_launcher.py:18: SettingWithCopyWarning: \n",
      "A value is trying to be set on a copy of a slice from a DataFrame.\n",
      "Try using .loc[row_indexer,col_indexer] = value instead\n",
      "\n",
      "See the caveats in the documentation: http://pandas.pydata.org/pandas-docs/stable/indexing.html#indexing-view-versus-copy\n"
     ]
    }
   ],
   "source": [
    "name = []\n",
    "fol = []\n",
    "fri = []\n",
    "\n",
    "print(\"Before dropna\", len(users))\n",
    "for _, row in tqdm(users.iterrows()):\n",
    "    try:\n",
    "        name.append(user_data[row.user_id][\"name\"])\n",
    "        fol.append(user_data[row.user_id][\"fol\"])\n",
    "        fri.append(user_data[row.user_id][\"fri\"])\n",
    "    except Exception as e:\n",
    "        name.append(None)\n",
    "        fol.append(None)\n",
    "        fri.append(None)\n",
    "\n",
    "users[\"name\"] = name\n",
    "users[\"follower_count\"] = fol\n",
    "users[\"following_count\"] = fri\n",
    "users = users.dropna() # 不能识别支持\n",
    "print(\"After dropna\", len(users))"
   ]
  },
  {
   "cell_type": "code",
   "execution_count": 148,
   "metadata": {},
   "outputs": [
    {
     "data": {
      "text/html": [
       "<div>\n",
       "<style scoped>\n",
       "    .dataframe tbody tr th:only-of-type {\n",
       "        vertical-align: middle;\n",
       "    }\n",
       "\n",
       "    .dataframe tbody tr th {\n",
       "        vertical-align: top;\n",
       "    }\n",
       "\n",
       "    .dataframe thead th {\n",
       "        text-align: right;\n",
       "    }\n",
       "</style>\n",
       "<table border=\"1\" class=\"dataframe\">\n",
       "  <thead>\n",
       "    <tr style=\"text-align: right;\">\n",
       "      <th></th>\n",
       "      <th>in_men</th>\n",
       "      <th>in_quo</th>\n",
       "      <th>in_rep</th>\n",
       "      <th>in_ret</th>\n",
       "      <th>out_men</th>\n",
       "      <th>out_quo</th>\n",
       "      <th>out_rep</th>\n",
       "      <th>out_ret</th>\n",
       "      <th>user_id</th>\n",
       "      <th>supp_trump</th>\n",
       "      <th>is_trump</th>\n",
       "      <th>name</th>\n",
       "      <th>follower_count</th>\n",
       "      <th>following_count</th>\n",
       "    </tr>\n",
       "  </thead>\n",
       "  <tbody>\n",
       "    <tr>\n",
       "      <th>0</th>\n",
       "      <td>0</td>\n",
       "      <td>0</td>\n",
       "      <td>0</td>\n",
       "      <td>444</td>\n",
       "      <td>2</td>\n",
       "      <td>0</td>\n",
       "      <td>0</td>\n",
       "      <td>0</td>\n",
       "      <td>884311340</td>\n",
       "      <td>0.884479</td>\n",
       "      <td>1</td>\n",
       "      <td>bfrasier1951</td>\n",
       "      <td>1501</td>\n",
       "      <td>1202</td>\n",
       "    </tr>\n",
       "    <tr>\n",
       "      <th>1</th>\n",
       "      <td>0</td>\n",
       "      <td>0</td>\n",
       "      <td>0</td>\n",
       "      <td>328</td>\n",
       "      <td>0</td>\n",
       "      <td>0</td>\n",
       "      <td>0</td>\n",
       "      <td>0</td>\n",
       "      <td>420502656</td>\n",
       "      <td>0.865308</td>\n",
       "      <td>1</td>\n",
       "      <td>lawdawgseven</td>\n",
       "      <td>635</td>\n",
       "      <td>495</td>\n",
       "    </tr>\n",
       "    <tr>\n",
       "      <th>2</th>\n",
       "      <td>0</td>\n",
       "      <td>0</td>\n",
       "      <td>0</td>\n",
       "      <td>265</td>\n",
       "      <td>4</td>\n",
       "      <td>0</td>\n",
       "      <td>0</td>\n",
       "      <td>0</td>\n",
       "      <td>4886213447</td>\n",
       "      <td>0.861500</td>\n",
       "      <td>1</td>\n",
       "      <td>Paolalopez1971</td>\n",
       "      <td>1759</td>\n",
       "      <td>851</td>\n",
       "    </tr>\n",
       "    <tr>\n",
       "      <th>3</th>\n",
       "      <td>0</td>\n",
       "      <td>0</td>\n",
       "      <td>0</td>\n",
       "      <td>262</td>\n",
       "      <td>4</td>\n",
       "      <td>0</td>\n",
       "      <td>0</td>\n",
       "      <td>0</td>\n",
       "      <td>154228382</td>\n",
       "      <td>0.867193</td>\n",
       "      <td>1</td>\n",
       "      <td>glassyelegance</td>\n",
       "      <td>846</td>\n",
       "      <td>120</td>\n",
       "    </tr>\n",
       "    <tr>\n",
       "      <th>4</th>\n",
       "      <td>0</td>\n",
       "      <td>0</td>\n",
       "      <td>2</td>\n",
       "      <td>235</td>\n",
       "      <td>0</td>\n",
       "      <td>0</td>\n",
       "      <td>0</td>\n",
       "      <td>0</td>\n",
       "      <td>718978155327803392</td>\n",
       "      <td>0.795791</td>\n",
       "      <td>1</td>\n",
       "      <td>Mutt1961</td>\n",
       "      <td>47</td>\n",
       "      <td>16</td>\n",
       "    </tr>\n",
       "  </tbody>\n",
       "</table>\n",
       "</div>"
      ],
      "text/plain": [
       "   in_men  in_quo  in_rep  in_ret  out_men  out_quo  out_rep  out_ret  \\\n",
       "0       0       0       0     444        2        0        0        0   \n",
       "1       0       0       0     328        0        0        0        0   \n",
       "2       0       0       0     265        4        0        0        0   \n",
       "3       0       0       0     262        4        0        0        0   \n",
       "4       0       0       2     235        0        0        0        0   \n",
       "\n",
       "              user_id  supp_trump  is_trump            name  follower_count  \\\n",
       "0           884311340    0.884479         1    bfrasier1951            1501   \n",
       "1           420502656    0.865308         1    lawdawgseven             635   \n",
       "2          4886213447    0.861500         1  Paolalopez1971            1759   \n",
       "3           154228382    0.867193         1  glassyelegance             846   \n",
       "4  718978155327803392    0.795791         1        Mutt1961              47   \n",
       "\n",
       "   following_count  \n",
       "0             1202  \n",
       "1              495  \n",
       "2              851  \n",
       "3              120  \n",
       "4               16  "
      ]
     },
     "execution_count": 148,
     "metadata": {},
     "output_type": "execute_result"
    }
   ],
   "source": [
    "users.head()"
   ]
  },
  {
   "cell_type": "code",
   "execution_count": 152,
   "metadata": {},
   "outputs": [
    {
     "data": {
      "text/html": [
       "<div>\n",
       "<style scoped>\n",
       "    .dataframe tbody tr th:only-of-type {\n",
       "        vertical-align: middle;\n",
       "    }\n",
       "\n",
       "    .dataframe tbody tr th {\n",
       "        vertical-align: top;\n",
       "    }\n",
       "\n",
       "    .dataframe thead th {\n",
       "        text-align: right;\n",
       "    }\n",
       "</style>\n",
       "<table border=\"1\" class=\"dataframe\">\n",
       "  <thead>\n",
       "    <tr style=\"text-align: right;\">\n",
       "      <th></th>\n",
       "      <th>name</th>\n",
       "      <th>out_ret</th>\n",
       "      <th>follower_count</th>\n",
       "      <th>following_count</th>\n",
       "    </tr>\n",
       "  </thead>\n",
       "  <tbody>\n",
       "    <tr>\n",
       "      <th>159678</th>\n",
       "      <td>blicqer</td>\n",
       "      <td>2766</td>\n",
       "      <td>83897</td>\n",
       "      <td>71257</td>\n",
       "    </tr>\n",
       "    <tr>\n",
       "      <th>159069</th>\n",
       "      <td>TalibKweli</td>\n",
       "      <td>1840</td>\n",
       "      <td>1099112</td>\n",
       "      <td>5009</td>\n",
       "    </tr>\n",
       "    <tr>\n",
       "      <th>157736</th>\n",
       "      <td>RT_com</td>\n",
       "      <td>1483</td>\n",
       "      <td>2445241</td>\n",
       "      <td>593</td>\n",
       "    </tr>\n",
       "    <tr>\n",
       "      <th>159544</th>\n",
       "      <td>thehill</td>\n",
       "      <td>1207</td>\n",
       "      <td>1564409</td>\n",
       "      <td>647</td>\n",
       "    </tr>\n",
       "    <tr>\n",
       "      <th>158818</th>\n",
       "      <td>rapstationradio</td>\n",
       "      <td>803</td>\n",
       "      <td>5425</td>\n",
       "      <td>830</td>\n",
       "    </tr>\n",
       "    <tr>\n",
       "      <th>160147</th>\n",
       "      <td>thetrudz</td>\n",
       "      <td>802</td>\n",
       "      <td>52687</td>\n",
       "      <td>1137</td>\n",
       "    </tr>\n",
       "    <tr>\n",
       "      <th>159534</th>\n",
       "      <td>realDonaldTrump</td>\n",
       "      <td>782</td>\n",
       "      <td>16444691</td>\n",
       "      <td>46</td>\n",
       "    </tr>\n",
       "    <tr>\n",
       "      <th>159658</th>\n",
       "      <td>FeministaJones</td>\n",
       "      <td>710</td>\n",
       "      <td>111396</td>\n",
       "      <td>2305</td>\n",
       "    </tr>\n",
       "    <tr>\n",
       "      <th>159562</th>\n",
       "      <td>chiefplan1</td>\n",
       "      <td>662</td>\n",
       "      <td>3293</td>\n",
       "      <td>5009</td>\n",
       "    </tr>\n",
       "    <tr>\n",
       "      <th>159584</th>\n",
       "      <td>guardian</td>\n",
       "      <td>622</td>\n",
       "      <td>6075611</td>\n",
       "      <td>1115</td>\n",
       "    </tr>\n",
       "    <tr>\n",
       "      <th>159548</th>\n",
       "      <td>josephjett</td>\n",
       "      <td>595</td>\n",
       "      <td>113310</td>\n",
       "      <td>21939</td>\n",
       "    </tr>\n",
       "    <tr>\n",
       "      <th>159634</th>\n",
       "      <td>AnnoGalactic</td>\n",
       "      <td>535</td>\n",
       "      <td>7855</td>\n",
       "      <td>7406</td>\n",
       "    </tr>\n",
       "    <tr>\n",
       "      <th>158522</th>\n",
       "      <td>ErikHandy</td>\n",
       "      <td>526</td>\n",
       "      <td>1093</td>\n",
       "      <td>918</td>\n",
       "    </tr>\n",
       "    <tr>\n",
       "      <th>158785</th>\n",
       "      <td>bunniboila</td>\n",
       "      <td>521</td>\n",
       "      <td>5945</td>\n",
       "      <td>4196</td>\n",
       "    </tr>\n",
       "    <tr>\n",
       "      <th>159598</th>\n",
       "      <td>Blavity</td>\n",
       "      <td>521</td>\n",
       "      <td>117170</td>\n",
       "      <td>31650</td>\n",
       "    </tr>\n",
       "    <tr>\n",
       "      <th>159151</th>\n",
       "      <td>Gamiliell</td>\n",
       "      <td>495</td>\n",
       "      <td>15312</td>\n",
       "      <td>14714</td>\n",
       "    </tr>\n",
       "    <tr>\n",
       "      <th>157761</th>\n",
       "      <td>nine_oh</td>\n",
       "      <td>480</td>\n",
       "      <td>1043243</td>\n",
       "      <td>588484</td>\n",
       "    </tr>\n",
       "    <tr>\n",
       "      <th>4605</th>\n",
       "      <td>LindaSuhler</td>\n",
       "      <td>474</td>\n",
       "      <td>270507</td>\n",
       "      <td>131274</td>\n",
       "    </tr>\n",
       "    <tr>\n",
       "      <th>159447</th>\n",
       "      <td>deray</td>\n",
       "      <td>474</td>\n",
       "      <td>613782</td>\n",
       "      <td>899</td>\n",
       "    </tr>\n",
       "    <tr>\n",
       "      <th>159550</th>\n",
       "      <td>DRUDGE_REPORT</td>\n",
       "      <td>474</td>\n",
       "      <td>1091537</td>\n",
       "      <td>2</td>\n",
       "    </tr>\n",
       "  </tbody>\n",
       "</table>\n",
       "</div>"
      ],
      "text/plain": [
       "                   name  out_ret  follower_count  following_count\n",
       "159678          blicqer     2766           83897            71257\n",
       "159069       TalibKweli     1840         1099112             5009\n",
       "157736           RT_com     1483         2445241              593\n",
       "159544          thehill     1207         1564409              647\n",
       "158818  rapstationradio      803            5425              830\n",
       "160147         thetrudz      802           52687             1137\n",
       "159534  realDonaldTrump      782        16444691               46\n",
       "159658   FeministaJones      710          111396             2305\n",
       "159562       chiefplan1      662            3293             5009\n",
       "159584         guardian      622         6075611             1115\n",
       "159548       josephjett      595          113310            21939\n",
       "159634     AnnoGalactic      535            7855             7406\n",
       "158522        ErikHandy      526            1093              918\n",
       "158785       bunniboila      521            5945             4196\n",
       "159598          Blavity      521          117170            31650\n",
       "159151        Gamiliell      495           15312            14714\n",
       "157761          nine_oh      480         1043243           588484\n",
       "4605        LindaSuhler      474          270507           131274\n",
       "159447            deray      474          613782              899\n",
       "159550    DRUDGE_REPORT      474         1091537                2"
      ]
     },
     "metadata": {},
     "output_type": "display_data"
    },
    {
     "data": {
      "text/html": [
       "<div>\n",
       "<style scoped>\n",
       "    .dataframe tbody tr th:only-of-type {\n",
       "        vertical-align: middle;\n",
       "    }\n",
       "\n",
       "    .dataframe tbody tr th {\n",
       "        vertical-align: top;\n",
       "    }\n",
       "\n",
       "    .dataframe thead th {\n",
       "        text-align: right;\n",
       "    }\n",
       "</style>\n",
       "<table border=\"1\" class=\"dataframe\">\n",
       "  <thead>\n",
       "    <tr style=\"text-align: right;\">\n",
       "      <th></th>\n",
       "      <th>name</th>\n",
       "      <th>in_men</th>\n",
       "      <th>follower_count</th>\n",
       "      <th>following_count</th>\n",
       "    </tr>\n",
       "  </thead>\n",
       "  <tbody>\n",
       "    <tr>\n",
       "      <th>159534</th>\n",
       "      <td>realDonaldTrump</td>\n",
       "      <td>5064</td>\n",
       "      <td>16444691</td>\n",
       "      <td>46</td>\n",
       "    </tr>\n",
       "    <tr>\n",
       "      <th>159828</th>\n",
       "      <td>midnight</td>\n",
       "      <td>3554</td>\n",
       "      <td>561805</td>\n",
       "      <td>1436</td>\n",
       "    </tr>\n",
       "    <tr>\n",
       "      <th>159448</th>\n",
       "      <td>HillaryClinton</td>\n",
       "      <td>3501</td>\n",
       "      <td>11435589</td>\n",
       "      <td>760</td>\n",
       "    </tr>\n",
       "    <tr>\n",
       "      <th>159678</th>\n",
       "      <td>blicqer</td>\n",
       "      <td>2697</td>\n",
       "      <td>83897</td>\n",
       "      <td>71257</td>\n",
       "    </tr>\n",
       "    <tr>\n",
       "      <th>159069</th>\n",
       "      <td>TalibKweli</td>\n",
       "      <td>2127</td>\n",
       "      <td>1099112</td>\n",
       "      <td>5009</td>\n",
       "    </tr>\n",
       "    <tr>\n",
       "      <th>157736</th>\n",
       "      <td>RT_com</td>\n",
       "      <td>1438</td>\n",
       "      <td>2445241</td>\n",
       "      <td>593</td>\n",
       "    </tr>\n",
       "    <tr>\n",
       "      <th>159544</th>\n",
       "      <td>thehill</td>\n",
       "      <td>1016</td>\n",
       "      <td>1564409</td>\n",
       "      <td>647</td>\n",
       "    </tr>\n",
       "    <tr>\n",
       "      <th>159548</th>\n",
       "      <td>josephjett</td>\n",
       "      <td>968</td>\n",
       "      <td>113310</td>\n",
       "      <td>21939</td>\n",
       "    </tr>\n",
       "    <tr>\n",
       "      <th>121949</th>\n",
       "      <td>YouTube</td>\n",
       "      <td>887</td>\n",
       "      <td>64567728</td>\n",
       "      <td>961</td>\n",
       "    </tr>\n",
       "    <tr>\n",
       "      <th>158818</th>\n",
       "      <td>rapstationradio</td>\n",
       "      <td>865</td>\n",
       "      <td>5425</td>\n",
       "      <td>830</td>\n",
       "    </tr>\n",
       "    <tr>\n",
       "      <th>160147</th>\n",
       "      <td>thetrudz</td>\n",
       "      <td>837</td>\n",
       "      <td>52687</td>\n",
       "      <td>1137</td>\n",
       "    </tr>\n",
       "    <tr>\n",
       "      <th>159475</th>\n",
       "      <td>FoxNews</td>\n",
       "      <td>822</td>\n",
       "      <td>11971264</td>\n",
       "      <td>431</td>\n",
       "    </tr>\n",
       "    <tr>\n",
       "      <th>159658</th>\n",
       "      <td>FeministaJones</td>\n",
       "      <td>768</td>\n",
       "      <td>111396</td>\n",
       "      <td>2305</td>\n",
       "    </tr>\n",
       "    <tr>\n",
       "      <th>158934</th>\n",
       "      <td>CNN</td>\n",
       "      <td>730</td>\n",
       "      <td>29893365</td>\n",
       "      <td>1122</td>\n",
       "    </tr>\n",
       "    <tr>\n",
       "      <th>159447</th>\n",
       "      <td>deray</td>\n",
       "      <td>728</td>\n",
       "      <td>613782</td>\n",
       "      <td>899</td>\n",
       "    </tr>\n",
       "    <tr>\n",
       "      <th>158142</th>\n",
       "      <td>KattFunny</td>\n",
       "      <td>682</td>\n",
       "      <td>21911</td>\n",
       "      <td>19622</td>\n",
       "    </tr>\n",
       "    <tr>\n",
       "      <th>159562</th>\n",
       "      <td>chiefplan1</td>\n",
       "      <td>670</td>\n",
       "      <td>3293</td>\n",
       "      <td>5009</td>\n",
       "    </tr>\n",
       "    <tr>\n",
       "      <th>159584</th>\n",
       "      <td>guardian</td>\n",
       "      <td>636</td>\n",
       "      <td>6075611</td>\n",
       "      <td>1115</td>\n",
       "    </tr>\n",
       "    <tr>\n",
       "      <th>158761</th>\n",
       "      <td>pH1Online</td>\n",
       "      <td>605</td>\n",
       "      <td>1522</td>\n",
       "      <td>770</td>\n",
       "    </tr>\n",
       "    <tr>\n",
       "      <th>157622</th>\n",
       "      <td>MrNegroMilitant</td>\n",
       "      <td>582</td>\n",
       "      <td>148676</td>\n",
       "      <td>121040</td>\n",
       "    </tr>\n",
       "  </tbody>\n",
       "</table>\n",
       "</div>"
      ],
      "text/plain": [
       "                   name  in_men  follower_count  following_count\n",
       "159534  realDonaldTrump    5064        16444691               46\n",
       "159828         midnight    3554          561805             1436\n",
       "159448   HillaryClinton    3501        11435589              760\n",
       "159678          blicqer    2697           83897            71257\n",
       "159069       TalibKweli    2127         1099112             5009\n",
       "157736           RT_com    1438         2445241              593\n",
       "159544          thehill    1016         1564409              647\n",
       "159548       josephjett     968          113310            21939\n",
       "121949          YouTube     887        64567728              961\n",
       "158818  rapstationradio     865            5425              830\n",
       "160147         thetrudz     837           52687             1137\n",
       "159475          FoxNews     822        11971264              431\n",
       "159658   FeministaJones     768          111396             2305\n",
       "158934              CNN     730        29893365             1122\n",
       "159447            deray     728          613782              899\n",
       "158142        KattFunny     682           21911            19622\n",
       "159562       chiefplan1     670            3293             5009\n",
       "159584         guardian     636         6075611             1115\n",
       "158761        pH1Online     605            1522              770\n",
       "157622  MrNegroMilitant     582          148676           121040"
      ]
     },
     "metadata": {},
     "output_type": "display_data"
    },
    {
     "data": {
      "text/html": [
       "<div>\n",
       "<style scoped>\n",
       "    .dataframe tbody tr th:only-of-type {\n",
       "        vertical-align: middle;\n",
       "    }\n",
       "\n",
       "    .dataframe tbody tr th {\n",
       "        vertical-align: top;\n",
       "    }\n",
       "\n",
       "    .dataframe thead th {\n",
       "        text-align: right;\n",
       "    }\n",
       "</style>\n",
       "<table border=\"1\" class=\"dataframe\">\n",
       "  <thead>\n",
       "    <tr style=\"text-align: right;\">\n",
       "      <th></th>\n",
       "      <th>name</th>\n",
       "      <th>out_rep</th>\n",
       "      <th>follower_count</th>\n",
       "      <th>following_count</th>\n",
       "    </tr>\n",
       "  </thead>\n",
       "  <tbody>\n",
       "    <tr>\n",
       "      <th>159534</th>\n",
       "      <td>realDonaldTrump</td>\n",
       "      <td>274</td>\n",
       "      <td>16444691</td>\n",
       "      <td>46</td>\n",
       "    </tr>\n",
       "    <tr>\n",
       "      <th>159448</th>\n",
       "      <td>HillaryClinton</td>\n",
       "      <td>201</td>\n",
       "      <td>11435589</td>\n",
       "      <td>760</td>\n",
       "    </tr>\n",
       "    <tr>\n",
       "      <th>158934</th>\n",
       "      <td>CNN</td>\n",
       "      <td>55</td>\n",
       "      <td>29893365</td>\n",
       "      <td>1122</td>\n",
       "    </tr>\n",
       "    <tr>\n",
       "      <th>29727</th>\n",
       "      <td>TrumpNation22</td>\n",
       "      <td>41</td>\n",
       "      <td>1732</td>\n",
       "      <td>2021</td>\n",
       "    </tr>\n",
       "    <tr>\n",
       "      <th>121313</th>\n",
       "      <td>Yng_God</td>\n",
       "      <td>22</td>\n",
       "      <td>782</td>\n",
       "      <td>1139</td>\n",
       "    </tr>\n",
       "    <tr>\n",
       "      <th>159475</th>\n",
       "      <td>FoxNews</td>\n",
       "      <td>19</td>\n",
       "      <td>11971264</td>\n",
       "      <td>431</td>\n",
       "    </tr>\n",
       "    <tr>\n",
       "      <th>12846</th>\n",
       "      <td>JaredWyand</td>\n",
       "      <td>17</td>\n",
       "      <td>132808</td>\n",
       "      <td>9964</td>\n",
       "    </tr>\n",
       "    <tr>\n",
       "      <th>154760</th>\n",
       "      <td>robbstarklivesx</td>\n",
       "      <td>16</td>\n",
       "      <td>1639</td>\n",
       "      <td>1907</td>\n",
       "    </tr>\n",
       "    <tr>\n",
       "      <th>120792</th>\n",
       "      <td>MurphybeGood</td>\n",
       "      <td>14</td>\n",
       "      <td>70</td>\n",
       "      <td>100</td>\n",
       "    </tr>\n",
       "    <tr>\n",
       "      <th>159550</th>\n",
       "      <td>DRUDGE_REPORT</td>\n",
       "      <td>14</td>\n",
       "      <td>1091537</td>\n",
       "      <td>2</td>\n",
       "    </tr>\n",
       "    <tr>\n",
       "      <th>120689</th>\n",
       "      <td>ChloeWolfieGirl</td>\n",
       "      <td>14</td>\n",
       "      <td>145</td>\n",
       "      <td>250</td>\n",
       "    </tr>\n",
       "    <tr>\n",
       "      <th>120713</th>\n",
       "      <td>AmericasDouche</td>\n",
       "      <td>13</td>\n",
       "      <td>204</td>\n",
       "      <td>444</td>\n",
       "    </tr>\n",
       "    <tr>\n",
       "      <th>77491</th>\n",
       "      <td>PrisonPlanet</td>\n",
       "      <td>13</td>\n",
       "      <td>381740</td>\n",
       "      <td>288</td>\n",
       "    </tr>\n",
       "    <tr>\n",
       "      <th>151807</th>\n",
       "      <td>BarackObama</td>\n",
       "      <td>13</td>\n",
       "      <td>79985008</td>\n",
       "      <td>636397</td>\n",
       "    </tr>\n",
       "    <tr>\n",
       "      <th>120925</th>\n",
       "      <td>kezolime</td>\n",
       "      <td>12</td>\n",
       "      <td>629</td>\n",
       "      <td>1533</td>\n",
       "    </tr>\n",
       "    <tr>\n",
       "      <th>120555</th>\n",
       "      <td>MWhite__</td>\n",
       "      <td>11</td>\n",
       "      <td>730</td>\n",
       "      <td>291</td>\n",
       "    </tr>\n",
       "    <tr>\n",
       "      <th>120585</th>\n",
       "      <td>IdreeseOfficial</td>\n",
       "      <td>11</td>\n",
       "      <td>425</td>\n",
       "      <td>333</td>\n",
       "    </tr>\n",
       "    <tr>\n",
       "      <th>120676</th>\n",
       "      <td>1andrewfenton</td>\n",
       "      <td>11</td>\n",
       "      <td>4071</td>\n",
       "      <td>5003</td>\n",
       "    </tr>\n",
       "    <tr>\n",
       "      <th>63375</th>\n",
       "      <td>charliecalley63</td>\n",
       "      <td>11</td>\n",
       "      <td>272</td>\n",
       "      <td>373</td>\n",
       "    </tr>\n",
       "    <tr>\n",
       "      <th>160362</th>\n",
       "      <td>mike_pence</td>\n",
       "      <td>10</td>\n",
       "      <td>786464</td>\n",
       "      <td>1253</td>\n",
       "    </tr>\n",
       "  </tbody>\n",
       "</table>\n",
       "</div>"
      ],
      "text/plain": [
       "                   name  out_rep  follower_count  following_count\n",
       "159534  realDonaldTrump      274        16444691               46\n",
       "159448   HillaryClinton      201        11435589              760\n",
       "158934              CNN       55        29893365             1122\n",
       "29727     TrumpNation22       41            1732             2021\n",
       "121313          Yng_God       22             782             1139\n",
       "159475          FoxNews       19        11971264              431\n",
       "12846        JaredWyand       17          132808             9964\n",
       "154760  robbstarklivesx       16            1639             1907\n",
       "120792     MurphybeGood       14              70              100\n",
       "159550    DRUDGE_REPORT       14         1091537                2\n",
       "120689  ChloeWolfieGirl       14             145              250\n",
       "120713   AmericasDouche       13             204              444\n",
       "77491      PrisonPlanet       13          381740              288\n",
       "151807      BarackObama       13        79985008           636397\n",
       "120925         kezolime       12             629             1533\n",
       "120555         MWhite__       11             730              291\n",
       "120585  IdreeseOfficial       11             425              333\n",
       "120676    1andrewfenton       11            4071             5003\n",
       "63375   charliecalley63       11             272              373\n",
       "160362       mike_pence       10          786464             1253"
      ]
     },
     "metadata": {},
     "output_type": "display_data"
    },
    {
     "data": {
      "text/html": [
       "<div>\n",
       "<style scoped>\n",
       "    .dataframe tbody tr th:only-of-type {\n",
       "        vertical-align: middle;\n",
       "    }\n",
       "\n",
       "    .dataframe tbody tr th {\n",
       "        vertical-align: top;\n",
       "    }\n",
       "\n",
       "    .dataframe thead th {\n",
       "        text-align: right;\n",
       "    }\n",
       "</style>\n",
       "<table border=\"1\" class=\"dataframe\">\n",
       "  <thead>\n",
       "    <tr style=\"text-align: right;\">\n",
       "      <th></th>\n",
       "      <th>name</th>\n",
       "      <th>out_quo</th>\n",
       "      <th>follower_count</th>\n",
       "      <th>following_count</th>\n",
       "    </tr>\n",
       "  </thead>\n",
       "  <tbody>\n",
       "    <tr>\n",
       "      <th>159069</th>\n",
       "      <td>TalibKweli</td>\n",
       "      <td>1113</td>\n",
       "      <td>1099112</td>\n",
       "      <td>5009</td>\n",
       "    </tr>\n",
       "    <tr>\n",
       "      <th>158992</th>\n",
       "      <td>AbnInfVet</td>\n",
       "      <td>282</td>\n",
       "      <td>31644</td>\n",
       "      <td>31704</td>\n",
       "    </tr>\n",
       "    <tr>\n",
       "      <th>40516</th>\n",
       "      <td>cmdorsey</td>\n",
       "      <td>206</td>\n",
       "      <td>11955</td>\n",
       "      <td>13003</td>\n",
       "    </tr>\n",
       "    <tr>\n",
       "      <th>15151</th>\n",
       "      <td>abusedtaxpayer</td>\n",
       "      <td>188</td>\n",
       "      <td>7375</td>\n",
       "      <td>7316</td>\n",
       "    </tr>\n",
       "    <tr>\n",
       "      <th>159732</th>\n",
       "      <td>JoyAnnReid</td>\n",
       "      <td>181</td>\n",
       "      <td>386636</td>\n",
       "      <td>3657</td>\n",
       "    </tr>\n",
       "    <tr>\n",
       "      <th>37670</th>\n",
       "      <td>ihatethemedia</td>\n",
       "      <td>163</td>\n",
       "      <td>8938</td>\n",
       "      <td>1240</td>\n",
       "    </tr>\n",
       "    <tr>\n",
       "      <th>159658</th>\n",
       "      <td>FeministaJones</td>\n",
       "      <td>143</td>\n",
       "      <td>111396</td>\n",
       "      <td>2305</td>\n",
       "    </tr>\n",
       "    <tr>\n",
       "      <th>160222</th>\n",
       "      <td>djolder</td>\n",
       "      <td>129</td>\n",
       "      <td>30648</td>\n",
       "      <td>6322</td>\n",
       "    </tr>\n",
       "    <tr>\n",
       "      <th>158180</th>\n",
       "      <td>KingJohnLove</td>\n",
       "      <td>117</td>\n",
       "      <td>4128</td>\n",
       "      <td>998</td>\n",
       "    </tr>\n",
       "    <tr>\n",
       "      <th>158031</th>\n",
       "      <td>cutupx2</td>\n",
       "      <td>115</td>\n",
       "      <td>12070</td>\n",
       "      <td>7420</td>\n",
       "    </tr>\n",
       "    <tr>\n",
       "      <th>158291</th>\n",
       "      <td>bomani_jones</td>\n",
       "      <td>97</td>\n",
       "      <td>369783</td>\n",
       "      <td>4229</td>\n",
       "    </tr>\n",
       "    <tr>\n",
       "      <th>163203</th>\n",
       "      <td>CerromeRussell</td>\n",
       "      <td>94</td>\n",
       "      <td>18023</td>\n",
       "      <td>2183</td>\n",
       "    </tr>\n",
       "    <tr>\n",
       "      <th>157932</th>\n",
       "      <td>daniecal</td>\n",
       "      <td>93</td>\n",
       "      <td>23941</td>\n",
       "      <td>406</td>\n",
       "    </tr>\n",
       "    <tr>\n",
       "      <th>159448</th>\n",
       "      <td>HillaryClinton</td>\n",
       "      <td>81</td>\n",
       "      <td>11435589</td>\n",
       "      <td>760</td>\n",
       "    </tr>\n",
       "    <tr>\n",
       "      <th>157608</th>\n",
       "      <td>BlackMoses2015</td>\n",
       "      <td>79</td>\n",
       "      <td>10743</td>\n",
       "      <td>2260</td>\n",
       "    </tr>\n",
       "    <tr>\n",
       "      <th>159766</th>\n",
       "      <td>Delo_Taylor</td>\n",
       "      <td>75</td>\n",
       "      <td>20428</td>\n",
       "      <td>2847</td>\n",
       "    </tr>\n",
       "    <tr>\n",
       "      <th>159447</th>\n",
       "      <td>deray</td>\n",
       "      <td>75</td>\n",
       "      <td>613782</td>\n",
       "      <td>899</td>\n",
       "    </tr>\n",
       "    <tr>\n",
       "      <th>159098</th>\n",
       "      <td>TrivagoD</td>\n",
       "      <td>75</td>\n",
       "      <td>5706</td>\n",
       "      <td>4005</td>\n",
       "    </tr>\n",
       "    <tr>\n",
       "      <th>159916</th>\n",
       "      <td>adept2u</td>\n",
       "      <td>74</td>\n",
       "      <td>2547</td>\n",
       "      <td>2301</td>\n",
       "    </tr>\n",
       "    <tr>\n",
       "      <th>158752</th>\n",
       "      <td>SinCityChiGirl</td>\n",
       "      <td>73</td>\n",
       "      <td>16620</td>\n",
       "      <td>3891</td>\n",
       "    </tr>\n",
       "  </tbody>\n",
       "</table>\n",
       "</div>"
      ],
      "text/plain": [
       "                  name  out_quo  follower_count  following_count\n",
       "159069      TalibKweli     1113         1099112             5009\n",
       "158992       AbnInfVet      282           31644            31704\n",
       "40516         cmdorsey      206           11955            13003\n",
       "15151   abusedtaxpayer      188            7375             7316\n",
       "159732      JoyAnnReid      181          386636             3657\n",
       "37670    ihatethemedia      163            8938             1240\n",
       "159658  FeministaJones      143          111396             2305\n",
       "160222         djolder      129           30648             6322\n",
       "158180    KingJohnLove      117            4128              998\n",
       "158031         cutupx2      115           12070             7420\n",
       "158291    bomani_jones       97          369783             4229\n",
       "163203  CerromeRussell       94           18023             2183\n",
       "157932        daniecal       93           23941              406\n",
       "159448  HillaryClinton       81        11435589              760\n",
       "157608  BlackMoses2015       79           10743             2260\n",
       "159766     Delo_Taylor       75           20428             2847\n",
       "159447           deray       75          613782              899\n",
       "159098        TrivagoD       75            5706             4005\n",
       "159916         adept2u       74            2547             2301\n",
       "158752  SinCityChiGirl       73           16620             3891"
      ]
     },
     "metadata": {},
     "output_type": "display_data"
    }
   ],
   "source": [
    "# for beh in [\"in_ret\", \"out_ret\", \"in_men\", \"out_men\", \"in_rep\", \"out_rep\", \"in_quo\", \"out_quo\"]:\n",
    "for beh in [\"out_ret\", \"in_men\", \"out_rep\", \"out_quo\"]:\n",
    "    sort_people = users.sort_values(beh, ascending=False)[:20]\n",
    "    sort_people = sort_people[[\"name\", beh, \"follower_count\", \"following_count\"]]\n",
    "    display(sort_people)\n",
    "#     sort_people.to_csv(\"users_rank_by_{}.csv\".format(beh), index=None)"
   ]
  },
  {
   "cell_type": "markdown",
   "metadata": {},
   "source": [
    "## 针对四个网络做community detection"
   ]
  },
  {
   "cell_type": "code",
   "execution_count": 22,
   "metadata": {},
   "outputs": [],
   "source": [
    "from infomap import Infomap\n",
    "\n",
    "def findCommunities(G, mt=1):\n",
    "    \"\"\"\n",
    "    Partition network with the Infomap algorithm.\n",
    "    Annotates nodes with 'community' id and return number of communities found.\n",
    "    \"\"\"\n",
    "    infomapWrapper = Infomap(f\"--two-level --silent --markov-time {mt} -N 10\")\n",
    "\n",
    "#     print(\"Building Infomap network from a NetworkX graph...\")\n",
    "    \n",
    "    for e in G.edges(data=True):\n",
    "        e = (G.node[e[0]][\"id\"], G.node[e[1]][\"id\"])\n",
    "#         e = (G.node[e[0]][\"id\"], G.node[e[1]][\"id\"])\n",
    "        # print(e)\n",
    "        infomapWrapper.addLink(*e)\n",
    "\n",
    "#     print(\"Find communities with Infomap...\")\n",
    "    infomapWrapper.run();\n",
    "\n",
    "#     print(\"Found %d modules with codelength: %f\" % (infomapWrapper.numTopModules(), infomapWrapper.codelength()))\n",
    "    \n",
    "    communities = {}\n",
    "#     for node in infomapWrapper.iterTree():\n",
    "#         print(\"{} {}\".format(node.path(), node.physicalId))\n",
    "\n",
    "    ix_to_name = {G.node[name][\"id\"]: name for name in G.nodes()}\n",
    "    # print(ix_to_name)\n",
    "\n",
    "    for node in infomapWrapper.iterTree():\n",
    "        if node.isLeaf():\n",
    "            # f.write(\"{}\\t{}\\t{}\\n\".format(ix_to_name[node.physicalId], node.physicalId, node.moduleIndex()))\n",
    "            communities[ix_to_name[node.physicalId]] = node.moduleIndex()\n",
    "    \n",
    "    nx.set_node_attributes(G, name='community_Infomap', values=communities)\n",
    "\n",
    "    return G, communities, infomapWrapper.numTopModules(), infomapWrapper.codelength()"
   ]
  },
  {
   "cell_type": "raw",
   "metadata": {},
   "source": [
    "G = nx.DiGraph()\n",
    "G.add_edge(1, 0, weight=2)\n",
    "G.add_edge(0, 1, weight=1)"
   ]
  },
  {
   "cell_type": "code",
   "execution_count": 336,
   "metadata": {},
   "outputs": [],
   "source": [
    "G = nx.read_gpickle(\"disk/ira-ret.gp\")\n",
    "# G"
   ]
  },
  {
   "cell_type": "code",
   "execution_count": 337,
   "metadata": {},
   "outputs": [
    {
     "data": {
      "text/plain": [
       "(154366, 360265)"
      ]
     },
     "execution_count": 337,
     "metadata": {},
     "output_type": "execute_result"
    }
   ],
   "source": [
    "G.number_of_nodes(), G.number_of_edges()"
   ]
  },
  {
   "cell_type": "code",
   "execution_count": 338,
   "metadata": {},
   "outputs": [],
   "source": [
    "G = G.subgraph(max(nx.weakly_connected_components(G), key=len))"
   ]
  },
  {
   "cell_type": "code",
   "execution_count": 339,
   "metadata": {},
   "outputs": [],
   "source": [
    "putin = Are_you_IRA()\n",
    "\n",
    "for i, n in enumerate(G.nodes()):\n",
    "    if putin.fuck(n):\n",
    "        G.node[n][\"IRA\"] = 1\n",
    "    else:\n",
    "        G.node[n][\"IRA\"] = 0"
   ]
  },
  {
   "cell_type": "code",
   "execution_count": 340,
   "metadata": {},
   "outputs": [],
   "source": [
    "G = G.to_undirected()"
   ]
  },
  {
   "cell_type": "code",
   "execution_count": 341,
   "metadata": {},
   "outputs": [
    {
     "data": {
      "text/plain": [
       "(154257, 359244)"
      ]
     },
     "execution_count": 341,
     "metadata": {},
     "output_type": "execute_result"
    }
   ],
   "source": [
    "# cnt = 0\n",
    "\n",
    "# for matlab\n",
    "with open(\"data/ira-ret.net\", \"w\") as f:\n",
    "    f.write(f\"*Vertices {G.number_of_nodes()}\\n\")\n",
    "    for i, n in enumerate(G.nodes()):\n",
    "        G.node[n][\"id\"] = i + 1\n",
    "        f.write(f'{i+1} \"{i+1}\"\\n')\n",
    "    f.write(\"*Edges\\n\")\n",
    "    \n",
    "    for e in G.edges(data=True):\n",
    "#         print(e)\n",
    "        n1, n2 = e[0], e[1]\n",
    "        f.write(f\"{G.node[n1]['id']} {G.node[n2]['id']} 1\\n\")\n",
    "    #     print(G.node[n])\n",
    "                \n",
    "G.number_of_nodes(), G.number_of_edges()"
   ]
  },
  {
   "cell_type": "code",
   "execution_count": 274,
   "metadata": {},
   "outputs": [
    {
     "name": "stdout",
     "output_type": "stream",
     "text": [
      "[(0, 120724), (2, 22731), (1, 7947), (6, 552), (22, 262), (20, 209), (7, 179), (4, 142), (13, 127), (129, 118)]\n"
     ]
    }
   ],
   "source": [
    "G, comm, num, cl = findCommunities(G, mt=5)\n",
    "\n",
    "from collections import Counter\n",
    "cnt = Counter()\n",
    "for k, v in comm.items():\n",
    "    cnt[v] += 1\n",
    "print(cnt.most_common(10))\n",
    "\n",
    "json.dump(comm, open(\"data/ira-ret-community.json\", \"w\"), indent=2)\n",
    "\n",
    "# ira_rst[\"mentioning\"] = get_G_char_IRA(\"disk/ira-men.gp\")\n",
    "# ira_rst[\"replying\"] = get_G_char_IRA(\"disk/ira-rep.gp\")\n",
    "# ira_rst[\"quoting\"] = get_G_char_IRA(\"disk/ira-quo.gp\")"
   ]
  },
  {
   "cell_type": "code",
   "execution_count": 10,
   "metadata": {},
   "outputs": [
    {
     "data": {
      "application/vnd.jupyter.widget-view+json": {
       "model_id": "91769decdf5e4b5aab91c43f9bb2526c",
       "version_major": 2,
       "version_minor": 0
      },
      "text/plain": [
       "HBox(children=(IntProgress(value=0, max=10), HTML(value='')))"
      ]
     },
     "metadata": {},
     "output_type": "display_data"
    },
    {
     "name": "stdout",
     "output_type": "stream",
     "text": [
      "Size of top 10 communities: [34097, 15849, 15446, 7733, 6776, 5321, 5286, 4753, 4659, 4393]\n",
      "Size of top 10 communities: [133167, 7784, 6613, 1473, 1125, 823, 479, 358, 242, 173]\n",
      "Size of top 10 communities: [143984, 6641, 1133, 484, 281, 169, 137, 136, 118, 117]\n",
      "Size of top 10 communities: [144179, 7791, 617, 370, 169, 154, 138, 118, 101, 85]\n",
      "Size of top 10 communities: [145117, 7823, 169, 169, 167, 159, 118, 117, 85, 83]\n",
      "Size of top 10 communities: [153562, 169, 118, 85, 81, 42, 41, 37, 26, 21]\n",
      "Size of top 10 communities: [153664, 254, 118, 42, 41, 37, 26, 20, 18, 10]\n",
      "Size of top 10 communities: [153637, 169, 118, 85, 75, 42, 41, 37, 20, 12]\n",
      "Size of top 10 communities: [153687, 256, 118, 73, 38, 37, 20, 12, 9, 7]\n",
      "Size of top 10 communities: [153795, 258, 118, 38, 20, 12, 9, 7]\n"
     ]
    }
   ],
   "source": [
    "from collections import Counter\n",
    "rst = []\n",
    "\n",
    "for i in tqdm(np.arange(1, 11, 1)):\n",
    "#     print(f\"\\n***** --markov-time ={i} *****\")\n",
    "    G, comm, n_mod, codelength = findCommunities(G, mt=i)\n",
    "    cnt = Counter()\n",
    "    for k, v in comm.items():\n",
    "        cnt[v] += 1\n",
    "    print(\"Size of top 10 communities:\", [s for n, s in cnt.most_common(10)])\n",
    "    rst.append([i, n_mod, codelength, cnt.most_common(10)])"
   ]
  },
  {
   "cell_type": "code",
   "execution_count": 290,
   "metadata": {},
   "outputs": [],
   "source": [
    "X = [r[0] for r in rst]\n",
    "sns.set(style=\"white\", font_scale=1.4)"
   ]
  },
  {
   "cell_type": "code",
   "execution_count": 291,
   "metadata": {},
   "outputs": [
    {
     "data": {
      "text/plain": [
       "Text(0, 0.5, 'Number of modules')"
      ]
     },
     "execution_count": 291,
     "metadata": {},
     "output_type": "execute_result"
    },
    {
     "data": {
      "image/png": "[encoded data removed]",
      "text/plain": [
       "<Figure size 432x288 with 1 Axes>"
      ]
     },
     "metadata": {},
     "output_type": "display_data"
    }
   ],
   "source": [
    "y = [r[1] for r in rst]\n",
    "# print(y)\n",
    "plt.plot(X, y, lw=2)\n",
    "plt.xlabel(\"Markov time $t$\")\n",
    "plt.ylabel(\"Number of modules\")\n",
    "# plt.xscale(\"log\")"
   ]
  },
  {
   "cell_type": "code",
   "execution_count": 292,
   "metadata": {},
   "outputs": [
    {
     "data": {
      "text/plain": [
       "Text(0, 0.5, 'Code length (bits)')"
      ]
     },
     "execution_count": 292,
     "metadata": {},
     "output_type": "execute_result"
    },
    {
     "data": {
      "image/png": "[encoded data removed]",
      "text/plain": [
       "<Figure size 432x288 with 1 Axes>"
      ]
     },
     "metadata": {},
     "output_type": "display_data"
    }
   ],
   "source": [
    "y = [r[2] for r in rst]\n",
    "# print(y)\n",
    "plt.plot(X, y, lw=2)\n",
    "plt.xlabel(\"Markov time $t$\")\n",
    "plt.ylabel(\"Code length (bits)\")\n",
    "# plt.xscale(\"log\")"
   ]
  },
  {
   "cell_type": "code",
   "execution_count": 293,
   "metadata": {},
   "outputs": [
    {
     "data": {
      "text/plain": [
       "Text(0, 0.5, 'Size of the largest module')"
      ]
     },
     "execution_count": 293,
     "metadata": {},
     "output_type": "execute_result"
    },
    {
     "data": {
      "image/png": "[encoded data removed]",
      "text/plain": [
       "<Figure size 432x288 with 1 Axes>"
      ]
     },
     "metadata": {},
     "output_type": "display_data"
    }
   ],
   "source": [
    "y = [r[3][0][1] for r in rst]\n",
    "# print(y)\n",
    "plt.plot(X, y, lw=2)\n",
    "plt.xlabel(\"Markov time $t$\")\n",
    "plt.ylabel(\"Size of the largest module\")\n",
    "# plt.xscale(\"log\")"
   ]
  },
  {
   "cell_type": "code",
   "execution_count": 294,
   "metadata": {},
   "outputs": [],
   "source": [
    "import community\n",
    "\n",
    "G = nx.Graph(G)\n",
    "partition = community.best_partition(G)\n",
    "# partition = community.best_partition(G, resolution=5)"
   ]
  },
  {
   "cell_type": "code",
   "execution_count": 295,
   "metadata": {},
   "outputs": [],
   "source": [
    "cnt = Counter()\n",
    "for n, c in partition.items():\n",
    "    cnt[c] += 1 "
   ]
  },
  {
   "cell_type": "code",
   "execution_count": 296,
   "metadata": {},
   "outputs": [
    {
     "data": {
      "text/plain": [
       "[(1, 49455),\n",
       " (5, 18030),\n",
       " (0, 16434),\n",
       " (9, 15082),\n",
       " (3, 13973),\n",
       " (7, 12572),\n",
       " (6, 8441),\n",
       " (4, 7774),\n",
       " (8, 7741),\n",
       " (2, 2718),\n",
       " (10, 1118),\n",
       " (13, 358),\n",
       " (14, 297),\n",
       " (17, 118),\n",
       " (15, 76),\n",
       " (11, 26),\n",
       " (16, 20),\n",
       " (18, 12),\n",
       " (12, 6),\n",
       " (19, 6)]"
      ]
     },
     "execution_count": 296,
     "metadata": {},
     "output_type": "execute_result"
    }
   ],
   "source": [
    "cnt.most_common()"
   ]
  },
  {
   "cell_type": "code",
   "execution_count": 96,
   "metadata": {},
   "outputs": [],
   "source": [
    "comm_nodes = {}\n",
    "\n",
    "for n in G.nodes(data=True):\n",
    "    c =  n[1][\"community_Infomap\"]\n",
    "    if c not in comm_nodes:\n",
    "        comm_nodes[c] = 0\n",
    "    if n[1][\"IRA\"] == 1:\n",
    "        comm_nodes[c] += 1"
   ]
  },
  {
   "cell_type": "code",
   "execution_count": 97,
   "metadata": {},
   "outputs": [
    {
     "data": {
      "text/plain": [
       "<matplotlib.axes._subplots.AxesSubplot at 0x7fbcea601588>"
      ]
     },
     "execution_count": 97,
     "metadata": {},
     "output_type": "execute_result"
    },
    {
     "data": {
      "image/png": "[encoded data removed]",
      "text/plain": [
       "<Figure size 432x288 with 1 Axes>"
      ]
     },
     "metadata": {
      "needs_background": "light"
     },
     "output_type": "display_data"
    }
   ],
   "source": [
    "# 社团大小\n",
    "\n",
    "d = pd.Series([v for v in cnt.values() if v < 1000])\n",
    "# x, cdf, pdf = get_cdf_pdf(d, mini=1)\n",
    "# plt.plot(x, pdf)\n",
    "# plt.xscale(\"log\")\n",
    "d.hist(bins=20)"
   ]
  },
  {
   "cell_type": "code",
   "execution_count": 67,
   "metadata": {},
   "outputs": [
    {
     "data": {
      "text/plain": [
       "(151270, 287)"
      ]
     },
     "execution_count": 67,
     "metadata": {},
     "output_type": "execute_result"
    }
   ],
   "source": [
    "# for gephi\n",
    "\n",
    "plot_these_nodes = []\n",
    "keep_iras = []\n",
    "\n",
    "\n",
    "for n in G.node(data=True):\n",
    "#     if n[1][\"community_Infomap\"] in [0, 3, 23, 8, 6]:\n",
    "#     if n[1][\"community_Infomap\"] in [0, 9, 2, 3, 4]:\n",
    "    if n[1][\"community_Infomap\"] in [0, 1, 2]:\n",
    "        if n[1][\"IRA\"] == 1:\n",
    "            keep_iras.append(n[0])\n",
    "        else:\n",
    "            plot_these_nodes.append(n[0])\n",
    "            \n",
    "len(plot_these_nodes), len(keep_iras)"
   ]
  },
  {
   "cell_type": "code",
   "execution_count": 190,
   "metadata": {},
   "outputs": [],
   "source": [
    "# random sampling for show\n",
    "import random\n",
    "\n",
    "plot_these_nodes = random.sample(plot_these_nodes, int(len(plot_these_nodes) * 0.1))\n",
    "plot_these_nodes.extend(keep_iras)\n",
    "G = G.subgraph(plot_these_nodes)\n",
    "G = G.subgraph(max(nx.connected_components(G), key=len))"
   ]
  },
  {
   "cell_type": "code",
   "execution_count": 169,
   "metadata": {},
   "outputs": [],
   "source": [
    "G = nx.Graph(G)"
   ]
  },
  {
   "cell_type": "code",
   "execution_count": 170,
   "metadata": {},
   "outputs": [],
   "source": [
    "nx.write_gexf(G, \"data/IRA-20190506.gexf\")"
   ]
  },
  {
   "cell_type": "markdown",
   "metadata": {},
   "source": [
    "### IRA关注于哪些社团？"
   ]
  },
  {
   "cell_type": "code",
   "execution_count": 42,
   "metadata": {},
   "outputs": [
    {
     "data": {
      "text/plain": [
       "[(9, 107),\n",
       " (3, 80),\n",
       " (2, 56),\n",
       " (36, 46),\n",
       " (44, 28),\n",
       " (0, 27),\n",
       " (28, 21),\n",
       " (10, 8),\n",
       " (49, 8),\n",
       " (50, 6),\n",
       " (4, 5),\n",
       " (14, 4),\n",
       " (46, 4),\n",
       " (1, 3),\n",
       " (43, 3),\n",
       " (51, 3),\n",
       " (5, 2),\n",
       " (12, 2),\n",
       " (15, 2),\n",
       " (17, 2),\n",
       " (21, 2),\n",
       " (30, 2),\n",
       " (6, 1),\n",
       " (7, 1),\n",
       " (8, 1),\n",
       " (11, 1),\n",
       " (13, 1),\n",
       " (16, 1),\n",
       " (18, 1),\n",
       " (19, 1),\n",
       " (20, 1),\n",
       " (22, 1),\n",
       " (23, 1),\n",
       " (24, 1),\n",
       " (25, 1),\n",
       " (26, 1),\n",
       " (27, 1),\n",
       " (29, 1),\n",
       " (31, 1),\n",
       " (32, 1),\n",
       " (33, 1),\n",
       " (34, 1),\n",
       " (35, 1),\n",
       " (37, 1),\n",
       " (38, 1),\n",
       " (39, 1),\n",
       " (40, 1),\n",
       " (41, 1),\n",
       " (42, 1),\n",
       " (45, 1),\n",
       " (47, 1),\n",
       " (48, 1),\n",
       " (52, 1)]"
      ]
     },
     "execution_count": 42,
     "metadata": {},
     "output_type": "execute_result"
    }
   ],
   "source": [
    "from collections import Counter\n",
    "\n",
    "cnt = Counter()\n",
    "for k, v in comm.items():\n",
    "    if putin.fuck(k):\n",
    "        cnt[v] += 1\n",
    "    \n",
    "cnt.most_common(100)"
   ]
  },
  {
   "cell_type": "code",
   "execution_count": 75,
   "metadata": {},
   "outputs": [
    {
     "name": "stdout",
     "output_type": "stream",
     "text": [
      "[(0, 100991), (3, 7691), (23, 6912), (8, 6553), (6, 5060), (2, 3399), (11, 2288), (19, 1934), (1, 1743), (26, 1256), (9, 1129), (60, 1068), (14, 1051), (29, 1034), (27, 925), (4, 837), (39, 831), (28, 761), (62, 673), (25, 628), (21, 557), (61, 530), (45, 486), (52, 479), (43, 364), (81, 285), (5, 270), (65, 249), (7, 231), (56, 225), (55, 222), (40, 220), (57, 208), (64, 175), (69, 169), (44, 144), (42, 137), (24, 134), (35, 134), (50, 122), (16, 120), (95, 118), (17, 117), (22, 116), (87, 88), (10, 85), (34, 76), (31, 73), (15, 71), (12, 68)]\n"
     ]
    },
    {
     "data": {
      "text/plain": [
       "(7691, 6912, 285, 118, 100991)"
      ]
     },
     "execution_count": 75,
     "metadata": {},
     "output_type": "execute_result"
    }
   ],
   "source": [
    "cnt = Counter()\n",
    "for k, v in comm.items():\n",
    "    cnt[v] += 1\n",
    "    \n",
    "print(cnt.most_common(50))\n",
    "    \n",
    "cnt[3], cnt[23], cnt[81], cnt[95], cnt[0]"
   ]
  },
  {
   "cell_type": "markdown",
   "metadata": {},
   "source": [
    "[(3, 79),\n",
    " (23, 64),\n",
    " (81, 43),\n",
    " (95, 28),\n",
    " (0, 18),\n",
    " (5, 18),\n",
    " (67, 17),\n",
    " (105, 8),\n",
    " (25, 7),\n",
    " (11, 6)]\n",
    " \n",
    " 专注3，23，84，0 三个社团，看看他们是否有不同的受众？\n",
    " \n",
    " (7691, 6910, 281, 118)"
   ]
  },
  {
   "cell_type": "code",
   "execution_count": 76,
   "metadata": {},
   "outputs": [
    {
     "name": "stdout",
     "output_type": "stream",
     "text": [
      "4437444442 {'id': 0, 'community_Infomap': 0}\n"
     ]
    }
   ],
   "source": [
    "for n in G.nodes():\n",
    "    print(n, G.node[n])\n",
    "    break"
   ]
  },
  {
   "cell_type": "markdown",
   "metadata": {},
   "source": [
    "## 构建交互网络!!\n",
    "\n",
    "包括四种行为\n"
   ]
  },
  {
   "cell_type": "code",
   "execution_count": 455,
   "metadata": {},
   "outputs": [
    {
     "data": {
      "text/plain": [
       "(2, 2)"
      ]
     },
     "execution_count": 455,
     "metadata": {},
     "output_type": "execute_result"
    }
   ],
   "source": [
    "G = nx.DiGraph()\n",
    "G.add_edge(1, 2)\n",
    "G.add_edge(2, 1)\n",
    "G.number_of_nodes(), G.number_of_edges()"
   ]
  },
  {
   "cell_type": "code",
   "execution_count": 456,
   "metadata": {},
   "outputs": [],
   "source": [
    "n1 = nx.read_gpickle(\"disk/ira-ret.gp\")\n",
    "n2 = nx.read_gpickle(\"disk/ira-men.gp\")\n",
    "n3 = nx.read_gpickle(\"disk/ira-rep.gp\")\n",
    "n4 = nx.read_gpickle(\"disk/ira-quo.gp\")"
   ]
  },
  {
   "cell_type": "code",
   "execution_count": 457,
   "metadata": {},
   "outputs": [],
   "source": [
    "_n2 = n2.reverse()"
   ]
  },
  {
   "cell_type": "code",
   "execution_count": 459,
   "metadata": {},
   "outputs": [
    {
     "name": "stdout",
     "output_type": "stream",
     "text": [
      "179783 432532\n",
      "179783 432429\n"
     ]
    }
   ],
   "source": [
    "G = nx.DiGraph()\n",
    "\n",
    "G.add_edges_from(n1.edges)\n",
    "# G.add_edges_from(n2.edges)\n",
    "G.add_edges_from(_n2.edges)\n",
    "G.add_edges_from(n3.edges)\n",
    "G.add_edges_from(n4.edges)\n",
    "\n",
    "# G = G.to_undirected()\n",
    "print(G.number_of_nodes(), G.number_of_edges())\n",
    "# G = G.subgraph(max(nx.weakly_connected_components(G), key=len))\n",
    "\n",
    "G.remove_edges_from(G.selfloop_edges())\n",
    "print(G.number_of_nodes(), G.number_of_edges())"
   ]
  },
  {
   "cell_type": "code",
   "execution_count": 460,
   "metadata": {},
   "outputs": [],
   "source": [
    "putin = Are_you_IRA()\n",
    "\n",
    "with open(\"disk/have_touched_IRA.txt\", \"w\") as f:\n",
    "    for node in G.nodes():\n",
    "        if not Putin.fuck(node):\n",
    "            f.write(node + \"\\n\")\n",
    "            \n",
    "with open(\"data/first_layer_touch_IRA.txt\", \"w\") as f:\n",
    "    for i, n in enumerate(G.nodes()):\n",
    "        if putin.fuck(n):\n",
    "            G.node[n][\"IRA\"] = 1\n",
    "        else:\n",
    "            f.write(n + \"\\n\")\n",
    "            G.node[n][\"IRA\"] = 0\n",
    "\n",
    "nx.write_gpickle(G, \"data/ira-interaction.gp\")"
   ]
  },
  {
   "cell_type": "code",
   "execution_count": 5,
   "metadata": {},
   "outputs": [],
   "source": [
    "def save_for_matlab(G, out_name):\n",
    "    print(\"change into undir and get the connected component\")\n",
    "    _G = G.to_undirected()\n",
    "    _G = max(nx.connected_component_subgraphs(_G), key=len)\n",
    "    print(_G.number_of_nodes(), _G.number_of_edges())\n",
    "\n",
    "    with open(out_name, \"w\") as f:\n",
    "        f.write(f\"*Vertices {_G.number_of_nodes()}\\n\")\n",
    "        for i, n in enumerate(_G.nodes()):\n",
    "            _G.node[n][\"id\"] = i + 1\n",
    "            f.write(f'{i} \"{i}\"\\n')\n",
    "\n",
    "        f.write(\"*Edges\\n\")\n",
    "        for e in _G.edges(data=True):\n",
    "    #         print(e)\n",
    "            n1, n2 = e[0], e[1]\n",
    "    #         f.write(f\"{G.node[n1]['id']},{G.node[n2]['id']}\\n\")\n",
    "            f.write(f\"{_G.node[n1]['id']} {_G.node[n2]['id']} 1\\n\")\n",
    "        #     print(G.node[n])"
   ]
  },
  {
   "cell_type": "code",
   "execution_count": 462,
   "metadata": {},
   "outputs": [],
   "source": [
    "G = nx.read_gpickle(\"data/ira-interaction.gp\")"
   ]
  },
  {
   "cell_type": "code",
   "execution_count": 463,
   "metadata": {},
   "outputs": [
    {
     "name": "stdout",
     "output_type": "stream",
     "text": [
      "change into undir and get the connected component\n",
      "179682 430524\n"
     ]
    },
    {
     "data": {
      "text/plain": [
       "(179783, 432429)"
      ]
     },
     "execution_count": 463,
     "metadata": {},
     "output_type": "execute_result"
    }
   ],
   "source": [
    "# for matlab\n",
    "\n",
    "save_for_matlab(G, \"data/ira-int-1-undir.net\")\n",
    "G.number_of_nodes(), G.number_of_edges()"
   ]
  },
  {
   "cell_type": "markdown",
   "metadata": {},
   "source": [
    "## 社团发现（Matlab结果分析）"
   ]
  },
  {
   "cell_type": "code",
   "execution_count": 361,
   "metadata": {},
   "outputs": [],
   "source": [
    "d_vi = np.loadtxt(\"disk/comm-rst-1.txt\")\n",
    "# d_vi = np.loadtxt(\"disk/comm-rst-interaction.txt\")"
   ]
  },
  {
   "cell_type": "code",
   "execution_count": 362,
   "metadata": {},
   "outputs": [
    {
     "data": {
      "text/plain": [
       "(179686, 100)"
      ]
     },
     "execution_count": 362,
     "metadata": {},
     "output_type": "execute_result"
    }
   ],
   "source": [
    "d_vi.shape"
   ]
  },
  {
   "cell_type": "code",
   "execution_count": 363,
   "metadata": {},
   "outputs": [],
   "source": [
    "time = d_vi[0]\n",
    "S = d_vi[1]\n",
    "N = d_vi[2]\n",
    "VI = d_vi[3]"
   ]
  },
  {
   "cell_type": "code",
   "execution_count": 364,
   "metadata": {},
   "outputs": [
    {
     "name": "stdout",
     "output_type": "stream",
     "text": [
      "0\t0.010\t117826.0\t0.025622139\n",
      "1\t0.011\t114016.0\t0.02941481\n",
      "2\t0.012\t109854.0\t0.027013952\n",
      "3\t0.013\t105869.0\t0.027175757\n",
      "4\t0.015\t102847.0\t0.026355142\n",
      "5\t0.016\t99648.0\t0.025173598\n",
      "6\t0.017\t96618.0\t0.023349352\n",
      "7\t0.019\t94175.0\t0.020738949\n",
      "8\t0.021\t92901.0\t0.02198147\n",
      "9\t0.023\t91586.0\t0.02332246\n",
      "10\t0.025\t90229.0\t0.024339205\n",
      "11\t0.028\t88852.0\t0.025149381\n",
      "12\t0.031\t87431.0\t0.027418542\n",
      "13\t0.034\t85611.0\t0.028783346\n",
      "14\t0.037\t83809.0\t0.029420944\n",
      "15\t0.040\t81908.0\t0.031441021\n",
      "16\t0.044\t77105.0\t0.044755874\n",
      "17\t0.049\t71569.0\t0.038284299\n",
      "18\t0.053\t65651.0\t0.054161433\n",
      "19\t0.059\t59934.0\t0.043740254\n",
      "20\t0.064\t57321.0\t0.031319068\n",
      "21\t0.071\t56181.0\t0.030091813\n",
      "22\t0.077\t55162.0\t0.027370547\n",
      "23\t0.085\t53838.0\t0.031218693\n",
      "24\t0.093\t52174.0\t0.033630267\n",
      "25\t0.102\t43837.0\t0.081614609\n",
      "26\t0.112\t32429.0\t0.124495\n",
      "27\t0.123\t20255.0\t0.12316794\n",
      "28\t0.135\t8010.0\t0.06777872\n",
      "29\t0.148\t2407.0\t0.025450856\n",
      "30\t0.163\t1895.0\t0.024826841\n",
      "31\t0.179\t1415.0\t0.024653\n",
      "32\t0.196\t782.0\t0.02108166\n",
      "33\t0.215\t172.0\t0.016214015\n",
      "34\t0.236\t75.0\t0.016083636\n",
      "35\t0.260\t67.0\t0.013821738\n",
      "36\t0.285\t62.0\t0.011809089\n",
      "37\t0.313\t59.0\t0.010812467\n",
      "38\t0.343\t54.0\t0.0124171\n",
      "39\t0.376\t50.0\t0.0097338553\n",
      "40\t0.413\t44.0\t0.010892852\n",
      "41\t0.453\t41.0\t0.012304045\n",
      "42\t0.498\t37.0\t0.0063123577\n",
      "43\t0.546\t30.0\t0.010088238\n",
      "44\t0.599\t30.0\t0.014462674\n",
      "45\t0.658\t24.0\t0.0097593162\n",
      "46\t0.722\t25.0\t0.013096044\n",
      "47\t0.792\t24.0\t0.0025113528\n",
      "48\t0.870\t25.0\t0.0021016986\n",
      "49\t0.955\t21.0\t0.010069163\n",
      "50\t1.048\t23.0\t0.0032361694\n",
      "51\t1.150\t22.0\t0.0030177441\n",
      "52\t1.262\t17.0\t0.0046534569\n",
      "53\t1.385\t18.0\t0.0025458186\n",
      "54\t1.520\t15.0\t0.0031278708\n",
      "55\t1.668\t16.0\t0.0014878306\n",
      "56\t1.831\t14.0\t0.0019017146\n",
      "57\t2.009\t15.0\t0.0019657865\n",
      "58\t2.205\t14.0\t0.006530276\n",
      "59\t2.420\t11.0\t0.0025177339\n",
      "60\t2.656\t9.0\t0.0032167773\n",
      "61\t2.915\t10.0\t0.0025292506\n",
      "62\t3.199\t10.0\t0.0024813677\n",
      "63\t3.511\t6.0\t0.0021476268\n",
      "64\t3.854\t9.0\t0.0013941461\n",
      "65\t4.229\t6.0\t0.0017567306\n",
      "66\t4.642\t7.0\t0.0013831582\n",
      "67\t5.094\t6.0\t0.0013379849\n",
      "68\t5.591\t5.0\t0.0011319904\n",
      "69\t6.136\t5.0\t0.0018849101\n",
      "70\t6.734\t6.0\t0.0074834474\n",
      "71\t7.391\t6.0\t0.0025543802\n",
      "72\t8.111\t5.0\t0.0020616716\n",
      "73\t8.902\t4.0\t0.00097447895\n",
      "74\t9.770\t4.0\t0.0012754848\n",
      "75\t10.723\t3.0\t0.00096558407\n",
      "76\t11.768\t3.0\t0.001757754\n",
      "77\t12.915\t4.0\t0.0025324445\n",
      "78\t14.175\t4.0\t0.016618804\n",
      "79\t15.557\t2.0\t0.0013853461\n",
      "80\t17.074\t4.0\t0.00034008989\n",
      "81\t18.738\t3.0\t0.00012463189\n",
      "82\t20.565\t3.0\t0.00016465962\n",
      "83\t22.570\t2.0\t5.5426998e-05\n",
      "84\t24.771\t1.0\t0.0\n",
      "85\t27.186\t1.0\t0.0\n",
      "86\t29.836\t1.0\t0.0\n",
      "87\t32.745\t1.0\t0.0\n",
      "88\t35.938\t1.0\t0.0\n",
      "89\t39.442\t1.0\t0.0\n",
      "90\t43.288\t1.0\t0.0\n",
      "91\t47.508\t1.0\t0.0\n",
      "92\t52.140\t1.0\t0.0\n",
      "93\t57.224\t1.0\t0.0\n",
      "94\t62.803\t1.0\t0.0\n",
      "95\t68.926\t1.0\t0.0\n",
      "96\t75.646\t1.0\t0.0\n",
      "97\t83.022\t1.0\t0.0\n",
      "98\t91.116\t1.0\t0.0\n",
      "99\t100.000\t1.0\t0.0\n"
     ]
    }
   ],
   "source": [
    "for i in range(d_vi.shape[1]):\n",
    "    print(f\"{i}\\t{time[i]:.3f}\\t{N[i]}\\t{VI[i]}\")"
   ]
  },
  {
   "cell_type": "code",
   "execution_count": 365,
   "metadata": {},
   "outputs": [
    {
     "data": {
      "text/plain": [
       "Text(0.5, 0, 'Markov time')"
      ]
     },
     "execution_count": 365,
     "metadata": {},
     "output_type": "execute_result"
    },
    {
     "data": {
      "image/png": "[encoded data removed]",
      "text/plain": [
       "<Figure size 864x648 with 2 Axes>"
      ]
     },
     "metadata": {},
     "output_type": "display_data"
    }
   ],
   "source": [
    "plt.figure(figsize=(12, 9))\n",
    "# plt.subplot(3, 1, 1)\n",
    "# plt.plot(time, S)\n",
    "# plt.ylabel(\"Stability\")\n",
    "# plt.xscale(\"log\")\n",
    "\n",
    "plt.subplot(2, 1, 1)\n",
    "plt.plot(time, N, lw=2)\n",
    "plt.ylabel(\"N of modules\")\n",
    "plt.xscale(\"log\")\n",
    "\n",
    "plt.subplot(2, 1, 2)\n",
    "plt.plot(time, VI, lw=2)\n",
    "plt.ylabel(\"Variation of information\")\n",
    "plt.xscale(\"log\")\n",
    "plt.xlabel(\"Markov time\")"
   ]
  },
  {
   "cell_type": "code",
   "execution_count": 368,
   "metadata": {},
   "outputs": [],
   "source": [
    "# for i in range(len(time)):\n",
    "#     print(i, time[i], VI[i])\n",
    "\n",
    "time = d_vi[0, 35:90]\n",
    "S = d_vi[1, 35:90]\n",
    "N = d_vi[2, 35:90]\n",
    "VI = d_vi[3, 35:90]"
   ]
  },
  {
   "cell_type": "code",
   "execution_count": 369,
   "metadata": {},
   "outputs": [
    {
     "data": {
      "text/plain": [
       "Text(0.5, 0, 'Markov time')"
      ]
     },
     "execution_count": 369,
     "metadata": {},
     "output_type": "execute_result"
    },
    {
     "data": {
      "image/png": "[encoded data removed]",
      "text/plain": [
       "<Figure size 864x648 with 2 Axes>"
      ]
     },
     "metadata": {},
     "output_type": "display_data"
    }
   ],
   "source": [
    "plt.figure(figsize=(12, 9))\n",
    "# plt.subplot(3, 1, 1)\n",
    "# plt.plot(time, S)\n",
    "# plt.ylabel(\"Stability\")\n",
    "# plt.xscale(\"log\")\n",
    "\n",
    "plt.subplot(2, 1, 1)\n",
    "plt.plot(time, N, lw=2)\n",
    "plt.ylabel(\"N of modules\")\n",
    "plt.xscale(\"log\")\n",
    "\n",
    "plt.subplot(2, 1, 2)\n",
    "plt.plot(time, VI, lw=2)\n",
    "plt.ylabel(\"Variation of information\")\n",
    "plt.xscale(\"log\")\n",
    "plt.xlabel(\"Markov time\")"
   ]
  },
  {
   "cell_type": "code",
   "execution_count": 374,
   "metadata": {},
   "outputs": [],
   "source": [
    "rst = d_vi[4:, 73]\n",
    "# rst = d_vi[4:, 48]\n",
    "\n",
    "new_d = {}\n",
    "for i, c in enumerate(rst):\n",
    "    new_d[i+1] = int(c)"
   ]
  },
  {
   "cell_type": "code",
   "execution_count": 375,
   "metadata": {},
   "outputs": [],
   "source": [
    "# 赋予所属社团\n",
    "\n",
    "new_dd = {}\n",
    "for n in G.node():\n",
    "    G.node[n][\"mod\"] = new_d[G.node[n][\"id\"]]\n",
    "    new_dd[n] = new_d[G.node[n][\"id\"]]\n",
    "    \n",
    "json.dump(new_dd, open(\"data/louvain_rst_4.json\", \"w\"), indent=2)"
   ]
  },
  {
   "cell_type": "code",
   "execution_count": 376,
   "metadata": {},
   "outputs": [
    {
     "data": {
      "text/plain": [
       "[(1, 233), (0, 134), (3, 95), (2, 35)]"
      ]
     },
     "execution_count": 376,
     "metadata": {},
     "output_type": "execute_result"
    }
   ],
   "source": [
    "comm_nodes = Counter()\n",
    "\n",
    "for n in G.nodes(data=True):\n",
    "    c =  n[1][\"mod\"]\n",
    "    if n[1][\"IRA\"] == 1:\n",
    "        comm_nodes[c] += 1\n",
    "        \n",
    "comm_nodes.most_common()"
   ]
  },
  {
   "cell_type": "code",
   "execution_count": 377,
   "metadata": {},
   "outputs": [
    {
     "data": {
      "text/plain": [
       "[(0, 137953), (1, 31940), (3, 9624), (2, 165)]"
      ]
     },
     "execution_count": 377,
     "metadata": {},
     "output_type": "execute_result"
    }
   ],
   "source": [
    "comm_nodes = Counter()\n",
    "\n",
    "for n in G.nodes(data=True):\n",
    "    c =  n[1][\"mod\"]\n",
    "    comm_nodes[c] += 1\n",
    "        \n",
    "comm_nodes.most_common()"
   ]
  },
  {
   "cell_type": "code",
   "execution_count": 378,
   "metadata": {},
   "outputs": [
    {
     "data": {
      "text/plain": [
       "(179055, 462)"
      ]
     },
     "execution_count": 378,
     "metadata": {},
     "output_type": "execute_result"
    }
   ],
   "source": [
    "# for gephi\n",
    "\n",
    "plot_these_nodes = []\n",
    "keep_iras = []\n",
    "\n",
    "\n",
    "for n in G.node(data=True):\n",
    "#     if n[1][\"mod\"] in [7, 1, 11, 3, 2, 8, 6]:\n",
    "#     if n[1][\"mod\"] in [1, 8, 14, 4, 0, 11, 3, 13, 7, 2]:\n",
    "    if n[1][\"mod\"] in [0, 1, 3]:\n",
    "        if n[1][\"IRA\"] == 1:\n",
    "            keep_iras.append(n[0])\n",
    "        else:\n",
    "            plot_these_nodes.append(n[0])\n",
    "            \n",
    "len(plot_these_nodes), len(keep_iras)"
   ]
  },
  {
   "cell_type": "code",
   "execution_count": 379,
   "metadata": {},
   "outputs": [],
   "source": [
    "# random sampling for show\n",
    "import random\n",
    "\n",
    "plot_these_nodes = random.sample(plot_these_nodes, int(len(plot_these_nodes) * 0.1))\n",
    "plot_these_nodes.extend(keep_iras)\n",
    "G = G.subgraph(plot_these_nodes)\n",
    "G = G.subgraph(max(nx.connected_components(G), key=len))"
   ]
  },
  {
   "cell_type": "code",
   "execution_count": 380,
   "metadata": {},
   "outputs": [],
   "source": [
    "G = nx.Graph(G)"
   ]
  },
  {
   "cell_type": "code",
   "execution_count": 381,
   "metadata": {},
   "outputs": [],
   "source": [
    "nx.write_gexf(G, \"data/IRA-1-20190701.gexf\")"
   ]
  },
  {
   "cell_type": "markdown",
   "metadata": {},
   "source": [
    "## The 2nd layer of interaction network\n",
    "\n",
    "1. 取出每个社团传递的消息（两个节点都需要在某社团中）\n",
    "2. 定义每个社团的话题和#hashtags\n",
    "3. 找到更多传播的相关信息（相关话题和hashtags#）\n",
    "4. 分析每个社团是如何传播消息的"
   ]
  },
  {
   "cell_type": "code",
   "execution_count": 2,
   "metadata": {},
   "outputs": [
    {
     "data": {
      "text/plain": [
       "'19fcd9060d8817ac4a49574b5226e770abff10522d4a7579343e2a99696efa1a'"
      ]
     },
     "execution_count": 2,
     "metadata": {},
     "output_type": "execute_result"
    }
   ],
   "source": [
    "putin = Are_you_IRA()\n",
    "putin.uncover('19fcd9060d8817ac4a49574b5226e770abff10522d4a7579343e2a99696efa1a')"
   ]
  },
  {
   "cell_type": "code",
   "execution_count": 3,
   "metadata": {},
   "outputs": [
    {
     "data": {
      "text/plain": [
       "[(0, 137938), (1, 31955), (4, 9586), (3, 165), (2, 38)]"
      ]
     },
     "execution_count": 3,
     "metadata": {},
     "output_type": "execute_result"
    }
   ],
   "source": [
    "comm = json.load(open(\"data/louvain_rst_5.json\"))\n",
    "c = Counter()\n",
    "for v in comm.values():\n",
    "    c[v] += 1\n",
    "c.most_common()"
   ]
  },
  {
   "cell_type": "code",
   "execution_count": 81,
   "metadata": {},
   "outputs": [
    {
     "data": {
      "text/plain": [
       "[(22, 37882),\n",
       " (1, 27958),\n",
       " (7, 21373),\n",
       " (3, 21316),\n",
       " (10, 16738),\n",
       " (15, 16499),\n",
       " (8, 9838),\n",
       " (4, 9092),\n",
       " (2, 6696),\n",
       " (13, 5874),\n",
       " (0, 3491),\n",
       " (9, 1515),\n",
       " (16, 486),\n",
       " (14, 352),\n",
       " (12, 294),\n",
       " (18, 165),\n",
       " (6, 45),\n",
       " (11, 20),\n",
       " (21, 16),\n",
       " (23, 9),\n",
       " (17, 7),\n",
       " (20, 6),\n",
       " (5, 5),\n",
       " (19, 5)]"
      ]
     },
     "execution_count": 81,
     "metadata": {},
     "output_type": "execute_result"
    }
   ],
   "source": [
    "comm = json.load(open(\"data/louvain_rst_24.json\"))\n",
    "c = Counter()\n",
    "for v in comm.values():\n",
    "    c[v] += 1\n",
    "c.most_common()"
   ]
  },
  {
   "cell_type": "code",
   "execution_count": 82,
   "metadata": {},
   "outputs": [
    {
     "data": {
      "application/vnd.jupyter.widget-view+json": {
       "model_id": "d22f31ef89374a05ad6780853f49e8b1",
       "version_major": 2,
       "version_minor": 0
      },
      "text/plain": [
       "HBox(children=(IntProgress(value=1, bar_style='info', max=1), HTML(value='')))"
      ]
     },
     "metadata": {},
     "output_type": "display_data"
    },
    {
     "name": "stdout",
     "output_type": "stream",
     "text": [
      "\n"
     ]
    },
    {
     "data": {
      "application/vnd.jupyter.widget-view+json": {
       "model_id": "8bdfa4fed55c42d3bd24bd8c30f41d99",
       "version_major": 2,
       "version_minor": 0
      },
      "text/plain": [
       "HBox(children=(IntProgress(value=1, bar_style='info', max=1), HTML(value='')))"
      ]
     },
     "metadata": {},
     "output_type": "display_data"
    },
    {
     "name": "stdout",
     "output_type": "stream",
     "text": [
      "\n"
     ]
    }
   ],
   "source": [
    "# ira-ret-links.txt\n",
    "\n",
    "with open(\"disk/ira-ret-info.txt\", \"w\") as f:\n",
    "    for line in tqdm(open(\"disk/ira-ret-links.txt\")):\n",
    "        w = line.strip().split()\n",
    "        try:\n",
    "            if comm[w[1]] == comm[w[2]]:\n",
    "                f.write(f\"{w[0]} {comm[w[1]]}\\n\")\n",
    "        except:\n",
    "            # print(w)\n",
    "            pass\n",
    "    head = True\n",
    "    for line in tqdm(open(\"disk/ira-ret.txt\")):\n",
    "        if head:\n",
    "            head = False\n",
    "            continue\n",
    "        w = line.strip().split(\",\")\n",
    "        try:\n",
    "            if comm[w[1]] == comm[w[3]]:\n",
    "                f.write(f\"{w[0]} {comm[w[1]]}\\n\")\n",
    "        except:\n",
    "            # print(w)\n",
    "            pass"
   ]
  },
  {
   "cell_type": "code",
   "execution_count": 83,
   "metadata": {},
   "outputs": [
    {
     "data": {
      "application/vnd.jupyter.widget-view+json": {
       "model_id": "c721d95a20fe46afa13e1d404dff8c39",
       "version_major": 2,
       "version_minor": 0
      },
      "text/plain": [
       "HBox(children=(IntProgress(value=1, bar_style='info', max=1), HTML(value='')))"
      ]
     },
     "metadata": {},
     "output_type": "display_data"
    },
    {
     "name": "stdout",
     "output_type": "stream",
     "text": [
      "\n"
     ]
    },
    {
     "data": {
      "application/vnd.jupyter.widget-view+json": {
       "model_id": "914c83f9d5824cc2902bb835d579d85e",
       "version_major": 2,
       "version_minor": 0
      },
      "text/plain": [
       "HBox(children=(IntProgress(value=1, bar_style='info', max=1), HTML(value='')))"
      ]
     },
     "metadata": {},
     "output_type": "display_data"
    },
    {
     "name": "stdout",
     "output_type": "stream",
     "text": [
      "\n"
     ]
    }
   ],
   "source": [
    "with open(\"disk/ira-quo-info.txt\", \"w\") as f:\n",
    "    for line in tqdm(open(\"disk/ira-quo-links.txt\")):\n",
    "        w = line.strip().split()\n",
    "        try:\n",
    "            if comm[w[1]] == comm[w[2]]:\n",
    "                f.write(f\"{w[0]} {comm[w[1]]}\\n\")\n",
    "        except:\n",
    "            # print(w)\n",
    "            pass\n",
    "    head = True\n",
    "    for line in tqdm(open(\"disk/ira-quo.txt\")):\n",
    "        if head:\n",
    "            head = False\n",
    "            continue\n",
    "        w = line.strip().split(\",\")\n",
    "        try:\n",
    "            if comm[w[1]] == comm[w[3]]:\n",
    "                f.write(f\"{w[0]} {comm[w[1]]}\\n\")\n",
    "        except:\n",
    "            # print(w)\n",
    "            pass"
   ]
  },
  {
   "cell_type": "code",
   "execution_count": 84,
   "metadata": {},
   "outputs": [
    {
     "data": {
      "application/vnd.jupyter.widget-view+json": {
       "model_id": "3f8a447a3a974f9bb5553afbe3014be2",
       "version_major": 2,
       "version_minor": 0
      },
      "text/plain": [
       "HBox(children=(IntProgress(value=1, bar_style='info', max=1), HTML(value='')))"
      ]
     },
     "metadata": {},
     "output_type": "display_data"
    },
    {
     "name": "stdout",
     "output_type": "stream",
     "text": [
      "\n"
     ]
    },
    {
     "data": {
      "application/vnd.jupyter.widget-view+json": {
       "model_id": "9eb5f39151b44272aad9625e380964ec",
       "version_major": 2,
       "version_minor": 0
      },
      "text/plain": [
       "HBox(children=(IntProgress(value=1, bar_style='info', max=1), HTML(value='')))"
      ]
     },
     "metadata": {},
     "output_type": "display_data"
    },
    {
     "name": "stdout",
     "output_type": "stream",
     "text": [
      "\n"
     ]
    }
   ],
   "source": [
    "with open(\"disk/ira-rep-info.txt\", \"w\") as f:\n",
    "    for line in tqdm(open(\"disk/ira-rep-links.txt\")):\n",
    "        w = line.strip().split()\n",
    "        try:\n",
    "            if comm[w[1]] == comm[w[2]]:\n",
    "                f.write(f\"{w[0]} {comm[w[1]]}\\n\")\n",
    "        except:\n",
    "            # print(w)\n",
    "            pass\n",
    "    head = True\n",
    "    for line in tqdm(open(\"disk/ira-rep.txt\")):\n",
    "        if head:\n",
    "            head = False\n",
    "            continue\n",
    "        w = line.strip().split(\",\")\n",
    "        try:\n",
    "            if comm[w[1]] == comm[w[3]]:\n",
    "                f.write(f\"{w[0]} {comm[w[1]]}\\n\")\n",
    "        except:\n",
    "            # print(w)\n",
    "            pass"
   ]
  },
  {
   "cell_type": "code",
   "execution_count": 85,
   "metadata": {},
   "outputs": [
    {
     "data": {
      "application/vnd.jupyter.widget-view+json": {
       "model_id": "c82cf95291d74d2b99a2c0ba4e5070aa",
       "version_major": 2,
       "version_minor": 0
      },
      "text/plain": [
       "HBox(children=(IntProgress(value=1, bar_style='info', max=1), HTML(value='')))"
      ]
     },
     "metadata": {},
     "output_type": "display_data"
    },
    {
     "name": "stdout",
     "output_type": "stream",
     "text": [
      "\n"
     ]
    },
    {
     "data": {
      "application/vnd.jupyter.widget-view+json": {
       "model_id": "62e6a34fe44d4fc8b523f34379c5acda",
       "version_major": 2,
       "version_minor": 0
      },
      "text/plain": [
       "HBox(children=(IntProgress(value=1, bar_style='info', max=1), HTML(value='')))"
      ]
     },
     "metadata": {},
     "output_type": "display_data"
    },
    {
     "name": "stdout",
     "output_type": "stream",
     "text": [
      "\n"
     ]
    }
   ],
   "source": [
    "with open(\"disk/ira-men-info.txt\", \"w\") as f:\n",
    "    for line in tqdm(open(\"disk/ira-men-links.txt\")):\n",
    "        w = line.strip().split()\n",
    "        try:\n",
    "            if comm[w[1]] == comm[w[2]]:\n",
    "                f.write(f\"{w[0]} {comm[w[1]]}\\n\")\n",
    "        except:\n",
    "            # print(w)\n",
    "            pass\n",
    "    head = True\n",
    "    for line in tqdm(open(\"disk/ira-men.txt\")):\n",
    "        if head:\n",
    "            head = False\n",
    "            continue\n",
    "        w = line.strip().split(\",\")\n",
    "        try:\n",
    "            if comm[w[1]] == comm[w[2]]:\n",
    "                f.write(f\"{w[0]} {comm[w[1]]}\\n\")\n",
    "        except:\n",
    "            # print(w)\n",
    "            pass"
   ]
  },
  {
   "cell_type": "code",
   "execution_count": 86,
   "metadata": {},
   "outputs": [],
   "source": [
    "with open(\"disk/ira-int-info.txt\", \"w\") as f:\n",
    "    [f.write(line) for line in open(\"disk/ira-ret-info.txt\")]\n",
    "    [f.write(line) for line in open(\"disk/ira-men-info.txt\")]\n",
    "    [f.write(line) for line in open(\"disk/ira-rep-info.txt\")]\n",
    "    [f.write(line) for line in open(\"disk/ira-quo-info.txt\")]"
   ]
  },
  {
   "cell_type": "code",
   "execution_count": 87,
   "metadata": {},
   "outputs": [],
   "source": [
    "from SQLite_handler import find_tweets\n",
    "from tqdm import tqdm_notebook as tqdm"
   ]
  },
  {
   "cell_type": "code",
   "execution_count": 88,
   "metadata": {},
   "outputs": [],
   "source": [
    "set_id = set()\n",
    "\n",
    "for line in open(\"disk/ira-int-info.txt\"):\n",
    "    tid = line.split()[0]\n",
    "    if tid in set_id:\n",
    "        continue\n",
    "    set_id.add(tid)"
   ]
  },
  {
   "cell_type": "code",
   "execution_count": 89,
   "metadata": {},
   "outputs": [],
   "source": [
    "set_id = list(set_id)"
   ]
  },
  {
   "cell_type": "code",
   "execution_count": 90,
   "metadata": {},
   "outputs": [
    {
     "name": "stderr",
     "output_type": "stream",
     "text": [
      "100%|██████████| 446765/446765 [01:42<00:00, 4363.28it/s]\n"
     ]
    }
   ],
   "source": [
    "tweets_data = find_tweets(set_id)"
   ]
  },
  {
   "cell_type": "code",
   "execution_count": 91,
   "metadata": {},
   "outputs": [
    {
     "name": "stdout",
     "output_type": "stream",
     "text": [
      "{'datetime_EST': '2016-07-07 10:35:25',\n",
      " 'filename_id': 142,\n",
      " 'p_pro_hillary_anti_trump': None,\n",
      " 'place': None,\n",
      " 'query_id': 0,\n",
      " 'source_content_id': 2,\n",
      " 'source_url_id': 2,\n",
      " 'text': 'RT @jmzxng: Donald Trump is right about Hillary Clinton. \\n'\n",
      "         '\\n'\n",
      "         'Hillary Clinton is right about Donald Trump.\\n'\n",
      "         '\\n'\n",
      "         'Trump agrees w Bernie \\n'\n",
      "         '\\n'\n",
      "         'Clinton ag…',\n",
      " 'tweet_id': 751077164632698882,\n",
      " 'user_id': 1868496344}\n"
     ]
    }
   ],
   "source": [
    "from pprint import pprint\n",
    "pprint(tweets_data[0])"
   ]
  },
  {
   "cell_type": "code",
   "execution_count": 92,
   "metadata": {},
   "outputs": [
    {
     "data": {
      "text/plain": [
       "('没有找到的：', 232485)"
      ]
     },
     "execution_count": 92,
     "metadata": {},
     "output_type": "execute_result"
    }
   ],
   "source": [
    "\"没有找到的：\", len([t for t in tweets_data if 'error' in t])"
   ]
  },
  {
   "cell_type": "code",
   "execution_count": 93,
   "metadata": {},
   "outputs": [],
   "source": [
    "cannot_found = set([str(t[\"tweet_id\"]) for t in tweets_data if 'error' in t])\n",
    "have_found = set([str(t[\"tweet_id\"]) for t in tweets_data if 'error' not in t])"
   ]
  },
  {
   "cell_type": "code",
   "execution_count": 94,
   "metadata": {},
   "outputs": [],
   "source": [
    "_d = pd.read_csv(\"disk/ira_tweets_csv_hashed.csv\", usecols=[\"tweetid\", \"tweet_text\", \"userid\", \"tweet_language\", \"tweet_time\"], dtype=str)"
   ]
  },
  {
   "cell_type": "code",
   "execution_count": 95,
   "metadata": {},
   "outputs": [],
   "source": [
    "_d = _d[_d.tweet_language==\"en\"]\n",
    "_d = _d[_d.tweet_time<\"2016-11-09 00:00\"]"
   ]
  },
  {
   "cell_type": "code",
   "execution_count": 96,
   "metadata": {},
   "outputs": [],
   "source": [
    "tweets_data = [t for t in tweets_data if 'error' not in t]"
   ]
  },
  {
   "cell_type": "code",
   "execution_count": 97,
   "metadata": {},
   "outputs": [
    {
     "data": {
      "application/vnd.jupyter.widget-view+json": {
       "model_id": "a4ec66ae1f9640a5839fc775ed36a764",
       "version_major": 2,
       "version_minor": 0
      },
      "text/plain": [
       "HBox(children=(IntProgress(value=1, bar_style='info', max=1), HTML(value='')))"
      ]
     },
     "metadata": {},
     "output_type": "display_data"
    },
    {
     "name": "stdout",
     "output_type": "stream",
     "text": [
      "\n"
     ]
    },
    {
     "data": {
      "text/plain": [
       "232485"
      ]
     },
     "execution_count": 97,
     "metadata": {},
     "output_type": "execute_result"
    }
   ],
   "source": [
    "N_bingo = 0\n",
    "for i, row in tqdm(_d.iterrows()):\n",
    "    if row.tweetid in cannot_found and row.tweetid not in have_found:\n",
    "        tweets_data.append({\n",
    "            \"tweet_id\": int(row.tweetid),\n",
    "            \"user_id\": row.userid,\n",
    "            \"text\": row.tweet_text,\n",
    "            \"datetime_EST\": row.tweet_time + \":00\"\n",
    "        })\n",
    "        tweets_data.append(dict(row))\n",
    "        N_bingo += 1\n",
    "        \n",
    "N_bingo"
   ]
  },
  {
   "cell_type": "code",
   "execution_count": 104,
   "metadata": {},
   "outputs": [
    {
     "data": {
      "text/plain": [
       "679250"
      ]
     },
     "execution_count": 104,
     "metadata": {},
     "output_type": "execute_result"
    }
   ],
   "source": [
    "len(tweets_data)"
   ]
  },
  {
   "cell_type": "code",
   "execution_count": 105,
   "metadata": {},
   "outputs": [
    {
     "data": {
      "application/vnd.jupyter.widget-view+json": {
       "model_id": "9d8b088d390040a6b3103ec878c76237",
       "version_major": 2,
       "version_minor": 0
      },
      "text/plain": [
       "HBox(children=(IntProgress(value=0, max=679250), HTML(value='')))"
      ]
     },
     "metadata": {},
     "output_type": "display_data"
    },
    {
     "name": "stdout",
     "output_type": "stream",
     "text": [
      "\n"
     ]
    }
   ],
   "source": [
    "# save edge info\n",
    "\n",
    "bingo_id = set()\n",
    "\n",
    "with open(\"data/link_info_28.json\", \"w\") as f:\n",
    "    for tweet in tqdm(tweets_data):\n",
    "        if \"tweet_id\" not in tweet:\n",
    "            tweet[\"tweet_id\"] = int(tweet[\"tweetid\"])\n",
    "        if tweet[\"tweet_id\"] in bingo_id:\n",
    "            continue\n",
    "        bingo_id.add(tweet[\"tweet_id\"])\n",
    "        f.write(json.dumps(tweet) + \"\\n\")"
   ]
  },
  {
   "cell_type": "code",
   "execution_count": 106,
   "metadata": {},
   "outputs": [],
   "source": [
    "tweets_data = [t for t in tweets_data if 'error' not in t]"
   ]
  },
  {
   "cell_type": "code",
   "execution_count": 107,
   "metadata": {},
   "outputs": [
    {
     "data": {
      "text/plain": [
       "{'tweetid': '773536131208122368',\n",
       " 'userid': '2882013788',\n",
       " 'tweet_language': 'en',\n",
       " 'tweet_text': \"RT @TiMiR0: #IfICouldntLie I couldn't tell you all dogs go to heaven. https://t.co/t7lDUA03Ll\",\n",
       " 'tweet_time': '2016-09-07 14:59',\n",
       " 'tweet_id': 773536131208122368}"
      ]
     },
     "execution_count": 107,
     "metadata": {},
     "output_type": "execute_result"
    }
   ],
   "source": [
    "tweets_data[-1]"
   ]
  },
  {
   "cell_type": "markdown",
   "metadata": {},
   "source": [
    "## 针对社团中的消息进行话题分类及分布\n",
    "\n",
    "(0, '0.016*\"people\" + 0.010*\"white\" + 0.009*\"see\" + 0.009*\"@realdonaldtrump\" + 0.008*\"need\" + 0.008*\"think\" + 0.007*\"@danageezus\" + 0.007*\"work\" + 0.006*\"game\" + 0.006*\"house\"'), \n",
    "\n",
    "(1, '0.040*\"#new\" + 0.020*\"#world\" + 0.008*\"death\" + 0.007*\"#foke\" + 0.007*\"foke\" + 0.006*\"force\" + 0.006*\"#myolympicsportwouldbe\" + 0.006*\"kill\" + 0.006*\"#rejecteddebatetopic\" + 0.005*\"top\"'), \n",
    "\n",
    "(2, '0.012*\"kill\" + 0.010*\"cop\" + 0.009*\"old\" + 0.009*\"black\" + 0.009*\"@midnight\" + 0.008*\"people\" + 0.008*\"@gloed_up\" + 0.007*\"#blacklivesmatter\" + 0.006*\"play\" + 0.006*\"gun\"'), \n",
    "\n",
    "(3, '0.013*\"#sport\" + 0.008*\"#topnew\" + 0.007*\"#politic\" + 0.006*\"attack\" + 0.006*\"#tech\" + 0.006*\"high\" + 0.006*\"win\" + 0.006*\"post\" + 0.006*\"😂\" + 0.005*\"#obamaswishlist\"'),\n",
    "\n",
    "(4, '0.009*\"@giselleevns\" + 0.007*\"️\" + 0.007*\"name\" + 0.006*\"@chrixmorgan\" + 0.006*\"send\" + 0.006*\"#betteralternativetodebate\" + 0.006*\"become\" + 0.006*\"child\" + 0.006*\"nothing\" + 0.006*\"music\"'), \n",
    "\n",
    "(5, '0.041*\"trump\" + 0.026*\"hillary\" + 0.022*\"clinton\" + 0.012*\"vote\" + 0.008*\"donald\" + 0.008*\"great\" + 0.007*\"american\" + 0.006*\"never\" + 0.006*\"campaign\" + 0.006*\"america\"'), \n",
    "\n",
    "(6, '0.025*\"man\" + 0.020*\"police\" + 0.014*\"woman\" + 0.013*\"black\" + 0.010*\"shoot\" + 0.009*\"life\" + 0.009*\"live\" + 0.007*\"right\" + 0.007*\"try\" + 0.007*\"year\"')"
   ]
  },
  {
   "cell_type": "code",
   "execution_count": 108,
   "metadata": {},
   "outputs": [],
   "source": [
    "# import importlib\n",
    "# importlib.reload(my_topic.KTopic)\n",
    "from my_topic import KTopic"
   ]
  },
  {
   "cell_type": "code",
   "execution_count": 109,
   "metadata": {},
   "outputs": [
    {
     "name": "stdout",
     "output_type": "stream",
     "text": [
      "你若相信，它便存在。\n",
      "Loading ...\n"
     ]
    }
   ],
   "source": [
    "Lebron = KTopic()\n",
    "Lebron.load_model()\n",
    "Lebron.load_text()"
   ]
  },
  {
   "cell_type": "code",
   "execution_count": 110,
   "metadata": {},
   "outputs": [
    {
     "data": {
      "application/vnd.jupyter.widget-view+json": {
       "model_id": "fc3ee53c60f74f319e5804dda482b901",
       "version_major": 2,
       "version_minor": 0
      },
      "text/plain": [
       "HBox(children=(IntProgress(value=1, bar_style='info', max=1), HTML(value='')))"
      ]
     },
     "metadata": {},
     "output_type": "display_data"
    },
    {
     "name": "stderr",
     "output_type": "stream",
     "text": [
      "IOPub message rate exceeded.\n",
      "The notebook server will temporarily stop sending output\n",
      "to the client in order to avoid crashing it.\n",
      "To change this limit, set the config variable\n",
      "`--NotebookApp.iopub_msg_rate_limit`.\n",
      "\n",
      "Current values:\n",
      "NotebookApp.iopub_msg_rate_limit=1000.0 (msgs/sec)\n",
      "NotebookApp.rate_limit_window=3.0 (secs)\n",
      "\n"
     ]
    },
    {
     "name": "stdout",
     "output_type": "stream",
     "text": [
      "\n"
     ]
    }
   ],
   "source": [
    "topic_rsts = []\n",
    "\n",
    "for line in tqdm(open(\"data/link_info_28.json\")):\n",
    "    d = json.loads(line.strip())\n",
    "    r = Lebron.predict(d[\"text\"])\n",
    "    # print(r, len(r))\n",
    "    topic_rsts.append({\n",
    "        \"tweet_id\": d[\"tweet_id\"],\n",
    "        \"topic\": r\n",
    "    })"
   ]
  },
  {
   "cell_type": "code",
   "execution_count": 111,
   "metadata": {},
   "outputs": [
    {
     "data": {
      "text/plain": [
       "446765"
      ]
     },
     "execution_count": 111,
     "metadata": {},
     "output_type": "execute_result"
    }
   ],
   "source": [
    "len(topic_rsts)"
   ]
  },
  {
   "cell_type": "code",
   "execution_count": 112,
   "metadata": {},
   "outputs": [],
   "source": [
    "# save\n",
    "\n",
    "with open(\"data/link_topic_28.json\", \"w\") as f:\n",
    "    for d in topic_rsts:\n",
    "        r = [0, 0, 0, 0, 0, 0, 0]\n",
    "        for t in d[\"topic\"]:\n",
    "            r[t[0]] = float(t[1])\n",
    "        d[\"topic\"] = r\n",
    "        f.write(json.dumps(d) + \"\\n\")"
   ]
  },
  {
   "cell_type": "code",
   "execution_count": 14,
   "metadata": {},
   "outputs": [],
   "source": [
    "# load\n",
    "\n",
    "topic_rsts = {}\n",
    "\n",
    "# for line in open(\"data/link_topic_28.json\"):\n",
    "#     d = json.loads(line.strip())\n",
    "#     topic_rsts[d[\"tweet_id\"]] = np.array(d[\"topic\"])\n",
    "    \n",
    "for line in open(\"data/link_topic.json\"):\n",
    "    d = json.loads(line.strip())\n",
    "    topic_rsts[d[\"tweet_id\"]] = np.array(d[\"topic\"])"
   ]
  },
  {
   "cell_type": "code",
   "execution_count": 15,
   "metadata": {},
   "outputs": [],
   "source": [
    "tid_comm = {}\n",
    "\n",
    "for line in open(\"disk/ira-int-info.txt\"):\n",
    "    tid, c = line.split()\n",
    "    if tid in tid_comm:\n",
    "        continue\n",
    "    tid_comm[int(tid)] = int(c)"
   ]
  },
  {
   "cell_type": "code",
   "execution_count": null,
   "metadata": {},
   "outputs": [],
   "source": [
    "comm_topic = {}\n",
    "\n",
    "for tid, c in tid_comm.items():\n",
    "    if c not in comm_topic:\n",
    "        comm_topic[c] = np.zeros(7)\n",
    "    comm_topic[c] += topic_rsts[tid]"
   ]
  },
  {
   "cell_type": "code",
   "execution_count": 7,
   "metadata": {},
   "outputs": [
    {
     "data": {
      "text/plain": [
       "{1: array([ 9667.34295068,  4121.19899101,  5538.1335918 ,  5498.91699984,\n",
       "         6824.80960231, 31125.05683351,  6692.16177016]),\n",
       " 0: array([ 738.24996624,  309.38180378,  517.43261001,  550.42797162,\n",
       "         421.63895825, 2855.02703018,  551.93527665]),\n",
       " 8: array([2969.89751661, 1556.3932527 , 4243.53106943, 1463.80567301,\n",
       "        1469.18079938, 3421.29662874, 2294.58452448]),\n",
       " 9: array([219.68597557, 199.90095334, 160.70099967, 345.33067933,\n",
       "        158.91980581, 793.01367408, 246.42111412]),\n",
       " 15: array([3388.16583057, 2139.40783264, 2095.70535122, 2275.28098554,\n",
       "        1587.13946939, 9791.53526391, 2188.32045817]),\n",
       " 4: array([17520.31512649, 10586.08922045, 15588.10972888, 10721.08384102,\n",
       "        15380.86958583, 14767.84127365, 10097.4690446 ]),\n",
       " 22: array([ 8394.94153298,  2996.70477272,  4138.86371253,  4811.42423756,\n",
       "         4905.78770327, 23897.45416492,  5036.53604033]),\n",
       " 7: array([11972.90885984,  9143.35119512, 11586.05140432,  9368.45723911,\n",
       "        10915.38509393, 11652.81006174, 12893.06355634]),\n",
       " 13: array([1142.1275713 ,  606.20247187,  847.7989368 ,  825.50535374,\n",
       "         730.40203453, 3615.38786727, 1660.7796796 ]),\n",
       " 2: array([1814.78625071, 1146.69609053,  476.81494112,  696.70889348,\n",
       "         409.28425021, 2462.96193105,  894.8466497 ]),\n",
       " 3: array([ 9396.17085391,  5455.32806453,  6766.93788365,  7230.82339983,\n",
       "         5969.57004145, 16019.17497165,  6932.05333621]),\n",
       " 16: array([ 98.50039473, 133.00037816, 123.42667782, 102.08000038,\n",
       "        103.10245383, 102.70253284,  84.65078987]),\n",
       " 12: array([65.09245489, 51.99249118, 58.74892588, 28.98890561, 77.42824114,\n",
       "        49.52651764, 43.14537979]),\n",
       " 10: array([ 3286.51922858,  1513.12836867,  1712.26650637,  1873.81030284,\n",
       "         1629.82593483, 10110.86899881,  2245.77208657]),\n",
       " 14: array([ 77.42905493, 129.6002919 , 102.72562993, 189.16041655,\n",
       "         69.07933738, 129.54918144,  88.6558909 ]),\n",
       " 18: array([236.01545894, 357.67311705, 283.18584829, 181.95428858,\n",
       "        426.81256318, 512.02058508, 139.52313728]),\n",
       " 11: array([0.88587347, 1.08641475, 0.88580479, 0.88572301, 7.28467384,\n",
       "        6.88579487, 1.08571487]),\n",
       " 17: array([0.17488552, 0.04774581, 0.14798169, 0.04772813, 0.19916497,\n",
       "        0.17615952, 2.20633435]),\n",
       " 5: array([0.68114209, 0.22442614, 0.27816085, 0.91531686, 0.36080278,\n",
       "        0.38005721, 0.16009409]),\n",
       " 19: array([0.06064576, 0.38219813, 0.06063136, 0.92731267, 0.06066844,\n",
       "        0.53974462, 1.96879898]),\n",
       " 20: array([0.01192547, 0.01193165, 0.15479432, 0.01192957, 0.01193117,\n",
       "        0.455796  , 0.34169182]),\n",
       " 6: array([29.99163306,  0.50520918,  0.50551454,  7.60909526,  4.37832531,\n",
       "         0.50457642,  0.50564649]),\n",
       " 23: array([0.57340313, 2.67846075, 0.73526819, 0.80237425, 0.62241806,\n",
       "        1.23635806, 1.35171754]),\n",
       " 21: array([4.70437958, 1.22971065, 1.41019649, 0.66022857, 2.39003131,\n",
       "        0.50136951, 4.1040841 ])}"
      ]
     },
     "execution_count": 7,
     "metadata": {},
     "output_type": "execute_result"
    }
   ],
   "source": [
    "comm_topic"
   ]
  },
  {
   "cell_type": "markdown",
   "metadata": {},
   "source": [
    "### 三个社团的话题分布"
   ]
  },
  {
   "cell_type": "code",
   "execution_count": 10,
   "metadata": {},
   "outputs": [
    {
     "data": {
      "image/png": "[encoded data removed]",
      "text/plain": [
       "<Figure size 432x288 with 1 Axes>"
      ]
     },
     "metadata": {
      "needs_background": "light"
     },
     "output_type": "display_data"
    }
   ],
   "source": [
    "plt.bar(range(7), comm_topic[0])\n",
    "plt.xticks(range(7))\n",
    "pass"
   ]
  },
  {
   "cell_type": "code",
   "execution_count": 79,
   "metadata": {},
   "outputs": [
    {
     "data": {
      "text/plain": [
       "<BarContainer object of 7 artists>"
      ]
     },
     "execution_count": 79,
     "metadata": {},
     "output_type": "execute_result"
    },
    {
     "data": {
      "image/png": "[encoded data removed]",
      "text/plain": [
       "<Figure size 432x288 with 1 Axes>"
      ]
     },
     "metadata": {},
     "output_type": "display_data"
    }
   ],
   "source": [
    "plt.bar(range(7), comm_topic[1])"
   ]
  },
  {
   "cell_type": "code",
   "execution_count": 80,
   "metadata": {},
   "outputs": [
    {
     "data": {
      "text/plain": [
       "<BarContainer object of 7 artists>"
      ]
     },
     "execution_count": 80,
     "metadata": {},
     "output_type": "execute_result"
    },
    {
     "data": {
      "image/png": "[encoded data removed]",
      "text/plain": [
       "<Figure size 432x288 with 1 Axes>"
      ]
     },
     "metadata": {},
     "output_type": "display_data"
    }
   ],
   "source": [
    "plt.bar(range(7), comm_topic[4])"
   ]
  },
  {
   "cell_type": "markdown",
   "metadata": {},
   "source": [
    "### 28个社团的话题分布\n",
    "\n",
    "[(22, 37882),\n",
    " (1, 27958),\n",
    " (7, 21373),\n",
    " (3, 21316),\n",
    " (10, 16738),\n",
    " (15, 16499),\n",
    " (8, 9838),\n",
    " (4, 9092),\n",
    " (2, 6696),\n",
    " (13, 5874),\n",
    " (0, 3491),"
   ]
  },
  {
   "cell_type": "code",
   "execution_count": null,
   "metadata": {},
   "outputs": [],
   "source": [
    "plt.bar(range(7), comm_topic[22])\n",
    "plt.xticks(range(7))"
   ]
  },
  {
   "cell_type": "markdown",
   "metadata": {},
   "source": [
    "----------\n",
    "\n",
    "# 找到hashtags相关的第二层!!!\n",
    "\n",
    "考虑方向"
   ]
  },
  {
   "cell_type": "code",
   "execution_count": 3,
   "metadata": {},
   "outputs": [
    {
     "name": "stdout",
     "output_type": "stream",
     "text": [
      "{\"#\":[\"tcot\",\"pjnet\"],\"userid\":703971353351696384,\"id\":\"737848323919335424\",\"n1\":\"1339835893\",\"n2\":\"703971353351696384\"}\n",
      "{\"#\":[\"maga\"],\"userid\":733828747690811392,\"id\":\"737848331863359488\",\"n1\":\"759251\",\"n2\":\"733828747690811392\"}\n",
      "{\"#\":[\"imwithher\"],\"userid\":810145062,\"id\":\"737848380832026628\",\"n1\":\"1339835893\",\"n2\":\"810145062\"}\n",
      "{\"#\":[\"benghazi\"],\"userid\":88071033,\"id\":\"737848406958321666\",\"n1\":\"2188423838\",\"n2\":\"88071033\"}\n",
      "{\"#\":[\"trump\",\"maga\"],\"userid\":901903482,\"id\":\"737848410779197440\",\"n1\":\"708560981060784128\",\"n2\":\"901903482\"}\n",
      "{\"#\":[\"neverhillary\",\"trump2016\"],\"userid\":4499094387,\"id\":\"737848433088815104\",\"n1\":\"620571475\",\"n2\":\"4499094387\"}\n",
      "{\"#\":[\"trump\"],\"userid\":4550874792,\"id\":\"737848434904829953\",\"n1\":\"1917731\",\"n2\":\"4550874792\"}\n",
      "{\"#\":[\"hillary\"],\"userid\":26957062,\"id\":\"737848457805758464\",\"n1\":\"4761064634\",\"n2\":\"26957062\"}\n",
      "{\"#\":[\"neverhillary\",\"hillary\"],\"userid\":804041095,\"id\":\"737848470627885056\",\"n1\":\"2316246829\",\"n2\":\"804041095\"}\n",
      "{\"#\":[\"feelthebern\"],\"userid\":1247798108,\"id\":\"737848472255107076\",\"n1\":\"3292306583\",\"n2\":\"1247798108\"}\n"
     ]
    }
   ],
   "source": [
    "!head disk/second_layer.txt"
   ]
  },
  {
   "cell_type": "code",
   "execution_count": 45,
   "metadata": {},
   "outputs": [
    {
     "data": {
      "text/plain": [
       "(179783, 432429)"
      ]
     },
     "execution_count": 45,
     "metadata": {},
     "output_type": "execute_result"
    }
   ],
   "source": [
    "G = nx.read_gpickle(\"data/ira-interaction.gp\")\n",
    "G.number_of_nodes(), G.number_of_edges()"
   ]
  },
  {
   "cell_type": "code",
   "execution_count": 46,
   "metadata": {},
   "outputs": [
    {
     "data": {
      "application/vnd.jupyter.widget-view+json": {
       "model_id": "3647a7340fd1452fb032715957c968e2",
       "version_major": 2,
       "version_minor": 0
      },
      "text/plain": [
       "HBox(children=(IntProgress(value=1, bar_style='info', max=1), HTML(value='')))"
      ]
     },
     "metadata": {},
     "output_type": "display_data"
    },
    {
     "name": "stdout",
     "output_type": "stream",
     "text": [
      "\n"
     ]
    },
    {
     "data": {
      "text/plain": [
       "(380601, 7597394, 19.961571304331834)"
      ]
     },
     "execution_count": 46,
     "metadata": {},
     "output_type": "execute_result"
    }
   ],
   "source": [
    "# _edges = set()\n",
    "G = nx.DiGraph(G)\n",
    "\n",
    "for line in tqdm(open(\"disk/second_layer.txt\")):\n",
    "    d = json.loads(line.strip())\n",
    "    n1 = d[\"n1\"]\n",
    "    n2 = d[\"n2\"]\n",
    "    if n1 == n2:\n",
    "        continue\n",
    "    elif n1 in G.node or n2 in G.node:\n",
    "        G.add_edge(n1, n2)\n",
    "        \n",
    "G.number_of_nodes(), G.number_of_edges(), G.number_of_edges() / G.number_of_nodes()"
   ]
  },
  {
   "cell_type": "code",
   "execution_count": 8,
   "metadata": {},
   "outputs": [
    {
     "data": {
      "text/plain": [
       "(380561, 7597368, 19.963601104684926)"
      ]
     },
     "execution_count": 8,
     "metadata": {},
     "output_type": "execute_result"
    }
   ],
   "source": [
    "G = max(nx.weakly_connected_component_subgraphs(G), key=len)\n",
    "G.number_of_nodes(), G.number_of_edges(), G.number_of_edges() / G.number_of_nodes()"
   ]
  },
  {
   "cell_type": "code",
   "execution_count": 9,
   "metadata": {},
   "outputs": [],
   "source": [
    "putin = Are_you_IRA()\n",
    "\n",
    "for i, n in enumerate(G.nodes()):\n",
    "    if putin.fuck(n):\n",
    "        G.node[n][\"IRA\"] = 1\n",
    "    else:\n",
    "        G.node[n][\"IRA\"] = 0"
   ]
  },
  {
   "cell_type": "code",
   "execution_count": 10,
   "metadata": {},
   "outputs": [],
   "source": [
    "nx.write_gpickle(G, \"data/IRA-two-layers.gpickle\")"
   ]
  },
  {
   "cell_type": "code",
   "execution_count": 3,
   "metadata": {},
   "outputs": [],
   "source": [
    "G = nx.read_gpickle(\"data/IRA-two-layers.gpickle\")"
   ]
  },
  {
   "cell_type": "code",
   "execution_count": 6,
   "metadata": {},
   "outputs": [
    {
     "name": "stdout",
     "output_type": "stream",
     "text": [
      "change into undir and get the connected component\n",
      "380561 7559868\n"
     ]
    },
    {
     "data": {
      "text/plain": [
       "(380561, 7597368)"
      ]
     },
     "execution_count": 6,
     "metadata": {},
     "output_type": "execute_result"
    }
   ],
   "source": [
    "save_for_matlab(G, \"data/ira-int-2-undir.net\")\n",
    "G.number_of_nodes(), G.number_of_edges()"
   ]
  },
  {
   "cell_type": "code",
   "execution_count": 479,
   "metadata": {},
   "outputs": [
    {
     "data": {
      "text/plain": [
       "(418758, 517)"
      ]
     },
     "execution_count": 479,
     "metadata": {},
     "output_type": "execute_result"
    }
   ],
   "source": [
    "# for gephi\n",
    "\n",
    "plot_these_nodes = []\n",
    "keep_iras = []\n",
    "\n",
    "for n in G.node():\n",
    "    if Putin.fuck(n) or G.degree(n) > 30000:\n",
    "        keep_iras.append(n)\n",
    "    else:\n",
    "        plot_these_nodes.append(n)\n",
    "            \n",
    "len(plot_these_nodes), len(keep_iras)"
   ]
  },
  {
   "cell_type": "code",
   "execution_count": 480,
   "metadata": {},
   "outputs": [],
   "source": [
    "# random sampling for show\n",
    "import random\n",
    "\n",
    "plot_these_nodes = random.sample(plot_these_nodes, int(len(plot_these_nodes) * 0.01))\n",
    "plot_these_nodes.extend(keep_iras)\n",
    "sampleG = G.subgraph(plot_these_nodes)\n",
    "sampleG = sampleG.subgraph(max(nx.weakly_connected_components(sampleG), key=len))\n",
    "# G = G.subgraph(max(nx.connected_components(G), key=len))\n",
    "nx.write_gexf(sampleG, \"data/IRA-2.gexf\")"
   ]
  },
  {
   "cell_type": "code",
   "execution_count": 19,
   "metadata": {},
   "outputs": [],
   "source": [
    "from build_network import nx2gt"
   ]
  },
  {
   "cell_type": "code",
   "execution_count": 20,
   "metadata": {},
   "outputs": [],
   "source": [
    "for n in G.nodes():\n",
    "    try:\n",
    "        del G.node[n][\"IRA\"]\n",
    "    except:\n",
    "        pass\n",
    "    try:\n",
    "        del G.node[n][\"id\"]\n",
    "    except:\n",
    "        pass"
   ]
  },
  {
   "cell_type": "code",
   "execution_count": 21,
   "metadata": {},
   "outputs": [
    {
     "name": "stdout",
     "output_type": "stream",
     "text": [
      "converting ...\n"
     ]
    }
   ],
   "source": [
    "gt = nx2gt(G)"
   ]
  },
  {
   "cell_type": "code",
   "execution_count": 22,
   "metadata": {},
   "outputs": [
    {
     "data": {
      "text/plain": [
       "<Graph object, directed, with 380561 vertices and 7597368 edges at 0x7f4aaecebe80>"
      ]
     },
     "execution_count": 22,
     "metadata": {},
     "output_type": "execute_result"
    }
   ],
   "source": [
    "gt"
   ]
  },
  {
   "cell_type": "code",
   "execution_count": 23,
   "metadata": {},
   "outputs": [],
   "source": [
    "gt.save(\"data/IRA_two_layers.gt\")"
   ]
  },
  {
   "cell_type": "code",
   "execution_count": 44,
   "metadata": {},
   "outputs": [
    {
     "data": {
      "text/plain": [
       "380561"
      ]
     },
     "execution_count": 44,
     "metadata": {},
     "output_type": "execute_result"
    }
   ],
   "source": [
    "G.number_of_nodes()"
   ]
  },
  {
   "cell_type": "code",
   "execution_count": 356,
   "metadata": {},
   "outputs": [
    {
     "data": {
      "text/plain": [
       "0"
      ]
     },
     "execution_count": 356,
     "metadata": {},
     "output_type": "execute_result"
    }
   ],
   "source": [
    "G.number_of_selfloops()"
   ]
  },
  {
   "cell_type": "code",
   "execution_count": 382,
   "metadata": {},
   "outputs": [],
   "source": [
    "G = gt.load(\"data/IRA_two_layers.gt\")"
   ]
  },
  {
   "cell_type": "code",
   "execution_count": 485,
   "metadata": {},
   "outputs": [],
   "source": [
    "# G = nx.read_gpickle(\"data/IRA-two-layers.gpickle\")\n",
    "G = nx.read_gpickle(\"data/ira-interaction.gp\")"
   ]
  },
  {
   "cell_type": "code",
   "execution_count": 12,
   "metadata": {},
   "outputs": [
    {
     "data": {
      "text/plain": [
       "(99145, 99113, 32)"
      ]
     },
     "execution_count": 12,
     "metadata": {},
     "output_type": "execute_result"
    }
   ],
   "source": [
    "G.degree(\"25073877\"), G.out_degree(\"25073877\"), G.in_degree(\"25073877\")"
   ]
  },
  {
   "cell_type": "code",
   "execution_count": 13,
   "metadata": {},
   "outputs": [
    {
     "data": {
      "text/plain": [
       "(90289, 90257, 32)"
      ]
     },
     "execution_count": 13,
     "metadata": {},
     "output_type": "execute_result"
    }
   ],
   "source": [
    "G.degree(\"1339835893\"), G.out_degree(\"1339835893\"), G.in_degree(\"1339835893\")"
   ]
  },
  {
   "cell_type": "markdown",
   "metadata": {},
   "source": [
    "## Analyzing two-layer network"
   ]
  },
  {
   "cell_type": "code",
   "execution_count": 43,
   "metadata": {},
   "outputs": [],
   "source": [
    "G = nx.read_gpickle(\"data/IRA-two-layers.gpickle\")"
   ]
  },
  {
   "cell_type": "code",
   "execution_count": 29,
   "metadata": {},
   "outputs": [],
   "source": [
    "from fake_identify import Are_you_IRA\n",
    "\n",
    "putin = Are_you_IRA()\n",
    "\n",
    "def get_G_char(g_file):\n",
    "    print(g_file, \"...\")\n",
    "    G = nx.read_gpickle(g_file)\n",
    "    \n",
    "    n_nodes = G.number_of_nodes()\n",
    "    n_edges = G.number_of_edges()\n",
    "    k = G.number_of_edges() / G.number_of_nodes()\n",
    "\n",
    "    out_d = pd.Series([k[1] for k in G.out_degree()])\n",
    "    # print(out_d)\n",
    "    ave_out_d = out_d.mean()\n",
    "    std_out_d = out_d.std() / k\n",
    "    max_out_d = out_d.max()\n",
    "\n",
    "    in_d = pd.Series([k[1] for k in G.in_degree()])\n",
    "    # print(in_d)\n",
    "    ave_in_d = in_d.mean()\n",
    "    std_in_d = in_d.std() / k\n",
    "    max_in_d = in_d.max()\n",
    "\n",
    "    return {\n",
    "        \"N nodes\": int(n_nodes),\n",
    "        \"N edges\": int(n_edges),\n",
    "        \"<k>\": k,\n",
    "        \"std(k_out) / <k>\": std_out_d,\n",
    "        \"std(k_in) / <k>\": std_in_d,\n",
    "        \"max(k_out)\": int(max_out_d),\n",
    "        \"max(k_in)\": int(max_in_d),\n",
    "    }        \n",
    "\n",
    "\n",
    "def get_G_char_IRA(g_file):\n",
    "    print(g_file, \"...\")\n",
    "    G = nx.read_gpickle(g_file)\n",
    "    nodes = [n for n in G.node() if Putin.fuck(n)]\n",
    "    n_nodes = len(nodes)\n",
    "            \n",
    "    out_d = pd.Series([G.out_degree(n) for n in nodes])\n",
    "    ave_k_out = out_d.sum() / n_nodes\n",
    "    std_k_out = out_d.std() / ave_k_out\n",
    "    max_out_d = out_d.max()\n",
    "\n",
    "    in_d = pd.Series([G.in_degree(n) for n in nodes])\n",
    "    ave_k_in = in_d.sum() / n_nodes\n",
    "    std_k_in = in_d.std() / ave_k_in\n",
    "    max_in_d = in_d.max()\n",
    "    \n",
    "    return {\n",
    "        \"N nodes\": int(n_nodes),\n",
    "        \"<k_out>\": ave_k_out,\n",
    "        \"<k_in>\": ave_k_in,\n",
    "        \"std(k_out) / <k_out>\": std_k_out,\n",
    "        \"std(k_in) / <k_in>\": std_k_in,\n",
    "        # \"N cover\": len(cover_set),\n",
    "        \"max(k_out)\": int(max_out_d),\n",
    "        \"max(k_in)\": int(max_in_d),\n",
    "    }\n"
   ]
  },
  {
   "cell_type": "code",
   "execution_count": 40,
   "metadata": {},
   "outputs": [
    {
     "name": "stdout",
     "output_type": "stream",
     "text": [
      "data/IRA-two-layers.gpickle ...\n"
     ]
    }
   ],
   "source": [
    "networks_char1 = get_G_char(\"data/IRA-two-layers.gpickle\")"
   ]
  },
  {
   "cell_type": "code",
   "execution_count": 47,
   "metadata": {},
   "outputs": [
    {
     "data": {
      "text/html": [
       "<div>\n",
       "<style scoped>\n",
       "    .dataframe tbody tr th:only-of-type {\n",
       "        vertical-align: middle;\n",
       "    }\n",
       "\n",
       "    .dataframe tbody tr th {\n",
       "        vertical-align: top;\n",
       "    }\n",
       "\n",
       "    .dataframe thead th {\n",
       "        text-align: right;\n",
       "    }\n",
       "</style>\n",
       "<table border=\"1\" class=\"dataframe\">\n",
       "  <thead>\n",
       "    <tr style=\"text-align: right;\">\n",
       "      <th></th>\n",
       "      <th>N nodes</th>\n",
       "      <th>N edges</th>\n",
       "      <th>&lt;k&gt;</th>\n",
       "      <th>std(k_out) / &lt;k&gt;</th>\n",
       "      <th>std(k_in) / &lt;k&gt;</th>\n",
       "      <th>max(k_out)</th>\n",
       "      <th>max(k_in)</th>\n",
       "    </tr>\n",
       "  </thead>\n",
       "  <tbody>\n",
       "    <tr>\n",
       "      <th>Whole</th>\n",
       "      <td>380561</td>\n",
       "      <td>7597368</td>\n",
       "      <td>20.0</td>\n",
       "      <td>22.8</td>\n",
       "      <td>3.4</td>\n",
       "      <td>99113</td>\n",
       "      <td>8470</td>\n",
       "    </tr>\n",
       "  </tbody>\n",
       "</table>\n",
       "</div>"
      ],
      "text/plain": [
       "       N nodes  N edges   <k>  std(k_out) / <k>  std(k_in) / <k>  max(k_out)  \\\n",
       "Whole   380561  7597368  20.0              22.8              3.4       99113   \n",
       "\n",
       "       max(k_in)  \n",
       "Whole       8470  "
      ]
     },
     "execution_count": 47,
     "metadata": {},
     "output_type": "execute_result"
    }
   ],
   "source": [
    "networks_char = {}\n",
    "networks_char[\"Whole\"] = networks_char1\n",
    "networks_char = pd.DataFrame(networks_char).transpose().round(1)\n",
    "networks_char = networks_char[[\"N nodes\", \"N edges\", \"<k>\", \"std(k_out) / <k>\", \"std(k_in) / <k>\", \"max(k_out)\", \"max(k_in)\"]]\n",
    "networks_char = networks_char.astype({\n",
    "    \"N nodes\": int,\n",
    "    \"N edges\": int,\n",
    "    \"max(k_out)\": int,\n",
    "    \"max(k_in)\": int,\n",
    "})\n",
    "\n",
    "networks_char.to_csv(\"data/two_layers_network.csv\", float_format=\"%.1f\")\n",
    "networks_char"
   ]
  },
  {
   "cell_type": "code",
   "execution_count": 48,
   "metadata": {},
   "outputs": [
    {
     "name": "stdout",
     "output_type": "stream",
     "text": [
      "data/IRA-two-layers.gpickle ...\n"
     ]
    }
   ],
   "source": [
    "networks_char2 = get_G_char_IRA(\"data/IRA-two-layers.gpickle\")"
   ]
  },
  {
   "cell_type": "code",
   "execution_count": 51,
   "metadata": {},
   "outputs": [
    {
     "data": {
      "text/html": [
       "<div>\n",
       "<style scoped>\n",
       "    .dataframe tbody tr th:only-of-type {\n",
       "        vertical-align: middle;\n",
       "    }\n",
       "\n",
       "    .dataframe tbody tr th {\n",
       "        vertical-align: top;\n",
       "    }\n",
       "\n",
       "    .dataframe thead th {\n",
       "        text-align: right;\n",
       "    }\n",
       "</style>\n",
       "<table border=\"1\" class=\"dataframe\">\n",
       "  <thead>\n",
       "    <tr style=\"text-align: right;\">\n",
       "      <th></th>\n",
       "      <th>N nodes</th>\n",
       "      <th>&lt;k_out&gt;</th>\n",
       "      <th>&lt;k_in&gt;</th>\n",
       "      <th>std(k_out) / &lt;k_out&gt;</th>\n",
       "      <th>std(k_in) / &lt;k_in&gt;</th>\n",
       "      <th>max(k_out)</th>\n",
       "      <th>max(k_in)</th>\n",
       "    </tr>\n",
       "  </thead>\n",
       "  <tbody>\n",
       "    <tr>\n",
       "      <th>IRA</th>\n",
       "      <td>510</td>\n",
       "      <td>500.2</td>\n",
       "      <td>353.2</td>\n",
       "      <td>8.9</td>\n",
       "      <td>1.8</td>\n",
       "      <td>82012</td>\n",
       "      <td>8470</td>\n",
       "    </tr>\n",
       "  </tbody>\n",
       "</table>\n",
       "</div>"
      ],
      "text/plain": [
       "     N nodes  <k_out>  <k_in>  std(k_out) / <k_out>  std(k_in) / <k_in>  \\\n",
       "IRA      510    500.2   353.2                   8.9                 1.8   \n",
       "\n",
       "     max(k_out)  max(k_in)  \n",
       "IRA       82012       8470  "
      ]
     },
     "execution_count": 51,
     "metadata": {},
     "output_type": "execute_result"
    }
   ],
   "source": [
    "networks_char = {}\n",
    "networks_char[\"IRA\"] = networks_char2\n",
    "\n",
    "networks_char = pd.DataFrame(networks_char).round(1).transpose()\n",
    "networks_char = networks_char[[\"N nodes\", \"<k_out>\", \"<k_in>\", \"std(k_out) / <k_out>\", \"std(k_in) / <k_in>\", \"max(k_out)\", \"max(k_in)\"]]\n",
    "networks_char = networks_char.astype({\n",
    "    \"N nodes\": int,\n",
    "    \"max(k_out)\": int,\n",
    "    \"max(k_in)\": int,\n",
    "})\n",
    "\n",
    "networks_char.to_csv(\"data/two_layers_network_IRA.csv\", float_format=\"%.1f\")\n",
    "networks_char"
   ]
  },
  {
   "cell_type": "markdown",
   "metadata": {},
   "source": [
    "# Time Series Analysis of two-laryer network"
   ]
  },
  {
   "cell_type": "code",
   "execution_count": 53,
   "metadata": {},
   "outputs": [],
   "source": [
    "G = nx.read_gpickle(\"data/IRA-two-layers.gpickle\")"
   ]
  },
  {
   "cell_type": "code",
   "execution_count": 57,
   "metadata": {},
   "outputs": [],
   "source": [
    "# save node\n",
    "\n",
    "with open(\"data/two-layers-non-IRA.txt\", \"w\") as f:\n",
    "    for n in G.nodes():\n",
    "        if G.node[n][\"IRA\"] == 0:\n",
    "            f.write(n + \"\\n\")\n",
    "            \n",
    "with open(\"data/two-layers-IRA.txt\", \"w\") as f:\n",
    "    for n in G.nodes():\n",
    "        if G.node[n][\"IRA\"] == 1:\n",
    "            f.write(n + \"\\n\")"
   ]
  },
  {
   "cell_type": "code",
   "execution_count": 12,
   "metadata": {},
   "outputs": [
    {
     "data": {
      "text/plain": [
       "510"
      ]
     },
     "execution_count": 12,
     "metadata": {},
     "output_type": "execute_result"
    }
   ],
   "source": [
    "# read nodes\n",
    "IRA_nodes = set([line.strip() for line in open(\"data/two-layers-IRA.txt\")])\n",
    "len(IRA_nodes)"
   ]
  },
  {
   "cell_type": "code",
   "execution_count": 13,
   "metadata": {},
   "outputs": [],
   "source": [
    "IRA_data = pd.read_csv(\"data/ira-tweets-ele.csv\")"
   ]
  },
  {
   "cell_type": "code",
   "execution_count": 18,
   "metadata": {},
   "outputs": [
    {
     "data": {
      "text/plain": [
       "Index(['tweetid', 'userid', 'user_display_name', 'user_screen_name',\n",
       "       'user_reported_location', 'user_profile_description',\n",
       "       'user_profile_url', 'follower_count', 'following_count',\n",
       "       'account_creation_date', 'account_language', 'tweet_language',\n",
       "       'tweet_text', 'tweet_time', 'tweet_client_name', 'in_reply_to_tweetid',\n",
       "       'in_reply_to_userid', 'quoted_tweet_tweetid', 'is_retweet',\n",
       "       'retweet_userid', 'retweet_tweetid', 'latitude', 'longitude',\n",
       "       'quote_count', 'reply_count', 'like_count', 'retweet_count', 'hashtags',\n",
       "       'urls', 'user_mentions', 'poll_choices'],\n",
       "      dtype='object')"
      ]
     },
     "execution_count": 18,
     "metadata": {},
     "output_type": "execute_result"
    }
   ],
   "source": [
    "IRA_data.columns"
   ]
  },
  {
   "cell_type": "code",
   "execution_count": 15,
   "metadata": {},
   "outputs": [
    {
     "data": {
      "text/plain": [
       "556"
      ]
     },
     "execution_count": 15,
     "metadata": {},
     "output_type": "execute_result"
    }
   ],
   "source": [
    "len(IRA_data.userid.unique())"
   ]
  },
  {
   "cell_type": "code",
   "execution_count": 20,
   "metadata": {},
   "outputs": [
    {
     "data": {
      "application/vnd.jupyter.widget-view+json": {
       "model_id": "270641dbab5f436692f8e0d80fd70bcf",
       "version_major": 2,
       "version_minor": 0
      },
      "text/plain": [
       "HBox(children=(IntProgress(value=1, bar_style='info', max=1), HTML(value='')))"
      ]
     },
     "metadata": {},
     "output_type": "display_data"
    },
    {
     "name": "stdout",
     "output_type": "stream",
     "text": [
      "\n"
     ]
    }
   ],
   "source": [
    "dts = []\n",
    "\n",
    "for i, row in tqdm(IRA_data.iterrows()):\n",
    "    u = Putin.uncover(row.userid)\n",
    "    if u in IRA_nodes:\n",
    "        dts.append(row.tweet_time)"
   ]
  },
  {
   "cell_type": "code",
   "execution_count": 33,
   "metadata": {},
   "outputs": [],
   "source": [
    "ts = pd.to_datetime(dts)\n",
    "ts = ts.value_counts()\n",
    "ts = ts.resample(\"7D\").sum()"
   ]
  },
  {
   "cell_type": "code",
   "execution_count": 34,
   "metadata": {},
   "outputs": [
    {
     "data": {
      "text/plain": [
       "[<matplotlib.lines.Line2D at 0x7f63cff901d0>]"
      ]
     },
     "execution_count": 34,
     "metadata": {},
     "output_type": "execute_result"
    },
    {
     "data": {
      "image/png": "[encoded data removed]",
      "text/plain": [
       "<Figure size 432x288 with 1 Axes>"
      ]
     },
     "metadata": {
      "needs_background": "light"
     },
     "output_type": "display_data"
    }
   ],
   "source": [
    "plt.plot(ts)"
   ]
  },
  {
   "cell_type": "code",
   "execution_count": 38,
   "metadata": {},
   "outputs": [
    {
     "data": {
      "text/plain": [
       "380051"
      ]
     },
     "execution_count": 38,
     "metadata": {},
     "output_type": "execute_result"
    }
   ],
   "source": [
    "# read nodes\n",
    "non_IRA_nodes = set([line.strip() for line in open(\"data/two-layers-non-IRA.txt\")])\n",
    "len(non_IRA_nodes)"
   ]
  },
  {
   "cell_type": "code",
   "execution_count": 42,
   "metadata": {},
   "outputs": [
    {
     "data": {
      "application/vnd.jupyter.widget-view+json": {
       "model_id": "fdca935d32e94c9e9d6ed08ec3d5e7dd",
       "version_major": 2,
       "version_minor": 0
      },
      "text/plain": [
       "HBox(children=(IntProgress(value=1, bar_style='info', max=1), HTML(value='')))"
      ]
     },
     "metadata": {},
     "output_type": "display_data"
    },
    {
     "name": "stdout",
     "output_type": "stream",
     "text": [
      "\n"
     ]
    }
   ],
   "source": [
    "from pathlib import Path\n",
    "\n",
    "dts = []\n",
    "for in_name in tqdm(Path('disk/user_tweets/').rglob('*.txt')):\n",
    "    uid = in_name.name.split(\".\")[0]\n",
    "    if uid in non_IRA_nodes:\n",
    "        for line in open(in_name):\n",
    "            dts.append(line.strip().split(\"\\t\")[1])"
   ]
  },
  {
   "cell_type": "code",
   "execution_count": null,
   "metadata": {},
   "outputs": [],
   "source": []
  }
 ],
 "metadata": {
  "kernelspec": {
   "display_name": "Python 3",
   "language": "python",
   "name": "python3"
  },
  "language_info": {
   "codemirror_mode": {
    "name": "ipython",
    "version": 3
   },
   "file_extension": ".py",
   "mimetype": "text/x-python",
   "name": "python",
   "nbconvert_exporter": "python",
   "pygments_lexer": "ipython3",
   "version": "3.6.8"
  }
 },
 "nbformat": 4,
 "nbformat_minor": 2
}
