{
 "cells": [
  {
   "cell_type": "code",
   "execution_count": 6,
   "metadata": {},
   "outputs": [],
   "source": [
    "# 向量化（vectorize）\n",
    "\n",
    "# from my_weapon import *\n",
    "from gensim.models import Word2Vec\n",
    "import word2vecReader\n",
    "import torch\n",
    "import torch.nn as nn\n",
    "import torch.nn.functional as F\n",
    "from torch import autograd, optim"
   ]
  },
  {
   "cell_type": "code",
   "execution_count": 78,
   "metadata": {},
   "outputs": [
    {
     "name": "stdout",
     "output_type": "stream",
     "text": [
      "count    2.425314e+06\n",
      "mean     1.650435e+01\n",
      "std      5.510423e+00\n",
      "min      1.000000e+00\n",
      "25%      1.300000e+01\n",
      "50%      1.700000e+01\n",
      "75%      2.000000e+01\n",
      "max      1.110000e+02\n",
      "dtype: float64\n"
     ]
    },
    {
     "data": {
      "image/png": "[encoded data removed]",
      "text/plain": [
       "<Figure size 432x288 with 1 Axes>"
      ]
     },
     "metadata": {
      "needs_background": "light"
     },
     "output_type": "display_data"
    }
   ],
   "source": [
    "# 统计最长的序列\n",
    "\n",
    "d = pd.Series([len(line.strip().split(\" \")) for line in open(\"data/train.txt\")])\n",
    "print(d.describe())\n",
    "d.hist()\n",
    "plt.show()"
   ]
  },
  {
   "cell_type": "code",
   "execution_count": 67,
   "metadata": {},
   "outputs": [],
   "source": [
    "wv_model = Word2Vec.load(\"model/word2vec.mod\")"
   ]
  },
  {
   "cell_type": "markdown",
   "metadata": {},
   "source": [
    "最长的序列是111个tokens，我决定用40作为每个句子的长度"
   ]
  },
  {
   "cell_type": "code",
   "execution_count": 70,
   "metadata": {},
   "outputs": [],
   "source": [
    "# update vectorize\n",
    "# 需要经过tweet_process.py的处理\n",
    "\n",
    "def vectorize(line):\n",
    "    v = np.zeros(40 * 400).reshape(40, 400)\n",
    "    words = line.strip().split(\" \")\n",
    "    _index = 0\n",
    "    for w in words:\n",
    "        if _index >= 40:\n",
    "            break\n",
    "        if w in wv_model.wv:\n",
    "            v[_index] = wv_model.wv[w]\n",
    "            _index += 1\n",
    "    return v"
   ]
  },
  {
   "cell_type": "code",
   "execution_count": 71,
   "metadata": {},
   "outputs": [
    {
     "data": {
      "text/plain": [
       "array([[-2.08587575,  0.41580471, -2.2741425 , ..., -0.0125636 ,\n",
       "         2.06250668,  0.08311198],\n",
       "       [-0.81667441,  0.94962615, -1.45155382, ...,  0.22324868,\n",
       "         1.16281199, -0.71577537],\n",
       "       [-0.68626755,  0.78144592, -2.61305523, ...,  0.71367294,\n",
       "         0.76811117,  2.10258842],\n",
       "       ...,\n",
       "       [ 0.        ,  0.        ,  0.        , ...,  0.        ,\n",
       "         0.        ,  0.        ],\n",
       "       [ 0.        ,  0.        ,  0.        , ...,  0.        ,\n",
       "         0.        ,  0.        ],\n",
       "       [ 0.        ,  0.        ,  0.        , ...,  0.        ,\n",
       "         0.        ,  0.        ]])"
      ]
     },
     "execution_count": 71,
     "metadata": {},
     "output_type": "execute_result"
    }
   ],
   "source": [
    "vectorize(\"what are you doing ?\")"
   ]
  },
  {
   "cell_type": "markdown",
   "metadata": {},
   "source": [
    "接下来我们看看另外一个已经训练好的在大的数据集上的word2vec model\n",
    "\n",
    "location: /media/alex/data/word2vec_twitter_model/"
   ]
  },
  {
   "cell_type": "code",
   "execution_count": 72,
   "metadata": {},
   "outputs": [
    {
     "name": "stdout",
     "output_type": "stream",
     "text": [
      "README\tword2vecReader.py  word2vecReaderUtils.py  word2vec_twitter_model.bin\n"
     ]
    }
   ],
   "source": [
    "!ls /media/alex/data/word2vec_twitter_model/"
   ]
  },
  {
   "cell_type": "code",
   "execution_count": 73,
   "metadata": {},
   "outputs": [
    {
     "name": "stdout",
     "output_type": "stream",
     "text": [
      "This zip contains a word2vec model trained on Twitter data as described in:\n",
      "\n",
      "Godin, F., Vandersmissen, B., De Neve, W., & Van de Walle, R. (2015).\n",
      "Multimedia Lab @ ACL W-NUT NER shared task: Named entity recognition for Twitter microposts using distributed word representations.\n",
      "Workshop on Noisy User-generated Text, ACL 2015.\n",
      "\n",
      "Please cite the paper if you use the model.\n",
      "\n",
      "This zip contains 2 additional files to read the word2vec model with Python.\n",
      "The code for this was extracted from the Gensim Library which can be found here: https://radimrehurek.com/gensim/models/word2vec.html\n",
      "The only difference is that it does not use a strict encoding to read the model from the file.\n",
      "(One can easily integrate, inherit or extend the library or the Python files)"
     ]
    }
   ],
   "source": [
    "!cat /media/alex/data/word2vec_twitter_model/README"
   ]
  },
  {
   "cell_type": "code",
   "execution_count": 74,
   "metadata": {},
   "outputs": [],
   "source": [
    "wv_model2 = word2vecReader.Word2Vec.load_word2vec_format(\"/media/alex/data/word2vec_twitter_model/word2vec_twitter_model.bin\", binary=True)"
   ]
  },
  {
   "cell_type": "code",
   "execution_count": 75,
   "metadata": {},
   "outputs": [
    {
     "data": {
      "text/plain": [
       "(400,)"
      ]
     },
     "execution_count": 75,
     "metadata": {},
     "output_type": "execute_result"
    }
   ],
   "source": [
    "wv_model2[\"love\"].shape"
   ]
  },
  {
   "cell_type": "code",
   "execution_count": 78,
   "metadata": {},
   "outputs": [],
   "source": [
    "def vectorize_2(line):\n",
    "    v = np.zeros(40 * 400).reshape(40, 400)\n",
    "    words = line.strip().split(\" \")\n",
    "    _index = 0\n",
    "    for w in words:\n",
    "        if _index >= 40:\n",
    "            break\n",
    "        if w in wv_model2:\n",
    "            v[_index] = wv_model2[w]\n",
    "            _index += 1\n",
    "    return v"
   ]
  },
  {
   "cell_type": "code",
   "execution_count": 79,
   "metadata": {},
   "outputs": [
    {
     "data": {
      "text/plain": [
       "array([[-0.03832966,  0.00200333, -0.04462779, ...,  0.0044597 ,\n",
       "         0.02114136, -0.02238772],\n",
       "       [ 0.04128342,  0.07181156,  0.00676483, ..., -0.00052616,\n",
       "         0.01673744,  0.01691386],\n",
       "       [-0.01901733,  0.00757742,  0.00171131, ...,  0.05948232,\n",
       "         0.0217214 , -0.00660098],\n",
       "       ...,\n",
       "       [ 0.        ,  0.        ,  0.        , ...,  0.        ,\n",
       "         0.        ,  0.        ],\n",
       "       [ 0.        ,  0.        ,  0.        , ...,  0.        ,\n",
       "         0.        ,  0.        ],\n",
       "       [ 0.        ,  0.        ,  0.        , ...,  0.        ,\n",
       "         0.        ,  0.        ]])"
      ]
     },
     "execution_count": 79,
     "metadata": {},
     "output_type": "execute_result"
    }
   ],
   "source": [
    "vectorize_2(\"i love you so much\")"
   ]
  },
  {
   "cell_type": "code",
   "execution_count": 7,
   "metadata": {},
   "outputs": [
    {
     "name": "stdout",
     "output_type": "stream",
     "text": [
      "conv1: torch.Size([128, 64, 98, 1])\n",
      "relu: torch.Size([128, 64, 98, 1])\n",
      "squeeze: torch.Size([128, 64, 98])\n",
      "max_pool1d: torch.Size([128, 64, 49])\n"
     ]
    },
    {
     "ename": "RuntimeError",
     "evalue": "shape '[-1, 1216]' is invalid for input of size 401408",
     "output_type": "error",
     "traceback": [
      "\u001b[0;31m---------------------------------------------------------------------------\u001b[0m",
      "\u001b[0;31mRuntimeError\u001b[0m                              Traceback (most recent call last)",
      "\u001b[0;32m<ipython-input-7-350c7ee7f407>\u001b[0m in \u001b[0;36m<module>\u001b[0;34m\u001b[0m\n\u001b[1;32m     17\u001b[0m \u001b[0mprint\u001b[0m\u001b[0;34m(\u001b[0m\u001b[0;34m\"max_pool1d:\"\u001b[0m\u001b[0;34m,\u001b[0m \u001b[0m_out\u001b[0m\u001b[0;34m.\u001b[0m\u001b[0msize\u001b[0m\u001b[0;34m(\u001b[0m\u001b[0;34m)\u001b[0m\u001b[0;34m)\u001b[0m\u001b[0;34m\u001b[0m\u001b[0m\n\u001b[1;32m     18\u001b[0m \u001b[0;34m\u001b[0m\u001b[0m\n\u001b[0;32m---> 19\u001b[0;31m \u001b[0m_out\u001b[0m \u001b[0;34m=\u001b[0m \u001b[0m_out\u001b[0m\u001b[0;34m.\u001b[0m\u001b[0mview\u001b[0m\u001b[0;34m(\u001b[0m\u001b[0;34m-\u001b[0m\u001b[0;36m1\u001b[0m\u001b[0;34m,\u001b[0m \u001b[0;36m2\u001b[0m \u001b[0;34m*\u001b[0m \u001b[0;36m32\u001b[0m \u001b[0;34m*\u001b[0m \u001b[0;36m19\u001b[0m\u001b[0;34m)\u001b[0m\u001b[0;34m\u001b[0m\u001b[0m\n\u001b[0m\u001b[1;32m     20\u001b[0m \u001b[0mprint\u001b[0m\u001b[0;34m(\u001b[0m\u001b[0;34m\"flat:\"\u001b[0m\u001b[0;34m,\u001b[0m \u001b[0m_out\u001b[0m\u001b[0;34m.\u001b[0m\u001b[0msize\u001b[0m\u001b[0;34m(\u001b[0m\u001b[0;34m)\u001b[0m\u001b[0;34m)\u001b[0m\u001b[0;34m\u001b[0m\u001b[0m\n\u001b[1;32m     21\u001b[0m \u001b[0;34m\u001b[0m\u001b[0m\n",
      "\u001b[0;31mRuntimeError\u001b[0m: shape '[-1, 1216]' is invalid for input of size 401408"
     ]
    }
   ],
   "source": [
    "# batch=128, in_channels=2, height(num of tokens)=100, width(length of word2vec)=400\n",
    "_in = torch.randn(128, 2, 100, 400)\n",
    "\n",
    "# in_channels=2, out_channels=32, kernel_size=(3, 400)\n",
    "tmp_mod = torch.nn.Conv2d(2, 64, kernel_size=(3, 400), groups=2)\n",
    "\n",
    "_out = tmp_mod(_in)\n",
    "print(\"conv1:\", _out.size())\n",
    "\n",
    "_out = F.relu(_out)\n",
    "print(\"relu:\", _out.size())\n",
    "\n",
    "_out = torch.squeeze(_out)\n",
    "print(\"squeeze:\", _out.size())\n",
    "\n",
    "_out = F.max_pool1d(_out, 2)\n",
    "print(\"max_pool1d:\", _out.size())\n",
    "\n",
    "_out = _out.view(-1, 2 * 32 * 19)\n",
    "print(\"flat:\", _out.size())\n",
    "\n",
    "f1 = nn.Linear(1216, 64)\n",
    "_out = f1(_out)\n",
    "_out = F.relu(_out)\n",
    "print(\"f1:\", _out.size())\n",
    "\n",
    "f2 = nn.Linear(64, 32)\n",
    "_out = f2(_out)\n",
    "_out = F.relu(_out)\n",
    "print(\"f2:\", _out.size())\n",
    "\n",
    "f3 = nn.Linear(32, 1)\n",
    "_out = f3(_out)\n",
    "# _out = F.relu(_out)\n",
    "print(\"f3:\", _out.size())\n",
    "\n",
    "probs = F.softmax(_out, 1)\n",
    "print(probs)\n",
    "torch.max(probs, 1)[1]\n",
    "    \n"
   ]
  },
  {
   "cell_type": "code",
   "execution_count": 97,
   "metadata": {},
   "outputs": [],
   "source": [
    "# make train dataset\n",
    "\n",
    "import random\n",
    "\n",
    "with open(\"data/train_dataset.txt\", \"w\") as f:\n",
    "    lines = []\n",
    "    for line in open(\"data/0-train.txt\"):\n",
    "        lines.append(\"0\\t{}\".format(line))\n",
    "    for line in open(\"data/1-train.txt\"):\n",
    "        lines.append(\"1\\t{}\".format(line))\n",
    "    random.shuffle(lines)\n",
    "    \n",
    "    for line in lines:\n",
    "        f.write(line)"
   ]
  },
  {
   "cell_type": "code",
   "execution_count": 2,
   "metadata": {},
   "outputs": [],
   "source": [
    "class Config:\n",
    "    def __init__(self):\n",
    "        self.train_file = \"data/train_dataset.txt\"\n",
    "        self.train_batch_size = 128\n",
    "        \n",
    "        self.learning_rate = 0.001\n",
    "        self.window_size = 3\n",
    "        self.num_classes = 2\n",
    "        \n",
    "        self.num_epochs = 10\n",
    "        self.train_steps = None\n",
    "        \n",
    "        self.summary_interval = 100\n",
    "        \n",
    "config = Config()"
   ]
  },
  {
   "cell_type": "raw",
   "metadata": {},
   "source": [
    "10 条信息，2 Input，40 词，每个词400向量"
   ]
  },
  {
   "cell_type": "code",
   "execution_count": 3,
   "metadata": {},
   "outputs": [
    {
     "name": "stdout",
     "output_type": "stream",
     "text": [
      "Loading wv1 ...\n",
      "CPU times: user 1.22 s, sys: 720 ms, total: 1.94 s\n",
      "Wall time: 4.33 s\n",
      "Loading wv2 ...\n",
      "CPU times: user 44.1 s, sys: 3.02 s, total: 47.1 s\n",
      "Wall time: 47.2 s\n"
     ]
    }
   ],
   "source": [
    "def read_wv1():\n",
    "    print(\"Loading wv1 ...\")\n",
    "    return Word2Vec.load(\"model/word2vec.mod\")\n",
    "        \n",
    "def read_wv2():\n",
    "    print(\"Loading wv2 ...\")\n",
    "    return word2vecReader.Word2Vec.load_word2vec_format(\n",
    "        \"/media/alex/data/word2vec_twitter_model/word2vec_twitter_model.bin\", binary=True)\n",
    "    \n",
    "%time _wv1 = read_wv1()\n",
    "%time _wv2 = read_wv2()"
   ]
  },
  {
   "cell_type": "code",
   "execution_count": 3,
   "metadata": {},
   "outputs": [],
   "source": [
    "cnt = 0\n",
    "\n",
    "class Dataset:\n",
    "    def __init__(self, filepath, batch_size):\n",
    "        self._file = open(filepath)\n",
    "#         self._wv1 = _wv1\n",
    "#         self._wv2 = _wv2\n",
    "        self._batch_size = batch_size\n",
    "        self._reset()\n",
    "        \n",
    "#     def wv1(self, line):\n",
    "#         v = np.zeros(40 * 400).reshape(40, 400)\n",
    "#         words = line.strip().split(\" \")\n",
    "#         _index = 0\n",
    "#         for w in words:\n",
    "#             if _index >= 40:\n",
    "#                 break\n",
    "#             if w in self._wv1.wv:\n",
    "#                 v[_index] = self._wv1.wv[w]\n",
    "#                 _index += 1\n",
    "#         return v\n",
    "\n",
    "#     def wv2(self, line):\n",
    "#             v = np.zeros(40 * 400).reshape(40, 400)\n",
    "#             words = line.strip().split(\" \")\n",
    "#             _index = 0\n",
    "#             for w in words:\n",
    "#                 if _index >= 40:\n",
    "#                     break\n",
    "#                 if w in self._wv2:\n",
    "#                     v[_index] = self._wv2[w]\n",
    "#                     _index += 1\n",
    "#             return v\n",
    "\n",
    "    # 迭代时候每次先调用__iter__，初始化\n",
    "    # 接着调用__next__返回数据\n",
    "    # 如果没有buffer的时候，就补充数据_fill_buffer\n",
    "    # 如果buffer补充后仍然为空，则停止迭代\n",
    "\n",
    "    def __iter__(self):\n",
    "        self._reset()\n",
    "        return self\n",
    "    \n",
    "    def _fill_buffer(self, size):\n",
    "        global cnt\n",
    "\n",
    "        if self._buff_count < self._batch_size:\n",
    "            print(\"buffer空了，补充数据 ...\")\n",
    "            for line in self._file:\n",
    "                try:\n",
    "                    label, sentence = line.strip().split(\"\\t\")\n",
    "                except ValueError:\n",
    "                    continue\n",
    "                label = int(label.strip())\n",
    "                # sequence1 = self.wv1(sentence)\n",
    "                # sequence2 = self.wv2(sentence)\n",
    "                \n",
    "                sequence1 = np.zeros(40 * 400).reshape(40, 400)\n",
    "                sequence2 = np.zeros(40 * 400).reshape(40, 400)\n",
    "                \n",
    "                self._buff_count += 1\n",
    "                self._buffer.append((label, [sequence1, sequence2]))\n",
    "                ## 直到满足size\n",
    "                \n",
    "                if self._buff_count >= size:\n",
    "                    break\n",
    "                    \n",
    "                cnt += 1\n",
    "                if cnt % 50000 == 0:\n",
    "                    print(cnt)\n",
    "            self._buffer_iter = iter(self._buffer)\n",
    "    \n",
    "    def __next__(self):\n",
    "        self._fill_buffer(self._batch_size * 1000) # 每次读1024个batch作为buffer\n",
    "        \n",
    "        if self._buff_count == 0: # After filling, still empty, stop iter!\n",
    "            raise StopIteration\n",
    "                \n",
    "        # global cnt\n",
    "        label_batch = []\n",
    "        sequence_batch = []\n",
    "        for label, sequence in self._buffer_iter:\n",
    "            self._buff_count -= 1\n",
    "            label_batch.append(label)\n",
    "            sequence_batch.append(sequence)\n",
    "            if len(label_batch) == self._batch_size:\n",
    "                break\n",
    "\n",
    "\n",
    "        return {\"sequences\": np.array(sequence_batch), \"labels\": label_batch, }\n",
    "\n",
    "    def _reset(self):\n",
    "        self._file.seek(0)\n",
    "        self._buffer = []\n",
    "        self._buffer_iter = None\n",
    "        self._buff_count = 0\n",
    "        \n",
    "    def get_testdata(self):\n",
    "        labels = []\n",
    "        sequences = []\n",
    "        for line in open(\"data/0-test.txt\"):\n",
    "            labels.append(0)\n",
    "            sequences.append([self.wv1(line), self.wv2(line)])\n",
    "        for line in open(\"data/1-test.txt\"):\n",
    "            labels.append(1)\n",
    "            sequences.append([self.wv1(line), self.wv2(line)])\n",
    "        return torch.LongTensor(labels), torch.Tensor(sequences)\n",
    "\n",
    "    \n",
    "train_set = Dataset(config.train_file, config.train_batch_size)\n",
    "# %time test_labels, test_X = train_set.get_testdata()"
   ]
  },
  {
   "cell_type": "code",
   "execution_count": null,
   "metadata": {},
   "outputs": [
    {
     "name": "stdout",
     "output_type": "stream",
     "text": [
      "buffer空了，补充数据 ...\n",
      "50000\n",
      "100000\n",
      "0 torch.Size([128, 2, 40, 400]) torch.Size([128])\n",
      "500 torch.Size([128, 2, 40, 400]) torch.Size([128])\n",
      "buffer空了，补充数据 ...\n",
      "150000\n",
      "200000\n",
      "250000\n",
      "1000 torch.Size([128, 2, 40, 400]) torch.Size([128])\n",
      "1500 torch.Size([128, 2, 40, 400]) torch.Size([128])\n",
      "buffer空了，补充数据 ...\n",
      "300000\n",
      "350000\n",
      "2000 torch.Size([128, 2, 40, 400]) torch.Size([128])\n",
      "2500 torch.Size([128, 2, 40, 400]) torch.Size([128])\n",
      "buffer空了，补充数据 ...\n",
      "400000\n"
     ]
    }
   ],
   "source": [
    "for i, batch in enumerate(train_set):\n",
    "    if i % 500 == 0:\n",
    "        sequences = torch.Tensor(batch[\"sequences\"])\n",
    "        labels = torch.LongTensor(batch[\"labels\"])\n",
    "        print(i, sequences.size(), labels.size())"
   ]
  },
  {
   "cell_type": "code",
   "execution_count": 20,
   "metadata": {},
   "outputs": [],
   "source": [
    "class CNNClassifier(nn.Module):\n",
    "    def __init__(self):\n",
    "        super(CNNClassifier, self).__init__()\n",
    "\n",
    "        # 2 in- channels, 32 out- channels, 3 * 400 windows size\n",
    "        self.conv = torch.nn.Conv2d(2, 64, kernel_size=(3, 400), groups=2) \n",
    "        self.f1 = nn.Linear(1216, 64)\n",
    "        self.f2 = nn.Linear(64, 32)\n",
    "        self.f3 = nn.Linear(32, 2)\n",
    "\n",
    "    def forward(self, x):\n",
    "        out = self.conv(x)\n",
    "        out = F.relu(out)\n",
    "        out = torch.squeeze(out)\n",
    "        out = F.max_pool1d(out, 2)\n",
    "        out = out.view(-1, 2 * 32 * 19) # 9 is after pooling\n",
    "        out = F.relu(self.f1(out))\n",
    "        out = F.relu(self.f2(out))\n",
    "        out = self.f3(out)\n",
    "        # print(out.size())\n",
    "        \n",
    "        probs = F.softmax(out, dim=1)\n",
    "        # print(probs)\n",
    "        classes = torch.max(probs, 1)[1]\n",
    "\n",
    "        return probs, classes\n",
    "    \n"
   ]
  },
  {
   "cell_type": "code",
   "execution_count": null,
   "metadata": {},
   "outputs": [
    {
     "name": "stderr",
     "output_type": "stream",
     "text": [
      "INFO\t2018-11-26 19:14:19,993\t==================== Epoch: 1 ====================\n"
     ]
    },
    {
     "name": "stdout",
     "output_type": "stream",
     "text": [
      "buffer空了，补充数据 ...\n"
     ]
    },
    {
     "name": "stderr",
     "output_type": "stream",
     "text": [
      "INFO\t2018-11-26 19:14:29,585\tstep = 0, loss = 0.7093743681907654\n",
      "INFO\t2018-11-26 19:14:37,474\tstep = 100, loss = 0.6470441317558289\n",
      "INFO\t2018-11-26 19:14:43,797\tstep = 200, loss = 0.6051749521493912\n",
      "INFO\t2018-11-26 19:14:50,283\tstep = 300, loss = 0.5732173711061478\n",
      "INFO\t2018-11-26 19:14:56,350\tstep = 400, loss = 0.558872994184494\n",
      "INFO\t2018-11-26 19:15:03,328\tstep = 500, loss = 0.5485111489892006\n",
      "INFO\t2018-11-26 19:15:09,534\tstep = 600, loss = 0.5401800882816314\n",
      "INFO\t2018-11-26 19:15:16,229\tstep = 700, loss = 0.5370687690377235\n",
      "INFO\t2018-11-26 19:15:22,392\tstep = 800, loss = 0.5362289342284202\n",
      "INFO\t2018-11-26 19:15:28,223\tstep = 900, loss = 0.5305288290977478\n"
     ]
    },
    {
     "name": "stdout",
     "output_type": "stream",
     "text": [
      "buffer空了，补充数据 ...\n"
     ]
    }
   ],
   "source": [
    "import logging\n",
    "logging.basicConfig(format=\"%(levelname)s\\t%(asctime)s\\t%(message)s\", level=logging.INFO)\n",
    "\n",
    "from tensorboardX import SummaryWriter\n",
    "from sklearn.metrics import classification_report\n",
    "\n",
    "\n",
    "def train():\n",
    "\n",
    "    loss_function = nn.CrossEntropyLoss()\n",
    "    optimizer = optim.Adam(model.parameters(), lr=config.learning_rate)\n",
    "\n",
    "    writer = SummaryWriter(log_dir=\"log\")\n",
    "    \n",
    "    epoch = 0\n",
    "    step = 0\n",
    "\n",
    "    for epoch in range(1, config.num_epochs + 1):\n",
    "        logging.info(\"==================== Epoch: {} ====================\".format(epoch))\n",
    "        running_losses = []\n",
    "        for batch in train_set:\n",
    "\n",
    "            sequences = torch.Tensor(batch[\"sequences\"])\n",
    "            labels = torch.LongTensor(batch[\"labels\"])\n",
    "\n",
    "            # Predict\n",
    "            try:\n",
    "                probs, classes = model(sequences)\n",
    "            except:\n",
    "                print(sequences.size(), labels.size())\n",
    "                exit(-1)\n",
    "\n",
    "            # Backpropagation\n",
    "            optimizer.zero_grad()\n",
    "            losses = loss_function(probs, labels)\n",
    "            losses.backward()\n",
    "            optimizer.step()\n",
    "\n",
    "            # Log summary\n",
    "            running_losses.append(losses.data.item())\n",
    "            if step % config.summary_interval == 0:\n",
    "                loss = sum(running_losses) / len(running_losses)\n",
    "                writer.add_scalar(\"train/loss\", loss, step)\n",
    "                logging.info(\"step = {}, loss = {}\".format(step, loss))\n",
    "                running_losses = []\n",
    "            \n",
    "            step += 1\n",
    "        \n",
    "        # Classification report\n",
    "        probs, y_pred = model(test_X)\n",
    "        target_names = ['pro-hillary', 'pro-trump']\n",
    "        print(classification_report(test_labels, y_pred, target_names=target_names))\n",
    "\n",
    "        epoch += 1\n",
    "        \n",
    "model = CNNClassifier()\n",
    "train()"
   ]
  },
  {
   "cell_type": "code",
   "execution_count": null,
   "metadata": {},
   "outputs": [],
   "source": []
  }
 ],
 "metadata": {
  "kernelspec": {
   "display_name": "Python 3",
   "language": "python",
   "name": "python3"
  },
  "language_info": {
   "codemirror_mode": {
    "name": "ipython",
    "version": 3
   },
   "file_extension": ".py",
   "mimetype": "text/x-python",
   "name": "python",
   "nbconvert_exporter": "python",
   "pygments_lexer": "ipython3",
   "version": "3.6.6"
  }
 },
 "nbformat": 4,
 "nbformat_minor": 2
}
