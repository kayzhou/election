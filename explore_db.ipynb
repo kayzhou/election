{
 "cells": [
  {
   "cell_type": "code",
   "execution_count": 27,
   "metadata": {},
   "outputs": [],
   "source": [
    "import sqlite3\n",
    "DB1_NAME = \"/home/alex/network_workdir/elections/databases_ssd/complete_trump_vs_hillary_db.sqlite\"\n",
    "DB2_NAME = \"/home/alex/network_workdir/elections/databases_ssd/complete_trump_vs_hillary_sep-nov_db.sqlite\""
   ]
  },
  {
   "cell_type": "code",
   "execution_count": 3,
   "metadata": {},
   "outputs": [
    {
     "name": "stdout",
     "output_type": "stream",
     "text": [
      "('class_proba',)\n",
      "('filename',)\n",
      "('hashtag',)\n",
      "('hashtag_tweet_user',)\n",
      "('query',)\n",
      "('retweeted_status',)\n",
      "('source_content',)\n",
      "('source_url',)\n",
      "('tweet',)\n",
      "('tweet_to_keyword',)\n",
      "('tweet_to_mentioned_uid',)\n",
      "('tweet_to_query_id',)\n",
      "('tweet_to_quoted_uid',)\n",
      "('tweet_to_replied_uid',)\n",
      "('tweet_to_retweeted_uid',)\n",
      "('url_retweet_user',)\n",
      "('url_tweet_user',)\n",
      "('user',)\n"
     ]
    },
    {
     "data": {
      "text/plain": [
       "'~'"
      ]
     },
     "execution_count": 3,
     "metadata": {},
     "output_type": "execute_result"
    }
   ],
   "source": [
    "# conn = sqlite3.connect(\"/home/alex/network_workdir/elections/databases_ssd/complete_trump_vs_hillary_db.sqlite\")\n",
    "conn = sqlite3.connect(\"/home/alex/network_workdir/elections/databases_ssd/complete_trump_vs_hillary_sep-nov_db.sqlite\")\n",
    "c = conn.cursor()\n",
    "# c.execute(\"SELECT count(*) FROM tweet_to_retweeted_uid LIMIT 1;\")\n",
    "c.execute('''SELECT name FROM sqlite_master WHERE type='table' ORDER BY name;''')\n",
    "[print (i) for i in c.fetchall()]\n",
    "\"~\""
   ]
  },
  {
   "cell_type": "code",
   "execution_count": 3,
   "metadata": {
    "scrolled": false
   },
   "outputs": [
    {
     "name": "stdout",
     "output_type": "stream",
     "text": [
      "------------------------------ TABLE class_proba ------------------------------\n",
      "count： (73144701,)\n",
      "tweet_id\t\t737807390339272705\n",
      "user_id\t\t889979617\n",
      "p_pro_hillary_anti_trump\t\t0.03588533096244831\n",
      "\n",
      "------------------------------ TABLE filename ------------------------------\n",
      "count： (962,)\n",
      "id\t\t0\n",
      "filename\t\ttweets-7be35b04-dc82-4943-a8c9-ae8d98f11ab1.taj\n",
      "\n",
      "------------------------------ TABLE hashtag ------------------------------\n",
      "count： (219669,)\n",
      "id\t\t0\n",
      "hashtag\t\ttrump\n",
      "count\t\t2243684\n",
      "\n",
      "------------------------------ TABLE hashtag_tweet_user ------------------------------\n",
      "count： (34678790,)\n",
      "tweet_id\t\t737848312003366913\n",
      "hashtag\t\thannity\n",
      "user_id\t\t2248442846\n",
      "ht_group\t\tNone\n",
      "ht_group_filt\t\tNone\n",
      "ht_group_labprop\t\tNone\n",
      "ht_group_labprop_filt\t\tNone\n",
      "ht_signi_initial\t\tNone\n",
      "ht_signi_final\t\tNone\n",
      "ht_signi_final_rnd09_1\t\tNone\n",
      "ht_signi_final_rnd09_2\t\tNone\n",
      "ht_signi_final_rnd09_3\t\tNone\n",
      "\n",
      "------------------------------ TABLE influencer_rank_date ------------------------------\n",
      "count： (92000,)\n",
      "index\t\t0\n",
      "CI\t\t5721418770\n",
      "deg\t\t67404\n",
      "rank\t\t1\n",
      "start_date\t\t2016-08-14 00:00:00\n",
      "user_id\t\t25073877\n",
      "username\t\t@realDonaldTrump\n",
      "graph_type\t\tall\n",
      "directed\t\t1\n",
      "remove_candidates\t\t0\n",
      "use_CP\t\t0\n",
      "treelike\t\t1\n",
      "force_simple_graph\t\t1\n",
      "ball_rad\t\t2\n",
      "time_window_H\t\t24.0\n",
      "\n",
      "------------------------------ TABLE query ------------------------------\n",
      "count： (4,)\n",
      "id\t\t0\n",
      "query\t\thillary OR clinton OR hillaryclinton\n",
      "\n",
      "------------------------------ TABLE rand_tweet_id_sample ------------------------------\n",
      "count： (10000,)\n",
      "row_id\t\t1\n",
      "tweet_id\t\t758354436519440384\n",
      "\n",
      "------------------------------ TABLE retweet_class_proba ------------------------------\n",
      "count： (6547439,)\n",
      "tweet_id\t\t478925052\n",
      "user_id\t\t1367531\n",
      "p_pro_hillary_anti_trump\t\t0.9227507368245585\n",
      "\n",
      "------------------------------ TABLE retweeted_status ------------------------------\n",
      "count： (6677928,)\n",
      "tweet_id\t\t478925052\n",
      "query_id\t\t1\n",
      "filename_id\t\t766\n",
      "datetime_EST\t\t2007-12-07 12:47:09\n",
      "user_id\t\t1367531\n",
      "text\t\tFOX LIFE: Report: Trump Says He's Not a Big Tipper http://tinyurl.com/yqa4mm\n",
      "place\t\tNone\n",
      "source_url_id\t\t2\n",
      "source_content_id\t\t2\n",
      "\n",
      "------------------------------ TABLE source_content ------------------------------\n",
      "count： (21437,)\n",
      "id\t\t0\n",
      "source_content\t\tTwitter for iPhone\n",
      "\n",
      "------------------------------ TABLE source_url ------------------------------\n",
      "count： (16985,)\n",
      "id\t\t0\n",
      "source_url\t\thttp://twitter.com/download/iphone\n",
      "\n",
      "------------------------------ TABLE tweet ------------------------------\n",
      "count： (73144701,)\n",
      "tweet_id\t\t737807390339272705\n",
      "query_id\t\t3\n",
      "filename_id\t\t942\n",
      "datetime_EST\t\t2016-05-31 19:46:04\n",
      "user_id\t\t889979617\n",
      "text\t\tRT @Patriotvnvet: @LouDobbs @realDonaldTrump @EdRollins @mgoodwin_nypost Can't believe Kristol still works for the #WeaklyStandard dump him…\n",
      "place\t\tNone\n",
      "source_url_id\t\t0\n",
      "source_content_id\t\t0\n",
      "p_pro_hillary_anti_trump\t\tNone\n",
      "\n",
      "------------------------------ TABLE tweet_to_keyword ------------------------------\n",
      "count： (90759421,)\n",
      "tweet_id\t\t737848310833152000\n",
      "keyword\t\thillary\n",
      "\n",
      "------------------------------ TABLE tweet_to_mentioned_uid ------------------------------\n",
      "count： (35369736,)\n",
      "tweet_id\t\t737848312003366913\n",
      "mentioned_uid\t\t1339835893\n",
      "author_uid\t\t2248442846\n",
      "\n",
      "------------------------------ TABLE tweet_to_query_id ------------------------------\n",
      "count： (79340045,)\n",
      "tweet_id\t\t737848310833152000\n",
      "query_id\t\t0\n",
      "\n",
      "------------------------------ TABLE tweet_to_quoted_uid ------------------------------\n",
      "count： (2520748,)\n",
      "tweet_id\t\t737807439324549121\n",
      "quoted_uid\t\t25073877\n",
      "author_uid\t\t711279013717618688\n",
      "\n",
      "------------------------------ TABLE tweet_to_replied_uid ------------------------------\n",
      "count： (9973719,)\n",
      "tweet_id\t\t737807407645118464\n",
      "replied_uid\t\t759251\n",
      "author_uid\t\t92019963\n",
      "\n",
      "------------------------------ TABLE tweet_to_retweeted_uid ------------------------------\n",
      "count： (46852169,)\n",
      "tweet_id\t\t737807390339272705\n",
      "retweeted_uid\t\t606507498\n",
      "author_uid\t\t889979617\n",
      "retweet_id\t\t737801667786113024\n",
      "\n",
      "------------------------------ TABLE url_retweet_user ------------------------------\n",
      "count： (3484105,)\n",
      "tweet_id\t\t737630832630894592\n",
      "url\t\thttp://gridironnow.com/hugh-freeze-sec-spring-meetings/\n",
      "user_id\t\t61098439\n",
      "indice_start\t\t117\n",
      "\n",
      "------------------------------ TABLE url_tweet_user ------------------------------\n",
      "count： (34264463,)\n",
      "tweet_id\t\t737848314129833984\n",
      "url\t\thttp://www.wsj.com/articles/clinton-might-not-be-the-nominee-1464733898\n",
      "user_id\t\t138331342\n",
      "indice_start\t\t88\n",
      "\n",
      "------------------------------ TABLE user ------------------------------\n",
      "count： (6745388,)\n",
      "user_id\t\t16\n",
      "first_location\t\tNone\n",
      "first_tweet_time_EST\t\t2016-07-22 23:54:00\n",
      "latest_tweet_time_EST\t\t2016-08-08 23:06:43\n",
      "num_tweet\t\t4\n",
      "\n"
     ]
    }
   ],
   "source": [
    "def describe(table):\n",
    "    print(\"-\" * 30, \"TABLE\", table, \"-\" * 30)\n",
    "    c.execute(\"SELECT count(*) FROM '{}';\".format(table))\n",
    "    d = c.fetchone()\n",
    "    print('count：', d)\n",
    "\n",
    "    c.execute(\"SELECT * FROM '{}' LIMIT 1;\".format(table))\n",
    "    col_name = [t[0] for t in c.description]\n",
    "    d = c.fetchone()\n",
    "    for k, v in zip(col_name, d):\n",
    "        print(k, v, sep=\"\\t\\t\")\n",
    "    print(\"\")\n",
    "        \n",
    "c.execute('''SELECT name FROM sqlite_master WHERE type='table' ORDER BY name;''')\n",
    "for table in c.fetchall():\n",
    "    describe(table[0])\n",
    "conn.close()"
   ]
  },
  {
   "cell_type": "code",
   "execution_count": 8,
   "metadata": {},
   "outputs": [
    {
     "name": "stdout",
     "output_type": "stream",
     "text": [
      "(771131463383285761, 'usa', 3192506298, None, None)\n",
      "(771131463383285761, 'milo', 3192506298, None, None)\n",
      "(771131463383285761, 'hillary', 3192506298, None, None)\n",
      "(771131463928541184, 'trumpenmexico', 737672808059285504, None, None)\n",
      "(771131463928541184, 'louisianaflood', 737672808059285504, None, None)\n",
      "(771131464234766336, 'clinton', 164367865, None, None)\n",
      "(771131464234766336, 'freeland', 164367865, None, None)\n",
      "(771131466109558784, 'trumpenmexico', 831082747, None, None)\n",
      "(771131466172342272, 'mexico', 30244836, None, None)\n",
      "(771131467430662144, 'trumpenmexico', 3170692550, None, None)\n",
      "(771131471570624512, 'hillary', 770681636874772480, None, None)\n",
      "(771131471570624512, 'trump', 770681636874772480, None, None)\n",
      "(771131471570624512, 'vote', 770681636874772480, None, None)\n",
      "(771131472631717888, 'greta', 2284999053, None, None)\n",
      "(771131472929366016, 'lockherup', 18929394, 'ht_anti_hillary', 'ht_anti_hillary')\n",
      "(771131472929366016, 'maga', 18929394, 'ht_pro_trump', 'ht_pro_trump')\n",
      "(771131473785155584, 'clintonfdn', 722050493443371008, None, None)\n",
      "(771131473785155584, 'legaltech', 722050493443371008, None, None)\n",
      "(771131473785155584, 'tech', 722050493443371008, None, None)\n",
      "(771131473990529025, 'hillaryclinton', 2845681325, None, None)\n",
      "(771131474615541761, 'hillaryclinton', 711305198421946368, None, None)\n",
      "(771131476179980288, 'trumpenmexico', 15593938, None, None)\n",
      "(771131476205199360, 'nhtogether', 2421228369, None, None)\n",
      "(771131476205199360, 'nhpolitics', 2421228369, None, None)\n",
      "(771131477673119744, 'poll', 3381686297, None, None)\n",
      "(771131478029635585, 'trumpenmexico', 216044706, None, None)\n",
      "(771131479334252545, 'gold', 770979410245738496, None, None)\n",
      "(771131479883653123, 'lockherup', 754329137993617408, 'ht_anti_hillary', 'ht_anti_hillary')\n",
      "(771131479883653123, 'maga', 754329137993617408, 'ht_pro_trump', 'ht_pro_trump')\n",
      "(771131481703886849, 'maga', 2941629111, 'ht_pro_trump', 'ht_pro_trump')\n",
      "(771131481783726080, 'latinosfortrump', 3263253388, 'ht_pro_trump', 'ht_pro_trump')\n",
      "(771131481989140480, 'wakeupamerica', 706290087122771968, None, None)\n",
      "(771131481989140480, 'hillaryclinton', 706290087122771968, None, None)\n",
      "(771131483343826944, 'hillary', 377884141, None, None)\n",
      "(771131483343826944, 'tcot', 377884141, None, None)\n",
      "(771131483377528832, 'alconvention2016', 615264758, None, None)\n",
      "(771131484249792512, 'trumpenmexico', 4417764312, None, None)\n",
      "(771131485289971712, 'hillaryshealth', 3903729619, None, None)\n",
      "(771131485289971712, 'sickhillary', 3903729619, 'ht_anti_hillary', 'ht_anti_hillary')\n",
      "(771131485592182784, 'benghazi', 165158213, None, None)\n",
      "(771131485592182784, 'wakeupamerica', 165158213, None, None)\n",
      "(771131485675847680, 'nevertrump', 481461219, 'ht_anti_trump', 'ht_anti_trump')\n",
      "(771131485722062852, 'soros', 739470325, None, None)\n",
      "(771131485722062852, 'nwo', 739470325, None, None)\n",
      "(771131485722062852, 'infowars', 739470325, None, None)\n",
      "(771131487466819584, 'imwithher', 496166593, 'ht_pro_hillary', 'ht_pro_hillary')\n",
      "(771131487466819584, 'trumpenmexico', 496166593, None, None)\n",
      "(771131489413017601, 'bridgetjonesbaby', 553035539, None, None)\n",
      "(771131489413017601, 'bjbplano', 553035539, None, None)\n",
      "(771131489413017601, 'teammark', 553035539, None, None)\n",
      "(771131490184953856, 'rt', 3064430554, None, None)\n",
      "(771131490184953856, 'hillary', 3064430554, None, None)\n",
      "(771131490184953856, 'establishment', 3064430554, None, None)\n",
      "(771131490855817216, 'louisianaflood', 2989137306, None, None)\n",
      "(771131492558893058, 'nohillary2016', 708692489604042752, None, 'ht_anti_hillary')\n",
      "(771131493305479168, 'hillaryshealth', 2329435819, None, None)\n",
      "(771131494295363584, 'wednesdaywisdom', 564693440, None, None)\n",
      "(771131494295363584, 'maga', 564693440, 'ht_pro_trump', 'ht_pro_trump')\n",
      "(771131494295363584, 'trumppence16', 564693440, 'ht_pro_trump', 'ht_pro_trump')\n",
      "(771131494450532352, 'trumpenmexico', 3178378377, None, None)\n",
      "(771131495255859204, 'hillary', 4587046452, None, None)\n",
      "(771131496379846656, 'clintonfoundation', 1730407724, None, None)\n",
      "(771131496379846656, 'trumpenmexico', 1730407724, None, None)\n",
      "(771131496392302592, 'video', 735371137790660609, None, None)\n",
      "(771131497747144704, 'trumpinmexico', 2421228369, None, None)\n",
      "(771131497839464448, 'crookedhillary', 741649428361170944, 'ht_anti_hillary', 'ht_anti_hillary')\n",
      "(771131497839464448, 'neverhillary', 741649428361170944, 'ht_anti_hillary', 'ht_anti_hillary')\n",
      "(771131498674008064, 'evil', 738721186826178563, None, None)\n",
      "(771131498674008064, 'confesses', 738721186826178563, None, None)\n",
      "(771131498674008064, 'murder', 738721186826178563, None, None)\n",
      "(771131498674008064, 'neverhillary', 738721186826178563, 'ht_anti_hillary', 'ht_anti_hillary')\n",
      "(771131498674008064, 'lockherup', 738721186826178563, 'ht_anti_hillary', 'ht_anti_hillary')\n",
      "(771131498674008064, 'demexit', 738721186826178563, None, None)\n",
      "(771131499345313792, 'trumpenmexico', 358929612, None, None)\n",
      "(771131499433164800, 'buildthewal', 703074596598120449, None, None)\n",
      "(771131499521437696, 'hillaryshealth', 737672808059285504, None, None)\n",
      "(771131499521437696, 'trumpenmexico', 737672808059285504, None, None)\n",
      "(771131500117037056, 'latinosfortrump', 306924364, 'ht_pro_trump', 'ht_pro_trump')\n",
      "(771131500343328768, 'trumpenmexico', 121217779, None, None)\n",
      "(771131502142763008, 'clintonfoundation', 14797687, None, None)\n",
      "(771131502293909509, 'trumpenmexico', 1547356278, None, None)\n",
      "(771131502381760513, 'gold', 4345880113, None, None)\n",
      "(771131502432284672, 'trump', 99808179, None, None)\n",
      "(771131502432284672, 'hillary', 99808179, None, None)\n",
      "(771131504571224064, 'hillaryclinton', 169781662, None, None)\n",
      "(771131504571224064, 'gop', 169781662, None, None)\n",
      "(771131504571224064, 'imwithher', 169781662, 'ht_pro_hillary', 'ht_pro_hillary')\n",
      "(771131504571224064, 'dems', 169781662, None, None)\n",
      "(771131504726515712, 'politicoquiz', 712007602843082752, None, None)\n",
      "(771131505141686272, 'trump', 716336900332658689, None, None)\n",
      "(771131505141686272, 'blackoutcnn', 716336900332658689, None, None)\n",
      "(771131505192173568, 'trumpenmexico', 874641966, None, None)\n",
      "(771131505728901120, 'potus', 759436841036705792, None, None)\n",
      "(771131505728901120, 'obama', 759436841036705792, None, None)\n",
      "(771131505728901120, 'clinton', 759436841036705792, None, None)\n",
      "(771131505728901120, 'maga', 759436841036705792, 'ht_pro_trump', 'ht_pro_trump')\n",
      "(771131506248982528, 'latinosfortrump', 3399349145, 'ht_pro_trump', 'ht_pro_trump')\n",
      "(771131506769203201, 'trumpenmexico', 21060711, None, None)\n",
      "(771131506920161280, 'trumpinmexico', 2371031778, None, None)\n",
      "(771131506920161280, 'trump', 2371031778, None, None)\n"
     ]
    }
   ],
   "source": [
    "c.execute('''SELECT * FROM hashtag_tweet_user limit 100''')\n",
    "col_name = [t[0] for t in c.description]\n",
    "d = c.fetchall()\n",
    "for _d in d:\n",
    "    print(_d)"
   ]
  },
  {
   "cell_type": "raw",
   "metadata": {},
   "source": [
    "# 关键fake news\n",
    "\n",
    "tid = 742417158429233152\n",
    "\n",
    "c.execute('''SELECT * FROM tweet WHERE tweet_id={};'''.format(tid))\n",
    "col_name = [t[0] for t in c.description]\n",
    "d = c.fetchone()\n",
    "print(d)\n",
    "for k, v in zip(col_name, d):\n",
    "    print(k, v, sep=\"\\t\")\n",
    "print(\"-\" * 100)\n",
    "\n",
    "c.execute('''SELECT * FROM retweeted_status WHERE tweet_id={};'''.format(tid))\n",
    "col_name = [t[0] for t in c.description]\n",
    "d = c.fetchone()\n",
    "for k, v in zip(col_name, d):\n",
    "    print(k, v, sep=\"\\t\")\n",
    "print(\"-\" * 100)\n",
    "\n",
    "c.execute('''SELECT * FROM class_proba WHERE tweet_id={};'''.format(tid))\n",
    "col_name = [t[0] for t in c.description]\n",
    "d = c.fetchone()\n",
    "if d:\n",
    "    for k, v in zip(col_name, d):\n",
    "        print(k, v, sep=\"\\t\")\n",
    "else:\n",
    "    print(\"是原创的tweet！\")\n",
    "print(\"-\" * 100)\n",
    "\n",
    "c.execute('''SELECT * FROM url_tweet_user WHERE tweet_id={};'''.format(tid))\n",
    "col_name = [t[0] for t in c.description]\n",
    "d = c.fetchone()\n",
    "for k, v in zip(col_name, d):\n",
    "    print(k, v, sep=\"\\t\")\n",
    "\n",
    "c.execute('''SELECT * FROM user WHERE user_id={};'''.format(39344374))\n",
    "col_name = [t[0] for t in c.description]\n",
    "d = c.fetchone()\n",
    "for k, v in zip(col_name, d):\n",
    "    print(k, v, sep=\"\\t\")\n",
    "print(\"-\" * 100)"
   ]
  },
  {
   "cell_type": "code",
   "execution_count": 1,
   "metadata": {},
   "outputs": [
    {
     "ename": "NameError",
     "evalue": "name 'sqlite3' is not defined",
     "output_type": "error",
     "traceback": [
      "\u001b[0;31m---------------------------------------------------------------------------\u001b[0m",
      "\u001b[0;31mNameError\u001b[0m                                 Traceback (most recent call last)",
      "\u001b[0;32m<ipython-input-1-b8b25789de4e>\u001b[0m in \u001b[0;36m<module>\u001b[0;34m\u001b[0m\n\u001b[0;32m----> 1\u001b[0;31m \u001b[0mconn\u001b[0m \u001b[0;34m=\u001b[0m \u001b[0msqlite3\u001b[0m\u001b[0;34m.\u001b[0m\u001b[0mconnect\u001b[0m\u001b[0;34m(\u001b[0m\u001b[0;34m\"/home/alex/network_workdir/elections/databases/urls_db.sqlite\"\u001b[0m\u001b[0;34m)\u001b[0m\u001b[0;34m\u001b[0m\u001b[0;34m\u001b[0m\u001b[0m\n\u001b[0m\u001b[1;32m      2\u001b[0m \u001b[0mc\u001b[0m \u001b[0;34m=\u001b[0m \u001b[0mconn\u001b[0m\u001b[0;34m.\u001b[0m\u001b[0mcursor\u001b[0m\u001b[0;34m(\u001b[0m\u001b[0;34m)\u001b[0m\u001b[0;34m\u001b[0m\u001b[0;34m\u001b[0m\u001b[0m\n\u001b[1;32m      3\u001b[0m \u001b[0;34m\u001b[0m\u001b[0m\n\u001b[1;32m      4\u001b[0m \u001b[0;31m### c.execute('''SELECT name FROM sqlite_master WHERE type='table' ORDER BY name;''')\u001b[0m\u001b[0;34m\u001b[0m\u001b[0;34m\u001b[0m\u001b[0;34m\u001b[0m\u001b[0m\n\u001b[1;32m      5\u001b[0m \u001b[0;32mfor\u001b[0m \u001b[0md\u001b[0m \u001b[0;32min\u001b[0m \u001b[0mc\u001b[0m\u001b[0;34m.\u001b[0m\u001b[0mfetchall\u001b[0m\u001b[0;34m(\u001b[0m\u001b[0;34m)\u001b[0m\u001b[0;34m:\u001b[0m\u001b[0;34m\u001b[0m\u001b[0;34m\u001b[0m\u001b[0m\n",
      "\u001b[0;31mNameError\u001b[0m: name 'sqlite3' is not defined"
     ]
    }
   ],
   "source": [
    "conn = sqlite3.connect(\"/home/alex/network_workdir/elections/databases/urls_db.sqlite\")\n",
    "c = conn.cursor()\n",
    "\n",
    "### c.execute('''SELECT name FROM sqlite_master WHERE type='table' ORDER BY name;''')\n",
    "for d in c.fetchall():\n",
    "    print(d)\n",
    "    \n",
    "c.execute('''SELECT name FROM hashtag LIMIT 100;''')\n",
    "for d in c.fetchall():\n",
    "    print(d)"
   ]
  },
  {
   "cell_type": "code",
   "execution_count": 7,
   "metadata": {},
   "outputs": [
    {
     "name": "stdout",
     "output_type": "stream",
     "text": [
      "------------------------------ TABLE class_proba ------------------------------\n",
      "count： (73144701,)\n",
      "tweet_id\t\t737807390339272705\n",
      "user_id\t\t889979617\n",
      "p_pro_hillary_anti_trump\t\t0.026475403948590118\n",
      "\n",
      "------------------------------ TABLE retweet_class_proba ------------------------------\n",
      "count： (6547439,)\n",
      "tweet_id\t\t478925052\n",
      "user_id\t\t1367531\n",
      "p_pro_hillary_anti_trump\t\t0.889689384739253\n",
      "\n"
     ]
    }
   ],
   "source": [
    "conn = sqlite3.connect(\"/home/alex/network_workdir/elections/databases/complete_trump_vs_hillary_class_proba_final_htgs_db.sqlite\")\n",
    "c = conn.cursor()\n",
    "\n",
    "### c.execute('''SELECT name FROM sqlite_master WHERE type='table' ORDER BY name;''')\n",
    "for d in c.fetchall():\n",
    "    print(d)\n",
    "    \n",
    "c.execute('''SELECT name FROM sqlite_master WHERE type='table' ORDER BY name;''')\n",
    "for table in c.fetchall():\n",
    "    describe(table[0])"
   ]
  },
  {
   "cell_type": "code",
   "execution_count": 8,
   "metadata": {},
   "outputs": [
    {
     "name": "stdout",
     "output_type": "stream",
     "text": [
      "------------------------------ TABLE class_proba ------------------------------\n",
      "count： (100400999,)\n",
      "tweet_id\t\t771131463345565696\n",
      "user_id\t\t2429107224\n",
      "p_pro_hillary_anti_trump\t\t0.013116892518828256\n",
      "\n",
      "------------------------------ TABLE retweet_class_proba ------------------------------\n",
      "count： (7678804,)\n",
      "tweet_id\t\t1571693\n",
      "user_id\t\t71693\n",
      "p_pro_hillary_anti_trump\t\t0.4478215319044729\n",
      "\n"
     ]
    }
   ],
   "source": [
    "conn = sqlite3.connect(\"/home/alex/network_workdir/elections/databases/complete_trump_vs_hillary_sep-nov_class_proba_final_htgs_june_sep_db.sqlite\")\n",
    "c = conn.cursor()\n",
    "\n",
    "### c.execute('''SELECT name FROM sqlite_master WHERE type='table' ORDER BY name;''')\n",
    "for d in c.fetchall():\n",
    "    print(d)\n",
    "    \n",
    "c.execute('''SELECT name FROM sqlite_master WHERE type='table' ORDER BY name;''')\n",
    "for table in c.fetchall():\n",
    "    describe(table[0])"
   ]
  },
  {
   "cell_type": "code",
   "execution_count": 18,
   "metadata": {},
   "outputs": [
    {
     "name": "stdout",
     "output_type": "stream",
     "text": [
      "(0.005353952144600862,)\n"
     ]
    },
    {
     "data": {
      "text/plain": [
       "1"
      ]
     },
     "execution_count": 18,
     "metadata": {},
     "output_type": "execute_result"
    }
   ],
   "source": [
    "tid = \"771131463345565696\"\n",
    "\n",
    "def opinion(_id):\n",
    "    \"\"\"\n",
    "    1 是支持trump\n",
    "    \"\"\"\n",
    "\n",
    "    def get_class_proba(_id):\n",
    "        \"\"\"\n",
    "        >= 0.5 支持希拉里\n",
    "        \"\"\"\n",
    "\n",
    "        re = -1\n",
    "\n",
    "        conn = sqlite3.connect(\"/home/alex/network_workdir/elections/databases/complete_trump_vs_hillary_class_proba_final_htgs_db.sqlite\")\n",
    "        c = conn.cursor()\n",
    "        c.execute(\"SELECT p_pro_hillary_anti_trump FROM class_proba WHERE tweet_id={}\".format(_id))\n",
    "        d = c.fetchone()\n",
    "        if d:\n",
    "            re = float(d[0])\n",
    "        else:\n",
    "            c.execute(\"SELECT p_pro_hillary_anti_trump FROM retweet_class_proba WHERE tweet_id={}\".format(_id))\n",
    "            d = c.fetchone()\n",
    "            if d:\n",
    "                re = float(d[0])\n",
    "\n",
    "        conn.close()\n",
    "        if re != -1:\n",
    "            return re\n",
    "\n",
    "        conn = sqlite3.connect(\"/home/alex/network_workdir/elections/databases/complete_trump_vs_hillary_sep-nov_class_proba_final_htgs_june_sep_db.sqlite\")\n",
    "        c = conn.cursor()\n",
    "        c.execute(\"SELECT p_pro_hillary_anti_trump FROM class_proba WHERE tweet_id={}\".format(_id))\n",
    "        d = c.fetchone()\n",
    "        if d:\n",
    "            re = float(d[0])\n",
    "        else:\n",
    "            c.execute(\"SELECT p_pro_hillary_anti_trump FROM retweet_class_proba WHERE tweet_id={}\".format(_id))\n",
    "            d = c.fetchone()\n",
    "            if d:\n",
    "                re = float(d[0])\n",
    "\n",
    "        conn.close()\n",
    "\n",
    "        return re\n",
    "\n",
    "    v = get_class_proba(_id)\n",
    "    if v == -1:\n",
    "        return -1\n",
    "    return 1 if v < 0.5 else 0\n",
    "\n",
    "opinion(tid)"
   ]
  },
  {
   "cell_type": "code",
   "execution_count": 16,
   "metadata": {},
   "outputs": [
    {
     "name": "stdout",
     "output_type": "stream",
     "text": [
      "386802\n"
     ]
    }
   ],
   "source": [
    "import ujson as json\n",
    "\n",
    "# 发现那些其实是转发的tweet！\n",
    "source_tids = []\n",
    "data = json.load(open(\"data/retweet_network_fake.json\"))\n",
    "for source in data.values():\n",
    "    c.execute(\"select retweeted_status from urls where tweet_id={}\".format(source))\n",
    "    d = c.fetchone()\n",
    "    if d and d[0] == 0:\n",
    "        source_tids.append(source)\n",
    "    \n",
    "print(len(source_tids))"
   ]
  },
  {
   "cell_type": "code",
   "execution_count": 17,
   "metadata": {},
   "outputs": [
    {
     "name": "stdout",
     "output_type": "stream",
     "text": [
      "766707481611497472\n",
      "0\n"
     ]
    }
   ],
   "source": [
    "print(source_tids[0])\n",
    "\n",
    "set_tids = set(source_tids)\n",
    "\n",
    "cnt = 0\n",
    "for source in data.keys():\n",
    "    if source in set_tids:\n",
    "        cnt += 1\n",
    "print(cnt)"
   ]
  },
  {
   "cell_type": "code",
   "execution_count": 13,
   "metadata": {},
   "outputs": [
    {
     "name": "stderr",
     "output_type": "stream",
     "text": [
      "100%|██████████| 1276639/1276639 [00:13<00:00, 96158.37it/s] \n"
     ]
    }
   ],
   "source": [
    "from tqdm import tqdm\n",
    "\n",
    "conn = sqlite3.connect(\"/home/alex/network_workdir/elections/databases_ssd/complete_trump_vs_hillary_db.sqlite\")\n",
    "c = conn.cursor()\n",
    "\n",
    "for _id in tqdm(source_tids):\n",
    "    c.execute('''SELECT retweet_id FROM tweet_to_retweeted_uid WHERE tweet_id={};'''.format(_id))\n",
    "    d = c.fetchone()\n",
    "    if d:\n",
    "        print(d)"
   ]
  },
  {
   "cell_type": "code",
   "execution_count": 9,
   "metadata": {},
   "outputs": [
    {
     "data": {
      "text/plain": [
       "{'tweet_id': 737848312003366913,\n",
       " 'query_id': 0,\n",
       " 'filename_id': 0,\n",
       " 'datetime_EST': '2016-05-31 22:28:40',\n",
       " 'user_id': 2248442846,\n",
       " 'text': 'RT @seanhannity: .@realDonaldTrump: “As far as the @HillaryClinton situation, it’s rigged. She has these superdelegates. It’s a total rigge…',\n",
       " 'place': None,\n",
       " 'source_url_id': 1,\n",
       " 'source_content_id': 1,\n",
       " 'p_pro_hillary_anti_trump': None,\n",
       " 'from_db': '1-tweet'}"
      ]
     },
     "execution_count": 9,
     "metadata": {},
     "output_type": "execute_result"
    }
   ],
   "source": [
    "from SQLite_handler import find_tweet\n",
    "\n",
    "find_tweet(\"737848312003366913\")"
   ]
  },
  {
   "cell_type": "code",
   "execution_count": 11,
   "metadata": {},
   "outputs": [
    {
     "data": {
      "text/plain": [
       "(737848312003366913, 41634520, 2248442846, 737830796862464000)"
      ]
     },
     "execution_count": 11,
     "metadata": {},
     "output_type": "execute_result"
    }
   ],
   "source": [
    "conn = sqlite3.connect(\"/home/alex/network_workdir/elections/databases_ssd/complete_trump_vs_hillary_db.sqlite\")\n",
    "c = conn.cursor()\n",
    "c.execute('''SELECT * FROM tweet_to_retweeted_uid WHERE tweet_id=737848312003366913;''')\n",
    "d = c.fetchone()\n",
    "d"
   ]
  },
  {
   "cell_type": "code",
   "execution_count": null,
   "metadata": {},
   "outputs": [],
   "source": [
    "737848313861410816"
   ]
  },
  {
   "cell_type": "code",
   "execution_count": 26,
   "metadata": {},
   "outputs": [
    {
     "name": "stdout",
     "output_type": "stream",
     "text": [
      "(775787262869180417, 52544275, 25073877, 775785081914949632)\n",
      "(777614991121846278, 471672239, 25073877, 777590795171950593)\n",
      "(777615824848912384, 471672239, 25073877, 777591392617070593)\n",
      "(780444199737036800, 471672239, 25073877, 780436833138274304)\n",
      "(780550185365737472, 620571475, 25073877, 780524695317778432)\n",
      "(780867418012979204, 11134252, 25073877, 780828616183513088)\n",
      "(783477966906925056, 729676086632656900, 25073877, 783474744133840896)\n",
      "(783480864395055104, 20776147, 25073877, 783479279870996480)\n",
      "(783488429442994176, 729676086632656900, 25073877, 783487018764558337)\n",
      "(783491231913349120, 729676086632656900, 25073877, 783489855124860928)\n",
      "(783491271088156672, 729676086632656900, 25073877, 783490795793969152)\n",
      "(784101360736370688, 39344374, 25073877, 783806958923026432)\n",
      "(784886380237316098, 22677397, 25073877, 784734493471019008)\n",
      "(785842270801133568, 39349894, 25073877, 785808945440927744)\n",
      "(785904113540210688, 39344374, 25073877, 785875528825835526)\n",
      "(787319977711923200, 620571475, 25073877, 787316515632713733)\n",
      "(788077766063390724, 729676086632656900, 25073877, 788074836153303040)\n",
      "(788479634694246400, 729676086632656900, 25073877, 788445970539253761)\n",
      "(789223614402924545, 39349894, 25073877, 789186263953715202)\n",
      "(791614568275570688, 39349894, 25073877, 791613603195518976)\n",
      "(792054233721864193, 14669951, 25073877, 791979240841293824)\n",
      "(793590297800404992, 620571475, 25073877, 793589607304757248)\n",
      "(794320826237644805, 212674482, 25073877, 794291397113368577)\n",
      "(794576519955939328, 729676086632656900, 25073877, 794359813903892481)\n",
      "(795845594032013312, 39344374, 25073877, 795823553392312326)\n",
      "(795846520734183424, 39349894, 25073877, 795845887037673472)\n",
      "(796164216294084608, 52544275, 25073877, 796149611538817024)\n"
     ]
    }
   ],
   "source": [
    "conn = sqlite3.connect(DB2_NAME)\n",
    "c = conn.cursor()\n",
    "c.execute('''SELECT * FROM tweet_to_retweeted_uid WHERE author_uid=25073877;''')\n",
    "# c.execute('''SELECT * FROM tweet_to_replied_uid WHERE author_uid=25073877;''')\n",
    "# c.execute('''SELECT * FROM tweet_to_quoted_uid WHERE author_uid=25073877;''')\n",
    "# c.execute('''SELECT * FROM tweet_to_mentioned_uid WHERE author_uid=25073877;''')\n",
    "d = c.fetchall()\n",
    "for _d in d:\n",
    "    print(_d)"
   ]
  },
  {
   "cell_type": "code",
   "execution_count": 42,
   "metadata": {},
   "outputs": [],
   "source": [
    "conn = sqlite3.connect(DB1_NAME)\n",
    "c = conn.cursor()\n",
    "\n",
    "def find_name(user_id):\n",
    "    c.execute(f'''SELECT * FROM influencer_rank_date WHERE user_id={user_id};''')\n",
    "    # c.execute('''SELECT * FROM tweet_to_replied_uid WHERE author_uid=25073877;''')\n",
    "    # c.execute('''SELECT * FROM tweet_to_quoted_uid WHERE author_uid=25073877;''')\n",
    "    # c.execute('''SELECT * FROM tweet_to_mentioned_uid WHERE author_uid=25073877;''')\n",
    "    d = c.fetchone()\n",
    "    print(d)"
   ]
  },
  {
   "cell_type": "code",
   "execution_count": 48,
   "metadata": {},
   "outputs": [],
   "source": [
    "# out_users = [('4224729994', 1),\n",
    "#              ('4272870988', 3),\n",
    "#              ('4218156466', 4),\n",
    "#              ('4355797094', 74),\n",
    "#              ('3990577513', 85),\n",
    "#              ('4332740714', 119),\n",
    "#              ('2882331822', 131),\n",
    "#              ('4508630900', 172),\n",
    "#              ('4289431230', 327),\n",
    "#              ('4224912857', 333)]\n",
    "\n",
    "top_users = [('4224729994', 172612652250),\n",
    " ('274891222', 129275984000),\n",
    " ('4272870988', 114675165760),\n",
    " ('4218156466', 105542500816),\n",
    " ('710990834972233728', 94809306592),\n",
    " ('1367531', 92848353048),\n",
    " ('347627434', 88280598912),\n",
    " ('16589206', 87002488287),\n",
    " ('33529092', 82434955036),\n",
    " ('78523300', 75008398640),\n",
    " ('216776631', 73659670092),\n",
    " ('759251', 73405914054),\n",
    " ('197496309', 72482714172),\n",
    " ('3284112337', 69117844488),\n",
    " ('282695161', 67761529836),\n",
    " ('466144416', 66858562687),\n",
    " ('1339835893', 66418217072),\n",
    " ('39344374', 64309558968),\n",
    " ('26487169', 62809482449),\n",
    " ('4236806414', 61592078893),\n",
    " ('4261318354', 60832392040),\n",
    " ('393190233', 60071900824),\n",
    " ('1075681177', 59764210688),\n",
    " ('1536791610', 59074422600),\n",
    " ('3677742792', 59053597825)]"
   ]
  },
  {
   "cell_type": "code",
   "execution_count": 49,
   "metadata": {},
   "outputs": [
    {
     "name": "stdout",
     "output_type": "stream",
     "text": [
      "(171, 5416290, 496, 172, '2016-08-14 00:00:00', 4224729994, '@TEN_GOP', 'all', 1, 0, 0, 1, 1, 2, 24.0)\n",
      "(18, 128847003, 2465, 19, '2016-08-14 00:00:00', 274891222, '@bfraser747', 'all', 1, 0, 0, 1, 1, 2, 24.0)\n",
      "(812, 1283490, 196, 313, '2016-06-25 00:00:00', 4272870988, '@Pamela_Moore13', 'all', 1, 0, 0, 1, 1, 2, 24.0)\n",
      "(773, 1762800, 303, 274, '2016-06-25 00:00:00', 4218156466, '@America_1st_', 'all', 1, 0, 0, 1, 1, 2, 24.0)\n",
      "(15, 153929716, 2493, 16, '2016-08-14 00:00:00', 710990834972233728, '@Always_Trump', 'all', 1, 0, 0, 1, 1, 2, 24.0)\n",
      "(3, 919946463, 9278, 4, '2016-08-14 00:00:00', 1367531, '@FoxNews', 'all', 1, 0, 0, 1, 1, 2, 24.0)\n",
      "(20, 108489870, 2001, 21, '2016-08-14 00:00:00', 347627434, '@LindaSuhler', 'all', 1, 0, 0, 1, 1, 2, 24.0)\n",
      "(19, 111859464, 1987, 20, '2016-08-14 00:00:00', 16589206, '@wikileaks', 'all', 1, 0, 0, 1, 1, 2, 24.0)\n",
      "(611, 9534886, 443, 112, '2016-06-25 00:00:00', 33529092, '@SandraTXAS', 'all', 1, 0, 0, 1, 1, 2, 24.0)\n",
      "(454, 832950, 151, 455, '2016-08-14 00:00:00', 78523300, '@RealJamesWoods', 'all', 1, 0, 0, 1, 1, 2, 24.0)\n",
      "(140, 7457756, 540, 141, '2016-08-14 00:00:00', 216776631, '@BernieSanders', 'all', 1, 0, 0, 1, 1, 2, 24.0)\n",
      "(4, 641115016, 6380, 5, '2016-08-14 00:00:00', 759251, '@CNN', 'all', 1, 0, 0, 1, 1, 2, 24.0)\n",
      "(962, 504507, 162, 463, '2016-06-25 00:00:00', 197496309, '@FrankLuntz', 'all', 1, 0, 0, 1, 1, 2, 24.0)\n",
      "(77, 22017165, 1096, 78, '2016-08-14 00:00:00', 3284112337, '@WeNeedTrump', 'all', 1, 0, 0, 1, 1, 2, 24.0)\n",
      "(48, 39778396, 1111, 49, '2016-08-14 00:00:00', 282695161, '@WayneDupreeShow', 'all', 1, 0, 0, 1, 1, 2, 24.0)\n",
      "(124, 9413433, 615, 125, '2016-08-14 00:00:00', 466144416, '@TrumpSuperPAC', 'all', 1, 0, 0, 1, 1, 2, 24.0)\n",
      "(1, 2905618188, 26619, 2, '2016-08-14 00:00:00', 1339835893, '@HillaryClinton', 'all', 1, 0, 0, 1, 1, 2, 24.0)\n",
      "(144, 7214592, 464, 145, '2016-08-14 00:00:00', 39344374, '@DonaldJTrumpJr', 'all', 1, 0, 0, 1, 1, 2, 24.0)\n",
      "(49, 38749800, 992, 50, '2016-08-14 00:00:00', 26487169, '@LouDobbs', 'all', 1, 0, 0, 1, 1, 2, 24.0)\n",
      "(272, 2362601, 259, 273, '2016-08-14 00:00:00', 4236806414, '@JohnKStahlUSA', 'all', 1, 0, 0, 1, 1, 2, 24.0)\n",
      "(4325, 1682444, 237, 326, '2016-08-27 00:00:00', 4261318354, '@Stevenwhirsch99', 'all', 1, 0, 0, 1, 1, 2, 24.0)\n",
      "(76, 22059240, 864, 77, '2016-08-14 00:00:00', 393190233, '@LeahR77', 'all', 1, 0, 0, 1, 1, 2, 24.0)\n",
      "(236, 3321183, 323, 237, '2016-08-14 00:00:00', 1075681177, '@2ALAW', 'all', 1, 0, 0, 1, 1, 2, 24.0)\n",
      "(42, 49138350, 1151, 43, '2016-08-14 00:00:00', 1536791610, '@POTUS', 'all', 1, 0, 0, 1, 1, 2, 24.0)\n",
      "(130, 8761280, 528, 131, '2016-08-14 00:00:00', 3677742792, '@immigrant4trump', 'all', 1, 0, 0, 1, 1, 2, 24.0)\n"
     ]
    }
   ],
   "source": [
    "for u in top_users:\n",
    "    find_name(u[0])"
   ]
  },
  {
   "cell_type": "code",
   "execution_count": null,
   "metadata": {},
   "outputs": [],
   "source": []
  }
 ],
 "metadata": {
  "kernelspec": {
   "display_name": "Python 3",
   "language": "python",
   "name": "python3"
  },
  "language_info": {
   "codemirror_mode": {
    "name": "ipython",
    "version": 3
   },
   "file_extension": ".py",
   "mimetype": "text/x-python",
   "name": "python",
   "nbconvert_exporter": "python",
   "pygments_lexer": "ipython3",
   "version": "3.6.8"
  }
 },
 "nbformat": 4,
 "nbformat_minor": 2
}
