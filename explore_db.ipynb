{
 "cells": [
  {
   "cell_type": "code",
   "execution_count": 1,
   "metadata": {},
   "outputs": [],
   "source": [
    "import sqlite3"
   ]
  },
  {
   "cell_type": "code",
   "execution_count": 11,
   "metadata": {},
   "outputs": [],
   "source": [
    "conn = sqlite3.connect(\"/home/alex/network_workdir/elections/databases_ssd/complete_trump_vs_hillary_db.sqlite\")"
   ]
  },
  {
   "cell_type": "code",
   "execution_count": 12,
   "metadata": {},
   "outputs": [
    {
     "data": {
      "text/plain": [
       "<sqlite3.Cursor at 0x7fa056f2b6c0>"
      ]
     },
     "execution_count": 12,
     "metadata": {},
     "output_type": "execute_result"
    }
   ],
   "source": [
    "c = conn.cursor()\n",
    "# c.execute(\"SELECT count(*) FROM tweet_to_retweeted_uid LIMIT 1;\")\n",
    "\n",
    "c.execute('''SELECT name FROM sqlite_master WHERE type='table' ORDER BY name;''')"
   ]
  },
  {
   "cell_type": "code",
   "execution_count": 13,
   "metadata": {},
   "outputs": [],
   "source": [
    "d = c.fetchall()"
   ]
  },
  {
   "cell_type": "code",
   "execution_count": 17,
   "metadata": {},
   "outputs": [
    {
     "name": "stdout",
     "output_type": "stream",
     "text": [
      "('class_proba',)\n",
      "('filename',)\n",
      "('hashtag',)\n",
      "('hashtag_tweet_user',)\n",
      "('influencer_rank_date',)\n",
      "('query',)\n",
      "('rand_tweet_id_sample',)\n",
      "('retweet_class_proba',)\n",
      "('retweeted_status',)\n",
      "('source_content',)\n",
      "('source_url',)\n",
      "('tweet',)\n",
      "('tweet_to_keyword',)\n",
      "('tweet_to_mentioned_uid',)\n",
      "('tweet_to_query_id',)\n",
      "('tweet_to_quoted_uid',)\n",
      "('tweet_to_replied_uid',)\n",
      "('tweet_to_retweeted_uid',)\n",
      "('url_retweet_user',)\n",
      "('url_tweet_user',)\n",
      "('user',)\n"
     ]
    }
   ],
   "source": [
    "for i in d:\n",
    "    print(i)"
   ]
  },
  {
   "cell_type": "code",
   "execution_count": 28,
   "metadata": {},
   "outputs": [
    {
     "name": "stdout",
     "output_type": "stream",
     "text": [
      "转发数据量： (46852169,)\n"
     ]
    }
   ],
   "source": [
    "c.execute(\"SELECT count(*) FROM tweet_to_retweeted_uid LIMIT 1;\")\n",
    "d = c.fetchone()\n",
    "print('转发数据量：', d)"
   ]
  },
  {
   "cell_type": "code",
   "execution_count": 26,
   "metadata": {},
   "outputs": [
    {
     "name": "stdout",
     "output_type": "stream",
     "text": [
      "['tweet_id', 'url', 'user_id', 'indice_start']\n"
     ]
    }
   ],
   "source": [
    "c.execute(\"SELECT * FROM url_retweet_user;\")\n",
    "col_name_list = [tuple[0] for tuple in c.description]\n",
    "print(col_name_list)"
   ]
  },
  {
   "cell_type": "code",
   "execution_count": 25,
   "metadata": {},
   "outputs": [
    {
     "name": "stdout",
     "output_type": "stream",
     "text": [
      "(737807390339272705, 606507498, 889979617, 737801667786113024)\n"
     ]
    }
   ],
   "source": [
    "c.execute(\"SELECT * FROM tweet_to_retweeted_uid LIMIT 1;\")\n",
    "d = c.fetchone()\n",
    "print(d)"
   ]
  },
  {
   "cell_type": "code",
   "execution_count": 31,
   "metadata": {},
   "outputs": [],
   "source": [
    "conn = sqlite3.connect(\"/home/alex/network_workdir/elections/databases/urls_db.sqlite\")\n",
    "c = conn.cursor()"
   ]
  },
  {
   "cell_type": "code",
   "execution_count": 33,
   "metadata": {},
   "outputs": [
    {
     "name": "stdout",
     "output_type": "stream",
     "text": [
      "('hosts_bias',)\n",
      "('hosts_center_rev_stat',)\n",
      "('hosts_center_rev_stat_back',)\n",
      "('hosts_clickbait',)\n",
      "('hosts_conspiracy',)\n",
      "('hosts_fake',)\n",
      "('hosts_fake_all_rev_stat',)\n",
      "('hosts_fake_buzzfeed',)\n",
      "('hosts_fake_politifact',)\n",
      "('hosts_fake_rev_stat',)\n",
      "('hosts_far_left_rev_stat',)\n",
      "('hosts_far_right_rev_stat',)\n",
      "('hosts_hate',)\n",
      "('hosts_junksci',)\n",
      "('hosts_lean_left_rev_stat',)\n",
      "('hosts_lean_left_rev_stat_back',)\n",
      "('hosts_lean_right_rev_stat',)\n",
      "('hosts_lean_right_rev_stat_back',)\n",
      "('hosts_left_rev_stat',)\n",
      "('hosts_political',)\n",
      "('hosts_reliable',)\n",
      "('hosts_right_rev_stat',)\n",
      "('hosts_rumor',)\n",
      "('hosts_satire',)\n",
      "('hosts_state',)\n",
      "('hosts_unreliable',)\n",
      "('media_hosts_center',)\n",
      "('media_hosts_lean_left',)\n",
      "('media_hosts_lean_right',)\n",
      "('media_hosts_left',)\n",
      "('media_hosts_right',)\n",
      "('media_hosts_right_extreme',)\n",
      "('media_hosts_strange',)\n",
      "('news_aggregators',)\n",
      "('source_content_to_id_map',)\n",
      "('urls',)\n"
     ]
    }
   ],
   "source": [
    "c.execute('''SELECT name FROM sqlite_master WHERE type='table' ORDER BY name;''')\n",
    "for d in c.fetchall():\n",
    "    print(d)"
   ]
  },
  {
   "cell_type": "code",
   "execution_count": 59,
   "metadata": {},
   "outputs": [
    {
     "name": "stdout",
     "output_type": "stream",
     "text": [
      "tweet_id\t\t29018474194\n",
      "datetime_EST\t\t2010-10-28 14:54:45\n",
      "user_id\t\t70477603\n",
      "url\t\thttp://wp.me/p121oH-EQ\n",
      "indice_start\t\t76\n",
      "source_content\t\tTwitter for Websites\n",
      "retweeted_status\t\t1\n",
      "final_url\t\thttp://notalemming.wordpress.com/2010/10/22/how-did-obama-steal-the-primary-from-hillary-voter-intimidation-and-fraud/\n",
      "final_hostname\t\tnotalemming.wordpress.com\n"
     ]
    }
   ],
   "source": [
    "c.execute(\"SELECT * FROM urls LIMIT 1;\")\n",
    "col_name = [t[0] for t in c.description]\n",
    "d = c.fetchone()\n",
    "for k, v in zip(col_name, d):\n",
    "    print(k, v, sep=\"\\t\\t\")"
   ]
  },
  {
   "cell_type": "code",
   "execution_count": 58,
   "metadata": {},
   "outputs": [
    {
     "name": "stdout",
     "output_type": "stream",
     "text": [
      "count： (272,)\n",
      "id\t\t1\n",
      "hostname\t\tconservativespirit.com\n"
     ]
    }
   ],
   "source": [
    "def describe(table):\n",
    "    c.execute(\"SELECT count(*) FROM '{}';\".format(table))\n",
    "    d = c.fetchone()\n",
    "    print('count：', d)\n",
    "\n",
    "    c.execute(\"SELECT * FROM '{}';\".format(table))\n",
    "    col_name = [t[0] for t in c.description]\n",
    "    d = c.fetchone()\n",
    "    for k, v in zip(col_name, d):\n",
    "        print(k, v, sep=\"\\t\\t\")\n",
    "        \n",
    "describe(\"hosts_fake\")\n",
    "# describe(\"hosts_center_rev_stat\")"
   ]
  },
  {
   "cell_type": "code",
   "execution_count": null,
   "metadata": {},
   "outputs": [],
   "source": []
  }
 ],
 "metadata": {
  "kernelspec": {
   "display_name": "Python 3",
   "language": "python",
   "name": "python3"
  },
  "language_info": {
   "codemirror_mode": {
    "name": "ipython",
    "version": 3
   },
   "file_extension": ".py",
   "mimetype": "text/x-python",
   "name": "python",
   "nbconvert_exporter": "python",
   "pygments_lexer": "ipython3",
   "version": "3.7.0"
  }
 },
 "nbformat": 4,
 "nbformat_minor": 2
}
