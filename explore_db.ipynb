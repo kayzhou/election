{
 "cells": [
  {
   "cell_type": "code",
   "execution_count": 3,
   "metadata": {},
   "outputs": [],
   "source": [
    "import sqlite3\n",
    "\n",
    "# conn = sqlite3.connect(\"/home/alex/network_workdir/elections/databases_ssd/complete_trump_vs_hillary_db.sqlite\")\n",
    "conn = sqlite3.connect(\"/home/alex/network_workdir/elections/databases_ssd/complete_trump_vs_hillary_sep-nov_db.sqlite\")\n",
    "c = conn.cursor()\n",
    "# c.execute(\"SELECT count(*) FROM tweet_to_retweeted_uid LIMIT 1;\")"
   ]
  },
  {
   "cell_type": "code",
   "execution_count": 4,
   "metadata": {},
   "outputs": [
    {
     "name": "stdout",
     "output_type": "stream",
     "text": [
      "('class_proba',)\n",
      "('filename',)\n",
      "('hashtag',)\n",
      "('hashtag_tweet_user',)\n",
      "('query',)\n",
      "('retweeted_status',)\n",
      "('source_content',)\n",
      "('source_url',)\n",
      "('tweet',)\n",
      "('tweet_to_keyword',)\n",
      "('tweet_to_mentioned_uid',)\n",
      "('tweet_to_query_id',)\n",
      "('tweet_to_quoted_uid',)\n",
      "('tweet_to_replied_uid',)\n",
      "('tweet_to_retweeted_uid',)\n",
      "('url_retweet_user',)\n",
      "('url_tweet_user',)\n",
      "('user',)\n"
     ]
    }
   ],
   "source": [
    "c.execute('''SELECT name FROM sqlite_master WHERE type='table' ORDER BY name;''')\n",
    "for i in c.fetchall():\n",
    "    print(i)"
   ]
  },
  {
   "cell_type": "code",
   "execution_count": 6,
   "metadata": {
    "scrolled": false
   },
   "outputs": [
    {
     "name": "stdout",
     "output_type": "stream",
     "text": [
      "-------------------------------------------------- TABLE class_proba --------------------------------------------------\n",
      "count： (97758182,)\n",
      "tweet_id\t\t771131463345565696\n",
      "user_id\t\t2429107224\n",
      "p_pro_hillary_anti_trump\t\t0.010749551864870628\n",
      "\n",
      "-------------------------------------------------- TABLE filename --------------------------------------------------\n",
      "count： (1353,)\n",
      "id\t\t0\n",
      "filename\t\ttweets-c1dcab45-e68e-4861-a897-5c9c8ecd5f19.taj\n",
      "\n",
      "-------------------------------------------------- TABLE hashtag --------------------------------------------------\n",
      "count： (571629,)\n",
      "id\t\t1\n",
      "hashtag\t\twerk\n",
      "count\t\t25\n",
      "\n",
      "-------------------------------------------------- TABLE hashtag_tweet_user --------------------------------------------------\n",
      "count： (43655958,)\n",
      "tweet_id\t\t771131463383285761\n",
      "hashtag\t\tusa\n",
      "user_id\t\t3192506298\n",
      "ht_signi_final\t\tNone\n",
      "ht_signi_final_june_sep\t\tNone\n",
      "\n",
      "-------------------------------------------------- TABLE query --------------------------------------------------\n",
      "count： (2,)\n",
      "id\t\t0\n",
      "query\t\thillary OR clinton OR hillaryclinton\n",
      "\n",
      "-------------------------------------------------- TABLE retweeted_status --------------------------------------------------\n",
      "count： (7907199,)\n",
      "tweet_id\t\t1571693\n",
      "query_id\t\t1\n",
      "filename_id\t\t1024\n",
      "datetime_EST\t\t2006-12-22 19:20:36\n",
      "user_id\t\t71693\n",
      "text\t\tDonald Trump needs to die.\n",
      "place\t\tNone\n",
      "source_url_id\t\t65\n",
      "source_content_id\t\t70\n",
      "\n",
      "-------------------------------------------------- TABLE source_content --------------------------------------------------\n",
      "count： (18790,)\n",
      "id\t\t0\n",
      "source_content\t\tYour best free sharing tool!\n",
      "\n",
      "-------------------------------------------------- TABLE source_url --------------------------------------------------\n",
      "count： (14492,)\n",
      "id\t\t0\n",
      "source_url\t\thttp://linkis.com\n",
      "\n",
      "-------------------------------------------------- TABLE tweet --------------------------------------------------\n",
      "count： (100400999,)\n",
      "tweet_id\t\t771131463345565696\n",
      "query_id\t\t0\n",
      "filename_id\t\t0\n",
      "datetime_EST\t\t2016-08-31 18:44:02\n",
      "user_id\t\t2429107224\n",
      "text\t\tClinton Emailed Classified Information From Her Private Server AFTER Leaving State Department https://t.co/AqnPGmeA2C via @BarracudaMama\n",
      "place\t\tNone\n",
      "source_url_id\t\t0\n",
      "source_content_id\t\t0\n",
      "\n",
      "-------------------------------------------------- TABLE tweet_to_keyword --------------------------------------------------\n",
      "count： (125186311,)\n",
      "tweet_id\t\t771131463345565696\n",
      "keyword\t\tclinton\n",
      "\n",
      "-------------------------------------------------- TABLE tweet_to_mentioned_uid --------------------------------------------------\n",
      "count： (40694821,)\n",
      "tweet_id\t\t771131463345565696\n",
      "mentioned_uid\t\t73657657\n",
      "author_uid\t\t2429107224\n",
      "\n",
      "-------------------------------------------------- TABLE tweet_to_query_id --------------------------------------------------\n",
      "count： (106758919,)\n",
      "tweet_id\t\t771131463345565696\n",
      "query_id\t\t0\n",
      "\n",
      "-------------------------------------------------- TABLE tweet_to_quoted_uid --------------------------------------------------\n",
      "count： (2712599,)\n",
      "tweet_id\t\t771131463383285761\n",
      "quoted_uid\t\t457984599\n",
      "author_uid\t\t3192506298\n",
      "\n",
      "-------------------------------------------------- TABLE tweet_to_replied_uid --------------------------------------------------\n",
      "count： (10064719,)\n",
      "tweet_id\t\t771131465287528449\n",
      "replied_uid\t\t1339835893\n",
      "author_uid\t\t754080446078676993\n",
      "\n",
      "-------------------------------------------------- TABLE tweet_to_retweeted_uid --------------------------------------------------\n",
      "count： (71935828,)\n",
      "tweet_id\t\t771131463924199424\n",
      "retweeted_uid\t\t1339835893\n",
      "author_uid\t\t55956218\n",
      "retweet_id\t\t771037992811163648\n",
      "\n",
      "-------------------------------------------------- TABLE url_retweet_user --------------------------------------------------\n",
      "count： (4472205,)\n",
      "tweet_id\t\t771131180641054720\n",
      "url\t\thttp://insider.foxnews.com/2016/08/27/video-shows-ku-klux-klan-kkk-grand-dragon-endorsing-hillary-clinton\n",
      "user_id\t\t3402935435\n",
      "indice_start\t\t53\n",
      "\n",
      "-------------------------------------------------- TABLE url_tweet_user --------------------------------------------------\n",
      "count： (34389828,)\n",
      "tweet_id\t\t771131463345565696\n",
      "url\t\thttp://ln.is/bb4sp.com/3qZGn\n",
      "user_id\t\t2429107224\n",
      "indice_start\t\t94\n",
      "\n",
      "-------------------------------------------------- TABLE user --------------------------------------------------\n",
      "count： (8287214,)\n",
      "user_id\t\t12\n",
      "first_location\t\tNone\n",
      "first_tweet_time_EST\t\t2016-11-02 09:36:33\n",
      "latest_tweet_time_EST\t\t2016-11-04 11:40:15\n",
      "num_tweet\t\t3\n",
      "\n"
     ]
    }
   ],
   "source": [
    "def describe(table):\n",
    "    print(\"-\" * 50, \"TABLE\", table, \"-\" * 50)\n",
    "    c.execute(\"SELECT count(*) FROM '{}';\".format(table))\n",
    "    d = c.fetchone()\n",
    "    print('count：', d)\n",
    "\n",
    "    c.execute(\"SELECT * FROM '{}' LIMIT 1;\".format(table))\n",
    "    col_name = [t[0] for t in c.description]\n",
    "    d = c.fetchone()\n",
    "    for k, v in zip(col_name, d):\n",
    "        print(k, v, sep=\"\\t\\t\")\n",
    "    print(\"\")\n",
    "        \n",
    "c.execute('''SELECT name FROM sqlite_master WHERE type='table' ORDER BY name;''')\n",
    "for table in c.fetchall():\n",
    "    describe(table[0])"
   ]
  },
  {
   "cell_type": "code",
   "execution_count": 1,
   "metadata": {},
   "outputs": [
    {
     "ename": "NameError",
     "evalue": "name 'c' is not defined",
     "output_type": "error",
     "traceback": [
      "\u001b[0;31m---------------------------------------------------------------------------\u001b[0m",
      "\u001b[0;31mNameError\u001b[0m                                 Traceback (most recent call last)",
      "\u001b[0;32m<ipython-input-1-ee2f34f0919e>\u001b[0m in \u001b[0;36m<module>\u001b[0;34m()\u001b[0m\n\u001b[1;32m      3\u001b[0m \u001b[0mtid\u001b[0m \u001b[0;34m=\u001b[0m \u001b[0;36m742417158429233152\u001b[0m\u001b[0;34m\u001b[0m\u001b[0m\n\u001b[1;32m      4\u001b[0m \u001b[0;34m\u001b[0m\u001b[0m\n\u001b[0;32m----> 5\u001b[0;31m \u001b[0mc\u001b[0m\u001b[0;34m.\u001b[0m\u001b[0mexecute\u001b[0m\u001b[0;34m(\u001b[0m\u001b[0;34m'''SELECT * FROM tweet WHERE tweet_id={};'''\u001b[0m\u001b[0;34m.\u001b[0m\u001b[0mformat\u001b[0m\u001b[0;34m(\u001b[0m\u001b[0mtid\u001b[0m\u001b[0;34m)\u001b[0m\u001b[0;34m)\u001b[0m\u001b[0;34m\u001b[0m\u001b[0m\n\u001b[0m\u001b[1;32m      6\u001b[0m \u001b[0mcol_name\u001b[0m \u001b[0;34m=\u001b[0m \u001b[0;34m[\u001b[0m\u001b[0mt\u001b[0m\u001b[0;34m[\u001b[0m\u001b[0;36m0\u001b[0m\u001b[0;34m]\u001b[0m \u001b[0;32mfor\u001b[0m \u001b[0mt\u001b[0m \u001b[0;32min\u001b[0m \u001b[0mc\u001b[0m\u001b[0;34m.\u001b[0m\u001b[0mdescription\u001b[0m\u001b[0;34m]\u001b[0m\u001b[0;34m\u001b[0m\u001b[0m\n\u001b[1;32m      7\u001b[0m \u001b[0md\u001b[0m \u001b[0;34m=\u001b[0m \u001b[0mc\u001b[0m\u001b[0;34m.\u001b[0m\u001b[0mfetchone\u001b[0m\u001b[0;34m(\u001b[0m\u001b[0;34m)\u001b[0m\u001b[0;34m\u001b[0m\u001b[0m\n",
      "\u001b[0;31mNameError\u001b[0m: name 'c' is not defined"
     ]
    }
   ],
   "source": [
    "# 关键fake news\n",
    "\n",
    "tid = 742417158429233152\n",
    "\n",
    "c.execute('''SELECT * FROM tweet WHERE tweet_id={};'''.format(tid))\n",
    "col_name = [t[0] for t in c.description]\n",
    "d = c.fetchone()\n",
    "print(d)\n",
    "for k, v in zip(col_name, d):\n",
    "    print(k, v, sep=\"\\t\")\n",
    "print(\"-\" * 100)\n",
    "\n",
    "c.execute('''SELECT * FROM retweeted_status WHERE tweet_id={};'''.format(tid))\n",
    "col_name = [t[0] for t in c.description]\n",
    "d = c.fetchone()\n",
    "for k, v in zip(col_name, d):\n",
    "    print(k, v, sep=\"\\t\")\n",
    "print(\"-\" * 100)\n",
    "\n",
    "c.execute('''SELECT * FROM class_proba WHERE tweet_id={};'''.format(tid))\n",
    "col_name = [t[0] for t in c.description]\n",
    "d = c.fetchone()\n",
    "if d:\n",
    "    for k, v in zip(col_name, d):\n",
    "        print(k, v, sep=\"\\t\")\n",
    "else:\n",
    "    print(\"是原创的tweet！\")\n",
    "print(\"-\" * 100)\n",
    "\n",
    "c.execute('''SELECT * FROM url_tweet_user WHERE tweet_id={};'''.format(tid))\n",
    "col_name = [t[0] for t in c.description]\n",
    "d = c.fetchone()\n",
    "for k, v in zip(col_name, d):\n",
    "    print(k, v, sep=\"\\t\")\n",
    "\n",
    "c.execute('''SELECT * FROM user WHERE user_id={};'''.format(39344374))\n",
    "col_name = [t[0] for t in c.description]\n",
    "d = c.fetchone()\n",
    "for k, v in zip(col_name, d):\n",
    "    print(k, v, sep=\"\\t\")\n",
    "print(\"-\" * 100)"
   ]
  },
  {
   "cell_type": "code",
   "execution_count": 2,
   "metadata": {},
   "outputs": [
    {
     "ename": "NameError",
     "evalue": "name 'sqlite3' is not defined",
     "output_type": "error",
     "traceback": [
      "\u001b[0;31m---------------------------------------------------------------------------\u001b[0m",
      "\u001b[0;31mNameError\u001b[0m                                 Traceback (most recent call last)",
      "\u001b[0;32m<ipython-input-2-5fe3a53e52e7>\u001b[0m in \u001b[0;36m<module>\u001b[0;34m()\u001b[0m\n\u001b[0;32m----> 1\u001b[0;31m \u001b[0mconn\u001b[0m \u001b[0;34m=\u001b[0m \u001b[0msqlite3\u001b[0m\u001b[0;34m.\u001b[0m\u001b[0mconnect\u001b[0m\u001b[0;34m(\u001b[0m\u001b[0;34m\"/home/alex/network_workdir/elections/databases/urls_db.sqlite\"\u001b[0m\u001b[0;34m)\u001b[0m\u001b[0;34m\u001b[0m\u001b[0m\n\u001b[0m\u001b[1;32m      2\u001b[0m \u001b[0mc\u001b[0m \u001b[0;34m=\u001b[0m \u001b[0mconn\u001b[0m\u001b[0;34m.\u001b[0m\u001b[0mcursor\u001b[0m\u001b[0;34m(\u001b[0m\u001b[0;34m)\u001b[0m\u001b[0;34m\u001b[0m\u001b[0m\n\u001b[1;32m      3\u001b[0m \u001b[0;34m\u001b[0m\u001b[0m\n\u001b[1;32m      4\u001b[0m \u001b[0;31m### c.execute('''SELECT name FROM sqlite_master WHERE type='table' ORDER BY name;''')\u001b[0m\u001b[0;34m\u001b[0m\u001b[0;34m\u001b[0m\u001b[0m\n\u001b[1;32m      5\u001b[0m \u001b[0;32mfor\u001b[0m \u001b[0md\u001b[0m \u001b[0;32min\u001b[0m \u001b[0mc\u001b[0m\u001b[0;34m.\u001b[0m\u001b[0mfetchall\u001b[0m\u001b[0;34m(\u001b[0m\u001b[0;34m)\u001b[0m\u001b[0;34m:\u001b[0m\u001b[0;34m\u001b[0m\u001b[0m\n",
      "\u001b[0;31mNameError\u001b[0m: name 'sqlite3' is not defined"
     ]
    }
   ],
   "source": [
    "conn = sqlite3.connect(\"/home/alex/network_workdir/elections/databases/urls_db.sqlite\")\n",
    "c = conn.cursor()\n",
    "\n",
    "### c.execute('''SELECT name FROM sqlite_master WHERE type='table' ORDER BY name;''')\n",
    "for d in c.fetchall():\n",
    "    print(d)\n",
    "    \n",
    "c.execute('''SELECT name FROM sqlite_master WHERE type='table' ORDER BY name;''')\n",
    "for table in c.fetchall():\n",
    "    describe(table[0])"
   ]
  },
  {
   "cell_type": "code",
   "execution_count": 20,
   "metadata": {},
   "outputs": [
    {
     "name": "stdout",
     "output_type": "stream",
     "text": [
      "-------------------------------------------------- TABLE class_proba --------------------------------------------------\n",
      "count： (73144701,)\n",
      "tweet_id\t\t737807390339272705\n",
      "user_id\t\t889979617\n",
      "p_pro_hillary_anti_trump\t\t0.026475403948590118\n",
      "\n",
      "-------------------------------------------------- TABLE retweet_class_proba --------------------------------------------------\n",
      "count： (6547439,)\n",
      "tweet_id\t\t478925052\n",
      "user_id\t\t1367531\n",
      "p_pro_hillary_anti_trump\t\t0.889689384739253\n",
      "\n"
     ]
    }
   ],
   "source": [
    "conn = sqlite3.connect(\"/home/alex/network_workdir/elections/databases/complete_trump_vs_hillary_class_proba_final_htgs_db.sqlite\")\n",
    "c = conn.cursor()\n",
    "\n",
    "### c.execute('''SELECT name FROM sqlite_master WHERE type='table' ORDER BY name;''')\n",
    "for d in c.fetchall():\n",
    "    print(d)\n",
    "    \n",
    "c.execute('''SELECT name FROM sqlite_master WHERE type='table' ORDER BY name;''')\n",
    "for table in c.fetchall():\n",
    "    describe(table[0])\n",
    "    \n"
   ]
  },
  {
   "cell_type": "code",
   "execution_count": 19,
   "metadata": {},
   "outputs": [
    {
     "name": "stdout",
     "output_type": "stream",
     "text": [
      "-------------------------------------------------- TABLE class_proba --------------------------------------------------\n",
      "count： (100400999,)\n",
      "tweet_id\t\t771131463345565696\n",
      "user_id\t\t2429107224\n",
      "p_pro_hillary_anti_trump\t\t0.013116892518828256\n",
      "\n",
      "-------------------------------------------------- TABLE retweet_class_proba --------------------------------------------------\n",
      "count： (7678804,)\n",
      "tweet_id\t\t1571693\n",
      "user_id\t\t71693\n",
      "p_pro_hillary_anti_trump\t\t0.4478215319044729\n",
      "\n"
     ]
    }
   ],
   "source": [
    "conn = sqlite3.connect(\"/home/alex/network_workdir/elections/databases/complete_trump_vs_hillary_sep-nov_class_proba_final_htgs_june_sep_db.sqlite\")\n",
    "c = conn.cursor()\n",
    "\n",
    "### c.execute('''SELECT name FROM sqlite_master WHERE type='table' ORDER BY name;''')\n",
    "for d in c.fetchall():\n",
    "    print(d)\n",
    "    \n",
    "c.execute('''SELECT name FROM sqlite_master WHERE type='table' ORDER BY name;''')\n",
    "for table in c.fetchall():\n",
    "    describe(table[0])"
   ]
  },
  {
   "cell_type": "code",
   "execution_count": 18,
   "metadata": {},
   "outputs": [
    {
     "name": "stdout",
     "output_type": "stream",
     "text": [
      "(0.005353952144600862,)\n"
     ]
    },
    {
     "data": {
      "text/plain": [
       "1"
      ]
     },
     "execution_count": 18,
     "metadata": {},
     "output_type": "execute_result"
    }
   ],
   "source": [
    "tid = \"771131463345565696\"\n",
    "\n",
    "def opinion(_id):\n",
    "    \"\"\"\n",
    "    1 是支持trump\n",
    "    \"\"\"\n",
    "\n",
    "    def get_class_proba(_id):\n",
    "        \"\"\"\n",
    "        >= 0.5 支持希拉里\n",
    "        \"\"\"\n",
    "\n",
    "        re = -1\n",
    "\n",
    "        conn = sqlite3.connect(\"/home/alex/network_workdir/elections/databases/complete_trump_vs_hillary_class_proba_final_htgs_db.sqlite\")\n",
    "        c = conn.cursor()\n",
    "        c.execute(\"SELECT p_pro_hillary_anti_trump FROM class_proba WHERE tweet_id={}\".format(_id))\n",
    "        d = c.fetchone()\n",
    "        if d:\n",
    "            re = float(d[0])\n",
    "        else:\n",
    "            c.execute(\"SELECT p_pro_hillary_anti_trump FROM retweet_class_proba WHERE tweet_id={}\".format(_id))\n",
    "            d = c.fetchone()\n",
    "            if d:\n",
    "                re = float(d[0])\n",
    "\n",
    "        conn.close()\n",
    "        if re != -1:\n",
    "            return re\n",
    "\n",
    "        conn = sqlite3.connect(\"/home/alex/network_workdir/elections/databases/complete_trump_vs_hillary_sep-nov_class_proba_final_htgs_june_sep_db.sqlite\")\n",
    "        c = conn.cursor()\n",
    "        c.execute(\"SELECT p_pro_hillary_anti_trump FROM class_proba WHERE tweet_id={}\".format(_id))\n",
    "        d = c.fetchone()\n",
    "        if d:\n",
    "            re = float(d[0])\n",
    "        else:\n",
    "            c.execute(\"SELECT p_pro_hillary_anti_trump FROM retweet_class_proba WHERE tweet_id={}\".format(_id))\n",
    "            d = c.fetchone()\n",
    "            if d:\n",
    "                re = float(d[0])\n",
    "\n",
    "        conn.close()\n",
    "\n",
    "        return re\n",
    "\n",
    "    v = get_class_proba(_id)\n",
    "    if v == -1:\n",
    "        return -1\n",
    "    return 1 if v < 0.5 else 0\n",
    "\n",
    "opinion(tid)"
   ]
  },
  {
   "cell_type": "code",
   "execution_count": 16,
   "metadata": {},
   "outputs": [
    {
     "name": "stdout",
     "output_type": "stream",
     "text": [
      "386802\n"
     ]
    }
   ],
   "source": [
    "import ujson as json\n",
    "\n",
    "# 发现那些其实是转发的tweet！\n",
    "source_tids = []\n",
    "data = json.load(open(\"data/retweet_network_fake.json\"))\n",
    "for source in data.values():\n",
    "    c.execute(\"select retweeted_status from urls where tweet_id={}\".format(source))\n",
    "    d = c.fetchone()\n",
    "    if d and d[0] == 0:\n",
    "        source_tids.append(source)\n",
    "    \n",
    "print(len(source_tids))"
   ]
  },
  {
   "cell_type": "code",
   "execution_count": 17,
   "metadata": {},
   "outputs": [
    {
     "name": "stdout",
     "output_type": "stream",
     "text": [
      "766707481611497472\n",
      "0\n"
     ]
    }
   ],
   "source": [
    "print(source_tids[0])\n",
    "\n",
    "set_tids = set(source_tids)\n",
    "\n",
    "cnt = 0\n",
    "for source in data.keys():\n",
    "    if source in set_tids:\n",
    "        cnt += 1\n",
    "print(cnt)"
   ]
  },
  {
   "cell_type": "code",
   "execution_count": 13,
   "metadata": {},
   "outputs": [
    {
     "name": "stderr",
     "output_type": "stream",
     "text": [
      "100%|██████████| 1276639/1276639 [00:13<00:00, 96158.37it/s] \n"
     ]
    }
   ],
   "source": [
    "from tqdm import tqdm\n",
    "\n",
    "conn = sqlite3.connect(\"/home/alex/network_workdir/elections/databases_ssd/complete_trump_vs_hillary_db.sqlite\")\n",
    "c = conn.cursor()\n",
    "\n",
    "for _id in tqdm(source_tids):\n",
    "    c.execute('''SELECT retweet_id FROM tweet_to_retweeted_uid WHERE tweet_id={};'''.format(_id))\n",
    "    d = c.fetchone()\n",
    "    if d:\n",
    "        print(d)"
   ]
  }
 ],
 "metadata": {
  "kernelspec": {
   "display_name": "Python 3",
   "language": "python",
   "name": "python3"
  },
  "language_info": {
   "codemirror_mode": {
    "name": "ipython",
    "version": 3
   },
   "file_extension": ".py",
   "mimetype": "text/x-python",
   "name": "python",
   "nbconvert_exporter": "python",
   "pygments_lexer": "ipython3",
   "version": "3.7.0"
  }
 },
 "nbformat": 4,
 "nbformat_minor": 2
}
