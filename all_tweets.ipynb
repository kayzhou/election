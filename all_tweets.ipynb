{
 "cells": [
  {
   "cell_type": "markdown",
   "metadata": {},
   "source": [
    "# 根据all_tweets产生的数据结果进行分析"
   ]
  },
  {
   "cell_type": "code",
   "execution_count": 5,
   "metadata": {},
   "outputs": [],
   "source": [
    "from my_weapon import *\n",
    "from collections import defaultdict, Counter\n",
    "from IPython.display import display\n",
    "from tqdm import tqdm_notebook as tqdm\n",
    "import matplotlib\n",
    "from datetime import datetime\n",
    "\n",
    "sns.set(style=\"darkgrid\", font_scale=1.5)\n",
    "sns.set_palette(\"coolwarm\", 8)\n",
    "ira_c = sns.color_palette(\"coolwarm\", 10)[9]\n",
    "all_c = sns.color_palette(\"coolwarm\", 10)[0]"
   ]
  },
  {
   "cell_type": "markdown",
   "metadata": {},
   "source": [
    "TOP hostnames"
   ]
  },
  {
   "cell_type": "code",
   "execution_count": 18,
   "metadata": {},
   "outputs": [
    {
     "data": {
      "application/vnd.jupyter.widget-view+json": {
       "model_id": "3ff28af7898846a2a4aec07fc174f00f",
       "version_major": 2,
       "version_minor": 0
      },
      "text/plain": [
       "HBox(children=(IntProgress(value=1, bar_style='info', max=1), HTML(value='')))"
      ]
     },
     "metadata": {},
     "output_type": "display_data"
    }
   ],
   "source": [
    "ht_count = Counter()\n",
    "\n",
    "for line in tqdm(open(\"disk/all_tweets_withURL.json\")):\n",
    "    ht_count[json.loads(line)[\"final_hostname\"]] += 1\n",
    "    break"
   ]
  },
  {
   "cell_type": "code",
   "execution_count": 19,
   "metadata": {},
   "outputs": [],
   "source": [
    "for ht, c in ht_count.most_common():\n",
    "    if c > 100:\n",
    "        print(ht, c, sep=\",\", file=open(\"hostname_cnt.csv\", \"a\"))"
   ]
  },
  {
   "cell_type": "markdown",
   "metadata": {},
   "source": [
    "# Load all tweets"
   ]
  },
  {
   "cell_type": "code",
   "execution_count": 18,
   "metadata": {},
   "outputs": [
    {
     "name": "stdout",
     "output_type": "stream",
     "text": [
      "loading all tweets_csv ...\n",
      "CPU times: user 52.2 s, sys: 3.24 s, total: 55.5 s\n",
      "Wall time: 1min\n",
      "finished!\n"
     ]
    }
   ],
   "source": [
    "print(\"loading all tweets_csv ...\")\n",
    "%time all_tweets = pd.read_csv(\"disk/all-tweets.csv\", dtype=str)\n",
    "# all_tweets = all_tweets.astype(\n",
    "#     {\"is_IRA\": int, \"is_source\": int, \"dt\": datetime})\n",
    "all_tweets = all_tweets.astype({\"is_IRA\": int, \"is_source\": int})\n",
    "print(\"finished!\")"
   ]
  },
  {
   "cell_type": "code",
   "execution_count": 19,
   "metadata": {},
   "outputs": [
    {
     "data": {
      "text/plain": [
       "36232050"
      ]
     },
     "execution_count": 19,
     "metadata": {},
     "output_type": "execute_result"
    }
   ],
   "source": [
    "len(all_tweets)"
   ]
  },
  {
   "cell_type": "code",
   "execution_count": 20,
   "metadata": {},
   "outputs": [
    {
     "data": {
      "text/plain": [
       "11059347"
      ]
     },
     "execution_count": 20,
     "metadata": {},
     "output_type": "execute_result"
    }
   ],
   "source": [
    "len(all_tweets[all_tweets.is_source==1])"
   ]
  },
  {
   "cell_type": "code",
   "execution_count": 21,
   "metadata": {},
   "outputs": [
    {
     "data": {
      "text/plain": [
       "36170276"
      ]
     },
     "execution_count": 21,
     "metadata": {},
     "output_type": "execute_result"
    }
   ],
   "source": [
    "non_tweets = all_tweets[all_tweets.is_IRA==0]\n",
    "len(non_tweets)"
   ]
  },
  {
   "cell_type": "code",
   "execution_count": 22,
   "metadata": {},
   "outputs": [
    {
     "data": {
      "text/plain": [
       "61774"
      ]
     },
     "execution_count": 22,
     "metadata": {},
     "output_type": "execute_result"
    }
   ],
   "source": [
    "ira_tweets = all_tweets[all_tweets.is_IRA==1]\n",
    "len(ira_tweets)"
   ]
  },
  {
   "cell_type": "code",
   "execution_count": 23,
   "metadata": {},
   "outputs": [],
   "source": [
    "fake_tweets = all_tweets[all_tweets.c_alex==\"fake\"]"
   ]
  },
  {
   "cell_type": "code",
   "execution_count": 24,
   "metadata": {},
   "outputs": [
    {
     "name": "stdout",
     "output_type": "stream",
     "text": [
      "908 1987\n",
      "1419955 2521951\n"
     ]
    }
   ],
   "source": [
    "print(len(fake_tweets[(fake_tweets.is_IRA==1) & (fake_tweets.is_source==1)]), \\\n",
    "len(fake_tweets[(fake_tweets.is_IRA==1) & (fake_tweets.is_source==0)]))\n",
    "\n",
    "print(len(fake_tweets[(fake_tweets.is_IRA==0) & (fake_tweets.is_source==1)]), \\\n",
    "len(fake_tweets[(fake_tweets.is_IRA==0) & (fake_tweets.is_source==0)]))"
   ]
  },
  {
   "cell_type": "code",
   "execution_count": 51,
   "metadata": {},
   "outputs": [],
   "source": [
    "labels = [\n",
    "    \"fake\",\n",
    "    \"extreme bias (right)\",\n",
    "    \"right\",\n",
    "    \"right leaning\",\n",
    "    \"center\",\n",
    "    \"left leaning\",\n",
    "    \"left\",\n",
    "    \"extreme bias (left)\",\n",
    "#     \"local\"\n",
    "]"
   ]
  },
  {
   "cell_type": "code",
   "execution_count": 52,
   "metadata": {},
   "outputs": [
    {
     "data": {
      "text/plain": [
       "left leaning            8627664\n",
       "center                  6946011\n",
       "left                    4737216\n",
       "right                   4549287\n",
       "extreme bias (right)    4457023\n",
       "fake                    3941906\n",
       "right leaning           1167901\n",
       "wiki                     691264\n",
       "extreme bias (left)      644571\n",
       "local                    243594\n",
       "radio                     96714\n",
       "auto                      47260\n",
       "black                     13243\n",
       "military                   6193\n",
       "Arabic                      391\n",
       "Syria                        38\n",
       "Name: c_alex, dtype: int64"
      ]
     },
     "metadata": {},
     "output_type": "display_data"
    }
   ],
   "source": [
    "sns.set_style(\"darkgrid\")\n",
    "sns.set_palette(\"coolwarm_r\", n_colors=8)\n",
    "\n",
    "# media_type_counts = tweets[\"c_alex\"].value_counts(normalize=True)\n",
    "media_type_counts = non_tweets[\"c_alex\"].value_counts()\n",
    "display(media_type_counts)"
   ]
  },
  {
   "cell_type": "code",
   "execution_count": 54,
   "metadata": {},
   "outputs": [
    {
     "data": {
      "text/plain": [
       "left leaning            0.238529\n",
       "center                  0.192036\n",
       "left                    0.130970\n",
       "right                   0.125774\n",
       "extreme bias (right)    0.123223\n",
       "fake                    0.108982\n",
       "right leaning           0.032289\n",
       "wiki                    0.019111\n",
       "extreme bias (left)     0.017820\n",
       "local                   0.006735\n",
       "radio                   0.002674\n",
       "auto                    0.001307\n",
       "black                   0.000366\n",
       "military                0.000171\n",
       "Arabic                  0.000011\n",
       "Syria                   0.000001\n",
       "Name: c_alex, dtype: float64"
      ]
     },
     "metadata": {},
     "output_type": "display_data"
    }
   ],
   "source": [
    "media_type_counts_normalized = non_tweets[\"c_alex\"].value_counts(normalize=True)\n",
    "display(media_type_counts_normalized)"
   ]
  },
  {
   "cell_type": "code",
   "execution_count": 58,
   "metadata": {},
   "outputs": [
    {
     "data": {
      "image/png": "[encoded data removed]",
      "text/plain": [
       "<Figure size 576x432 with 1 Axes>"
      ]
     },
     "metadata": {},
     "output_type": "display_data"
    }
   ],
   "source": [
    "from matplotlib.ticker import FuncFormatter\n",
    "\n",
    "# plt.figure(figsize=(8, 6))\n",
    "fig, ax = plt.subplots(figsize=(8, 6))\n",
    "# x = range(len(media_type_counts))\n",
    "x = range(8)\n",
    "\n",
    "for i in x:\n",
    "    plt.bar(i, media_type_counts[labels[i]], width=0.6)\n",
    "    \n",
    "plt.xticks(x, [labels[i] for i in x])\n",
    "# plt.xlabel(\"IRAs\", fontsize=18)\n",
    "plt.ylabel(\"$P_t$\")\n",
    "plt.xticks(rotation=40, fontsize=15)\n",
    "\n",
    "def formatnum(x, pos):\n",
    "    return '$%.1f$x$10^{6}$' % (x/1000000)\n",
    "formatter = FuncFormatter(formatnum)\n",
    "ax.yaxis.set_major_formatter(formatter)\n",
    "plt.yticks(fontsize=14)\n",
    "\n",
    "plt.savefig(\"fig/Pt-all.pdf\", dpi=300, bbox_inches='tight')"
   ]
  },
  {
   "cell_type": "code",
   "execution_count": 63,
   "metadata": {},
   "outputs": [
    {
     "data": {
      "image/png": "[encoded data removed]",
      "text/plain": [
       "<Figure size 576x432 with 1 Axes>"
      ]
     },
     "metadata": {},
     "output_type": "display_data"
    }
   ],
   "source": [
    "fig, ax = plt.subplots(figsize=(8, 6))\n",
    "x = range(6)\n",
    "\n",
    "for i in x:\n",
    "    if i == 0:\n",
    "        plt.bar(i, media_type_counts[labels[0]] + media_type_counts[labels[1]]\n",
    "                    + media_type_counts[labels[7]], width=0.5)\n",
    "    else:\n",
    "        plt.bar(i, media_type_counts[labels[i + 1]], width=0.5)\n",
    "\n",
    "new_labels = [\"fake &\\nextreme bias\", \"right\", \"right leaning\", \"center\", \"left leaning\", \"left\"]\n",
    "plt.xticks(x, new_labels)\n",
    "# plt.xlabel(\"IRAs\", fontsize=18)\n",
    "plt.ylabel('$N_{t}$', fontsize=15)\n",
    "plt.xticks(rotation=45, fontsize=15)\n",
    "# plt.yticks(fontsize=14)\n",
    "\n",
    "plt.savefig(\"fig/Nt-all.pdf\", dpi=300, bbox_inches='tight')"
   ]
  },
  {
   "cell_type": "code",
   "execution_count": 64,
   "metadata": {},
   "outputs": [
    {
     "data": {
      "text/plain": [
       "local                   26689\n",
       "left leaning             6293\n",
       "right                    5423\n",
       "center                   4989\n",
       "radio                    3686\n",
       "fake                     2895\n",
       "extreme bias (right)     2883\n",
       "left                     2671\n",
       "right leaning            2164\n",
       "black                    1602\n",
       "auto                      963\n",
       "Syria                     731\n",
       "military                  287\n",
       "wiki                      221\n",
       "Arabic                    167\n",
       "extreme bias (left)       110\n",
       "Name: c_alex, dtype: int64"
      ]
     },
     "metadata": {},
     "output_type": "display_data"
    }
   ],
   "source": [
    "# tweets = ira_tweets[ira_tweets.c_alex!=\"-1\"]\n",
    "# media_type_counts = tweets[\"c_alex\"].value_counts(normalize=True)\n",
    "media_type_counts = ira_tweets[\"c_alex\"].value_counts()\n",
    "display(media_type_counts)"
   ]
  },
  {
   "cell_type": "code",
   "execution_count": 65,
   "metadata": {},
   "outputs": [],
   "source": [
    "# media_type_counts = ira_tweets[\"c_alex\"].value_counts(normalize=True)\n",
    "# media_type_counts"
   ]
  },
  {
   "cell_type": "code",
   "execution_count": 66,
   "metadata": {},
   "outputs": [
    {
     "data": {
      "image/png": "[encoded data removed]",
      "text/plain": [
       "<Figure size 720x432 with 1 Axes>"
      ]
     },
     "metadata": {},
     "output_type": "display_data"
    }
   ],
   "source": [
    "plt.figure(figsize=(10, 6))\n",
    "x = range(8)\n",
    "\n",
    "for i in x:\n",
    "    plt.bar(i, media_type_counts[labels[i]], width=0.6)\n",
    "    \n",
    "plt.xticks(x, [labels[i] for i in x])\n",
    "# plt.xlabel(\"IRAs\", fontsize=18)\n",
    "plt.ylabel('$P_{t}$', fontsize=15)\n",
    "plt.xticks(rotation=45, fontsize=15)\n",
    "# plt.yticks(fontsize=14)\n",
    "\n",
    "plt.savefig(\"fig/Pt-ira.pdf\", dpi=300, bbox_inches='tight')"
   ]
  },
  {
   "cell_type": "code",
   "execution_count": 68,
   "metadata": {},
   "outputs": [
    {
     "data": {
      "image/png": "[encoded data removed]",
      "text/plain": [
       "<Figure size 576x432 with 1 Axes>"
      ]
     },
     "metadata": {},
     "output_type": "display_data"
    }
   ],
   "source": [
    "plt.figure(figsize=(8, 6))\n",
    "x = range(6)\n",
    "\n",
    "for i in x:\n",
    "    if i == 0:\n",
    "        plt.bar(i, media_type_counts[labels[0]] + media_type_counts[labels[1]]\n",
    "                    + media_type_counts[labels[7]], width=0.5)\n",
    "    else:\n",
    "        plt.bar(i, media_type_counts[labels[i + 1]], width=0.5)\n",
    "\n",
    "new_labels = [\"fake &\\nextreme bias\", \"right\", \"right leaning\", \"center\", \"left leaning\", \"left\"]\n",
    "plt.xticks(x, new_labels)\n",
    "# plt.xlabel(\"IRAs\", fontsize=18)\n",
    "plt.ylabel('$N_{t}$', fontsize=15)\n",
    "plt.xticks(rotation=45, fontsize=15)\n",
    "# plt.yticks(fontsize=14)\n",
    "\n",
    "plt.savefig(\"fig/Nt-ira.pdf\", dpi=300, bbox_inches='tight')"
   ]
  },
  {
   "cell_type": "markdown",
   "metadata": {},
   "source": [
    "## IRA作为源，或者参与到其中的消息是否更加爆炸？"
   ]
  },
  {
   "cell_type": "code",
   "execution_count": 20,
   "metadata": {},
   "outputs": [],
   "source": [
    "ira_as_source = ira_tweets[ira_tweets.is_source == 1]"
   ]
  },
  {
   "cell_type": "code",
   "execution_count": 78,
   "metadata": {},
   "outputs": [
    {
     "data": {
      "text/plain": [
       "<matplotlib.axes._subplots.AxesSubplot at 0x7f195f28d1d0>"
      ]
     },
     "execution_count": 78,
     "metadata": {},
     "output_type": "execute_result"
    },
    {
     "data": {
      "image/png": "[encoded data removed]",
      "text/plain": [
       "<Figure size 432x288 with 1 Axes>"
      ]
     },
     "metadata": {},
     "output_type": "display_data"
    }
   ],
   "source": [
    "pd.Series(ira_as_source.c_alex.value_counts(), index=[labels[i] for i in range(len(labels))]).plot(\"bar\")"
   ]
  },
  {
   "cell_type": "markdown",
   "metadata": {},
   "source": [
    "IRA作为源的新闻，被转发多少次"
   ]
  },
  {
   "cell_type": "code",
   "execution_count": 44,
   "metadata": {},
   "outputs": [],
   "source": [
    "tweets_count = all_tweets.groupby(\"retweeted_id\").count().tweet_id"
   ]
  },
  {
   "cell_type": "code",
   "execution_count": 17,
   "metadata": {},
   "outputs": [
    {
     "data": {
      "text/plain": [
       "7544"
      ]
     },
     "execution_count": 17,
     "metadata": {},
     "output_type": "execute_result"
    }
   ],
   "source": [
    "len(ira_as_source)"
   ]
  },
  {
   "cell_type": "code",
   "execution_count": null,
   "metadata": {},
   "outputs": [
    {
     "data": {
      "application/vnd.jupyter.widget-view+json": {
       "model_id": "97902d2c36ab4defb857a01e25c847f2",
       "version_major": 2,
       "version_minor": 0
      },
      "text/plain": [
       "HBox(children=(IntProgress(value=1, bar_style='info', max=1), HTML(value='')))"
      ]
     },
     "metadata": {},
     "output_type": "display_data"
    }
   ],
   "source": [
    "import sys, traceback\n",
    "\n",
    "media_len_ret = Counter()\n",
    "\n",
    "for _, row in tqdm(ira_as_source.iterrows()):\n",
    "    try:\n",
    "        tweet_id = row[\"tweet_id\"]\n",
    "        c = int(tweets_count[tweets_count.index==tweet_id].values)\n",
    "    except:\n",
    "        c = 0\n",
    "        # traceback.print_exc()\n",
    "        \n",
    "    media_len_ret[row.c_alex] += c"
   ]
  },
  {
   "cell_type": "code",
   "execution_count": 17,
   "metadata": {},
   "outputs": [
    {
     "data": {
      "text/plain": [
       "<matplotlib.axes._subplots.AxesSubplot at 0x7f8da8f5a668>"
      ]
     },
     "execution_count": 17,
     "metadata": {},
     "output_type": "execute_result"
    },
    {
     "data": {
      "image/png": "[encoded data removed]",
      "text/plain": [
       "<Figure size 432x288 with 1 Axes>"
      ]
     },
     "metadata": {},
     "output_type": "display_data"
    }
   ],
   "source": [
    "pd.Series(dict_media_len_ret, index=[str(i) for i in range(8)]).plot(\"bar\")"
   ]
  },
  {
   "cell_type": "code",
   "execution_count": 18,
   "metadata": {},
   "outputs": [],
   "source": [
    "URL_count = all_tweets.URL.value_counts()"
   ]
  },
  {
   "cell_type": "code",
   "execution_count": 19,
   "metadata": {},
   "outputs": [
    {
     "name": "stderr",
     "output_type": "stream",
     "text": [
      "7345it [00:01, 7173.16it/s]\n"
     ]
    },
    {
     "data": {
      "text/plain": [
       "0    351.173469\n",
       "1    944.808525\n",
       "2    588.846596\n",
       "3    572.043689\n",
       "4    237.193947\n",
       "5    544.730479\n",
       "6    235.702247\n",
       "7    107.436170\n",
       "dtype: float64"
      ]
     },
     "metadata": {},
     "output_type": "display_data"
    },
    {
     "data": {
      "image/png": "[encoded data removed]",
      "text/plain": [
       "<Figure size 432x288 with 1 Axes>"
      ]
     },
     "metadata": {},
     "output_type": "display_data"
    },
    {
     "data": {
      "text/plain": [
       "0     412980\n",
       "1    1440833\n",
       "2     717804\n",
       "3     117841\n",
       "4     384017\n",
       "5     432516\n",
       "6     167820\n",
       "7      10099\n",
       "dtype: int64"
      ]
     },
     "metadata": {},
     "output_type": "display_data"
    },
    {
     "data": {
      "image/png": "[encoded data removed]",
      "text/plain": [
       "<Figure size 432x288 with 1 Axes>"
      ]
     },
     "metadata": {},
     "output_type": "display_data"
    }
   ],
   "source": [
    "dict_media_len_ret = defaultdict(list)\n",
    "\n",
    "for _, row in tqdm(IRA_tweets.iterrows()):\n",
    "    c = int(URL_count[row.URL])\n",
    "    dict_media_len_ret[row.media_type].append(c)\n",
    "\n",
    "_ave = {k: sum(v) / len(v) for k, v in dict_media_len_ret.items()}\n",
    "_sum = {k: sum(v) for k, v in dict_media_len_ret.items()}\n",
    "\n",
    "d = pd.Series(_ave, index=[str(i) for i in range(8)])\n",
    "display(d)\n",
    "d.plot(\"bar\")\n",
    "plt.show()\n",
    "plt.close()\n",
    "\n",
    "d = pd.Series(_sum, index=[str(i) for i in range(8)])\n",
    "display(d)\n",
    "d.plot(\"bar\")\n",
    "plt.show()\n",
    "plt.close()"
   ]
  },
  {
   "cell_type": "code",
   "execution_count": 20,
   "metadata": {},
   "outputs": [
    {
     "name": "stderr",
     "output_type": "stream",
     "text": [
      "7345it [00:00, 13289.07it/s]\n"
     ]
    },
    {
     "data": {
      "text/plain": [
       "0    216.328990\n",
       "1    924.779412\n",
       "2    374.208145\n",
       "3    250.130435\n",
       "4    483.034188\n",
       "5     97.679104\n",
       "6    253.585366\n",
       "7    109.384615\n",
       "dtype: float64"
      ]
     },
     "metadata": {},
     "output_type": "display_data"
    },
    {
     "data": {
      "image/png": "[encoded data removed]",
      "text/plain": [
       "<Figure size 432x288 with 1 Axes>"
      ]
     },
     "metadata": {},
     "output_type": "display_data"
    },
    {
     "data": {
      "text/plain": [
       "0     66413\n",
       "1    125770\n",
       "2     82700\n",
       "3      5753\n",
       "4     56515\n",
       "5     26178\n",
       "6     20794\n",
       "7      1422\n",
       "dtype: int64"
      ]
     },
     "metadata": {},
     "output_type": "display_data"
    },
    {
     "data": {
      "image/png": "[encoded data removed]",
      "text/plain": [
       "<Figure size 432x288 with 1 Axes>"
      ]
     },
     "metadata": {},
     "output_type": "display_data"
    }
   ],
   "source": [
    "dict_media_len_ret = defaultdict(list)\n",
    "\n",
    "for _, row in tqdm(IRA_tweets.iterrows()):\n",
    "    if row.is_source == 1:\n",
    "        c = int(URL_count[row.URL])\n",
    "        dict_media_len_ret[row.media_type].append(c)\n",
    "\n",
    "_ave = {k: sum(v) / len(v) for k, v in dict_media_len_ret.items()}\n",
    "_sum = {k: sum(v) for k, v in dict_media_len_ret.items()}\n",
    "\n",
    "d = pd.Series(_ave, index=[str(i) for i in range(8)])\n",
    "display(d)\n",
    "d.plot(\"bar\")\n",
    "plt.show()\n",
    "plt.close()\n",
    "\n",
    "d = pd.Series(_sum, index=[str(i) for i in range(8)])\n",
    "display(d)\n",
    "d.plot(\"bar\")\n",
    "plt.show()\n",
    "plt.close()"
   ]
  },
  {
   "cell_type": "markdown",
   "metadata": {},
   "source": [
    "为了作为对比，所有的URL又是什么情况呢？"
   ]
  },
  {
   "cell_type": "markdown",
   "metadata": {},
   "source": [
    " # Loading all-users.csv ... ... !!!\n",
    "\n",
    "!! Already coded in the all_tweets.py for making all-users.csv"
   ]
  },
  {
   "cell_type": "code",
   "execution_count": 15,
   "metadata": {},
   "outputs": [],
   "source": [
    "labels = [\n",
    "    \"fake\",\n",
    "    \"extreme bias (right)\",\n",
    "    \"right\",\n",
    "    \"right leaning\",\n",
    "    \"center\",\n",
    "    \"left leaning\",\n",
    "    \"left\",\n",
    "    \"extreme bias (left)\",\n",
    "    \"local\",\n",
    "]\n",
    "\n",
    "# labels = [str(i) for i in range(9)]"
   ]
  },
  {
   "cell_type": "code",
   "execution_count": 16,
   "metadata": {},
   "outputs": [
    {
     "name": "stdout",
     "output_type": "stream",
     "text": [
      "2516728\n"
     ]
    }
   ],
   "source": [
    "# all_users = pd.read_csv(\"data/all-users-mbfc.csv\", index_col=\"user_id\", dtype={\"user_id\": str})\n",
    "all_users = pd.read_csv(\"data/all-users.csv\", index_col=\"user_id\", dtype={\"user_id\": str})\n",
    "print(len(all_users))\n",
    "# change the type\n",
    "# f_labels = [map_labels[k] for k in map_labels]\n",
    "all_users = all_users.astype({\"is_IRA\": int})\n",
    "\n",
    "for label in labels:\n",
    "    # print(label)\n",
    "    all_users = all_users.astype({label: int,\n",
    "                                  label + \"_source\": int})\n",
    "#                                   label + \"_source_rate\": float})"
   ]
  },
  {
   "cell_type": "raw",
   "metadata": {},
   "source": [
    "for i, row in tqdm(all_users.iterrows()):\n",
    "    _sum = 0\n",
    "    for lab in labels:\n",
    "        _sum += row[lab]\n",
    "    all_users.loc[i, \"_sum\"] = _sum"
   ]
  },
  {
   "cell_type": "raw",
   "metadata": {},
   "source": [
    "# user_id > screen_name\n",
    "\n",
    "user_info = pd.DataFrame([json.loads(line.strip()) for line in open(\"data/user-top-info.json\")])\n",
    "user_info = user_info.rename(columns={'id_str': 'user_id'})\n",
    "user_info = user_info.set_index(\"user_id\")\n",
    "map_user_name = []\n",
    "for line in open(\"data/user-top-info.json\"):\n",
    "    d = json.loads(line.strip())\n",
    "    try:\n",
    "        dat = {\"user_id\": d[\"id_str\"], \"name\": d[\"name\"]}\n",
    "    except:\n",
    "        dat = {\"user_id\": d[\"id_str\"], \"name\": d[\"message\"]}\n",
    "    map_user_name.append(dat)\n",
    "    \n",
    "map_user_name = pd.DataFrame(map_user_name).set_index(\"user_id\")\n",
    "\n",
    "# Show the top sources !!!\n",
    "\n",
    "for label in labels:\n",
    "    print(label)\n",
    "    tmp = users.sort_values(label + \"_source\", ascending=False).head(25)\n",
    "    tmp = tmp.join(map_user_name)\n",
    "#     display(tmp)\n",
    "#     display(tmp[[label + \"_source\", \"name\"]].sort_values(label + \"_source\", ascending=False))"
   ]
  },
  {
   "cell_type": "markdown",
   "metadata": {},
   "source": [
    "## Overlap between fake and left\n",
    "\n",
    "分析IRA到底在选举期间的作用"
   ]
  },
  {
   "cell_type": "code",
   "execution_count": 20,
   "metadata": {},
   "outputs": [
    {
     "data": {
      "text/plain": [
       "360"
      ]
     },
     "execution_count": 20,
     "metadata": {},
     "output_type": "execute_result"
    }
   ],
   "source": [
    "IRA_users = all_users[all_users.is_IRA > 0]\n",
    "len(IRA_users)"
   ]
  },
  {
   "cell_type": "code",
   "execution_count": 21,
   "metadata": {},
   "outputs": [
    {
     "data": {
      "text/plain": [
       "2516368"
      ]
     },
     "execution_count": 21,
     "metadata": {},
     "output_type": "execute_result"
    }
   ],
   "source": [
    "non_users = all_users[all_users.is_IRA == 0]\n",
    "len(non_users)"
   ]
  },
  {
   "cell_type": "code",
   "execution_count": 97,
   "metadata": {},
   "outputs": [],
   "source": [
    "IRA_users.to_csv(\"data/IRA-users-20190619.csv\")"
   ]
  },
  {
   "cell_type": "code",
   "execution_count": 98,
   "metadata": {},
   "outputs": [
    {
     "data": {
      "text/plain": [
       "count    360.000000\n",
       "mean       8.041667\n",
       "std       36.799857\n",
       "min        0.000000\n",
       "25%        0.000000\n",
       "50%        0.000000\n",
       "75%        2.000000\n",
       "max      409.000000\n",
       "Name: fake, dtype: float64"
      ]
     },
     "execution_count": 98,
     "metadata": {},
     "output_type": "execute_result"
    }
   ],
   "source": [
    "IRA_users.fake.describe()"
   ]
  },
  {
   "cell_type": "code",
   "execution_count": 99,
   "metadata": {},
   "outputs": [],
   "source": [
    "IRA_u = IRA_users[labels]"
   ]
  },
  {
   "cell_type": "raw",
   "metadata": {},
   "source": [
    "for i, row in tqdm(IRA_u.iterrows()):\n",
    "    _sum = 0\n",
    "    for _l in labels:\n",
    "        _sum += IRA_u.loc[i, _l]\n",
    "    IRA_u.loc[i, \"_sum\"] = _sum"
   ]
  },
  {
   "cell_type": "code",
   "execution_count": 100,
   "metadata": {},
   "outputs": [
    {
     "data": {
      "text/plain": [
       "360"
      ]
     },
     "execution_count": 100,
     "metadata": {},
     "output_type": "execute_result"
    }
   ],
   "source": [
    "len(IRA_u)"
   ]
  },
  {
   "cell_type": "code",
   "execution_count": null,
   "metadata": {},
   "outputs": [],
   "source": [
    "IRA_u.loc[:, \"fake+right\"] = IRA_u[\"fake\"] + IRA_u[\"extreme bias (right)\"] + IRA_u[\"right\"] + \\\n",
    "    IRA_u[\"right leaning\"] + IRA_u[\"extreme bias (left)\"]"
   ]
  },
  {
   "cell_type": "code",
   "execution_count": 62,
   "metadata": {},
   "outputs": [],
   "source": [
    "IRA_u.loc[:, \"center+left\"] = IRA_u[\"center\"] + IRA_u[\"left leaning\"]"
   ]
  },
  {
   "cell_type": "code",
   "execution_count": 63,
   "metadata": {},
   "outputs": [],
   "source": [
    "IRA_u.loc[:, \"fake+extreme\"] = IRA_u[\"fake\"] + IRA_u[\"extreme bias (right)\"]"
   ]
  },
  {
   "cell_type": "code",
   "execution_count": 64,
   "metadata": {},
   "outputs": [],
   "source": [
    "IRA_u.loc[:, \"fake/left\"] = np.log((IRA_u[\"center+left\"] + 1)) - np.log((IRA_u[\"fake+extreme\"] + 1))"
   ]
  },
  {
   "cell_type": "code",
   "execution_count": null,
   "metadata": {},
   "outputs": [],
   "source": [
    "IRA_u.sort_values(\"fake+extreme\", ascending=False)[:25]"
   ]
  },
  {
   "cell_type": "code",
   "execution_count": null,
   "metadata": {},
   "outputs": [],
   "source": [
    "IRA_u.sort_values(\"center+left\", ascending=False)[:25]"
   ]
  },
  {
   "cell_type": "code",
   "execution_count": 68,
   "metadata": {},
   "outputs": [
    {
     "data": {
      "text/plain": [
       "<matplotlib.axes._subplots.AxesSubplot at 0x7f13bf306160>"
      ]
     },
     "execution_count": 68,
     "metadata": {},
     "output_type": "execute_result"
    },
    {
     "data": {
      "image/png": "[encoded data removed]",
      "text/plain": [
       "<Figure size 432x288 with 1 Axes>"
      ]
     },
     "metadata": {},
     "output_type": "display_data"
    }
   ],
   "source": [
    "sns.scatterplot(x=\"center+left\", y=\"fake+extreme\", data=IRA_u)\n",
    "# plt.title(\"Number of IRA's tweets corresponding to media categories\")\n",
    "# plt.xscale(\"log\")\n",
    "# plt.yscale(\"log\")"
   ]
  },
  {
   "cell_type": "code",
   "execution_count": 69,
   "metadata": {},
   "outputs": [
    {
     "data": {
      "text/plain": [
       "<matplotlib.axes._subplots.AxesSubplot at 0x7f13d0993908>"
      ]
     },
     "execution_count": 69,
     "metadata": {},
     "output_type": "execute_result"
    },
    {
     "data": {
      "image/png": "[encoded data removed]",
      "text/plain": [
       "<Figure size 432x288 with 1 Axes>"
      ]
     },
     "metadata": {},
     "output_type": "display_data"
    }
   ],
   "source": [
    "sns.scatterplot(x=\"left leaning\", y=\"fake\", data=IRA_u)\n",
    "# plt.xscale(\"log\")\n",
    "# plt.yscale(\"log\")"
   ]
  },
  {
   "cell_type": "code",
   "execution_count": 70,
   "metadata": {},
   "outputs": [
    {
     "data": {
      "text/plain": [
       "<matplotlib.axes._subplots.AxesSubplot at 0x7f14ebda4c88>"
      ]
     },
     "execution_count": 70,
     "metadata": {},
     "output_type": "execute_result"
    },
    {
     "data": {
      "image/png": "[encoded data removed]",
      "text/plain": [
       "<Figure size 432x288 with 1 Axes>"
      ]
     },
     "metadata": {},
     "output_type": "display_data"
    }
   ],
   "source": [
    "sns.scatterplot(x=\"center+left\", y=\"fake+right\", data=IRA_u)\n",
    "# plt.xscale(\"log\")\n",
    "# plt.yscale(\"log\")"
   ]
  },
  {
   "cell_type": "code",
   "execution_count": null,
   "metadata": {},
   "outputs": [],
   "source": [
    "import numpy as np\n",
    "import seaborn as sns\n",
    "sns.set(style=\"darkgrid\")\n",
    "\n",
    "IRA_u['log1'] = np.log(IRA_u[\"center+left\"] + 1)\n",
    "IRA_u['log2'] = np.log(IRA_u[\"fake\"] + 1)\n",
    "sns.jointplot(x=\"log1\", y=\"log2\", data=IRA_u, kind=\"hex\", color=\"#4CB391\")"
   ]
  },
  {
   "cell_type": "code",
   "execution_count": 72,
   "metadata": {},
   "outputs": [
    {
     "data": {
      "text/plain": [
       "<matplotlib.axes._subplots.AxesSubplot at 0x7f13d09fbc88>"
      ]
     },
     "execution_count": 72,
     "metadata": {},
     "output_type": "execute_result"
    },
    {
     "data": {
      "image/png": "[encoded data removed]",
      "text/plain": [
       "<Figure size 432x288 with 1 Axes>"
      ]
     },
     "metadata": {},
     "output_type": "display_data"
    }
   ],
   "source": [
    "IRA_u[\"fake/left\"].hist(bins=30)"
   ]
  },
  {
   "cell_type": "code",
   "execution_count": 17,
   "metadata": {},
   "outputs": [],
   "source": [
    "labels = [\n",
    "    \"fake\",\n",
    "    \"extreme bias (right)\",\n",
    "    \"right\",\n",
    "    \"right leaning\",\n",
    "    \"center\",\n",
    "    \"left leaning\",\n",
    "    \"left\",\n",
    "    \"extreme bias (left)\",\n",
    "    \"local\"\n",
    "]"
   ]
  },
  {
   "cell_type": "code",
   "execution_count": 22,
   "metadata": {},
   "outputs": [],
   "source": [
    "def get_big_table(_users):\n",
    "    big_table = []\n",
    "\n",
    "    for lab in labels:\n",
    "        volume = int(_users[lab].sum()) # 某种媒体上总和\n",
    "        source_volume = int(_users[lab + \"_source\"].sum())\n",
    "#         first_volume = _users[lab + \"_first\"].sum()\n",
    "#         source_rate = _users[_users[lab + \"_source_rate\"] > 0][lab + \"_source_rate\"].mean()\n",
    "#         first_rate = _users[_users[lab + \"_first_rate\"] > 0][lab + \"_first_rate\"].mean()\n",
    "        user_volume = len(_users[_users[lab]>0])\n",
    "        source_user_volume = len(_users[_users[lab + \"_source\"]>0])\n",
    "        \n",
    "#         d = dict(Nt=volume, Ns=source_volume, Nu=user_volume,\n",
    "#                  Rs=source_rate, Rf=first_rate, Nsu=source_user_volume, Nf=first_volume)\n",
    "\n",
    "        d = dict(Nt=volume, Ns=source_volume, Nu=user_volume, Nsu=source_user_volume)\n",
    "        big_table.append(d)\n",
    "    \n",
    "    big_table = pd.DataFrame(big_table, index=labels)\n",
    "    big_table[\"Pt\"] = big_table[\"Nt\"] / big_table[\"Nt\"].sum()\n",
    "    big_table[\"Ps\"] = big_table[\"Ns\"] / big_table[\"Ns\"].sum()\n",
    "    big_table[\"Ns/Nt\"] = big_table[\"Ns\"] / big_table[\"Nt\"]\n",
    "#     big_table[\"Nf/Nt\"] = big_table[\"Nf\"] / big_table[\"Nt\"]\n",
    "    big_table[\"Nt/Nu\"] = big_table[\"Nt\"] / big_table[\"Nu\"]\n",
    "    big_table[\"Ns/Nsu\"] = big_table[\"Ns\"] / big_table[\"Nsu\"]\n",
    "\n",
    "    big_table = big_table[[\"Nt\", \"Pt\", \"Ns\", \"Ns/Nt\", \"Ps\", \"Nu\", \"Nt/Nu\", \"Nsu\", \"Ns/Nsu\"]]\n",
    "    \n",
    "    big_table = big_table.round(2)\n",
    "#     big_table = big_table[[\"Nt\", \"Pt\", \"Ns\", \"Ns/Nt\", \"Ps\", \"Nu\", \"Nt/Nu\", \"Nsu\", \"Ns/Nsu\"]]\n",
    "#     big_table = big_table[[\"Nt\", \"Pt\", \"Ns\", \"Ps\", \"Ns/Nt\", \"Nu\", \"Rs\", \"Rf\", \"Nt/Nu\"]]\n",
    "    return big_table\n",
    "\n",
    "\n",
    "def plot_compare(col_name):\n",
    "    ax = plt.figure(figsize=(10, 6))\n",
    "    plt.ylabel(col_name, fontsize=15)\n",
    "    print(BT[col_name])\n",
    "    print(BT2[col_name])\n",
    "    BT[col_name].plot.bar(width=0.3, position=1, color=ira_c, label=\"IRA\")\n",
    "    BT2[col_name].plot.bar(width=0.3, position=0, color=all_c, label=\"non-IRA\")\n",
    "    \n",
    "    plt.xlim(-1, len(labels))\n",
    "    \n",
    "#     if col_name == \"Ns/Nt\":\n",
    "#         plt.ylim((0, 0.5))\n",
    "#     if col_name == \"Rs\":\n",
    "#         plt.ylim((0, 0.15))\n",
    "#     if col_name == \"Rf\":\n",
    "#         plt.ylim((0, 0.08))\n",
    "    \n",
    "    plt.xticks(fontsize=14, rotation=45)\n",
    "    plt.legend(fontsize=13)\n",
    "    if col_name == \"Pt\":\n",
    "        plt.ylabel(\"$P_{t}$\")\n",
    "#         plt.ylim(0, 0.5)\n",
    "    col_name = col_name.replace(\"/\", \"-\")\n",
    "    plt.savefig(\"fig/{}.pdf\".format(col_name), dpi=300, bbox_inches='tight')\n",
    "    plt.show()\n",
    "    plt.close()\n",
    "        \n",
    "# % ---------------------------------------------\n",
    "#                Communitity\n",
    "# % ---------------------------------------------\n",
    "\n",
    "def plot_community(cNum):\n",
    "    \"\"\"\n",
    "    描绘社团的政治光谱\n",
    "    \"\"\"\n",
    "    # get users\n",
    "    if cNum == -1:\n",
    "        users_comm = [k for k in comm]\n",
    "    else:\n",
    "        users_comm = [k for k in comm if comm[k] == cNum]\n",
    "        \n",
    "    all_users_comm = all_users.reindex(users_comm)\n",
    "    \n",
    "    non_comm = all_users_comm[all_users_comm.is_IRA == 0]\n",
    "    _BT = get_big_table(non_comm)\n",
    "    _BT.to_csv(f\"data/non_c{cNum}_BT.csv\", float_format=\"%.2f\")\n",
    "    display(_BT)\n",
    "    # plot_col(_BT, \"Pt\")\n",
    "    \n",
    "    ira_comm = all_users_comm[all_users_comm.is_IRA > 0]\n",
    "    print(len(non_comm), len(ira_comm))\n",
    "    \n",
    "    _BT2 = get_big_table(ira_comm)\n",
    "    _BT2.to_csv(f\"data/IRA_c{cNum}_BT.csv\", float_format=\"%.2f\")\n",
    "    display(_BT2)\n",
    "    # plot_col(_BT2, \"Pt\")\n",
    "    \n",
    "    plot_compare_comm(_BT2, _BT, \"Pt\", cNum)\n",
    "    plot_col_fakeExtreme(_BT2, \"Pt\", cNum)\n",
    "    \n",
    "    \n",
    "def plot_compare_comm(BT, BT2, col_name, cNum):\n",
    "    \"\"\"\n",
    "    比较一个社团内IRA与non-IRA在col_name上的差异\n",
    "    \"\"\"\n",
    "    ax = plt.figure(figsize=(10, 6))\n",
    "    plt.ylabel(col_name, fontsize=15)\n",
    "#     print(BT[col_name])\n",
    "#     print(BT2[col_name])\n",
    "    BT[col_name].plot.bar(width=0.3, position=1, color=ira_c, label=\"IRA\")\n",
    "    BT2[col_name].plot.bar(width=0.3, position=0, color=all_c, label=\"non-IRA\")\n",
    "    \n",
    "    plt.xlim(-1, len(labels))\n",
    "    \n",
    "#     if col_name == \"Ns/Nt\":\n",
    "#         plt.ylim((0, 0.5))\n",
    "#     if col_name == \"Rs\":\n",
    "#         plt.ylim((0, 0.15))\n",
    "#     if col_name == \"Rf\":\n",
    "#         plt.ylim((0, 0.08))\n",
    "    \n",
    "    plt.xticks(fontsize=14, rotation=45)\n",
    "    plt.legend(fontsize=13)\n",
    "#     if col_name == \"Pt\":\n",
    "#         plt.ylabel(\"$P_{t}$\")\n",
    "#         plt.ylim(0, 0.4) \n",
    "    col_name = col_name.replace(\"/\", \"-\")\n",
    "    plt.savefig(f\"fig/C{cNum}-{col_name}.pdf\", dpi=300, bbox_inches='tight')\n",
    "    plt.show()\n",
    "    plt.close()\n",
    "    \n",
    "    \n",
    "def plot_col_fakeExtreme(BT, col_name, cNum=-1):\n",
    "    x = range(6)\n",
    "    # print(labels)\n",
    "    \n",
    "    ax = plt.figure(figsize=(8, 6))\n",
    "    for i in x:\n",
    "        if i == 0:\n",
    "            plt.bar(i, BT[col_name][labels[0]] + BT[col_name][labels[1]] + BT[col_name][labels[7]],\n",
    "                    width=0.5)\n",
    "        else:\n",
    "            plt.bar(i, BT[col_name][labels[i + 1]], width=0.5)\n",
    "            \n",
    "    sns.set_palette(\"coolwarm_r\", 6)\n",
    "    new_labels = [\"fake &\\nextreme bias\", \"right\", \"right leaning\", \"center\", \"left leaning\", \"left\"]\n",
    "    plt.xticks(x, new_labels)\n",
    "    # plt.xlabel(\"IRAs\", fontsize=18)\n",
    "    plt.ylabel('$P_{t}$', fontsize=15)\n",
    "    plt.xticks(rotation=45, fontsize=15)\n",
    "    # plt.yticks(fontsize=14)\n",
    "\n",
    "#     plt.ylabel(col_name, fontsize=15)\n",
    "#     print(BT[col_name])\n",
    "#     BT[col_name].plot.bar(width=0.3)\n",
    "#     plt.xlim(-1, len(labels))\n",
    "    \n",
    "#     if col_name == \"Ns/Nt\":\n",
    "#         plt.ylim((0, 0.5))\n",
    "#     if col_name == \"Rs\":\n",
    "#         plt.ylim((0, 0.15))\n",
    "#     if col_name == \"Rf\":\n",
    "#         plt.ylim((0, 0.08))\n",
    "    \n",
    "    if cNum != -1:\n",
    "        plt.savefig(f\"fig/C{cNum}_{col_name}-fakeExtre.pdf\", dpi=300, bbox_inches='tight')\n",
    "    plt.show()\n",
    "    plt.close()\n",
    "    "
   ]
  },
  {
   "cell_type": "code",
   "execution_count": 23,
   "metadata": {},
   "outputs": [
    {
     "data": {
      "text/html": [
       "<div>\n",
       "<style scoped>\n",
       "    .dataframe tbody tr th:only-of-type {\n",
       "        vertical-align: middle;\n",
       "    }\n",
       "\n",
       "    .dataframe tbody tr th {\n",
       "        vertical-align: top;\n",
       "    }\n",
       "\n",
       "    .dataframe thead th {\n",
       "        text-align: right;\n",
       "    }\n",
       "</style>\n",
       "<table border=\"1\" class=\"dataframe\">\n",
       "  <thead>\n",
       "    <tr style=\"text-align: right;\">\n",
       "      <th></th>\n",
       "      <th>Nt</th>\n",
       "      <th>Pt</th>\n",
       "      <th>Ns</th>\n",
       "      <th>Ns/Nt</th>\n",
       "      <th>Ps</th>\n",
       "      <th>Nu</th>\n",
       "      <th>Nt/Nu</th>\n",
       "      <th>Nsu</th>\n",
       "      <th>Ns/Nsu</th>\n",
       "    </tr>\n",
       "  </thead>\n",
       "  <tbody>\n",
       "    <tr>\n",
       "      <th>fake</th>\n",
       "      <td>3941906</td>\n",
       "      <td>0.11</td>\n",
       "      <td>1419955</td>\n",
       "      <td>0.36</td>\n",
       "      <td>0.13</td>\n",
       "      <td>245000</td>\n",
       "      <td>16.09</td>\n",
       "      <td>95188</td>\n",
       "      <td>14.92</td>\n",
       "    </tr>\n",
       "    <tr>\n",
       "      <th>extreme bias (right)</th>\n",
       "      <td>4457023</td>\n",
       "      <td>0.13</td>\n",
       "      <td>1269989</td>\n",
       "      <td>0.28</td>\n",
       "      <td>0.12</td>\n",
       "      <td>309134</td>\n",
       "      <td>14.42</td>\n",
       "      <td>106328</td>\n",
       "      <td>11.94</td>\n",
       "    </tr>\n",
       "    <tr>\n",
       "      <th>right</th>\n",
       "      <td>4549287</td>\n",
       "      <td>0.13</td>\n",
       "      <td>1228255</td>\n",
       "      <td>0.27</td>\n",
       "      <td>0.11</td>\n",
       "      <td>445954</td>\n",
       "      <td>10.20</td>\n",
       "      <td>149339</td>\n",
       "      <td>8.22</td>\n",
       "    </tr>\n",
       "    <tr>\n",
       "      <th>right leaning</th>\n",
       "      <td>1167901</td>\n",
       "      <td>0.03</td>\n",
       "      <td>391123</td>\n",
       "      <td>0.33</td>\n",
       "      <td>0.04</td>\n",
       "      <td>303585</td>\n",
       "      <td>3.85</td>\n",
       "      <td>94301</td>\n",
       "      <td>4.15</td>\n",
       "    </tr>\n",
       "    <tr>\n",
       "      <th>center</th>\n",
       "      <td>6946011</td>\n",
       "      <td>0.20</td>\n",
       "      <td>2157614</td>\n",
       "      <td>0.31</td>\n",
       "      <td>0.20</td>\n",
       "      <td>1117481</td>\n",
       "      <td>6.22</td>\n",
       "      <td>290562</td>\n",
       "      <td>7.43</td>\n",
       "    </tr>\n",
       "    <tr>\n",
       "      <th>left leaning</th>\n",
       "      <td>8627664</td>\n",
       "      <td>0.24</td>\n",
       "      <td>2534512</td>\n",
       "      <td>0.29</td>\n",
       "      <td>0.23</td>\n",
       "      <td>1403216</td>\n",
       "      <td>6.15</td>\n",
       "      <td>437078</td>\n",
       "      <td>5.80</td>\n",
       "    </tr>\n",
       "    <tr>\n",
       "      <th>left</th>\n",
       "      <td>4737216</td>\n",
       "      <td>0.13</td>\n",
       "      <td>1638141</td>\n",
       "      <td>0.35</td>\n",
       "      <td>0.15</td>\n",
       "      <td>711730</td>\n",
       "      <td>6.66</td>\n",
       "      <td>244122</td>\n",
       "      <td>6.71</td>\n",
       "    </tr>\n",
       "    <tr>\n",
       "      <th>extreme bias (left)</th>\n",
       "      <td>644571</td>\n",
       "      <td>0.02</td>\n",
       "      <td>183279</td>\n",
       "      <td>0.28</td>\n",
       "      <td>0.02</td>\n",
       "      <td>103690</td>\n",
       "      <td>6.22</td>\n",
       "      <td>37662</td>\n",
       "      <td>4.87</td>\n",
       "    </tr>\n",
       "    <tr>\n",
       "      <th>local</th>\n",
       "      <td>243594</td>\n",
       "      <td>0.01</td>\n",
       "      <td>93519</td>\n",
       "      <td>0.38</td>\n",
       "      <td>0.01</td>\n",
       "      <td>117398</td>\n",
       "      <td>2.07</td>\n",
       "      <td>35338</td>\n",
       "      <td>2.65</td>\n",
       "    </tr>\n",
       "  </tbody>\n",
       "</table>\n",
       "</div>"
      ],
      "text/plain": [
       "                           Nt    Pt       Ns  Ns/Nt    Ps       Nu  Nt/Nu  \\\n",
       "fake                  3941906  0.11  1419955   0.36  0.13   245000  16.09   \n",
       "extreme bias (right)  4457023  0.13  1269989   0.28  0.12   309134  14.42   \n",
       "right                 4549287  0.13  1228255   0.27  0.11   445954  10.20   \n",
       "right leaning         1167901  0.03   391123   0.33  0.04   303585   3.85   \n",
       "center                6946011  0.20  2157614   0.31  0.20  1117481   6.22   \n",
       "left leaning          8627664  0.24  2534512   0.29  0.23  1403216   6.15   \n",
       "left                  4737216  0.13  1638141   0.35  0.15   711730   6.66   \n",
       "extreme bias (left)    644571  0.02   183279   0.28  0.02   103690   6.22   \n",
       "local                  243594  0.01    93519   0.38  0.01   117398   2.07   \n",
       "\n",
       "                         Nsu  Ns/Nsu  \n",
       "fake                   95188   14.92  \n",
       "extreme bias (right)  106328   11.94  \n",
       "right                 149339    8.22  \n",
       "right leaning          94301    4.15  \n",
       "center                290562    7.43  \n",
       "left leaning          437078    5.80  \n",
       "left                  244122    6.71  \n",
       "extreme bias (left)    37662    4.87  \n",
       "local                  35338    2.65  "
      ]
     },
     "execution_count": 23,
     "metadata": {},
     "output_type": "execute_result"
    }
   ],
   "source": [
    "BT2 = get_big_table(non_users)\n",
    "BT2.to_csv(\"data/non_BT.csv\")\n",
    "BT2"
   ]
  },
  {
   "cell_type": "code",
   "execution_count": 24,
   "metadata": {},
   "outputs": [
    {
     "data": {
      "text/html": [
       "<div>\n",
       "<style scoped>\n",
       "    .dataframe tbody tr th:only-of-type {\n",
       "        vertical-align: middle;\n",
       "    }\n",
       "\n",
       "    .dataframe tbody tr th {\n",
       "        vertical-align: top;\n",
       "    }\n",
       "\n",
       "    .dataframe thead th {\n",
       "        text-align: right;\n",
       "    }\n",
       "</style>\n",
       "<table border=\"1\" class=\"dataframe\">\n",
       "  <thead>\n",
       "    <tr style=\"text-align: right;\">\n",
       "      <th></th>\n",
       "      <th>Nt</th>\n",
       "      <th>Pt</th>\n",
       "      <th>Ns</th>\n",
       "      <th>Ns/Nt</th>\n",
       "      <th>Ps</th>\n",
       "      <th>Nu</th>\n",
       "      <th>Nt/Nu</th>\n",
       "      <th>Nsu</th>\n",
       "      <th>Ns/Nsu</th>\n",
       "    </tr>\n",
       "  </thead>\n",
       "  <tbody>\n",
       "    <tr>\n",
       "      <th>fake</th>\n",
       "      <td>2895</td>\n",
       "      <td>0.05</td>\n",
       "      <td>908</td>\n",
       "      <td>0.31</td>\n",
       "      <td>0.03</td>\n",
       "      <td>138</td>\n",
       "      <td>20.98</td>\n",
       "      <td>53</td>\n",
       "      <td>17.13</td>\n",
       "    </tr>\n",
       "    <tr>\n",
       "      <th>extreme bias (right)</th>\n",
       "      <td>2883</td>\n",
       "      <td>0.05</td>\n",
       "      <td>246</td>\n",
       "      <td>0.09</td>\n",
       "      <td>0.01</td>\n",
       "      <td>123</td>\n",
       "      <td>23.44</td>\n",
       "      <td>47</td>\n",
       "      <td>5.23</td>\n",
       "    </tr>\n",
       "    <tr>\n",
       "      <th>right</th>\n",
       "      <td>5423</td>\n",
       "      <td>0.10</td>\n",
       "      <td>2794</td>\n",
       "      <td>0.52</td>\n",
       "      <td>0.08</td>\n",
       "      <td>174</td>\n",
       "      <td>31.17</td>\n",
       "      <td>70</td>\n",
       "      <td>39.91</td>\n",
       "    </tr>\n",
       "    <tr>\n",
       "      <th>right leaning</th>\n",
       "      <td>2164</td>\n",
       "      <td>0.04</td>\n",
       "      <td>183</td>\n",
       "      <td>0.08</td>\n",
       "      <td>0.01</td>\n",
       "      <td>182</td>\n",
       "      <td>11.89</td>\n",
       "      <td>37</td>\n",
       "      <td>4.95</td>\n",
       "    </tr>\n",
       "    <tr>\n",
       "      <th>center</th>\n",
       "      <td>4989</td>\n",
       "      <td>0.09</td>\n",
       "      <td>1490</td>\n",
       "      <td>0.30</td>\n",
       "      <td>0.04</td>\n",
       "      <td>255</td>\n",
       "      <td>19.56</td>\n",
       "      <td>92</td>\n",
       "      <td>16.20</td>\n",
       "    </tr>\n",
       "    <tr>\n",
       "      <th>left leaning</th>\n",
       "      <td>6293</td>\n",
       "      <td>0.12</td>\n",
       "      <td>2735</td>\n",
       "      <td>0.43</td>\n",
       "      <td>0.08</td>\n",
       "      <td>253</td>\n",
       "      <td>24.87</td>\n",
       "      <td>94</td>\n",
       "      <td>29.10</td>\n",
       "    </tr>\n",
       "    <tr>\n",
       "      <th>left</th>\n",
       "      <td>2671</td>\n",
       "      <td>0.05</td>\n",
       "      <td>404</td>\n",
       "      <td>0.15</td>\n",
       "      <td>0.01</td>\n",
       "      <td>206</td>\n",
       "      <td>12.97</td>\n",
       "      <td>64</td>\n",
       "      <td>6.31</td>\n",
       "    </tr>\n",
       "    <tr>\n",
       "      <th>extreme bias (left)</th>\n",
       "      <td>110</td>\n",
       "      <td>0.00</td>\n",
       "      <td>14</td>\n",
       "      <td>0.13</td>\n",
       "      <td>0.00</td>\n",
       "      <td>44</td>\n",
       "      <td>2.50</td>\n",
       "      <td>11</td>\n",
       "      <td>1.27</td>\n",
       "    </tr>\n",
       "    <tr>\n",
       "      <th>local</th>\n",
       "      <td>26689</td>\n",
       "      <td>0.49</td>\n",
       "      <td>26138</td>\n",
       "      <td>0.98</td>\n",
       "      <td>0.75</td>\n",
       "      <td>166</td>\n",
       "      <td>160.78</td>\n",
       "      <td>49</td>\n",
       "      <td>533.43</td>\n",
       "    </tr>\n",
       "  </tbody>\n",
       "</table>\n",
       "</div>"
      ],
      "text/plain": [
       "                         Nt    Pt     Ns  Ns/Nt    Ps   Nu   Nt/Nu  Nsu  \\\n",
       "fake                   2895  0.05    908   0.31  0.03  138   20.98   53   \n",
       "extreme bias (right)   2883  0.05    246   0.09  0.01  123   23.44   47   \n",
       "right                  5423  0.10   2794   0.52  0.08  174   31.17   70   \n",
       "right leaning          2164  0.04    183   0.08  0.01  182   11.89   37   \n",
       "center                 4989  0.09   1490   0.30  0.04  255   19.56   92   \n",
       "left leaning           6293  0.12   2735   0.43  0.08  253   24.87   94   \n",
       "left                   2671  0.05    404   0.15  0.01  206   12.97   64   \n",
       "extreme bias (left)     110  0.00     14   0.13  0.00   44    2.50   11   \n",
       "local                 26689  0.49  26138   0.98  0.75  166  160.78   49   \n",
       "\n",
       "                      Ns/Nsu  \n",
       "fake                   17.13  \n",
       "extreme bias (right)    5.23  \n",
       "right                  39.91  \n",
       "right leaning           4.95  \n",
       "center                 16.20  \n",
       "left leaning           29.10  \n",
       "left                    6.31  \n",
       "extreme bias (left)     1.27  \n",
       "local                 533.43  "
      ]
     },
     "execution_count": 24,
     "metadata": {},
     "output_type": "execute_result"
    }
   ],
   "source": [
    "BT = get_big_table(IRA_users)\n",
    "BT.to_csv(\"data/IRA_BT.csv\")\n",
    "BT"
   ]
  },
  {
   "cell_type": "code",
   "execution_count": 135,
   "metadata": {},
   "outputs": [
    {
     "name": "stdout",
     "output_type": "stream",
     "text": [
      "fake                    0.11\n",
      "extreme bias (right)    0.11\n",
      "right                   0.20\n",
      "right leaning           0.08\n",
      "center                  0.18\n",
      "left leaning            0.23\n",
      "left                    0.10\n",
      "extreme bias (left)     0.00\n",
      "Name: Pt, dtype: float64\n",
      "fake                    0.11\n",
      "extreme bias (right)    0.13\n",
      "right                   0.13\n",
      "right leaning           0.03\n",
      "center                  0.20\n",
      "left leaning            0.25\n",
      "left                    0.14\n",
      "extreme bias (left)     0.02\n",
      "Name: Pt, dtype: float64\n"
     ]
    },
    {
     "data": {
      "image/png": "[encoded data removed]",
      "text/plain": [
       "<Figure size 720x432 with 1 Axes>"
      ]
     },
     "metadata": {},
     "output_type": "display_data"
    },
    {
     "name": "stdout",
     "output_type": "stream",
     "text": [
      "fake                    0.10\n",
      "extreme bias (right)    0.03\n",
      "right                   0.32\n",
      "right leaning           0.02\n",
      "center                  0.17\n",
      "left leaning            0.31\n",
      "left                    0.05\n",
      "extreme bias (left)     0.00\n",
      "Name: Ps, dtype: float64\n",
      "fake                    0.13\n",
      "extreme bias (right)    0.12\n",
      "right                   0.11\n",
      "right leaning           0.04\n",
      "center                  0.20\n",
      "left leaning            0.23\n",
      "left                    0.15\n",
      "extreme bias (left)     0.02\n",
      "Name: Ps, dtype: float64\n"
     ]
    },
    {
     "data": {
      "image/png": "[encoded data removed]",
      "text/plain": [
       "<Figure size 720x432 with 1 Axes>"
      ]
     },
     "metadata": {},
     "output_type": "display_data"
    },
    {
     "name": "stdout",
     "output_type": "stream",
     "text": [
      "fake                    0.31\n",
      "extreme bias (right)    0.09\n",
      "right                   0.52\n",
      "right leaning           0.08\n",
      "center                  0.30\n",
      "left leaning            0.43\n",
      "left                    0.15\n",
      "extreme bias (left)     0.13\n",
      "Name: Ns/Nt, dtype: float64\n",
      "fake                    0.36\n",
      "extreme bias (right)    0.28\n",
      "right                   0.27\n",
      "right leaning           0.33\n",
      "center                  0.31\n",
      "left leaning            0.29\n",
      "left                    0.35\n",
      "extreme bias (left)     0.28\n",
      "Name: Ns/Nt, dtype: float64\n"
     ]
    },
    {
     "data": {
      "image/png": "[encoded data removed]",
      "text/plain": [
       "<Figure size 720x432 with 1 Axes>"
      ]
     },
     "metadata": {},
     "output_type": "display_data"
    },
    {
     "name": "stdout",
     "output_type": "stream",
     "text": [
      "fake                    20.98\n",
      "extreme bias (right)    23.44\n",
      "right                   31.17\n",
      "right leaning           11.89\n",
      "center                  19.56\n",
      "left leaning            24.87\n",
      "left                    12.97\n",
      "extreme bias (left)      2.50\n",
      "Name: Nt/Nu, dtype: float64\n",
      "fake                    16.09\n",
      "extreme bias (right)    14.42\n",
      "right                   10.20\n",
      "right leaning            3.85\n",
      "center                   6.22\n",
      "left leaning             6.15\n",
      "left                     6.66\n",
      "extreme bias (left)      6.22\n",
      "Name: Nt/Nu, dtype: float64\n"
     ]
    },
    {
     "data": {
      "image/png": "[encoded data removed]",
      "text/plain": [
       "<Figure size 720x432 with 1 Axes>"
      ]
     },
     "metadata": {},
     "output_type": "display_data"
    },
    {
     "name": "stdout",
     "output_type": "stream",
     "text": [
      "fake                    17.13\n",
      "extreme bias (right)     5.23\n",
      "right                   39.91\n",
      "right leaning            4.95\n",
      "center                  16.20\n",
      "left leaning            29.10\n",
      "left                     6.31\n",
      "extreme bias (left)      1.27\n",
      "Name: Ns/Nsu, dtype: float64\n",
      "fake                    14.92\n",
      "extreme bias (right)    11.94\n",
      "right                    8.22\n",
      "right leaning            4.15\n",
      "center                   7.43\n",
      "left leaning             5.80\n",
      "left                     6.71\n",
      "extreme bias (left)      4.87\n",
      "Name: Ns/Nsu, dtype: float64\n"
     ]
    },
    {
     "data": {
      "image/png": "[encoded data removed]",
      "text/plain": [
       "<Figure size 720x432 with 1 Axes>"
      ]
     },
     "metadata": {},
     "output_type": "display_data"
    }
   ],
   "source": [
    "plot_compare(\"Pt\")\n",
    "plot_compare(\"Ps\")\n",
    "plot_compare(\"Ns/Nt\")\n",
    "plot_compare(\"Nt/Nu\")\n",
    "plot_compare(\"Ns/Nsu\")"
   ]
  },
  {
   "cell_type": "markdown",
   "metadata": {},
   "source": [
    "## 四个重要的社团，看看是否有针对性？\n",
    "\n",
    "results from interaction_with_ira.ipynb"
   ]
  },
  {
   "cell_type": "code",
   "execution_count": 136,
   "metadata": {},
   "outputs": [],
   "source": [
    "comm = json.load(open(\"data/louvain_rst_4.json\"))\n",
    "# comm = json.load(open(\"data/ira-ret-community.json\"))"
   ]
  },
  {
   "cell_type": "code",
   "execution_count": 137,
   "metadata": {},
   "outputs": [
    {
     "data": {
      "text/html": [
       "<div>\n",
       "<style scoped>\n",
       "    .dataframe tbody tr th:only-of-type {\n",
       "        vertical-align: middle;\n",
       "    }\n",
       "\n",
       "    .dataframe tbody tr th {\n",
       "        vertical-align: top;\n",
       "    }\n",
       "\n",
       "    .dataframe thead th {\n",
       "        text-align: right;\n",
       "    }\n",
       "</style>\n",
       "<table border=\"1\" class=\"dataframe\">\n",
       "  <thead>\n",
       "    <tr style=\"text-align: right;\">\n",
       "      <th></th>\n",
       "      <th>Nt</th>\n",
       "      <th>Pt</th>\n",
       "      <th>Ns</th>\n",
       "      <th>Ns/Nt</th>\n",
       "      <th>Ps</th>\n",
       "      <th>Nu</th>\n",
       "      <th>Nt/Nu</th>\n",
       "      <th>Nsu</th>\n",
       "      <th>Ns/Nsu</th>\n",
       "    </tr>\n",
       "  </thead>\n",
       "  <tbody>\n",
       "    <tr>\n",
       "      <th>fake</th>\n",
       "      <td>3035977</td>\n",
       "      <td>0.21</td>\n",
       "      <td>821515</td>\n",
       "      <td>0.27</td>\n",
       "      <td>0.25</td>\n",
       "      <td>84928</td>\n",
       "      <td>35.75</td>\n",
       "      <td>35331</td>\n",
       "      <td>23.25</td>\n",
       "    </tr>\n",
       "    <tr>\n",
       "      <th>extreme bias (right)</th>\n",
       "      <td>3567019</td>\n",
       "      <td>0.25</td>\n",
       "      <td>849652</td>\n",
       "      <td>0.24</td>\n",
       "      <td>0.26</td>\n",
       "      <td>89804</td>\n",
       "      <td>39.72</td>\n",
       "      <td>37408</td>\n",
       "      <td>22.71</td>\n",
       "    </tr>\n",
       "    <tr>\n",
       "      <th>right</th>\n",
       "      <td>3203482</td>\n",
       "      <td>0.22</td>\n",
       "      <td>660018</td>\n",
       "      <td>0.21</td>\n",
       "      <td>0.20</td>\n",
       "      <td>94619</td>\n",
       "      <td>33.86</td>\n",
       "      <td>39330</td>\n",
       "      <td>16.78</td>\n",
       "    </tr>\n",
       "    <tr>\n",
       "      <th>right leaning</th>\n",
       "      <td>541224</td>\n",
       "      <td>0.04</td>\n",
       "      <td>113050</td>\n",
       "      <td>0.21</td>\n",
       "      <td>0.03</td>\n",
       "      <td>69048</td>\n",
       "      <td>7.84</td>\n",
       "      <td>20342</td>\n",
       "      <td>5.56</td>\n",
       "    </tr>\n",
       "    <tr>\n",
       "      <th>center</th>\n",
       "      <td>1781173</td>\n",
       "      <td>0.12</td>\n",
       "      <td>300807</td>\n",
       "      <td>0.17</td>\n",
       "      <td>0.09</td>\n",
       "      <td>89974</td>\n",
       "      <td>19.80</td>\n",
       "      <td>31335</td>\n",
       "      <td>9.60</td>\n",
       "    </tr>\n",
       "    <tr>\n",
       "      <th>left leaning</th>\n",
       "      <td>1517472</td>\n",
       "      <td>0.11</td>\n",
       "      <td>304905</td>\n",
       "      <td>0.20</td>\n",
       "      <td>0.09</td>\n",
       "      <td>86368</td>\n",
       "      <td>17.57</td>\n",
       "      <td>30526</td>\n",
       "      <td>9.99</td>\n",
       "    </tr>\n",
       "    <tr>\n",
       "      <th>left</th>\n",
       "      <td>647300</td>\n",
       "      <td>0.05</td>\n",
       "      <td>167272</td>\n",
       "      <td>0.26</td>\n",
       "      <td>0.05</td>\n",
       "      <td>56284</td>\n",
       "      <td>11.50</td>\n",
       "      <td>18077</td>\n",
       "      <td>9.25</td>\n",
       "    </tr>\n",
       "    <tr>\n",
       "      <th>extreme bias (left)</th>\n",
       "      <td>89814</td>\n",
       "      <td>0.01</td>\n",
       "      <td>22022</td>\n",
       "      <td>0.25</td>\n",
       "      <td>0.01</td>\n",
       "      <td>10397</td>\n",
       "      <td>8.64</td>\n",
       "      <td>3336</td>\n",
       "      <td>6.60</td>\n",
       "    </tr>\n",
       "  </tbody>\n",
       "</table>\n",
       "</div>"
      ],
      "text/plain": [
       "                           Nt    Pt      Ns  Ns/Nt    Ps     Nu  Nt/Nu    Nsu  \\\n",
       "fake                  3035977  0.21  821515   0.27  0.25  84928  35.75  35331   \n",
       "extreme bias (right)  3567019  0.25  849652   0.24  0.26  89804  39.72  37408   \n",
       "right                 3203482  0.22  660018   0.21  0.20  94619  33.86  39330   \n",
       "right leaning          541224  0.04  113050   0.21  0.03  69048   7.84  20342   \n",
       "center                1781173  0.12  300807   0.17  0.09  89974  19.80  31335   \n",
       "left leaning          1517472  0.11  304905   0.20  0.09  86368  17.57  30526   \n",
       "left                   647300  0.05  167272   0.26  0.05  56284  11.50  18077   \n",
       "extreme bias (left)     89814  0.01   22022   0.25  0.01  10397   8.64   3336   \n",
       "\n",
       "                      Ns/Nsu  \n",
       "fake                   23.25  \n",
       "extreme bias (right)   22.71  \n",
       "right                  16.78  \n",
       "right leaning           5.56  \n",
       "center                  9.60  \n",
       "left leaning            9.99  \n",
       "left                    9.25  \n",
       "extreme bias (left)     6.60  "
      ]
     },
     "metadata": {},
     "output_type": "display_data"
    },
    {
     "name": "stdout",
     "output_type": "stream",
     "text": [
      "114434 114\n"
     ]
    },
    {
     "data": {
      "text/html": [
       "<div>\n",
       "<style scoped>\n",
       "    .dataframe tbody tr th:only-of-type {\n",
       "        vertical-align: middle;\n",
       "    }\n",
       "\n",
       "    .dataframe tbody tr th {\n",
       "        vertical-align: top;\n",
       "    }\n",
       "\n",
       "    .dataframe thead th {\n",
       "        text-align: right;\n",
       "    }\n",
       "</style>\n",
       "<table border=\"1\" class=\"dataframe\">\n",
       "  <thead>\n",
       "    <tr style=\"text-align: right;\">\n",
       "      <th></th>\n",
       "      <th>Nt</th>\n",
       "      <th>Pt</th>\n",
       "      <th>Ns</th>\n",
       "      <th>Ns/Nt</th>\n",
       "      <th>Ps</th>\n",
       "      <th>Nu</th>\n",
       "      <th>Nt/Nu</th>\n",
       "      <th>Nsu</th>\n",
       "      <th>Ns/Nsu</th>\n",
       "    </tr>\n",
       "  </thead>\n",
       "  <tbody>\n",
       "    <tr>\n",
       "      <th>fake</th>\n",
       "      <td>2429</td>\n",
       "      <td>0.17</td>\n",
       "      <td>600</td>\n",
       "      <td>0.25</td>\n",
       "      <td>0.12</td>\n",
       "      <td>72</td>\n",
       "      <td>33.74</td>\n",
       "      <td>44</td>\n",
       "      <td>13.64</td>\n",
       "    </tr>\n",
       "    <tr>\n",
       "      <th>extreme bias (right)</th>\n",
       "      <td>2796</td>\n",
       "      <td>0.20</td>\n",
       "      <td>239</td>\n",
       "      <td>0.09</td>\n",
       "      <td>0.05</td>\n",
       "      <td>69</td>\n",
       "      <td>40.52</td>\n",
       "      <td>40</td>\n",
       "      <td>5.98</td>\n",
       "    </tr>\n",
       "    <tr>\n",
       "      <th>right</th>\n",
       "      <td>2770</td>\n",
       "      <td>0.20</td>\n",
       "      <td>358</td>\n",
       "      <td>0.13</td>\n",
       "      <td>0.07</td>\n",
       "      <td>84</td>\n",
       "      <td>32.98</td>\n",
       "      <td>50</td>\n",
       "      <td>7.16</td>\n",
       "    </tr>\n",
       "    <tr>\n",
       "      <th>right leaning</th>\n",
       "      <td>581</td>\n",
       "      <td>0.04</td>\n",
       "      <td>170</td>\n",
       "      <td>0.29</td>\n",
       "      <td>0.03</td>\n",
       "      <td>56</td>\n",
       "      <td>10.38</td>\n",
       "      <td>30</td>\n",
       "      <td>5.67</td>\n",
       "    </tr>\n",
       "    <tr>\n",
       "      <th>center</th>\n",
       "      <td>2223</td>\n",
       "      <td>0.16</td>\n",
       "      <td>1414</td>\n",
       "      <td>0.64</td>\n",
       "      <td>0.28</td>\n",
       "      <td>93</td>\n",
       "      <td>23.90</td>\n",
       "      <td>62</td>\n",
       "      <td>22.81</td>\n",
       "    </tr>\n",
       "    <tr>\n",
       "      <th>left leaning</th>\n",
       "      <td>2938</td>\n",
       "      <td>0.21</td>\n",
       "      <td>2253</td>\n",
       "      <td>0.77</td>\n",
       "      <td>0.44</td>\n",
       "      <td>89</td>\n",
       "      <td>33.01</td>\n",
       "      <td>65</td>\n",
       "      <td>34.66</td>\n",
       "    </tr>\n",
       "    <tr>\n",
       "      <th>left</th>\n",
       "      <td>307</td>\n",
       "      <td>0.02</td>\n",
       "      <td>90</td>\n",
       "      <td>0.29</td>\n",
       "      <td>0.02</td>\n",
       "      <td>52</td>\n",
       "      <td>5.90</td>\n",
       "      <td>25</td>\n",
       "      <td>3.60</td>\n",
       "    </tr>\n",
       "    <tr>\n",
       "      <th>extreme bias (left)</th>\n",
       "      <td>16</td>\n",
       "      <td>0.00</td>\n",
       "      <td>2</td>\n",
       "      <td>0.12</td>\n",
       "      <td>0.00</td>\n",
       "      <td>8</td>\n",
       "      <td>2.00</td>\n",
       "      <td>2</td>\n",
       "      <td>1.00</td>\n",
       "    </tr>\n",
       "  </tbody>\n",
       "</table>\n",
       "</div>"
      ],
      "text/plain": [
       "                        Nt    Pt    Ns  Ns/Nt    Ps  Nu  Nt/Nu  Nsu  Ns/Nsu\n",
       "fake                  2429  0.17   600   0.25  0.12  72  33.74   44   13.64\n",
       "extreme bias (right)  2796  0.20   239   0.09  0.05  69  40.52   40    5.98\n",
       "right                 2770  0.20   358   0.13  0.07  84  32.98   50    7.16\n",
       "right leaning          581  0.04   170   0.29  0.03  56  10.38   30    5.67\n",
       "center                2223  0.16  1414   0.64  0.28  93  23.90   62   22.81\n",
       "left leaning          2938  0.21  2253   0.77  0.44  89  33.01   65   34.66\n",
       "left                   307  0.02    90   0.29  0.02  52   5.90   25    3.60\n",
       "extreme bias (left)     16  0.00     2   0.12  0.00   8   2.00    2    1.00"
      ]
     },
     "metadata": {},
     "output_type": "display_data"
    },
    {
     "data": {
      "image/png": "[encoded data removed]",
      "text/plain": [
       "<Figure size 720x432 with 1 Axes>"
      ]
     },
     "metadata": {},
     "output_type": "display_data"
    },
    {
     "data": {
      "image/png": "[encoded data removed]",
      "text/plain": [
       "<Figure size 576x432 with 1 Axes>"
      ]
     },
     "metadata": {},
     "output_type": "display_data"
    }
   ],
   "source": [
    "plot_community(0)"
   ]
  },
  {
   "cell_type": "code",
   "execution_count": 138,
   "metadata": {},
   "outputs": [
    {
     "data": {
      "text/html": [
       "<div>\n",
       "<style scoped>\n",
       "    .dataframe tbody tr th:only-of-type {\n",
       "        vertical-align: middle;\n",
       "    }\n",
       "\n",
       "    .dataframe tbody tr th {\n",
       "        vertical-align: top;\n",
       "    }\n",
       "\n",
       "    .dataframe thead th {\n",
       "        text-align: right;\n",
       "    }\n",
       "</style>\n",
       "<table border=\"1\" class=\"dataframe\">\n",
       "  <thead>\n",
       "    <tr style=\"text-align: right;\">\n",
       "      <th></th>\n",
       "      <th>Nt</th>\n",
       "      <th>Pt</th>\n",
       "      <th>Ns</th>\n",
       "      <th>Ns/Nt</th>\n",
       "      <th>Ps</th>\n",
       "      <th>Nu</th>\n",
       "      <th>Nt/Nu</th>\n",
       "      <th>Nsu</th>\n",
       "      <th>Ns/Nsu</th>\n",
       "    </tr>\n",
       "  </thead>\n",
       "  <tbody>\n",
       "    <tr>\n",
       "      <th>fake</th>\n",
       "      <td>54057</td>\n",
       "      <td>0.03</td>\n",
       "      <td>24863</td>\n",
       "      <td>0.46</td>\n",
       "      <td>0.03</td>\n",
       "      <td>2703</td>\n",
       "      <td>20.00</td>\n",
       "      <td>1207</td>\n",
       "      <td>20.60</td>\n",
       "    </tr>\n",
       "    <tr>\n",
       "      <th>extreme bias (right)</th>\n",
       "      <td>67780</td>\n",
       "      <td>0.04</td>\n",
       "      <td>32543</td>\n",
       "      <td>0.48</td>\n",
       "      <td>0.04</td>\n",
       "      <td>3342</td>\n",
       "      <td>20.28</td>\n",
       "      <td>1578</td>\n",
       "      <td>20.62</td>\n",
       "    </tr>\n",
       "    <tr>\n",
       "      <th>right</th>\n",
       "      <td>99523</td>\n",
       "      <td>0.06</td>\n",
       "      <td>52727</td>\n",
       "      <td>0.53</td>\n",
       "      <td>0.06</td>\n",
       "      <td>5017</td>\n",
       "      <td>19.84</td>\n",
       "      <td>2500</td>\n",
       "      <td>21.09</td>\n",
       "    </tr>\n",
       "    <tr>\n",
       "      <th>right leaning</th>\n",
       "      <td>43974</td>\n",
       "      <td>0.03</td>\n",
       "      <td>23513</td>\n",
       "      <td>0.53</td>\n",
       "      <td>0.03</td>\n",
       "      <td>4821</td>\n",
       "      <td>9.12</td>\n",
       "      <td>2278</td>\n",
       "      <td>10.32</td>\n",
       "    </tr>\n",
       "    <tr>\n",
       "      <th>center</th>\n",
       "      <td>390683</td>\n",
       "      <td>0.23</td>\n",
       "      <td>198006</td>\n",
       "      <td>0.51</td>\n",
       "      <td>0.24</td>\n",
       "      <td>10385</td>\n",
       "      <td>37.62</td>\n",
       "      <td>4964</td>\n",
       "      <td>39.89</td>\n",
       "    </tr>\n",
       "    <tr>\n",
       "      <th>left leaning</th>\n",
       "      <td>540695</td>\n",
       "      <td>0.31</td>\n",
       "      <td>233594</td>\n",
       "      <td>0.43</td>\n",
       "      <td>0.28</td>\n",
       "      <td>11817</td>\n",
       "      <td>45.76</td>\n",
       "      <td>6278</td>\n",
       "      <td>37.21</td>\n",
       "    </tr>\n",
       "    <tr>\n",
       "      <th>left</th>\n",
       "      <td>445737</td>\n",
       "      <td>0.26</td>\n",
       "      <td>221026</td>\n",
       "      <td>0.50</td>\n",
       "      <td>0.27</td>\n",
       "      <td>9447</td>\n",
       "      <td>47.18</td>\n",
       "      <td>5002</td>\n",
       "      <td>44.19</td>\n",
       "    </tr>\n",
       "    <tr>\n",
       "      <th>extreme bias (left)</th>\n",
       "      <td>82102</td>\n",
       "      <td>0.05</td>\n",
       "      <td>34323</td>\n",
       "      <td>0.42</td>\n",
       "      <td>0.04</td>\n",
       "      <td>3305</td>\n",
       "      <td>24.84</td>\n",
       "      <td>1421</td>\n",
       "      <td>24.15</td>\n",
       "    </tr>\n",
       "  </tbody>\n",
       "</table>\n",
       "</div>"
      ],
      "text/plain": [
       "                          Nt    Pt      Ns  Ns/Nt    Ps     Nu  Nt/Nu   Nsu  \\\n",
       "fake                   54057  0.03   24863   0.46  0.03   2703  20.00  1207   \n",
       "extreme bias (right)   67780  0.04   32543   0.48  0.04   3342  20.28  1578   \n",
       "right                  99523  0.06   52727   0.53  0.06   5017  19.84  2500   \n",
       "right leaning          43974  0.03   23513   0.53  0.03   4821   9.12  2278   \n",
       "center                390683  0.23  198006   0.51  0.24  10385  37.62  4964   \n",
       "left leaning          540695  0.31  233594   0.43  0.28  11817  45.76  6278   \n",
       "left                  445737  0.26  221026   0.50  0.27   9447  47.18  5002   \n",
       "extreme bias (left)    82102  0.05   34323   0.42  0.04   3305  24.84  1421   \n",
       "\n",
       "                      Ns/Nsu  \n",
       "fake                   20.60  \n",
       "extreme bias (right)   20.62  \n",
       "right                  21.09  \n",
       "right leaning          10.32  \n",
       "center                 39.89  \n",
       "left leaning           37.21  \n",
       "left                   44.19  \n",
       "extreme bias (left)    24.15  "
      ]
     },
     "metadata": {},
     "output_type": "display_data"
    },
    {
     "name": "stdout",
     "output_type": "stream",
     "text": [
      "15364 166\n"
     ]
    },
    {
     "data": {
      "text/html": [
       "<div>\n",
       "<style scoped>\n",
       "    .dataframe tbody tr th:only-of-type {\n",
       "        vertical-align: middle;\n",
       "    }\n",
       "\n",
       "    .dataframe tbody tr th {\n",
       "        vertical-align: top;\n",
       "    }\n",
       "\n",
       "    .dataframe thead th {\n",
       "        text-align: right;\n",
       "    }\n",
       "</style>\n",
       "<table border=\"1\" class=\"dataframe\">\n",
       "  <thead>\n",
       "    <tr style=\"text-align: right;\">\n",
       "      <th></th>\n",
       "      <th>Nt</th>\n",
       "      <th>Pt</th>\n",
       "      <th>Ns</th>\n",
       "      <th>Ns/Nt</th>\n",
       "      <th>Ps</th>\n",
       "      <th>Nu</th>\n",
       "      <th>Nt/Nu</th>\n",
       "      <th>Nsu</th>\n",
       "      <th>Ns/Nsu</th>\n",
       "    </tr>\n",
       "  </thead>\n",
       "  <tbody>\n",
       "    <tr>\n",
       "      <th>fake</th>\n",
       "      <td>449</td>\n",
       "      <td>0.04</td>\n",
       "      <td>308</td>\n",
       "      <td>0.69</td>\n",
       "      <td>0.26</td>\n",
       "      <td>56</td>\n",
       "      <td>8.02</td>\n",
       "      <td>9</td>\n",
       "      <td>34.22</td>\n",
       "    </tr>\n",
       "    <tr>\n",
       "      <th>extreme bias (right)</th>\n",
       "      <td>79</td>\n",
       "      <td>0.01</td>\n",
       "      <td>5</td>\n",
       "      <td>0.06</td>\n",
       "      <td>0.00</td>\n",
       "      <td>47</td>\n",
       "      <td>1.68</td>\n",
       "      <td>5</td>\n",
       "      <td>1.00</td>\n",
       "    </tr>\n",
       "    <tr>\n",
       "      <th>right</th>\n",
       "      <td>227</td>\n",
       "      <td>0.02</td>\n",
       "      <td>26</td>\n",
       "      <td>0.11</td>\n",
       "      <td>0.02</td>\n",
       "      <td>71</td>\n",
       "      <td>3.20</td>\n",
       "      <td>15</td>\n",
       "      <td>1.73</td>\n",
       "    </tr>\n",
       "    <tr>\n",
       "      <th>right leaning</th>\n",
       "      <td>1549</td>\n",
       "      <td>0.15</td>\n",
       "      <td>12</td>\n",
       "      <td>0.01</td>\n",
       "      <td>0.01</td>\n",
       "      <td>95</td>\n",
       "      <td>16.31</td>\n",
       "      <td>6</td>\n",
       "      <td>2.00</td>\n",
       "    </tr>\n",
       "    <tr>\n",
       "      <th>center</th>\n",
       "      <td>2687</td>\n",
       "      <td>0.25</td>\n",
       "      <td>63</td>\n",
       "      <td>0.02</td>\n",
       "      <td>0.05</td>\n",
       "      <td>121</td>\n",
       "      <td>22.21</td>\n",
       "      <td>26</td>\n",
       "      <td>2.42</td>\n",
       "    </tr>\n",
       "    <tr>\n",
       "      <th>left leaning</th>\n",
       "      <td>3287</td>\n",
       "      <td>0.31</td>\n",
       "      <td>475</td>\n",
       "      <td>0.14</td>\n",
       "      <td>0.41</td>\n",
       "      <td>123</td>\n",
       "      <td>26.72</td>\n",
       "      <td>22</td>\n",
       "      <td>21.59</td>\n",
       "    </tr>\n",
       "    <tr>\n",
       "      <th>left</th>\n",
       "      <td>2263</td>\n",
       "      <td>0.21</td>\n",
       "      <td>271</td>\n",
       "      <td>0.12</td>\n",
       "      <td>0.23</td>\n",
       "      <td>113</td>\n",
       "      <td>20.03</td>\n",
       "      <td>35</td>\n",
       "      <td>7.74</td>\n",
       "    </tr>\n",
       "    <tr>\n",
       "      <th>extreme bias (left)</th>\n",
       "      <td>92</td>\n",
       "      <td>0.01</td>\n",
       "      <td>12</td>\n",
       "      <td>0.13</td>\n",
       "      <td>0.01</td>\n",
       "      <td>34</td>\n",
       "      <td>2.71</td>\n",
       "      <td>9</td>\n",
       "      <td>1.33</td>\n",
       "    </tr>\n",
       "  </tbody>\n",
       "</table>\n",
       "</div>"
      ],
      "text/plain": [
       "                        Nt    Pt   Ns  Ns/Nt    Ps   Nu  Nt/Nu  Nsu  Ns/Nsu\n",
       "fake                   449  0.04  308   0.69  0.26   56   8.02    9   34.22\n",
       "extreme bias (right)    79  0.01    5   0.06  0.00   47   1.68    5    1.00\n",
       "right                  227  0.02   26   0.11  0.02   71   3.20   15    1.73\n",
       "right leaning         1549  0.15   12   0.01  0.01   95  16.31    6    2.00\n",
       "center                2687  0.25   63   0.02  0.05  121  22.21   26    2.42\n",
       "left leaning          3287  0.31  475   0.14  0.41  123  26.72   22   21.59\n",
       "left                  2263  0.21  271   0.12  0.23  113  20.03   35    7.74\n",
       "extreme bias (left)     92  0.01   12   0.13  0.01   34   2.71    9    1.33"
      ]
     },
     "metadata": {},
     "output_type": "display_data"
    },
    {
     "data": {
      "image/png": "[encoded data removed]",
      "text/plain": [
       "<Figure size 720x432 with 1 Axes>"
      ]
     },
     "metadata": {},
     "output_type": "display_data"
    },
    {
     "data": {
      "image/png": "[encoded data removed]",
      "text/plain": [
       "<Figure size 576x432 with 1 Axes>"
      ]
     },
     "metadata": {},
     "output_type": "display_data"
    }
   ],
   "source": [
    "plot_community(1)"
   ]
  },
  {
   "cell_type": "code",
   "execution_count": 139,
   "metadata": {},
   "outputs": [
    {
     "data": {
      "text/html": [
       "<div>\n",
       "<style scoped>\n",
       "    .dataframe tbody tr th:only-of-type {\n",
       "        vertical-align: middle;\n",
       "    }\n",
       "\n",
       "    .dataframe tbody tr th {\n",
       "        vertical-align: top;\n",
       "    }\n",
       "\n",
       "    .dataframe thead th {\n",
       "        text-align: right;\n",
       "    }\n",
       "</style>\n",
       "<table border=\"1\" class=\"dataframe\">\n",
       "  <thead>\n",
       "    <tr style=\"text-align: right;\">\n",
       "      <th></th>\n",
       "      <th>Nt</th>\n",
       "      <th>Pt</th>\n",
       "      <th>Ns</th>\n",
       "      <th>Ns/Nt</th>\n",
       "      <th>Ps</th>\n",
       "      <th>Nu</th>\n",
       "      <th>Nt/Nu</th>\n",
       "      <th>Nsu</th>\n",
       "      <th>Ns/Nsu</th>\n",
       "    </tr>\n",
       "  </thead>\n",
       "  <tbody>\n",
       "    <tr>\n",
       "      <th>fake</th>\n",
       "      <td>18887</td>\n",
       "      <td>0.08</td>\n",
       "      <td>6904</td>\n",
       "      <td>0.37</td>\n",
       "      <td>0.10</td>\n",
       "      <td>879</td>\n",
       "      <td>21.49</td>\n",
       "      <td>398</td>\n",
       "      <td>17.35</td>\n",
       "    </tr>\n",
       "    <tr>\n",
       "      <th>extreme bias (right)</th>\n",
       "      <td>23542</td>\n",
       "      <td>0.10</td>\n",
       "      <td>8483</td>\n",
       "      <td>0.36</td>\n",
       "      <td>0.12</td>\n",
       "      <td>1000</td>\n",
       "      <td>23.54</td>\n",
       "      <td>478</td>\n",
       "      <td>17.75</td>\n",
       "    </tr>\n",
       "    <tr>\n",
       "      <th>right</th>\n",
       "      <td>22320</td>\n",
       "      <td>0.09</td>\n",
       "      <td>5893</td>\n",
       "      <td>0.26</td>\n",
       "      <td>0.08</td>\n",
       "      <td>1357</td>\n",
       "      <td>16.45</td>\n",
       "      <td>692</td>\n",
       "      <td>8.52</td>\n",
       "    </tr>\n",
       "    <tr>\n",
       "      <th>right leaning</th>\n",
       "      <td>7070</td>\n",
       "      <td>0.03</td>\n",
       "      <td>2802</td>\n",
       "      <td>0.40</td>\n",
       "      <td>0.04</td>\n",
       "      <td>1111</td>\n",
       "      <td>6.36</td>\n",
       "      <td>476</td>\n",
       "      <td>5.89</td>\n",
       "    </tr>\n",
       "    <tr>\n",
       "      <th>center</th>\n",
       "      <td>43851</td>\n",
       "      <td>0.18</td>\n",
       "      <td>10692</td>\n",
       "      <td>0.24</td>\n",
       "      <td>0.15</td>\n",
       "      <td>2314</td>\n",
       "      <td>18.95</td>\n",
       "      <td>1114</td>\n",
       "      <td>9.60</td>\n",
       "    </tr>\n",
       "    <tr>\n",
       "      <th>left leaning</th>\n",
       "      <td>66773</td>\n",
       "      <td>0.28</td>\n",
       "      <td>19690</td>\n",
       "      <td>0.29</td>\n",
       "      <td>0.27</td>\n",
       "      <td>2614</td>\n",
       "      <td>25.54</td>\n",
       "      <td>1355</td>\n",
       "      <td>14.53</td>\n",
       "    </tr>\n",
       "    <tr>\n",
       "      <th>left</th>\n",
       "      <td>48468</td>\n",
       "      <td>0.20</td>\n",
       "      <td>14923</td>\n",
       "      <td>0.31</td>\n",
       "      <td>0.21</td>\n",
       "      <td>1906</td>\n",
       "      <td>25.43</td>\n",
       "      <td>1015</td>\n",
       "      <td>14.70</td>\n",
       "    </tr>\n",
       "    <tr>\n",
       "      <th>extreme bias (left)</th>\n",
       "      <td>10468</td>\n",
       "      <td>0.04</td>\n",
       "      <td>2864</td>\n",
       "      <td>0.27</td>\n",
       "      <td>0.04</td>\n",
       "      <td>704</td>\n",
       "      <td>14.87</td>\n",
       "      <td>272</td>\n",
       "      <td>10.53</td>\n",
       "    </tr>\n",
       "  </tbody>\n",
       "</table>\n",
       "</div>"
      ],
      "text/plain": [
       "                         Nt    Pt     Ns  Ns/Nt    Ps    Nu  Nt/Nu   Nsu  \\\n",
       "fake                  18887  0.08   6904   0.37  0.10   879  21.49   398   \n",
       "extreme bias (right)  23542  0.10   8483   0.36  0.12  1000  23.54   478   \n",
       "right                 22320  0.09   5893   0.26  0.08  1357  16.45   692   \n",
       "right leaning          7070  0.03   2802   0.40  0.04  1111   6.36   476   \n",
       "center                43851  0.18  10692   0.24  0.15  2314  18.95  1114   \n",
       "left leaning          66773  0.28  19690   0.29  0.27  2614  25.54  1355   \n",
       "left                  48468  0.20  14923   0.31  0.21  1906  25.43  1015   \n",
       "extreme bias (left)   10468  0.04   2864   0.27  0.04   704  14.87   272   \n",
       "\n",
       "                      Ns/Nsu  \n",
       "fake                   17.35  \n",
       "extreme bias (right)   17.75  \n",
       "right                   8.52  \n",
       "right leaning           5.89  \n",
       "center                  9.60  \n",
       "left leaning           14.53  \n",
       "left                   14.70  \n",
       "extreme bias (left)    10.53  "
      ]
     },
     "metadata": {},
     "output_type": "display_data"
    },
    {
     "name": "stdout",
     "output_type": "stream",
     "text": [
      "3640 57\n"
     ]
    },
    {
     "data": {
      "text/html": [
       "<div>\n",
       "<style scoped>\n",
       "    .dataframe tbody tr th:only-of-type {\n",
       "        vertical-align: middle;\n",
       "    }\n",
       "\n",
       "    .dataframe tbody tr th {\n",
       "        vertical-align: top;\n",
       "    }\n",
       "\n",
       "    .dataframe thead th {\n",
       "        text-align: right;\n",
       "    }\n",
       "</style>\n",
       "<table border=\"1\" class=\"dataframe\">\n",
       "  <thead>\n",
       "    <tr style=\"text-align: right;\">\n",
       "      <th></th>\n",
       "      <th>Nt</th>\n",
       "      <th>Pt</th>\n",
       "      <th>Ns</th>\n",
       "      <th>Ns/Nt</th>\n",
       "      <th>Ps</th>\n",
       "      <th>Nu</th>\n",
       "      <th>Nt/Nu</th>\n",
       "      <th>Nsu</th>\n",
       "      <th>Ns/Nsu</th>\n",
       "    </tr>\n",
       "  </thead>\n",
       "  <tbody>\n",
       "    <tr>\n",
       "      <th>fake</th>\n",
       "      <td>17</td>\n",
       "      <td>0.07</td>\n",
       "      <td>0</td>\n",
       "      <td>0.00</td>\n",
       "      <td>0.0</td>\n",
       "      <td>10</td>\n",
       "      <td>1.70</td>\n",
       "      <td>0</td>\n",
       "      <td>NaN</td>\n",
       "    </tr>\n",
       "    <tr>\n",
       "      <th>extreme bias (right)</th>\n",
       "      <td>8</td>\n",
       "      <td>0.03</td>\n",
       "      <td>2</td>\n",
       "      <td>0.25</td>\n",
       "      <td>0.2</td>\n",
       "      <td>7</td>\n",
       "      <td>1.14</td>\n",
       "      <td>2</td>\n",
       "      <td>1.0</td>\n",
       "    </tr>\n",
       "    <tr>\n",
       "      <th>right</th>\n",
       "      <td>17</td>\n",
       "      <td>0.07</td>\n",
       "      <td>1</td>\n",
       "      <td>0.06</td>\n",
       "      <td>0.1</td>\n",
       "      <td>15</td>\n",
       "      <td>1.13</td>\n",
       "      <td>1</td>\n",
       "      <td>1.0</td>\n",
       "    </tr>\n",
       "    <tr>\n",
       "      <th>right leaning</th>\n",
       "      <td>23</td>\n",
       "      <td>0.09</td>\n",
       "      <td>0</td>\n",
       "      <td>0.00</td>\n",
       "      <td>0.0</td>\n",
       "      <td>21</td>\n",
       "      <td>1.10</td>\n",
       "      <td>0</td>\n",
       "      <td>NaN</td>\n",
       "    </tr>\n",
       "    <tr>\n",
       "      <th>center</th>\n",
       "      <td>66</td>\n",
       "      <td>0.26</td>\n",
       "      <td>1</td>\n",
       "      <td>0.02</td>\n",
       "      <td>0.1</td>\n",
       "      <td>37</td>\n",
       "      <td>1.78</td>\n",
       "      <td>1</td>\n",
       "      <td>1.0</td>\n",
       "    </tr>\n",
       "    <tr>\n",
       "      <th>left leaning</th>\n",
       "      <td>64</td>\n",
       "      <td>0.25</td>\n",
       "      <td>4</td>\n",
       "      <td>0.06</td>\n",
       "      <td>0.4</td>\n",
       "      <td>37</td>\n",
       "      <td>1.73</td>\n",
       "      <td>4</td>\n",
       "      <td>1.0</td>\n",
       "    </tr>\n",
       "    <tr>\n",
       "      <th>left</th>\n",
       "      <td>57</td>\n",
       "      <td>0.22</td>\n",
       "      <td>2</td>\n",
       "      <td>0.04</td>\n",
       "      <td>0.2</td>\n",
       "      <td>36</td>\n",
       "      <td>1.58</td>\n",
       "      <td>2</td>\n",
       "      <td>1.0</td>\n",
       "    </tr>\n",
       "    <tr>\n",
       "      <th>extreme bias (left)</th>\n",
       "      <td>2</td>\n",
       "      <td>0.01</td>\n",
       "      <td>0</td>\n",
       "      <td>0.00</td>\n",
       "      <td>0.0</td>\n",
       "      <td>2</td>\n",
       "      <td>1.00</td>\n",
       "      <td>0</td>\n",
       "      <td>NaN</td>\n",
       "    </tr>\n",
       "  </tbody>\n",
       "</table>\n",
       "</div>"
      ],
      "text/plain": [
       "                      Nt    Pt  Ns  Ns/Nt   Ps  Nu  Nt/Nu  Nsu  Ns/Nsu\n",
       "fake                  17  0.07   0   0.00  0.0  10   1.70    0     NaN\n",
       "extreme bias (right)   8  0.03   2   0.25  0.2   7   1.14    2     1.0\n",
       "right                 17  0.07   1   0.06  0.1  15   1.13    1     1.0\n",
       "right leaning         23  0.09   0   0.00  0.0  21   1.10    0     NaN\n",
       "center                66  0.26   1   0.02  0.1  37   1.78    1     1.0\n",
       "left leaning          64  0.25   4   0.06  0.4  37   1.73    4     1.0\n",
       "left                  57  0.22   2   0.04  0.2  36   1.58    2     1.0\n",
       "extreme bias (left)    2  0.01   0   0.00  0.0   2   1.00    0     NaN"
      ]
     },
     "metadata": {},
     "output_type": "display_data"
    },
    {
     "data": {
      "image/png": "[encoded data removed]",
      "text/plain": [
       "<Figure size 720x432 with 1 Axes>"
      ]
     },
     "metadata": {},
     "output_type": "display_data"
    },
    {
     "data": {
      "image/png": "[encoded data removed]",
      "text/plain": [
       "<Figure size 576x432 with 1 Axes>"
      ]
     },
     "metadata": {},
     "output_type": "display_data"
    }
   ],
   "source": [
    "plot_community(3)"
   ]
  },
  {
   "cell_type": "markdown",
   "metadata": {},
   "source": [
    "## top 25 sources and retweeers"
   ]
  },
  {
   "cell_type": "code",
   "execution_count": 142,
   "metadata": {},
   "outputs": [],
   "source": [
    "for lab in labels:\n",
    "    d = IRA_users.sort_values(lab + \"_source\", ascending=False)\n",
    "    d = d[[lab, lab + \"_source\"]].head(25)\n",
    "    # display(d)\n",
    "    d.to_csv(f\"data/IRA_{lab}_originators_top25.csv\")"
   ]
  },
  {
   "cell_type": "code",
   "execution_count": null,
   "metadata": {},
   "outputs": [],
   "source": [
    "for lab in labels:\n",
    "    _d = IRA_users[lab] - IRA_users[lab + \"_source\"]\n",
    "    IRA_users[lab + \"_retweet\"] = _d\n",
    "    _d = IRA_users.sort_values(lab + \"_retweet\", ascending=False)\n",
    "    # display(d)\n",
    "    _d[[lab, lab + \"_retweet\"]].head(25).to_csv(f\"data/IRA_{lab}_retweeters_top25.csv\")"
   ]
  },
  {
   "cell_type": "markdown",
   "metadata": {},
   "source": [
    "## 说了这么多left的东西？究竟在说什么？"
   ]
  },
  {
   "cell_type": "code",
   "execution_count": 46,
   "metadata": {},
   "outputs": [
    {
     "data": {
      "application/vnd.jupyter.widget-view+json": {
       "model_id": "4dd226c77a5b4fc18f48e6b1d4fa331c",
       "version_major": 2,
       "version_minor": 0
      },
      "text/plain": [
       "HBox(children=(IntProgress(value=1, bar_style='info', max=1), HTML(value='')))"
      ]
     },
     "metadata": {},
     "output_type": "display_data"
    },
    {
     "name": "stdout",
     "output_type": "stream",
     "text": [
      "\n"
     ]
    }
   ],
   "source": [
    "left_tweetids = set()\n",
    "\n",
    "for line in tqdm(open(\"disk/all_IRA_tweets.json\")):\n",
    "    d = json.loads(line.strip())\n",
    "    if d[\"c_mbfc\"] == \"left leaning\":\n",
    "        left_tweetids.add(d[\"tweetid\"])"
   ]
  },
  {
   "cell_type": "code",
   "execution_count": 86,
   "metadata": {},
   "outputs": [],
   "source": [
    "ira_data = pd.read_csv(\"data/ira-tweets-ele.csv\", usecols=[\"tweetid\", \"tweet_text\"], dtype=str)"
   ]
  },
  {
   "cell_type": "code",
   "execution_count": 93,
   "metadata": {},
   "outputs": [
    {
     "data": {
      "application/vnd.jupyter.widget-view+json": {
       "model_id": "099f49a819de4f4d894c899b5b46b27e",
       "version_major": 2,
       "version_minor": 0
      },
      "text/plain": [
       "HBox(children=(IntProgress(value=1, bar_style='info', max=1), HTML(value='')))"
      ]
     },
     "metadata": {},
     "output_type": "display_data"
    },
    {
     "name": "stdout",
     "output_type": "stream",
     "text": [
      "\n"
     ]
    }
   ],
   "source": [
    "cnt = 0\n",
    "w_cnt = Counter()\n",
    "with open(\"data/ira-left-text.txt\", \"w\") as f:\n",
    "    for i, row in tqdm(ira_data.iterrows()):\n",
    "        if row[\"tweetid\"] in left_tweetids and not row[\"tweet_text\"].startswith(\"RT\"):\n",
    "            f.write(row[\"tweet_text\"] + \"\\n\")"
   ]
  },
  {
   "cell_type": "markdown",
   "metadata": {},
   "source": [
    "## IRAs as sources\n",
    "\n",
    "1. 看看每个用户发布的量\n",
    "2. 找到top sources看看交集\n",
    "\n",
    "结论：IRA从量上来看伪装非常普通的用户！"
   ]
  },
  {
   "cell_type": "markdown",
   "metadata": {},
   "source": [
    "用户发帖量的分布 或 用户发source tweets的分布"
   ]
  },
  {
   "cell_type": "code",
   "execution_count": 75,
   "metadata": {},
   "outputs": [
    {
     "name": "stdout",
     "output_type": "stream",
     "text": [
      "fake\n"
     ]
    },
    {
     "data": {
      "image/png": "[encoded data removed]",
      "text/plain": [
       "<Figure size 864x288 with 2 Axes>"
      ]
     },
     "metadata": {},
     "output_type": "display_data"
    },
    {
     "name": "stdout",
     "output_type": "stream",
     "text": [
      "extreme bias (right)\n",
      "right\n",
      "right leaning\n",
      "center\n",
      "left leaning\n",
      "left\n",
      "extreme bias (left)\n"
     ]
    }
   ],
   "source": [
    "sns.set_style(\"darkgrid\")\n",
    "\n",
    "for lab in labels:\n",
    "    print(lab)\n",
    "    \n",
    "    plt.figure(figsize=(12, 4))\n",
    "    \n",
    "    ax = plt.subplot(121)\n",
    "    _users = all_users[all_users[lab] > 0]\n",
    "    _users[lab].hist(ax=ax, bins=25)\n",
    "    # USER_TABLE[lab] = _users[lab].describe()\n",
    "    \n",
    "    plt.yscale(\"log\")\n",
    "    # plt.xscale(\"log\")\n",
    "    \n",
    "    ax = plt.subplot(122)\n",
    "    IRA_users[lab].hist(ax=ax, bins=25)\n",
    "    # IRA_USER_TABLE[lab] = IRA_users[lab].describe()\n",
    "    \n",
    "    plt.yscale(\"log\")\n",
    "    \n",
    "    if lab == \"fake\":\n",
    "        plt.show()\n",
    "    plt.close()"
   ]
  },
  {
   "cell_type": "markdown",
   "metadata": {},
   "source": [
    "### 从量的角度看IRA的确不高，甚至低于一般的用户"
   ]
  },
  {
   "cell_type": "code",
   "execution_count": 55,
   "metadata": {},
   "outputs": [],
   "source": [
    "set_IRAs_users = set()\n",
    "\n",
    "for user_id, row in IRA_users.iterrows():\n",
    "    set_IRAs_users.add(user_id)\n",
    "    \n",
    "# print(len(set_IRAs_users))"
   ]
  },
  {
   "cell_type": "code",
   "execution_count": 35,
   "metadata": {},
   "outputs": [
    {
     "name": "stdout",
     "output_type": "stream",
     "text": [
      "fake 3\n",
      "extreme bias (right) 5\n",
      "right 6\n",
      "right leaning 28\n",
      "center 2\n",
      "left leaning 3\n",
      "left 0\n",
      "extreme bias (left) 0\n"
     ]
    }
   ],
   "source": [
    "top_num = 5000\n",
    "\n",
    "for lab in labels:\n",
    "    top_sources = set(all_users[lab].sort_values(ascending=False).head(top_num).index)\n",
    "    # print(top_sources)\n",
    "    len_intersection = len(top_sources & set_IRAs_users)\n",
    "    print(lab, len_intersection)"
   ]
  },
  {
   "cell_type": "code",
   "execution_count": 37,
   "metadata": {},
   "outputs": [
    {
     "name": "stdout",
     "output_type": "stream",
     "text": [
      "fake 2\n",
      "extreme bias (right) 1\n",
      "right 4\n",
      "right leaning 2\n",
      "center 3\n",
      "left leaning 7\n",
      "left 1\n",
      "extreme bias (left) 0\n"
     ]
    }
   ],
   "source": [
    "top_num = 5000\n",
    "\n",
    "for lab in labels:\n",
    "    top_sources = set(all_users[lab + \"_source\"].sort_values(ascending=False).head(top_num).index)\n",
    "    # print(top_sources)\n",
    "    len_intersection = len(top_sources & set_IRAs_users)\n",
    "    print(lab, len_intersection)"
   ]
  },
  {
   "cell_type": "code",
   "execution_count": 3,
   "metadata": {},
   "outputs": [],
   "source": [
    "def get_cdf_pdf(data, mini=0, maxi=0, step=0, norm=True, scale=False):\n",
    "    if scale:\n",
    "        data = data.apply(np.log10)\n",
    "    \n",
    "    if maxi == 0:\n",
    "        maxi = data.max()\n",
    "    if step == 0:\n",
    "        try:\n",
    "            step = int((maxi - mini) / 50)\n",
    "            if step == 0:\n",
    "                step = 1\n",
    "        except:\n",
    "            step = 1\n",
    "            \n",
    "    print(mini, maxi, step)\n",
    "    x = np.arange(mini, maxi, step, dtype=int)\n",
    "    cdf = [0] * len(x)\n",
    "    pdf = [0] * len(x)\n",
    "    count = 0\n",
    "    for d in data:\n",
    "        d = float(d)\n",
    "        if d < mini or d > maxi:\n",
    "            continue\n",
    "        count += 1\n",
    "        for i in range(len(x)):\n",
    "            if i == (len(x) - 1) and d >= x[i]:\n",
    "                pdf[i] += 1\n",
    "            elif d >= x[i] and d < x[i+1]:\n",
    "                pdf[i] += 1\n",
    "\n",
    "            if d >= x[i]:\n",
    "                cdf[i] += 1\n",
    "\n",
    "    if norm:\n",
    "        cdf = [c / count for c in cdf]\n",
    "        pdf = [p / count for p in pdf]\n",
    "\n",
    "    x = pd.Series(x)\n",
    "    cdf = pd.Series(cdf)\n",
    "    pdf = pd.Series(pdf)\n",
    "    \n",
    "    return x, cdf, pdf"
   ]
  },
  {
   "cell_type": "markdown",
   "metadata": {},
   "source": [
    "for label in labels:\n",
    "    for dire in [\"out\", \"in\"]:\n",
    "        x, cdf, pdf = get_cdf_pdf(dict_CI[label][dire + \"_All dist\"], scale=True) \n",
    "        plt.plot(x, cdf, color=all_c, label=\"All users\", lw=2)\n",
    "        x, cdf, pdf = get_cdf_pdf(dict_CI[label][dire + \"_IRA dist\"], scale=True)\n",
    "        plt.plot(x, cdf, color=ira_c, label=\"IRA\", lw=2)\n",
    "        print(\"CI score\\n category:{}\\ndirection:{}\".format(label, dire))\n",
    "        plt.yscale(\"log\")\n",
    "        plt.ylabel(\"CCDF\"); plt.xlabel(\"CI score\")\n",
    "        plt.legend()\n",
    "        plt.show(); plt.close()"
   ]
  },
  {
   "cell_type": "markdown",
   "metadata": {},
   "source": [
    "## IRAs as supporters "
   ]
  },
  {
   "cell_type": "code",
   "execution_count": null,
   "metadata": {},
   "outputs": [],
   "source": [
    "from collections import Counter\n",
    "sns.color_palette(\"RdBu\", n_colors=7)\n",
    "\n",
    "count = Counter(first_opinion)\n",
    "print(count)\n",
    "\n",
    "label = [\"pro-hillary\", \"pro-trump\"]\n",
    "plt.figure(figsize=(20, 6))\n",
    "\n",
    "plt.subplot(131)\n",
    "plt.bar(1, count[0], color=sns.color_palette(\"RdBu\")[5], width=0.2)\n",
    "plt.bar(1.5, count[1], color=sns.color_palette(\"RdBu\")[0], width=0.2)\n",
    "label = [\"pro-hillary\\n{0:.0%}\".format(count[0] / (count[0]+count[1])), \"pro-trump\\n{0:.0%}\".format(count[1] / (count[0]+count[1]))]\n",
    "plt.xticks([1, 1.5], label)\n",
    "plt.xlabel('First source', fontsize=15)\n",
    "plt.ylabel('Number of tweets', fontsize=15)\n",
    "plt.xticks(fontsize=14); plt.yticks(fontsize=14)\n",
    "\n",
    "count = Counter(staters_opinion)\n",
    "print(count)\n",
    "\n",
    "plt.subplot(132)\n",
    "plt.bar(1, count[0], color=sns.color_palette(\"RdBu\")[5], width=0.2)\n",
    "plt.bar(1.5, count[1], color=sns.color_palette(\"RdBu\")[0], width=0.2)\n",
    "label = [\"pro-hillary\\n{0:.0%}\".format(count[0] / (count[0]+count[1])), \"pro-trump\\n{0:.0%}\".format(count[1] / (count[0]+count[1]))]\n",
    "plt.xticks([1, 1.5], label)\n",
    "plt.xlabel('source', fontsize=15)\n",
    "plt.xticks(fontsize=14); plt.yticks(fontsize=14)\n",
    "\n",
    "count = Counter(other_opinion)\n",
    "print(count)\n",
    "\n",
    "plt.subplot(133)\n",
    "plt.bar(1, count[0], color=sns.color_palette(\"RdBu\")[5], width=0.2)\n",
    "plt.bar(1.5, count[1], color=sns.color_palette(\"RdBu\")[0], width=0.2)\n",
    "label = [\"pro-hillary\\n{0:.0%}\".format(count[0] / (count[0]+count[1])), \"pro-trump\\n{0:.0%}\".format(count[1] / (count[0]+count[1]))]\n",
    "plt.xticks([1, 1.5], label)\n",
    "plt.xlabel('non-source', fontsize=15)\n",
    "# plt.ylabel('N of fake sources', fontsize=15)\n",
    "plt.xticks(fontsize=14); plt.yticks(fontsize=14)\n",
    "\n",
    "plt.savefig(\"fig/support.pdf\", dpi=300, bbox_inches='tight')\n",
    "plt.show()\n",
    "plt.close()"
   ]
  },
  {
   "cell_type": "markdown",
   "metadata": {},
   "source": [
    "# 网络分析\n",
    "\n",
    "分析每种媒体网络中IRA的节点数量，相关边的数量，平均度，最大度等。"
   ]
  },
  {
   "cell_type": "code",
   "execution_count": 6,
   "metadata": {},
   "outputs": [],
   "source": [
    "labels = [\n",
    "    \"fake\",\n",
    "    \"extreme bias (right)\",\n",
    "    \"right\",\n",
    "    \"right leaning\",\n",
    "    \"center\",\n",
    "    \"left leaning\",\n",
    "    \"left\",\n",
    "    \"extreme bias (left)\",\n",
    "    \"local\"\n",
    "]"
   ]
  },
  {
   "cell_type": "code",
   "execution_count": 7,
   "metadata": {},
   "outputs": [],
   "source": [
    "from fake_identify import Are_you_IRA\n",
    "\n",
    "putin = Are_you_IRA()\n",
    "\n",
    "def get_G_char(g_file):\n",
    "    print(g_file, \"...\")\n",
    "    G = nx.read_gpickle(g_file)\n",
    "    \n",
    "    n_nodes = G.number_of_nodes()\n",
    "    n_edges = G.number_of_edges()\n",
    "    k = G.number_of_edges() / G.number_of_nodes()\n",
    "\n",
    "    out_d = pd.Series([k[1] for k in G.out_degree()])\n",
    "    # print(out_d)\n",
    "    ave_out_d = out_d.mean()\n",
    "    std_out_d = out_d.std() / k\n",
    "    max_out_d = out_d.max()\n",
    "\n",
    "    in_d = pd.Series([k[1] for k in G.in_degree()])\n",
    "    # print(in_d)\n",
    "    ave_in_d = in_d.mean()\n",
    "    std_in_d = in_d.std() / k\n",
    "    max_in_d = in_d.max()\n",
    "\n",
    "    return {\n",
    "        \"N nodes\": int(n_nodes),\n",
    "        \"N edges\": int(n_edges),\n",
    "        \"<k>\": k,\n",
    "        \"std(k_out) / <k>\": std_out_d,\n",
    "        \"std(k_in) / <k>\": std_in_d,\n",
    "        \"max(k_out)\": int(max_out_d),\n",
    "        \"max(k_in)\": int(max_in_d),\n",
    "    }        \n",
    "\n",
    "\n",
    "def get_G_char_IRA(g_file):\n",
    "    print(g_file, \"...\")\n",
    "    G = nx.read_gpickle(g_file)\n",
    "    nodes = [uid for uid in putin.IRA_user_set if G.has_node(uid)]\n",
    "    \n",
    "    n_nodes = len(nodes)\n",
    "    \n",
    "    cover_set = set()\n",
    "    for n in nodes:\n",
    "        for _n in G[n]:\n",
    "#             if putin.fuck(_n):\n",
    "#                 continue\n",
    "            cover_set.add(_n)\n",
    "            \n",
    "    out_d = pd.Series([G.out_degree(n) for n in nodes])\n",
    "    ave_k_out = out_d.sum() / n_nodes\n",
    "    std_k_out = out_d.std() / ave_k_out\n",
    "    max_out_d = out_d.max()\n",
    "\n",
    "    in_d = pd.Series([G.in_degree(n) for n in nodes])\n",
    "    ave_k_in = in_d.sum() / n_nodes\n",
    "    std_k_in = in_d.std() / ave_k_in\n",
    "    max_in_d = in_d.max()\n",
    "    \n",
    "    return {\n",
    "        \"N nodes\": int(n_nodes),\n",
    "        \"<k_out>\": ave_k_out,\n",
    "        \"<k_in>\": ave_k_in,\n",
    "        \"std(k_out) / <k_out>\": std_k_out,\n",
    "        \"std(k_in) / <k_in>\": std_k_in,\n",
    "        \"N cover\": len(cover_set),\n",
    "        \"max(k_out)\": int(max_out_d),\n",
    "        \"max(k_in)\": int(max_in_d),\n",
    "    }\n"
   ]
  },
  {
   "cell_type": "code",
   "execution_count": 8,
   "metadata": {},
   "outputs": [
    {
     "name": "stdout",
     "output_type": "stream",
     "text": [
      "disk/network/fake.gpickle ...\n",
      "disk/network/extreme bias (right).gpickle ...\n",
      "disk/network/right.gpickle ...\n",
      "disk/network/right leaning.gpickle ...\n",
      "disk/network/center.gpickle ...\n",
      "disk/network/left leaning.gpickle ...\n",
      "disk/network/left.gpickle ...\n",
      "disk/network/extreme bias (left).gpickle ...\n",
      "disk/network/local.gpickle ...\n"
     ]
    }
   ],
   "source": [
    "networks_char = {}\n",
    "\n",
    "for category in labels:\n",
    "    rst = get_G_char(\"disk/network/{}.gpickle\".format(category))\n",
    "    networks_char[category] = rst"
   ]
  },
  {
   "cell_type": "code",
   "execution_count": 9,
   "metadata": {},
   "outputs": [
    {
     "data": {
      "text/html": [
       "<div>\n",
       "<style scoped>\n",
       "    .dataframe tbody tr th:only-of-type {\n",
       "        vertical-align: middle;\n",
       "    }\n",
       "\n",
       "    .dataframe tbody tr th {\n",
       "        vertical-align: top;\n",
       "    }\n",
       "\n",
       "    .dataframe thead th {\n",
       "        text-align: right;\n",
       "    }\n",
       "</style>\n",
       "<table border=\"1\" class=\"dataframe\">\n",
       "  <thead>\n",
       "    <tr style=\"text-align: right;\">\n",
       "      <th></th>\n",
       "      <th>N nodes</th>\n",
       "      <th>N edges</th>\n",
       "      <th>&lt;k&gt;</th>\n",
       "      <th>std(k_out) / &lt;k&gt;</th>\n",
       "      <th>std(k_in) / &lt;k&gt;</th>\n",
       "      <th>max(k_out)</th>\n",
       "      <th>max(k_in)</th>\n",
       "    </tr>\n",
       "  </thead>\n",
       "  <tbody>\n",
       "    <tr>\n",
       "      <th>fake</th>\n",
       "      <td>207591</td>\n",
       "      <td>1583697</td>\n",
       "      <td>7.6</td>\n",
       "      <td>29.6</td>\n",
       "      <td>2.7</td>\n",
       "      <td>45449</td>\n",
       "      <td>1234</td>\n",
       "    </tr>\n",
       "    <tr>\n",
       "      <th>extreme bias (right)</th>\n",
       "      <td>267918</td>\n",
       "      <td>1904513</td>\n",
       "      <td>7.1</td>\n",
       "      <td>38.0</td>\n",
       "      <td>2.8</td>\n",
       "      <td>60622</td>\n",
       "      <td>642</td>\n",
       "    </tr>\n",
       "    <tr>\n",
       "      <th>right</th>\n",
       "      <td>381786</td>\n",
       "      <td>2131027</td>\n",
       "      <td>5.6</td>\n",
       "      <td>48.1</td>\n",
       "      <td>2.8</td>\n",
       "      <td>87229</td>\n",
       "      <td>546</td>\n",
       "    </tr>\n",
       "    <tr>\n",
       "      <th>right leaning</th>\n",
       "      <td>254312</td>\n",
       "      <td>631580</td>\n",
       "      <td>2.5</td>\n",
       "      <td>50.0</td>\n",
       "      <td>1.8</td>\n",
       "      <td>38994</td>\n",
       "      <td>147</td>\n",
       "    </tr>\n",
       "    <tr>\n",
       "      <th>center</th>\n",
       "      <td>975548</td>\n",
       "      <td>2961319</td>\n",
       "      <td>3.0</td>\n",
       "      <td>122.6</td>\n",
       "      <td>2.8</td>\n",
       "      <td>257580</td>\n",
       "      <td>551</td>\n",
       "    </tr>\n",
       "    <tr>\n",
       "      <th>left leaning</th>\n",
       "      <td>1196330</td>\n",
       "      <td>4340759</td>\n",
       "      <td>3.6</td>\n",
       "      <td>73.5</td>\n",
       "      <td>3.5</td>\n",
       "      <td>172056</td>\n",
       "      <td>942</td>\n",
       "    </tr>\n",
       "    <tr>\n",
       "      <th>left</th>\n",
       "      <td>587617</td>\n",
       "      <td>2078855</td>\n",
       "      <td>3.5</td>\n",
       "      <td>50.4</td>\n",
       "      <td>3.6</td>\n",
       "      <td>59759</td>\n",
       "      <td>797</td>\n",
       "    </tr>\n",
       "    <tr>\n",
       "      <th>extreme bias (left)</th>\n",
       "      <td>83672</td>\n",
       "      <td>299399</td>\n",
       "      <td>3.6</td>\n",
       "      <td>33.8</td>\n",
       "      <td>2.5</td>\n",
       "      <td>23210</td>\n",
       "      <td>659</td>\n",
       "    </tr>\n",
       "    <tr>\n",
       "      <th>local</th>\n",
       "      <td>96229</td>\n",
       "      <td>141610</td>\n",
       "      <td>1.5</td>\n",
       "      <td>24.8</td>\n",
       "      <td>1.1</td>\n",
       "      <td>5772</td>\n",
       "      <td>119</td>\n",
       "    </tr>\n",
       "  </tbody>\n",
       "</table>\n",
       "</div>"
      ],
      "text/plain": [
       "                      N nodes  N edges  <k>  std(k_out) / <k>  \\\n",
       "fake                   207591  1583697  7.6              29.6   \n",
       "extreme bias (right)   267918  1904513  7.1              38.0   \n",
       "right                  381786  2131027  5.6              48.1   \n",
       "right leaning          254312   631580  2.5              50.0   \n",
       "center                 975548  2961319  3.0             122.6   \n",
       "left leaning          1196330  4340759  3.6              73.5   \n",
       "left                   587617  2078855  3.5              50.4   \n",
       "extreme bias (left)     83672   299399  3.6              33.8   \n",
       "local                   96229   141610  1.5              24.8   \n",
       "\n",
       "                      std(k_in) / <k>  max(k_out)  max(k_in)  \n",
       "fake                              2.7       45449       1234  \n",
       "extreme bias (right)              2.8       60622        642  \n",
       "right                             2.8       87229        546  \n",
       "right leaning                     1.8       38994        147  \n",
       "center                            2.8      257580        551  \n",
       "left leaning                      3.5      172056        942  \n",
       "left                              3.6       59759        797  \n",
       "extreme bias (left)               2.5       23210        659  \n",
       "local                             1.1        5772        119  "
      ]
     },
     "execution_count": 9,
     "metadata": {},
     "output_type": "execute_result"
    }
   ],
   "source": [
    "networks_char = pd.DataFrame(networks_char).round(1).transpose()\n",
    "networks_char = networks_char[[\"N nodes\", \"N edges\", \"<k>\", \"std(k_out) / <k>\", \"std(k_in) / <k>\", \"max(k_out)\", \"max(k_in)\"]]\n",
    "networks_char = networks_char.astype({\n",
    "    \"N nodes\": int,\n",
    "    \"N edges\": int,\n",
    "    \"max(k_out)\": int,\n",
    "    \"max(k_in)\": int,\n",
    "})\n",
    "\n",
    "networks_char.to_csv(\"data/table_all_network.csv\", float_format=\"%.1f\")\n",
    "networks_char"
   ]
  },
  {
   "cell_type": "code",
   "execution_count": 10,
   "metadata": {},
   "outputs": [
    {
     "name": "stdout",
     "output_type": "stream",
     "text": [
      "disk/network/fake.gpickle ...\n",
      "disk/network/extreme bias (right).gpickle ...\n",
      "disk/network/right.gpickle ...\n",
      "disk/network/right leaning.gpickle ...\n",
      "disk/network/center.gpickle ...\n",
      "disk/network/left leaning.gpickle ...\n",
      "disk/network/left.gpickle ...\n",
      "disk/network/extreme bias (left).gpickle ...\n",
      "disk/network/local.gpickle ...\n"
     ]
    },
    {
     "name": "stderr",
     "output_type": "stream",
     "text": [
      "/home/alex/anaconda3/lib/python3.7/site-packages/ipykernel_launcher.py:52: RuntimeWarning: invalid value encountered in double_scalars\n"
     ]
    }
   ],
   "source": [
    "networks_char = {}\n",
    "\n",
    "for category in labels:\n",
    "    rst = get_G_char_IRA(\"disk/network/{}.gpickle\".format(category))\n",
    "    networks_char[category] = rst"
   ]
  },
  {
   "cell_type": "code",
   "execution_count": 11,
   "metadata": {},
   "outputs": [
    {
     "data": {
      "text/html": [
       "<div>\n",
       "<style scoped>\n",
       "    .dataframe tbody tr th:only-of-type {\n",
       "        vertical-align: middle;\n",
       "    }\n",
       "\n",
       "    .dataframe tbody tr th {\n",
       "        vertical-align: top;\n",
       "    }\n",
       "\n",
       "    .dataframe thead th {\n",
       "        text-align: right;\n",
       "    }\n",
       "</style>\n",
       "<table border=\"1\" class=\"dataframe\">\n",
       "  <thead>\n",
       "    <tr style=\"text-align: right;\">\n",
       "      <th></th>\n",
       "      <th>N nodes</th>\n",
       "      <th>&lt;k_out&gt;</th>\n",
       "      <th>&lt;k_in&gt;</th>\n",
       "      <th>std(k_out) / &lt;k_out&gt;</th>\n",
       "      <th>std(k_in) / &lt;k_in&gt;</th>\n",
       "      <th>max(k_out)</th>\n",
       "      <th>max(k_in)</th>\n",
       "    </tr>\n",
       "  </thead>\n",
       "  <tbody>\n",
       "    <tr>\n",
       "      <th>fake</th>\n",
       "      <td>127</td>\n",
       "      <td>22.3</td>\n",
       "      <td>10.4</td>\n",
       "      <td>4.1</td>\n",
       "      <td>2.4</td>\n",
       "      <td>716</td>\n",
       "      <td>205</td>\n",
       "    </tr>\n",
       "    <tr>\n",
       "      <th>extreme bias (right)</th>\n",
       "      <td>117</td>\n",
       "      <td>17.5</td>\n",
       "      <td>14.2</td>\n",
       "      <td>4.2</td>\n",
       "      <td>2.4</td>\n",
       "      <td>563</td>\n",
       "      <td>250</td>\n",
       "    </tr>\n",
       "    <tr>\n",
       "      <th>right</th>\n",
       "      <td>152</td>\n",
       "      <td>18.9</td>\n",
       "      <td>11.2</td>\n",
       "      <td>5.4</td>\n",
       "      <td>2.7</td>\n",
       "      <td>864</td>\n",
       "      <td>253</td>\n",
       "    </tr>\n",
       "    <tr>\n",
       "      <th>right leaning</th>\n",
       "      <td>164</td>\n",
       "      <td>2.6</td>\n",
       "      <td>3.7</td>\n",
       "      <td>5.1</td>\n",
       "      <td>1.9</td>\n",
       "      <td>107</td>\n",
       "      <td>68</td>\n",
       "    </tr>\n",
       "    <tr>\n",
       "      <th>center</th>\n",
       "      <td>228</td>\n",
       "      <td>4.3</td>\n",
       "      <td>7.8</td>\n",
       "      <td>6.7</td>\n",
       "      <td>1.5</td>\n",
       "      <td>310</td>\n",
       "      <td>128</td>\n",
       "    </tr>\n",
       "    <tr>\n",
       "      <th>left leaning</th>\n",
       "      <td>228</td>\n",
       "      <td>6.5</td>\n",
       "      <td>10.2</td>\n",
       "      <td>4.7</td>\n",
       "      <td>1.3</td>\n",
       "      <td>270</td>\n",
       "      <td>142</td>\n",
       "    </tr>\n",
       "    <tr>\n",
       "      <th>left</th>\n",
       "      <td>186</td>\n",
       "      <td>2.5</td>\n",
       "      <td>8.4</td>\n",
       "      <td>6.8</td>\n",
       "      <td>1.0</td>\n",
       "      <td>154</td>\n",
       "      <td>60</td>\n",
       "    </tr>\n",
       "    <tr>\n",
       "      <th>extreme bias (left)</th>\n",
       "      <td>37</td>\n",
       "      <td>0.0</td>\n",
       "      <td>1.9</td>\n",
       "      <td>NaN</td>\n",
       "      <td>0.9</td>\n",
       "      <td>0</td>\n",
       "      <td>8</td>\n",
       "    </tr>\n",
       "    <tr>\n",
       "      <th>local</th>\n",
       "      <td>141</td>\n",
       "      <td>4.1</td>\n",
       "      <td>3.1</td>\n",
       "      <td>4.3</td>\n",
       "      <td>0.9</td>\n",
       "      <td>143</td>\n",
       "      <td>20</td>\n",
       "    </tr>\n",
       "  </tbody>\n",
       "</table>\n",
       "</div>"
      ],
      "text/plain": [
       "                      N nodes  <k_out>  <k_in>  std(k_out) / <k_out>  \\\n",
       "fake                      127     22.3    10.4                   4.1   \n",
       "extreme bias (right)      117     17.5    14.2                   4.2   \n",
       "right                     152     18.9    11.2                   5.4   \n",
       "right leaning             164      2.6     3.7                   5.1   \n",
       "center                    228      4.3     7.8                   6.7   \n",
       "left leaning              228      6.5    10.2                   4.7   \n",
       "left                      186      2.5     8.4                   6.8   \n",
       "extreme bias (left)        37      0.0     1.9                   NaN   \n",
       "local                     141      4.1     3.1                   4.3   \n",
       "\n",
       "                      std(k_in) / <k_in>  max(k_out)  max(k_in)  \n",
       "fake                                 2.4         716        205  \n",
       "extreme bias (right)                 2.4         563        250  \n",
       "right                                2.7         864        253  \n",
       "right leaning                        1.9         107         68  \n",
       "center                               1.5         310        128  \n",
       "left leaning                         1.3         270        142  \n",
       "left                                 1.0         154         60  \n",
       "extreme bias (left)                  0.9           0          8  \n",
       "local                                0.9         143         20  "
      ]
     },
     "execution_count": 11,
     "metadata": {},
     "output_type": "execute_result"
    }
   ],
   "source": [
    "networks_char = pd.DataFrame(networks_char).round(1).transpose()\n",
    "networks_char = networks_char[[\"N nodes\", \"<k_out>\", \"<k_in>\", \"std(k_out) / <k_out>\", \"std(k_in) / <k_in>\", \"max(k_out)\", \"max(k_in)\"]]\n",
    "networks_char = networks_char.astype({\n",
    "    \"N nodes\": int,\n",
    "    \"max(k_out)\": int,\n",
    "    \"max(k_in)\": int,\n",
    "})\n",
    "\n",
    "networks_char.to_csv(\"data/table_IRA_network.csv\", float_format=\"%.1f\")\n",
    "networks_char"
   ]
  },
  {
   "cell_type": "code",
   "execution_count": null,
   "metadata": {},
   "outputs": [],
   "source": []
  }
 ],
 "metadata": {
  "kernelspec": {
   "display_name": "Python 3",
   "language": "python",
   "name": "python3"
  },
  "language_info": {
   "codemirror_mode": {
    "name": "ipython",
    "version": 3
   },
   "file_extension": ".py",
   "mimetype": "text/x-python",
   "name": "python",
   "nbconvert_exporter": "python",
   "pygments_lexer": "ipython3",
   "version": "3.7.3"
  }
 },
 "nbformat": 4,
 "nbformat_minor": 2
}
