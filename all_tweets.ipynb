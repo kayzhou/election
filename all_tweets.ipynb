{
 "cells": [
  {
   "cell_type": "markdown",
   "metadata": {},
   "source": [
    "# 根据fake_tweets产生的数据文件进行分析"
   ]
  },
  {
   "cell_type": "code",
   "execution_count": 2,
   "metadata": {},
   "outputs": [],
   "source": [
    "from my_weapon import *\n",
    "from collections import defaultdict, Counter\n",
    "from IPython.display import display"
   ]
  },
  {
   "cell_type": "code",
   "execution_count": 8,
   "metadata": {},
   "outputs": [
    {
     "name": "stdout",
     "output_type": "stream",
     "text": [
      "CPU times: user 1min 2s, sys: 11.6 s, total: 1min 13s\n",
      "Wall time: 1min 13s\n"
     ]
    }
   ],
   "source": [
    "%time groups_url_tweets = [json.load(open(\"disk/url_ts_media_{}.json\".format(i))) for i in range(8)]"
   ]
  },
  {
   "cell_type": "code",
   "execution_count": null,
   "metadata": {},
   "outputs": [
    {
     "name": "stdout",
     "output_type": "stream",
     "text": [
      "0 ...\n",
      "1 ...\n",
      "2 ...\n"
     ]
    }
   ],
   "source": [
    "map_labels = {\n",
    "    \"0\": \"fake\",\n",
    "    \"1\": \"extreme bias (right)\",\n",
    "    \"2\": \"right\",\n",
    "    \"3\": \"right leaning\",\n",
    "    \"4\": \"center\",\n",
    "    \"5\": \"left leaning\",\n",
    "    \"6\": \"left\",\n",
    "    \"7\": \"extreme bias (left)\"\n",
    "}\n",
    "\n",
    "def get_cdf_pdf(data, mini, maxi, step, norm=True):\n",
    "    x = np.arange(mini, maxi, step)\n",
    "    cdf = np.zeros(len(x))\n",
    "    pdf = np.zeros(len(x))\n",
    "    for d in data:\n",
    "        d = float(d)\n",
    "        if d < mini or d >= maxi:\n",
    "            continue\n",
    "            \n",
    "        for i, _x in enumerate(x):\n",
    "            if d >= _x:\n",
    "                cdf[i] += 1\n",
    "                \n",
    "            if i == (len(x) - 1):\n",
    "                pdf[i] += 1\n",
    "            elif _x <= d < x[i+1]: \n",
    "                pdf[i] += 1\n",
    "\n",
    "    if norm:\n",
    "        cdf = cdf / sum(pdf)\n",
    "        pdf = pdf / sum(pdf)\n",
    "\n",
    "    return x, cdf, pdf\n",
    "\n",
    "plt.figure(figsize=(10, 6))\n",
    "for i in range(8):\n",
    "    print(i, \"...\")\n",
    "    url_tweets = groups_url_tweets[i]\n",
    "    data = pd.Series([len(url_tweet[\"tweets\"]) for url_tweet in url_tweets])\n",
    "    x, cdf, pdf = get_cdf_pdf(data, 0, 50000, 500)\n",
    "    l0 = plt.plot(x, cdf, label=map_labels[str(i)])\n",
    "#     data.hist(bins=50)\n",
    "    \n",
    "plt.title('Distribution of number of tweets in each news', fontsize=15)\n",
    "plt.ylabel('N of news', fontsize=14)\n",
    "plt.xlabel('N of tweets referring to this news', fontsize=14)\n",
    "plt.xticks(fontsize=13); plt.yticks(fontsize=13)\n",
    "plt.legend()\n",
    "plt.yscale(\"log\")\n",
    "plt.xscale(\"log\")\n",
    "#     plt.savefig('fig/distribution_size_fake_news.pdf', dpi=300)\n",
    "\n",
    "plt.show()\n",
    "plt.close()"
   ]
  },
  {
   "cell_type": "markdown",
   "metadata": {},
   "source": [
    "- 189620条谣言URL, 914272条初始推特；\n",
    "- 25212个第一条谣言的用户, 88215个发初始推特的用户；\n",
    "\n",
    "### 专门针对用户的分析，放到analyze_users.ipy中～"
   ]
  },
  {
   "cell_type": "code",
   "execution_count": 5,
   "metadata": {},
   "outputs": [],
   "source": [
    "import pendulum\n",
    "   \n",
    "def plot_day(i, url, sorted_dts, sorted_dts2=None, save=False):\n",
    "    \"\"\"\n",
    "    包含了两条线！\n",
    "    \"\"\"\n",
    "\n",
    "    plt.figure(figsize=(10, 6))\n",
    "    ts = cal_ts_day(sorted_dts)\n",
    "    ts.plot()\n",
    "    \n",
    "    if sorted_dts2:\n",
    "        ts2 = cal_ts_day(sorted_dts2)\n",
    "        ts2.plot()\n",
    "    \n",
    "    # configure\n",
    "    plt.ylabel('N of tweets with this fake news', fontsize=15)\n",
    "    plt.xticks(fontsize=11); plt.yticks(fontsize=11)\n",
    "#     plt.xlabel('$Date$', fontsize=15)\n",
    "#     plt.title(url)\n",
    "    \n",
    "    if save:\n",
    "        plt.savefig('fig/{}-{}-overall-spread.pdf'.format(i, url), dpi=300)\n",
    "    else:\n",
    "        plt.show()\n",
    "    \n",
    "    plt.close()\n",
    "\n",
    "\n",
    "def plot_48hours(i, url, sorted_dts, sorted_dts2=None, save=False):\n",
    "    \"\"\"\n",
    "    包含了两条线！\n",
    "    \"\"\"\n",
    "    \n",
    "#     print(url)\n",
    "#     print(\"实际传播开始和结束时间：\", sorted_dts[0], sorted_dts[-1])\n",
    "\n",
    "    plt.figure(figsize=(10, 6))\n",
    "    ts = cal_ts_48hours(sorted_dts)\n",
    "    ts.plot()\n",
    "    \n",
    "    if sorted_dts2:\n",
    "        ts2 = cal_ts_48hours(sorted_dts2)\n",
    "        ts2.plot()\n",
    "\n",
    "    \n",
    "    # configure\n",
    "    plt.ylabel('N of tweets with this fake news', fontsize=15)\n",
    "    plt.xticks(fontsize=11); plt.yticks(fontsize=11)\n",
    "#     plt.xlabel('$Date$', fontsize=15)\n",
    "#     plt.title(url)\n",
    "\n",
    "    if save:\n",
    "        plt.savefig('fig/{}-{}-first-48-hours.pdf'.format(i, url), dpi=300)\n",
    "    else:\n",
    "        plt.show()\n",
    "        \n",
    "    plt.close()\n"
   ]
  },
  {
   "cell_type": "code",
   "execution_count": 6,
   "metadata": {},
   "outputs": [
    {
     "name": "stdout",
     "output_type": "stream",
     "text": [
      "plot 1 ~\n"
     ]
    },
    {
     "data": {
      "image/png": "[encoded data removed]",
      "text/plain": [
       "<Figure size 720x432 with 1 Axes>"
      ]
     },
     "metadata": {
      "needs_background": "light"
     },
     "output_type": "display_data"
    },
    {
     "data": {
      "image/png": "[encoded data removed]",
      "text/plain": [
       "<Figure size 720x432 with 1 Axes>"
      ]
     },
     "metadata": {
      "needs_background": "light"
     },
     "output_type": "display_data"
    },
    {
     "name": "stdout",
     "output_type": "stream",
     "text": [
      "plot 2 ~\n"
     ]
    },
    {
     "data": {
      "image/png": "[encoded data removed]",
      "text/plain": [
       "<Figure size 720x432 with 1 Axes>"
      ]
     },
     "metadata": {
      "needs_background": "light"
     },
     "output_type": "display_data"
    },
    {
     "data": {
      "image/png": "[encoded data removed]",
      "text/plain": [
       "<Figure size 720x432 with 1 Axes>"
      ]
     },
     "metadata": {
      "needs_background": "light"
     },
     "output_type": "display_data"
    }
   ],
   "source": [
    "for i, url_tweet in enumerate(url_tweets):\n",
    "\n",
    "    if i == 0:\n",
    "        continue\n",
    "    if i >= 3:\n",
    "        break\n",
    "    print(\"plot {} ~\".format(i))\n",
    "    \n",
    "    url = url_tweet[\"url\"]\n",
    "    tweets_list = url_tweet[\"tweets\"]\n",
    "    dts = [t[\"dt\"] for t in tweets_list]\n",
    "    \n",
    "    dts2 = [t[\"dt\"] for t in tweets_list if t[\"is_source\"]==1]\n",
    "    plot_day(i, url, dts, dts2)\n",
    "    plot_48hours(i, url, dts, dts2)\n",
    "\n",
    "#     plot_day(i, url, dts)\n",
    "#     plot_48hours(i, url, dts)"
   ]
  },
  {
   "cell_type": "markdown",
   "metadata": {},
   "source": [
    "---\n",
    "\n",
    "## source对trump和hillary的态度"
   ]
  },
  {
   "cell_type": "code",
   "execution_count": 3,
   "metadata": {},
   "outputs": [
    {
     "name": "stderr",
     "output_type": "stream",
     "text": [
      "2562218it [10:21, 4120.16it/s]\n"
     ]
    }
   ],
   "source": [
    "from SQLite_handler import opinion\n",
    "\n",
    "first_opinion = []\n",
    "staters_opinion = []\n",
    "other_opinion = []\n",
    "\n",
    "tweets_csv = pd.read_csv(\"data/fake-tweets.csv\", usecols=[\"tweet_id\", \"is_first\", \"is_source\"])\n",
    "\n",
    "\n",
    "for i, row in tqdm(tweets_csv.iterrows()):\n",
    "    tid = row[\"tweet_id\"]\n",
    "    opi = opinion(tid)\n",
    "    if row[\"is_first\"] == 1:\n",
    "        first_opinion.append(opi)\n",
    "    if row[\"is_source\"] == 1:\n",
    "        staters_opinion.append(opi)\n",
    "    else:\n",
    "        other_opinion.append(opi)\n",
    "    "
   ]
  },
  {
   "cell_type": "code",
   "execution_count": 29,
   "metadata": {},
   "outputs": [
    {
     "name": "stdout",
     "output_type": "stream",
     "text": [
      "Counter({1: 145411, 0: 43464, -1: 587})\n",
      "Counter({1: 713400, 0: 181059, -1: 2585})\n",
      "Counter({1: 1488826, 0: 175888, -1: 460})\n"
     ]
    },
    {
     "data": {
      "image/png": "[encoded data removed]",
      "text/plain": [
       "<Figure size 1440x432 with 3 Axes>"
      ]
     },
     "metadata": {},
     "output_type": "display_data"
    }
   ],
   "source": [
    "from collections import Counter\n",
    "sns.set_style(\"white\")\n",
    "sns.color_palette(\"RdBu\", n_colors=7)\n",
    "\n",
    "count = Counter(first_opinion)\n",
    "print(count)\n",
    "\n",
    "label = [\"pro-hillary\", \"pro-trump\"]\n",
    "plt.figure(figsize=(20, 6))\n",
    "\n",
    "plt.subplot(131)\n",
    "plt.bar(1, count[0], color=sns.color_palette(\"RdBu\")[5], width=0.2)\n",
    "plt.bar(1.5, count[1], color=sns.color_palette(\"RdBu\")[0], width=0.2)\n",
    "label = [\"pro-hillary\\n{0:.0%}\".format(count[0] / (count[0]+count[1])), \"pro-trump\\n{0:.0%}\".format(count[1] / (count[0]+count[1]))]\n",
    "plt.xticks([1, 1.5], label)\n",
    "plt.xlabel('First source', fontsize=15)\n",
    "plt.ylabel('Number of tweets', fontsize=15)\n",
    "plt.xticks(fontsize=14); plt.yticks(fontsize=14)\n",
    "\n",
    "count = Counter(staters_opinion)\n",
    "print(count)\n",
    "\n",
    "plt.subplot(132)\n",
    "plt.bar(1, count[0], color=sns.color_palette(\"RdBu\")[5], width=0.2)\n",
    "plt.bar(1.5, count[1], color=sns.color_palette(\"RdBu\")[0], width=0.2)\n",
    "label = [\"pro-hillary\\n{0:.0%}\".format(count[0] / (count[0]+count[1])), \"pro-trump\\n{0:.0%}\".format(count[1] / (count[0]+count[1]))]\n",
    "plt.xticks([1, 1.5], label)\n",
    "plt.xlabel('source', fontsize=15)\n",
    "plt.xticks(fontsize=14); plt.yticks(fontsize=14)\n",
    "\n",
    "count = Counter(other_opinion)\n",
    "print(count)\n",
    "\n",
    "plt.subplot(133)\n",
    "plt.bar(1, count[0], color=sns.color_palette(\"RdBu\")[5], width=0.2)\n",
    "plt.bar(1.5, count[1], color=sns.color_palette(\"RdBu\")[0], width=0.2)\n",
    "label = [\"pro-hillary\\n{0:.0%}\".format(count[0] / (count[0]+count[1])), \"pro-trump\\n{0:.0%}\".format(count[1] / (count[0]+count[1]))]\n",
    "plt.xticks([1, 1.5], label)\n",
    "plt.xlabel('non-source', fontsize=15)\n",
    "# plt.ylabel('N of fake sources', fontsize=15)\n",
    "plt.xticks(fontsize=14); plt.yticks(fontsize=14)\n",
    "\n",
    "plt.savefig(\"fig/support.pdf\", dpi=300, bbox_inches='tight')\n",
    "plt.show()\n",
    "plt.close()"
   ]
  },
  {
   "cell_type": "code",
   "execution_count": 9,
   "metadata": {},
   "outputs": [],
   "source": [
    "uids_of_IRA = set(json.load(open(\"data/IRA_map.json\")).values())"
   ]
  },
  {
   "cell_type": "markdown",
   "metadata": {},
   "source": [
    "## 下面对fake-tweets.csv分析"
   ]
  },
  {
   "cell_type": "code",
   "execution_count": 62,
   "metadata": {},
   "outputs": [
    {
     "data": {
      "text/plain": [
       "2492013"
      ]
     },
     "execution_count": 62,
     "metadata": {},
     "output_type": "execute_result"
    }
   ],
   "source": [
    "len(tweets_csv[\"tweet_id\"].unique())"
   ]
  },
  {
   "cell_type": "markdown",
   "metadata": {},
   "source": [
    "## tweets_csv有多少url，多少is_source，多少is_first"
   ]
  },
  {
   "cell_type": "code",
   "execution_count": 8,
   "metadata": {},
   "outputs": [
    {
     "data": {
      "text/plain": [
       "(184297, 208367)"
      ]
     },
     "execution_count": 8,
     "metadata": {},
     "output_type": "execute_result"
    }
   ],
   "source": [
    "len(tweets_csv[\"URL\"].unique()), len(tweets_csv[\"user_id\"].unique())"
   ]
  },
  {
   "cell_type": "markdown",
   "metadata": {},
   "source": [
    "## * 基于用户的转发网络构建"
   ]
  },
  {
   "cell_type": "code",
   "execution_count": 26,
   "metadata": {},
   "outputs": [],
   "source": [
    "retweet_network = json.load(open(\"data/fake_retweet_network.json\"))"
   ]
  },
  {
   "cell_type": "code",
   "execution_count": 20,
   "metadata": {},
   "outputs": [
    {
     "name": "stderr",
     "output_type": "stream",
     "text": [
      "\n",
      "188949it [00:26, 22041.75it/s]\u001b[A"
     ]
    },
    {
     "name": "stdout",
     "output_type": "stream",
     "text": [
      "add nodes from ...\n",
      "add edge from ...\n"
     ]
    }
   ],
   "source": [
    "def save_network():\n",
    "    G = nx.DiGraph()\n",
    "\n",
    "    nodes = tweets_csv[\"user_id\"].tolist()\n",
    "    edges = []\n",
    "    dict_tweetid_userid = {}\n",
    "    for _, row in tweets_csv.iterrows():\n",
    "        dict_tweetid_userid[row[\"tweet_id\"]] = row[\"user_id\"]\n",
    "    \n",
    "    for n2, n1 in retweet_network.items():\n",
    "        u1 = dict_tweetid_userid[n1]\n",
    "        u2 = dict_tweetid_userid[n2]\n",
    "        edges.append((u1, u2))\n",
    "\n",
    "    print(\"add nodes from ...\")\n",
    "    G.add_nodes_from(nodes)\n",
    "    print(\"add edge from ...\")\n",
    "    G.add_edges_from(edges)\n",
    "    nx.write_gpickle(G, \"data/fake_network.gpickle\")\n",
    "    \n",
    "save_network()"
   ]
  },
  {
   "cell_type": "code",
   "execution_count": 22,
   "metadata": {},
   "outputs": [],
   "source": [
    "G = nx.read_gpickle(\"data/fake_network.gpickle\")"
   ]
  },
  {
   "cell_type": "code",
   "execution_count": 25,
   "metadata": {},
   "outputs": [
    {
     "data": {
      "text/plain": [
       "208367"
      ]
     },
     "execution_count": 25,
     "metadata": {},
     "output_type": "execute_result"
    }
   ],
   "source": [
    "G.number_of_nodes()"
   ]
  },
  {
   "cell_type": "code",
   "execution_count": 26,
   "metadata": {},
   "outputs": [
    {
     "data": {
      "text/plain": [
       "1031782"
      ]
     },
     "execution_count": 26,
     "metadata": {},
     "output_type": "execute_result"
    }
   ],
   "source": [
    "G.number_of_edges()"
   ]
  },
  {
   "cell_type": "code",
   "execution_count": 29,
   "metadata": {},
   "outputs": [
    {
     "name": "stdout",
     "output_type": "stream",
     "text": [
      "add nodes from ...\n",
      "add edge from ...\n"
     ]
    }
   ],
   "source": [
    "import graph_tool.all as gt\n",
    "\n",
    "def save_network_gt():\n",
    "    g = gt.Graph()\n",
    "\n",
    "    nodes = tweets_csv[\"user_id\"].tolist()\n",
    "    node_map = {n:i for i, n in enumerate(nodes)}\n",
    "    \n",
    "    dict_tweetid_userid = {}\n",
    "    for _, row in tweets_csv.iterrows():\n",
    "        dict_tweetid_userid[row[\"tweet_id\"]] = row[\"user_id\"]\n",
    "    \n",
    "    print(\"add nodes from ...\")\n",
    "    vlist = g.add_vertex(len(nodes))\n",
    "        \n",
    "    edges = []\n",
    "    print(\"add edge from ...\")\n",
    "    for n2, n1 in retweet_network.items():\n",
    "        u1 = node_map[dict_tweetid_userid[n1]]\n",
    "        u2 = node_map[dict_tweetid_userid[n2]]\n",
    "        g.add_edge(g.vertex(u1), g.vertex(u2))\n",
    "\n",
    "    g.save(\"data/fake_network.gt\")\n",
    "    \n",
    "save_network_gt()"
   ]
  },
  {
   "cell_type": "code",
   "execution_count": 262,
   "metadata": {},
   "outputs": [],
   "source": [
    "g = gt.load_graph(\"data/fake_network.gt\")"
   ]
  },
  {
   "cell_type": "code",
   "execution_count": 273,
   "metadata": {},
   "outputs": [
    {
     "data": {
      "text/plain": [
       "0"
      ]
     },
     "execution_count": 273,
     "metadata": {},
     "output_type": "execute_result"
    }
   ],
   "source": [
    "g.vp.CI_out[3]"
   ]
  },
  {
   "cell_type": "code",
   "execution_count": 65,
   "metadata": {},
   "outputs": [],
   "source": [
    "from random import random\n",
    "\n",
    "def deg_sample():\n",
    "    if random() > 0.5:\n",
    "        return np.random.poisson(4), np.random.poisson(4)\n",
    "    else:\n",
    "        return np.random.poisson(20), np.random.poisson(20)\n",
    "    \n",
    "g = gt.random_graph(100, deg_sample)\n",
    "g.save(\"data/test_network.gt\")"
   ]
  },
  {
   "cell_type": "code",
   "execution_count": 73,
   "metadata": {},
   "outputs": [
    {
     "name": "stdout",
     "output_type": "stream",
     "text": [
      "0\n",
      "1\n",
      "2\n",
      "(0, 1)\n"
     ]
    }
   ],
   "source": [
    "# test graph-tool\n",
    "\n",
    "# import graph_tool.draw\n",
    "\n",
    "g = gt.Graph()\n",
    "g.add_vertex(3)\n",
    "g.add_edge(g.vertex(0), g.vertex(1))\n",
    "for v in g.vertices():\n",
    "    print(v)\n",
    "for e in g.edges():\n",
    "    print(e)"
   ]
  },
  {
   "cell_type": "markdown",
   "metadata": {},
   "source": [
    "## Their CI rank\n",
    "\n",
    "data/fake_winners.json"
   ]
  },
  {
   "cell_type": "code",
   "execution_count": 118,
   "metadata": {},
   "outputs": [],
   "source": [
    "winners = json.load(open(\"data/fake_winners.json\"))"
   ]
  },
  {
   "cell_type": "code",
   "execution_count": 82,
   "metadata": {},
   "outputs": [
    {
     "data": {
      "image/png": "[encoded data removed]",
      "text/plain": [
       "<Figure size 432x432 with 1 Axes>"
      ]
     },
     "metadata": {
      "needs_background": "light"
     },
     "output_type": "display_data"
    }
   ],
   "source": [
    "label = [\"first source\", \"source\", \"non-source\"]\n",
    "plt.figure(figsize=(6, 6))\n",
    "\n",
    "# plt.subplot(131)\n",
    "\n",
    "plt.bar(1, len(tweets_csv[tweets_csv[\"is_first\"]==1]), width=0.3)\n",
    "plt.bar(2, len(tweets_csv[tweets_csv[\"is_source\"]==1]), width=0.3)\n",
    "plt.bar(3, len(tweets_csv[tweets_csv[\"is_source\"]==0]), width=0.3)\n",
    "\n",
    "plt.xticks([1, 2, 3], label)\n",
    "plt.xlabel('All users', fontsize=15)\n",
    "plt.ylabel('Number of fake news tweets', fontsize=15)\n",
    "plt.xticks(fontsize=14); plt.yticks(fontsize=14)\n",
    "plt.savefig(\"fig/N-of-all-users.pdf\", dpi=300, bbox_inches='tight')\n",
    "plt.show()\n",
    "plt.tight_layout()\n",
    "plt.close()"
   ]
  },
  {
   "cell_type": "code",
   "execution_count": 3,
   "metadata": {},
   "outputs": [
    {
     "data": {
      "text/plain": [
       "('曾经为source的用户量', 84370)"
      ]
     },
     "execution_count": 3,
     "metadata": {},
     "output_type": "execute_result"
    }
   ],
   "source": [
    "source_tweets = tweets_csv[tweets_csv[\"is_source\"]==1]\n",
    "\"曾经为source的用户量\", len(source_tweets[\"user_id\"].unique())"
   ]
  },
  {
   "cell_type": "markdown",
   "metadata": {},
   "source": [
    "### 分析fake news的source_content"
   ]
  },
  {
   "cell_type": "code",
   "execution_count": 14,
   "metadata": {},
   "outputs": [],
   "source": [
    "import SQLite_handler\n",
    "import importlib\n",
    "importlib.reload(SQLite_handler)\n",
    "    \n",
    "tweet_ids = source_tweets[\"tweet_id\"].tolist()\n",
    "rsts = SQLite_handler.find_source(tweet_ids)"
   ]
  },
  {
   "cell_type": "code",
   "execution_count": 19,
   "metadata": {},
   "outputs": [
    {
     "name": "stdout",
     "output_type": "stream",
     "text": [
      "amount of tweets of which source can be found: 876655\n",
      "Twitter Web Client - 33.36%\n",
      "dlvr.it - 22.55%\n",
      "Twitter for iPhone - 7.94%\n",
      "Facebook - 7.71%\n",
      "Twitter for Android - 5.80%\n",
      "Twitter for iPad - 3.15%\n",
      "Put your button on any page!  - 2.81%\n",
      "Mobile Web - 2.48%\n",
      "twitterfeed - 2.23%\n",
      "IFTTT - 1.62%\n",
      "Hootsuite - 1.04%\n",
      "SocialOomph - 0.88%\n",
      "Sprout Social - 0.86%\n",
      "Linkis.com - 0.84%\n",
      "Buffer - 0.64%\n",
      "WordPress.com - 0.47%\n",
      "Rignite - 0.41%\n",
      "OS X - 0.32%\n",
      "TweetDeck - 0.32%\n",
      "Mobile Web (M5) - 0.26%\n"
     ]
    }
   ],
   "source": [
    "count = [r[\"source_content\"] for r in rsts if r[\"source_content\"] != -1]\n",
    "_sum = len(count)\n",
    "print(\"amount of tweets of which source can be found:\", _sum)\n",
    "count = Counter(count)\n",
    "\n",
    "for k, v in count.most_common(20):\n",
    "    print(k, '- {:.2%}'.format(v / _sum))"
   ]
  },
  {
   "cell_type": "code",
   "execution_count": 86,
   "metadata": {},
   "outputs": [
    {
     "data": {
      "text/plain": [
       "('曾经为first source的用户量', 24446)"
      ]
     },
     "execution_count": 86,
     "metadata": {},
     "output_type": "execute_result"
    }
   ],
   "source": [
    "first_tweets = tweets_csv[tweets_csv[\"is_first\"]==1]\n",
    "\"曾经为first source的用户量\", len(first_tweets[\"user_id\"].unique())"
   ]
  },
  {
   "cell_type": "code",
   "execution_count": 31,
   "metadata": {},
   "outputs": [
    {
     "data": {
      "text/plain": [
       "('IRA用户量', 92)"
      ]
     },
     "execution_count": 31,
     "metadata": {},
     "output_type": "execute_result"
    }
   ],
   "source": [
    "ira_tweets = tweets_csv[tweets_csv[\"is_IRA\"]==1]\n",
    "'IRA用户量', len(ira_tweets[\"user_id\"].unique())"
   ]
  },
  {
   "cell_type": "markdown",
   "metadata": {},
   "source": [
    "说明并没有匿名用户存在，非常好"
   ]
  },
  {
   "cell_type": "code",
   "execution_count": 93,
   "metadata": {},
   "outputs": [
    {
     "data": {
      "image/png": "[encoded data removed]",
      "text/plain": [
       "<Figure size 432x432 with 1 Axes>"
      ]
     },
     "metadata": {
      "needs_background": "light"
     },
     "output_type": "display_data"
    }
   ],
   "source": [
    "label = [\"first source\", \"source\", \"non-source\"]\n",
    "plt.figure(figsize=(6, 6))\n",
    "\n",
    "# plt.subplot(131)\n",
    "plt.bar(1, len(ira_tweets[ira_tweets[\"is_first\"]==1]), width=0.3)\n",
    "plt.bar(2, len(ira_tweets[ira_tweets[\"is_source\"]==1]), width=0.3)\n",
    "plt.bar(3, len(ira_tweets[ira_tweets[\"is_source\"]==0]), width=0.3)\n",
    "\n",
    "# label = [\"pro-hillary\\n{0:.0%}\".format(count[0] / (count[0]+count[1])), \"pro-trump\\n{0:.0%}\".format(count[1] / (count[0]+count[1]))]\n",
    "plt.xticks([1, 2, 3], label)\n",
    "plt.xlabel('Only IRA', fontsize=15)\n",
    "plt.ylabel('Number of fake news tweets', fontsize=15)\n",
    "plt.xticks(fontsize=14); plt.yticks(fontsize=14)\n",
    "plt.savefig(\"fig/N-of-only-IRA.pdf\", dpi=300, bbox_inches='tight')\n",
    "plt.show()\n",
    "plt.tight_layout()\n",
    "plt.close()"
   ]
  },
  {
   "cell_type": "markdown",
   "metadata": {},
   "source": [
    "## The influence of IRAs in fake news spreading"
   ]
  },
  {
   "cell_type": "markdown",
   "metadata": {},
   "source": [
    "### IRA涉及了哪些URL"
   ]
  },
  {
   "cell_type": "code",
   "execution_count": 94,
   "metadata": {},
   "outputs": [
    {
     "data": {
      "text/plain": [
       "(1274, 344, 696, 600)"
      ]
     },
     "execution_count": 94,
     "metadata": {},
     "output_type": "execute_result"
    }
   ],
   "source": [
    "ira_url = set(ira_tweets[\"URL\"])\n",
    "ira_first_url = set(ira_tweets[ira_tweets[\"is_first\"]==1][\"URL\"])\n",
    "ira_source_url = set(ira_tweets[ira_tweets[\"is_source\"]==1][\"URL\"])\n",
    "non_source_url = set(ira_tweets[ira_tweets[\"is_source\"]==0][\"URL\"])\n",
    "\n",
    "len(ira_url), len(ira_first_url), len(ira_source_url), len(non_source_url)"
   ]
  },
  {
   "cell_type": "markdown",
   "metadata": {},
   "source": [
    "### IRA涉及的URL影响了多少其他人？"
   ]
  },
  {
   "cell_type": "code",
   "execution_count": 95,
   "metadata": {},
   "outputs": [
    {
     "name": "stderr",
     "output_type": "stream",
     "text": [
      "2492013it [02:15, 18381.03it/s]\n"
     ]
    },
    {
     "data": {
      "text/plain": [
       "(263591, 599, 74070, 202404)"
      ]
     },
     "execution_count": 95,
     "metadata": {},
     "output_type": "execute_result"
    }
   ],
   "source": [
    "from tqdm import tqdm\n",
    "\n",
    "cnt = 0\n",
    "cnt_first = 0\n",
    "cnt_source = 0\n",
    "cnt_non = 0\n",
    "for i, row in tqdm(tweets_csv.iterrows()):\n",
    "    if row[\"URL\"] in ira_url:\n",
    "        cnt += 1\n",
    "    if row[\"URL\"] in ira_first_url:\n",
    "        cnt_first += 1\n",
    "    if row[\"URL\"] in ira_source_url:\n",
    "        cnt_source += 1\n",
    "    if row[\"URL\"] in non_source_url:\n",
    "        cnt_non += 1\n",
    "cnt, cnt_first, cnt_source, cnt_non"
   ]
  },
  {
   "cell_type": "code",
   "execution_count": 97,
   "metadata": {},
   "outputs": [
    {
     "data": {
      "image/png": "[encoded data removed]",
      "text/plain": [
       "<Figure size 432x432 with 1 Axes>"
      ]
     },
     "metadata": {
      "needs_background": "light"
     },
     "output_type": "display_data"
    }
   ],
   "source": [
    "label = [\"source\", \"urls\", \"tweets\"]\n",
    "plt.figure(figsize=(6, 6))\n",
    "\n",
    "# plt.subplot(131)\n",
    "\n",
    "plt.bar(1, len(ira_tweets[ira_tweets[\"is_source\"]==1]), width=0.3)\n",
    "plt.bar(2, len(ira_source_url), width=0.3)\n",
    "plt.bar(3, cnt_source, width=0.3)\n",
    "\n",
    "# label = [\"pro-hillary\\n{0:.0%}\".format(count[0] / (count[0]+count[1])), \"pro-trump\\n{0:.0%}\".format(count[1] / (count[0]+count[1]))]\n",
    "plt.xticks([1, 2, 3], label)\n",
    "# plt.xlabel('All users', fontsize=15)\n",
    "plt.ylabel('Number', fontsize=15)\n",
    "plt.xticks(fontsize=14); plt.yticks(fontsize=14)\n",
    "# plt.yscale(\"log\")\n",
    "plt.savefig(\"fig/ira-source.pdf\", dpi=300, bbox_inches='tight')\n",
    "plt.show()\n",
    "plt.tight_layout()\n",
    "plt.close()"
   ]
  },
  {
   "cell_type": "code",
   "execution_count": 98,
   "metadata": {},
   "outputs": [
    {
     "data": {
      "image/png": "[encoded data removed]",
      "text/plain": [
       "<Figure size 432x432 with 1 Axes>"
      ]
     },
     "metadata": {
      "needs_background": "light"
     },
     "output_type": "display_data"
    }
   ],
   "source": [
    "label = [\"non source\", \"urls\", \"tweets\"]\n",
    "plt.figure(figsize=(6, 6))\n",
    "\n",
    "# plt.subplot(131)\n",
    "\n",
    "plt.bar(1, len(ira_tweets[ira_tweets[\"is_source\"]==0]), width=0.3)\n",
    "plt.bar(2, len(non_source_url), width=0.3)\n",
    "plt.bar(3, cnt_non, width=0.3)\n",
    "\n",
    "# label = [\"pro-hillary\\n{0:.0%}\".format(count[0] / (count[0]+count[1])), \"pro-trump\\n{0:.0%}\".format(count[1] / (count[0]+count[1]))]\n",
    "plt.xticks([1, 2, 3], label)\n",
    "# plt.xlabel('All users', fontsize=15)\n",
    "plt.ylabel('Number', fontsize=15)\n",
    "plt.xticks(fontsize=14); plt.yticks(fontsize=14)\n",
    "# plt.yscale(\"log\")\n",
    "plt.savefig(\"fig/ira-source.pdf\", dpi=300, bbox_inches='tight')\n",
    "plt.show()\n",
    "plt.tight_layout()\n",
    "plt.close()"
   ]
  },
  {
   "cell_type": "code",
   "execution_count": 99,
   "metadata": {},
   "outputs": [
    {
     "data": {
      "text/plain": [
       "13.521723088275989"
      ]
     },
     "execution_count": 99,
     "metadata": {},
     "output_type": "execute_result"
    }
   ],
   "source": [
    "len(tweets_csv) / len(tweets_csv[\"URL\"].unique())"
   ]
  },
  {
   "cell_type": "code",
   "execution_count": 100,
   "metadata": {},
   "outputs": [
    {
     "data": {
      "text/plain": [
       "1.228448275862069"
      ]
     },
     "execution_count": 100,
     "metadata": {},
     "output_type": "execute_result"
    }
   ],
   "source": [
    "len(ira_tweets[ira_tweets[\"is_source\"]==1]) / len(ira_source_url)"
   ]
  },
  {
   "cell_type": "code",
   "execution_count": 101,
   "metadata": {},
   "outputs": [
    {
     "data": {
      "text/plain": [
       "337.34"
      ]
     },
     "execution_count": 101,
     "metadata": {},
     "output_type": "execute_result"
    }
   ],
   "source": [
    "cnt_non / len(non_source_url)"
   ]
  },
  {
   "cell_type": "markdown",
   "metadata": {},
   "source": [
    "## IRA的被转发情况"
   ]
  },
  {
   "cell_type": "code",
   "execution_count": 102,
   "metadata": {},
   "outputs": [],
   "source": [
    "all_tweets = pd.read_csv(\"data/ira_tweets_csv_hashed.csv\", \n",
    "                         usecols=[\"tweetid\", \"userid\", \"retweet_count\"])"
   ]
  },
  {
   "cell_type": "code",
   "execution_count": 104,
   "metadata": {},
   "outputs": [
    {
     "data": {
      "text/html": [
       "<div>\n",
       "<style scoped>\n",
       "    .dataframe tbody tr th:only-of-type {\n",
       "        vertical-align: middle;\n",
       "    }\n",
       "\n",
       "    .dataframe tbody tr th {\n",
       "        vertical-align: top;\n",
       "    }\n",
       "\n",
       "    .dataframe thead th {\n",
       "        text-align: right;\n",
       "    }\n",
       "</style>\n",
       "<table border=\"1\" class=\"dataframe\">\n",
       "  <thead>\n",
       "    <tr style=\"text-align: right;\">\n",
       "      <th></th>\n",
       "      <th>tweetid</th>\n",
       "      <th>retweet_count</th>\n",
       "    </tr>\n",
       "  </thead>\n",
       "  <tbody>\n",
       "    <tr>\n",
       "      <th>count</th>\n",
       "      <td>8.550000e+02</td>\n",
       "      <td>855.000000</td>\n",
       "    </tr>\n",
       "    <tr>\n",
       "      <th>mean</th>\n",
       "      <td>7.816363e+17</td>\n",
       "      <td>9.987135</td>\n",
       "    </tr>\n",
       "    <tr>\n",
       "      <th>std</th>\n",
       "      <td>1.369839e+16</td>\n",
       "      <td>44.360178</td>\n",
       "    </tr>\n",
       "    <tr>\n",
       "      <th>min</th>\n",
       "      <td>7.345768e+17</td>\n",
       "      <td>0.000000</td>\n",
       "    </tr>\n",
       "    <tr>\n",
       "      <th>25%</th>\n",
       "      <td>7.769366e+17</td>\n",
       "      <td>0.000000</td>\n",
       "    </tr>\n",
       "    <tr>\n",
       "      <th>50%</th>\n",
       "      <td>7.818376e+17</td>\n",
       "      <td>0.000000</td>\n",
       "    </tr>\n",
       "    <tr>\n",
       "      <th>75%</th>\n",
       "      <td>7.942575e+17</td>\n",
       "      <td>1.000000</td>\n",
       "    </tr>\n",
       "    <tr>\n",
       "      <th>max</th>\n",
       "      <td>7.961374e+17</td>\n",
       "      <td>640.000000</td>\n",
       "    </tr>\n",
       "  </tbody>\n",
       "</table>\n",
       "</div>"
      ],
      "text/plain": [
       "            tweetid  retweet_count\n",
       "count  8.550000e+02     855.000000\n",
       "mean   7.816363e+17       9.987135\n",
       "std    1.369839e+16      44.360178\n",
       "min    7.345768e+17       0.000000\n",
       "25%    7.769366e+17       0.000000\n",
       "50%    7.818376e+17       0.000000\n",
       "75%    7.942575e+17       1.000000\n",
       "max    7.961374e+17     640.000000"
      ]
     },
     "execution_count": 104,
     "metadata": {},
     "output_type": "execute_result"
    }
   ],
   "source": [
    "ira_id = set(ira_tweets[ira_tweets[\"is_source\"] == 1][\"tweet_id\"])\n",
    "df = all_tweets.loc[all_tweets['tweetid'].isin(ira_id)]\n",
    "df.describe()"
   ]
  },
  {
   "cell_type": "markdown",
   "metadata": {},
   "source": [
    "# 用户分析 （Group）"
   ]
  },
  {
   "cell_type": "code",
   "execution_count": 20,
   "metadata": {},
   "outputs": [
    {
     "data": {
      "text/plain": [
       "4855687055            8738\n",
       "4831603043            7334\n",
       "3374126201            4844\n",
       "2242085304            4732\n",
       "122455671             3738\n",
       "758652815996776448    2956\n",
       "4906718786            2908\n",
       "2462473820            2879\n",
       "750517084166193156    2766\n",
       "382921457             2707\n",
       "751963872899305472    2703\n",
       "1075296265            2605\n",
       "60893069              2594\n",
       "759317433345769472    2491\n",
       "825501626             2476\n",
       "763982421297553408    2405\n",
       "707278892801765377    2376\n",
       "2700350600            2338\n",
       "746875038901633024    2324\n",
       "766499969696169984    2321\n",
       "755614943039352832    2189\n",
       "3274720530            2169\n",
       "4857584175            2158\n",
       "763518863212511232    2136\n",
       "765648314159210496    2112\n",
       "Name: is_fake, dtype: int64"
      ]
     },
     "execution_count": 20,
     "metadata": {},
     "output_type": "execute_result"
    }
   ],
   "source": [
    "user_count = pd.value_counts(tweets_csv[\"user_id\"]).rename(\"is_fake\")\n",
    "user_count.head(25)\n",
    "# type(user_count)"
   ]
  },
  {
   "cell_type": "markdown",
   "metadata": {},
   "source": [
    "## TOP sources"
   ]
  },
  {
   "cell_type": "code",
   "execution_count": 21,
   "metadata": {},
   "outputs": [
    {
     "data": {
      "text/plain": [
       "user_id\n",
       "4855687055            8610\n",
       "4831603043            7332\n",
       "3374126201            4844\n",
       "2242085304            4732\n",
       "122455671             3738\n",
       "758652815996776448    2955\n",
       "2462473820            2878\n",
       "4906718786            2827\n",
       "750517084166193156    2766\n",
       "382921457             2706\n",
       "751963872899305472    2702\n",
       "1075296265            2605\n",
       "60893069              2520\n",
       "759317433345769472    2486\n",
       "825501626             2460\n",
       "763982421297553408    2405\n",
       "707278892801765377    2376\n",
       "2700350600            2338\n",
       "746875038901633024    2324\n",
       "766499969696169984    2321\n",
       "755614943039352832    2189\n",
       "4857584175            2158\n",
       "763518863212511232    2136\n",
       "3274720530            2128\n",
       "765648314159210496    2112\n",
       "Name: is_source, dtype: int64"
      ]
     },
     "execution_count": 21,
     "metadata": {},
     "output_type": "execute_result"
    }
   ],
   "source": [
    "user_sources_count = tweets_csv[\"is_source\"].groupby(tweets_csv[\"user_id\"]).sum().sort_values(ascending=False)\n",
    "user_sources_count.head(25)"
   ]
  },
  {
   "cell_type": "code",
   "execution_count": 22,
   "metadata": {},
   "outputs": [
    {
     "data": {
      "text/plain": [
       "8610"
      ]
     },
     "execution_count": 22,
     "metadata": {},
     "output_type": "execute_result"
    }
   ],
   "source": [
    "user_sources_count[\"4855687055\"]"
   ]
  },
  {
   "cell_type": "code",
   "execution_count": 50,
   "metadata": {},
   "outputs": [
    {
     "name": "stdout",
     "output_type": "stream",
     "text": [
      "4855687055 -1\n",
      "4831603043 -1\n",
      "3374126201 -1\n",
      "2242085304 -1\n",
      "122455671 -1\n",
      "758652815996776448 -1\n",
      "2462473820 -1\n",
      "4906718786 -1\n",
      "750517084166193156 -1\n",
      "382921457 -1\n",
      "751963872899305472 -1\n",
      "1075296265 -1\n",
      "60893069 -1\n",
      "759317433345769472 -1\n",
      "825501626 -1\n",
      "763982421297553408 -1\n",
      "707278892801765377 -1\n",
      "2700350600 -1\n",
      "746875038901633024 -1\n",
      "766499969696169984 -1\n",
      "755614943039352832 -1\n",
      "4857584175 -1\n",
      "763518863212511232 -1\n",
      "3274720530 -1\n",
      "765648314159210496 -1\n"
     ]
    }
   ],
   "source": [
    "for uid in user_sources_count.head(25).index:\n",
    "    try:\n",
    "        print(uid, winners.index(uid) + 1)\n",
    "    except:\n",
    "        print(uid, -1)"
   ]
  },
  {
   "cell_type": "markdown",
   "metadata": {},
   "source": [
    "## TOP first sources"
   ]
  },
  {
   "cell_type": "code",
   "execution_count": 23,
   "metadata": {},
   "outputs": [
    {
     "data": {
      "text/plain": [
       "user_id\n",
       "122455671             3701\n",
       "4831603043            2481\n",
       "60893069              2079\n",
       "4496549793            1814\n",
       "825501626             1689\n",
       "3274720530            1683\n",
       "3374126201            1565\n",
       "14210021              1451\n",
       "137637040             1102\n",
       "18856867              1085\n",
       "18208120              1028\n",
       "138092553              916\n",
       "634330366              881\n",
       "112732163              851\n",
       "359122436              781\n",
       "1494835716             775\n",
       "166721424              763\n",
       "1246177122             759\n",
       "2270900414             744\n",
       "3326947147             733\n",
       "2507996790             708\n",
       "386235552              682\n",
       "750517084166193156     679\n",
       "4578277935             674\n",
       "466090255              674\n",
       "Name: is_first, dtype: int64"
      ]
     },
     "execution_count": 23,
     "metadata": {},
     "output_type": "execute_result"
    }
   ],
   "source": [
    "user_first_count = tweets_csv[\"is_first\"].groupby(tweets_csv[\"user_id\"]).sum().sort_values(ascending=False)\n",
    "user_first_count.head(25)"
   ]
  },
  {
   "cell_type": "code",
   "execution_count": 52,
   "metadata": {},
   "outputs": [
    {
     "name": "stdout",
     "output_type": "stream",
     "text": [
      "122455671 -1\n",
      "4831603043 -1\n",
      "60893069 -1\n",
      "4496549793 -1\n",
      "825501626 -1\n",
      "3274720530 -1\n",
      "3374126201 -1\n",
      "14210021 -1\n",
      "137637040 -1\n",
      "18856867 -1\n",
      "18208120 -1\n",
      "138092553 -1\n",
      "634330366 -1\n",
      "112732163 -1\n",
      "359122436 -1\n",
      "1494835716 -1\n",
      "166721424 -1\n",
      "1246177122 -1\n",
      "2270900414 -1\n",
      "3326947147 -1\n",
      "2507996790 -1\n",
      "386235552 -1\n",
      "750517084166193156 -1\n",
      "4578277935 -1\n",
      "466090255 -1\n"
     ]
    }
   ],
   "source": [
    "for uid in user_first_count.head(25).index:\n",
    "    try:\n",
    "        print(uid, winners.index(uid) + 1)\n",
    "    except:\n",
    "        print(uid, -1)"
   ]
  },
  {
   "cell_type": "code",
   "execution_count": 33,
   "metadata": {},
   "outputs": [
    {
     "data": {
      "text/html": [
       "<div>\n",
       "<style scoped>\n",
       "    .dataframe tbody tr th:only-of-type {\n",
       "        vertical-align: middle;\n",
       "    }\n",
       "\n",
       "    .dataframe tbody tr th {\n",
       "        vertical-align: top;\n",
       "    }\n",
       "\n",
       "    .dataframe thead th {\n",
       "        text-align: right;\n",
       "    }\n",
       "</style>\n",
       "<table border=\"1\" class=\"dataframe\">\n",
       "  <thead>\n",
       "    <tr style=\"text-align: right;\">\n",
       "      <th></th>\n",
       "      <th>is_fake</th>\n",
       "      <th>is_first</th>\n",
       "      <th>is_source</th>\n",
       "      <th>source_rate</th>\n",
       "      <th>first_rate</th>\n",
       "      <th>first_source_rate</th>\n",
       "    </tr>\n",
       "  </thead>\n",
       "  <tbody>\n",
       "    <tr>\n",
       "      <th>4855687055</th>\n",
       "      <td>8738</td>\n",
       "      <td>327</td>\n",
       "      <td>8610</td>\n",
       "      <td>0.985351</td>\n",
       "      <td>0.037423</td>\n",
       "      <td>0.037979</td>\n",
       "    </tr>\n",
       "    <tr>\n",
       "      <th>4831603043</th>\n",
       "      <td>7334</td>\n",
       "      <td>2481</td>\n",
       "      <td>7332</td>\n",
       "      <td>0.999727</td>\n",
       "      <td>0.338287</td>\n",
       "      <td>0.338380</td>\n",
       "    </tr>\n",
       "    <tr>\n",
       "      <th>3374126201</th>\n",
       "      <td>4844</td>\n",
       "      <td>1565</td>\n",
       "      <td>4844</td>\n",
       "      <td>1.000000</td>\n",
       "      <td>0.323080</td>\n",
       "      <td>0.323080</td>\n",
       "    </tr>\n",
       "    <tr>\n",
       "      <th>2242085304</th>\n",
       "      <td>4732</td>\n",
       "      <td>183</td>\n",
       "      <td>4732</td>\n",
       "      <td>1.000000</td>\n",
       "      <td>0.038673</td>\n",
       "      <td>0.038673</td>\n",
       "    </tr>\n",
       "    <tr>\n",
       "      <th>122455671</th>\n",
       "      <td>3738</td>\n",
       "      <td>3701</td>\n",
       "      <td>3738</td>\n",
       "      <td>1.000000</td>\n",
       "      <td>0.990102</td>\n",
       "      <td>0.990102</td>\n",
       "    </tr>\n",
       "  </tbody>\n",
       "</table>\n",
       "</div>"
      ],
      "text/plain": [
       "            is_fake  is_first  is_source  source_rate  first_rate  \\\n",
       "4855687055     8738       327       8610     0.985351    0.037423   \n",
       "4831603043     7334      2481       7332     0.999727    0.338287   \n",
       "3374126201     4844      1565       4844     1.000000    0.323080   \n",
       "2242085304     4732       183       4732     1.000000    0.038673   \n",
       "122455671      3738      3701       3738     1.000000    0.990102   \n",
       "\n",
       "            first_source_rate  \n",
       "4855687055           0.037979  \n",
       "4831603043           0.338380  \n",
       "3374126201           0.323080  \n",
       "2242085304           0.038673  \n",
       "122455671            0.990102  "
      ]
     },
     "execution_count": 33,
     "metadata": {},
     "output_type": "execute_result"
    }
   ],
   "source": [
    "users = pd.concat([user_count, user_first_count, user_sources_count], axis=1, sort=False)\n",
    "users[\"source_rate\"] = users[\"is_source\"] / users[\"is_fake\"]\n",
    "users[\"first_rate\"] = users[\"is_first\"] / users[\"is_fake\"]\n",
    "users[\"first_source_rate\"] = users[\"is_first\"] / users[\"is_source\"]\n",
    "users = users.fillna(0)\n",
    "users.head()"
   ]
  },
  {
   "cell_type": "markdown",
   "metadata": {},
   "source": [
    "## 根据Get_User爬虫获取的信息进一步补充users数据项"
   ]
  },
  {
   "cell_type": "code",
   "execution_count": 35,
   "metadata": {},
   "outputs": [],
   "source": [
    "user_info = pd.DataFrame([json.loads(line.strip()) for line in open(\"data/fake-users-info.json\")])\n",
    "user_info = user_info.rename(columns={'id_str': 'user_id'})\n",
    "user_info = user_info.set_index(\"user_id\")\n",
    "\n",
    "tmp = pd.concat([users, user_info], axis=1, join=\"inner\")\n",
    "tmp[\"message\"].fillna(\"User going well.\", inplace=True)"
   ]
  },
  {
   "cell_type": "code",
   "execution_count": 30,
   "metadata": {},
   "outputs": [],
   "source": [
    "tmp.to_csv(\"data/fake_users.csv\")"
   ]
  },
  {
   "cell_type": "markdown",
   "metadata": {},
   "source": [
    "# 全面分析涉及到的用户特征"
   ]
  },
  {
   "cell_type": "code",
   "execution_count": 36,
   "metadata": {},
   "outputs": [],
   "source": [
    "users = tmp\n",
    "# users = pd.read_csv(\"data/fake_users.csv\")"
   ]
  },
  {
   "cell_type": "code",
   "execution_count": 45,
   "metadata": {},
   "outputs": [],
   "source": [
    "# 用户已经被注销的那些tweets\n",
    "\n",
    "tweets_csv[tweets_csv[\"user_id\"].isin(users[users[\"message\"]!=\"User going well.\"].index)][\"tweet_id\"].to_csv(\"data/tweets_id_user_not_found.csv\")"
   ]
  },
  {
   "cell_type": "code",
   "execution_count": 303,
   "metadata": {},
   "outputs": [
    {
     "data": {
      "image/png": "[encoded data removed]",
      "text/plain": [
       "<Figure size 576x432 with 1 Axes>"
      ]
     },
     "metadata": {
      "needs_background": "light"
     },
     "output_type": "display_data"
    }
   ],
   "source": [
    "def get_cdf_pdf(data, mini, maxi, step, norm=True):\n",
    "    x = [float(i) for i in np.arange(mini, maxi, step)]\n",
    "    cdf = [0] * len(x)\n",
    "    pdf = [0] * len(x)\n",
    "    count = 0\n",
    "    for d in data:\n",
    "        d = float(d)\n",
    "        if d < mini or d > maxi:\n",
    "            continue\n",
    "        count += 1\n",
    "        for i in range(len(x)):\n",
    "            if i == (len(x) - 1) and d >= x[i]:\n",
    "                pdf[i] += 1\n",
    "            elif d >= x[i] and d < x[i+1]:\n",
    "                pdf[i] += 1\n",
    "\n",
    "            if d >= x[i]:\n",
    "                cdf[i] += 1\n",
    "\n",
    "    if norm:\n",
    "        cdf = [c / count for c in cdf]\n",
    "        pdf = [p / count for p in pdf]\n",
    "\n",
    "    return x, cdf, pdf\n",
    "\n",
    "plt.figure(figsize=(8, 6))\n",
    "x, cdf, pdf = get_cdf_pdf(users[\"is_fake\"], 0, 10000, 100)\n",
    "plt.plot(x, cdf, label=\"participant\")\n",
    "x, cdf, pdf = get_cdf_pdf(users[\"is_source\"], 0, 10000, 100)\n",
    "plt.plot(x, cdf, label=\"source\")\n",
    "x, cdf, pdf = get_cdf_pdf(users[\"is_first\"], 0, 10000, 100)\n",
    "plt.plot(x, cdf, label=\"first source\")\n",
    "# plt.title('Distribution of size of fake news ', fontsize=15)\n",
    "plt.ylabel('CCDF', fontsize=14)\n",
    "plt.xlabel('the amount of tweets for each user', fontsize=14)\n",
    "plt.xticks(fontsize=13); plt.yticks(fontsize=13)\n",
    "plt.yscale(\"log\")\n",
    "plt.xscale(\"log\")\n",
    "plt.legend(fontsize=13)\n",
    "plt.savefig('fig/distribution_starters.pdf', dpi=300)\n",
    "plt.show()\n",
    "plt.close()"
   ]
  },
  {
   "cell_type": "code",
   "execution_count": 294,
   "metadata": {},
   "outputs": [
    {
     "data": {
      "image/png": "[encoded data removed]",
      "text/plain": [
       "<Figure size 576x432 with 1 Axes>"
      ]
     },
     "metadata": {
      "needs_background": "light"
     },
     "output_type": "display_data"
    }
   ],
   "source": [
    "plt.figure(figsize=(8, 6))\n",
    "x, cdf, pdf = get_cdf_pdf(users[\"source_rate\"], 0, 1, 0.02)\n",
    "plt.plot(x, cdf)\n",
    "plt.ylabel('CCDF', fontsize=14)\n",
    "plt.xlabel('source rate', fontsize=14)\n",
    "plt.xticks(fontsize=13); plt.yticks(fontsize=13)\n",
    "# plt.yscale(\"log\"); plt.xscale(\"log\")\n",
    "plt.savefig('fig/distribution_starters.pdf', dpi=300)\n",
    "plt.show()\n",
    "plt.close()"
   ]
  },
  {
   "cell_type": "markdown",
   "metadata": {},
   "source": [
    "## 用户分类source top500与其他用户\n",
    "\n",
    "为了研究source users的特点，需要进行对比，目前用户都是跟fake news有关（至少发布一条），选择其他剩余的全部用户作为对比组"
   ]
  },
  {
   "cell_type": "code",
   "execution_count": 99,
   "metadata": {},
   "outputs": [],
   "source": [
    "top_users = users.sort_values(\"is_source\", ascending=False).head(500)\n",
    "top_users.to_csv(\"data/top500-fake-source-users.csv\") # save top 500\n",
    "other_users = users.sort_values(\"is_source\", ascending=False).iloc[500:]"
   ]
  },
  {
   "cell_type": "code",
   "execution_count": 101,
   "metadata": {},
   "outputs": [],
   "source": [
    "users[\"is_source_top\"] = (users[\"is_fake\"] >= 242)"
   ]
  },
  {
   "cell_type": "markdown",
   "metadata": {},
   "source": [
    "## 0. 多少用户被suspened，或not found "
   ]
  },
  {
   "cell_type": "code",
   "execution_count": 123,
   "metadata": {},
   "outputs": [],
   "source": [
    "prop_df = (users[\"message\"]\n",
    "           .groupby(users[\"is_source_top\"])\n",
    "           .value_counts(normalize=True)\n",
    "           .rename(\"Prop\")\n",
    "           .reset_index())"
   ]
  },
  {
   "cell_type": "code",
   "execution_count": 124,
   "metadata": {},
   "outputs": [
    {
     "data": {
      "text/html": [
       "<div>\n",
       "<style scoped>\n",
       "    .dataframe tbody tr th:only-of-type {\n",
       "        vertical-align: middle;\n",
       "    }\n",
       "\n",
       "    .dataframe tbody tr th {\n",
       "        vertical-align: top;\n",
       "    }\n",
       "\n",
       "    .dataframe thead th {\n",
       "        text-align: right;\n",
       "    }\n",
       "</style>\n",
       "<table border=\"1\" class=\"dataframe\">\n",
       "  <thead>\n",
       "    <tr style=\"text-align: right;\">\n",
       "      <th></th>\n",
       "      <th>is_source_top</th>\n",
       "      <th>message</th>\n",
       "      <th>Prop</th>\n",
       "    </tr>\n",
       "  </thead>\n",
       "  <tbody>\n",
       "    <tr>\n",
       "      <th>0</th>\n",
       "      <td>False</td>\n",
       "      <td>User going well.</td>\n",
       "      <td>0.827816</td>\n",
       "    </tr>\n",
       "    <tr>\n",
       "      <th>1</th>\n",
       "      <td>False</td>\n",
       "      <td>User has been suspended.</td>\n",
       "      <td>0.093130</td>\n",
       "    </tr>\n",
       "    <tr>\n",
       "      <th>2</th>\n",
       "      <td>False</td>\n",
       "      <td>User not found.</td>\n",
       "      <td>0.079055</td>\n",
       "    </tr>\n",
       "    <tr>\n",
       "      <th>3</th>\n",
       "      <td>True</td>\n",
       "      <td>User going well.</td>\n",
       "      <td>0.720036</td>\n",
       "    </tr>\n",
       "    <tr>\n",
       "      <th>4</th>\n",
       "      <td>True</td>\n",
       "      <td>User has been suspended.</td>\n",
       "      <td>0.238819</td>\n",
       "    </tr>\n",
       "    <tr>\n",
       "      <th>5</th>\n",
       "      <td>True</td>\n",
       "      <td>User not found.</td>\n",
       "      <td>0.041145</td>\n",
       "    </tr>\n",
       "  </tbody>\n",
       "</table>\n",
       "</div>"
      ],
      "text/plain": [
       "   is_source_top                   message      Prop\n",
       "0          False          User going well.  0.827816\n",
       "1          False  User has been suspended.  0.093130\n",
       "2          False           User not found.  0.079055\n",
       "3           True          User going well.  0.720036\n",
       "4           True  User has been suspended.  0.238819\n",
       "5           True           User not found.  0.041145"
      ]
     },
     "execution_count": 124,
     "metadata": {},
     "output_type": "execute_result"
    }
   ],
   "source": [
    "prop_df"
   ]
  },
  {
   "cell_type": "code",
   "execution_count": 129,
   "metadata": {},
   "outputs": [
    {
     "data": {
      "text/plain": [
       "User going well.            172369\n",
       "User has been suspended.     19568\n",
       "User not found.              16430\n",
       "Name: message, dtype: int64"
      ]
     },
     "execution_count": 129,
     "metadata": {},
     "output_type": "execute_result"
    }
   ],
   "source": [
    "users[\"message\"].value_counts()"
   ]
  },
  {
   "cell_type": "code",
   "execution_count": 125,
   "metadata": {},
   "outputs": [
    {
     "name": "stdout",
     "output_type": "stream",
     "text": [
      "User going well.            0.827238\n",
      "User has been suspended.    0.093911\n",
      "User not found.             0.078851\n",
      "Name: message, dtype: float64\n"
     ]
    },
    {
     "data": {
      "image/png": "[encoded data removed]",
      "text/plain": [
       "<Figure size 432x288 with 1 Axes>"
      ]
     },
     "metadata": {
      "needs_background": "light"
     },
     "output_type": "display_data"
    }
   ],
   "source": [
    "# cnt_not_found = len(users[users[\"code\"]==50]) # 50 not found\n",
    "# cnt_suspened = len(users[users[\"code\"]==63]) # 63 suspened\n",
    "# cnt_exists = len(users) - cnt_not_found - cnt_suspened\n",
    "\n",
    "# height = [cnt_exists, cnt_suspened, cnt_not_found]\n",
    "# bars = ('exists', 'suspened', 'not found')\n",
    "# y_pos = np.arange(len(bars))\n",
    "# plt.xticks(y_pos, bars)\n",
    "# plt.bar(y_pos, height)\n",
    "\n",
    "sns.barplot(x=\"message\", y=\"Prop\", data=prop_df, hue=\"is_source_top\")\n",
    "# users[\"message\"].fillna(\"User going well.\", inplace=True)\n",
    "print(users[\"message\"].value_counts(normalize=True))"
   ]
  },
  {
   "cell_type": "code",
   "execution_count": 130,
   "metadata": {},
   "outputs": [
    {
     "data": {
      "text/plain": [
       "<matplotlib.axes._subplots.AxesSubplot at 0x7fee782125f8>"
      ]
     },
     "execution_count": 130,
     "metadata": {},
     "output_type": "execute_result"
    },
    {
     "data": {
      "image/png": "[encoded data removed]",
      "text/plain": [
       "<Figure size 432x288 with 1 Axes>"
      ]
     },
     "metadata": {
      "needs_background": "light"
     },
     "output_type": "display_data"
    }
   ],
   "source": [
    "sns.countplot(x=\"message\", data=top_users)"
   ]
  },
  {
   "cell_type": "markdown",
   "metadata": {},
   "source": [
    "### 检查为什么会存在not found \n",
    "\n",
    "<span style=\"color:red\">*已经用账号testkaykaykay进行测试，发现是自己主动deactive the account*</span>\n",
    "\n",
    "所以suspened和not found的用户在传播过程中是非常重要的，我们不能放过对他们的研究。"
   ]
  },
  {
   "cell_type": "code",
   "execution_count": 248,
   "metadata": {},
   "outputs": [],
   "source": [
    "uids_not_found = users[users[\"code\"]==50].index"
   ]
  },
  {
   "cell_type": "code",
   "execution_count": 255,
   "metadata": {},
   "outputs": [
    {
     "data": {
      "text/plain": [
       "Index(['137637040', '2711204024', '501567221', '2330112218', '356324005',\n",
       "       '753082489711816704', '4856642956', '292586544', '4895096885',\n",
       "       '105604742',\n",
       "       ...\n",
       "       '90271735', '734874821759229952', '3053971999', '371334115',\n",
       "       '154234924', '136617688', '896136019', '2744985801', '307481163',\n",
       "       '700050080'],\n",
       "      dtype='object', length=16430)"
      ]
     },
     "execution_count": 255,
     "metadata": {},
     "output_type": "execute_result"
    }
   ],
   "source": [
    "uids_not_found"
   ]
  },
  {
   "cell_type": "code",
   "execution_count": 254,
   "metadata": {},
   "outputs": [
    {
     "data": {
      "text/plain": [
       "<module 'SQLite_handler' from '/home/alex/kayzhou/election/SQLite_handler.py'>"
      ]
     },
     "execution_count": 254,
     "metadata": {},
     "output_type": "execute_result"
    }
   ],
   "source": [
    "importlib.reload(SQLite_handler)"
   ]
  },
  {
   "cell_type": "code",
   "execution_count": 256,
   "metadata": {},
   "outputs": [],
   "source": [
    "users_data_not_found = SQLite_handler.find_users(uids_not_found)"
   ]
  },
  {
   "cell_type": "code",
   "execution_count": 275,
   "metadata": {},
   "outputs": [
    {
     "name": "stdout",
     "output_type": "stream",
     "text": [
      "{'user_id': '612933174', 'error': 'not found'}\n",
      "{'user_id': '274551374', 'error': 'not found'}\n",
      "{'user_id': '3271339802', 'error': 'not found'}\n",
      "{'user_id': '757449025243131904', 'error': 'not found'}\n",
      "{'user_id': '706122184985600000', 'error': 'not found'}\n",
      "{'user_id': '2928819864', 'error': 'not found'}\n",
      "{'user_id': '4418720713', 'error': 'not found'}\n",
      "{'user_id': '2201548476', 'error': 'not found'}\n",
      "{'user_id': '78047698', 'error': 'not found'}\n"
     ]
    },
    {
     "data": {
      "text/plain": [
       "9"
      ]
     },
     "execution_count": 275,
     "metadata": {},
     "output_type": "execute_result"
    }
   ],
   "source": [
    "c = 0\n",
    "for u in users_data_not_found:\n",
    "    if \"error\" in u:\n",
    "        print(u)\n",
    "        c += 1\n",
    "c"
   ]
  },
  {
   "cell_type": "code",
   "execution_count": 258,
   "metadata": {},
   "outputs": [],
   "source": [
    "users_data_not_found_large = SQLite_handler.find_users_from_large(uids_not_found)"
   ]
  },
  {
   "cell_type": "code",
   "execution_count": 273,
   "metadata": {},
   "outputs": [
    {
     "data": {
      "text/plain": [
       "2974"
      ]
     },
     "execution_count": 273,
     "metadata": {},
     "output_type": "execute_result"
    }
   ],
   "source": [
    "c = 0\n",
    "for u in users_data_not_found_large:\n",
    "    if \"error\" in u:\n",
    "        c += 1\n",
    "c"
   ]
  },
  {
   "cell_type": "markdown",
   "metadata": {},
   "source": [
    "有2974在users.db中没有找到，其中9个用户在alex.db没有找到，可能是IRA"
   ]
  },
  {
   "cell_type": "markdown",
   "metadata": {},
   "source": [
    "## 1. 地区及语言"
   ]
  },
  {
   "cell_type": "code",
   "execution_count": 138,
   "metadata": {},
   "outputs": [
    {
     "data": {
      "text/plain": [
       "<matplotlib.axes._subplots.AxesSubplot at 0x7fee72571400>"
      ]
     },
     "execution_count": 138,
     "metadata": {},
     "output_type": "execute_result"
    },
    {
     "data": {
      "image/png": "[encoded data removed]",
      "text/plain": [
       "<Figure size 1008x432 with 2 Axes>"
      ]
     },
     "metadata": {
      "needs_background": "light"
     },
     "output_type": "display_data"
    }
   ],
   "source": [
    "plt.figure(figsize=(14, 6))\n",
    "plt.subplot(121)\n",
    "x = top_users.lang.value_counts()[:10]\n",
    "sns.barplot(x=x.index, y=x)\n",
    "plt.subplot(122)\n",
    "x = other_users.lang.value_counts()[:10]\n",
    "sns.barplot(x=x.index, y=x)"
   ]
  },
  {
   "cell_type": "code",
   "execution_count": 142,
   "metadata": {},
   "outputs": [
    {
     "data": {
      "text/plain": [
       "<matplotlib.axes._subplots.AxesSubplot at 0x7fee70946cc0>"
      ]
     },
     "execution_count": 142,
     "metadata": {},
     "output_type": "execute_result"
    },
    {
     "data": {
      "image/png": "[encoded data removed]",
      "text/plain": [
       "<Figure size 1008x432 with 2 Axes>"
      ]
     },
     "metadata": {
      "needs_background": "light"
     },
     "output_type": "display_data"
    }
   ],
   "source": [
    "plt.figure(figsize=(14, 6))\n",
    "plt.subplot(121)\n",
    "x = top_users.geo_enabled.value_counts()\n",
    "sns.barplot(x=x.index, y=x)\n",
    "plt.subplot(122)\n",
    "x = other_users.geo_enabled.value_counts()\n",
    "sns.barplot(x=x.index, y=x)"
   ]
  },
  {
   "cell_type": "code",
   "execution_count": 146,
   "metadata": {},
   "outputs": [
    {
     "data": {
      "text/plain": [
       "<matplotlib.axes._subplots.AxesSubplot at 0x7fee6e76a0f0>"
      ]
     },
     "execution_count": 146,
     "metadata": {},
     "output_type": "execute_result"
    },
    {
     "data": {
      "image/png": "[encoded data removed]",
      "text/plain": [
       "<Figure size 1296x432 with 2 Axes>"
      ]
     },
     "metadata": {
      "needs_background": "light"
     },
     "output_type": "display_data"
    }
   ],
   "source": [
    "plt.figure(figsize=(18, 6))\n",
    "plt.subplot(121)\n",
    "x = top_users.location.value_counts()[:10]\n",
    "# print(top_users.location.value_counts())\n",
    "sns.barplot(x=x.index, y=x)\n",
    "plt.subplot(122)\n",
    "x = other_users.location.value_counts()[:10]\n",
    "# print(other_users.location.value_counts())\n",
    "sns.barplot(x=x.index, y=x)"
   ]
  },
  {
   "cell_type": "markdown",
   "metadata": {},
   "source": [
    "# 2. 是否为验证用户 "
   ]
  },
  {
   "cell_type": "code",
   "execution_count": 148,
   "metadata": {},
   "outputs": [
    {
     "name": "stdout",
     "output_type": "stream",
     "text": [
      "False    288\n",
      "True       2\n",
      "Name: verified, dtype: int64\n",
      "False    171331\n",
      "True        748\n",
      "Name: verified, dtype: int64\n"
     ]
    },
    {
     "data": {
      "text/plain": [
       "<matplotlib.axes._subplots.AxesSubplot at 0x7fee6d579048>"
      ]
     },
     "execution_count": 148,
     "metadata": {},
     "output_type": "execute_result"
    },
    {
     "data": {
      "image/png": "[encoded data removed]",
      "text/plain": [
       "<Figure size 1008x432 with 2 Axes>"
      ]
     },
     "metadata": {
      "needs_background": "light"
     },
     "output_type": "display_data"
    }
   ],
   "source": [
    "plt.figure(figsize=(14, 6))\n",
    "plt.subplot(121)\n",
    "x = top_users.verified.value_counts()\n",
    "print(x)\n",
    "sns.barplot(x=x.index, y=x)\n",
    "plt.subplot(122)\n",
    "x = other_users.verified.value_counts()\n",
    "print(x)\n",
    "sns.barplot(x=x.index, y=x)"
   ]
  },
  {
   "cell_type": "code",
   "execution_count": 310,
   "metadata": {},
   "outputs": [],
   "source": [
    "top_users = users.sort_values(\"is_source\", ascending=False).head(500)\n",
    "top_users.to_csv(\"data/top-fake-source-users.csv\") # save top 500"
   ]
  },
  {
   "cell_type": "markdown",
   "metadata": {},
   "source": [
    "# 3. fake news指标上的数值"
   ]
  },
  {
   "cell_type": "code",
   "execution_count": 307,
   "metadata": {},
   "outputs": [
    {
     "data": {
      "text/html": [
       "<div>\n",
       "<style scoped>\n",
       "    .dataframe tbody tr th:only-of-type {\n",
       "        vertical-align: middle;\n",
       "    }\n",
       "\n",
       "    .dataframe tbody tr th {\n",
       "        vertical-align: top;\n",
       "    }\n",
       "\n",
       "    .dataframe thead th {\n",
       "        text-align: right;\n",
       "    }\n",
       "</style>\n",
       "<table border=\"1\" class=\"dataframe\">\n",
       "  <thead>\n",
       "    <tr style=\"text-align: right;\">\n",
       "      <th></th>\n",
       "      <th>is_fake</th>\n",
       "      <th>is_first</th>\n",
       "      <th>is_source</th>\n",
       "      <th>source_rate</th>\n",
       "      <th>first_rate</th>\n",
       "      <th>first_source_rate</th>\n",
       "      <th>code</th>\n",
       "      <th>favourites_count</th>\n",
       "      <th>followers_count</th>\n",
       "      <th>friends_count</th>\n",
       "      <th>id</th>\n",
       "      <th>listed_count</th>\n",
       "      <th>statuses_count</th>\n",
       "      <th>time_zone</th>\n",
       "      <th>utc_offset</th>\n",
       "    </tr>\n",
       "  </thead>\n",
       "  <tbody>\n",
       "    <tr>\n",
       "      <th>count</th>\n",
       "      <td>500.000000</td>\n",
       "      <td>500.000000</td>\n",
       "      <td>500.000000</td>\n",
       "      <td>500.000000</td>\n",
       "      <td>500.000000</td>\n",
       "      <td>500.000000</td>\n",
       "      <td>210.000000</td>\n",
       "      <td>290.000000</td>\n",
       "      <td>290.000000</td>\n",
       "      <td>290.000000</td>\n",
       "      <td>5.000000e+02</td>\n",
       "      <td>290.000000</td>\n",
       "      <td>2.900000e+02</td>\n",
       "      <td>0.0</td>\n",
       "      <td>0.0</td>\n",
       "    </tr>\n",
       "    <tr>\n",
       "      <th>mean</th>\n",
       "      <td>762.926000</td>\n",
       "      <td>169.300000</td>\n",
       "      <td>735.654000</td>\n",
       "      <td>0.960769</td>\n",
       "      <td>0.236179</td>\n",
       "      <td>0.243625</td>\n",
       "      <td>61.452381</td>\n",
       "      <td>19108.682759</td>\n",
       "      <td>19948.996552</td>\n",
       "      <td>10876.831034</td>\n",
       "      <td>2.382561e+17</td>\n",
       "      <td>273.306897</td>\n",
       "      <td>1.508388e+05</td>\n",
       "      <td>NaN</td>\n",
       "      <td>NaN</td>\n",
       "    </tr>\n",
       "    <tr>\n",
       "      <th>std</th>\n",
       "      <td>774.666688</td>\n",
       "      <td>317.297238</td>\n",
       "      <td>770.916332</td>\n",
       "      <td>0.096048</td>\n",
       "      <td>0.296095</td>\n",
       "      <td>0.300387</td>\n",
       "      <td>4.220039</td>\n",
       "      <td>39534.300396</td>\n",
       "      <td>70624.566055</td>\n",
       "      <td>29152.609896</td>\n",
       "      <td>3.526803e+17</td>\n",
       "      <td>1075.046048</td>\n",
       "      <td>1.835696e+05</td>\n",
       "      <td>NaN</td>\n",
       "      <td>NaN</td>\n",
       "    </tr>\n",
       "    <tr>\n",
       "      <th>min</th>\n",
       "      <td>242.000000</td>\n",
       "      <td>0.000000</td>\n",
       "      <td>242.000000</td>\n",
       "      <td>0.158537</td>\n",
       "      <td>0.000000</td>\n",
       "      <td>0.000000</td>\n",
       "      <td>50.000000</td>\n",
       "      <td>0.000000</td>\n",
       "      <td>22.000000</td>\n",
       "      <td>0.000000</td>\n",
       "      <td>1.267113e+07</td>\n",
       "      <td>0.000000</td>\n",
       "      <td>0.000000e+00</td>\n",
       "      <td>NaN</td>\n",
       "      <td>NaN</td>\n",
       "    </tr>\n",
       "    <tr>\n",
       "      <th>25%</th>\n",
       "      <td>352.750000</td>\n",
       "      <td>18.000000</td>\n",
       "      <td>326.500000</td>\n",
       "      <td>0.974556</td>\n",
       "      <td>0.031736</td>\n",
       "      <td>0.035021</td>\n",
       "      <td>63.000000</td>\n",
       "      <td>24.500000</td>\n",
       "      <td>853.000000</td>\n",
       "      <td>550.250000</td>\n",
       "      <td>1.978720e+08</td>\n",
       "      <td>30.250000</td>\n",
       "      <td>4.066850e+04</td>\n",
       "      <td>NaN</td>\n",
       "      <td>NaN</td>\n",
       "    </tr>\n",
       "    <tr>\n",
       "      <th>50%</th>\n",
       "      <td>495.500000</td>\n",
       "      <td>60.000000</td>\n",
       "      <td>463.000000</td>\n",
       "      <td>1.000000</td>\n",
       "      <td>0.101484</td>\n",
       "      <td>0.105237</td>\n",
       "      <td>63.000000</td>\n",
       "      <td>1546.000000</td>\n",
       "      <td>4226.000000</td>\n",
       "      <td>2961.000000</td>\n",
       "      <td>2.222342e+09</td>\n",
       "      <td>97.500000</td>\n",
       "      <td>9.859950e+04</td>\n",
       "      <td>NaN</td>\n",
       "      <td>NaN</td>\n",
       "    </tr>\n",
       "    <tr>\n",
       "      <th>75%</th>\n",
       "      <td>868.750000</td>\n",
       "      <td>189.250000</td>\n",
       "      <td>832.250000</td>\n",
       "      <td>1.000000</td>\n",
       "      <td>0.308026</td>\n",
       "      <td>0.319565</td>\n",
       "      <td>63.000000</td>\n",
       "      <td>21422.500000</td>\n",
       "      <td>14281.500000</td>\n",
       "      <td>9325.000000</td>\n",
       "      <td>7.512894e+17</td>\n",
       "      <td>232.500000</td>\n",
       "      <td>1.787560e+05</td>\n",
       "      <td>NaN</td>\n",
       "      <td>NaN</td>\n",
       "    </tr>\n",
       "    <tr>\n",
       "      <th>max</th>\n",
       "      <td>8738.000000</td>\n",
       "      <td>3701.000000</td>\n",
       "      <td>8610.000000</td>\n",
       "      <td>1.000000</td>\n",
       "      <td>1.000000</td>\n",
       "      <td>1.000000</td>\n",
       "      <td>63.000000</td>\n",
       "      <td>443492.000000</td>\n",
       "      <td>929739.000000</td>\n",
       "      <td>367616.000000</td>\n",
       "      <td>7.909311e+17</td>\n",
       "      <td>16015.000000</td>\n",
       "      <td>1.045437e+06</td>\n",
       "      <td>NaN</td>\n",
       "      <td>NaN</td>\n",
       "    </tr>\n",
       "  </tbody>\n",
       "</table>\n",
       "</div>"
      ],
      "text/plain": [
       "           is_fake     is_first    is_source  source_rate  first_rate  \\\n",
       "count   500.000000   500.000000   500.000000   500.000000  500.000000   \n",
       "mean    762.926000   169.300000   735.654000     0.960769    0.236179   \n",
       "std     774.666688   317.297238   770.916332     0.096048    0.296095   \n",
       "min     242.000000     0.000000   242.000000     0.158537    0.000000   \n",
       "25%     352.750000    18.000000   326.500000     0.974556    0.031736   \n",
       "50%     495.500000    60.000000   463.000000     1.000000    0.101484   \n",
       "75%     868.750000   189.250000   832.250000     1.000000    0.308026   \n",
       "max    8738.000000  3701.000000  8610.000000     1.000000    1.000000   \n",
       "\n",
       "       first_source_rate        code  favourites_count  followers_count  \\\n",
       "count         500.000000  210.000000        290.000000       290.000000   \n",
       "mean            0.243625   61.452381      19108.682759     19948.996552   \n",
       "std             0.300387    4.220039      39534.300396     70624.566055   \n",
       "min             0.000000   50.000000          0.000000        22.000000   \n",
       "25%             0.035021   63.000000         24.500000       853.000000   \n",
       "50%             0.105237   63.000000       1546.000000      4226.000000   \n",
       "75%             0.319565   63.000000      21422.500000     14281.500000   \n",
       "max             1.000000   63.000000     443492.000000    929739.000000   \n",
       "\n",
       "       friends_count            id  listed_count  statuses_count  time_zone  \\\n",
       "count     290.000000  5.000000e+02    290.000000    2.900000e+02        0.0   \n",
       "mean    10876.831034  2.382561e+17    273.306897    1.508388e+05        NaN   \n",
       "std     29152.609896  3.526803e+17   1075.046048    1.835696e+05        NaN   \n",
       "min         0.000000  1.267113e+07      0.000000    0.000000e+00        NaN   \n",
       "25%       550.250000  1.978720e+08     30.250000    4.066850e+04        NaN   \n",
       "50%      2961.000000  2.222342e+09     97.500000    9.859950e+04        NaN   \n",
       "75%      9325.000000  7.512894e+17    232.500000    1.787560e+05        NaN   \n",
       "max    367616.000000  7.909311e+17  16015.000000    1.045437e+06        NaN   \n",
       "\n",
       "       utc_offset  \n",
       "count         0.0  \n",
       "mean          NaN  \n",
       "std           NaN  \n",
       "min           NaN  \n",
       "25%           NaN  \n",
       "50%           NaN  \n",
       "75%           NaN  \n",
       "max           NaN  "
      ]
     },
     "execution_count": 307,
     "metadata": {},
     "output_type": "execute_result"
    }
   ],
   "source": [
    "top_users.describe()"
   ]
  },
  {
   "cell_type": "code",
   "execution_count": 153,
   "metadata": {},
   "outputs": [
    {
     "data": {
      "text/plain": [
       "<matplotlib.axes._subplots.AxesSubplot at 0x7fee6cb8d438>"
      ]
     },
     "execution_count": 153,
     "metadata": {},
     "output_type": "execute_result"
    },
    {
     "data": {
      "image/png": "[encoded data removed]",
      "text/plain": [
       "<Figure size 432x288 with 1 Axes>"
      ]
     },
     "metadata": {
      "needs_background": "light"
     },
     "output_type": "display_data"
    }
   ],
   "source": [
    "sns.barplot(x=\"is_source_top\", y=\"is_fake\", data=users, estimator=np.mean)"
   ]
  },
  {
   "cell_type": "code",
   "execution_count": 154,
   "metadata": {},
   "outputs": [
    {
     "data": {
      "text/plain": [
       "<matplotlib.axes._subplots.AxesSubplot at 0x7fee6d169c50>"
      ]
     },
     "execution_count": 154,
     "metadata": {},
     "output_type": "execute_result"
    },
    {
     "data": {
      "image/png": "[encoded data removed]",
      "text/plain": [
       "<Figure size 432x288 with 1 Axes>"
      ]
     },
     "metadata": {
      "needs_background": "light"
     },
     "output_type": "display_data"
    }
   ],
   "source": [
    "sns.barplot(x=\"is_source_top\", y=\"is_source\", data=users, estimator=np.mean)"
   ]
  },
  {
   "cell_type": "code",
   "execution_count": 163,
   "metadata": {},
   "outputs": [
    {
     "data": {
      "text/plain": [
       "<matplotlib.axes._subplots.AxesSubplot at 0x7fee6b574be0>"
      ]
     },
     "execution_count": 163,
     "metadata": {},
     "output_type": "execute_result"
    },
    {
     "data": {
      "image/png": "[encoded data removed]",
      "text/plain": [
       "<Figure size 432x288 with 1 Axes>"
      ]
     },
     "metadata": {
      "needs_background": "light"
     },
     "output_type": "display_data"
    }
   ],
   "source": [
    "sns.barplot(x=\"is_source_top\", y=\"source_rate\", data=users, estimator=np.mean)"
   ]
  },
  {
   "cell_type": "markdown",
   "metadata": {},
   "source": [
    "# 4. 基本统计数据上的数值"
   ]
  },
  {
   "cell_type": "code",
   "execution_count": 156,
   "metadata": {},
   "outputs": [
    {
     "data": {
      "text/plain": [
       "<matplotlib.axes._subplots.AxesSubplot at 0x7fee6c399cf8>"
      ]
     },
     "execution_count": 156,
     "metadata": {},
     "output_type": "execute_result"
    },
    {
     "data": {
      "image/png": "[encoded data removed]",
      "text/plain": [
       "<Figure size 432x288 with 1 Axes>"
      ]
     },
     "metadata": {
      "needs_background": "light"
     },
     "output_type": "display_data"
    }
   ],
   "source": [
    "sns.barplot(x=\"is_source_top\", y=\"followers_count\", data=users, estimator=np.mean)"
   ]
  },
  {
   "cell_type": "code",
   "execution_count": 158,
   "metadata": {},
   "outputs": [
    {
     "data": {
      "text/plain": [
       "<matplotlib.axes._subplots.AxesSubplot at 0x7fee6c0462b0>"
      ]
     },
     "execution_count": 158,
     "metadata": {},
     "output_type": "execute_result"
    },
    {
     "data": {
      "image/png": "[encoded data removed]",
      "text/plain": [
       "<Figure size 432x288 with 1 Axes>"
      ]
     },
     "metadata": {
      "needs_background": "light"
     },
     "output_type": "display_data"
    }
   ],
   "source": [
    "sns.barplot(x=\"is_source_top\", y=\"friends_count\", data=users, estimator=np.mean)"
   ]
  },
  {
   "cell_type": "code",
   "execution_count": 159,
   "metadata": {},
   "outputs": [
    {
     "data": {
      "text/plain": [
       "<matplotlib.axes._subplots.AxesSubplot at 0x7fee6bdf28d0>"
      ]
     },
     "execution_count": 159,
     "metadata": {},
     "output_type": "execute_result"
    },
    {
     "data": {
      "image/png": "[encoded data removed]",
      "text/plain": [
       "<Figure size 432x288 with 1 Axes>"
      ]
     },
     "metadata": {
      "needs_background": "light"
     },
     "output_type": "display_data"
    }
   ],
   "source": [
    "sns.barplot(x=\"is_source_top\", y=\"statuses_count\", data=users, estimator=np.mean)"
   ]
  },
  {
   "cell_type": "code",
   "execution_count": 160,
   "metadata": {},
   "outputs": [
    {
     "data": {
      "text/plain": [
       "<matplotlib.axes._subplots.AxesSubplot at 0x7fee6ba0eac8>"
      ]
     },
     "execution_count": 160,
     "metadata": {},
     "output_type": "execute_result"
    },
    {
     "data": {
      "image/png": "[encoded data removed]",
      "text/plain": [
       "<Figure size 432x288 with 1 Axes>"
      ]
     },
     "metadata": {
      "needs_background": "light"
     },
     "output_type": "display_data"
    }
   ],
   "source": [
    "sns.barplot(x=\"is_source_top\", y=\"listed_count\", data=users, estimator=np.mean)"
   ]
  },
  {
   "cell_type": "code",
   "execution_count": 162,
   "metadata": {},
   "outputs": [
    {
     "data": {
      "text/plain": [
       "<matplotlib.axes._subplots.AxesSubplot at 0x7fee6ba0e710>"
      ]
     },
     "execution_count": 162,
     "metadata": {},
     "output_type": "execute_result"
    },
    {
     "data": {
      "image/png": "[encoded data removed]",
      "text/plain": [
       "<Figure size 432x288 with 1 Axes>"
      ]
     },
     "metadata": {
      "needs_background": "light"
     },
     "output_type": "display_data"
    }
   ],
   "source": [
    "sns.barplot(x=\"is_source_top\", y=\"favourites_count\", data=users, estimator=np.mean)"
   ]
  },
  {
   "cell_type": "markdown",
   "metadata": {},
   "source": [
    "# 5. CI与source的关系"
   ]
  },
  {
   "cell_type": "code",
   "execution_count": 22,
   "metadata": {},
   "outputs": [],
   "source": [
    "f_labels = [\"FAKE\", \"BIAS\", \"LEFT\", \"LEFTCENTER\", \"CENTER\", \"RIGHTCENTER\", \"RIGHT\"]"
   ]
  },
  {
   "cell_type": "code",
   "execution_count": 23,
   "metadata": {},
   "outputs": [],
   "source": [
    "node_map = json.load(open(\"disk/node_map.json\"))"
   ]
  },
  {
   "cell_type": "code",
   "execution_count": 189,
   "metadata": {},
   "outputs": [
    {
     "name": "stdout",
     "output_type": "stream",
     "text": [
      "FAKE ...\n",
      "BIAS ...\n",
      "LEFT ...\n",
      "LEFTCENTER ...\n",
      "CENTER ...\n",
      "RIGHTCENTER ...\n",
      "RIGHT ...\n"
     ]
    },
    {
     "data": {
      "text/plain": [
       "{'FAKE': 346,\n",
       " 'BIAS': 349,\n",
       " 'LEFT': 248,\n",
       " 'LEFTCENTER': 162,\n",
       " 'CENTER': 159,\n",
       " 'RIGHTCENTER': 151,\n",
       " 'RIGHT': 241}"
      ]
     },
     "metadata": {},
     "output_type": "display_data"
    },
    {
     "data": {
      "image/png": "[encoded data removed]",
      "text/plain": [
       "<Figure size 432x432 with 1 Axes>"
      ]
     },
     "metadata": {
      "needs_background": "light"
     },
     "output_type": "display_data"
    }
   ],
   "source": [
    "pea_source_cnt_CI_rank = {}\n",
    "spe_source_cnt_CI_rank = {}\n",
    "pea_source_cnt_CI_value = {}\n",
    "spe_source_cnt_CI_value = {}\n",
    "\n",
    "pea_first_cnt_CI_rank = {}\n",
    "spe_first_cnt_CI_rank = {}\n",
    "pea_first_cnt_CI_value = {}\n",
    "spe_first_cnt_CI_value = {}\n",
    "\n",
    "top_num = 1000\n",
    "\n",
    "len_intersection = {}\n",
    "\n",
    "for label in f_labels:\n",
    "    print(label, \"...\")\n",
    "    CI_rst = np.load(\"data/CI_rst/CI_out_{}.npy\".format(label))\n",
    "    CI_rank_rst = CI_rst[0][:top_num]\n",
    "    # print(CI_rank_rst)\n",
    "    CI_values_rst = CI_rst[1]\n",
    "    \n",
    "    CI_index = []\n",
    "    CI_rank_values = []\n",
    "    CI_values = []\n",
    "\n",
    "    users = pd.read_csv(\"data/users_{}.csv\".format(label), dtype=str, nrows=top_num)\n",
    "    users = users.astype({\"cnt\": int, \"source_cnt\": int, \"first_cnt\": int, \n",
    "                          \"source_rate\": float, \"first_rate\": float, \"first_source_rate\": float})\n",
    "    users = users.set_index(\"user_id\")\n",
    "    # print(users)\n",
    "    \n",
    "    set_CI_users = set(CI_rank_rst)\n",
    "    set_source_users = set()\n",
    "    \n",
    "    for user_id, row in users.iterrows():\n",
    "        node_id = node_map[user_id]\n",
    "        set_source_users.add(node_id)\n",
    "        try:\n",
    "            i = CI_rank_rst.index(node_id)\n",
    "            rank = top_num - i\n",
    "        except ValueError as e:\n",
    "            rank = 0\n",
    "\n",
    "        val = CI_values_rst[node_id]\n",
    "        # print(\"->\", user_id, rank, val)\n",
    "        CI_index.append(user_id)\n",
    "        CI_rank_values.append(rank)\n",
    "        CI_values.append(val)\n",
    "\n",
    "    len_intersection[label] = len(set_CI_users & set_source_users)\n",
    "        \n",
    "    CI_rank = pd.Series(CI_rank_values, index=CI_index)\n",
    "    CI_values = pd.Series(CI_values, index=CI_index)\n",
    "    users[\"CI_rank\"] = pd.Series(CI_rank)\n",
    "    users[\"CI_values\"] = pd.Series(CI_values)\n",
    "    \n",
    "    source_CI = pd.DataFrame({\n",
    "                              \"CI_rank\": users[\"CI_rank\"],\n",
    "                              \"CI_values\": users[\"CI_values\"],\n",
    "                              \"cnt\": users[\"cnt\"],\n",
    "                              \"source_cnt\": users[\"source_cnt\"],\n",
    "                              \"first_cnt\": users[\"first_cnt\"],\n",
    "                              \"source_rate\": users[\"source_rate\"]}\n",
    "                            )\n",
    "    \n",
    "#     print(\"pearson ~\")\n",
    "    cor = source_CI.corr(method=\"pearson\")\n",
    "#     display(cor)\n",
    "    pea_source_cnt_CI_rank[label] = cor.source_cnt[\"CI_rank\"]\n",
    "    pea_source_cnt_CI_value[label] = cor.source_cnt[\"CI_values\"]\n",
    "    \n",
    "#     print(\"spearman ~\")\n",
    "    cor = source_CI.corr(method=\"spearman\")\n",
    "#     display(cor)\n",
    "    spe_source_cnt_CI_rank[label] = cor.source_cnt[\"CI_rank\"]\n",
    "    spe_source_cnt_CI_value[label] = cor.source_cnt[\"CI_values\"]\n",
    "    \n",
    "#     print(\"pearson ~\")\n",
    "    cor = source_CI.corr(method=\"pearson\")\n",
    "#     display(cor)\n",
    "    pea_first_cnt_CI_rank[label] = cor.first_cnt[\"CI_rank\"]\n",
    "    pea_first_cnt_CI_value[label] = cor.first_cnt[\"CI_values\"]\n",
    "    \n",
    "#     print(\"spearman ~\")\n",
    "    cor = source_CI.corr(method=\"spearman\")\n",
    "#     display(cor)\n",
    "    spe_first_cnt_CI_rank[label] = cor.first_cnt[\"CI_rank\"]\n",
    "    spe_first_cnt_CI_value[label] = cor.first_cnt[\"CI_values\"]\n",
    "    \n",
    "def plot_corr(cor):\n",
    "    display(cor)\n",
    "    plt.figure(figsize=(6, 6))\n",
    "    x = range(len(f_labels))\n",
    "    for i in x:\n",
    "        plt.bar(i, cor[f_labels[i]], color=sns.color_palette(\"coolwarm\", 7)[6-i])\n",
    "    plt.xticks(x, f_labels)\n",
    "#     plt.xlabel('Only IRA', fontsize=15)\n",
    "    plt.ylabel('Size of intersection between CIs and sources', fontsize=15)\n",
    "    plt.xticks(fontsize=9, rotation=40); plt.yticks(fontsize=14)\n",
    "    plt.savefig(\"fig/size-of-intersection500.pdf\", dpi=300, bbox_inches='tight')\n",
    "    plt.show()\n",
    "    plt.tight_layout()\n",
    "    plt.close()\n",
    "    \n",
    "# plot_corr(pea_source_cnt_CI_rank)\n",
    "# plot_corr(spe_source_cnt_CI_rank)\n",
    "# plot_corr(pea_source_cnt_CI_value)\n",
    "# plot_corr(spe_source_cnt_CI_value)\n",
    "\n",
    "plot_corr(len_intersection)\n",
    "\n",
    "# # plot_corr(pea_source_cnt_CI_rank)\n",
    "# plot_corr(spe_first_cnt_CI_rank)\n",
    "# # plot_corr(pea_source_cnt_CI_value)\n",
    "# plot_corr(spe_first_cnt_CI_value)\n"
   ]
  },
  {
   "cell_type": "code",
   "execution_count": 300,
   "metadata": {},
   "outputs": [
    {
     "name": "stderr",
     "output_type": "stream",
     "text": [
      "/home/alex/anaconda3/lib/python3.6/site-packages/scipy/stats/stats.py:1713: FutureWarning: Using a non-tuple sequence for multidimensional indexing is deprecated; use `arr[tuple(seq)]` instead of `arr[seq]`. In the future this will be interpreted as an array index, `arr[np.array(seq)]`, which will result either in an error or a different result.\n",
      "  return np.add.reduce(sorted[indexer] * weights, axis=axis) / sumval\n"
     ]
    },
    {
     "data": {
      "text/plain": [
       "<matplotlib.axes._subplots.AxesSubplot at 0x7fee61d61550>"
      ]
     },
     "execution_count": 300,
     "metadata": {},
     "output_type": "execute_result"
    },
    {
     "data": {
      "image/png": "[encoded data removed]",
      "text/plain": [
       "<Figure size 432x288 with 1 Axes>"
      ]
     },
     "metadata": {
      "needs_background": "light"
     },
     "output_type": "display_data"
    }
   ],
   "source": [
    "sns.barplot(x=\"is_source_top\", y=\"CI_rank\", data=users, estimator=np.mean)"
   ]
  },
  {
   "cell_type": "code",
   "execution_count": 301,
   "metadata": {},
   "outputs": [
    {
     "data": {
      "text/plain": [
       "<matplotlib.axes._subplots.AxesSubplot at 0x7fee62113cc0>"
      ]
     },
     "execution_count": 301,
     "metadata": {},
     "output_type": "execute_result"
    },
    {
     "data": {
      "image/png": "[encoded data removed]",
      "text/plain": [
       "<Figure size 432x288 with 1 Axes>"
      ]
     },
     "metadata": {
      "needs_background": "light"
     },
     "output_type": "display_data"
    }
   ],
   "source": [
    "sns.barplot(x=\"is_source_top\", y=\"CI_values\", data=users, estimator=np.mean)"
   ]
  },
  {
   "cell_type": "code",
   "execution_count": 302,
   "metadata": {},
   "outputs": [],
   "source": [
    "source_CI = pd.DataFrame({\"CI_rank\": users[\"CI_rank\"],\n",
    "                          \"CI_values\": users[\"CI_values\"],\n",
    "                          \"is_source\": users[\"is_source\"],\n",
    "                          \"source_rate\": users[\"source_rate\"]})"
   ]
  },
  {
   "cell_type": "code",
   "execution_count": 303,
   "metadata": {},
   "outputs": [
    {
     "data": {
      "text/html": [
       "<div>\n",
       "<style scoped>\n",
       "    .dataframe tbody tr th:only-of-type {\n",
       "        vertical-align: middle;\n",
       "    }\n",
       "\n",
       "    .dataframe tbody tr th {\n",
       "        vertical-align: top;\n",
       "    }\n",
       "\n",
       "    .dataframe thead th {\n",
       "        text-align: right;\n",
       "    }\n",
       "</style>\n",
       "<table border=\"1\" class=\"dataframe\">\n",
       "  <thead>\n",
       "    <tr style=\"text-align: right;\">\n",
       "      <th></th>\n",
       "      <th>CI_rank</th>\n",
       "      <th>CI_values</th>\n",
       "      <th>is_source</th>\n",
       "      <th>source_rate</th>\n",
       "    </tr>\n",
       "  </thead>\n",
       "  <tbody>\n",
       "    <tr>\n",
       "      <th>CI_rank</th>\n",
       "      <td>1.000000</td>\n",
       "      <td>0.257452</td>\n",
       "      <td>0.488942</td>\n",
       "      <td>0.082084</td>\n",
       "    </tr>\n",
       "    <tr>\n",
       "      <th>CI_values</th>\n",
       "      <td>0.257452</td>\n",
       "      <td>1.000000</td>\n",
       "      <td>0.328691</td>\n",
       "      <td>0.016954</td>\n",
       "    </tr>\n",
       "    <tr>\n",
       "      <th>is_source</th>\n",
       "      <td>0.488942</td>\n",
       "      <td>0.328691</td>\n",
       "      <td>1.000000</td>\n",
       "      <td>0.109910</td>\n",
       "    </tr>\n",
       "    <tr>\n",
       "      <th>source_rate</th>\n",
       "      <td>0.082084</td>\n",
       "      <td>0.016954</td>\n",
       "      <td>0.109910</td>\n",
       "      <td>1.000000</td>\n",
       "    </tr>\n",
       "  </tbody>\n",
       "</table>\n",
       "</div>"
      ],
      "text/plain": [
       "              CI_rank  CI_values  is_source  source_rate\n",
       "CI_rank      1.000000   0.257452   0.488942     0.082084\n",
       "CI_values    0.257452   1.000000   0.328691     0.016954\n",
       "is_source    0.488942   0.328691   1.000000     0.109910\n",
       "source_rate  0.082084   0.016954   0.109910     1.000000"
      ]
     },
     "execution_count": 303,
     "metadata": {},
     "output_type": "execute_result"
    }
   ],
   "source": [
    "source_CI.corr()"
   ]
  },
  {
   "cell_type": "code",
   "execution_count": 304,
   "metadata": {},
   "outputs": [],
   "source": [
    "# 顺便这里把IRA做一下\n",
    "\n",
    "ira_users = users.loc[ira_tweets[\"user_id\"].unique()]"
   ]
  },
  {
   "cell_type": "code",
   "execution_count": 305,
   "metadata": {},
   "outputs": [
    {
     "data": {
      "text/html": [
       "<div>\n",
       "<style scoped>\n",
       "    .dataframe tbody tr th:only-of-type {\n",
       "        vertical-align: middle;\n",
       "    }\n",
       "\n",
       "    .dataframe tbody tr th {\n",
       "        vertical-align: top;\n",
       "    }\n",
       "\n",
       "    .dataframe thead th {\n",
       "        text-align: right;\n",
       "    }\n",
       "</style>\n",
       "<table border=\"1\" class=\"dataframe\">\n",
       "  <thead>\n",
       "    <tr style=\"text-align: right;\">\n",
       "      <th></th>\n",
       "      <th>is_fake</th>\n",
       "      <th>is_first</th>\n",
       "      <th>is_source</th>\n",
       "      <th>source_rate</th>\n",
       "      <th>first_rate</th>\n",
       "      <th>first_source_rate</th>\n",
       "      <th>code</th>\n",
       "      <th>contributors_enabled</th>\n",
       "      <th>created_at</th>\n",
       "      <th>default_profile</th>\n",
       "      <th>...</th>\n",
       "      <th>statuses_count</th>\n",
       "      <th>time_zone</th>\n",
       "      <th>translator_type</th>\n",
       "      <th>url</th>\n",
       "      <th>utc_offset</th>\n",
       "      <th>verified</th>\n",
       "      <th>withheld_in_countries</th>\n",
       "      <th>is_source_top</th>\n",
       "      <th>CI_rank</th>\n",
       "      <th>CI_values</th>\n",
       "    </tr>\n",
       "  </thead>\n",
       "  <tbody>\n",
       "    <tr>\n",
       "      <th>4437444442</th>\n",
       "      <td>5</td>\n",
       "      <td>0</td>\n",
       "      <td>5</td>\n",
       "      <td>1.000000</td>\n",
       "      <td>0.000000</td>\n",
       "      <td>0.000000</td>\n",
       "      <td>63.0</td>\n",
       "      <td>NaN</td>\n",
       "      <td>NaN</td>\n",
       "      <td>NaN</td>\n",
       "      <td>...</td>\n",
       "      <td>NaN</td>\n",
       "      <td>NaN</td>\n",
       "      <td>NaN</td>\n",
       "      <td>NaN</td>\n",
       "      <td>NaN</td>\n",
       "      <td>NaN</td>\n",
       "      <td>NaN</td>\n",
       "      <td>False</td>\n",
       "      <td>305</td>\n",
       "      <td>3486230</td>\n",
       "    </tr>\n",
       "    <tr>\n",
       "      <th>4272870988</th>\n",
       "      <td>23</td>\n",
       "      <td>3</td>\n",
       "      <td>22</td>\n",
       "      <td>0.956522</td>\n",
       "      <td>0.130435</td>\n",
       "      <td>0.136364</td>\n",
       "      <td>63.0</td>\n",
       "      <td>NaN</td>\n",
       "      <td>NaN</td>\n",
       "      <td>NaN</td>\n",
       "      <td>...</td>\n",
       "      <td>NaN</td>\n",
       "      <td>NaN</td>\n",
       "      <td>NaN</td>\n",
       "      <td>NaN</td>\n",
       "      <td>NaN</td>\n",
       "      <td>NaN</td>\n",
       "      <td>NaN</td>\n",
       "      <td>False</td>\n",
       "      <td>606</td>\n",
       "      <td>19000410</td>\n",
       "    </tr>\n",
       "    <tr>\n",
       "      <th>4224729994</th>\n",
       "      <td>18</td>\n",
       "      <td>9</td>\n",
       "      <td>17</td>\n",
       "      <td>0.944444</td>\n",
       "      <td>0.500000</td>\n",
       "      <td>0.529412</td>\n",
       "      <td>63.0</td>\n",
       "      <td>NaN</td>\n",
       "      <td>NaN</td>\n",
       "      <td>NaN</td>\n",
       "      <td>...</td>\n",
       "      <td>NaN</td>\n",
       "      <td>NaN</td>\n",
       "      <td>NaN</td>\n",
       "      <td>NaN</td>\n",
       "      <td>NaN</td>\n",
       "      <td>NaN</td>\n",
       "      <td>NaN</td>\n",
       "      <td>False</td>\n",
       "      <td>717</td>\n",
       "      <td>45916704</td>\n",
       "    </tr>\n",
       "    <tr>\n",
       "      <th>4289431230</th>\n",
       "      <td>5</td>\n",
       "      <td>0</td>\n",
       "      <td>5</td>\n",
       "      <td>1.000000</td>\n",
       "      <td>0.000000</td>\n",
       "      <td>0.000000</td>\n",
       "      <td>63.0</td>\n",
       "      <td>NaN</td>\n",
       "      <td>NaN</td>\n",
       "      <td>NaN</td>\n",
       "      <td>...</td>\n",
       "      <td>NaN</td>\n",
       "      <td>NaN</td>\n",
       "      <td>NaN</td>\n",
       "      <td>NaN</td>\n",
       "      <td>NaN</td>\n",
       "      <td>NaN</td>\n",
       "      <td>NaN</td>\n",
       "      <td>False</td>\n",
       "      <td>342</td>\n",
       "      <td>4104793</td>\n",
       "    </tr>\n",
       "    <tr>\n",
       "      <th>4355797094</th>\n",
       "      <td>6</td>\n",
       "      <td>1</td>\n",
       "      <td>6</td>\n",
       "      <td>1.000000</td>\n",
       "      <td>0.166667</td>\n",
       "      <td>0.166667</td>\n",
       "      <td>63.0</td>\n",
       "      <td>NaN</td>\n",
       "      <td>NaN</td>\n",
       "      <td>NaN</td>\n",
       "      <td>...</td>\n",
       "      <td>NaN</td>\n",
       "      <td>NaN</td>\n",
       "      <td>NaN</td>\n",
       "      <td>NaN</td>\n",
       "      <td>NaN</td>\n",
       "      <td>NaN</td>\n",
       "      <td>NaN</td>\n",
       "      <td>False</td>\n",
       "      <td>320</td>\n",
       "      <td>3662592</td>\n",
       "    </tr>\n",
       "    <tr>\n",
       "      <th>789266125485998080</th>\n",
       "      <td>223</td>\n",
       "      <td>29</td>\n",
       "      <td>223</td>\n",
       "      <td>1.000000</td>\n",
       "      <td>0.130045</td>\n",
       "      <td>0.130045</td>\n",
       "      <td>63.0</td>\n",
       "      <td>NaN</td>\n",
       "      <td>NaN</td>\n",
       "      <td>NaN</td>\n",
       "      <td>...</td>\n",
       "      <td>NaN</td>\n",
       "      <td>NaN</td>\n",
       "      <td>NaN</td>\n",
       "      <td>NaN</td>\n",
       "      <td>NaN</td>\n",
       "      <td>NaN</td>\n",
       "      <td>NaN</td>\n",
       "      <td>False</td>\n",
       "      <td>92</td>\n",
       "      <td>1299480</td>\n",
       "    </tr>\n",
       "    <tr>\n",
       "      <th>4311371968</th>\n",
       "      <td>11</td>\n",
       "      <td>2</td>\n",
       "      <td>10</td>\n",
       "      <td>0.909091</td>\n",
       "      <td>0.181818</td>\n",
       "      <td>0.200000</td>\n",
       "      <td>63.0</td>\n",
       "      <td>NaN</td>\n",
       "      <td>NaN</td>\n",
       "      <td>NaN</td>\n",
       "      <td>...</td>\n",
       "      <td>NaN</td>\n",
       "      <td>NaN</td>\n",
       "      <td>NaN</td>\n",
       "      <td>NaN</td>\n",
       "      <td>NaN</td>\n",
       "      <td>NaN</td>\n",
       "      <td>NaN</td>\n",
       "      <td>False</td>\n",
       "      <td>385</td>\n",
       "      <td>5149200</td>\n",
       "    </tr>\n",
       "  </tbody>\n",
       "</table>\n",
       "<p>7 rows × 55 columns</p>\n",
       "</div>"
      ],
      "text/plain": [
       "                    is_fake  is_first  is_source  source_rate  first_rate  \\\n",
       "4437444442                5         0          5     1.000000    0.000000   \n",
       "4272870988               23         3         22     0.956522    0.130435   \n",
       "4224729994               18         9         17     0.944444    0.500000   \n",
       "4289431230                5         0          5     1.000000    0.000000   \n",
       "4355797094                6         1          6     1.000000    0.166667   \n",
       "789266125485998080      223        29        223     1.000000    0.130045   \n",
       "4311371968               11         2         10     0.909091    0.181818   \n",
       "\n",
       "                    first_source_rate  code contributors_enabled created_at  \\\n",
       "4437444442                   0.000000  63.0                  NaN        NaN   \n",
       "4272870988                   0.136364  63.0                  NaN        NaN   \n",
       "4224729994                   0.529412  63.0                  NaN        NaN   \n",
       "4289431230                   0.000000  63.0                  NaN        NaN   \n",
       "4355797094                   0.166667  63.0                  NaN        NaN   \n",
       "789266125485998080           0.130045  63.0                  NaN        NaN   \n",
       "4311371968                   0.200000  63.0                  NaN        NaN   \n",
       "\n",
       "                   default_profile    ...    statuses_count time_zone  \\\n",
       "4437444442                     NaN    ...               NaN       NaN   \n",
       "4272870988                     NaN    ...               NaN       NaN   \n",
       "4224729994                     NaN    ...               NaN       NaN   \n",
       "4289431230                     NaN    ...               NaN       NaN   \n",
       "4355797094                     NaN    ...               NaN       NaN   \n",
       "789266125485998080             NaN    ...               NaN       NaN   \n",
       "4311371968                     NaN    ...               NaN       NaN   \n",
       "\n",
       "                   translator_type  url utc_offset  verified  \\\n",
       "4437444442                     NaN  NaN        NaN       NaN   \n",
       "4272870988                     NaN  NaN        NaN       NaN   \n",
       "4224729994                     NaN  NaN        NaN       NaN   \n",
       "4289431230                     NaN  NaN        NaN       NaN   \n",
       "4355797094                     NaN  NaN        NaN       NaN   \n",
       "789266125485998080             NaN  NaN        NaN       NaN   \n",
       "4311371968                     NaN  NaN        NaN       NaN   \n",
       "\n",
       "                   withheld_in_countries  is_source_top CI_rank CI_values  \n",
       "4437444442                           NaN          False     305   3486230  \n",
       "4272870988                           NaN          False     606  19000410  \n",
       "4224729994                           NaN          False     717  45916704  \n",
       "4289431230                           NaN          False     342   4104793  \n",
       "4355797094                           NaN          False     320   3662592  \n",
       "789266125485998080                   NaN          False      92   1299480  \n",
       "4311371968                           NaN          False     385   5149200  \n",
       "\n",
       "[7 rows x 55 columns]"
      ]
     },
     "execution_count": 305,
     "metadata": {},
     "output_type": "execute_result"
    }
   ],
   "source": [
    "ira_users[ira_users[\"CI_rank\"] > 0]"
   ]
  },
  {
   "cell_type": "code",
   "execution_count": 291,
   "metadata": {},
   "outputs": [
    {
     "data": {
      "text/html": [
       "<div>\n",
       "<style scoped>\n",
       "    .dataframe tbody tr th:only-of-type {\n",
       "        vertical-align: middle;\n",
       "    }\n",
       "\n",
       "    .dataframe tbody tr th {\n",
       "        vertical-align: top;\n",
       "    }\n",
       "\n",
       "    .dataframe thead th {\n",
       "        text-align: right;\n",
       "    }\n",
       "</style>\n",
       "<table border=\"1\" class=\"dataframe\">\n",
       "  <thead>\n",
       "    <tr style=\"text-align: right;\">\n",
       "      <th></th>\n",
       "      <th>is_fake</th>\n",
       "      <th>is_first</th>\n",
       "      <th>is_source</th>\n",
       "      <th>source_rate</th>\n",
       "      <th>first_rate</th>\n",
       "      <th>first_source_rate</th>\n",
       "      <th>code</th>\n",
       "      <th>favourites_count</th>\n",
       "      <th>followers_count</th>\n",
       "      <th>friends_count</th>\n",
       "      <th>id</th>\n",
       "      <th>listed_count</th>\n",
       "      <th>statuses_count</th>\n",
       "      <th>time_zone</th>\n",
       "      <th>utc_offset</th>\n",
       "      <th>CI_rank</th>\n",
       "      <th>CI_values</th>\n",
       "    </tr>\n",
       "  </thead>\n",
       "  <tbody>\n",
       "    <tr>\n",
       "      <th>count</th>\n",
       "      <td>92.000000</td>\n",
       "      <td>92.000000</td>\n",
       "      <td>92.000000</td>\n",
       "      <td>92.000000</td>\n",
       "      <td>92.000000</td>\n",
       "      <td>92.000000</td>\n",
       "      <td>92.0</td>\n",
       "      <td>0.0</td>\n",
       "      <td>0.0</td>\n",
       "      <td>0.0</td>\n",
       "      <td>9.200000e+01</td>\n",
       "      <td>0.0</td>\n",
       "      <td>0.0</td>\n",
       "      <td>0.0</td>\n",
       "      <td>0.0</td>\n",
       "      <td>92.00000</td>\n",
       "      <td>9.200000e+01</td>\n",
       "    </tr>\n",
       "    <tr>\n",
       "      <th>mean</th>\n",
       "      <td>17.706522</td>\n",
       "      <td>3.739130</td>\n",
       "      <td>9.336957</td>\n",
       "      <td>0.537902</td>\n",
       "      <td>0.174323</td>\n",
       "      <td>inf</td>\n",
       "      <td>63.0</td>\n",
       "      <td>NaN</td>\n",
       "      <td>NaN</td>\n",
       "      <td>NaN</td>\n",
       "      <td>4.026391e+16</td>\n",
       "      <td>NaN</td>\n",
       "      <td>NaN</td>\n",
       "      <td>NaN</td>\n",
       "      <td>NaN</td>\n",
       "      <td>15.50000</td>\n",
       "      <td>2.367963e+06</td>\n",
       "    </tr>\n",
       "    <tr>\n",
       "      <th>std</th>\n",
       "      <td>40.342092</td>\n",
       "      <td>8.527743</td>\n",
       "      <td>26.549261</td>\n",
       "      <td>0.369736</td>\n",
       "      <td>0.242284</td>\n",
       "      <td>NaN</td>\n",
       "      <td>0.0</td>\n",
       "      <td>NaN</td>\n",
       "      <td>NaN</td>\n",
       "      <td>NaN</td>\n",
       "      <td>1.690001e+17</td>\n",
       "      <td>NaN</td>\n",
       "      <td>NaN</td>\n",
       "      <td>NaN</td>\n",
       "      <td>NaN</td>\n",
       "      <td>84.76775</td>\n",
       "      <td>1.469957e+07</td>\n",
       "    </tr>\n",
       "    <tr>\n",
       "      <th>min</th>\n",
       "      <td>1.000000</td>\n",
       "      <td>0.000000</td>\n",
       "      <td>0.000000</td>\n",
       "      <td>0.000000</td>\n",
       "      <td>0.000000</td>\n",
       "      <td>0.000000</td>\n",
       "      <td>63.0</td>\n",
       "      <td>NaN</td>\n",
       "      <td>NaN</td>\n",
       "      <td>NaN</td>\n",
       "      <td>1.513801e+09</td>\n",
       "      <td>NaN</td>\n",
       "      <td>NaN</td>\n",
       "      <td>NaN</td>\n",
       "      <td>NaN</td>\n",
       "      <td>0.00000</td>\n",
       "      <td>0.000000e+00</td>\n",
       "    </tr>\n",
       "    <tr>\n",
       "      <th>25%</th>\n",
       "      <td>1.000000</td>\n",
       "      <td>0.000000</td>\n",
       "      <td>1.000000</td>\n",
       "      <td>0.279720</td>\n",
       "      <td>0.000000</td>\n",
       "      <td>0.000000</td>\n",
       "      <td>63.0</td>\n",
       "      <td>NaN</td>\n",
       "      <td>NaN</td>\n",
       "      <td>NaN</td>\n",
       "      <td>1.671006e+09</td>\n",
       "      <td>NaN</td>\n",
       "      <td>NaN</td>\n",
       "      <td>NaN</td>\n",
       "      <td>NaN</td>\n",
       "      <td>0.00000</td>\n",
       "      <td>0.000000e+00</td>\n",
       "    </tr>\n",
       "    <tr>\n",
       "      <th>50%</th>\n",
       "      <td>4.000000</td>\n",
       "      <td>1.000000</td>\n",
       "      <td>2.000000</td>\n",
       "      <td>0.500000</td>\n",
       "      <td>0.102302</td>\n",
       "      <td>0.183333</td>\n",
       "      <td>63.0</td>\n",
       "      <td>NaN</td>\n",
       "      <td>NaN</td>\n",
       "      <td>NaN</td>\n",
       "      <td>2.492015e+09</td>\n",
       "      <td>NaN</td>\n",
       "      <td>NaN</td>\n",
       "      <td>NaN</td>\n",
       "      <td>NaN</td>\n",
       "      <td>0.00000</td>\n",
       "      <td>0.000000e+00</td>\n",
       "    </tr>\n",
       "    <tr>\n",
       "      <th>75%</th>\n",
       "      <td>15.500000</td>\n",
       "      <td>2.250000</td>\n",
       "      <td>7.000000</td>\n",
       "      <td>1.000000</td>\n",
       "      <td>0.254332</td>\n",
       "      <td>0.582543</td>\n",
       "      <td>63.0</td>\n",
       "      <td>NaN</td>\n",
       "      <td>NaN</td>\n",
       "      <td>NaN</td>\n",
       "      <td>2.932521e+09</td>\n",
       "      <td>NaN</td>\n",
       "      <td>NaN</td>\n",
       "      <td>NaN</td>\n",
       "      <td>NaN</td>\n",
       "      <td>0.00000</td>\n",
       "      <td>0.000000e+00</td>\n",
       "    </tr>\n",
       "    <tr>\n",
       "      <th>max</th>\n",
       "      <td>228.000000</td>\n",
       "      <td>54.000000</td>\n",
       "      <td>223.000000</td>\n",
       "      <td>1.000000</td>\n",
       "      <td>1.000000</td>\n",
       "      <td>inf</td>\n",
       "      <td>63.0</td>\n",
       "      <td>NaN</td>\n",
       "      <td>NaN</td>\n",
       "      <td>NaN</td>\n",
       "      <td>7.892661e+17</td>\n",
       "      <td>NaN</td>\n",
       "      <td>NaN</td>\n",
       "      <td>NaN</td>\n",
       "      <td>NaN</td>\n",
       "      <td>620.00000</td>\n",
       "      <td>1.295445e+08</td>\n",
       "    </tr>\n",
       "  </tbody>\n",
       "</table>\n",
       "</div>"
      ],
      "text/plain": [
       "          is_fake   is_first   is_source  source_rate  first_rate  \\\n",
       "count   92.000000  92.000000   92.000000    92.000000   92.000000   \n",
       "mean    17.706522   3.739130    9.336957     0.537902    0.174323   \n",
       "std     40.342092   8.527743   26.549261     0.369736    0.242284   \n",
       "min      1.000000   0.000000    0.000000     0.000000    0.000000   \n",
       "25%      1.000000   0.000000    1.000000     0.279720    0.000000   \n",
       "50%      4.000000   1.000000    2.000000     0.500000    0.102302   \n",
       "75%     15.500000   2.250000    7.000000     1.000000    0.254332   \n",
       "max    228.000000  54.000000  223.000000     1.000000    1.000000   \n",
       "\n",
       "       first_source_rate  code  favourites_count  followers_count  \\\n",
       "count          92.000000  92.0               0.0              0.0   \n",
       "mean                 inf  63.0               NaN              NaN   \n",
       "std                  NaN   0.0               NaN              NaN   \n",
       "min             0.000000  63.0               NaN              NaN   \n",
       "25%             0.000000  63.0               NaN              NaN   \n",
       "50%             0.183333  63.0               NaN              NaN   \n",
       "75%             0.582543  63.0               NaN              NaN   \n",
       "max                  inf  63.0               NaN              NaN   \n",
       "\n",
       "       friends_count            id  listed_count  statuses_count  time_zone  \\\n",
       "count            0.0  9.200000e+01           0.0             0.0        0.0   \n",
       "mean             NaN  4.026391e+16           NaN             NaN        NaN   \n",
       "std              NaN  1.690001e+17           NaN             NaN        NaN   \n",
       "min              NaN  1.513801e+09           NaN             NaN        NaN   \n",
       "25%              NaN  1.671006e+09           NaN             NaN        NaN   \n",
       "50%              NaN  2.492015e+09           NaN             NaN        NaN   \n",
       "75%              NaN  2.932521e+09           NaN             NaN        NaN   \n",
       "max              NaN  7.892661e+17           NaN             NaN        NaN   \n",
       "\n",
       "       utc_offset    CI_rank     CI_values  \n",
       "count         0.0   92.00000  9.200000e+01  \n",
       "mean          NaN   15.50000  2.367963e+06  \n",
       "std           NaN   84.76775  1.469957e+07  \n",
       "min           NaN    0.00000  0.000000e+00  \n",
       "25%           NaN    0.00000  0.000000e+00  \n",
       "50%           NaN    0.00000  0.000000e+00  \n",
       "75%           NaN    0.00000  0.000000e+00  \n",
       "max           NaN  620.00000  1.295445e+08  "
      ]
     },
     "execution_count": 291,
     "metadata": {},
     "output_type": "execute_result"
    }
   ],
   "source": [
    "ira_users.describe()"
   ]
  },
  {
   "cell_type": "code",
   "execution_count": 293,
   "metadata": {},
   "outputs": [],
   "source": [
    "## 明天把数据都补充上！这下就更牛逼了！"
   ]
  },
  {
   "cell_type": "markdown",
   "metadata": {},
   "source": [
    "___\n",
    "# Analysis of results of all_tweets.py"
   ]
  },
  {
   "cell_type": "code",
   "execution_count": 2,
   "metadata": {},
   "outputs": [],
   "source": [
    "from all_tweets import ALL_TWEET\n",
    "\n",
    "Lebron = ALL_TWEET()\n",
    "Lebron.load_all_tweets()\n",
    "all_tweets = Lebron.tweets_csv"
   ]
  },
  {
   "cell_type": "code",
   "execution_count": 3,
   "metadata": {},
   "outputs": [
    {
     "data": {
      "text/html": [
       "<div>\n",
       "<style scoped>\n",
       "    .dataframe tbody tr th:only-of-type {\n",
       "        vertical-align: middle;\n",
       "    }\n",
       "\n",
       "    .dataframe tbody tr th {\n",
       "        vertical-align: top;\n",
       "    }\n",
       "\n",
       "    .dataframe thead th {\n",
       "        text-align: right;\n",
       "    }\n",
       "</style>\n",
       "<table border=\"1\" class=\"dataframe\">\n",
       "  <thead>\n",
       "    <tr style=\"text-align: right;\">\n",
       "      <th></th>\n",
       "      <th>URL</th>\n",
       "      <th>dt</th>\n",
       "      <th>hostname</th>\n",
       "      <th>is_IRA</th>\n",
       "      <th>is_first</th>\n",
       "      <th>is_source</th>\n",
       "      <th>media_type</th>\n",
       "      <th>retweeted_id</th>\n",
       "      <th>tweet_id</th>\n",
       "      <th>user_id</th>\n",
       "    </tr>\n",
       "  </thead>\n",
       "  <tbody>\n",
       "    <tr>\n",
       "      <th>0</th>\n",
       "      <td>http://www.newsweek.com/vladimir-putin-sidney-...</td>\n",
       "      <td>2016-10-10 18:49:57</td>\n",
       "      <td>newsweek.com</td>\n",
       "      <td>0</td>\n",
       "      <td>1</td>\n",
       "      <td>1</td>\n",
       "      <td>5</td>\n",
       "      <td>0</td>\n",
       "      <td>785628468746727424</td>\n",
       "      <td>215207998</td>\n",
       "    </tr>\n",
       "    <tr>\n",
       "      <th>1</th>\n",
       "      <td>http://www.newsweek.com/vladimir-putin-sidney-...</td>\n",
       "      <td>2016-10-10 18:50:09</td>\n",
       "      <td>newsweek.com</td>\n",
       "      <td>0</td>\n",
       "      <td>0</td>\n",
       "      <td>0</td>\n",
       "      <td>5</td>\n",
       "      <td>785628468746727424</td>\n",
       "      <td>785628515991302144</td>\n",
       "      <td>20634939</td>\n",
       "    </tr>\n",
       "    <tr>\n",
       "      <th>2</th>\n",
       "      <td>http://www.newsweek.com/vladimir-putin-sidney-...</td>\n",
       "      <td>2016-10-10 18:50:10</td>\n",
       "      <td>newsweek.com</td>\n",
       "      <td>0</td>\n",
       "      <td>0</td>\n",
       "      <td>0</td>\n",
       "      <td>5</td>\n",
       "      <td>785628468746727424</td>\n",
       "      <td>785628519703326722</td>\n",
       "      <td>26378513</td>\n",
       "    </tr>\n",
       "    <tr>\n",
       "      <th>3</th>\n",
       "      <td>http://www.newsweek.com/vladimir-putin-sidney-...</td>\n",
       "      <td>2016-10-10 18:50:16</td>\n",
       "      <td>newsweek.com</td>\n",
       "      <td>0</td>\n",
       "      <td>0</td>\n",
       "      <td>0</td>\n",
       "      <td>5</td>\n",
       "      <td>785628468746727424</td>\n",
       "      <td>785628546114859008</td>\n",
       "      <td>445966346</td>\n",
       "    </tr>\n",
       "    <tr>\n",
       "      <th>4</th>\n",
       "      <td>http://www.newsweek.com/vladimir-putin-sidney-...</td>\n",
       "      <td>2016-10-10 18:50:23</td>\n",
       "      <td>newsweek.com</td>\n",
       "      <td>0</td>\n",
       "      <td>0</td>\n",
       "      <td>0</td>\n",
       "      <td>5</td>\n",
       "      <td>785628468746727424</td>\n",
       "      <td>785628574388621312</td>\n",
       "      <td>754104364164345860</td>\n",
       "    </tr>\n",
       "  </tbody>\n",
       "</table>\n",
       "</div>"
      ],
      "text/plain": [
       "                                                 URL                   dt  \\\n",
       "0  http://www.newsweek.com/vladimir-putin-sidney-...  2016-10-10 18:49:57   \n",
       "1  http://www.newsweek.com/vladimir-putin-sidney-...  2016-10-10 18:50:09   \n",
       "2  http://www.newsweek.com/vladimir-putin-sidney-...  2016-10-10 18:50:10   \n",
       "3  http://www.newsweek.com/vladimir-putin-sidney-...  2016-10-10 18:50:16   \n",
       "4  http://www.newsweek.com/vladimir-putin-sidney-...  2016-10-10 18:50:23   \n",
       "\n",
       "       hostname  is_IRA  is_first  is_source media_type        retweeted_id  \\\n",
       "0  newsweek.com       0         1          1          5                   0   \n",
       "1  newsweek.com       0         0          0          5  785628468746727424   \n",
       "2  newsweek.com       0         0          0          5  785628468746727424   \n",
       "3  newsweek.com       0         0          0          5  785628468746727424   \n",
       "4  newsweek.com       0         0          0          5  785628468746727424   \n",
       "\n",
       "             tweet_id             user_id  \n",
       "0  785628468746727424           215207998  \n",
       "1  785628515991302144            20634939  \n",
       "2  785628519703326722            26378513  \n",
       "3  785628546114859008           445966346  \n",
       "4  785628574388621312  754104364164345860  "
      ]
     },
     "execution_count": 3,
     "metadata": {},
     "output_type": "execute_result"
    }
   ],
   "source": [
    "all_tweets.head()"
   ]
  },
  {
   "cell_type": "code",
   "execution_count": 4,
   "metadata": {},
   "outputs": [],
   "source": [
    "map_labels = {\n",
    "    \"0\": \"fake\",\n",
    "    \"1\": \"extreme bias (right)\",\n",
    "    \"2\": \"right\",\n",
    "    \"3\": \"right leaning\",\n",
    "    \"4\": \"center\",\n",
    "    \"5\": \"left leaning\",\n",
    "    \"6\": \"left\",\n",
    "    \"7\": \"extreme bias (left)\"\n",
    "}"
   ]
  },
  {
   "cell_type": "code",
   "execution_count": 5,
   "metadata": {},
   "outputs": [
    {
     "data": {
      "text/plain": [
       "5    0.248073\n",
       "4    0.202138\n",
       "6    0.138035\n",
       "2    0.132540\n",
       "1    0.129961\n",
       "0    0.096489\n",
       "3    0.033992\n",
       "7    0.018773\n",
       "Name: media_type, dtype: float64"
      ]
     },
     "metadata": {},
     "output_type": "display_data"
    },
    {
     "data": {
      "text/plain": [
       "(array([0.  , 0.05, 0.1 , 0.15, 0.2 , 0.25, 0.3 ]),\n",
       " <a list of 7 Text yticklabel objects>)"
      ]
     },
     "execution_count": 5,
     "metadata": {},
     "output_type": "execute_result"
    },
    {
     "data": {
      "image/png": "[encoded data removed]",
      "text/plain": [
       "<Figure size 576x432 with 1 Axes>"
      ]
     },
     "metadata": {},
     "output_type": "display_data"
    }
   ],
   "source": [
    "sns.set_style(\"white\")\n",
    "sns.set_palette(\"coolwarm\", n_colors=8)\n",
    "\n",
    "media_type_counts = all_tweets[\"media_type\"].value_counts(normalize=True)\n",
    "display(media_type_counts)\n",
    "plt.figure(figsize=(8, 6))\n",
    "x = range(len(media_type_counts))\n",
    "\n",
    "for i in x:\n",
    "    plt.bar(i, media_type_counts[str(i)])\n",
    "    \n",
    "plt.xticks(x, [map_labels[k] for i, k in enumerate(map_labels)])\n",
    "# plt.xlabel(\"IRAs\", fontsize=18)\n",
    "plt.ylabel('Volume of tweets', fontsize=15)\n",
    "plt.xticks(fontsize=11, rotation=45)\n",
    "plt.yticks(fontsize=14)\n",
    "\n",
    "# plt.savefig(\"fig/size-of-intersection500.pdf\", dpi=300, bbox_inches='tight')"
   ]
  },
  {
   "cell_type": "code",
   "execution_count": 6,
   "metadata": {},
   "outputs": [],
   "source": [
    "IRA_tweets = all_tweets[all_tweets[\"is_IRA\"]>0]"
   ]
  },
  {
   "cell_type": "markdown",
   "metadata": {},
   "source": [
    "## Loading all-users.csv ... ...\n",
    "\n",
    "!! Already coded in the all_tweets.py for making all-users.csv"
   ]
  },
  {
   "cell_type": "code",
   "execution_count": 10,
   "metadata": {},
   "outputs": [],
   "source": [
    "def load_all_users():\n",
    "    users = pd.read_csv(\"data/all-users.csv\", index_col=\"user_id\", dtype={\"user_id\": str})\n",
    "\n",
    "    # change the type\n",
    "    f_labels = [map_labels[k] for k in map_labels]\n",
    "    users = users.astype({\"is_IRA\": int})\n",
    "\n",
    "    for label in f_labels:\n",
    "        users = users.astype({label: int, label + \"_source\": int, label + \"_first\": int, \n",
    "                              label + \"_source_rate\": float, label + \"_first_rate\": float,\n",
    "                              label + \"_first_source_rate\": float,})\n",
    "    return users"
   ]
  },
  {
   "cell_type": "code",
   "execution_count": 12,
   "metadata": {},
   "outputs": [],
   "source": [
    "all_users = load_all_users()"
   ]
  },
  {
   "cell_type": "code",
   "execution_count": 305,
   "metadata": {},
   "outputs": [],
   "source": [
    "# user_id > name\n",
    "\n",
    "user_info = pd.DataFrame([json.loads(line.strip()) for line in open(\"data/user-top-info.json\")])\n",
    "user_info = user_info.rename(columns={'id_str': 'user_id'})\n",
    "user_info = user_info.set_index(\"user_id\")\n",
    "map_user_name = []\n",
    "for line in open(\"data/user-top-info.json\"):\n",
    "    d = json.loads(line.strip())\n",
    "    try:\n",
    "        dat = {\"user_id\": d[\"id_str\"], \"name\": d[\"name\"]}\n",
    "    except:\n",
    "        dat = {\"user_id\": d[\"id_str\"], \"name\": d[\"message\"]}\n",
    "    map_user_name.append(dat)\n",
    "    \n",
    "map_user_name = pd.DataFrame(map_user_name).set_index(\"user_id\")"
   ]
  },
  {
   "cell_type": "code",
   "execution_count": 307,
   "metadata": {},
   "outputs": [
    {
     "name": "stdout",
     "output_type": "stream",
     "text": [
      "FAKE\n",
      "BIAS\n",
      "LEFT\n",
      "LEFTCENTER\n",
      "CENTER\n",
      "RIGHTCENTER\n",
      "RIGHT\n"
     ]
    }
   ],
   "source": [
    "# Show the top sources !!!\n",
    "\n",
    "for label in f_labels:\n",
    "    print(label)\n",
    "    tmp = users.sort_values(label + \"_source\", ascending=False).head(25)\n",
    "    tmp = tmp.join(map_user_name)\n",
    "#     display(tmp)\n",
    "#     display(tmp[[label + \"_source\", \"name\"]].sort_values(label + \"_source\", ascending=False))\n",
    "    "
   ]
  },
  {
   "cell_type": "markdown",
   "metadata": {},
   "source": [
    "## Are IRAs the sources of fake news or influencers? "
   ]
  },
  {
   "cell_type": "code",
   "execution_count": 14,
   "metadata": {},
   "outputs": [
    {
     "data": {
      "text/plain": [
       "7343"
      ]
     },
     "execution_count": 14,
     "metadata": {},
     "output_type": "execute_result"
    }
   ],
   "source": [
    "len(IRA_tweets)"
   ]
  },
  {
   "cell_type": "code",
   "execution_count": 15,
   "metadata": {},
   "outputs": [
    {
     "data": {
      "text/plain": [
       "266"
      ]
     },
     "execution_count": 15,
     "metadata": {},
     "output_type": "execute_result"
    }
   ],
   "source": [
    "IRA_users = all_users[all_users.is_IRA > 0]\n",
    "len(IRA_users)"
   ]
  },
  {
   "cell_type": "code",
   "execution_count": 17,
   "metadata": {},
   "outputs": [],
   "source": [
    "other_users = all_users[all_users.is_IRA == 0]"
   ]
  },
  {
   "cell_type": "code",
   "execution_count": 18,
   "metadata": {},
   "outputs": [
    {
     "name": "stdout",
     "output_type": "stream",
     "text": [
      "0 1205\n",
      "1 1559\n",
      "2 1261\n",
      "3 222\n",
      "4 1670\n",
      "5 1014\n",
      "6 736\n",
      "7 96\n",
      "0 3311046\n",
      "1 4459724\n",
      "2 4548549\n",
      "3 1166666\n",
      "4 6937293\n",
      "5 8514810\n",
      "6 4737724\n",
      "7 644352\n"
     ]
    },
    {
     "data": {
      "image/png": "[encoded data removed]",
      "text/plain": [
       "<Figure size 936x432 with 2 Axes>"
      ]
     },
     "metadata": {},
     "output_type": "display_data"
    }
   ],
   "source": [
    "from matplotlib.ticker import FuncFormatter\n",
    "\n",
    "plt.figure(figsize=(13, 6))\n",
    "plt.subplots_adjust(wspace = 0.3)\n",
    "ax = plt.subplot(121)\n",
    "x = range(len(media_type_counts))\n",
    "\n",
    "for i in x:\n",
    "#     d = IRA_users[map_labels[str(i)]].sum()\n",
    "    print(i, IRA_users[map_labels[str(i)]].sum())\n",
    "    plt.bar(i, IRA_users[map_labels[str(i)]].sum())\n",
    "\n",
    "plt.xticks(x, [map_labels[k] for i, k in enumerate(map_labels)])\n",
    "plt.xlabel(\"IRAs\", fontsize=18)\n",
    "plt.ylabel('Volume of tweets', fontsize=15)\n",
    "plt.xticks(fontsize=9, rotation=40)\n",
    "plt.yticks(fontsize=14)\n",
    "# plt.savefig(\"fig/size-of-intersection500.pdf\", dpi=300, bbox_inches='tight')\n",
    "\n",
    "ax = plt.subplot(122)\n",
    "x = range(len(media_type_counts))\n",
    "\n",
    "for i in x:\n",
    "    print(i, other_users[map_labels[str(i)]].sum())\n",
    "    plt.bar(i, other_users[map_labels[str(i)]].sum())\n",
    "    \n",
    "plt.xticks(x, [map_labels[k] for i, k in enumerate(map_labels)])\n",
    "plt.xlabel(\"Others\", fontsize=18)\n",
    "# plt.ylabel('Source rate of tweets of all users', fontsize=15)\n",
    "plt.xticks(fontsize=9, rotation=40)\n",
    "plt.yticks(fontsize=14)\n",
    "\n",
    "def formatnum(x, pos):\n",
    "    return '$%.1f$x$10^{6}$' % (x/1000000)\n",
    "formatter = FuncFormatter(formatnum)\n",
    "ax.yaxis.set_major_formatter(formatter)\n",
    "\n",
    "plt.show()\n",
    "plt.tight_layout()\n",
    "plt.savefig(\"fig/IRA Volume.pdf\", dpi=300, bbox_inches='tight')\n",
    "plt.close()"
   ]
  },
  {
   "cell_type": "markdown",
   "metadata": {},
   "source": [
    "## 用户角度 \n",
    "\n",
    "making the big table!!"
   ]
  },
  {
   "cell_type": "code",
   "execution_count": 242,
   "metadata": {},
   "outputs": [],
   "source": [
    "def get_big_table(_users):\n",
    "    big_table = []\n",
    "\n",
    "    for i in range(len(map_labels)):\n",
    "        lab = map_labels[str(i)]\n",
    "        volume = _users[lab].sum()\n",
    "        source_volume = _users[lab + \"_source\"].sum()\n",
    "        first_volume = _users[lab + \"_first\"].sum()\n",
    "        source_rate = _users[_users[lab + \"_source_rate\"] > 0][lab + \"_source_rate\"].mean()\n",
    "        first_rate = _users[_users[lab + \"_first_rate\"] > 0][lab + \"_first_rate\"].mean()\n",
    "        user_volume = len(_users[_users[lab]>0])\n",
    "        source_user_volume = len(_users[_users[lab + \"_source\"]>0])\n",
    "        d = dict(Nt=volume, Ns=source_volume, Nu=user_volume,\n",
    "                 Rs=source_rate, Rf=first_rate, Nsu=source_user_volume, Nf=first_volume)\n",
    "        big_table.append(d)\n",
    "\n",
    "    big_table = pd.DataFrame(big_table, index=[map_labels[k] for k in map_labels])\n",
    "    big_table[\"Pt\"] = big_table[\"Nt\"] / big_table[\"Nt\"].sum()\n",
    "    big_table[\"Ps\"] = big_table[\"Ns\"] / big_table[\"Ns\"].sum()\n",
    "    big_table[\"Ns/Nt\"] = big_table[\"Ns\"] / big_table[\"Nt\"]\n",
    "    big_table[\"Nf/Nt\"] = big_table[\"Nf\"] / big_table[\"Nt\"]\n",
    "    big_table[\"Nt/Nu\"] = big_table[\"Nt\"] / big_table[\"Nu\"]\n",
    "    big_table[\"Ns/Nsu\"] = big_table[\"Ns\"] / big_table[\"Nsu\"]\n",
    "\n",
    "    big_table = big_table[[\"Nt\", \"Pt\", \"Ns\", \"Ns/Nt\", \"Ps\", \"Rs\", \"Nu\", \"Nt/Nu\", \"Nsu\", \"Ns/Nsu\"]]\n",
    "#     big_table = big_table[[\"Nt\", \"Pt\", \"Ns\", \"Ps\", \"Ns/Nt\", \"Nu\", \"Rs\", \"Rf\", \"Nt/Nu\"]]\n",
    "    return big_table"
   ]
  },
  {
   "cell_type": "code",
   "execution_count": 243,
   "metadata": {},
   "outputs": [
    {
     "data": {
      "text/html": [
       "<div>\n",
       "<style scoped>\n",
       "    .dataframe tbody tr th:only-of-type {\n",
       "        vertical-align: middle;\n",
       "    }\n",
       "\n",
       "    .dataframe tbody tr th {\n",
       "        vertical-align: top;\n",
       "    }\n",
       "\n",
       "    .dataframe thead th {\n",
       "        text-align: right;\n",
       "    }\n",
       "</style>\n",
       "<table border=\"1\" class=\"dataframe\">\n",
       "  <thead>\n",
       "    <tr style=\"text-align: right;\">\n",
       "      <th></th>\n",
       "      <th>Nt</th>\n",
       "      <th>Pt</th>\n",
       "      <th>Ns</th>\n",
       "      <th>Ns/Nt</th>\n",
       "      <th>Ps</th>\n",
       "      <th>Rs</th>\n",
       "      <th>Nu</th>\n",
       "      <th>Nt/Nu</th>\n",
       "      <th>Nsu</th>\n",
       "      <th>Ns/Nsu</th>\n",
       "    </tr>\n",
       "  </thead>\n",
       "  <tbody>\n",
       "    <tr>\n",
       "      <th>fake</th>\n",
       "      <td>1205</td>\n",
       "      <td>0.155223</td>\n",
       "      <td>311</td>\n",
       "      <td>0.258091</td>\n",
       "      <td>0.214483</td>\n",
       "      <td>0.659598</td>\n",
       "      <td>72</td>\n",
       "      <td>16.736111</td>\n",
       "      <td>26</td>\n",
       "      <td>11.961538</td>\n",
       "    </tr>\n",
       "    <tr>\n",
       "      <th>extreme bias (right)</th>\n",
       "      <td>1559</td>\n",
       "      <td>0.200824</td>\n",
       "      <td>139</td>\n",
       "      <td>0.089160</td>\n",
       "      <td>0.095862</td>\n",
       "      <td>0.627011</td>\n",
       "      <td>97</td>\n",
       "      <td>16.072165</td>\n",
       "      <td>32</td>\n",
       "      <td>4.343750</td>\n",
       "    </tr>\n",
       "    <tr>\n",
       "      <th>right</th>\n",
       "      <td>1261</td>\n",
       "      <td>0.162437</td>\n",
       "      <td>229</td>\n",
       "      <td>0.181602</td>\n",
       "      <td>0.157931</td>\n",
       "      <td>0.743776</td>\n",
       "      <td>104</td>\n",
       "      <td>12.125000</td>\n",
       "      <td>41</td>\n",
       "      <td>5.585366</td>\n",
       "    </tr>\n",
       "    <tr>\n",
       "      <th>right leaning</th>\n",
       "      <td>222</td>\n",
       "      <td>0.028597</td>\n",
       "      <td>42</td>\n",
       "      <td>0.189189</td>\n",
       "      <td>0.028966</td>\n",
       "      <td>0.812037</td>\n",
       "      <td>83</td>\n",
       "      <td>2.674699</td>\n",
       "      <td>18</td>\n",
       "      <td>2.333333</td>\n",
       "    </tr>\n",
       "    <tr>\n",
       "      <th>center</th>\n",
       "      <td>1670</td>\n",
       "      <td>0.215123</td>\n",
       "      <td>159</td>\n",
       "      <td>0.095210</td>\n",
       "      <td>0.109655</td>\n",
       "      <td>0.605829</td>\n",
       "      <td>169</td>\n",
       "      <td>9.881657</td>\n",
       "      <td>44</td>\n",
       "      <td>3.613636</td>\n",
       "    </tr>\n",
       "    <tr>\n",
       "      <th>left leaning</th>\n",
       "      <td>1014</td>\n",
       "      <td>0.130620</td>\n",
       "      <td>462</td>\n",
       "      <td>0.455621</td>\n",
       "      <td>0.318621</td>\n",
       "      <td>0.796495</td>\n",
       "      <td>174</td>\n",
       "      <td>5.827586</td>\n",
       "      <td>39</td>\n",
       "      <td>11.846154</td>\n",
       "    </tr>\n",
       "    <tr>\n",
       "      <th>left</th>\n",
       "      <td>736</td>\n",
       "      <td>0.094809</td>\n",
       "      <td>93</td>\n",
       "      <td>0.126359</td>\n",
       "      <td>0.064138</td>\n",
       "      <td>0.627175</td>\n",
       "      <td>151</td>\n",
       "      <td>4.874172</td>\n",
       "      <td>39</td>\n",
       "      <td>2.384615</td>\n",
       "    </tr>\n",
       "    <tr>\n",
       "      <th>extreme bias (left)</th>\n",
       "      <td>96</td>\n",
       "      <td>0.012366</td>\n",
       "      <td>15</td>\n",
       "      <td>0.156250</td>\n",
       "      <td>0.010345</td>\n",
       "      <td>0.708664</td>\n",
       "      <td>42</td>\n",
       "      <td>2.285714</td>\n",
       "      <td>12</td>\n",
       "      <td>1.250000</td>\n",
       "    </tr>\n",
       "  </tbody>\n",
       "</table>\n",
       "</div>"
      ],
      "text/plain": [
       "                        Nt        Pt   Ns     Ns/Nt        Ps        Rs   Nu  \\\n",
       "fake                  1205  0.155223  311  0.258091  0.214483  0.659598   72   \n",
       "extreme bias (right)  1559  0.200824  139  0.089160  0.095862  0.627011   97   \n",
       "right                 1261  0.162437  229  0.181602  0.157931  0.743776  104   \n",
       "right leaning          222  0.028597   42  0.189189  0.028966  0.812037   83   \n",
       "center                1670  0.215123  159  0.095210  0.109655  0.605829  169   \n",
       "left leaning          1014  0.130620  462  0.455621  0.318621  0.796495  174   \n",
       "left                   736  0.094809   93  0.126359  0.064138  0.627175  151   \n",
       "extreme bias (left)     96  0.012366   15  0.156250  0.010345  0.708664   42   \n",
       "\n",
       "                          Nt/Nu  Nsu     Ns/Nsu  \n",
       "fake                  16.736111   26  11.961538  \n",
       "extreme bias (right)  16.072165   32   4.343750  \n",
       "right                 12.125000   41   5.585366  \n",
       "right leaning          2.674699   18   2.333333  \n",
       "center                 9.881657   44   3.613636  \n",
       "left leaning           5.827586   39  11.846154  \n",
       "left                   4.874172   39   2.384615  \n",
       "extreme bias (left)    2.285714   12   1.250000  "
      ]
     },
     "execution_count": 243,
     "metadata": {},
     "output_type": "execute_result"
    }
   ],
   "source": [
    "BT = get_big_table(IRA_users)\n",
    "BT.to_csv(\"data/IRA_BT.csv\", float_format=\"%.2f\")\n",
    "BT"
   ]
  },
  {
   "cell_type": "code",
   "execution_count": 244,
   "metadata": {},
   "outputs": [
    {
     "data": {
      "text/plain": [
       "7763"
      ]
     },
     "execution_count": 244,
     "metadata": {},
     "output_type": "execute_result"
    }
   ],
   "source": [
    "BT.Nt.sum()"
   ]
  },
  {
   "cell_type": "code",
   "execution_count": 245,
   "metadata": {},
   "outputs": [
    {
     "data": {
      "text/html": [
       "<div>\n",
       "<style scoped>\n",
       "    .dataframe tbody tr th:only-of-type {\n",
       "        vertical-align: middle;\n",
       "    }\n",
       "\n",
       "    .dataframe tbody tr th {\n",
       "        vertical-align: top;\n",
       "    }\n",
       "\n",
       "    .dataframe thead th {\n",
       "        text-align: right;\n",
       "    }\n",
       "</style>\n",
       "<table border=\"1\" class=\"dataframe\">\n",
       "  <thead>\n",
       "    <tr style=\"text-align: right;\">\n",
       "      <th></th>\n",
       "      <th>Nt</th>\n",
       "      <th>Pt</th>\n",
       "      <th>Ns</th>\n",
       "      <th>Ns/Nt</th>\n",
       "      <th>Ps</th>\n",
       "      <th>Rs</th>\n",
       "      <th>Nu</th>\n",
       "      <th>Nt/Nu</th>\n",
       "      <th>Nsu</th>\n",
       "      <th>Ns/Nsu</th>\n",
       "    </tr>\n",
       "  </thead>\n",
       "  <tbody>\n",
       "    <tr>\n",
       "      <th>fake</th>\n",
       "      <td>3312251</td>\n",
       "      <td>0.096489</td>\n",
       "      <td>1153670</td>\n",
       "      <td>0.348304</td>\n",
       "      <td>0.106597</td>\n",
       "      <td>0.617579</td>\n",
       "      <td>214315</td>\n",
       "      <td>15.455059</td>\n",
       "      <td>83113</td>\n",
       "      <td>13.880741</td>\n",
       "    </tr>\n",
       "    <tr>\n",
       "      <th>extreme bias (right)</th>\n",
       "      <td>4461283</td>\n",
       "      <td>0.129961</td>\n",
       "      <td>1288685</td>\n",
       "      <td>0.288860</td>\n",
       "      <td>0.119072</td>\n",
       "      <td>0.647921</td>\n",
       "      <td>309703</td>\n",
       "      <td>14.405036</td>\n",
       "      <td>114131</td>\n",
       "      <td>11.291279</td>\n",
       "    </tr>\n",
       "    <tr>\n",
       "      <th>right</th>\n",
       "      <td>4549810</td>\n",
       "      <td>0.132540</td>\n",
       "      <td>1259870</td>\n",
       "      <td>0.276906</td>\n",
       "      <td>0.116409</td>\n",
       "      <td>0.680517</td>\n",
       "      <td>446382</td>\n",
       "      <td>10.192638</td>\n",
       "      <td>162860</td>\n",
       "      <td>7.735908</td>\n",
       "    </tr>\n",
       "    <tr>\n",
       "      <th>right leaning</th>\n",
       "      <td>1166888</td>\n",
       "      <td>0.033992</td>\n",
       "      <td>396054</td>\n",
       "      <td>0.339410</td>\n",
       "      <td>0.036595</td>\n",
       "      <td>0.798494</td>\n",
       "      <td>303666</td>\n",
       "      <td>3.842669</td>\n",
       "      <td>98531</td>\n",
       "      <td>4.019588</td>\n",
       "    </tr>\n",
       "    <tr>\n",
       "      <th>center</th>\n",
       "      <td>6938963</td>\n",
       "      <td>0.202138</td>\n",
       "      <td>2250428</td>\n",
       "      <td>0.324318</td>\n",
       "      <td>0.207935</td>\n",
       "      <td>0.724414</td>\n",
       "      <td>1116958</td>\n",
       "      <td>6.212376</td>\n",
       "      <td>348501</td>\n",
       "      <td>6.457451</td>\n",
       "    </tr>\n",
       "    <tr>\n",
       "      <th>left leaning</th>\n",
       "      <td>8515824</td>\n",
       "      <td>0.248073</td>\n",
       "      <td>2588437</td>\n",
       "      <td>0.303956</td>\n",
       "      <td>0.239166</td>\n",
       "      <td>0.729262</td>\n",
       "      <td>1383946</td>\n",
       "      <td>6.153292</td>\n",
       "      <td>467853</td>\n",
       "      <td>5.532586</td>\n",
       "    </tr>\n",
       "    <tr>\n",
       "      <th>left</th>\n",
       "      <td>4738460</td>\n",
       "      <td>0.138035</td>\n",
       "      <td>1700246</td>\n",
       "      <td>0.358818</td>\n",
       "      <td>0.157099</td>\n",
       "      <td>0.764568</td>\n",
       "      <td>713033</td>\n",
       "      <td>6.645499</td>\n",
       "      <td>262903</td>\n",
       "      <td>6.467199</td>\n",
       "    </tr>\n",
       "    <tr>\n",
       "      <th>extreme bias (left)</th>\n",
       "      <td>644448</td>\n",
       "      <td>0.018773</td>\n",
       "      <td>185380</td>\n",
       "      <td>0.287657</td>\n",
       "      <td>0.017129</td>\n",
       "      <td>0.784213</td>\n",
       "      <td>103730</td>\n",
       "      <td>6.212745</td>\n",
       "      <td>38972</td>\n",
       "      <td>4.756748</td>\n",
       "    </tr>\n",
       "  </tbody>\n",
       "</table>\n",
       "</div>"
      ],
      "text/plain": [
       "                           Nt        Pt       Ns     Ns/Nt        Ps  \\\n",
       "fake                  3312251  0.096489  1153670  0.348304  0.106597   \n",
       "extreme bias (right)  4461283  0.129961  1288685  0.288860  0.119072   \n",
       "right                 4549810  0.132540  1259870  0.276906  0.116409   \n",
       "right leaning         1166888  0.033992   396054  0.339410  0.036595   \n",
       "center                6938963  0.202138  2250428  0.324318  0.207935   \n",
       "left leaning          8515824  0.248073  2588437  0.303956  0.239166   \n",
       "left                  4738460  0.138035  1700246  0.358818  0.157099   \n",
       "extreme bias (left)    644448  0.018773   185380  0.287657  0.017129   \n",
       "\n",
       "                            Rs       Nu      Nt/Nu     Nsu     Ns/Nsu  \n",
       "fake                  0.617579   214315  15.455059   83113  13.880741  \n",
       "extreme bias (right)  0.647921   309703  14.405036  114131  11.291279  \n",
       "right                 0.680517   446382  10.192638  162860   7.735908  \n",
       "right leaning         0.798494   303666   3.842669   98531   4.019588  \n",
       "center                0.724414  1116958   6.212376  348501   6.457451  \n",
       "left leaning          0.729262  1383946   6.153292  467853   5.532586  \n",
       "left                  0.764568   713033   6.645499  262903   6.467199  \n",
       "extreme bias (left)   0.784213   103730   6.212745   38972   4.756748  "
      ]
     },
     "execution_count": 245,
     "metadata": {},
     "output_type": "execute_result"
    }
   ],
   "source": [
    "BT2 = get_big_table(all_users)\n",
    "BT2.to_csv(\"data/all_BT.csv\", float_format=\"%.2f\")\n",
    "BT2"
   ]
  },
  {
   "cell_type": "code",
   "execution_count": 246,
   "metadata": {},
   "outputs": [],
   "source": [
    "def plot_compare(col_name):\n",
    "    ax = plt.figure(figsize=(10, 6))\n",
    "    plt.ylabel(col_name, fontsize=15)\n",
    "    plt.xlabel(\"IRAs\", fontsize=15)\n",
    "    print(BT[col_name])\n",
    "    print(BT2[col_name])\n",
    "    BT[col_name].plot.bar(width=0.3, position=0, color=sns.color_palette(\"coolwarm\", 8)[7], label=\"IRAs\")\n",
    "    BT2[col_name].plot.bar(width=0.3, position=1, color=sns.color_palette(\"coolwarm\", 8)[0], label=\"All users\")\n",
    "    plt.xlabel(\"All users\", fontsize=15)\n",
    "    \n",
    "    plt.xlim(-1, 8)\n",
    "    \n",
    "#     if col_name == \"Ns/Nt\":\n",
    "#         plt.ylim((0, 0.5))\n",
    "#     if col_name == \"Rs\":\n",
    "#         plt.ylim((0, 0.15))\n",
    "#     if col_name == \"Rf\":\n",
    "#         plt.ylim((0, 0.08))\n",
    "    \n",
    "    plt.legend(fontsize=13)\n",
    "    plt.show()\n",
    "    plt.close()"
   ]
  },
  {
   "cell_type": "code",
   "execution_count": 247,
   "metadata": {},
   "outputs": [
    {
     "name": "stdout",
     "output_type": "stream",
     "text": [
      "fake                    0.155223\n",
      "extreme bias (right)    0.200824\n",
      "right                   0.162437\n",
      "right leaning           0.028597\n",
      "center                  0.215123\n",
      "left leaning            0.130620\n",
      "left                    0.094809\n",
      "extreme bias (left)     0.012366\n",
      "Name: Pt, dtype: float64\n",
      "fake                    0.096489\n",
      "extreme bias (right)    0.129961\n",
      "right                   0.132540\n",
      "right leaning           0.033992\n",
      "center                  0.202138\n",
      "left leaning            0.248073\n",
      "left                    0.138035\n",
      "extreme bias (left)     0.018773\n",
      "Name: Pt, dtype: float64\n"
     ]
    },
    {
     "data": {
      "image/png": "[encoded data removed]",
      "text/plain": [
       "<Figure size 720x432 with 1 Axes>"
      ]
     },
     "metadata": {},
     "output_type": "display_data"
    }
   ],
   "source": [
    "plot_compare(\"Pt\")"
   ]
  },
  {
   "cell_type": "code",
   "execution_count": 248,
   "metadata": {},
   "outputs": [
    {
     "name": "stdout",
     "output_type": "stream",
     "text": [
      "fake                    0.659598\n",
      "extreme bias (right)    0.627011\n",
      "right                   0.743776\n",
      "right leaning           0.812037\n",
      "center                  0.605829\n",
      "left leaning            0.796495\n",
      "left                    0.627175\n",
      "extreme bias (left)     0.708664\n",
      "Name: Rs, dtype: float64\n",
      "fake                    0.617579\n",
      "extreme bias (right)    0.647921\n",
      "right                   0.680517\n",
      "right leaning           0.798494\n",
      "center                  0.724414\n",
      "left leaning            0.729262\n",
      "left                    0.764568\n",
      "extreme bias (left)     0.784213\n",
      "Name: Rs, dtype: float64\n"
     ]
    },
    {
     "data": {
      "image/png": "[encoded data removed]",
      "text/plain": [
       "<Figure size 720x432 with 1 Axes>"
      ]
     },
     "metadata": {},
     "output_type": "display_data"
    },
    {
     "data": {
      "text/plain": [
       "<matplotlib.axes._subplots.AxesSubplot at 0x7f995e5d4c50>"
      ]
     },
     "execution_count": 248,
     "metadata": {},
     "output_type": "execute_result"
    },
    {
     "data": {
      "image/png": "[encoded data removed]",
      "text/plain": [
       "<Figure size 432x288 with 1 Axes>"
      ]
     },
     "metadata": {},
     "output_type": "display_data"
    }
   ],
   "source": [
    "plot_compare(\"Rs\")\n",
    "(BT[\"Rs\"] / BT2[\"Rs\"]).plot.bar()"
   ]
  },
  {
   "cell_type": "code",
   "execution_count": 250,
   "metadata": {},
   "outputs": [
    {
     "name": "stdout",
     "output_type": "stream",
     "text": [
      "fake                    16.736111\n",
      "extreme bias (right)    16.072165\n",
      "right                   12.125000\n",
      "right leaning            2.674699\n",
      "center                   9.881657\n",
      "left leaning             5.827586\n",
      "left                     4.874172\n",
      "extreme bias (left)      2.285714\n",
      "Name: Nt/Nu, dtype: float64\n",
      "fake                    15.455059\n",
      "extreme bias (right)    14.405036\n",
      "right                   10.192638\n",
      "right leaning            3.842669\n",
      "center                   6.212376\n",
      "left leaning             6.153292\n",
      "left                     6.645499\n",
      "extreme bias (left)      6.212745\n",
      "Name: Nt/Nu, dtype: float64\n"
     ]
    },
    {
     "data": {
      "image/png": "[encoded data removed]",
      "text/plain": [
       "<Figure size 720x432 with 1 Axes>"
      ]
     },
     "metadata": {},
     "output_type": "display_data"
    }
   ],
   "source": [
    "plot_compare(\"Nt/Nu\")"
   ]
  },
  {
   "cell_type": "code",
   "execution_count": 251,
   "metadata": {},
   "outputs": [
    {
     "name": "stdout",
     "output_type": "stream",
     "text": [
      "fake                    11.961538\n",
      "extreme bias (right)     4.343750\n",
      "right                    5.585366\n",
      "right leaning            2.333333\n",
      "center                   3.613636\n",
      "left leaning            11.846154\n",
      "left                     2.384615\n",
      "extreme bias (left)      1.250000\n",
      "Name: Ns/Nsu, dtype: float64\n",
      "fake                    13.880741\n",
      "extreme bias (right)    11.291279\n",
      "right                    7.735908\n",
      "right leaning            4.019588\n",
      "center                   6.457451\n",
      "left leaning             5.532586\n",
      "left                     6.467199\n",
      "extreme bias (left)      4.756748\n",
      "Name: Ns/Nsu, dtype: float64\n"
     ]
    },
    {
     "data": {
      "image/png": "[encoded data removed]",
      "text/plain": [
       "<Figure size 720x432 with 1 Axes>"
      ]
     },
     "metadata": {},
     "output_type": "display_data"
    }
   ],
   "source": [
    "plot_compare(\"Ns/Nsu\")"
   ]
  },
  {
   "cell_type": "markdown",
   "metadata": {},
   "source": [
    "## IRAs as sources\n",
    "\n",
    "1. 看看每个用户发布的量\n",
    "2. 找到top sources看看交集\n",
    "\n",
    "结论：IRA从量上来看伪装非常普通的用户！"
   ]
  },
  {
   "cell_type": "code",
   "execution_count": 105,
   "metadata": {},
   "outputs": [
    {
     "name": "stdout",
     "output_type": "stream",
     "text": [
      "fake\n"
     ]
    },
    {
     "data": {
      "image/png": "[encoded data removed]",
      "text/plain": [
       "<Figure size 720x288 with 2 Axes>"
      ]
     },
     "metadata": {},
     "output_type": "display_data"
    },
    {
     "name": "stdout",
     "output_type": "stream",
     "text": [
      "extreme bias (right)\n",
      "right\n",
      "right leaning\n",
      "center\n",
      "left leaning\n",
      "left\n",
      "extreme bias (left)\n"
     ]
    },
    {
     "data": {
      "text/html": [
       "<div>\n",
       "<style scoped>\n",
       "    .dataframe tbody tr th:only-of-type {\n",
       "        vertical-align: middle;\n",
       "    }\n",
       "\n",
       "    .dataframe tbody tr th {\n",
       "        vertical-align: top;\n",
       "    }\n",
       "\n",
       "    .dataframe thead th {\n",
       "        text-align: right;\n",
       "    }\n",
       "</style>\n",
       "<table border=\"1\" class=\"dataframe\">\n",
       "  <thead>\n",
       "    <tr style=\"text-align: right;\">\n",
       "      <th></th>\n",
       "      <th>count</th>\n",
       "      <th>mean</th>\n",
       "      <th>std</th>\n",
       "      <th>min</th>\n",
       "      <th>25%</th>\n",
       "      <th>50%</th>\n",
       "      <th>75%</th>\n",
       "      <th>max</th>\n",
       "    </tr>\n",
       "  </thead>\n",
       "  <tbody>\n",
       "    <tr>\n",
       "      <th>fake</th>\n",
       "      <td>214315.0</td>\n",
       "      <td>15.455059</td>\n",
       "      <td>78.441195</td>\n",
       "      <td>1.0</td>\n",
       "      <td>1.0</td>\n",
       "      <td>2.0</td>\n",
       "      <td>7.0</td>\n",
       "      <td>11099.0</td>\n",
       "    </tr>\n",
       "    <tr>\n",
       "      <th>extreme bias (right)</th>\n",
       "      <td>309703.0</td>\n",
       "      <td>14.405036</td>\n",
       "      <td>79.152552</td>\n",
       "      <td>1.0</td>\n",
       "      <td>1.0</td>\n",
       "      <td>2.0</td>\n",
       "      <td>6.0</td>\n",
       "      <td>19343.0</td>\n",
       "    </tr>\n",
       "    <tr>\n",
       "      <th>right</th>\n",
       "      <td>446382.0</td>\n",
       "      <td>10.192638</td>\n",
       "      <td>53.830462</td>\n",
       "      <td>1.0</td>\n",
       "      <td>1.0</td>\n",
       "      <td>1.0</td>\n",
       "      <td>4.0</td>\n",
       "      <td>15863.0</td>\n",
       "    </tr>\n",
       "    <tr>\n",
       "      <th>right leaning</th>\n",
       "      <td>303666.0</td>\n",
       "      <td>3.842669</td>\n",
       "      <td>16.635857</td>\n",
       "      <td>1.0</td>\n",
       "      <td>1.0</td>\n",
       "      <td>1.0</td>\n",
       "      <td>3.0</td>\n",
       "      <td>3366.0</td>\n",
       "    </tr>\n",
       "    <tr>\n",
       "      <th>center</th>\n",
       "      <td>1116958.0</td>\n",
       "      <td>6.212376</td>\n",
       "      <td>50.542915</td>\n",
       "      <td>1.0</td>\n",
       "      <td>1.0</td>\n",
       "      <td>1.0</td>\n",
       "      <td>3.0</td>\n",
       "      <td>35043.0</td>\n",
       "    </tr>\n",
       "    <tr>\n",
       "      <th>left leaning</th>\n",
       "      <td>1383946.0</td>\n",
       "      <td>6.153292</td>\n",
       "      <td>35.481755</td>\n",
       "      <td>1.0</td>\n",
       "      <td>1.0</td>\n",
       "      <td>1.0</td>\n",
       "      <td>3.0</td>\n",
       "      <td>8693.0</td>\n",
       "    </tr>\n",
       "    <tr>\n",
       "      <th>left</th>\n",
       "      <td>713033.0</td>\n",
       "      <td>6.645499</td>\n",
       "      <td>41.781824</td>\n",
       "      <td>1.0</td>\n",
       "      <td>1.0</td>\n",
       "      <td>1.0</td>\n",
       "      <td>3.0</td>\n",
       "      <td>6051.0</td>\n",
       "    </tr>\n",
       "    <tr>\n",
       "      <th>extreme bias (left)</th>\n",
       "      <td>103730.0</td>\n",
       "      <td>6.212745</td>\n",
       "      <td>26.939494</td>\n",
       "      <td>1.0</td>\n",
       "      <td>1.0</td>\n",
       "      <td>1.0</td>\n",
       "      <td>3.0</td>\n",
       "      <td>2761.0</td>\n",
       "    </tr>\n",
       "  </tbody>\n",
       "</table>\n",
       "</div>"
      ],
      "text/plain": [
       "                          count       mean        std  min  25%  50%  75%  \\\n",
       "fake                   214315.0  15.455059  78.441195  1.0  1.0  2.0  7.0   \n",
       "extreme bias (right)   309703.0  14.405036  79.152552  1.0  1.0  2.0  6.0   \n",
       "right                  446382.0  10.192638  53.830462  1.0  1.0  1.0  4.0   \n",
       "right leaning          303666.0   3.842669  16.635857  1.0  1.0  1.0  3.0   \n",
       "center                1116958.0   6.212376  50.542915  1.0  1.0  1.0  3.0   \n",
       "left leaning          1383946.0   6.153292  35.481755  1.0  1.0  1.0  3.0   \n",
       "left                   713033.0   6.645499  41.781824  1.0  1.0  1.0  3.0   \n",
       "extreme bias (left)    103730.0   6.212745  26.939494  1.0  1.0  1.0  3.0   \n",
       "\n",
       "                          max  \n",
       "fake                  11099.0  \n",
       "extreme bias (right)  19343.0  \n",
       "right                 15863.0  \n",
       "right leaning          3366.0  \n",
       "center                35043.0  \n",
       "left leaning           8693.0  \n",
       "left                   6051.0  \n",
       "extreme bias (left)    2761.0  "
      ]
     },
     "execution_count": 105,
     "metadata": {},
     "output_type": "execute_result"
    }
   ],
   "source": [
    "sns.set_style(\"white\")\n",
    "\n",
    "USER_TABLE = {}\n",
    "\n",
    "for i in range(len(map_labels)):\n",
    "    lab = map_labels[str(i)]\n",
    "    print(lab)\n",
    "    \n",
    "    plt.figure(figsize=(10, 4))\n",
    "    ax = plt.subplot(121)\n",
    "    _users = all_users[all_users[lab] > 0]\n",
    "    _users[lab].hist(ax=ax, bins=20)\n",
    "    \n",
    "    # display(all_users[lab + \"_source\"].describe())\n",
    "    USER_TABLE[lab] = _users[lab].describe()\n",
    "    plt.yscale(\"log\")\n",
    "#     plt.xscale(\"log\")\n",
    "    \n",
    "    ax = plt.subplot(122)\n",
    "    IRA_users[lab].hist(ax=ax, bins=20)\n",
    "    plt.yscale(\"log\")\n",
    "    \n",
    "    if lab == \"fake\":\n",
    "        plt.show()\n",
    "    plt.close()\n",
    "\n",
    "    \n",
    "USER_TABLE = pd.DataFrame(USER_TABLE).transpose()\n",
    "USER_TABLE"
   ]
  },
  {
   "cell_type": "code",
   "execution_count": 106,
   "metadata": {},
   "outputs": [
    {
     "name": "stdout",
     "output_type": "stream",
     "text": [
      "fake\n"
     ]
    },
    {
     "data": {
      "image/png": "[encoded data removed]",
      "text/plain": [
       "<Figure size 720x288 with 2 Axes>"
      ]
     },
     "metadata": {},
     "output_type": "display_data"
    },
    {
     "name": "stdout",
     "output_type": "stream",
     "text": [
      "extreme bias (right)\n",
      "right\n",
      "right leaning\n",
      "center\n",
      "left leaning\n",
      "left\n",
      "extreme bias (left)\n"
     ]
    },
    {
     "data": {
      "text/html": [
       "<div>\n",
       "<style scoped>\n",
       "    .dataframe tbody tr th:only-of-type {\n",
       "        vertical-align: middle;\n",
       "    }\n",
       "\n",
       "    .dataframe tbody tr th {\n",
       "        vertical-align: top;\n",
       "    }\n",
       "\n",
       "    .dataframe thead th {\n",
       "        text-align: right;\n",
       "    }\n",
       "</style>\n",
       "<table border=\"1\" class=\"dataframe\">\n",
       "  <thead>\n",
       "    <tr style=\"text-align: right;\">\n",
       "      <th></th>\n",
       "      <th>count</th>\n",
       "      <th>mean</th>\n",
       "      <th>std</th>\n",
       "      <th>min</th>\n",
       "      <th>25%</th>\n",
       "      <th>50%</th>\n",
       "      <th>75%</th>\n",
       "      <th>max</th>\n",
       "    </tr>\n",
       "  </thead>\n",
       "  <tbody>\n",
       "    <tr>\n",
       "      <th>fake</th>\n",
       "      <td>83113.0</td>\n",
       "      <td>13.880741</td>\n",
       "      <td>109.171063</td>\n",
       "      <td>1.0</td>\n",
       "      <td>1.0</td>\n",
       "      <td>2.0</td>\n",
       "      <td>4.0</td>\n",
       "      <td>10886.0</td>\n",
       "    </tr>\n",
       "    <tr>\n",
       "      <th>extreme bias (right)</th>\n",
       "      <td>114131.0</td>\n",
       "      <td>11.291279</td>\n",
       "      <td>106.990302</td>\n",
       "      <td>1.0</td>\n",
       "      <td>1.0</td>\n",
       "      <td>2.0</td>\n",
       "      <td>4.0</td>\n",
       "      <td>19300.0</td>\n",
       "    </tr>\n",
       "    <tr>\n",
       "      <th>right</th>\n",
       "      <td>162860.0</td>\n",
       "      <td>7.735908</td>\n",
       "      <td>70.968451</td>\n",
       "      <td>1.0</td>\n",
       "      <td>1.0</td>\n",
       "      <td>1.0</td>\n",
       "      <td>3.0</td>\n",
       "      <td>15492.0</td>\n",
       "    </tr>\n",
       "    <tr>\n",
       "      <th>right leaning</th>\n",
       "      <td>98531.0</td>\n",
       "      <td>4.019588</td>\n",
       "      <td>25.712769</td>\n",
       "      <td>1.0</td>\n",
       "      <td>1.0</td>\n",
       "      <td>1.0</td>\n",
       "      <td>2.0</td>\n",
       "      <td>3096.0</td>\n",
       "    </tr>\n",
       "    <tr>\n",
       "      <th>center</th>\n",
       "      <td>348501.0</td>\n",
       "      <td>6.457451</td>\n",
       "      <td>79.768103</td>\n",
       "      <td>1.0</td>\n",
       "      <td>1.0</td>\n",
       "      <td>1.0</td>\n",
       "      <td>2.0</td>\n",
       "      <td>35043.0</td>\n",
       "    </tr>\n",
       "    <tr>\n",
       "      <th>left leaning</th>\n",
       "      <td>467853.0</td>\n",
       "      <td>5.532586</td>\n",
       "      <td>40.859005</td>\n",
       "      <td>1.0</td>\n",
       "      <td>1.0</td>\n",
       "      <td>1.0</td>\n",
       "      <td>3.0</td>\n",
       "      <td>8477.0</td>\n",
       "    </tr>\n",
       "    <tr>\n",
       "      <th>left</th>\n",
       "      <td>262903.0</td>\n",
       "      <td>6.467199</td>\n",
       "      <td>50.228632</td>\n",
       "      <td>1.0</td>\n",
       "      <td>1.0</td>\n",
       "      <td>1.0</td>\n",
       "      <td>3.0</td>\n",
       "      <td>6015.0</td>\n",
       "    </tr>\n",
       "    <tr>\n",
       "      <th>extreme bias (left)</th>\n",
       "      <td>38972.0</td>\n",
       "      <td>4.756748</td>\n",
       "      <td>30.579443</td>\n",
       "      <td>1.0</td>\n",
       "      <td>1.0</td>\n",
       "      <td>1.0</td>\n",
       "      <td>2.0</td>\n",
       "      <td>2347.0</td>\n",
       "    </tr>\n",
       "  </tbody>\n",
       "</table>\n",
       "</div>"
      ],
      "text/plain": [
       "                         count       mean         std  min  25%  50%  75%  \\\n",
       "fake                   83113.0  13.880741  109.171063  1.0  1.0  2.0  4.0   \n",
       "extreme bias (right)  114131.0  11.291279  106.990302  1.0  1.0  2.0  4.0   \n",
       "right                 162860.0   7.735908   70.968451  1.0  1.0  1.0  3.0   \n",
       "right leaning          98531.0   4.019588   25.712769  1.0  1.0  1.0  2.0   \n",
       "center                348501.0   6.457451   79.768103  1.0  1.0  1.0  2.0   \n",
       "left leaning          467853.0   5.532586   40.859005  1.0  1.0  1.0  3.0   \n",
       "left                  262903.0   6.467199   50.228632  1.0  1.0  1.0  3.0   \n",
       "extreme bias (left)    38972.0   4.756748   30.579443  1.0  1.0  1.0  2.0   \n",
       "\n",
       "                          max  \n",
       "fake                  10886.0  \n",
       "extreme bias (right)  19300.0  \n",
       "right                 15492.0  \n",
       "right leaning          3096.0  \n",
       "center                35043.0  \n",
       "left leaning           8477.0  \n",
       "left                   6015.0  \n",
       "extreme bias (left)    2347.0  "
      ]
     },
     "execution_count": 106,
     "metadata": {},
     "output_type": "execute_result"
    }
   ],
   "source": [
    "USER_TABLE = {}\n",
    "\n",
    "for i in range(len(map_labels)):\n",
    "    lab = map_labels[str(i)]\n",
    "    print(lab)\n",
    "    plt.figure(figsize=(10, 4))\n",
    "    ax = plt.subplot(121)\n",
    "    _users = all_users[all_users[lab + \"_source\"] > 0]\n",
    "    _users[lab + \"_source\"].hist(ax=ax, bins=20)\n",
    "    # display(all_users[lab + \"_source\"].describe())\n",
    "    USER_TABLE[lab] = _users[lab + \"_source\"].describe()\n",
    "    plt.yscale(\"log\")\n",
    "    \n",
    "    ax = plt.subplot(122)\n",
    "    IRA_users[lab + \"_source\"].hist(ax=ax, bins=20)\n",
    "    plt.yscale(\"log\")\n",
    "    if lab == \"fake\":\n",
    "        plt.show()\n",
    "    plt.close()\n",
    "\n",
    "    \n",
    "USER_TABLE = pd.DataFrame(USER_TABLE).transpose()\n",
    "USER_TABLE"
   ]
  },
  {
   "cell_type": "code",
   "execution_count": 54,
   "metadata": {},
   "outputs": [],
   "source": [
    "set_IRAs_users = set()\n",
    "\n",
    "for user_id, row in IRA_users.iterrows():\n",
    "    set_IRAs_users.add(user_id)\n",
    "    \n",
    "# print(len(set_IRAs_users))"
   ]
  },
  {
   "cell_type": "code",
   "execution_count": 60,
   "metadata": {},
   "outputs": [
    {
     "name": "stdout",
     "output_type": "stream",
     "text": [
      "fake 1\n",
      "extreme bias (right) 0\n",
      "right 0\n",
      "right leaning 0\n",
      "center 0\n",
      "left leaning 0\n",
      "left 0\n",
      "extreme bias (left) 0\n"
     ]
    }
   ],
   "source": [
    "top_num = 1000\n",
    "\n",
    "for i in range(len(map_labels)):\n",
    "    lab = map_labels[str(i)]\n",
    "    top_sources = set(all_users[lab + \"_source\"].sort_values(ascending=False).head(top_num).index)\n",
    "    # print(top_sources)\n",
    "    len_intersection = len(top_sources & set_IRAs_users)\n",
    "    print(lab, len_intersection)"
   ]
  },
  {
   "cell_type": "markdown",
   "metadata": {},
   "source": [
    "## IRAs as influencers"
   ]
  },
  {
   "cell_type": "code",
   "execution_count": 83,
   "metadata": {},
   "outputs": [
    {
     "name": "stdout",
     "output_type": "stream",
     "text": [
      "fake ...\n",
      "323 4272870988\n",
      "510 4224729994\n",
      "355 4437444442\n",
      "382 3990577513\n",
      "926 4355797094\n",
      "853 4209684039\n",
      "extreme bias (right) ...\n",
      "342 4272870988\n",
      "554 4311371968\n",
      "903 4224729994\n",
      "585 4437444442\n",
      "372 3990577513\n",
      "right ...\n",
      "286 4272870988\n",
      "285 4224729994\n",
      "637 4437444442\n",
      "296 3990577513\n",
      "666 4209684039\n",
      "right leaning ...\n",
      "665 4272870988\n",
      "930 4224729994\n",
      "550 4355797094\n",
      "758 2912754262\n",
      "center ...\n",
      "748 4208754922\n",
      "left leaning ...\n",
      "left ...\n",
      "extreme bias (left) ...\n"
     ]
    },
    {
     "data": {
      "image/png": "[encoded data removed]",
      "text/plain": [
       "<Figure size 432x432 with 1 Axes>"
      ]
     },
     "metadata": {},
     "output_type": "display_data"
    }
   ],
   "source": [
    "top_num = 1000\n",
    "\n",
    "len_intersection = {}\n",
    "f_labels = [map_labels[str(i)] for i in range(8)]\n",
    "node_map = json.load(open(\"disk/node_map.json\"))\n",
    "\n",
    "for label in f_labels:\n",
    "    print(label, \"...\")\n",
    "    CI_rst = np.load(\"data/CI_rst/CI_out_{}.npy\".format(label))\n",
    "    CI_rank_rst = CI_rst[0][:top_num]\n",
    "    # print(CI_rank_rst)\n",
    "    CI_values_rst = CI_rst[1]\n",
    "    \n",
    "    set_CI_users = set(CI_rank_rst)\n",
    "    set_source_users = set()\n",
    "    \n",
    "    for user_id, row in IRA_users.iterrows():\n",
    "        node_id = node_map[user_id]\n",
    "        set_source_users.add(node_id)\n",
    "        try:\n",
    "            i = CI_rank_rst.index(node_id)\n",
    "            print(i, user_id)\n",
    "            rank = top_num - i\n",
    "        except ValueError as e:\n",
    "            rank = 0\n",
    "\n",
    "    len_intersection[label] = len(set_CI_users & set_source_users)\n",
    "    \n",
    "def plot_corr(cor):\n",
    "    # display(cor)\n",
    "    plt.figure(figsize=(6, 6))\n",
    "    x = range(len(f_labels))\n",
    "    for i in x:\n",
    "        plt.bar(i, cor[f_labels[i]], color=sns.color_palette(\"coolwarm\", 7)[6-i])\n",
    "    plt.xticks(x, f_labels)\n",
    "#     plt.xlabel('Only IRA', fontsize=15)\n",
    "    plt.ylabel('Size of intersection between 1000 top CIs and IRAs', fontsize=15)\n",
    "    plt.xticks(fontsize=9, rotation=40); plt.yticks(fontsize=14)\n",
    "    plt.savefig(\"fig/size-of-intersection500.pdf\", dpi=300, bbox_inches='tight')\n",
    "    plt.show()\n",
    "    plt.tight_layout()\n",
    "    plt.close()\n",
    "    \n",
    "plot_corr(len_intersection)"
   ]
  },
  {
   "cell_type": "code",
   "execution_count": 24,
   "metadata": {},
   "outputs": [],
   "source": [
    "IRA_users_csv = pd.read_csv(\"data/ira_users_csv_hashed.csv\")"
   ]
  },
  {
   "cell_type": "code",
   "execution_count": 37,
   "metadata": {},
   "outputs": [
    {
     "name": "stdout",
     "output_type": "stream",
     "text": [
      "4224729994 4224729994\n",
      "4355797094 4355797094\n",
      "4272870988 4272870988\n",
      "3990577513 3990577513\n",
      "4437444442 4437444442\n"
     ]
    }
   ],
   "source": [
    "key_IRA_users = [\n",
    "    \"4272870988\",\n",
    "    \"4224729994\",\n",
    "    \"4437444442\",\n",
    "    \"3990577513\",\n",
    "    \"4355797094\",\n",
    "    \"48eb1158782d382f9f9bb2c3d99f118bd88eab0bf8ef4f6f4d44494c989ad766\" # \"4209684039\",\n",
    "]\n",
    "\n",
    "from fake_identify import Are_you_IRA\n",
    "\n",
    "putin = Are_you_IRA()\n",
    "\n",
    "# print(putin._map)\n",
    "\n",
    "for k, v in putin._map.items():\n",
    "    if v in key_IRA_users:\n",
    "        print(k, v)"
   ]
  },
  {
   "cell_type": "code",
   "execution_count": 38,
   "metadata": {},
   "outputs": [
    {
     "data": {
      "text/html": [
       "<div>\n",
       "<style scoped>\n",
       "    .dataframe tbody tr th:only-of-type {\n",
       "        vertical-align: middle;\n",
       "    }\n",
       "\n",
       "    .dataframe tbody tr th {\n",
       "        vertical-align: top;\n",
       "    }\n",
       "\n",
       "    .dataframe thead th {\n",
       "        text-align: right;\n",
       "    }\n",
       "</style>\n",
       "<table border=\"1\" class=\"dataframe\">\n",
       "  <thead>\n",
       "    <tr style=\"text-align: right;\">\n",
       "      <th></th>\n",
       "      <th>userid</th>\n",
       "      <th>user_display_name</th>\n",
       "      <th>user_screen_name</th>\n",
       "      <th>user_reported_location</th>\n",
       "      <th>user_profile_description</th>\n",
       "      <th>user_profile_url</th>\n",
       "      <th>follower_count</th>\n",
       "      <th>following_count</th>\n",
       "      <th>account_creation_date</th>\n",
       "      <th>account_language</th>\n",
       "    </tr>\n",
       "  </thead>\n",
       "  <tbody>\n",
       "    <tr>\n",
       "      <th>11</th>\n",
       "      <td>3990577513</td>\n",
       "      <td>Tea Party News</td>\n",
       "      <td>tpartynews</td>\n",
       "      <td>NaN</td>\n",
       "      <td>NaN</td>\n",
       "      <td>NaN</td>\n",
       "      <td>21498</td>\n",
       "      <td>22407</td>\n",
       "      <td>2015-10-23</td>\n",
       "      <td>en</td>\n",
       "    </tr>\n",
       "    <tr>\n",
       "      <th>414</th>\n",
       "      <td>4355797094</td>\n",
       "      <td>Texas Lone Star</td>\n",
       "      <td>SouthLoneStar</td>\n",
       "      <td>Texas, USA</td>\n",
       "      <td>Proud TEXAN and AMERICAN patriot #2a #prolife ...</td>\n",
       "      <td>NaN</td>\n",
       "      <td>53999</td>\n",
       "      <td>49272</td>\n",
       "      <td>2015-11-25</td>\n",
       "      <td>en</td>\n",
       "    </tr>\n",
       "    <tr>\n",
       "      <th>1433</th>\n",
       "      <td>4437444442</td>\n",
       "      <td>Pamela Kealer</td>\n",
       "      <td>PamelaKealer13</td>\n",
       "      <td>Texas, USA</td>\n",
       "      <td>NaN</td>\n",
       "      <td>NaN</td>\n",
       "      <td>10226</td>\n",
       "      <td>10184</td>\n",
       "      <td>2015-12-10</td>\n",
       "      <td>en</td>\n",
       "    </tr>\n",
       "    <tr>\n",
       "      <th>2642</th>\n",
       "      <td>4224729994</td>\n",
       "      <td>Tennessee</td>\n",
       "      <td>TEN_GOP</td>\n",
       "      <td>NaN</td>\n",
       "      <td>Unofficial Twitter of Tennessee Republicans. C...</td>\n",
       "      <td>NaN</td>\n",
       "      <td>147767</td>\n",
       "      <td>74664</td>\n",
       "      <td>2015-11-19</td>\n",
       "      <td>en</td>\n",
       "    </tr>\n",
       "    <tr>\n",
       "      <th>2791</th>\n",
       "      <td>48eb1158782d382f9f9bb2c3d99f118bd88eab0bf8ef4f...</td>\n",
       "      <td>48eb1158782d382f9f9bb2c3d99f118bd88eab0bf8ef4f...</td>\n",
       "      <td>48eb1158782d382f9f9bb2c3d99f118bd88eab0bf8ef4f...</td>\n",
       "      <td>NaN</td>\n",
       "      <td>A silent American patriot who was awoken by Do...</td>\n",
       "      <td>NaN</td>\n",
       "      <td>2688</td>\n",
       "      <td>1377</td>\n",
       "      <td>2015-11-17</td>\n",
       "      <td>en</td>\n",
       "    </tr>\n",
       "    <tr>\n",
       "      <th>3387</th>\n",
       "      <td>4272870988</td>\n",
       "      <td>Pamela Moore</td>\n",
       "      <td>Pamela_Moore13</td>\n",
       "      <td>Texas, USA</td>\n",
       "      <td>Southern. Conservative. Pro God. Anti Racism</td>\n",
       "      <td>NaN</td>\n",
       "      <td>72121</td>\n",
       "      <td>42080</td>\n",
       "      <td>2015-11-25</td>\n",
       "      <td>en</td>\n",
       "    </tr>\n",
       "  </tbody>\n",
       "</table>\n",
       "</div>"
      ],
      "text/plain": [
       "                                                 userid  \\\n",
       "11                                           3990577513   \n",
       "414                                          4355797094   \n",
       "1433                                         4437444442   \n",
       "2642                                         4224729994   \n",
       "2791  48eb1158782d382f9f9bb2c3d99f118bd88eab0bf8ef4f...   \n",
       "3387                                         4272870988   \n",
       "\n",
       "                                      user_display_name  \\\n",
       "11                                       Tea Party News   \n",
       "414                                     Texas Lone Star   \n",
       "1433                                      Pamela Kealer   \n",
       "2642                                          Tennessee   \n",
       "2791  48eb1158782d382f9f9bb2c3d99f118bd88eab0bf8ef4f...   \n",
       "3387                                       Pamela Moore   \n",
       "\n",
       "                                       user_screen_name  \\\n",
       "11                                           tpartynews   \n",
       "414                                       SouthLoneStar   \n",
       "1433                                     PamelaKealer13   \n",
       "2642                                            TEN_GOP   \n",
       "2791  48eb1158782d382f9f9bb2c3d99f118bd88eab0bf8ef4f...   \n",
       "3387                                     Pamela_Moore13   \n",
       "\n",
       "     user_reported_location  \\\n",
       "11                      NaN   \n",
       "414              Texas, USA   \n",
       "1433             Texas, USA   \n",
       "2642                    NaN   \n",
       "2791                    NaN   \n",
       "3387             Texas, USA   \n",
       "\n",
       "                               user_profile_description user_profile_url  \\\n",
       "11                                                  NaN              NaN   \n",
       "414   Proud TEXAN and AMERICAN patriot #2a #prolife ...              NaN   \n",
       "1433                                                NaN              NaN   \n",
       "2642  Unofficial Twitter of Tennessee Republicans. C...              NaN   \n",
       "2791  A silent American patriot who was awoken by Do...              NaN   \n",
       "3387       Southern. Conservative. Pro God. Anti Racism              NaN   \n",
       "\n",
       "      follower_count  following_count account_creation_date account_language  \n",
       "11             21498            22407            2015-10-23               en  \n",
       "414            53999            49272            2015-11-25               en  \n",
       "1433           10226            10184            2015-12-10               en  \n",
       "2642          147767            74664            2015-11-19               en  \n",
       "2791            2688             1377            2015-11-17               en  \n",
       "3387           72121            42080            2015-11-25               en  "
      ]
     },
     "execution_count": 38,
     "metadata": {},
     "output_type": "execute_result"
    }
   ],
   "source": [
    "IRA_users_csv[IRA_users_csv.userid.isin(key_IRA_users)]"
   ]
  },
  {
   "cell_type": "markdown",
   "metadata": {},
   "source": [
    "## IRAs as supporters "
   ]
  },
  {
   "cell_type": "code",
   "execution_count": null,
   "metadata": {},
   "outputs": [],
   "source": [
    "from collections import Counter\n",
    "sns.set_style(\"white\")\n",
    "sns.color_palette(\"RdBu\", n_colors=7)\n",
    "\n",
    "count = Counter(first_opinion)\n",
    "print(count)\n",
    "\n",
    "label = [\"pro-hillary\", \"pro-trump\"]\n",
    "plt.figure(figsize=(20, 6))\n",
    "\n",
    "plt.subplot(131)\n",
    "plt.bar(1, count[0], color=sns.color_palette(\"RdBu\")[5], width=0.2)\n",
    "plt.bar(1.5, count[1], color=sns.color_palette(\"RdBu\")[0], width=0.2)\n",
    "label = [\"pro-hillary\\n{0:.0%}\".format(count[0] / (count[0]+count[1])), \"pro-trump\\n{0:.0%}\".format(count[1] / (count[0]+count[1]))]\n",
    "plt.xticks([1, 1.5], label)\n",
    "plt.xlabel('First source', fontsize=15)\n",
    "plt.ylabel('Number of tweets', fontsize=15)\n",
    "plt.xticks(fontsize=14); plt.yticks(fontsize=14)\n",
    "\n",
    "count = Counter(staters_opinion)\n",
    "print(count)\n",
    "\n",
    "plt.subplot(132)\n",
    "plt.bar(1, count[0], color=sns.color_palette(\"RdBu\")[5], width=0.2)\n",
    "plt.bar(1.5, count[1], color=sns.color_palette(\"RdBu\")[0], width=0.2)\n",
    "label = [\"pro-hillary\\n{0:.0%}\".format(count[0] / (count[0]+count[1])), \"pro-trump\\n{0:.0%}\".format(count[1] / (count[0]+count[1]))]\n",
    "plt.xticks([1, 1.5], label)\n",
    "plt.xlabel('source', fontsize=15)\n",
    "plt.xticks(fontsize=14); plt.yticks(fontsize=14)\n",
    "\n",
    "count = Counter(other_opinion)\n",
    "print(count)\n",
    "\n",
    "plt.subplot(133)\n",
    "plt.bar(1, count[0], color=sns.color_palette(\"RdBu\")[5], width=0.2)\n",
    "plt.bar(1.5, count[1], color=sns.color_palette(\"RdBu\")[0], width=0.2)\n",
    "label = [\"pro-hillary\\n{0:.0%}\".format(count[0] / (count[0]+count[1])), \"pro-trump\\n{0:.0%}\".format(count[1] / (count[0]+count[1]))]\n",
    "plt.xticks([1, 1.5], label)\n",
    "plt.xlabel('non-source', fontsize=15)\n",
    "# plt.ylabel('N of fake sources', fontsize=15)\n",
    "plt.xticks(fontsize=14); plt.yticks(fontsize=14)\n",
    "\n",
    "plt.savefig(\"fig/support.pdf\", dpi=300, bbox_inches='tight')\n",
    "plt.show()\n",
    "plt.close()"
   ]
  }
 ],
 "metadata": {
  "kernelspec": {
   "display_name": "Python 3",
   "language": "python",
   "name": "python3"
  },
  "language_info": {
   "codemirror_mode": {
    "name": "ipython",
    "version": 3
   },
   "file_extension": ".py",
   "mimetype": "text/x-python",
   "name": "python",
   "nbconvert_exporter": "python",
   "pygments_lexer": "ipython3",
   "version": "3.6.6"
  }
 },
 "nbformat": 4,
 "nbformat_minor": 2
}
