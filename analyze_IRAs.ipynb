{
 "cells": [
  {
   "cell_type": "markdown",
   "metadata": {},
   "source": [
    "# 分析IRAs"
   ]
  },
  {
   "cell_type": "code",
   "execution_count": 1,
   "metadata": {},
   "outputs": [
    {
     "name": "stderr",
     "output_type": "stream",
     "text": [
      "/home/alex/anaconda3/lib/python3.7/site-packages/graph_tool/draw/cairo_draw.py:1494: RuntimeWarning: Error importing Gtk module: cannot import name '_gi' from 'gi' (/home/alex/anaconda3/lib/python3.7/site-packages/gi/__init__.py); GTK+ drawing will not work.\n",
      "  warnings.warn(msg, RuntimeWarning)\n"
     ]
    }
   ],
   "source": [
    "from my_weapon import *\n",
    "from collections import defaultdict, Counter\n",
    "from IPython.display import display\n",
    "from tqdm import tqdm_notebook as tqdm\n",
    "import matplotlib\n",
    "from datetime import datetime\n",
    "# import pandas_profiling\n",
    "\n",
    "sns.set(style=\"darkgrid\", font_scale=1.5)\n",
    "ira_c = sns.color_palette(\"coolwarm\", 8)[7]\n",
    "all_c = sns.color_palette(\"coolwarm\", 8)[0]\n",
    "import graph_tool.all as gt"
   ]
  },
  {
   "cell_type": "code",
   "execution_count": 205,
   "metadata": {},
   "outputs": [
    {
     "name": "stdout",
     "output_type": "stream",
     "text": [
      "CPU times: user 20 ms, sys: 0 ns, total: 20 ms\n",
      "Wall time: 18.1 ms\n"
     ]
    }
   ],
   "source": [
    "%time user_data = pd.read_csv('data/ira_users_csv_hashed.csv')\n",
    "\n",
    "_u1 = pd.read_csv(\"disk/\")\n",
    "# user_data.head()"
   ]
  },
  {
   "cell_type": "code",
   "execution_count": null,
   "metadata": {},
   "outputs": [],
   "source": [
    "bingo_uid = json.load(open(\"data/bingo_IRA_users.json\"))\n",
    "bingo_users = user_data[user_data['userid'].isin(bingo_uid)]\n",
    "bingo_users[\"real_uid\"] = [putin.uncover(u) for u in bingo_users.userid]\n",
    "bingo_users.to_csv(\"data/bingo_IRA_users.csv\", index=None)"
   ]
  },
  {
   "cell_type": "code",
   "execution_count": 208,
   "metadata": {},
   "outputs": [
    {
     "name": "stderr",
     "output_type": "stream",
     "text": [
      "/home/alex/anaconda3/lib/python3.6/site-packages/ipykernel_launcher.py:7: SettingWithCopyWarning: \n",
      "A value is trying to be set on a copy of a slice from a DataFrame.\n",
      "Try using .loc[row_indexer,col_indexer] = value instead\n",
      "\n",
      "See the caveats in the documentation: http://pandas.pydata.org/pandas-docs/stable/indexing.html#indexing-view-versus-copy\n",
      "  import sys\n"
     ]
    }
   ],
   "source": [
    "top_10_ira = json.load(open(\"data/top_10_ira.json\"))\n",
    "# bingo_users = user_data[user_data['userid'].isin(bingo_uid)]\n",
    "# bingo_users[\"real_uid\"] = [putin.uncover(u) for u in bingo_users.userid]\n",
    "# bingo_users.to_csv(\"data/bingo_IRA_users.csv\", index=None)\n",
    "for k, v in top_10_ira.items():\n",
    "    _us = bingo_users[bingo_users['real_uid'].isin([_k[0] for _k in v])]\n",
    "    _us[\"rank\"] = [_k[1] for _k in v]\n",
    "    _us.to_csv(f\"data/top10_{k}.csv\")"
   ]
  },
  {
   "cell_type": "code",
   "execution_count": 3,
   "metadata": {},
   "outputs": [
    {
     "data": {
      "text/plain": [
       "Index(['userid', 'user_display_name', 'user_screen_name',\n",
       "       'user_reported_location', 'user_profile_description',\n",
       "       'user_profile_url', 'follower_count', 'following_count',\n",
       "       'account_creation_date', 'account_language'],\n",
       "      dtype='object')"
      ]
     },
     "execution_count": 3,
     "metadata": {},
     "output_type": "execute_result"
    }
   ],
   "source": [
    "user_data.columns"
   ]
  },
  {
   "cell_type": "code",
   "execution_count": 4,
   "metadata": {},
   "outputs": [
    {
     "data": {
      "text/html": [
       "<div>\n",
       "<style scoped>\n",
       "    .dataframe tbody tr th:only-of-type {\n",
       "        vertical-align: middle;\n",
       "    }\n",
       "\n",
       "    .dataframe tbody tr th {\n",
       "        vertical-align: top;\n",
       "    }\n",
       "\n",
       "    .dataframe thead th {\n",
       "        text-align: right;\n",
       "    }\n",
       "</style>\n",
       "<table border=\"1\" class=\"dataframe\">\n",
       "  <thead>\n",
       "    <tr style=\"text-align: right;\">\n",
       "      <th></th>\n",
       "      <th>follower_count</th>\n",
       "      <th>following_count</th>\n",
       "    </tr>\n",
       "  </thead>\n",
       "  <tbody>\n",
       "    <tr>\n",
       "      <th>count</th>\n",
       "      <td>3836.000000</td>\n",
       "      <td>3836.000000</td>\n",
       "    </tr>\n",
       "    <tr>\n",
       "      <th>mean</th>\n",
       "      <td>1664.950209</td>\n",
       "      <td>826.092023</td>\n",
       "    </tr>\n",
       "    <tr>\n",
       "      <th>std</th>\n",
       "      <td>8860.043408</td>\n",
       "      <td>2726.252326</td>\n",
       "    </tr>\n",
       "    <tr>\n",
       "      <th>min</th>\n",
       "      <td>0.000000</td>\n",
       "      <td>0.000000</td>\n",
       "    </tr>\n",
       "    <tr>\n",
       "      <th>25%</th>\n",
       "      <td>58.000000</td>\n",
       "      <td>104.000000</td>\n",
       "    </tr>\n",
       "    <tr>\n",
       "      <th>50%</th>\n",
       "      <td>126.000000</td>\n",
       "      <td>239.000000</td>\n",
       "    </tr>\n",
       "    <tr>\n",
       "      <th>75%</th>\n",
       "      <td>461.250000</td>\n",
       "      <td>542.000000</td>\n",
       "    </tr>\n",
       "    <tr>\n",
       "      <th>max</th>\n",
       "      <td>257638.000000</td>\n",
       "      <td>74664.000000</td>\n",
       "    </tr>\n",
       "  </tbody>\n",
       "</table>\n",
       "</div>"
      ],
      "text/plain": [
       "       follower_count  following_count\n",
       "count     3836.000000      3836.000000\n",
       "mean      1664.950209       826.092023\n",
       "std       8860.043408      2726.252326\n",
       "min          0.000000         0.000000\n",
       "25%         58.000000       104.000000\n",
       "50%        126.000000       239.000000\n",
       "75%        461.250000       542.000000\n",
       "max     257638.000000     74664.000000"
      ]
     },
     "execution_count": 4,
     "metadata": {},
     "output_type": "execute_result"
    }
   ],
   "source": [
    "user_data.describe()"
   ]
  },
  {
   "cell_type": "code",
   "execution_count": 5,
   "metadata": {},
   "outputs": [],
   "source": [
    "# %matplotlib inline\n",
    "\n",
    "def get_cdf_pdf(data, mini, maxi, step, norm=True):\n",
    "    x = [float(i) for i in np.arange(mini, maxi, step)]\n",
    "    cdf = [0] * len(x)\n",
    "    pdf = [0] * len(x)\n",
    "    count = 0\n",
    "    for d in data:\n",
    "        d = float(d)\n",
    "        if d < mini or d > maxi:\n",
    "            continue\n",
    "        count += 1\n",
    "        for i in range(len(x)):\n",
    "            if i == (len(x) - 1) and d >= x[i]:\n",
    "                pdf[i] += 1\n",
    "            elif d >= x[i] and d < x[i+1]:\n",
    "                pdf[i] += 1\n",
    "\n",
    "            if d >= x[i]:\n",
    "                cdf[i] += 1\n",
    "\n",
    "    if norm:\n",
    "        cdf = [c / count for c in cdf]\n",
    "        pdf = [p / count for p in pdf]\n",
    "\n",
    "    return x, cdf, pdf"
   ]
  },
  {
   "cell_type": "code",
   "execution_count": 15,
   "metadata": {},
   "outputs": [
    {
     "data": {
      "image/png": "[encoded data removed]",
      "text/plain": [
       "<Figure size 576x432 with 1 Axes>"
      ]
     },
     "metadata": {},
     "output_type": "display_data"
    }
   ],
   "source": [
    "# user_data\n",
    "# sns.set(style=\"darkgrid\")\n",
    "plt.figure(figsize=(8, 6))\n",
    "x, cdf, pdf = get_cdf_pdf(user_data['follower_count'], 0, 200000, 100)\n",
    "plt.plot(x, cdf, label='Number of followers', lw=1.5)\n",
    "\n",
    "# pd.DataFrame({'x': x, 'cdf': cdf}).to_csv('data/dist_follower_count.csv')\n",
    "\n",
    "\n",
    "x, cdf, pdf = get_cdf_pdf(user_data['following_count'], 0, 200000, 100)\n",
    "plt.ylabel('CCDF', fontsize=15)\n",
    "# pd.DataFrame({'x': x, 'cdf': cdf}).to_csv('data/dist_following_count.csv')\n",
    "\n",
    "plt.xscale('log')\n",
    "plt.yscale('log')\n",
    "\n",
    "plt.plot(x, cdf, label='Number of followees', lw=1.5)\n",
    "plt.legend(fontsize=14)\n",
    "plt.savefig('fig/fol.pdf', dpi=300)\n",
    "plt.show()"
   ]
  },
  {
   "cell_type": "code",
   "execution_count": 16,
   "metadata": {},
   "outputs": [],
   "source": [
    "sns.set(style=\"ticks\", font_scale=1.5)\n",
    "\n",
    "# rs = np.random.RandomState(11)\n",
    "# x = rs.gamma(2, size=100'\"\"\n",
    "# y = -.5 * x + rs.normal(size=1000)\n",
    "x = []\n",
    "y = []\n",
    "for i, row in user_data.iterrows():\n",
    "    if row.follower_count > 10 and row.following_count > 10:\n",
    "        x.append(np.log10(row.follower_count))\n",
    "        y.append(np.log10(row.following_count))\n",
    "#         x.append(row.follower_count)\n",
    "#         y.append(row.following_count)\n",
    "_data = {\n",
    "    \"x\": x,\n",
    "    \"y\": y,\n",
    "}\n",
    "_data = pd.DataFrame(_data)\n",
    "# print(_data)"
   ]
  },
  {
   "cell_type": "code",
   "execution_count": 17,
   "metadata": {},
   "outputs": [
    {
     "data": {
      "image/png": "[encoded data removed]",
      "text/plain": [
       "<Figure size 720x720 with 1 Axes>"
      ]
     },
     "metadata": {},
     "output_type": "display_data"
    }
   ],
   "source": [
    "# sns.jointplot(x, y, kind=\"hex\")\n",
    "# plt.xlim(0.5, 5)\n",
    "# plt.ylim(0.5, 5)\n",
    "ax = plt.figure(figsize=(10, 10))\n",
    "# sns.scatterplot(x=\"following_count\", y=\"follower_count\", data=user_data, alpha=0.5)\n",
    "plt.scatter(user_data.following_count, user_data.follower_count, alpha=0.3)\n",
    "# sns.scatterplot(x=\"following_count\", y=\"follower_count\", data=user_data, alpha=0.5)\n",
    "\n",
    "# ax.set_xscale(\"log\")\n",
    "# ax.set_yscale(\"log\")\n",
    "# plt.xlim(-1, 100000)\n",
    "# plt.ylim(-1, 100000)\n",
    "plt.xscale(\"symlog\")\n",
    "plt.yscale(\"symlog\")\n",
    "\n",
    "# plt.legend()\n",
    "# g.ax_joint.set_xscale('log')\n",
    "# g.ax_joint.set_yscale('log')\n",
    "plt.show()"
   ]
  },
  {
   "cell_type": "raw",
   "metadata": {},
   "source": [
    "# heatmap\n",
    "\n",
    "ax = sns.heatmap(user_data.following_count, user_data.follower_count)"
   ]
  },
  {
   "cell_type": "code",
   "execution_count": 109,
   "metadata": {},
   "outputs": [
    {
     "data": {
      "text/plain": [
       "userid                                                             2527472164\n",
       "user_display_name                                              Вестник Москвы\n",
       "user_screen_name                                                   NovostiMsk\n",
       "user_reported_location                                                 Москва\n",
       "user_profile_description    Невозможно не любить этот город! Телефон редак...\n",
       "user_profile_url                                      https://t.co/sIJZDK1hTI\n",
       "follower_count                                                         257638\n",
       "following_count                                                           544\n",
       "account_creation_date                                     2014-05-04 00:00:00\n",
       "account_language                                                           en\n",
       "Name: 1014, dtype: object"
      ]
     },
     "execution_count": 109,
     "metadata": {},
     "output_type": "execute_result"
    }
   ],
   "source": [
    "user_data.iloc[user_data['follower_count'].idxmax(), :]"
   ]
  },
  {
   "cell_type": "code",
   "execution_count": 80,
   "metadata": {},
   "outputs": [
    {
     "data": {
      "text/plain": [
       "userid                                                             4224729994\n",
       "user_display_name                                                   Tennessee\n",
       "user_screen_name                                                      TEN_GOP\n",
       "user_reported_location                                                    NaN\n",
       "user_profile_description    Unofficial Twitter of Tennessee Republicans. C...\n",
       "user_profile_url                                                          NaN\n",
       "follower_count                                                         147767\n",
       "following_count                                                         74664\n",
       "account_creation_date                                              2015-11-19\n",
       "account_language                                                           en\n",
       "Name: 2642, dtype: object"
      ]
     },
     "execution_count": 80,
     "metadata": {},
     "output_type": "execute_result"
    }
   ],
   "source": [
    "user_data.iloc[user_data['following_count'].idxmax(), :]"
   ]
  },
  {
   "cell_type": "code",
   "execution_count": 171,
   "metadata": {
    "scrolled": false
   },
   "outputs": [],
   "source": [
    "# user_data.groupby('account_creation_date').count()\n",
    "user_data['account_creation_date'] = pd.to_datetime(user_data['account_creation_date'])\n",
    "A = user_data.set_index('account_creation_date')\n",
    "B = A.to_period('M').groupby('account_creation_date').count()\n",
    "# creation_dates = pd.to_datetime(user_data[\"account_creation_date\"])\n",
    "# pd.date_range(2010)\n",
    "# sum(B['userid'])"
   ]
  },
  {
   "cell_type": "code",
   "execution_count": 172,
   "metadata": {},
   "outputs": [
    {
     "data": {
      "image/png": "[encoded data removed]",
      "text/plain": [
       "<Figure size 864x432 with 1 Axes>"
      ]
     },
     "metadata": {},
     "output_type": "display_data"
    }
   ],
   "source": [
    "sns.set(style=\"darkgrid\")\n",
    "\n",
    "plt.figure(figsize=(12, 6))\n",
    "# plt.plot_date(B.index, B['userid'])\n",
    "B['userid'].plot()\n",
    "plt.xlabel('Date', fontsize=15)\n",
    "plt.ylabel('$N$ of created IRA users', fontsize=18)\n",
    "plt.xticks(fontsize=14); plt.yticks(fontsize=14)\n",
    "plt.savefig('fig/account_creation.pdf', dpi=300)\n",
    "plt.show()\n",
    "\n",
    "B.to_csv('data/account_creation.csv')"
   ]
  },
  {
   "cell_type": "code",
   "execution_count": 112,
   "metadata": {},
   "outputs": [
    {
     "data": {
      "text/plain": [
       "3836"
      ]
     },
     "execution_count": 112,
     "metadata": {},
     "output_type": "execute_result"
    }
   ],
   "source": [
    "len(user_data)"
   ]
  },
  {
   "cell_type": "code",
   "execution_count": 111,
   "metadata": {},
   "outputs": [
    {
     "data": {
      "text/plain": [
       "1954    2009-04-24\n",
       "2431    2009-05-09\n",
       "3644    2009-09-08\n",
       "2435    2009-10-03\n",
       "581     2009-10-04\n",
       "1661    2009-10-04\n",
       "409     2009-10-04\n",
       "3580    2009-10-04\n",
       "443     2009-10-04\n",
       "3417    2009-10-05\n",
       "2585    2009-10-05\n",
       "2523    2009-10-05\n",
       "1198    2009-10-05\n",
       "1232    2009-10-05\n",
       "1138    2009-10-06\n",
       "1824    2009-10-06\n",
       "1629    2009-10-06\n",
       "2277    2009-10-06\n",
       "177     2009-10-06\n",
       "1945    2009-10-06\n",
       "1861    2009-10-07\n",
       "3496    2009-10-07\n",
       "1983    2009-10-07\n",
       "2909    2009-10-07\n",
       "3454    2009-10-07\n",
       "1200    2009-10-08\n",
       "685     2009-10-08\n",
       "3783    2009-10-08\n",
       "26      2009-10-08\n",
       "2649    2009-10-08\n",
       "           ...    \n",
       "1206    2017-09-03\n",
       "3768    2017-09-04\n",
       "2723    2017-09-04\n",
       "2132    2017-09-04\n",
       "1371    2017-09-05\n",
       "816     2017-09-05\n",
       "2145    2017-09-06\n",
       "2991    2017-09-07\n",
       "3660    2017-09-07\n",
       "3191    2017-09-07\n",
       "2537    2017-09-11\n",
       "1352    2017-09-25\n",
       "420     2017-09-25\n",
       "2912    2017-09-26\n",
       "686     2017-09-27\n",
       "3731    2017-10-06\n",
       "2422    2017-10-10\n",
       "2622    2017-10-19\n",
       "1613    2017-10-20\n",
       "165     2017-10-21\n",
       "2261    2017-11-01\n",
       "128     2017-11-06\n",
       "15      2017-11-07\n",
       "2364    2017-11-20\n",
       "3481    2017-11-28\n",
       "3341    2017-12-23\n",
       "56      2017-12-23\n",
       "1542    2017-12-23\n",
       "2212    2018-02-26\n",
       "315     2018-04-03\n",
       "Name: account_creation_date, Length: 3836, dtype: object"
      ]
     },
     "execution_count": 111,
     "metadata": {},
     "output_type": "execute_result"
    }
   ],
   "source": [
    "user_data[\"account_creation_date\"].sort_values()"
   ]
  },
  {
   "cell_type": "markdown",
   "metadata": {},
   "source": [
    "## !! 载入全部的Tweets"
   ]
  },
  {
   "cell_type": "code",
   "execution_count": 3,
   "metadata": {},
   "outputs": [
    {
     "name": "stdout",
     "output_type": "stream",
     "text": [
      "CPU times: user 1min 20s, sys: 3.72 s, total: 1min 23s\n",
      "Wall time: 1min 40s\n"
     ]
    }
   ],
   "source": [
    "# load tweets\n",
    "\n",
    "%time tweets = pd.read_csv('disk/ira_tweets_csv_hashed.csv', low_memory=True, dtype=str)"
   ]
  },
  {
   "cell_type": "code",
   "execution_count": 25,
   "metadata": {},
   "outputs": [
    {
     "data": {
      "text/plain": [
       "Index(['tweetid', 'userid', 'user_display_name', 'user_screen_name',\n",
       "       'user_reported_location', 'user_profile_description',\n",
       "       'user_profile_url', 'follower_count', 'following_count',\n",
       "       'account_creation_date', 'account_language', 'tweet_language',\n",
       "       'tweet_text', 'tweet_time', 'tweet_client_name', 'in_reply_to_tweetid',\n",
       "       'in_reply_to_userid', 'quoted_tweet_tweetid', 'is_retweet',\n",
       "       'retweet_userid', 'retweet_tweetid', 'latitude', 'longitude',\n",
       "       'quote_count', 'reply_count', 'like_count', 'retweet_count', 'hashtags',\n",
       "       'urls', 'user_mentions', 'poll_choices'],\n",
       "      dtype='object')"
      ]
     },
     "execution_count": 25,
     "metadata": {},
     "output_type": "execute_result"
    }
   ],
   "source": [
    "tweets.columns"
   ]
  },
  {
   "cell_type": "code",
   "execution_count": 49,
   "metadata": {},
   "outputs": [],
   "source": [
    "de_tweets = tweets[tweets.tweet_language != \"und\"]"
   ]
  },
  {
   "cell_type": "code",
   "execution_count": 50,
   "metadata": {},
   "outputs": [
    {
     "data": {
      "text/plain": [
       "ru    0.569991\n",
       "en    0.383104\n",
       "de    0.011666\n",
       "uk    0.009658\n",
       "bg    0.006423\n",
       "ar    0.004374\n",
       "it    0.002393\n",
       "es    0.001504\n",
       "fr    0.001484\n",
       "in    0.001213\n",
       "Name: tweet_language, dtype: float64"
      ]
     },
     "execution_count": 50,
     "metadata": {},
     "output_type": "execute_result"
    }
   ],
   "source": [
    "de_tweets.tweet_language.value_counts(normalize=True)[:10]"
   ]
  },
  {
   "cell_type": "code",
   "execution_count": 27,
   "metadata": {},
   "outputs": [
    {
     "data": {
      "text/plain": [
       "ru     4853185\n",
       "en     3261931\n",
       "und     230713\n",
       "de       99332\n",
       "uk       82237\n",
       "bg       54690\n",
       "ar       37245\n",
       "it       20376\n",
       "es       12802\n",
       "fr       12636\n",
       "Name: tweet_language, dtype: int64"
      ]
     },
     "execution_count": 27,
     "metadata": {},
     "output_type": "execute_result"
    }
   ],
   "source": [
    "tweets.tweet_language.value_counts()[:10]"
   ]
  },
  {
   "cell_type": "code",
   "execution_count": 37,
   "metadata": {},
   "outputs": [
    {
     "data": {
      "text/plain": [
       "(array([0, 1, 2, 3, 4, 5, 6, 7, 8, 9]), <a list of 10 Text xticklabel objects>)"
      ]
     },
     "execution_count": 37,
     "metadata": {},
     "output_type": "execute_result"
    },
    {
     "data": {
      "image/png": "[encoded data removed]",
      "text/plain": [
       "<Figure size 432x288 with 1 Axes>"
      ]
     },
     "metadata": {},
     "output_type": "display_data"
    }
   ],
   "source": [
    "sns.set_style(\"darkgrid\")\n",
    "tweets.tweet_language.value_counts()[:10].plot(\"bar\")\n",
    "plt.xticks(rotation=45)"
   ]
  },
  {
   "cell_type": "code",
   "execution_count": 38,
   "metadata": {},
   "outputs": [
    {
     "data": {
      "text/plain": [
       "9041308"
      ]
     },
     "execution_count": 38,
     "metadata": {},
     "output_type": "execute_result"
    }
   ],
   "source": [
    "len(tweets)"
   ]
  },
  {
   "cell_type": "code",
   "execution_count": 39,
   "metadata": {},
   "outputs": [
    {
     "data": {
      "text/plain": [
       "a95a911dd6ae864c48ed062cdbe75e5c28dbe0cf57c6db3fa9dd53b654ee9845    159503\n",
       "2570574680                                                           95240\n",
       "d2857a1f930016f6118ec3d00058b9ff687b54e49a85cf3c35042e36dab56c51     69982\n",
       "7ca1009005708b6f4c4d25c1013ee0d5822494efc7a811000b62ee893e4d9855     64495\n",
       "2752677905                                                           59420\n",
       "2547141851                                                           53785\n",
       "c6fdb5b31b765db7e3378b1e23b86ea2b0eb3c03e8db56a78a570bfe87200c8e     53721\n",
       "2587843805                                                           52843\n",
       "12b274fba679f8086a549a0f7be3b4de58e3d5d627ec6a5b34addd7bdbf257b3     50225\n",
       "2943515140                                                           46742\n",
       "Name: userid, dtype: int64"
      ]
     },
     "execution_count": 39,
     "metadata": {},
     "output_type": "execute_result"
    }
   ],
   "source": [
    "tweets.userid.value_counts()[:10]"
   ]
  },
  {
   "cell_type": "code",
   "execution_count": 40,
   "metadata": {},
   "outputs": [
    {
     "data": {
      "text/plain": [
       "a95a911dd6ae864c48ed062cdbe75e5c28dbe0cf57c6db3fa9dd53b654ee9845    133315\n",
       "2752677905                                                           58630\n",
       "2547141851                                                           53071\n",
       "2587843805                                                           51648\n",
       "2943515140                                                           45947\n",
       "2530830345                                                           45894\n",
       "2495567768                                                           44711\n",
       "7ca1009005708b6f4c4d25c1013ee0d5822494efc7a811000b62ee893e4d9855     44410\n",
       "cc19cd3fba790e5aa198cc54d51c6fc7fa022d16ffdaf8a36975fb219ae19ba6     35016\n",
       "cfb0d237487ebe3520cb83bd82df903c9c7afd5a60acba8a3576bc3ca9346467     34251\n",
       "Name: userid, dtype: int64"
      ]
     },
     "execution_count": 40,
     "metadata": {},
     "output_type": "execute_result"
    }
   ],
   "source": [
    "tweets[tweets.tweet_language == \"en\"].userid.value_counts()[:10]"
   ]
  },
  {
   "cell_type": "code",
   "execution_count": 41,
   "metadata": {},
   "outputs": [],
   "source": [
    "ele_tweets = tweets[(tweets[\"tweet_time\"]<\"2016-11-09 00:00\") & (tweets[\"tweet_time\"]>=\"2016-06-01 00:00\")]"
   ]
  },
  {
   "cell_type": "code",
   "execution_count": 42,
   "metadata": {},
   "outputs": [
    {
     "data": {
      "text/plain": [
       "672676"
      ]
     },
     "execution_count": 42,
     "metadata": {},
     "output_type": "execute_result"
    }
   ],
   "source": [
    "len(ele_tweets)"
   ]
  },
  {
   "cell_type": "code",
   "execution_count": 43,
   "metadata": {},
   "outputs": [],
   "source": [
    "ele_tweets = ele_tweets[ele_tweets.tweet_language==\"en\"]"
   ]
  },
  {
   "cell_type": "code",
   "execution_count": 44,
   "metadata": {},
   "outputs": [
    {
     "data": {
      "text/plain": [
       "cfb0d237487ebe3520cb83bd82df903c9c7afd5a60acba8a3576bc3ca9346467    12308\n",
       "2943515140                                                          12226\n",
       "3438999494                                                          12133\n",
       "2882013788                                                          10812\n",
       "2951506251                                                           9056\n",
       "396b0b6914e425ca53c49b7f1d6cfe9757eb7368c04c657a09d83b19a8f1251e     8365\n",
       "3312143142                                                           7424\n",
       "2587843805                                                           6301\n",
       "1718000594                                                           5887\n",
       "2882037326                                                           5637\n",
       "Name: userid, dtype: int64"
      ]
     },
     "execution_count": 44,
     "metadata": {},
     "output_type": "execute_result"
    }
   ],
   "source": [
    "ele_tweets.userid.value_counts()[:10]"
   ]
  },
  {
   "cell_type": "code",
   "execution_count": 45,
   "metadata": {},
   "outputs": [
    {
     "data": {
      "text/plain": [
       "<matplotlib.axes._subplots.AxesSubplot at 0x7ffa394f4978>"
      ]
     },
     "execution_count": 45,
     "metadata": {},
     "output_type": "execute_result"
    },
    {
     "data": {
      "image/png": "[encoded data removed]",
      "text/plain": [
       "<Figure size 432x288 with 1 Axes>"
      ]
     },
     "metadata": {},
     "output_type": "display_data"
    }
   ],
   "source": [
    "plt.yscale(\"log\")\n",
    "tweets.like_count.hist(bins=20)"
   ]
  },
  {
   "cell_type": "code",
   "execution_count": 46,
   "metadata": {},
   "outputs": [
    {
     "data": {
      "text/plain": [
       "<matplotlib.axes._subplots.AxesSubplot at 0x7ffa393a56a0>"
      ]
     },
     "execution_count": 46,
     "metadata": {},
     "output_type": "execute_result"
    },
    {
     "data": {
      "image/png": "[encoded data removed]",
      "text/plain": [
       "<Figure size 432x288 with 1 Axes>"
      ]
     },
     "metadata": {},
     "output_type": "display_data"
    }
   ],
   "source": [
    "plt.yscale(\"log\")\n",
    "tweets.reply_count.hist(bins=20)"
   ]
  },
  {
   "cell_type": "code",
   "execution_count": 47,
   "metadata": {},
   "outputs": [
    {
     "data": {
      "text/plain": [
       "<matplotlib.axes._subplots.AxesSubplot at 0x7ffa3911dda0>"
      ]
     },
     "execution_count": 47,
     "metadata": {},
     "output_type": "execute_result"
    },
    {
     "data": {
      "image/png": "[encoded data removed]",
      "text/plain": [
       "<Figure size 432x288 with 1 Axes>"
      ]
     },
     "metadata": {},
     "output_type": "display_data"
    }
   ],
   "source": [
    "plt.yscale(\"log\")\n",
    "tweets.quote_count.hist(bins=20)"
   ]
  },
  {
   "cell_type": "code",
   "execution_count": 48,
   "metadata": {},
   "outputs": [
    {
     "data": {
      "text/plain": [
       "<matplotlib.axes._subplots.AxesSubplot at 0x7ffa445245f8>"
      ]
     },
     "execution_count": 48,
     "metadata": {},
     "output_type": "execute_result"
    },
    {
     "data": {
      "image/png": "[encoded data removed]",
      "text/plain": [
       "<Figure size 432x288 with 1 Axes>"
      ]
     },
     "metadata": {},
     "output_type": "display_data"
    }
   ],
   "source": [
    "plt.yscale(\"log\")\n",
    "tweets.retweet_count.hist(bins=20)"
   ]
  },
  {
   "cell_type": "code",
   "execution_count": 49,
   "metadata": {},
   "outputs": [],
   "source": [
    "tweets['tweet_time'] = pd.to_datetime(tweets['tweet_time'])"
   ]
  },
  {
   "cell_type": "code",
   "execution_count": 147,
   "metadata": {},
   "outputs": [],
   "source": [
    "A = tweets.set_index('tweet_time')\n",
    "B = A.to_period('M').groupby('tweet_time').count()"
   ]
  },
  {
   "cell_type": "code",
   "execution_count": 164,
   "metadata": {
    "scrolled": false
   },
   "outputs": [
    {
     "name": "stdout",
     "output_type": "stream",
     "text": [
      "109 109\n"
     ]
    },
    {
     "data": {
      "image/png": "[encoded data removed]",
      "text/plain": [
       "<Figure size 864x432 with 1 Axes>"
      ]
     },
     "metadata": {},
     "output_type": "display_data"
    }
   ],
   "source": [
    "fig = plt.figure(figsize=(12, 6))\n",
    "# ax = fig.add_subplot(1, 1, 1)\n",
    "print(len(B.index), len(B['tweetid']))\n",
    "# B = B[B.index > \"2012-01\"]\n",
    "# plt.plot_date(B.index, B['tweetid'])\n",
    "ax = B['tweetid'].plot(style=\"--\", label=\"All languages\")\n",
    "B1['tweetid'].plot(ax=ax, label=\"Russian\", lw=2)\n",
    "B2['tweetid'].plot(ax=ax, label=\"English\", lw=3)\n",
    "\n",
    "plt.legend(fontsize=15)\n",
    "plt.xlabel('Date', fontsize=15)\n",
    "plt.ylabel('$N$ of posted tweets by IRA', fontsize=18)\n",
    "plt.xticks(fontsize=14); plt.yticks(fontsize=14)\n",
    "plt.savefig('fig/tweet_creation.pdf', dpi=300)\n",
    "plt.show()"
   ]
  },
  {
   "cell_type": "code",
   "execution_count": 150,
   "metadata": {},
   "outputs": [],
   "source": [
    "ru_tweets = tweets[tweets.tweet_language == \"ru\"]\n",
    "A1 = ru_tweets.set_index('tweet_time')\n",
    "B1 = A1.to_period('M').groupby('tweet_time').count()"
   ]
  },
  {
   "cell_type": "code",
   "execution_count": 151,
   "metadata": {},
   "outputs": [],
   "source": [
    "en_tweets = tweets[tweets.tweet_language == \"en\"]\n",
    "A2 = en_tweets.set_index('tweet_time')\n",
    "B2 = A2.to_period('M').groupby('tweet_time').count()"
   ]
  },
  {
   "cell_type": "code",
   "execution_count": 146,
   "metadata": {},
   "outputs": [
    {
     "name": "stdout",
     "output_type": "stream",
     "text": [
      "91 91\n"
     ]
    }
   ],
   "source": [
    "# plt.figure(figsize=(12, 6))\n",
    "print(len(B.index), len(B['tweetid']))\n",
    "# B = B[B.index > \"2012-01\"]\n",
    "# plt.plot_date(B.index, B['tweetid'])\n",
    "\n",
    "\n",
    "# plt.xlabel('Date', fontsize=15)\n",
    "# plt.ylabel('$N$ of posted (English) tweets by IRA', fontsize=15)\n",
    "# plt.xticks(fontsize=14); plt.yticks(fontsize=14)\n",
    "# plt.savefig('fig/en tweet_creation.pdf', dpi=300)\n",
    "plt.show()"
   ]
  },
  {
   "cell_type": "markdown",
   "metadata": {},
   "source": [
    "## Overlap of Ruaasian and English (language)"
   ]
  },
  {
   "cell_type": "code",
   "execution_count": 4,
   "metadata": {},
   "outputs": [
    {
     "data": {
      "application/vnd.jupyter.widget-view+json": {
       "model_id": "bb2f99129eb2463ab0129ab3a3916603",
       "version_major": 2,
       "version_minor": 0
      },
      "text/plain": [
       "HBox(children=(IntProgress(value=1, bar_style='info', max=1), HTML(value='')))"
      ]
     },
     "metadata": {},
     "output_type": "display_data"
    },
    {
     "name": "stdout",
     "output_type": "stream",
     "text": [
      "\n"
     ]
    }
   ],
   "source": [
    "users_lang = {}\n",
    "\n",
    "for i, row in tqdm(tweets.iterrows()):\n",
    "    uid = row.userid\n",
    "    if uid not in users_lang:\n",
    "        users_lang[uid] = {}\n",
    "    if row.tweet_language not in users_lang[uid]:\n",
    "        users_lang[uid][row.tweet_language] = 0\n",
    "    users_lang[uid][row.tweet_language] += 1"
   ]
  },
  {
   "cell_type": "code",
   "execution_count": 14,
   "metadata": {},
   "outputs": [],
   "source": [
    "prop_en = []\n",
    "\n",
    "for u, v in users_lang.items():\n",
    "    # print(v)\n",
    "    if \"und\" in v:\n",
    "        del v[\"und\"]\n",
    "    if \"en\" in v:\n",
    "        en = v[\"en\"]\n",
    "    else:\n",
    "        en = 0\n",
    "    if \"ru\" in v:\n",
    "        ru = v[\"ru\"]\n",
    "    else:\n",
    "        ru = 0\n",
    "    _s = en + ru\n",
    "    if _s > 0:\n",
    "        prop_en.append(en / _s)"
   ]
  },
  {
   "cell_type": "code",
   "execution_count": 15,
   "metadata": {},
   "outputs": [],
   "source": [
    "prop_en = pd.Series(prop_en)"
   ]
  },
  {
   "cell_type": "code",
   "execution_count": 16,
   "metadata": {},
   "outputs": [
    {
     "data": {
      "text/plain": [
       "count    3586.000000\n",
       "mean        0.615023\n",
       "std         0.480596\n",
       "min         0.000000\n",
       "25%         0.003707\n",
       "50%         1.000000\n",
       "75%         1.000000\n",
       "max         1.000000\n",
       "dtype: float64"
      ]
     },
     "execution_count": 16,
     "metadata": {},
     "output_type": "execute_result"
    }
   ],
   "source": [
    "prop_en.describe()"
   ]
  },
  {
   "cell_type": "code",
   "execution_count": 57,
   "metadata": {},
   "outputs": [
    {
     "data": {
      "text/plain": [
       "0.5722253206915784"
      ]
     },
     "execution_count": 57,
     "metadata": {},
     "output_type": "execute_result"
    }
   ],
   "source": [
    "len(prop_en[prop_en == 1]) / len(prop_en)"
   ]
  },
  {
   "cell_type": "code",
   "execution_count": 52,
   "metadata": {},
   "outputs": [
    {
     "data": {
      "text/plain": [
       "1373"
      ]
     },
     "execution_count": 52,
     "metadata": {},
     "output_type": "execute_result"
    }
   ],
   "source": [
    "len(prop_en[prop_en <= 0.1])"
   ]
  },
  {
   "cell_type": "code",
   "execution_count": 44,
   "metadata": {},
   "outputs": [
    {
     "data": {
      "text/plain": [
       "2052"
      ]
     },
     "execution_count": 44,
     "metadata": {},
     "output_type": "execute_result"
    }
   ],
   "source": [
    "len(prop_en[prop_en == 1])"
   ]
  },
  {
   "cell_type": "code",
   "execution_count": 67,
   "metadata": {},
   "outputs": [
    {
     "data": {
      "image/png": "[encoded data removed]",
      "text/plain": [
       "<Figure size 432x432 with 1 Axes>"
      ]
     },
     "metadata": {},
     "output_type": "display_data"
    }
   ],
   "source": [
    "plt.figure(figsize=(6, 6))\n",
    "prop_en.hist(bins=20)\n",
    "plt.xlabel(\"$Nt_{E} / (Nt_{E} + Nt_{R})$ per user\")\n",
    "plt.ylabel(\"Number of users\")\n",
    "plt.savefig(\"fig/overlap.pdf\", dpi=300)"
   ]
  },
  {
   "cell_type": "code",
   "execution_count": 27,
   "metadata": {},
   "outputs": [],
   "source": [
    "_users_lang = []\n",
    "\n",
    "for u, v in users_lang.items():\n",
    "    v[\"userid\"] = u\n",
    "    _users_lang.append(v)"
   ]
  },
  {
   "cell_type": "code",
   "execution_count": 31,
   "metadata": {},
   "outputs": [],
   "source": [
    "_users_lang = pd.DataFrame(_users_lang).set_index(\"userid\")"
   ]
  },
  {
   "cell_type": "code",
   "execution_count": 37,
   "metadata": {},
   "outputs": [
    {
     "data": {
      "text/html": [
       "<div>\n",
       "<style scoped>\n",
       "    .dataframe tbody tr th:only-of-type {\n",
       "        vertical-align: middle;\n",
       "    }\n",
       "\n",
       "    .dataframe tbody tr th {\n",
       "        vertical-align: top;\n",
       "    }\n",
       "\n",
       "    .dataframe thead th {\n",
       "        text-align: right;\n",
       "    }\n",
       "</style>\n",
       "<table border=\"1\" class=\"dataframe\">\n",
       "  <thead>\n",
       "    <tr style=\"text-align: right;\">\n",
       "      <th></th>\n",
       "      <th>bg</th>\n",
       "      <th>de</th>\n",
       "      <th>en</th>\n",
       "      <th>es</th>\n",
       "      <th>fr</th>\n",
       "      <th>in</th>\n",
       "      <th>lt</th>\n",
       "      <th>lv</th>\n",
       "      <th>ro</th>\n",
       "      <th>ru</th>\n",
       "      <th>...</th>\n",
       "      <th>ne</th>\n",
       "      <th>th</th>\n",
       "      <th>ps</th>\n",
       "      <th>mr</th>\n",
       "      <th>ta</th>\n",
       "      <th>ug</th>\n",
       "      <th>ml</th>\n",
       "      <th>iu</th>\n",
       "      <th>bn</th>\n",
       "      <th>km</th>\n",
       "    </tr>\n",
       "    <tr>\n",
       "      <th>userid</th>\n",
       "      <th></th>\n",
       "      <th></th>\n",
       "      <th></th>\n",
       "      <th></th>\n",
       "      <th></th>\n",
       "      <th></th>\n",
       "      <th></th>\n",
       "      <th></th>\n",
       "      <th></th>\n",
       "      <th></th>\n",
       "      <th></th>\n",
       "      <th></th>\n",
       "      <th></th>\n",
       "      <th></th>\n",
       "      <th></th>\n",
       "      <th></th>\n",
       "      <th></th>\n",
       "      <th></th>\n",
       "      <th></th>\n",
       "      <th></th>\n",
       "      <th></th>\n",
       "    </tr>\n",
       "  </thead>\n",
       "  <tbody>\n",
       "    <tr>\n",
       "      <th>2570574680</th>\n",
       "      <td>536.0</td>\n",
       "      <td>NaN</td>\n",
       "      <td>3.0</td>\n",
       "      <td>NaN</td>\n",
       "      <td>NaN</td>\n",
       "      <td>NaN</td>\n",
       "      <td>NaN</td>\n",
       "      <td>NaN</td>\n",
       "      <td>NaN</td>\n",
       "      <td>93501.0</td>\n",
       "      <td>...</td>\n",
       "      <td>NaN</td>\n",
       "      <td>NaN</td>\n",
       "      <td>NaN</td>\n",
       "      <td>NaN</td>\n",
       "      <td>NaN</td>\n",
       "      <td>NaN</td>\n",
       "      <td>NaN</td>\n",
       "      <td>NaN</td>\n",
       "      <td>NaN</td>\n",
       "      <td>NaN</td>\n",
       "    </tr>\n",
       "    <tr>\n",
       "      <th>12b274fba679f8086a549a0f7be3b4de58e3d5d627ec6a5b34addd7bdbf257b3</th>\n",
       "      <td>247.0</td>\n",
       "      <td>NaN</td>\n",
       "      <td>1.0</td>\n",
       "      <td>NaN</td>\n",
       "      <td>NaN</td>\n",
       "      <td>NaN</td>\n",
       "      <td>NaN</td>\n",
       "      <td>NaN</td>\n",
       "      <td>1.0</td>\n",
       "      <td>49437.0</td>\n",
       "      <td>...</td>\n",
       "      <td>NaN</td>\n",
       "      <td>NaN</td>\n",
       "      <td>NaN</td>\n",
       "      <td>NaN</td>\n",
       "      <td>NaN</td>\n",
       "      <td>NaN</td>\n",
       "      <td>NaN</td>\n",
       "      <td>NaN</td>\n",
       "      <td>NaN</td>\n",
       "      <td>NaN</td>\n",
       "    </tr>\n",
       "    <tr>\n",
       "      <th>c6fdb5b31b765db7e3378b1e23b86ea2b0eb3c03e8db56a78a570bfe87200c8e</th>\n",
       "      <td>1262.0</td>\n",
       "      <td>8.0</td>\n",
       "      <td>431.0</td>\n",
       "      <td>16.0</td>\n",
       "      <td>16.0</td>\n",
       "      <td>12.0</td>\n",
       "      <td>38.0</td>\n",
       "      <td>3.0</td>\n",
       "      <td>8.0</td>\n",
       "      <td>49286.0</td>\n",
       "      <td>...</td>\n",
       "      <td>NaN</td>\n",
       "      <td>3.0</td>\n",
       "      <td>NaN</td>\n",
       "      <td>NaN</td>\n",
       "      <td>NaN</td>\n",
       "      <td>NaN</td>\n",
       "      <td>NaN</td>\n",
       "      <td>NaN</td>\n",
       "      <td>NaN</td>\n",
       "      <td>NaN</td>\n",
       "    </tr>\n",
       "    <tr>\n",
       "      <th>3369109175</th>\n",
       "      <td>344.0</td>\n",
       "      <td>NaN</td>\n",
       "      <td>NaN</td>\n",
       "      <td>NaN</td>\n",
       "      <td>1.0</td>\n",
       "      <td>NaN</td>\n",
       "      <td>NaN</td>\n",
       "      <td>NaN</td>\n",
       "      <td>1.0</td>\n",
       "      <td>45399.0</td>\n",
       "      <td>...</td>\n",
       "      <td>NaN</td>\n",
       "      <td>NaN</td>\n",
       "      <td>NaN</td>\n",
       "      <td>NaN</td>\n",
       "      <td>NaN</td>\n",
       "      <td>NaN</td>\n",
       "      <td>NaN</td>\n",
       "      <td>NaN</td>\n",
       "      <td>NaN</td>\n",
       "      <td>NaN</td>\n",
       "    </tr>\n",
       "    <tr>\n",
       "      <th>1930747698</th>\n",
       "      <td>224.0</td>\n",
       "      <td>NaN</td>\n",
       "      <td>NaN</td>\n",
       "      <td>NaN</td>\n",
       "      <td>NaN</td>\n",
       "      <td>NaN</td>\n",
       "      <td>NaN</td>\n",
       "      <td>NaN</td>\n",
       "      <td>NaN</td>\n",
       "      <td>37729.0</td>\n",
       "      <td>...</td>\n",
       "      <td>NaN</td>\n",
       "      <td>NaN</td>\n",
       "      <td>NaN</td>\n",
       "      <td>NaN</td>\n",
       "      <td>NaN</td>\n",
       "      <td>NaN</td>\n",
       "      <td>NaN</td>\n",
       "      <td>NaN</td>\n",
       "      <td>NaN</td>\n",
       "      <td>NaN</td>\n",
       "    </tr>\n",
       "    <tr>\n",
       "      <th>508761973</th>\n",
       "      <td>370.0</td>\n",
       "      <td>4.0</td>\n",
       "      <td>36.0</td>\n",
       "      <td>1.0</td>\n",
       "      <td>2.0</td>\n",
       "      <td>2.0</td>\n",
       "      <td>9.0</td>\n",
       "      <td>NaN</td>\n",
       "      <td>NaN</td>\n",
       "      <td>35479.0</td>\n",
       "      <td>...</td>\n",
       "      <td>NaN</td>\n",
       "      <td>NaN</td>\n",
       "      <td>NaN</td>\n",
       "      <td>NaN</td>\n",
       "      <td>NaN</td>\n",
       "      <td>NaN</td>\n",
       "      <td>NaN</td>\n",
       "      <td>NaN</td>\n",
       "      <td>NaN</td>\n",
       "      <td>NaN</td>\n",
       "    </tr>\n",
       "    <tr>\n",
       "      <th>2808833544</th>\n",
       "      <td>422.0</td>\n",
       "      <td>2.0</td>\n",
       "      <td>150.0</td>\n",
       "      <td>3.0</td>\n",
       "      <td>3.0</td>\n",
       "      <td>2.0</td>\n",
       "      <td>NaN</td>\n",
       "      <td>1.0</td>\n",
       "      <td>NaN</td>\n",
       "      <td>29366.0</td>\n",
       "      <td>...</td>\n",
       "      <td>NaN</td>\n",
       "      <td>NaN</td>\n",
       "      <td>NaN</td>\n",
       "      <td>NaN</td>\n",
       "      <td>NaN</td>\n",
       "      <td>NaN</td>\n",
       "      <td>NaN</td>\n",
       "      <td>NaN</td>\n",
       "      <td>NaN</td>\n",
       "      <td>NaN</td>\n",
       "    </tr>\n",
       "    <tr>\n",
       "      <th>1240007161</th>\n",
       "      <td>268.0</td>\n",
       "      <td>9.0</td>\n",
       "      <td>136.0</td>\n",
       "      <td>4.0</td>\n",
       "      <td>14.0</td>\n",
       "      <td>1.0</td>\n",
       "      <td>NaN</td>\n",
       "      <td>NaN</td>\n",
       "      <td>NaN</td>\n",
       "      <td>28652.0</td>\n",
       "      <td>...</td>\n",
       "      <td>NaN</td>\n",
       "      <td>NaN</td>\n",
       "      <td>NaN</td>\n",
       "      <td>NaN</td>\n",
       "      <td>NaN</td>\n",
       "      <td>NaN</td>\n",
       "      <td>NaN</td>\n",
       "      <td>NaN</td>\n",
       "      <td>NaN</td>\n",
       "      <td>NaN</td>\n",
       "    </tr>\n",
       "    <tr>\n",
       "      <th>d2857a1f930016f6118ec3d00058b9ff687b54e49a85cf3c35042e36dab56c51</th>\n",
       "      <td>492.0</td>\n",
       "      <td>16.0</td>\n",
       "      <td>331.0</td>\n",
       "      <td>12.0</td>\n",
       "      <td>11.0</td>\n",
       "      <td>1.0</td>\n",
       "      <td>23.0</td>\n",
       "      <td>1.0</td>\n",
       "      <td>5.0</td>\n",
       "      <td>27263.0</td>\n",
       "      <td>...</td>\n",
       "      <td>NaN</td>\n",
       "      <td>NaN</td>\n",
       "      <td>NaN</td>\n",
       "      <td>NaN</td>\n",
       "      <td>NaN</td>\n",
       "      <td>NaN</td>\n",
       "      <td>NaN</td>\n",
       "      <td>NaN</td>\n",
       "      <td>NaN</td>\n",
       "      <td>NaN</td>\n",
       "    </tr>\n",
       "    <tr>\n",
       "      <th>3f7b3d0bcb5d86a1e1fb004c550019f098573be38723eb46af2e8f868c349425</th>\n",
       "      <td>164.0</td>\n",
       "      <td>NaN</td>\n",
       "      <td>1.0</td>\n",
       "      <td>NaN</td>\n",
       "      <td>NaN</td>\n",
       "      <td>NaN</td>\n",
       "      <td>NaN</td>\n",
       "      <td>NaN</td>\n",
       "      <td>NaN</td>\n",
       "      <td>27075.0</td>\n",
       "      <td>...</td>\n",
       "      <td>NaN</td>\n",
       "      <td>NaN</td>\n",
       "      <td>NaN</td>\n",
       "      <td>NaN</td>\n",
       "      <td>NaN</td>\n",
       "      <td>NaN</td>\n",
       "      <td>NaN</td>\n",
       "      <td>NaN</td>\n",
       "      <td>NaN</td>\n",
       "      <td>NaN</td>\n",
       "    </tr>\n",
       "  </tbody>\n",
       "</table>\n",
       "<p>10 rows × 58 columns</p>\n",
       "</div>"
      ],
      "text/plain": [
       "                                                        bg    de     en    es  \\\n",
       "userid                                                                          \n",
       "2570574680                                           536.0   NaN    3.0   NaN   \n",
       "12b274fba679f8086a549a0f7be3b4de58e3d5d627ec6a5...   247.0   NaN    1.0   NaN   \n",
       "c6fdb5b31b765db7e3378b1e23b86ea2b0eb3c03e8db56a...  1262.0   8.0  431.0  16.0   \n",
       "3369109175                                           344.0   NaN    NaN   NaN   \n",
       "1930747698                                           224.0   NaN    NaN   NaN   \n",
       "508761973                                            370.0   4.0   36.0   1.0   \n",
       "2808833544                                           422.0   2.0  150.0   3.0   \n",
       "1240007161                                           268.0   9.0  136.0   4.0   \n",
       "d2857a1f930016f6118ec3d00058b9ff687b54e49a85cf3...   492.0  16.0  331.0  12.0   \n",
       "3f7b3d0bcb5d86a1e1fb004c550019f098573be38723eb4...   164.0   NaN    1.0   NaN   \n",
       "\n",
       "                                                      fr    in    lt   lv  \\\n",
       "userid                                                                      \n",
       "2570574680                                           NaN   NaN   NaN  NaN   \n",
       "12b274fba679f8086a549a0f7be3b4de58e3d5d627ec6a5...   NaN   NaN   NaN  NaN   \n",
       "c6fdb5b31b765db7e3378b1e23b86ea2b0eb3c03e8db56a...  16.0  12.0  38.0  3.0   \n",
       "3369109175                                           1.0   NaN   NaN  NaN   \n",
       "1930747698                                           NaN   NaN   NaN  NaN   \n",
       "508761973                                            2.0   2.0   9.0  NaN   \n",
       "2808833544                                           3.0   2.0   NaN  1.0   \n",
       "1240007161                                          14.0   1.0   NaN  NaN   \n",
       "d2857a1f930016f6118ec3d00058b9ff687b54e49a85cf3...  11.0   1.0  23.0  1.0   \n",
       "3f7b3d0bcb5d86a1e1fb004c550019f098573be38723eb4...   NaN   NaN   NaN  NaN   \n",
       "\n",
       "                                                     ro       ru  ...  ne  \\\n",
       "userid                                                            ...       \n",
       "2570574680                                          NaN  93501.0  ... NaN   \n",
       "12b274fba679f8086a549a0f7be3b4de58e3d5d627ec6a5...  1.0  49437.0  ... NaN   \n",
       "c6fdb5b31b765db7e3378b1e23b86ea2b0eb3c03e8db56a...  8.0  49286.0  ... NaN   \n",
       "3369109175                                          1.0  45399.0  ... NaN   \n",
       "1930747698                                          NaN  37729.0  ... NaN   \n",
       "508761973                                           NaN  35479.0  ... NaN   \n",
       "2808833544                                          NaN  29366.0  ... NaN   \n",
       "1240007161                                          NaN  28652.0  ... NaN   \n",
       "d2857a1f930016f6118ec3d00058b9ff687b54e49a85cf3...  5.0  27263.0  ... NaN   \n",
       "3f7b3d0bcb5d86a1e1fb004c550019f098573be38723eb4...  NaN  27075.0  ... NaN   \n",
       "\n",
       "                                                     th  ps  mr  ta  ug  ml  \\\n",
       "userid                                                                        \n",
       "2570574680                                          NaN NaN NaN NaN NaN NaN   \n",
       "12b274fba679f8086a549a0f7be3b4de58e3d5d627ec6a5...  NaN NaN NaN NaN NaN NaN   \n",
       "c6fdb5b31b765db7e3378b1e23b86ea2b0eb3c03e8db56a...  3.0 NaN NaN NaN NaN NaN   \n",
       "3369109175                                          NaN NaN NaN NaN NaN NaN   \n",
       "1930747698                                          NaN NaN NaN NaN NaN NaN   \n",
       "508761973                                           NaN NaN NaN NaN NaN NaN   \n",
       "2808833544                                          NaN NaN NaN NaN NaN NaN   \n",
       "1240007161                                          NaN NaN NaN NaN NaN NaN   \n",
       "d2857a1f930016f6118ec3d00058b9ff687b54e49a85cf3...  NaN NaN NaN NaN NaN NaN   \n",
       "3f7b3d0bcb5d86a1e1fb004c550019f098573be38723eb4...  NaN NaN NaN NaN NaN NaN   \n",
       "\n",
       "                                                    iu  bn  km  \n",
       "userid                                                          \n",
       "2570574680                                         NaN NaN NaN  \n",
       "12b274fba679f8086a549a0f7be3b4de58e3d5d627ec6a5... NaN NaN NaN  \n",
       "c6fdb5b31b765db7e3378b1e23b86ea2b0eb3c03e8db56a... NaN NaN NaN  \n",
       "3369109175                                         NaN NaN NaN  \n",
       "1930747698                                         NaN NaN NaN  \n",
       "508761973                                          NaN NaN NaN  \n",
       "2808833544                                         NaN NaN NaN  \n",
       "1240007161                                         NaN NaN NaN  \n",
       "d2857a1f930016f6118ec3d00058b9ff687b54e49a85cf3... NaN NaN NaN  \n",
       "3f7b3d0bcb5d86a1e1fb004c550019f098573be38723eb4... NaN NaN NaN  \n",
       "\n",
       "[10 rows x 58 columns]"
      ]
     },
     "execution_count": 37,
     "metadata": {},
     "output_type": "execute_result"
    }
   ],
   "source": [
    "_users_lang.sort_values(\"ru\", ascending=False).head(10)"
   ]
  },
  {
   "cell_type": "code",
   "execution_count": 38,
   "metadata": {},
   "outputs": [
    {
     "data": {
      "text/html": [
       "<div>\n",
       "<style scoped>\n",
       "    .dataframe tbody tr th:only-of-type {\n",
       "        vertical-align: middle;\n",
       "    }\n",
       "\n",
       "    .dataframe tbody tr th {\n",
       "        vertical-align: top;\n",
       "    }\n",
       "\n",
       "    .dataframe thead th {\n",
       "        text-align: right;\n",
       "    }\n",
       "</style>\n",
       "<table border=\"1\" class=\"dataframe\">\n",
       "  <thead>\n",
       "    <tr style=\"text-align: right;\">\n",
       "      <th></th>\n",
       "      <th>bg</th>\n",
       "      <th>de</th>\n",
       "      <th>en</th>\n",
       "      <th>es</th>\n",
       "      <th>fr</th>\n",
       "      <th>in</th>\n",
       "      <th>lt</th>\n",
       "      <th>lv</th>\n",
       "      <th>ro</th>\n",
       "      <th>ru</th>\n",
       "      <th>...</th>\n",
       "      <th>ne</th>\n",
       "      <th>th</th>\n",
       "      <th>ps</th>\n",
       "      <th>mr</th>\n",
       "      <th>ta</th>\n",
       "      <th>ug</th>\n",
       "      <th>ml</th>\n",
       "      <th>iu</th>\n",
       "      <th>bn</th>\n",
       "      <th>km</th>\n",
       "    </tr>\n",
       "    <tr>\n",
       "      <th>userid</th>\n",
       "      <th></th>\n",
       "      <th></th>\n",
       "      <th></th>\n",
       "      <th></th>\n",
       "      <th></th>\n",
       "      <th></th>\n",
       "      <th></th>\n",
       "      <th></th>\n",
       "      <th></th>\n",
       "      <th></th>\n",
       "      <th></th>\n",
       "      <th></th>\n",
       "      <th></th>\n",
       "      <th></th>\n",
       "      <th></th>\n",
       "      <th></th>\n",
       "      <th></th>\n",
       "      <th></th>\n",
       "      <th></th>\n",
       "      <th></th>\n",
       "      <th></th>\n",
       "    </tr>\n",
       "  </thead>\n",
       "  <tbody>\n",
       "    <tr>\n",
       "      <th>a95a911dd6ae864c48ed062cdbe75e5c28dbe0cf57c6db3fa9dd53b654ee9845</th>\n",
       "      <td>NaN</td>\n",
       "      <td>107.0</td>\n",
       "      <td>133315.0</td>\n",
       "      <td>254.0</td>\n",
       "      <td>229.0</td>\n",
       "      <td>150.0</td>\n",
       "      <td>14.0</td>\n",
       "      <td>6.0</td>\n",
       "      <td>283.0</td>\n",
       "      <td>3.0</td>\n",
       "      <td>...</td>\n",
       "      <td>NaN</td>\n",
       "      <td>NaN</td>\n",
       "      <td>NaN</td>\n",
       "      <td>NaN</td>\n",
       "      <td>NaN</td>\n",
       "      <td>NaN</td>\n",
       "      <td>NaN</td>\n",
       "      <td>NaN</td>\n",
       "      <td>NaN</td>\n",
       "      <td>NaN</td>\n",
       "    </tr>\n",
       "    <tr>\n",
       "      <th>2752677905</th>\n",
       "      <td>NaN</td>\n",
       "      <td>64.0</td>\n",
       "      <td>58630.0</td>\n",
       "      <td>94.0</td>\n",
       "      <td>113.0</td>\n",
       "      <td>44.0</td>\n",
       "      <td>NaN</td>\n",
       "      <td>NaN</td>\n",
       "      <td>32.0</td>\n",
       "      <td>NaN</td>\n",
       "      <td>...</td>\n",
       "      <td>NaN</td>\n",
       "      <td>NaN</td>\n",
       "      <td>NaN</td>\n",
       "      <td>NaN</td>\n",
       "      <td>NaN</td>\n",
       "      <td>NaN</td>\n",
       "      <td>NaN</td>\n",
       "      <td>NaN</td>\n",
       "      <td>NaN</td>\n",
       "      <td>NaN</td>\n",
       "    </tr>\n",
       "    <tr>\n",
       "      <th>2547141851</th>\n",
       "      <td>NaN</td>\n",
       "      <td>75.0</td>\n",
       "      <td>53071.0</td>\n",
       "      <td>90.0</td>\n",
       "      <td>135.0</td>\n",
       "      <td>28.0</td>\n",
       "      <td>3.0</td>\n",
       "      <td>NaN</td>\n",
       "      <td>30.0</td>\n",
       "      <td>NaN</td>\n",
       "      <td>...</td>\n",
       "      <td>NaN</td>\n",
       "      <td>NaN</td>\n",
       "      <td>NaN</td>\n",
       "      <td>NaN</td>\n",
       "      <td>NaN</td>\n",
       "      <td>NaN</td>\n",
       "      <td>NaN</td>\n",
       "      <td>NaN</td>\n",
       "      <td>NaN</td>\n",
       "      <td>NaN</td>\n",
       "    </tr>\n",
       "    <tr>\n",
       "      <th>2587843805</th>\n",
       "      <td>NaN</td>\n",
       "      <td>129.0</td>\n",
       "      <td>51648.0</td>\n",
       "      <td>148.0</td>\n",
       "      <td>147.0</td>\n",
       "      <td>68.0</td>\n",
       "      <td>16.0</td>\n",
       "      <td>3.0</td>\n",
       "      <td>40.0</td>\n",
       "      <td>NaN</td>\n",
       "      <td>...</td>\n",
       "      <td>NaN</td>\n",
       "      <td>NaN</td>\n",
       "      <td>NaN</td>\n",
       "      <td>NaN</td>\n",
       "      <td>NaN</td>\n",
       "      <td>NaN</td>\n",
       "      <td>NaN</td>\n",
       "      <td>NaN</td>\n",
       "      <td>NaN</td>\n",
       "      <td>NaN</td>\n",
       "    </tr>\n",
       "    <tr>\n",
       "      <th>2943515140</th>\n",
       "      <td>NaN</td>\n",
       "      <td>46.0</td>\n",
       "      <td>45947.0</td>\n",
       "      <td>149.0</td>\n",
       "      <td>115.0</td>\n",
       "      <td>48.0</td>\n",
       "      <td>1.0</td>\n",
       "      <td>1.0</td>\n",
       "      <td>86.0</td>\n",
       "      <td>NaN</td>\n",
       "      <td>...</td>\n",
       "      <td>NaN</td>\n",
       "      <td>NaN</td>\n",
       "      <td>NaN</td>\n",
       "      <td>NaN</td>\n",
       "      <td>NaN</td>\n",
       "      <td>NaN</td>\n",
       "      <td>NaN</td>\n",
       "      <td>NaN</td>\n",
       "      <td>NaN</td>\n",
       "      <td>NaN</td>\n",
       "    </tr>\n",
       "    <tr>\n",
       "      <th>2530830345</th>\n",
       "      <td>NaN</td>\n",
       "      <td>72.0</td>\n",
       "      <td>45894.0</td>\n",
       "      <td>56.0</td>\n",
       "      <td>163.0</td>\n",
       "      <td>58.0</td>\n",
       "      <td>22.0</td>\n",
       "      <td>10.0</td>\n",
       "      <td>23.0</td>\n",
       "      <td>NaN</td>\n",
       "      <td>...</td>\n",
       "      <td>NaN</td>\n",
       "      <td>NaN</td>\n",
       "      <td>NaN</td>\n",
       "      <td>NaN</td>\n",
       "      <td>NaN</td>\n",
       "      <td>NaN</td>\n",
       "      <td>NaN</td>\n",
       "      <td>NaN</td>\n",
       "      <td>NaN</td>\n",
       "      <td>NaN</td>\n",
       "    </tr>\n",
       "    <tr>\n",
       "      <th>2495567768</th>\n",
       "      <td>NaN</td>\n",
       "      <td>60.0</td>\n",
       "      <td>44711.0</td>\n",
       "      <td>127.0</td>\n",
       "      <td>93.0</td>\n",
       "      <td>24.0</td>\n",
       "      <td>3.0</td>\n",
       "      <td>NaN</td>\n",
       "      <td>37.0</td>\n",
       "      <td>NaN</td>\n",
       "      <td>...</td>\n",
       "      <td>NaN</td>\n",
       "      <td>NaN</td>\n",
       "      <td>NaN</td>\n",
       "      <td>NaN</td>\n",
       "      <td>NaN</td>\n",
       "      <td>NaN</td>\n",
       "      <td>NaN</td>\n",
       "      <td>NaN</td>\n",
       "      <td>NaN</td>\n",
       "      <td>NaN</td>\n",
       "    </tr>\n",
       "    <tr>\n",
       "      <th>7ca1009005708b6f4c4d25c1013ee0d5822494efc7a811000b62ee893e4d9855</th>\n",
       "      <td>NaN</td>\n",
       "      <td>1105.0</td>\n",
       "      <td>44410.0</td>\n",
       "      <td>766.0</td>\n",
       "      <td>753.0</td>\n",
       "      <td>2561.0</td>\n",
       "      <td>115.0</td>\n",
       "      <td>34.0</td>\n",
       "      <td>346.0</td>\n",
       "      <td>1.0</td>\n",
       "      <td>...</td>\n",
       "      <td>1.0</td>\n",
       "      <td>1.0</td>\n",
       "      <td>NaN</td>\n",
       "      <td>1.0</td>\n",
       "      <td>2.0</td>\n",
       "      <td>1.0</td>\n",
       "      <td>NaN</td>\n",
       "      <td>NaN</td>\n",
       "      <td>NaN</td>\n",
       "      <td>NaN</td>\n",
       "    </tr>\n",
       "    <tr>\n",
       "      <th>cc19cd3fba790e5aa198cc54d51c6fc7fa022d16ffdaf8a36975fb219ae19ba6</th>\n",
       "      <td>NaN</td>\n",
       "      <td>52.0</td>\n",
       "      <td>35016.0</td>\n",
       "      <td>81.0</td>\n",
       "      <td>109.0</td>\n",
       "      <td>29.0</td>\n",
       "      <td>NaN</td>\n",
       "      <td>NaN</td>\n",
       "      <td>63.0</td>\n",
       "      <td>NaN</td>\n",
       "      <td>...</td>\n",
       "      <td>NaN</td>\n",
       "      <td>NaN</td>\n",
       "      <td>NaN</td>\n",
       "      <td>NaN</td>\n",
       "      <td>NaN</td>\n",
       "      <td>NaN</td>\n",
       "      <td>NaN</td>\n",
       "      <td>NaN</td>\n",
       "      <td>NaN</td>\n",
       "      <td>NaN</td>\n",
       "    </tr>\n",
       "    <tr>\n",
       "      <th>cfb0d237487ebe3520cb83bd82df903c9c7afd5a60acba8a3576bc3ca9346467</th>\n",
       "      <td>1.0</td>\n",
       "      <td>110.0</td>\n",
       "      <td>34251.0</td>\n",
       "      <td>125.0</td>\n",
       "      <td>443.0</td>\n",
       "      <td>47.0</td>\n",
       "      <td>4.0</td>\n",
       "      <td>8.0</td>\n",
       "      <td>31.0</td>\n",
       "      <td>6.0</td>\n",
       "      <td>...</td>\n",
       "      <td>NaN</td>\n",
       "      <td>NaN</td>\n",
       "      <td>NaN</td>\n",
       "      <td>NaN</td>\n",
       "      <td>NaN</td>\n",
       "      <td>NaN</td>\n",
       "      <td>NaN</td>\n",
       "      <td>NaN</td>\n",
       "      <td>NaN</td>\n",
       "      <td>NaN</td>\n",
       "    </tr>\n",
       "  </tbody>\n",
       "</table>\n",
       "<p>10 rows × 58 columns</p>\n",
       "</div>"
      ],
      "text/plain": [
       "                                                     bg      de        en  \\\n",
       "userid                                                                      \n",
       "a95a911dd6ae864c48ed062cdbe75e5c28dbe0cf57c6db3...  NaN   107.0  133315.0   \n",
       "2752677905                                          NaN    64.0   58630.0   \n",
       "2547141851                                          NaN    75.0   53071.0   \n",
       "2587843805                                          NaN   129.0   51648.0   \n",
       "2943515140                                          NaN    46.0   45947.0   \n",
       "2530830345                                          NaN    72.0   45894.0   \n",
       "2495567768                                          NaN    60.0   44711.0   \n",
       "7ca1009005708b6f4c4d25c1013ee0d5822494efc7a8110...  NaN  1105.0   44410.0   \n",
       "cc19cd3fba790e5aa198cc54d51c6fc7fa022d16ffdaf8a...  NaN    52.0   35016.0   \n",
       "cfb0d237487ebe3520cb83bd82df903c9c7afd5a60acba8...  1.0   110.0   34251.0   \n",
       "\n",
       "                                                       es     fr      in  \\\n",
       "userid                                                                     \n",
       "a95a911dd6ae864c48ed062cdbe75e5c28dbe0cf57c6db3...  254.0  229.0   150.0   \n",
       "2752677905                                           94.0  113.0    44.0   \n",
       "2547141851                                           90.0  135.0    28.0   \n",
       "2587843805                                          148.0  147.0    68.0   \n",
       "2943515140                                          149.0  115.0    48.0   \n",
       "2530830345                                           56.0  163.0    58.0   \n",
       "2495567768                                          127.0   93.0    24.0   \n",
       "7ca1009005708b6f4c4d25c1013ee0d5822494efc7a8110...  766.0  753.0  2561.0   \n",
       "cc19cd3fba790e5aa198cc54d51c6fc7fa022d16ffdaf8a...   81.0  109.0    29.0   \n",
       "cfb0d237487ebe3520cb83bd82df903c9c7afd5a60acba8...  125.0  443.0    47.0   \n",
       "\n",
       "                                                       lt    lv     ro   ru  \\\n",
       "userid                                                                        \n",
       "a95a911dd6ae864c48ed062cdbe75e5c28dbe0cf57c6db3...   14.0   6.0  283.0  3.0   \n",
       "2752677905                                            NaN   NaN   32.0  NaN   \n",
       "2547141851                                            3.0   NaN   30.0  NaN   \n",
       "2587843805                                           16.0   3.0   40.0  NaN   \n",
       "2943515140                                            1.0   1.0   86.0  NaN   \n",
       "2530830345                                           22.0  10.0   23.0  NaN   \n",
       "2495567768                                            3.0   NaN   37.0  NaN   \n",
       "7ca1009005708b6f4c4d25c1013ee0d5822494efc7a8110...  115.0  34.0  346.0  1.0   \n",
       "cc19cd3fba790e5aa198cc54d51c6fc7fa022d16ffdaf8a...    NaN   NaN   63.0  NaN   \n",
       "cfb0d237487ebe3520cb83bd82df903c9c7afd5a60acba8...    4.0   8.0   31.0  6.0   \n",
       "\n",
       "                                                    ...   ne   th  ps   mr  \\\n",
       "userid                                              ...                      \n",
       "a95a911dd6ae864c48ed062cdbe75e5c28dbe0cf57c6db3...  ...  NaN  NaN NaN  NaN   \n",
       "2752677905                                          ...  NaN  NaN NaN  NaN   \n",
       "2547141851                                          ...  NaN  NaN NaN  NaN   \n",
       "2587843805                                          ...  NaN  NaN NaN  NaN   \n",
       "2943515140                                          ...  NaN  NaN NaN  NaN   \n",
       "2530830345                                          ...  NaN  NaN NaN  NaN   \n",
       "2495567768                                          ...  NaN  NaN NaN  NaN   \n",
       "7ca1009005708b6f4c4d25c1013ee0d5822494efc7a8110...  ...  1.0  1.0 NaN  1.0   \n",
       "cc19cd3fba790e5aa198cc54d51c6fc7fa022d16ffdaf8a...  ...  NaN  NaN NaN  NaN   \n",
       "cfb0d237487ebe3520cb83bd82df903c9c7afd5a60acba8...  ...  NaN  NaN NaN  NaN   \n",
       "\n",
       "                                                     ta   ug  ml  iu  bn  km  \n",
       "userid                                                                        \n",
       "a95a911dd6ae864c48ed062cdbe75e5c28dbe0cf57c6db3...  NaN  NaN NaN NaN NaN NaN  \n",
       "2752677905                                          NaN  NaN NaN NaN NaN NaN  \n",
       "2547141851                                          NaN  NaN NaN NaN NaN NaN  \n",
       "2587843805                                          NaN  NaN NaN NaN NaN NaN  \n",
       "2943515140                                          NaN  NaN NaN NaN NaN NaN  \n",
       "2530830345                                          NaN  NaN NaN NaN NaN NaN  \n",
       "2495567768                                          NaN  NaN NaN NaN NaN NaN  \n",
       "7ca1009005708b6f4c4d25c1013ee0d5822494efc7a8110...  2.0  1.0 NaN NaN NaN NaN  \n",
       "cc19cd3fba790e5aa198cc54d51c6fc7fa022d16ffdaf8a...  NaN  NaN NaN NaN NaN NaN  \n",
       "cfb0d237487ebe3520cb83bd82df903c9c7afd5a60acba8...  NaN  NaN NaN NaN NaN NaN  \n",
       "\n",
       "[10 rows x 58 columns]"
      ]
     },
     "execution_count": 38,
     "metadata": {},
     "output_type": "execute_result"
    }
   ],
   "source": [
    "_users_lang.sort_values(\"en\", ascending=False).head(10)"
   ]
  },
  {
   "cell_type": "markdown",
   "metadata": {},
   "source": [
    "## URL analyse"
   ]
  },
  {
   "cell_type": "code",
   "execution_count": 54,
   "metadata": {},
   "outputs": [
    {
     "name": "stdout",
     "output_type": "stream",
     "text": [
      "http://ru-open.livejournal.com/374284.html\n",
      "http://pyypilg33.livejournal.com/11069.html\n",
      "https://www.youtube.com/watch?v=9GvpImWxTJc\n",
      "nan <class 'float'>\n",
      "https://goo.gl/fBp94X\n",
      "https://goo.gl/9w5hso\n",
      "http://nahnews.com.ua/180774-na-xarkovshhine-zaderzhali-furu-s-tonnami-poddelnoj-vodki/\n",
      "http://bit.ly/1Rizso9\n",
      "nan <class 'float'>\n",
      "http://vesti.ru/t?2686779\n",
      "nan <class 'float'>\n",
      "nan <class 'float'>\n",
      "nan <class 'float'>\n",
      "http://bit.ly/1PMZqPI\n",
      "http://bit.ly/1qYzyIL\n",
      "http://bit.ly/1TK58o0\n",
      "http://bit.ly/22rNBnQ\n",
      "http://bit.ly/1h8fA98\n",
      "http://bit.ly/1pjYCsY\n",
      "https://goo.gl/cxchK2\n"
     ]
    }
   ],
   "source": [
    "for url in tweets.urls.head(20):\n",
    "    try:\n",
    "        print(url[1:-1])\n",
    "    except:\n",
    "        print(url, type(url))"
   ]
  },
  {
   "cell_type": "code",
   "execution_count": 55,
   "metadata": {},
   "outputs": [
    {
     "data": {
      "text/plain": [
       "9041308"
      ]
     },
     "execution_count": 55,
     "metadata": {},
     "output_type": "execute_result"
    }
   ],
   "source": [
    "len(tweets)"
   ]
  },
  {
   "cell_type": "code",
   "execution_count": 258,
   "metadata": {},
   "outputs": [],
   "source": [
    "tweets = tweets[[\"tweetid\", \"userid\", \"urls\"]]"
   ]
  },
  {
   "cell_type": "code",
   "execution_count": 263,
   "metadata": {},
   "outputs": [
    {
     "data": {
      "application/vnd.jupyter.widget-view+json": {
       "model_id": "a6d5daef151b4f849e7a28b4134b9514",
       "version_major": 2,
       "version_minor": 0
      },
      "text/plain": [
       "HBox(children=(IntProgress(value=1, bar_style='info', max=1), HTML(value='')))"
      ]
     },
     "metadata": {},
     "output_type": "display_data"
    }
   ],
   "source": [
    "# from urllib.parse import urlparse\n",
    "# import requests\n",
    "\n",
    "with open(\"data/IRA-en-urls.json\", \"w\") as f:\n",
    "    for i, row in tqdm(tweets.iterrows()):\n",
    "        if not isinstance(row['urls'], str):\n",
    "            continue\n",
    "        elif row['urls'][1: -1] == '':\n",
    "            continue\n",
    "        else:\n",
    "            url = row['urls'][1: -1]\n",
    "            row.urls = url\n",
    "            f.write(json.dumps(dict(row)) + \"\\n\")"
   ]
  },
  {
   "cell_type": "code",
   "execution_count": 47,
   "metadata": {
    "scrolled": false
   },
   "outputs": [],
   "source": [
    "# build retweet networks\n",
    "\n",
    "userid_map = json.load(open(\"data/userid_mapping.json\"))\n",
    "G = nx.DiGraph()\n",
    "G.add_nodes_from(userid_map.values())\n",
    "# G.number_of_nodes()\n",
    "\n",
    "for i, row in tweets.iterrows():\n",
    "    if row[\"is_retweet\"]:\n",
    "        if row['retweet_userid'] in userid_map:\n",
    "            ret_userid = userid_map[row['retweet_userid']]\n",
    "            userid = userid_map[row['userid']]\n",
    "            if ret_userid != userid:\n",
    "                G.add_edge(ret_userid, userid)\n",
    "\n",
    "# save the network\n",
    "nx.readwrite.adjlist.write_adjlist(G, 'retweet_net_in_IRA.dat')"
   ]
  },
  {
   "cell_type": "code",
   "execution_count": 21,
   "metadata": {},
   "outputs": [],
   "source": [
    "G = nx.readwrite.adjlist.read_adjlist('retweet_net_in_IRA.dat')"
   ]
  },
  {
   "cell_type": "code",
   "execution_count": 48,
   "metadata": {},
   "outputs": [
    {
     "data": {
      "text/plain": [
       "3836"
      ]
     },
     "execution_count": 48,
     "metadata": {},
     "output_type": "execute_result"
    }
   ],
   "source": [
    "G.number_of_nodes()"
   ]
  },
  {
   "cell_type": "code",
   "execution_count": 49,
   "metadata": {},
   "outputs": [
    {
     "data": {
      "text/plain": [
       "168074"
      ]
     },
     "execution_count": 49,
     "metadata": {},
     "output_type": "execute_result"
    }
   ],
   "source": [
    "G.number_of_edges()"
   ]
  },
  {
   "cell_type": "code",
   "execution_count": null,
   "metadata": {
    "scrolled": false
   },
   "outputs": [],
   "source": [
    "plt.figure(figsize=(10, 6))\n",
    "\n",
    "degree = nx.degree_histogram(G)\n",
    "x = range(len(degree))                             \n",
    "y = [z / float(sum(degree)) for z in degree]  \n",
    "plt.loglog(x, y, linewidth=2)\n",
    "plt.xlabel('$Degree$', fontsize=15); plt.ylabel('$Distribution$', fontsize=15)\n",
    "plt.xticks(fontsize=14); plt.yticks(fontsize=14)\n",
    "plt.savefig('fig/degree_distribution.pdf', dpi=300)\n",
    "plt.show()\n",
    "\n",
    "d = dict(G.degree())\n",
    "n, de = 0, 0\n",
    "for k, v in d.items():\n",
    "    if v > de:\n",
    "        print(k, v)\n",
    "        n, de = k, v\n",
    "        \n",
    "userid_map = json.load(open(\"data/userid_mapping.json\"))\n",
    "userid_map[n]"
   ]
  },
  {
   "cell_type": "markdown",
   "metadata": {},
   "source": [
    "发现了一些匿名的用户的真实id，但是非常的少；\n",
    "\n",
    "位置：data/IRAs_be_found.json，仅仅命中了21857\n",
    "\n",
    "3836个用户中匿名有3669个；\n",
    "\n",
    "## 如何判断一个人是不是IRAs？\n",
    "\n",
    "所以我要创造一个UID of IRAs \n"
   ]
  },
  {
   "cell_type": "code",
   "execution_count": 5,
   "metadata": {},
   "outputs": [],
   "source": [
    "uids_of_IRA = set(json.load(open(\"data/IRA_match.json\")).values())"
   ]
  },
  {
   "cell_type": "code",
   "execution_count": 6,
   "metadata": {},
   "outputs": [],
   "source": [
    "# 看看IRAs在我fake news的数据中有哪些？\n",
    "\n",
    "IRA_tweet_ids = set()\n",
    "for line in open(\"data/IRAs_be_found.json\"):\n",
    "    d = json.loads(line)\n",
    "    IRA_tweet_ids.add(d[\"tweet_id\"])"
   ]
  },
  {
   "cell_type": "code",
   "execution_count": 7,
   "metadata": {},
   "outputs": [],
   "source": [
    "url_tweets = json.load(open(\"data/url_tweets.json\"))"
   ]
  },
  {
   "cell_type": "code",
   "execution_count": 8,
   "metadata": {},
   "outputs": [
    {
     "data": {
      "text/plain": [
       "{'url': 'http://ln.is/truthfeed.com/viral-/znh3p',\n",
       " 'tweets': [{'id': 796583343882207233,\n",
       "   'dt': '2016-11-10 00:20:43',\n",
       "   'origin': True,\n",
       "   'user_id': 124896632,\n",
       "   'IRA': False}]}"
      ]
     },
     "execution_count": 8,
     "metadata": {},
     "output_type": "execute_result"
    }
   ],
   "source": [
    "IRA_tweets = [] # 存在在fake news里面的\n",
    "\n",
    "cnt_0 = 0\n",
    "cnt_1 = 0\n",
    "cnt_2 = 0\n",
    "\n",
    "for i, fake in enumerate(url_tweets):\n",
    "#     print(i, fake)\n",
    "    for j, t in enumerate(fake[\"tweets\"]):\n",
    "        if t[\"id\"] in IRA_tweet_ids:\n",
    "            cnt_2 += 1\n",
    "            IRA_tweets.append(t[\"id\"])\n",
    "            url_tweets[i][\"tweets\"][j][\"IRA\"] = True\n",
    "            if t[\"origin\"]:\n",
    "                cnt_1 += 1\n",
    "                if j == 0:\n",
    "                    cnt_0 += 1\n",
    "        else:\n",
    "            url_tweets[i][\"tweets\"][j][\"IRA\"] = False\n",
    "                    \n",
    "cnt_0, cnt_1, cnt_2\n",
    "\n",
    "url_tweets[-1]"
   ]
  },
  {
   "cell_type": "markdown",
   "metadata": {},
   "source": [
    "由目前的数据看，IRAs的活跃度很低。有可能是数据不重叠的问题，毕竟我之前的结果发现其中有大量的假新闻。我是不是应该解析URL然后添加进去呢？\n",
    "\n",
    "1. 解析URL，如果满足的话就添加进去；\n",
    "2. 看转发网络，如果转发了fake news里面数据就添加进去；\n",
    "\n",
    "从以上两点可以扩充数据！\n",
    "\n",
    "URL先继续解析着～"
   ]
  },
  {
   "cell_type": "code",
   "execution_count": 12,
   "metadata": {},
   "outputs": [
    {
     "name": "stdout",
     "output_type": "stream",
     "text": [
      "CPU times: user 12.8 s, sys: 652 ms, total: 13.4 s\n",
      "Wall time: 13.4 s\n",
      "9041308\n",
      "3333184\n"
     ]
    },
    {
     "data": {
      "application/vnd.jupyter.widget-view+json": {
       "model_id": "1cd48ab9f28b429899e2a7f319c491c0",
       "version_major": 2,
       "version_minor": 0
      },
      "text/plain": [
       "HBox(children=(IntProgress(value=0, max=3333184), HTML(value='')))"
      ]
     },
     "metadata": {},
     "output_type": "display_data"
    },
    {
     "name": "stdout",
     "output_type": "stream",
     "text": [
      "\n"
     ]
    },
    {
     "data": {
      "text/plain": [
       "1725859"
      ]
     },
     "execution_count": 12,
     "metadata": {},
     "output_type": "execute_result"
    }
   ],
   "source": [
    "%time tweets = pd.read_csv('data/ira_tweets_csv_hashed.csv', usecols=[\"retweet_tweetid\"], dtype=str)\n",
    "print(len(tweets))\n",
    "tweets = tweets.dropna()\n",
    "print(len(tweets))\n",
    "IRA_retweet_tweetids = [int(tid) for tid in tqdm(tweets[\"retweet_tweetid\"])]\n",
    "IRA_retweet_tweetids = set(IRA_retweet_tweetids)\n",
    "len(IRA_retweet_tweetids)"
   ]
  },
  {
   "cell_type": "code",
   "execution_count": 6,
   "metadata": {},
   "outputs": [
    {
     "name": "stdout",
     "output_type": "stream",
     "text": [
      "CPU times: user 880 ms, sys: 68 ms, total: 948 ms\n",
      "Wall time: 1.14 s\n",
      "391680\n",
      "246163\n"
     ]
    },
    {
     "data": {
      "application/vnd.jupyter.widget-view+json": {
       "model_id": "e21f82354ec841a1a4f5caa412cbaa9e",
       "version_major": 2,
       "version_minor": 0
      },
      "text/plain": [
       "HBox(children=(IntProgress(value=0, max=246163), HTML(value='')))"
      ]
     },
     "metadata": {},
     "output_type": "display_data"
    },
    {
     "name": "stdout",
     "output_type": "stream",
     "text": [
      "\n"
     ]
    },
    {
     "data": {
      "text/plain": [
       "147324"
      ]
     },
     "execution_count": 6,
     "metadata": {},
     "output_type": "execute_result"
    }
   ],
   "source": [
    "%time tweets = pd.read_csv('data/ira-tweets-ele.csv', usecols=[\"retweet_tweetid\", \"tweet_language\"], dtype=str)\n",
    "print(len(tweets))\n",
    "# tweets = tweets[tweets.tweet_language==\"en\"]\n",
    "# print(len(tweets))\n",
    "tweets = tweets.dropna()\n",
    "print(len(tweets))\n",
    "IRA_retweet_tweetids = [int(tid) for tid in tqdm(tweets[\"retweet_tweetid\"])]\n",
    "IRA_retweet_tweetids = set(IRA_retweet_tweetids)\n",
    "len(IRA_retweet_tweetids)"
   ]
  },
  {
   "cell_type": "markdown",
   "metadata": {},
   "source": [
    "# Hashtag 分析\n",
    "\n",
    "找到全部的hashtag，然后再看每个community下的hashtag"
   ]
  },
  {
   "cell_type": "code",
   "execution_count": 2,
   "metadata": {},
   "outputs": [
    {
     "name": "stdout",
     "output_type": "stream",
     "text": [
      "CPU times: user 3.03 s, sys: 124 ms, total: 3.15 s\n",
      "Wall time: 3.15 s\n"
     ]
    },
    {
     "data": {
      "text/plain": [
       "Index(['tweetid', 'userid', 'user_display_name', 'user_screen_name',\n",
       "       'user_reported_location', 'user_profile_description',\n",
       "       'user_profile_url', 'follower_count', 'following_count',\n",
       "       'account_creation_date', 'account_language', 'tweet_language',\n",
       "       'tweet_text', 'tweet_time', 'tweet_client_name', 'in_reply_to_tweetid',\n",
       "       'in_reply_to_userid', 'quoted_tweet_tweetid', 'is_retweet',\n",
       "       'retweet_userid', 'retweet_tweetid', 'latitude', 'longitude',\n",
       "       'quote_count', 'reply_count', 'like_count', 'retweet_count', 'hashtags',\n",
       "       'urls', 'user_mentions', 'poll_choices'],\n",
       "      dtype='object')"
      ]
     },
     "execution_count": 2,
     "metadata": {},
     "output_type": "execute_result"
    }
   ],
   "source": [
    "%time ele_tweets = pd.read_csv('data/ira-tweets-ele.csv', dtype=str)\n",
    "# all_tweets = all_tweets.dropna()\n",
    "# len(ele_tweets)\n",
    "ele_tweets.columns"
   ]
  },
  {
   "cell_type": "code",
   "execution_count": 3,
   "metadata": {},
   "outputs": [
    {
     "data": {
      "application/vnd.jupyter.widget-view+json": {
       "model_id": "bea6a2a72be6419bb0c7a4b8c8b660de",
       "version_major": 2,
       "version_minor": 0
      },
      "text/plain": [
       "HBox(children=(IntProgress(value=0, max=391680), HTML(value='')))"
      ]
     },
     "metadata": {},
     "output_type": "display_data"
    },
    {
     "name": "stdout",
     "output_type": "stream",
     "text": [
      "\n",
      "227863\n"
     ]
    }
   ],
   "source": [
    "ht_count = Counter()\n",
    "_sum = 0\n",
    "\n",
    "for t in tqdm(ele_tweets.hashtags):\n",
    "    t = t[1: -1].split(\", \")\n",
    "    if t != ['']:\n",
    "        _sum += 1\n",
    "        for w in t:\n",
    "            ht_count[\"#\" + w.lower()] += 1\n",
    "print(_sum)"
   ]
  },
  {
   "cell_type": "code",
   "execution_count": 9,
   "metadata": {},
   "outputs": [
    {
     "data": {
      "text/plain": [
       "0.7833026960784314"
      ]
     },
     "execution_count": 9,
     "metadata": {},
     "output_type": "execute_result"
    }
   ],
   "source": [
    "sum([cnt for ht, cnt in ht_count.most_common()]) / len(ele_tweets)"
   ]
  },
  {
   "cell_type": "code",
   "execution_count": 4,
   "metadata": {},
   "outputs": [
    {
     "data": {
      "text/plain": [
       "20649"
      ]
     },
     "execution_count": 4,
     "metadata": {},
     "output_type": "execute_result"
    }
   ],
   "source": [
    "len(ht_count.most_common())"
   ]
  },
  {
   "cell_type": "code",
   "execution_count": 5,
   "metadata": {},
   "outputs": [
    {
     "data": {
      "text/plain": [
       "[('#news', 15274),\n",
       " ('#world', 8567),\n",
       " ('#sports', 6339),\n",
       " ('#politics', 5233),\n",
       " ('#blacklivesmatter', 4168),\n",
       " ('#topnews', 3677),\n",
       " ('#mustbebanned', 3190),\n",
       " ('#igetdepressedwhen', 3041),\n",
       " ('#ihatepokemongobecause', 3012),\n",
       " ('#istartcryingwhen', 2773),\n",
       " ('#maga', 2715),\n",
       " ('#tcot', 2476),\n",
       " ('#tech', 2470),\n",
       " ('#toavoidworki', 2369),\n",
       " ('#foke', 2362),\n",
       " ('#donttellanyonebut', 2352),\n",
       " ('#tofeelbetteri', 2328),\n",
       " ('#obamaswishlist', 2172),\n",
       " ('#rejecteddebatetopics', 2131),\n",
       " ('#myolympicsportwouldbe', 2110),\n",
       " ('#health', 2089),\n",
       " ('#pjnet', 2070),\n",
       " ('#childrenthinkthat', 2040),\n",
       " ('#betteralternativetodebates', 2032),\n",
       " ('#obamanextjob', 2021),\n",
       " ('#myemmynominationwouldbe', 1937),\n",
       " ('#ihavearighttoknow', 1911),\n",
       " ('#environment', 1893),\n",
       " ('#ineedalawyerbecause', 1835),\n",
       " ('#ruinadinnerinonephrase', 1817),\n",
       " ('#thingsmoretrustedthanhillary', 1785),\n",
       " ('#neverhillary', 1754),\n",
       " ('#reasonstogetdivorced', 1689),\n",
       " ('#sextingwentwrongwhen', 1648),\n",
       " ('#wheniwasyoung', 1638),\n",
       " ('#trump', 1634),\n",
       " ('#blackskinisnotacrime', 1631),\n",
       " ('#ificouldntlie', 1574),\n",
       " ('#partywentwrongwhen', 1489),\n",
       " ('#makemehateyouinonephrase', 1385),\n",
       " ('#thingseveryboywantstohear', 1373),\n",
       " ('#trumpforpresident', 1349),\n",
       " ('#trumpsfavoriteheadline', 1339),\n",
       " ('#sometimesitsokto', 1339),\n",
       " ('#ilovemyfriendsbut', 1336),\n",
       " ('#ifihadabodydouble', 1327),\n",
       " ('#nowplaying', 1299),\n",
       " ('#isis', 1294),\n",
       " ('#ihate____because', 1285),\n",
       " ('#armywomenproblems', 1266)]"
      ]
     },
     "execution_count": 5,
     "metadata": {},
     "output_type": "execute_result"
    }
   ],
   "source": [
    "ht_count.most_common(50)"
   ]
  },
  {
   "cell_type": "code",
   "execution_count": 6,
   "metadata": {},
   "outputs": [
    {
     "data": {
      "text/plain": [
       "0.716252069725297"
      ]
     },
     "execution_count": 6,
     "metadata": {},
     "output_type": "execute_result"
    }
   ],
   "source": [
    "def count_ht(li):\n",
    "    _sum = 0\n",
    "    for l in li:\n",
    "        _sum += l[1]\n",
    "    return _sum\n",
    "\n",
    "count_ht(ht_count.most_common(337)) / count_ht(ht_count.most_common())"
   ]
  },
  {
   "cell_type": "code",
   "execution_count": 8,
   "metadata": {},
   "outputs": [
    {
     "name": "stdout",
     "output_type": "stream",
     "text": [
      "news;30\n",
      "world;17\n",
      "sports;12\n",
      "politics;10\n",
      "blacklivesmatter;8\n",
      "topnews;7\n",
      "mustbebanned;6\n",
      "igetdepressedwhen;6\n",
      "ihatepokemongobecause;6\n",
      "istartcryingwhen;5\n",
      "maga;5\n",
      "tcot;4\n",
      "tech;4\n",
      "toavoidworki;4\n",
      "foke;4\n",
      "donttellanyonebut;4\n",
      "tofeelbetteri;4\n",
      "obamaswishlist;4\n",
      "rejecteddebatetopics;4\n",
      "myolympicsportwouldbe;4\n",
      "health;4\n",
      "pjnet;4\n",
      "childrenthinkthat;4\n",
      "betteralternativetodebates;4\n",
      "obamanextjob;4\n",
      "myemmynominationwouldbe;3\n",
      "ihavearighttoknow;3\n",
      "environment;3\n",
      "ineedalawyerbecause;3\n",
      "ruinadinnerinonephrase;3\n",
      "thingsmoretrustedthanhillary;3\n",
      "neverhillary;3\n",
      "reasonstogetdivorced;3\n",
      "sextingwentwrongwhen;3\n",
      "wheniwasyoung;3\n",
      "trump;3\n",
      "blackskinisnotacrime;3\n",
      "ificouldntlie;3\n",
      "partywentwrongwhen;2\n",
      "makemehateyouinonephrase;2\n",
      "thingseveryboywantstohear;2\n",
      "trumpforpresident;2\n",
      "trumpsfavoriteheadline;2\n",
      "sometimesitsokto;2\n",
      "ilovemyfriendsbut;2\n",
      "ifihadabodydouble;2\n",
      "nowplaying;2\n",
      "isis;2\n",
      "ihate____because;2\n",
      "armywomenproblems;2\n"
     ]
    }
   ],
   "source": [
    "for ht in ht_count.most_common(50):\n",
    "    print(ht[0][1:], int(ht[1] / 500), sep=\";\")\n",
    "#     print(ht[0][1:])    "
   ]
  },
  {
   "cell_type": "code",
   "execution_count": 41,
   "metadata": {},
   "outputs": [],
   "source": [
    "# save\n",
    "\n",
    "json.dump(ht_count.most_common(337), open(\"data/top-hashtags.json\", \"w\"), indent=2)"
   ]
  },
  {
   "cell_type": "code",
   "execution_count": 9,
   "metadata": {},
   "outputs": [
    {
     "data": {
      "text/plain": [
       "179682"
      ]
     },
     "execution_count": 9,
     "metadata": {},
     "output_type": "execute_result"
    }
   ],
   "source": [
    "louvain_rst = json.load(open(\"data/louvain_rst_4.json\"))\n",
    "len(louvain_rst)"
   ]
  },
  {
   "cell_type": "code",
   "execution_count": 10,
   "metadata": {},
   "outputs": [],
   "source": [
    "from fake_identify import Are_you_IRA\n",
    "\n",
    "Putin = Are_you_IRA()"
   ]
  },
  {
   "cell_type": "code",
   "execution_count": 11,
   "metadata": {},
   "outputs": [
    {
     "data": {
      "text/plain": [
       "Counter({0: 137953, 3: 9624, 1: 31940, 2: 165})"
      ]
     },
     "execution_count": 11,
     "metadata": {},
     "output_type": "execute_result"
    }
   ],
   "source": [
    "Counter([v for k, v in louvain_rst.items()])"
   ]
  },
  {
   "cell_type": "code",
   "execution_count": 12,
   "metadata": {},
   "outputs": [
    {
     "data": {
      "text/plain": [
       "Counter({0: 142, 1: 226, 3: 94, 2: 35})"
      ]
     },
     "execution_count": 12,
     "metadata": {},
     "output_type": "execute_result"
    }
   ],
   "source": [
    "Counter([v for k, v in louvain_rst.items() if Putin.check(k)])"
   ]
  },
  {
   "cell_type": "code",
   "execution_count": 13,
   "metadata": {},
   "outputs": [],
   "source": [
    "from collections import defaultdict\n",
    "\n",
    "comm_nodes = defaultdict(set)\n",
    "\n",
    "for n, c in louvain_rst.items():\n",
    "    comm_nodes[c].add(n)"
   ]
  },
  {
   "cell_type": "code",
   "execution_count": 16,
   "metadata": {},
   "outputs": [
    {
     "data": {
      "application/vnd.jupyter.widget-view+json": {
       "model_id": "e832c541d5eb4d9bbd4afad3c2852a13",
       "version_major": 2,
       "version_minor": 0
      },
      "text/plain": [
       "HBox(children=(IntProgress(value=1, bar_style='info', max=1), HTML(value='')))"
      ]
     },
     "metadata": {},
     "output_type": "display_data"
    },
    {
     "name": "stdout",
     "output_type": "stream",
     "text": [
      "\n"
     ]
    },
    {
     "data": {
      "text/plain": [
       "66"
      ]
     },
     "execution_count": 16,
     "metadata": {},
     "output_type": "execute_result"
    }
   ],
   "source": [
    "# 统计每个社团的hashtags\n",
    "\n",
    "ht_counts = {\n",
    "    0: Counter(),\n",
    "    2: Counter(),\n",
    "    1: Counter(),\n",
    "    3: Counter(),\n",
    "}\n",
    "# print(ht_counts)\n",
    "not_in_comm = set()\n",
    "\n",
    "for i, row in tqdm(ele_tweets.iterrows()):\n",
    "    uid = Putin.uncover(row.userid)\n",
    "    if uid in louvain_rst:\n",
    "        c = louvain_rst[uid]\n",
    "#         if c == 2:\n",
    "#             continue\n",
    "        hts = [ht.lower() for ht in row.hashtags[1: -1].split(\", \") if ht]\n",
    "        for ht in hts:\n",
    "            ht_counts[c][ht] += 1\n",
    "    else:\n",
    "        not_in_comm.add(uid)\n",
    "        \n",
    "len(not_in_comm)"
   ]
  },
  {
   "cell_type": "code",
   "execution_count": 17,
   "metadata": {},
   "outputs": [
    {
     "name": "stdout",
     "output_type": "stream",
     "text": [
      "0 239 64686 93471 0.6920435215200437\n",
      "1 239 29104 58311 0.4991168047195212\n",
      "3 174 101968 117311 0.8692109009385309\n"
     ]
    }
   ],
   "source": [
    "for k, _c in ht_counts.items():\n",
    "    if k == 2:\n",
    "        continue\n",
    "    # print(k, _c.most_common(50))\n",
    "    top_num = 0\n",
    "    percent = 0\n",
    "    for i, ht in enumerate(_c.most_common()):\n",
    "#         if ht[1] < 50:\n",
    "#             break\n",
    "\n",
    "#         print(ht[0], int(ht[1]), sep=\";\")\n",
    "        top_num += ht[1]\n",
    "\n",
    "        # 每新增一个hashtag，占总的hashtags的数量比例小于0.5%则停止\n",
    "        if top_num / sum(_c.values()) - percent < 0.0005:\n",
    "            break\n",
    "            \n",
    "        percent = top_num / sum(_c.values())\n",
    "        # print(i+1, top_num, sum(_c.values()), top_num / sum(_c.values()))\n",
    "        \n",
    "    print(k, i, top_num, sum(_c.values()), top_num / sum(_c.values()))"
   ]
  },
  {
   "cell_type": "code",
   "execution_count": 20,
   "metadata": {},
   "outputs": [
    {
     "name": "stdout",
     "output_type": "stream",
     "text": [
      "news;6612\n",
      "maga;2644\n",
      "politics;2625\n",
      "sports;2605\n",
      "tcot;2379\n",
      "pjnet;2044\n",
      "neverhillary;1656\n",
      "trumpforpresident;1349\n",
      "trump;1315\n",
      "isis;1205\n",
      "sanjose;1072\n",
      "trumppence16;961\n",
      "crookedhillary;922\n",
      "hillary;912\n",
      "trump2016;880\n",
      "business;875\n",
      "2a;782\n",
      "wakeupamerica;751\n",
      "syria;695\n",
      "trumptrain;676\n",
      "local;613\n",
      "ccot;575\n",
      "makeamericagreatagain;544\n",
      "aleppo;513\n",
      "hillaryclinton;499\n",
      "thingsmoretrustedthanhillary;493\n",
      "blacklivesmatter;479\n",
      "is;445\n",
      "p2;427\n",
      "hillaryshealth;418\n",
      "stlouis;410\n",
      "hillaryforprison2016;409\n",
      "debate;393\n",
      "debatenight;374\n",
      "benghazi;354\n",
      "votetrump;345\n",
      "basketofdeplorables;332\n",
      "americafirst;331\n",
      "chelsea;326\n",
      "draintheswamp;322\n",
      "breaking;318\n",
      "birtherism;314\n",
      "obama;309\n",
      "saa;304\n",
      "cosproject;300\n",
      "hillaryforprison;297\n",
      "iraq;295\n",
      "electionday;292\n",
      "gop;288\n",
      "targets;286\n",
      "iceisis;286\n",
      "opiceisis;286\n",
      "imwithher;270\n",
      "debates;256\n",
      "clinton;249\n",
      "health;242\n",
      "mosul;233\n",
      "sandiego;232\n",
      "dncleak;228\n",
      "cr4u;224\n",
      "chelseanyc;224\n",
      "teaparty;222\n",
      "bluelivesmatter;217\n",
      "wikileaks;216\n",
      "trumppence2016;211\n",
      "feelthebern;209\n",
      "rt;205\n",
      "lyincrookedhillary;205\n",
      "lockherup;205\n",
      "demsinphilly;203\n",
      "thingspeopleontwitterlike;195\n",
      "us;190\n",
      "turkey;186\n",
      "election2016;184\n",
      "rncincle;182\n",
      "debates2016;182\n",
      "imnotwithher;180\n",
      "nra;176\n",
      "entertainment;171\n",
      "nevertrump;166\n",
      "texit;166\n",
      "russia;165\n",
      "usa;158\n",
      "dnc;157\n",
      "tgdn;156\n",
      "fsa;156\n",
      "demexit;150\n",
      "neverforget;149\n",
      "rednationrising;147\n",
      "manbij;145\n",
      "trump2k16;142\n",
      "blm;139\n",
      "hillarysemails;138\n",
      "zombiehillary;138\n",
      "sickhillary;138\n",
      "orlando;138\n",
      "thegophasbecome;136\n",
      "lnyhbt;135\n",
      "veterans;134\n",
      "america;133\n",
      "stopislam;129\n",
      "hillary4prison;128\n",
      "banislam;126\n",
      "podestaemails;126\n",
      "nycexplosion;126\n",
      "tlot;125\n",
      "voterfraud;124\n",
      "makedclisten;123\n",
      "florida;123\n",
      "trumpsarmy;123\n",
      "syrianarmy;121\n",
      "followthemoney;120\n",
      "fbi;119\n",
      "msm;118\n",
      "clintonfoundation;117\n",
      "dncleaks;111\n",
      "hurricanematthew;111\n",
      "tech;108\n",
      "uniteblue;105\n",
      "imvotingbecause;105\n",
      "1a;102\n",
      "realdonaldtrump;101\n",
      "clintonscandals;100\n",
      "vpdebate;100\n",
      "islam;99\n",
      "matthew;99\n",
      "nodapl;99\n",
      "military;98\n",
      "releaseclintonsmedicalrecords;98\n",
      "rantfortoday;97\n",
      "hama;97\n",
      "donaldtrump;96\n",
      "russian;95\n",
      "democrats;95\n",
      "chelseaexplosion;94\n",
      "israel;94\n",
      "badjudgmentin5words;91\n",
      "hannity;91\n",
      "ohhillno;90\n",
      "votetrump2016;90\n",
      "liberallogic;89\n",
      "cnn;89\n",
      "syrian;88\n",
      "obamacare;88\n",
      "hillarysbodydouble;87\n",
      "blacksfortrump;87\n",
      "maga3x;87\n",
      "nyc;86\n",
      "nbcnewsforum;86\n",
      "damascus;86\n",
      "hrcoriginalbirther;83\n",
      "brexit;83\n",
      "iran;81\n",
      "bernieorbust;81\n",
      "boycottnfl;81\n",
      "sdf;79\n",
      "batonrouge;78\n",
      "texas;78\n",
      "fridayfeeling;78\n",
      "deirezzor;78\n",
      "trumppence;76\n",
      "electionfinalthoughts;76\n",
      "usfa;76\n",
      "wednesdaywisdom;76\n",
      "ff1776;76\n",
      "mondaymotivation;75\n",
      "renewus;74\n",
      "reinindc;74\n",
      "raqqa;73\n",
      "trumpenmexico;73\n",
      "thursdaythoughts;73\n",
      "turkish;72\n",
      "demconvention;72\n",
      "ypg;69\n",
      "blacks4trump;69\n",
      "potus;69\n",
      "poll;69\n",
      "religionofpeace;69\n",
      "hillaryhealth;68\n",
      "periscope;67\n",
      "elizabeth;66\n",
      "imwithyou;65\n",
      "myvote2016;65\n",
      "wethepeople;65\n",
      "bb4sp;65\n",
      "islamistheproblem;63\n",
      "hillaryaccomplishments;63\n",
      "clintoncollapse;62\n",
      "usmc;62\n",
      "vote;62\n",
      "spiritcooking;62\n",
      "hrc;61\n",
      "ohio;61\n",
      "dncinphl;61\n",
      "indicthillary;60\n",
      "munich;60\n",
      "trumpwon;60\n",
      "deplorable;59\n",
      "milwaukee;59\n",
      "miami;59\n",
      "muslim;58\n",
      "libtards;58\n",
      "conservatives;58\n",
      "basementdwellers;58\n",
      "alllivesmatter;58\n",
      "brexitvote;57\n",
      "deplorables;57\n",
      "manhattan;56\n",
      "jillnothill;56\n",
      "riggedelection;55\n",
      "dallas;55\n",
      "hillaryrottenclinton;55\n",
      "jobs;55\n",
      "army;55\n",
      "paytoplay;55\n",
      "navy;54\n",
      "buildthewall;54\n",
      "retweet;53\n",
      "imwithhernow;52\n",
      "copolitics;52\n",
      "freericky;52\n",
      "whatilearnedtoday;51\n",
      "gettysburg;51\n",
      "trumpindetroit;51\n",
      "riggedsystem;50\n",
      "electionnight;50\n",
      "haiti;49\n",
      "bringbernieback;49\n",
      "guncontrol;49\n",
      "whitegenocide;49\n",
      "homs;49\n",
      "prolife;49\n",
      "berniesanders;49\n",
      "hillarysemail;48\n",
      "constitution;48\n",
      "2adefenders;48\n",
      "asmsg;48\n",
      "istanbul;48\n",
      "trumpwinsbecause;48\n",
      "--------------------\n",
      "blacklivesmatter;3645\n",
      "blackskinisnotacrime;1631\n",
      "nowplaying;1259\n",
      "staywoke;830\n",
      "policebrutality;614\n",
      "altonsterling;506\n",
      "politics;487\n",
      "blm;451\n",
      "philandocastile;426\n",
      "hiphop;399\n",
      "nodapl;392\n",
      "thefourhorsemen;387\n",
      "theartofwar;387\n",
      "t;387\n",
      "btp;318\n",
      "follow;312\n",
      "music;308\n",
      "rapstationradio;305\n",
      "dagr8fm;302\n",
      "god;274\n",
      "racism;274\n",
      "myblackroots;262\n",
      "blacktwitter;258\n",
      "np;254\n",
      "trump;251\n",
      "rap;236\n",
      "magicbutreal;233\n",
      "blacktolive;233\n",
      "breaking;216\n",
      "podernfamily;208\n",
      "soundcloud;199\n",
      "hurricanematthew;197\n",
      "orlando;184\n",
      "blackgirlmagic;164\n",
      "debate;164\n",
      "blackhistory;158\n",
      "listenlive;140\n",
      "black;139\n",
      "brexit;131\n",
      "lubbocktexas;126\n",
      "syria;125\n",
      "blackexcellence;123\n",
      "communityevent;123\n",
      "intelgroup;120\n",
      "freddiegray;118\n",
      "clinton;115\n",
      "imwithher;112\n",
      "philandocastille;111\n",
      "freebresha;109\n",
      "police;109\n",
      "muhammadali;107\n",
      "p2;107\n",
      "veteransforkaepernick;106\n",
      "chicago;106\n",
      "streetart;102\n",
      "alllivesmatter;101\n",
      "debatenight;101\n",
      "mlksitin;97\n",
      "ericgarner;97\n",
      "korryngaines;97\n",
      "freederay;96\n",
      "whiteprivilege;96\n",
      "blackgirlsrock;94\n",
      "nevertrump;93\n",
      "kaepernick;93\n",
      "skwadart;92\n",
      "nyc;92\n",
      "violence;88\n",
      "sayhername;87\n",
      "lukecage;87\n",
      "cops;87\n",
      "rncincle;86\n",
      "aleppo;85\n",
      "isis;84\n",
      "tcot;84\n",
      "songcontest;82\n",
      "rt;82\n",
      "prisonstrike;81\n",
      "pushpowerhits;76\n",
      "ifwt;75\n",
      "sb50;75\n",
      "standingrock;74\n",
      "rio2016;74\n",
      "electionday;73\n",
      "istartcryingwhen;73\n",
      "artyoucanhear;72\n",
      "tbt;72\n",
      "periscope;71\n",
      "htgawm;71\n",
      "indigenous;70\n",
      "fuckthepolice;69\n",
      "russia;69\n",
      "justice;69\n",
      "quote;69\n",
      "mgwv;68\n",
      "queensugar;68\n",
      "pauloneal;68\n",
      "kendrickjohnson;67\n",
      "jesus;66\n",
      "shutdowncityhallnyc;66\n",
      "disarmhate;65\n",
      "blackpower;64\n",
      "falconheightsshooting;64\n",
      "cop;64\n",
      "orlandoshooting;64\n",
      "cool;63\n",
      "yemen;62\n",
      "donaldtrump;62\n",
      "matthew;62\n",
      "ftp;60\n",
      "tairp;60\n",
      "stoppolicebrutality;59\n",
      "maga;59\n",
      "falconheights;58\n",
      "sandrabland;58\n",
      "acab;58\n",
      "happybirthdaybeyonce;58\n",
      "deborahdanner;57\n",
      "halloween;56\n",
      "nationalpoetryday;56\n",
      "coast2coast;55\n",
      "jayz;55\n",
      "benandjerrysnewflavor;55\n",
      "batonrouge;55\n",
      "gop;54\n",
      "neverhillary;54\n",
      "pigs;54\n",
      "blackwomendidthat;53\n",
      "spon;53\n",
      "newsonenow;53\n",
      "mariowoods;53\n",
      "13th;53\n",
      "haiti;52\n",
      "africa;52\n",
      "atlanta;52\n",
      "angelawinbush;52\n",
      "colinkaepernick;51\n",
      "wikileaks;51\n",
      "flintwatercrisis;51\n",
      "oldschoolhov;51\n",
      "mashup;51\n",
      "classicrnb;51\n",
      "cheryllynn;51\n",
      "teddypendergrass;51\n",
      "uniteblue;51\n",
      "flint;51\n",
      "slavery;50\n",
      "podestaemails;50\n",
      "podcast;49\n",
      "us;48\n",
      "mosul;48\n",
      "mikebrown;48\n",
      "beats;48\n",
      "blacklove;48\n",
      "repost;48\n",
      "keithlamontscott;48\n",
      "beyonce;48\n",
      "terencecrutcher;47\n",
      "killercops;47\n",
      "darrenseals;47\n",
      "newmusic;47\n",
      "whereislavishreynolds;46\n",
      "tamirrice;46\n",
      "racist;45\n",
      "stopracism;45\n",
      "birthofanation;45\n",
      "news;44\n",
      "mixtape;44\n",
      "olympics;43\n",
      "art;43\n",
      "new;43\n",
      "usa;43\n",
      "checkitout;42\n",
      "tyreking;42\n",
      "florida;41\n",
      "amjoy;41\n",
      "rip;41\n",
      "wirliebentrump;41\n",
      "charlotte;41\n",
      "milwaukee;41\n",
      "facebook;40\n",
      "edm;40\n",
      "assange;40\n",
      "hillaryclinton;40\n",
      "cubs;39\n",
      "youtube;38\n",
      "love;38\n",
      "minimilah;38\n",
      "williamchapman;37\n",
      "worldseries;37\n",
      "artists;36\n",
      "mondaymotivation;36\n",
      "london;36\n",
      "hillary;36\n",
      "insecurehbo;36\n",
      "orlandounited;36\n",
      "farrakhan;36\n",
      "bds;36\n",
      "nypd;36\n",
      "nra;36\n",
      "followtrick;35\n",
      "france;35\n",
      "atl;35\n",
      "joshuabeal;34\n",
      "ferguson;34\n",
      "poppymurray;34\n",
      "danielharris;34\n",
      "saytheirnames;34\n",
      "amerikkka;33\n",
      "fightfor15;33\n",
      "itunes;32\n",
      "nojusticenopeace;32\n",
      "bankblack;32\n",
      "buyblack;32\n",
      "america;32\n",
      "laquanmcdonald;32\n",
      "mlk;32\n",
      "alfredolango;32\n",
      "theopenedbox;32\n",
      "rappers;31\n",
      "gsuhomecoming2k16;31\n",
      "trayvonmartin;31\n",
      "vote;31\n",
      "share;31\n",
      "blackwomen;31\n",
      "formation;31\n",
      "contest;31\n",
      "tupacshakur;31\n",
      "betmusicsundays;31\n",
      "graffiti;30\n",
      "video;30\n",
      "protestersarecriminals;30\n",
      "thursdaythoughts;30\n",
      "djs;30\n",
      "blacknation;30\n",
      "alllivesdidntmatter;30\n",
      "politicsnation;30\n",
      "policestate;30\n",
      "artordie;30\n",
      "--------------------\n",
      "mustbebanned;3176\n",
      "igetdepressedwhen;3019\n",
      "ihatepokemongobecause;2992\n",
      "istartcryingwhen;2696\n",
      "toavoidworki;2350\n",
      "donttellanyonebut;2350\n",
      "tofeelbetteri;2316\n",
      "obamaswishlist;2172\n",
      "rejecteddebatetopics;2126\n",
      "myolympicsportwouldbe;2081\n",
      "childrenthinkthat;2040\n",
      "betteralternativetodebates;2028\n",
      "obamanextjob;2017\n",
      "myemmynominationwouldbe;1937\n",
      "ihavearighttoknow;1910\n",
      "ineedalawyerbecause;1835\n",
      "ruinadinnerinonephrase;1813\n",
      "reasonstogetdivorced;1689\n",
      "sextingwentwrongwhen;1648\n",
      "wheniwasyoung;1617\n",
      "ificouldntlie;1574\n",
      "partywentwrongwhen;1489\n",
      "makemehateyouinonephrase;1378\n",
      "thingseveryboywantstohear;1373\n",
      "trumpsfavoriteheadline;1339\n",
      "sometimesitsokto;1338\n",
      "ilovemyfriendsbut;1330\n",
      "ifihadabodydouble;1327\n",
      "thingsmoretrustedthanhillary;1292\n",
      "ihate____because;1285\n",
      "armywomenproblems;1266\n",
      "presentstrumpgot;1199\n",
      "2016electionin3words;1108\n",
      "thingsnottaughtatschool;1063\n",
      "reasonstoleaveeu;1043\n",
      "thingsiwontbelieve;992\n",
      "growingupwithobama;918\n",
      "lostin3words;918\n",
      "imtoooldfor;894\n",
      "thingsnottodoatthezoo;893\n",
      "makeamovieblack;866\n",
      "maketvsexy;842\n",
      "onewordoffmoviequotes;802\n",
      "fishtv;774\n",
      "thingsiwonttellmydad;743\n",
      "meangirlsrules;708\n",
      "mybestfriendsinfourwords;699\n",
      "thingsinventedwhilehigh;652\n",
      "itsmuchbetterto;617\n",
      "athleticstvshows;615\n",
      "ishouldgetamedalfor;604\n",
      "thingsthatdisturbme;597\n",
      "worstpaineverin3words;573\n",
      "addamovieruinamovie;572\n",
      "mybedroomin3words;565\n",
      "timetravelerproblems;560\n",
      "mybestfriendisntallowed;549\n",
      "policeamovie;548\n",
      "idontneedacostumebecause;545\n",
      "ireallylikeyoubut;514\n",
      "ifhillarybecomespresident;508\n",
      "firstladyrulebook;508\n",
      "howtogetmediaattention;493\n",
      "thetroublewithaddiction;490\n",
      "mynewcatchphraseis;482\n",
      "isquiteachallenge;436\n",
      "whyimgangsta;433\n",
      "unlikelythingsheardatwalmart;422\n",
      "iliketocollect;420\n",
      "whatihatein5words;418\n",
      "gameshowhostpickuplines;385\n",
      "friendshipin5words;383\n",
      "thingspeopleontwitterlike;383\n",
      "songshannibalwouldsing;381\n",
      "icantbeurfriendbecause;379\n",
      "pokemongo;362\n",
      "thingstodoinawaitingroom;361\n",
      "tweepaquote;349\n",
      "weedsillegalbut;344\n",
      "congressin5words;343\n",
      "andthenishouldhavesaid;335\n",
      "dealbreakerin3words;327\n",
      "millennialsportsteams;307\n",
      "comicconin5words;288\n",
      "rulesforeverydayliving;278\n",
      "somedayidliketosee;275\n",
      "oneletteroffsports;275\n",
      "wrongthingstosayatawedding;274\n",
      "nooffencebut;267\n",
      "weedtv;247\n",
      "allmalereboots;238\n",
      "badmonstermovies;232\n",
      "ifthemediariggedtheelection;231\n",
      "highschooltaughtme;221\n",
      "songmakesmetearup;208\n",
      "myvacationgoals;200\n",
      "hipsterschoolsupplieslist;198\n",
      "thingshillarygoogles;197\n",
      "theolderweget;186\n",
      "famouscreatures;181\n",
      "gotfiredbecause;181\n",
      "givemadpropsto;174\n",
      "writeapanel;173\n",
      "catsongs;166\n",
      "whatibelievein5words;163\n",
      "iprocrastinateby;157\n",
      "slowjamtv;156\n",
      "debatenight;151\n",
      "ilikelyspendtoomuchtime;151\n",
      "beunclassyin4words;149\n",
      "idookforsomeonewho;146\n",
      "mondaymotivation;146\n",
      "basketballmovies;145\n",
      "goodmorningin3words;144\n",
      "walkingdeadtheolympics;142\n",
      "electionfinalthoughts;142\n",
      "youhavegotto;142\n",
      "onewordoffsongs;139\n",
      "myachillesheel;138\n",
      "ruinavideogame;136\n",
      "electiondayin5words;135\n",
      "wouldhaveabetterday;132\n",
      "newprefighttrashtalk;132\n",
      "thereismorethanone;125\n",
      "icantevennameone;124\n",
      "setyourselfapartin5words;120\n",
      "youknowyoureunhealthywhen;118\n",
      "beromanticin4words;116\n",
      "wcw;116\n",
      "ifasnakebitesyou;113\n",
      "mondaymorningsare;113\n",
      "oceanmovies;111\n",
      "messupaquote;111\n",
      "addsethimproveanything;110\n",
      "videogameaband;105\n",
      "dadsongs;102\n",
      "debates;101\n",
      "mychildhoodhome;101\n",
      "iamsickenedby;101\n",
      "wednesdaywisdom;98\n",
      "reasonswhyineeddrugs;98\n",
      "quityourjobin5words;96\n",
      "ifyoulikethisyoulllovethat;94\n",
      "labourdaytraditions;94\n",
      "withoutyouiam;92\n",
      "gameofthrones;90\n",
      "quote;87\n",
      "iwaswinninguntil;85\n",
      "andthatswhenistartedcrying;83\n",
      "sizeablesongs;80\n",
      "insectshowsormovies;80\n",
      "scottishsongs;78\n",
      "bathroomschmovies;78\n",
      "youmightbeacowardif;76\n",
      "badcampingadvice;74\n",
      "splifffilms;73\n",
      "imwithher;73\n",
      "theresasignifeverisawone;73\n",
      "hurtafilm;72\n",
      "birdtv;72\n",
      "gamealert;72\n",
      "snrtg;69\n",
      "youmightneedsleepif;68\n",
      "acceptabletorturemethod;68\n",
      "whatmakesmeabadass;68\n",
      "trump;67\n",
      "note2mymother;65\n",
      "ihavejustenoughmoneyto;65\n",
      "necessarybiographies;65\n",
      "whyimustdance;63\n",
      "mallschmovies;63\n",
      "nerdholidays;62\n",
      "letssingaboutsexbaby;62\n",
      "whenigorogue;59\n"
     ]
    }
   ],
   "source": [
    "json.dump(ht_counts[0].most_common(239), open(\"data/hashtags/C1.json\", \"w\"))\n",
    "json.dump(ht_counts[1].most_common(239), open(\"data/hashtags/C2.json\", \"w\"))\n",
    "json.dump(ht_counts[3].most_common(174), open(\"data/hashtags/C3.json\", \"w\"))\n",
    "\n",
    "# save data/hashtags\n",
    "for ht in ht_counts[0].most_common(239):\n",
    "    print(ht[0], ht[1], sep=\";\")\n",
    "print(20 * \"-\")\n",
    "for ht in ht_counts[1].most_common(239):\n",
    "    print(ht[0], ht[1], sep=\";\")\n",
    "print(20 * \"-\")\n",
    "for ht in ht_counts[3].most_common(174):\n",
    "    print(ht[0], ht[1], sep=\";\")"
   ]
  },
  {
   "cell_type": "code",
   "execution_count": 11,
   "metadata": {},
   "outputs": [
    {
     "data": {
      "text/plain": [
       "count      556.000000\n",
       "mean       704.460432\n",
       "std       1439.989381\n",
       "min          1.000000\n",
       "25%          8.000000\n",
       "50%        114.500000\n",
       "75%        903.250000\n",
       "max      12308.000000\n",
       "Name: userid, dtype: float64"
      ]
     },
     "execution_count": 11,
     "metadata": {},
     "output_type": "execute_result"
    }
   ],
   "source": [
    "ele_tweets.userid.value_counts().describe()"
   ]
  },
  {
   "cell_type": "code",
   "execution_count": 13,
   "metadata": {},
   "outputs": [
    {
     "data": {
      "text/plain": [
       "(237, 776, 776)"
      ]
     },
     "execution_count": 13,
     "metadata": {},
     "output_type": "execute_result"
    }
   ],
   "source": [
    "cnt_0 = 0\n",
    "cnt_1 = 0\n",
    "cnt_2 = 0\n",
    "\n",
    "# 这些tweet转发了fake news，他们有可能不在数据里面？？但是他们全部都刚好不在数据里面？？？\n",
    "IRAs_retweets = []\n",
    "\n",
    "for i, fake in enumerate(url_tweets):\n",
    "    for j, t in enumerate(fake[\"tweets\"]):\n",
    "        if t[\"id\"] in IRA_retweet_tweetids:\n",
    "            tmp = all_tweets[all_tweets[\"retweet_tweetid\"]==str(t[\"id\"])]\n",
    "            for _, row in tmp.iterrows():\n",
    "                url_tweets[i][\"tweets\"].append({\n",
    "                    \"id\": int(row[\"tweetid\"]),\n",
    "                    \"dt\": row[\"tweet_time\"] + \":00\",\n",
    "                    \"origin\": False,\n",
    "                    \"IRA\": True,\n",
    "                    \"user_id\": row[\"userid\"]\n",
    "                })\n",
    "                cnt_2 += 1\n",
    "                if t[\"origin\"]:\n",
    "                    cnt_1 += 1\n",
    "                    if j == 0:\n",
    "                        cnt_0 += 1\n",
    "                    \n",
    "cnt_0, cnt_1, cnt_2"
   ]
  },
  {
   "cell_type": "code",
   "execution_count": 37,
   "metadata": {},
   "outputs": [],
   "source": [
    "# 验证通过，save the data\n",
    "\n",
    "json.dump(new_url_tweets, open(\"url_tweets_v2.json\", \"w\"), indent=2)"
   ]
  },
  {
   "cell_type": "code",
   "execution_count": 8,
   "metadata": {},
   "outputs": [
    {
     "name": "stdout",
     "output_type": "stream",
     "text": [
      "CPU times: user 1min 14s, sys: 3.16 s, total: 1min 17s\n",
      "Wall time: 1min 17s\n"
     ]
    }
   ],
   "source": [
    "%time all_tweets = pd.read_csv('data/ira_tweets_csv_hashed.csv', dtype=str)"
   ]
  },
  {
   "cell_type": "code",
   "execution_count": 10,
   "metadata": {},
   "outputs": [
    {
     "name": "stdout",
     "output_type": "stream",
     "text": [
      "672676\n",
      "391680\n"
     ]
    }
   ],
   "source": [
    "# 时间上筛选数据\n",
    "tweets = all_tweets[(all_tweets[\"tweet_time\"]<\"2016-11-09 00:00\") & (all_tweets[\"tweet_time\"]>=\"2016-06-01 00:00\")]\n",
    "print(len(tweets))\n",
    "tweets = tweets[tweets.tweet_language==\"en\"]\n",
    "print(len(tweets))\n",
    "tweets.to_csv(\"data/ira-tweets-ele.csv\", index=None)"
   ]
  },
  {
   "cell_type": "code",
   "execution_count": 45,
   "metadata": {},
   "outputs": [],
   "source": [
    "tweets = pd.read_csv(\"data/ira-tweets-ele.csv\")"
   ]
  },
  {
   "cell_type": "code",
   "execution_count": 50,
   "metadata": {},
   "outputs": [
    {
     "data": {
      "text/plain": [
       "391680"
      ]
     },
     "execution_count": 50,
     "metadata": {},
     "output_type": "execute_result"
    }
   ],
   "source": [
    "len(tweets)"
   ]
  },
  {
   "cell_type": "markdown",
   "metadata": {},
   "source": [
    "## 针对这些选择后的数据进行url的分析"
   ]
  },
  {
   "cell_type": "code",
   "execution_count": 5,
   "metadata": {},
   "outputs": [
    {
     "data": {
      "application/vnd.jupyter.widget-view+json": {
       "model_id": "fefae9634df24f7997be640e06fc8ecd",
       "version_major": 2,
       "version_minor": 0
      },
      "text/plain": [
       "HBox(children=(IntProgress(value=1, bar_style='info', max=1), HTML(value='')))"
      ]
     },
     "metadata": {},
     "output_type": "display_data"
    },
    {
     "name": "stdout",
     "output_type": "stream",
     "text": [
      "\n"
     ]
    }
   ],
   "source": [
    "import tldextract\n",
    "\n",
    "rst = []\n",
    "for i, row in tqdm(tweets.iterrows()):\n",
    "    urls = row[\"urls\"][1:-1]\n",
    "    if urls and len(urls.split(\"http\")) < 3:\n",
    "        rst.append({\n",
    "            \"tweetid\": row.tweetid,\n",
    "            \"userid\": row.userid,\n",
    "            \"url\": urls,\n",
    "            \"hostname\": \".\".join(tldextract.extract(urls)[1:])\n",
    "        }) "
   ]
  },
  {
   "cell_type": "code",
   "execution_count": 6,
   "metadata": {},
   "outputs": [
    {
     "data": {
      "text/plain": [
       "[('bit.ly', 31443),\n",
       " ('twitter.com', 25079),\n",
       " ('dailym.ai', 2566),\n",
       " ('dlvr.it', 2309),\n",
       " ('youtu.be', 1974),\n",
       " ('cbsloc.al', 1966),\n",
       " ('ow.ly', 1686),\n",
       " ('youtube.com', 1555),\n",
       " ('rt.com', 1477),\n",
       " ('fb.me', 1465),\n",
       " ('instagram.com', 1413),\n",
       " ('ln.is', 1354),\n",
       " ('goo.gl', 1225),\n",
       " ('buff.ly', 1201),\n",
       " ('hill.cm', 951),\n",
       " ('trib.al', 926),\n",
       " ('sh.st', 880),\n",
       " ('lat.ms', 843),\n",
       " ('1063.mobi', 837),\n",
       " ('facebook.com', 818),\n",
       " ('nydn.us', 784),\n",
       " ('ift.tt', 737),\n",
       " ('blackmattersus.com', 681),\n",
       " ('breitbart.com', 650),\n",
       " ('pushpowerpromo.com', 645),\n",
       " ('bsun.md', 509),\n",
       " ('wapo.st', 449),\n",
       " ('bloom.bg', 445),\n",
       " ('huffingtonpost.com', 404),\n",
       " ('vine.co', 402),\n",
       " ('twib.in', 392),\n",
       " ('wordpress.com', 370),\n",
       " ('blacktolive.org', 361),\n",
       " ('atlantablackstar.com', 358),\n",
       " ('foxnews.com', 347),\n",
       " ('usat.ly', 338),\n",
       " ('tinyurl.com', 318),\n",
       " ('rdo.to', 314),\n",
       " ('theroot.com', 312),\n",
       " ('soundcloud.com', 312),\n",
       " ('huff.to', 310),\n",
       " ('bayareane.ws', 306),\n",
       " ('thebea.st', 299),\n",
       " ('nyti.ms', 299),\n",
       " ('dailycaller.com', 289),\n",
       " ('USFREEDOMARMY.COM', 284),\n",
       " ('detne.ws', 277),\n",
       " ('dld.bz', 269),\n",
       " ('twimg.com', 264),\n",
       " ('washingtonpost.com', 255)]"
      ]
     },
     "execution_count": 6,
     "metadata": {},
     "output_type": "execute_result"
    }
   ],
   "source": [
    "from collections import Counter\n",
    "\n",
    "Counter([d[\"hostname\"] for d in rst]).most_common(50)"
   ]
  },
  {
   "cell_type": "code",
   "execution_count": 61,
   "metadata": {},
   "outputs": [
    {
     "data": {
      "application/vnd.jupyter.widget-view+json": {
       "model_id": "08038604e56946128a445c1ddbeefec9",
       "version_major": 2,
       "version_minor": 0
      },
      "text/plain": [
       "HBox(children=(IntProgress(value=0, max=122686), HTML(value='')))"
      ]
     },
     "metadata": {},
     "output_type": "display_data"
    },
    {
     "name": "stdout",
     "output_type": "stream",
     "text": [
      "\n"
     ]
    }
   ],
   "source": [
    "with open(\"data/ira-final-url.json\", \"w\") as f:\n",
    "    for r in tqdm(rst):\n",
    "        f.write(json.dumps(r) + \"\\n\")"
   ]
  },
  {
   "cell_type": "code",
   "execution_count": 121,
   "metadata": {
    "slideshow": {
     "slide_type": "-"
    }
   },
   "outputs": [
    {
     "data": {
      "application/vnd.jupyter.widget-view+json": {
       "model_id": "dcbbdaf8fa3f4c1b937512e6d6746695",
       "version_major": 2,
       "version_minor": 0
      },
      "text/plain": [
       "HBox(children=(IntProgress(value=1, bar_style='info', max=1), HTML(value='')))"
      ]
     },
     "metadata": {},
     "output_type": "display_data"
    },
    {
     "name": "stdout",
     "output_type": "stream",
     "text": [
      "\n"
     ]
    },
    {
     "data": {
      "text/plain": [
       "(31666, 16792, 17537, 2036)"
      ]
     },
     "execution_count": 121,
     "metadata": {},
     "output_type": "execute_result"
    }
   ],
   "source": [
    "# 关键词选择出与 分析 相关的数据，主要是election, trump, hillary\n",
    "# IGNORE: 通过关键词合并数据，先放在一旁 !!!\n",
    "\n",
    "# 通过关键词和时间来筛选出相关的数据\n",
    "\n",
    "trump_count = 0\n",
    "hillary_count = 0\n",
    "election_count = 0\n",
    "\n",
    "bingo_index = set()\n",
    "\n",
    "for i, row in tqdm(tweets.iterrows()):\n",
    "    words = set(str(row[\"tweet_text\"]).lower().strip().split())\n",
    "    \n",
    "    if \"trump\" in words or \"realdonaldtrump\" in words or \"@realdonaldtrump\" in words or \"donaldtrump\" in words:\n",
    "        trump_count += 1\n",
    "        bingo_index.add(row[\"tweetid\"])\n",
    "    if \"hillary\" in words or \"clinton\" in words or \"hillaryclinton\" in words or \"@hillaryclinton\" in words:\n",
    "        hillary_count += 1\n",
    "        bingo_index.add(row[\"tweetid\"])    \n",
    "    if \"election\" in words or \"elect\" in words:\n",
    "        election_count += 1\n",
    "#         bingo_index.append(i)\n",
    "\n",
    "len(bingo_index), trump_count, hillary_count, election_count"
   ]
  },
  {
   "cell_type": "raw",
   "metadata": {},
   "source": [
    "针对这三万+ 的tweets进行详细地分析！"
   ]
  },
  {
   "cell_type": "code",
   "execution_count": 122,
   "metadata": {},
   "outputs": [],
   "source": [
    "df = tweets[tweets.tweetid.isin(bingo_index)]"
   ]
  },
  {
   "cell_type": "code",
   "execution_count": 123,
   "metadata": {},
   "outputs": [],
   "source": [
    "df.to_csv(\"ira-tweets-trump-hillary.csv\", index=None)"
   ]
  },
  {
   "cell_type": "code",
   "execution_count": 2,
   "metadata": {},
   "outputs": [
    {
     "ename": "NameError",
     "evalue": "name 'pd' is not defined",
     "output_type": "error",
     "traceback": [
      "\u001b[0;31m---------------------------------------------------------------------------\u001b[0m",
      "\u001b[0;31mNameError\u001b[0m                                 Traceback (most recent call last)",
      "\u001b[0;32m<timed exec>\u001b[0m in \u001b[0;36m<module>\u001b[0;34m\u001b[0m\n",
      "\u001b[0;31mNameError\u001b[0m: name 'pd' is not defined"
     ]
    }
   ],
   "source": [
    "# select the pro-trump of tweets in election\n",
    "\n",
    "# tweet_ids = set(\n",
    "#     [str(json.loads(line.strip())[\"tweet_id\"]) for line in open(\"data/IRA-tweets.json\")])\n",
    "\n",
    "# tweet_ids = pd.read_csv(\"data/ira-tweets-ele.csv\", usecols=[\"tweetid\"], dtype=str).tweetid.tolist()\n",
    "\n",
    "# tweet_ids = set(pd.read_csv(\"data/ira-tweets-trump-hillary.csv\", usecols=[\"tweetid\"], dtype=str).tweetid.tolist())\n",
    "\n",
    "\n",
    "# print(tweet_ids[0])\n",
    "\n",
    "%time tweets = pd.read_csv(\"data/ira-tweets-ele.csv\")\n",
    "tweet_ids = set([str(tid) for tid in tweets.tweetid.tolist()])"
   ]
  },
  {
   "cell_type": "code",
   "execution_count": 134,
   "metadata": {},
   "outputs": [
    {
     "data": {
      "application/vnd.jupyter.widget-view+json": {
       "model_id": "2e05e5ea984642a4b86d91b57664dac3",
       "version_major": 2,
       "version_minor": 0
      },
      "text/plain": [
       "HBox(children=(IntProgress(value=1, bar_style='info', max=1), HTML(value='')))"
      ]
     },
     "metadata": {},
     "output_type": "display_data"
    },
    {
     "data": {
      "text/plain": [
       "(13198, 6314)"
      ]
     },
     "execution_count": 134,
     "metadata": {},
     "output_type": "execute_result"
    },
    {
     "data": {
      "image/png": "[encoded data removed]",
      "text/plain": [
       "<Figure size 432x288 with 1 Axes>"
      ]
     },
     "metadata": {
      "needs_background": "light"
     },
     "output_type": "display_data"
    }
   ],
   "source": [
    "pros = []\n",
    "for line in tqdm(open(\"data/IRA_support_trump.txt\")):\n",
    "    w = line.strip().split(\",\")\n",
    "    if w[0] in tweet_ids:\n",
    "        pros.append(float(w[1]))\n",
    "        \n",
    "# 分析pro-trump\n",
    "\n",
    "d = pd.Series(pros)\n",
    "d.hist(bins=10)\n",
    "plt.xlabel('Probability of pro-trump', fontsize=13)\n",
    "plt.ylabel('Number of tweets', fontsize=13)\n",
    "plt.xticks(fontsize=13); plt.yticks(fontsize=13)\n",
    "plt.tight_layout()\n",
    "plt.savefig(\"fig/probality of pro-trump.pdf\", dpi=300)\n",
    "\n",
    "trump_count = 0\n",
    "hillary_count = 0\n",
    "\n",
    "for row in d:\n",
    "    if row >= 0.8:\n",
    "        trump_count += 1\n",
    "    elif row < 0.2:\n",
    "        hillary_count += 1\n",
    "        \n",
    "trump_count, hillary_count"
   ]
  },
  {
   "cell_type": "code",
   "execution_count": 140,
   "metadata": {},
   "outputs": [
    {
     "data": {
      "application/vnd.jupyter.widget-view+json": {
       "model_id": "d4898b4a06394d3895387a37e25261f7",
       "version_major": 2,
       "version_minor": 0
      },
      "text/plain": [
       "HBox(children=(IntProgress(value=1, bar_style='info', max=1), HTML(value='')))"
      ]
     },
     "metadata": {},
     "output_type": "display_data"
    },
    {
     "name": "stdout",
     "output_type": "stream",
     "text": [
      "could not convert string to float: 'pro_trump'\n"
     ]
    },
    {
     "data": {
      "text/plain": [
       "(423705, 562089)"
      ]
     },
     "execution_count": 140,
     "metadata": {},
     "output_type": "execute_result"
    },
    {
     "data": {
      "image/png": "[encoded data removed]",
      "text/plain": [
       "<Figure size 432x288 with 1 Axes>"
      ]
     },
     "metadata": {
      "needs_background": "light"
     },
     "output_type": "display_data"
    }
   ],
   "source": [
    "pros = []\n",
    "for line in tqdm(open(\"data/IRA_support_trump.txt\")):\n",
    "    try:\n",
    "        w = line.strip().split(\",\")\n",
    "        pros.append(float(w[1]))\n",
    "    except Exception as e:\n",
    "        print(e)\n",
    "        \n",
    "# 分析pro-trump\n",
    "\n",
    "d = pd.Series(pros)\n",
    "d.hist(bins=10)\n",
    "plt.xlabel('Probability of pro-trump', fontsize=13)\n",
    "plt.ylabel('Number of tweets', fontsize=13)\n",
    "plt.xticks(fontsize=13); plt.yticks(fontsize=13)\n",
    "plt.tight_layout()\n",
    "plt.savefig(\"fig/pro-trump-all.pdf\", dpi=300)\n",
    "\n",
    "trump_count = 0\n",
    "hillary_count = 0\n",
    "\n",
    "for row in d:\n",
    "    if row >= 0.8:\n",
    "        trump_count += 1\n",
    "    elif row < 0.2:\n",
    "        hillary_count += 1\n",
    "        \n",
    "trump_count, hillary_count"
   ]
  },
  {
   "cell_type": "code",
   "execution_count": 139,
   "metadata": {},
   "outputs": [
    {
     "data": {
      "application/vnd.jupyter.widget-view+json": {
       "model_id": "cc74c7da60ef4fe7831aea07a8ee494c",
       "version_major": 2,
       "version_minor": 0
      },
      "text/plain": [
       "HBox(children=(IntProgress(value=1, bar_style='info', max=1), HTML(value='')))"
      ]
     },
     "metadata": {},
     "output_type": "display_data"
    },
    {
     "data": {
      "text/plain": [
       "(52962, 72734)"
      ]
     },
     "execution_count": 139,
     "metadata": {},
     "output_type": "execute_result"
    },
    {
     "data": {
      "image/png": "[encoded data removed]",
      "text/plain": [
       "<Figure size 432x288 with 1 Axes>"
      ]
     },
     "metadata": {
      "needs_background": "light"
     },
     "output_type": "display_data"
    }
   ],
   "source": [
    "pros = []\n",
    "for line in tqdm(open(\"data/IRA_support_trump.txt\")):\n",
    "    w = line.strip().split(\",\")\n",
    "    if w[0] in tweet_ids:\n",
    "        pros.append(float(w[1]))\n",
    "        \n",
    "# 分析pro-trump\n",
    "\n",
    "d = pd.Series(pros)\n",
    "d.hist(bins=10)\n",
    "plt.xlabel('Probability of pro-trump', fontsize=13)\n",
    "plt.ylabel('Number of tweets', fontsize=13)\n",
    "plt.xticks(fontsize=13); plt.yticks(fontsize=13)\n",
    "plt.tight_layout()\n",
    "plt.savefig(\"fig/pro-trump-en.pdf\", dpi=300)\n",
    "\n",
    "trump_count = 0\n",
    "hillary_count = 0\n",
    "\n",
    "for row in d:\n",
    "    if row >= 0.8:\n",
    "        trump_count += 1\n",
    "    elif row < 0.2:\n",
    "        hillary_count += 1\n",
    "        \n",
    "trump_count, hillary_count"
   ]
  },
  {
   "cell_type": "code",
   "execution_count": 33,
   "metadata": {},
   "outputs": [
    {
     "data": {
      "image/png": "[encoded data removed]",
      "text/plain": [
       "<Figure size 432x360 with 1 Axes>"
      ]
     },
     "metadata": {
      "needs_background": "light"
     },
     "output_type": "display_data"
    }
   ],
   "source": [
    "plt.figure(figsize=(6, 5))\n",
    "plt.bar(1, hillary_count, color=sns.color_palette(\"RdBu\")[5], width=0.2)\n",
    "plt.bar(1.5, trump_count, color=sns.color_palette(\"RdBu\")[0], width=0.2)\n",
    "label = [\"pro-hillary\\n{0:.0%}\".format(hillary_count / (trump_count + hillary_count)),\n",
    "         \"pro-trump\\n{0:.0%}\".format(trump_count / (trump_count + hillary_count))]\n",
    "plt.xticks([1, 1.5], label)\n",
    "plt.xlabel('Support rate', fontsize=15)\n",
    "plt.ylabel('Number of tweets', fontsize=15)\n",
    "plt.xticks(fontsize=14); plt.yticks(fontsize=14)\n",
    "plt.tight_layout()\n",
    "plt.savefig(\"support rate.png\", dpi=300)"
   ]
  },
  {
   "cell_type": "markdown",
   "metadata": {},
   "source": [
    "### 分析构造的IRA全网络"
   ]
  },
  {
   "cell_type": "code",
   "execution_count": 2,
   "metadata": {},
   "outputs": [],
   "source": [
    "all_net = nx.read_gpickle(\"data/network/ira-all.gpickle\")"
   ]
  },
  {
   "cell_type": "code",
   "execution_count": 3,
   "metadata": {},
   "outputs": [
    {
     "data": {
      "text/plain": [
       "136155"
      ]
     },
     "execution_count": 3,
     "metadata": {},
     "output_type": "execute_result"
    }
   ],
   "source": [
    "all_net.number_of_nodes()"
   ]
  },
  {
   "cell_type": "code",
   "execution_count": 4,
   "metadata": {},
   "outputs": [
    {
     "data": {
      "text/plain": [
       "277346"
      ]
     },
     "execution_count": 4,
     "metadata": {},
     "output_type": "execute_result"
    }
   ],
   "source": [
    "all_net.number_of_edges()"
   ]
  },
  {
   "cell_type": "code",
   "execution_count": 14,
   "metadata": {},
   "outputs": [],
   "source": [
    "# very important!\n",
    "\n",
    "ira_user_set = set()\n",
    "for uid in putin.IRA_user_set:\n",
    "    try:\n",
    "        if len(putin._map[uid]) != 64:\n",
    "            ira_user_set.add(str(putin._map[uid]))\n",
    "    except:\n",
    "        if len(uid) != 64:\n",
    "            ira_user_set.add(uid)"
   ]
  },
  {
   "cell_type": "code",
   "execution_count": 15,
   "metadata": {},
   "outputs": [],
   "source": [
    "ira_user_list = list(ira_user_set)"
   ]
  },
  {
   "cell_type": "code",
   "execution_count": 17,
   "metadata": {},
   "outputs": [
    {
     "data": {
      "text/plain": [
       "AtlasView({'2951904191': {}, '1339835893': {}, '2949261587': {}, '16715398': {}, '15980895': {}, '1330457336': {}, '3573336134': {}, '14522241': {}, '1640929196': {}, '716813053': {}, '22799750': {}, '759251': {}, '25073877': {}, '16589206': {}, '3313779296': {}, '41634520': {}, '1734949104': {}, '29417304': {}, '17629860': {}, '358545917': {}, '3245135844': {}, '18643437': {}, '66533920': {}, '16228398': {}, '229592356': {}, '823738296': {}, '2227403496': {}, '20772763': {}, '14717197': {}, '259001548': {}, '31228313': {}, '22203756': {}, '3124986791': {}, '439608838': {}, '17194090': {}, '4925188717': {}, '1140341359': {}, '4917092018': {}, '712967096': {}, '53130511': {}, '21688902': {}, '783214': {}, '2897970594': {}, '2864051403': {}, '18949452': {}, '15745368': {}, '45876240': {}})"
      ]
     },
     "execution_count": 17,
     "metadata": {},
     "output_type": "execute_result"
    }
   ],
   "source": [
    "all_net[ira_user_list[0]]"
   ]
  },
  {
   "cell_type": "code",
   "execution_count": 5,
   "metadata": {},
   "outputs": [],
   "source": [
    "CI_rst = np.load(\"data/CI_rst/CI_out_ira-all.rst.npy\")\n",
    "CI_rank_rst = CI_rst[0][:100]"
   ]
  },
  {
   "cell_type": "code",
   "execution_count": 7,
   "metadata": {},
   "outputs": [],
   "source": [
    "gtG = gt.load_graph(\"data/network/ira-all.gt\")"
   ]
  },
  {
   "cell_type": "code",
   "execution_count": 8,
   "metadata": {},
   "outputs": [],
   "source": [
    "from fake_identify import Are_you_IRA\n",
    "\n",
    "putin = Are_you_IRA()"
   ]
  },
  {
   "cell_type": "raw",
   "metadata": {},
   "source": [
    "for i, v_i in enumerate(CI_rst[0][:100]):\n",
    "    if gtG.vp[\"id\"][v_i] in putin.IRA_user_set:\n",
    "        print(i + 1, gtG.vp[\"id\"][v_i], \"√\", gtG.vp[\"CI_out\"][v_i])\n",
    "    else:\n",
    "        print(i + 1, gtG.vp[\"id\"][v_i])"
   ]
  },
  {
   "cell_type": "code",
   "execution_count": 10,
   "metadata": {},
   "outputs": [
    {
     "name": "stdout",
     "output_type": "stream",
     "text": [
      "CI_both        (vertex)  (type: int64_t)\n",
      "CI_out         (vertex)  (type: int64_t)\n",
      "id             (vertex)  (type: string)\n",
      "katz           (vertex)  (type: double)\n",
      "katz_rev       (vertex)  (type: double)\n"
     ]
    }
   ],
   "source": [
    "gtG.list_properties()"
   ]
  },
  {
   "cell_type": "code",
   "execution_count": 3,
   "metadata": {},
   "outputs": [
    {
     "name": "stdout",
     "output_type": "stream",
     "text": [
      "loading all tweets_csv ...\n",
      "finished!\n"
     ]
    }
   ],
   "source": [
    "from all_tweets import ALL_TWEET\n",
    "\n",
    "Lebron = ALL_TWEET()\n",
    "all_tweets = Lebron.load_all_tweets()"
   ]
  },
  {
   "cell_type": "code",
   "execution_count": 27,
   "metadata": {
    "scrolled": false
   },
   "outputs": [],
   "source": [
    "IRA_tweet_id = all_tweets[(all_tweets.is_IRA > 0) & (all_tweets.media_type == \"0\")].tweet_id"
   ]
  },
  {
   "cell_type": "code",
   "execution_count": 30,
   "metadata": {},
   "outputs": [],
   "source": [
    "IRA_tweet_ids = [_id for _id in IRA_tweet_id]"
   ]
  },
  {
   "cell_type": "code",
   "execution_count": 32,
   "metadata": {},
   "outputs": [
    {
     "data": {
      "text/plain": [
       "'786477613162246144'"
      ]
     },
     "execution_count": 32,
     "metadata": {},
     "output_type": "execute_result"
    }
   ],
   "source": [
    "IRA_tweet_ids[0]"
   ]
  },
  {
   "cell_type": "markdown",
   "metadata": {},
   "source": [
    "## 获取IRA发布消息的client_name"
   ]
  },
  {
   "cell_type": "code",
   "execution_count": 16,
   "metadata": {},
   "outputs": [
    {
     "name": "stdout",
     "output_type": "stream",
     "text": [
      "CPU times: user 1.54 s, sys: 0 ns, total: 1.54 s\n",
      "Wall time: 1.58 s\n"
     ]
    }
   ],
   "source": [
    "# %time all_ira_tweets = pd.read_csv(\"data/ira_tweets_csv_hashed.csv\", usecols=[\"tweetid\", \"tweet_client_name\"], dtype=str)\n",
    "%time all_ira_tweets = pd.read_csv(\"data/ira-tweets-ele.csv\", usecols=[\"tweetid\", \"tweet_client_name\"], dtype=str)"
   ]
  },
  {
   "cell_type": "code",
   "execution_count": 17,
   "metadata": {},
   "outputs": [],
   "source": [
    "official_twitter_clients = set([\n",
    "    'Twitter for iPhone',\n",
    "    'Twitter for Android',\n",
    "    'Twitter Web Client',\n",
    "    'Twitter Web App',\n",
    "    'Twitter for iPad',\n",
    "    'Mobile Web (M5)',\n",
    "    'TweetDeck',\n",
    "    'Mobile Web',\n",
    "    'Mobile Web (M2)',\n",
    "    'Twitter for Windows',\n",
    "    'Twitter for Windows Phone',\n",
    "    'Twitter for BlackBerry',\n",
    "    'Twitter for Android Tablets',\n",
    "    'Twitter for Mac',\n",
    "    'Twitter for BlackBerry®',\n",
    "    'Twitter Dashboard for iPhone',\n",
    "    'Twitter for iPhone',\n",
    "    'Twitter Ads',\n",
    "    'Twitter for  Android',\n",
    "    'Twitter for Apple Watch',\n",
    "    'Twitter Business Experience',\n",
    "    'Twitter for Google TV',\n",
    "    'Chirp (Twitter Chrome extension)',\n",
    "    'Twitter for Samsung Tablets',\n",
    "    'Twitter for MediaTek Phones',\n",
    "    'Google',\n",
    "    'Facebook',\n",
    "    'Twitter for Mac',\n",
    "    'iOS',\n",
    "    'Instagram',\n",
    "    'Vine - Make a Scene',\n",
    "    'Tumblr'])"
   ]
  },
  {
   "cell_type": "code",
   "execution_count": 18,
   "metadata": {},
   "outputs": [],
   "source": [
    "clients_count = all_ira_tweets.tweet_client_name.value_counts()"
   ]
  },
  {
   "cell_type": "code",
   "execution_count": 20,
   "metadata": {},
   "outputs": [
    {
     "name": "stdout",
     "output_type": "stream",
     "text": [
      "√ Twitter Web Client 272325\n",
      "twitterfeed 67420\n",
      "√ TweetDeck 45374\n",
      "Twibble.io 3028\n",
      "√ Twitter for Android 2320\n",
      "dlvr.it 696\n",
      "Buffer 124\n",
      "√ Google 78\n",
      "√ Twitter for iPhone 76\n",
      "Medium 36\n",
      "Crowdfire - Go Big 32\n",
      "√ Facebook 25\n",
      "fllwrs 22\n",
      "WordPress.com 22\n",
      "Tweetbot for iΟS 17\n",
      "pourtwi 15\n",
      "Hashtag Roundup 15\n",
      "Twitter Lite 12\n",
      "LiveJournal.com 10\n",
      "√ Instagram 9\n",
      "Linkis: turn sharing into growth 9\n",
      "uCampaign 5\n",
      "Viral Content Buzz 4\n",
      "ReverbNation 3\n",
      "Tweepi 1\n",
      "vk.com pages 1\n",
      "NovaPress Publisher 1\n"
     ]
    },
    {
     "data": {
      "text/plain": [
       "('proportion of unofficial account:', 0.1824780433006536)"
      ]
     },
     "execution_count": 20,
     "metadata": {},
     "output_type": "execute_result"
    }
   ],
   "source": [
    "unoff = 0\n",
    "for client_name, row in clients_count.iteritems():\n",
    "    if client_name in official_twitter_clients:\n",
    "        print(\"√\", client_name, row)\n",
    "    else:\n",
    "        print(client_name, row)\n",
    "        unoff += row\n",
    "        \n",
    "\"proportion of unofficial account:\", unoff / sum(clients_count)"
   ]
  },
  {
   "cell_type": "code",
   "execution_count": 21,
   "metadata": {
    "scrolled": false
   },
   "outputs": [
    {
     "ename": "NameError",
     "evalue": "name 'client_names' is not defined",
     "output_type": "error",
     "traceback": [
      "\u001b[0;31m---------------------------------------------------------------------------\u001b[0m",
      "\u001b[0;31mNameError\u001b[0m                                 Traceback (most recent call last)",
      "\u001b[0;32m<ipython-input-21-381195cba19b>\u001b[0m in \u001b[0;36m<module>\u001b[0;34m\u001b[0m\n\u001b[0;32m----> 1\u001b[0;31m \u001b[0mnew_client_names\u001b[0m \u001b[0;34m=\u001b[0m \u001b[0;34m[\u001b[0m\u001b[0mc\u001b[0m\u001b[0;34m.\u001b[0m\u001b[0mget_values\u001b[0m\u001b[0;34m(\u001b[0m\u001b[0;34m)\u001b[0m\u001b[0;34m[\u001b[0m\u001b[0;36m0\u001b[0m\u001b[0;34m]\u001b[0m \u001b[0;32mfor\u001b[0m \u001b[0mc\u001b[0m \u001b[0;32min\u001b[0m \u001b[0mclient_names\u001b[0m\u001b[0;34m]\u001b[0m\u001b[0;34m\u001b[0m\u001b[0;34m\u001b[0m\u001b[0m\n\u001b[0m",
      "\u001b[0;31mNameError\u001b[0m: name 'client_names' is not defined"
     ]
    }
   ],
   "source": [
    "new_client_names = [c.get_values()[0] for c in client_names]"
   ]
  },
  {
   "cell_type": "code",
   "execution_count": 56,
   "metadata": {
    "scrolled": false
   },
   "outputs": [],
   "source": [
    "from collections import Counter\n",
    "\n",
    "count_clinet_names = Counter(new_client_names)"
   ]
  },
  {
   "cell_type": "code",
   "execution_count": 60,
   "metadata": {},
   "outputs": [
    {
     "data": {
      "text/plain": [
       "Twitter Web Client     891\n",
       "Twitter for Android     18\n",
       "TweetDeck               45\n",
       "dlvr.it                222\n",
       "dtype: int64"
      ]
     },
     "execution_count": 60,
     "metadata": {},
     "output_type": "execute_result"
    }
   ],
   "source": [
    "pd.Series(count_clinet_names)"
   ]
  },
  {
   "cell_type": "code",
   "execution_count": 62,
   "metadata": {},
   "outputs": [
    {
     "data": {
      "text/plain": [
       "0.18877551020408162"
      ]
     },
     "execution_count": 62,
     "metadata": {},
     "output_type": "execute_result"
    }
   ],
   "source": [
    "# proportion of auto client in fake news of IRA\n",
    "\n",
    "222 / (891 + 18 + 45 + 222)"
   ]
  },
  {
   "cell_type": "markdown",
   "metadata": {},
   "source": [
    "### IRA传播了哪些信息？他们影响了谁？"
   ]
  },
  {
   "cell_type": "code",
   "execution_count": 176,
   "metadata": {},
   "outputs": [],
   "source": [
    "from collections import Counter\n",
    "from imp import reload\n",
    "import fake_identify\n",
    "reload(fake_identify)\n",
    "\n",
    "map_labels = {\n",
    "    \"-1\": \"-1\",\n",
    "    \"0\": \"fake\",\n",
    "    \"1\": \"extreme bias (right)\",\n",
    "    \"2\": \"right\",\n",
    "    \"3\": \"right leaning\",\n",
    "    \"4\": \"center\",\n",
    "    \"5\": \"left leaning\",\n",
    "    \"6\": \"left\",\n",
    "    \"7\": \"extreme bias (left)\"\n",
    "}\n",
    "\n",
    "Putin = fake_identify.Who_is_fake()\n",
    "\n",
    "bias_cnt = Counter()\n",
    "bias_cnt_b = Counter()\n",
    "bias_cnt_sci_f = Counter()\n",
    "bias_cnt_sci_a = Counter()\n",
    "fact_cnt = Counter()\n",
    "\n",
    "cnt = Counter()\n",
    "for line in open(\"data/ira-urls-plus-2.json\"):\n",
    "    d = json.loads(line.strip())\n",
    "#     if \"error\" in d and d[\"error\"]:\n",
    "#         cnt[\"cannot analyzing this URL\"] += 1\n",
    "#         print(d)\n",
    "#     else:\n",
    "    hostname = d[\"hostname\"]\n",
    "    if hostname.startswith(\"www.\"):\n",
    "        hostname = hostname[4:]\n",
    "    cnt[hostname] += 1\n",
    "#         if d[\"hostname\"] == \"m.vk.com\":\n",
    "#             print(d)\n",
    "\n",
    "del cnt[\"bit.ly\"]\n",
    "\n",
    "print(\"hostname,count,category_alex,category_mbfc,category_sci_fake,category_sci_align\",\n",
    "      file=open(\"data/ira-hostname.csv\", \"a\")) \n",
    "for v in cnt.most_common():\n",
    "    label_b = Putin.identify(v[0])\n",
    "    label = Putin.identify_v2(v[0])\n",
    "    label_sci_f = Putin.identify_science_fake(v[0])\n",
    "    label_sci_a = Putin.identify_science_align(v[0])\n",
    "\n",
    "    bias_cnt_b[map_labels[str(label_b)]] += v[1]\n",
    "    bias_cnt[label] += v[1]\n",
    "    bias_cnt_sci_f[label_sci_f] += v[1]\n",
    "    bias_cnt_sci_a[label_sci_a] += v[1]\n",
    "    \n",
    "#     fact_cnt[rst[1]] += v[1]\n",
    "    print(v[0], v[1], map_labels[str(label_b)], label, label_sci_f, label_sci_a, sep=\",\",\n",
    "          file=open(\"data/ira-hostname.csv\", \"a\"))\n",
    "    \n",
    "#     if map_labels[str(label_b)] == \"-1\" and label != \"-1\":\n",
    "#         print(v[0], v[1], map_labels[str(label_b)], label, sep=\",\")"
   ]
  },
  {
   "cell_type": "code",
   "execution_count": 76,
   "metadata": {},
   "outputs": [
    {
     "data": {
      "text/plain": [
       "[('-1', 78388),\n",
       " ('left leaning', 20707),\n",
       " ('fake', 9594),\n",
       " ('right', 4147),\n",
       " ('left', 3651),\n",
       " ('right leaning', 2937),\n",
       " ('center', 2347)]"
      ]
     },
     "execution_count": 76,
     "metadata": {},
     "output_type": "execute_result"
    }
   ],
   "source": [
    "bias_cnt.most_common()"
   ]
  },
  {
   "cell_type": "code",
   "execution_count": 77,
   "metadata": {},
   "outputs": [
    {
     "data": {
      "text/plain": [
       "[('-1', 98770),\n",
       " ('left leaning', 5168),\n",
       " ('right', 5127),\n",
       " ('center', 4022),\n",
       " ('extreme bias (right)', 2660),\n",
       " ('left', 2275),\n",
       " ('right leaning', 2103),\n",
       " ('fake', 1539),\n",
       " ('extreme bias (left)', 107)]"
      ]
     },
     "execution_count": 77,
     "metadata": {},
     "output_type": "execute_result"
    }
   ],
   "source": [
    "bias_cnt_b.most_common()"
   ]
  },
  {
   "cell_type": "code",
   "execution_count": 78,
   "metadata": {},
   "outputs": [
    {
     "data": {
      "text/plain": [
       "[('-1', 118392), ('Red', 1636), ('Orange', 1046), ('Black', 697)]"
      ]
     },
     "execution_count": 78,
     "metadata": {},
     "output_type": "execute_result"
    }
   ],
   "source": [
    "bias_cnt_sci_f.most_common()"
   ]
  },
  {
   "cell_type": "code",
   "execution_count": 178,
   "metadata": {},
   "outputs": [
    {
     "data": {
      "application/vnd.jupyter.widget-view+json": {
       "model_id": "a218f5b96fc44cd68fd8dae8af59db41",
       "version_major": 2,
       "version_minor": 0
      },
      "text/plain": [
       "HBox(children=(IntProgress(value=1, bar_style='info', max=1), HTML(value='')))"
      ]
     },
     "metadata": {},
     "output_type": "display_data"
    },
    {
     "name": "stdout",
     "output_type": "stream",
     "text": [
      "\n"
     ]
    }
   ],
   "source": [
    "bias_cnt = Counter()\n",
    "bias_cnt_b = Counter()\n",
    "bias_cnt_sci_f = Counter()\n",
    "bias_cnt_sci_a = Counter()\n",
    "fact_cnt = Counter()\n",
    "\n",
    "cnt = Counter()\n",
    "for line in tqdm(open(\"disk/bingo_tweets.json\")):\n",
    "    d = json.loads(line.strip())\n",
    "#     if \"error\" in d and d[\"error\"]:\n",
    "#         cnt[\"cannot analyzing this URL\"] += 1\n",
    "#         print(d)\n",
    "#     else:\n",
    "    hostname = d[\"final_hostname\"]\n",
    "    if hostname.startswith(\"www.\"):\n",
    "        hostname = hostname[4:]\n",
    "    cnt[hostname] += 1\n",
    "#         if d[\"hostname\"] == \"m.vk.com\":\n",
    "#             print(d)\n",
    "\n",
    "del cnt[\"bit.ly\"]\n",
    "\n",
    "print(\"hostname,count,category_alex,category_mbfc,category_sci_fake,category_sci_align\",\n",
    "      file=open(\"data/all-hostname.csv\", \"a\")) \n",
    "for v in cnt.most_common():\n",
    "    label_b = Putin.identify(v[0])\n",
    "    label = Putin.identify_v2(v[0])\n",
    "    label_sci_f = Putin.identify_science_fake(v[0])\n",
    "    label_sci_a = Putin.identify_science_align(v[0])\n",
    "\n",
    "    bias_cnt_b[map_labels[str(label_b)]] += v[1]\n",
    "    bias_cnt[label] += v[1]\n",
    "    bias_cnt_sci_f[label_sci_f] += v[1]\n",
    "    bias_cnt_sci_a[label_sci_a] += v[1]\n",
    "    \n",
    "#     fact_cnt[rst[1]] += v[1]\n",
    "    print(v[0], v[1], map_labels[str(label_b)], label, label_sci_f, label_sci_a, sep=\",\",\n",
    "          file=open(\"data/all-hostname.csv\", \"a\"))\n",
    "    \n",
    "#     if map_labels[str(label_b)] == \"-1\" and label != \"-1\":\n",
    "#         print(v[0], v[1], map_labels[str(label_b)], label, sep=\",\")"
   ]
  },
  {
   "cell_type": "code",
   "execution_count": 80,
   "metadata": {},
   "outputs": [
    {
     "name": "stdout",
     "output_type": "stream",
     "text": [
      "start ...\n"
     ]
    },
    {
     "data": {
      "application/vnd.jupyter.widget-view+json": {
       "model_id": "42ff474582ab4692837fa60c9255912c",
       "version_major": 2,
       "version_minor": 0
      },
      "text/plain": [
       "HBox(children=(IntProgress(value=0, max=57121899), HTML(value='')))"
      ]
     },
     "metadata": {},
     "output_type": "display_data"
    },
    {
     "name": "stdout",
     "output_type": "stream",
     "text": [
      "\n"
     ]
    }
   ],
   "source": [
    "import sqlite3\n",
    "\n",
    "# all\n",
    "conn = sqlite3.connect(\n",
    "    \"/home/alex/network_workdir/elections/databases/urls_db.sqlite\")\n",
    "c = conn.cursor()\n",
    "c.execute('''SELECT * FROM urls;''')\n",
    "col_names = [t[0] for t in c.description]\n",
    "\n",
    "with open(\"disk/all_tweets.json\", \"w\") as f:\n",
    "    print(\"start ...\")\n",
    "    for d in tqdm(c.fetchall()):\n",
    "        if d[8]:\n",
    "            hostname = d[8].lower()\n",
    "            # print(hostname)\n",
    "            if hostname.startswith(\"www.\"):\n",
    "                hostname = hostname[4:]\n",
    "                \n",
    "            label_b = map_labels[str(Putin.identify(hostname))]\n",
    "            label = Putin.identify_v2(hostname)\n",
    "            label_sci_f = Putin.identify_science_fake(hostname)\n",
    "            label_sci_a = Putin.identify_science_align(hostname)\n",
    "\n",
    "            json_d = {k: v for k, v in zip(col_names, d)}\n",
    "            json_d[\"media_type\"] = label_b\n",
    "            json_d[\"c_mbfc\"] = label                         \n",
    "            json_d[\"c_sci_fake\"] = label_sci_f                         \n",
    "            json_d[\"c_sci_align\"] = label_sci_a\n",
    "            \n",
    "            f.write(json.dumps(json_d, ensure_ascii=False) + '\\n')\n",
    "            # self.tweet_ids.append(json_d[\"tweet_id\"])\n",
    "            \n",
    "conn.close()"
   ]
  },
  {
   "cell_type": "markdown",
   "metadata": {},
   "source": [
    "分析全局的URL的情况"
   ]
  },
  {
   "cell_type": "code",
   "execution_count": 89,
   "metadata": {},
   "outputs": [
    {
     "data": {
      "application/vnd.jupyter.widget-view+json": {
       "model_id": "c8b8e74a24554939993aaa084df30c7d",
       "version_major": 2,
       "version_minor": 0
      },
      "text/plain": [
       "HBox(children=(IntProgress(value=1, bar_style='info', max=1), HTML(value='')))"
      ]
     },
     "metadata": {},
     "output_type": "display_data"
    },
    {
     "name": "stdout",
     "output_type": "stream",
     "text": [
      "\n"
     ]
    }
   ],
   "source": [
    "\n",
    "\n",
    "# bingo_tweets.json 是指至少被识别过一次的\n",
    "with open(\"disk/bingo_tweets.json\", \"w\") as f:\n",
    "    for line in tqdm(open(\"disk/all_tweets.json\")):\n",
    "        d = json.loads(line.strip())\n",
    "        if d[\"c_mbfc\"] != \"-1\" or d[\"media_type\"] != \"-1\" or d[\"c_sci_fake\"] != \"-1\":\n",
    "            f.write(line)\n",
    "    "
   ]
  },
  {
   "cell_type": "code",
   "execution_count": 3,
   "metadata": {},
   "outputs": [
    {
     "data": {
      "application/vnd.jupyter.widget-view+json": {
       "model_id": "b077e4562b714742b56083fce518e9c0",
       "version_major": 2,
       "version_minor": 0
      },
      "text/plain": [
       "HBox(children=(IntProgress(value=1, bar_style='info', max=1), HTML(value='')))"
      ]
     },
     "metadata": {},
     "output_type": "display_data"
    },
    {
     "name": "stdout",
     "output_type": "stream",
     "text": [
      "\n"
     ]
    }
   ],
   "source": [
    "from collections import Counter\n",
    "\n",
    "ht_cnt = Counter()\n",
    "\n",
    "for line in tqdm(open(\"disk/all_tweets.json\")):\n",
    "    d = json.loads(line.strip())\n",
    "    ht_cnt[d[\"final_hostname\"]] += 1\n"
   ]
  },
  {
   "cell_type": "code",
   "execution_count": 7,
   "metadata": {},
   "outputs": [],
   "source": [
    "import fake_identify\n",
    "\n",
    "map_labels = {\n",
    "    \"-1\": \"-1\",\n",
    "    \"0\": \"fake\",\n",
    "    \"1\": \"extreme bias (right)\",\n",
    "    \"2\": \"right\",\n",
    "    \"3\": \"right leaning\",\n",
    "    \"4\": \"center\",\n",
    "    \"5\": \"left leaning\",\n",
    "    \"6\": \"left\",\n",
    "    \"7\": \"extreme bias (left)\"\n",
    "}\n",
    "\n",
    "Putin = fake_identify.Who_is_fake()\n",
    "\n",
    "bias_cnt = Counter()\n",
    "bias_cnt_b = Counter()\n",
    "bias_cnt_sci_f = Counter()\n",
    "bias_cnt_sci_a = Counter()\n",
    "\n",
    "\n",
    "print(\"hostname,count,category_alex,category_mbfc,category_sci_fake,category_sci_align\", file=open(\"data/all-hostname-stat.csv\", \"a\")) \n",
    "for v in ht_cnt.most_common(1000):\n",
    "    label_b = Putin.identify(v[0])\n",
    "    label = Putin.identify_v2(v[0])\n",
    "    label_sci_f = Putin.identify_science_fake(v[0])\n",
    "    label_sci_a = Putin.identify_science_align(v[0])\n",
    "\n",
    "    bias_cnt_b[map_labels[str(label_b)]] += v[1]\n",
    "    bias_cnt[label] += v[1]\n",
    "    bias_cnt_sci_f[label_sci_f] += v[1]\n",
    "    bias_cnt_sci_a[label_sci_a] += v[1]\n",
    "    \n",
    "    print(v[0], v[1], map_labels[str(label_b)], label, label_sci_f, label_sci_a, sep=\",\", file=open(\"data/all-hostname-stat.csv\", \"a\"))"
   ]
  },
  {
   "cell_type": "code",
   "execution_count": 84,
   "metadata": {},
   "outputs": [
    {
     "data": {
      "text/plain": [
       "[('-1', 21366414),\n",
       " ('left leaning', 11670096),\n",
       " ('left', 7276584),\n",
       " ('fake', 6668013),\n",
       " ('right', 5399583),\n",
       " ('center', 2513694),\n",
       " ('right leaning', 2227513)]"
      ]
     },
     "execution_count": 84,
     "metadata": {},
     "output_type": "execute_result"
    }
   ],
   "source": [
    "bias_cnt.most_common()"
   ]
  },
  {
   "cell_type": "code",
   "execution_count": 85,
   "metadata": {},
   "outputs": [
    {
     "data": {
      "text/plain": [
       "[('-1', 26093139),\n",
       " ('left leaning', 7531427),\n",
       " ('center', 6494813),\n",
       " ('left', 4365831),\n",
       " ('right', 4042993),\n",
       " ('extreme bias (right)', 3981096),\n",
       " ('fake', 2994422),\n",
       " ('right leaning', 1008316),\n",
       " ('extreme bias (left)', 609860)]"
      ]
     },
     "execution_count": 85,
     "metadata": {},
     "output_type": "execute_result"
    }
   ],
   "source": [
    "bias_cnt_b.most_common()"
   ]
  },
  {
   "cell_type": "code",
   "execution_count": 86,
   "metadata": {},
   "outputs": [
    {
     "data": {
      "text/plain": [
       "[('-1', 51447062), ('Red', 2644269), ('Orange', 2011747), ('Black', 1018819)]"
      ]
     },
     "execution_count": 86,
     "metadata": {},
     "output_type": "execute_result"
    }
   ],
   "source": [
    "bias_cnt_sci_f.most_common()"
   ]
  },
  {
   "cell_type": "markdown",
   "metadata": {},
   "source": [
    "我们来看一下语言的问题"
   ]
  },
  {
   "cell_type": "code",
   "execution_count": 14,
   "metadata": {},
   "outputs": [
    {
     "name": "stdout",
     "output_type": "stream",
     "text": [
      "CPU times: user 3.42 s, sys: 80 ms, total: 3.5 s\n",
      "Wall time: 3 s\n"
     ]
    }
   ],
   "source": [
    "%time ira_tweets = pd.read_csv(\"data/ira-tweets-ele.csv\")"
   ]
  },
  {
   "cell_type": "code",
   "execution_count": 15,
   "metadata": {},
   "outputs": [
    {
     "data": {
      "text/plain": [
       "[('en', 391680)]"
      ]
     },
     "execution_count": 15,
     "metadata": {},
     "output_type": "execute_result"
    }
   ],
   "source": [
    "Counter(ira_tweets[\"tweet_language\"]).most_common()"
   ]
  },
  {
   "cell_type": "markdown",
   "metadata": {},
   "source": [
    "## IRA与谁交互了？他们的特点是什么样的？\n",
    "\n",
    "猜测：他们的倾向非常偏右，而且这类人群很集中，是目标的一群特定用户。他们基本不会相信其它人，已经深陷到fake news中。"
   ]
  },
  {
   "cell_type": "code",
   "execution_count": 169,
   "metadata": {},
   "outputs": [],
   "source": [
    "ira_tweets = pd.read_csv(\"data/ira-tweets-ele.csv\", dtype=str)"
   ]
  },
  {
   "cell_type": "code",
   "execution_count": 170,
   "metadata": {},
   "outputs": [
    {
     "data": {
      "text/plain": [
       "391680"
      ]
     },
     "execution_count": 170,
     "metadata": {},
     "output_type": "execute_result"
    }
   ],
   "source": [
    "len(ira_tweets)"
   ]
  },
  {
   "cell_type": "code",
   "execution_count": 13,
   "metadata": {},
   "outputs": [
    {
     "data": {
      "text/plain": [
       "Index(['tweetid', 'userid', 'user_display_name', 'user_screen_name',\n",
       "       'user_reported_location', 'user_profile_description',\n",
       "       'user_profile_url', 'follower_count', 'following_count',\n",
       "       'account_creation_date', 'account_language', 'tweet_language',\n",
       "       'tweet_text', 'tweet_time', 'tweet_client_name', 'in_reply_to_tweetid',\n",
       "       'in_reply_to_userid', 'quoted_tweet_tweetid', 'is_retweet',\n",
       "       'retweet_userid', 'retweet_tweetid', 'latitude', 'longitude',\n",
       "       'quote_count', 'reply_count', 'like_count', 'retweet_count', 'hashtags',\n",
       "       'urls', 'user_mentions', 'poll_choices'],\n",
       "      dtype='object')"
      ]
     },
     "execution_count": 13,
     "metadata": {},
     "output_type": "execute_result"
    }
   ],
   "source": [
    "ira_tweets.columns"
   ]
  },
  {
   "cell_type": "markdown",
   "metadata": {},
   "source": [
    "reply tweets"
   ]
  },
  {
   "cell_type": "code",
   "execution_count": 15,
   "metadata": {},
   "outputs": [
    {
     "data": {
      "text/plain": [
       "(391680, 5350, 29716, 246163, 259279)"
      ]
     },
     "execution_count": 15,
     "metadata": {},
     "output_type": "execute_result"
    }
   ],
   "source": [
    "reply_ira_tweets = ira_tweets[ira_tweets.in_reply_to_tweetid.notnull()]\n",
    "quote_ira_tweets = ira_tweets[ira_tweets.quoted_tweet_tweetid.notnull()]\n",
    "ret_ira_tweets = ira_tweets[ira_tweets.retweet_tweetid.notnull()]\n",
    "men_ira_tweets = ira_tweets[ira_tweets.user_mentions.notnull()]\n",
    "\n",
    "len(ira_tweets), len(reply_ira_tweets), len(quote_ira_tweets), len(ret_ira_tweets), len(men_ira_tweets)"
   ]
  },
  {
   "cell_type": "code",
   "execution_count": 41,
   "metadata": {},
   "outputs": [
    {
     "name": "stdout",
     "output_type": "stream",
     "text": [
      "['2683299690', '69231187']\n"
     ]
    }
   ],
   "source": [
    "for row in men_ira_tweets.user_mentions:\n",
    "    print(row[1:-1].split(\", \"))\n",
    "    break"
   ]
  },
  {
   "cell_type": "code",
   "execution_count": 26,
   "metadata": {},
   "outputs": [
    {
     "data": {
      "text/plain": [
       "26612"
      ]
     },
     "execution_count": 26,
     "metadata": {},
     "output_type": "execute_result"
    }
   ],
   "source": [
    "# quote是不是一定是ret？极大部分是，小部分不是\n",
    "len(set(quote_ira_tweets.tweetid) & set(ret_ira_tweets.tweetid))"
   ]
  },
  {
   "cell_type": "code",
   "execution_count": 27,
   "metadata": {},
   "outputs": [
    {
     "data": {
      "text/plain": [
       "158"
      ]
     },
     "execution_count": 27,
     "metadata": {},
     "output_type": "execute_result"
    }
   ],
   "source": [
    "# quote有一些可能是reply\n",
    "len(set(reply_ira_tweets.tweetid) & set(quote_ira_tweets.tweetid))"
   ]
  },
  {
   "cell_type": "code",
   "execution_count": 28,
   "metadata": {},
   "outputs": [
    {
     "data": {
      "text/plain": [
       "0"
      ]
     },
     "execution_count": 28,
     "metadata": {},
     "output_type": "execute_result"
    }
   ],
   "source": [
    "# reply一定不是ret\n",
    "len(set(reply_ira_tweets.tweetid) & set(ret_ira_tweets.tweetid))"
   ]
  },
  {
   "cell_type": "code",
   "execution_count": 20,
   "metadata": {},
   "outputs": [],
   "source": [
    "original_ira_tweets = ira_tweets[(ira_tweets.in_reply_to_tweetid.isnull()) & \\\n",
    "                                 (ira_tweets.quoted_tweet_tweetid.isnull()) & \\\n",
    "                                 (ira_tweets.retweet_tweetid.isnull())]"
   ]
  },
  {
   "cell_type": "code",
   "execution_count": 34,
   "metadata": {},
   "outputs": [],
   "source": [
    "original_ira_tweets = set(ira_tweets[ira_tweets.retweet_tweetid.isnull()].tweetid.tolist())"
   ]
  },
  {
   "cell_type": "code",
   "execution_count": 35,
   "metadata": {},
   "outputs": [
    {
     "data": {
      "text/plain": [
       "145517"
      ]
     },
     "execution_count": 35,
     "metadata": {},
     "output_type": "execute_result"
    }
   ],
   "source": [
    "len(original_ira_tweets)"
   ]
  },
  {
   "cell_type": "markdown",
   "metadata": {},
   "source": [
    "## 先不跟Alex数据混合起来分析一下，在fake news下，源和非源的比例"
   ]
  },
  {
   "cell_type": "code",
   "execution_count": 39,
   "metadata": {},
   "outputs": [
    {
     "data": {
      "application/vnd.jupyter.widget-view+json": {
       "model_id": "44b8a846ff39452d88b2055d843ec8da",
       "version_major": 2,
       "version_minor": 0
      },
      "text/plain": [
       "HBox(children=(IntProgress(value=1, bar_style='info', max=1), HTML(value='')))"
      ]
     },
     "metadata": {},
     "output_type": "display_data"
    },
    {
     "name": "stdout",
     "output_type": "stream",
     "text": [
      "\n"
     ]
    }
   ],
   "source": [
    "_tweets = {}\n",
    "\n",
    "for line in tqdm(open(\"disk/all_IRA_tweets.json\")):\n",
    "    d = json.loads(line.strip())\n",
    "    tweet = {\n",
    "        \"tweet_id\": str(d[\"tweetid\"]),\n",
    "        \"user_id\": -1,\n",
    "        \"dt\": \"2000-01-01 00:00:00\",\n",
    "        \"is_first\": -1,\n",
    "        \"is_source\": -1,\n",
    "        \"is_IRA\": 1,\n",
    "        \"URL\": d[\"final_url\"].lower(),\n",
    "        \"hostname\": d[\"hostname\"].lower(),\n",
    "        \"c_alex\": d[\"media_type\"],\n",
    "        \"c_mbfc\": d[\"c_mbfc\"],\n",
    "        \"c_sci_f\": d[\"c_sci_fake\"],\n",
    "        \"c_sci_s\": d[\"c_sci_align\"],\n",
    "        \"retweeted_id\": -1,\n",
    "    }\n",
    "    # if tweet[\"URL\"].endswith(\"/\"):\n",
    "    #     tweet[\"URL\"] = tweet[\"URL\"][:-1]\n",
    "    _tweets[str(d[\"tweetid\"])] = tweet\n",
    "    \n",
    "_tweets = pd.DataFrame(list(_tweets.values()))"
   ]
  },
  {
   "cell_type": "code",
   "execution_count": 49,
   "metadata": {},
   "outputs": [
    {
     "data": {
      "text/plain": [
       "(43383, 13)"
      ]
     },
     "execution_count": 49,
     "metadata": {},
     "output_type": "execute_result"
    }
   ],
   "source": [
    "_tweets[_tweets.c_mbfc!=\"-1\"].shape"
   ]
  },
  {
   "cell_type": "code",
   "execution_count": 54,
   "metadata": {},
   "outputs": [
    {
     "data": {
      "text/plain": [
       "(20707, 13)"
      ]
     },
     "execution_count": 54,
     "metadata": {},
     "output_type": "execute_result"
    }
   ],
   "source": [
    "_tweets[_tweets.c_mbfc==\"left leaning\"].shape"
   ]
  },
  {
   "cell_type": "code",
   "execution_count": 55,
   "metadata": {},
   "outputs": [],
   "source": [
    "d = json.load(open(\"IRA-tweets-id.txt\"))"
   ]
  },
  {
   "cell_type": "code",
   "execution_count": 57,
   "metadata": {},
   "outputs": [],
   "source": [
    "maybe_tweet_ids = []\n",
    "\n",
    "for _i in d.values():\n",
    "    for _j in _i:\n",
    "        maybe_tweet_ids.append(_j)"
   ]
  },
  {
   "cell_type": "code",
   "execution_count": 61,
   "metadata": {},
   "outputs": [],
   "source": [
    "all_tweets_id = set(tweets.tweetid.tolist())"
   ]
  },
  {
   "cell_type": "code",
   "execution_count": 63,
   "metadata": {},
   "outputs": [
    {
     "data": {
      "text/plain": [
       "8698"
      ]
     },
     "execution_count": 63,
     "metadata": {},
     "output_type": "execute_result"
    }
   ],
   "source": [
    "cnt = 0\n",
    "\n",
    "for t_id in maybe_tweet_ids:\n",
    "    if t_id not in all_tweets_id:\n",
    "        cnt += 1\n",
    "cnt"
   ]
  },
  {
   "cell_type": "markdown",
   "metadata": {},
   "source": [
    "8698个tweets是原来数据中没有的。"
   ]
  },
  {
   "cell_type": "code",
   "execution_count": 3,
   "metadata": {},
   "outputs": [
    {
     "name": "stdout",
     "output_type": "stream",
     "text": [
      "CPU times: user 3.28 s, sys: 140 ms, total: 3.42 s\n",
      "Wall time: 3.23 s\n"
     ]
    }
   ],
   "source": [
    "%time tweets = pd.read_csv(\"data/ira-tweets-ele.csv\")"
   ]
  },
  {
   "cell_type": "code",
   "execution_count": 17,
   "metadata": {},
   "outputs": [
    {
     "data": {
      "text/plain": [
       "556"
      ]
     },
     "execution_count": 17,
     "metadata": {},
     "output_type": "execute_result"
    }
   ],
   "source": [
    "len(tweets.userid.unique())"
   ]
  },
  {
   "cell_type": "code",
   "execution_count": 4,
   "metadata": {},
   "outputs": [
    {
     "data": {
      "text/plain": [
       "tweetid                                                    784084336307863552\n",
       "userid                      8e58ab0f46d273103d9e71aa92cdaffb6e330ec7d15ae5...\n",
       "user_display_name           8e58ab0f46d273103d9e71aa92cdaffb6e330ec7d15ae5...\n",
       "user_screen_name            8e58ab0f46d273103d9e71aa92cdaffb6e330ec7d15ae5...\n",
       "user_reported_location                                                    NaN\n",
       "user_profile_description    In bad luck, hold out; in good luck, hold in. ...\n",
       "user_profile_url                                                          NaN\n",
       "follower_count                                                            881\n",
       "following_count                                                           834\n",
       "account_creation_date                                              2013-09-16\n",
       "account_language                                                           en\n",
       "tweet_language                                                             en\n",
       "tweet_text                  RT @Herobright2: @UNHumanRights NIGERIA CRIES ...\n",
       "tweet_time                                                   2016-10-06 17:34\n",
       "tweet_client_name                                          Twitter Web Client\n",
       "in_reply_to_tweetid                                                       NaN\n",
       "in_reply_to_userid                                                        NaN\n",
       "quoted_tweet_tweetid                                                      NaN\n",
       "is_retweet                                                               True\n",
       "retweet_userid                                                     2683299690\n",
       "retweet_tweetid                                                    7.8407e+17\n",
       "latitude                                                                  NaN\n",
       "longitude                                                                 NaN\n",
       "quote_count                                                                 0\n",
       "reply_count                                                                 0\n",
       "like_count                                                                  0\n",
       "retweet_count                                                               0\n",
       "hashtags                                                                   []\n",
       "urls                                                  [http://dlvr.it/MPd4zk]\n",
       "user_mentions                                          [2683299690, 69231187]\n",
       "poll_choices                                                              NaN\n",
       "Name: 0, dtype: object"
      ]
     },
     "execution_count": 4,
     "metadata": {},
     "output_type": "execute_result"
    }
   ],
   "source": [
    "tweets.loc[0]"
   ]
  },
  {
   "cell_type": "code",
   "execution_count": 5,
   "metadata": {},
   "outputs": [
    {
     "data": {
      "application/vnd.jupyter.widget-view+json": {
       "model_id": "66bdeffd79004a63b78e18526349f073",
       "version_major": 2,
       "version_minor": 0
      },
      "text/plain": [
       "HBox(children=(IntProgress(value=1, bar_style='info', max=1), HTML(value='')))"
      ]
     },
     "metadata": {},
     "output_type": "display_data"
    },
    {
     "name": "stdout",
     "output_type": "stream",
     "text": [
      "\n"
     ]
    }
   ],
   "source": [
    "users = {}\n",
    "\n",
    "for i, d in tqdm(tweets.iterrows()):\n",
    "    if d[\"userid\"] not in users:\n",
    "        users[d[\"userid\"]] = {\n",
    "            \"original tweet\": 0,\n",
    "            \"retweet\": 0\n",
    "        }\n",
    "        \n",
    "    if pd.isnull(d[\"retweet_userid\"]):\n",
    "        users[d[\"userid\"]][\"original tweet\"] += 1\n",
    "    else:\n",
    "        users[d[\"userid\"]][\"retweet\"] += 1"
   ]
  },
  {
   "cell_type": "code",
   "execution_count": 6,
   "metadata": {},
   "outputs": [],
   "source": [
    "source_pro = [v[\"original tweet\"] / (v[\"original tweet\"] + v[\"retweet\"]) for k, v in users.items()]"
   ]
  },
  {
   "cell_type": "code",
   "execution_count": 11,
   "metadata": {},
   "outputs": [
    {
     "data": {
      "text/plain": [
       "556"
      ]
     },
     "execution_count": 11,
     "metadata": {},
     "output_type": "execute_result"
    }
   ],
   "source": [
    "len(source_pro)"
   ]
  },
  {
   "cell_type": "code",
   "execution_count": 14,
   "metadata": {},
   "outputs": [
    {
     "data": {
      "text/plain": [
       "143"
      ]
     },
     "execution_count": 14,
     "metadata": {},
     "output_type": "execute_result"
    }
   ],
   "source": [
    "len([_p for _p in source_pro if _p > 0.9])"
   ]
  },
  {
   "cell_type": "code",
   "execution_count": 13,
   "metadata": {},
   "outputs": [
    {
     "data": {
      "text/plain": [
       "280"
      ]
     },
     "execution_count": 13,
     "metadata": {},
     "output_type": "execute_result"
    }
   ],
   "source": [
    "len([_p for _p in source_pro if _p < 0.1])"
   ]
  },
  {
   "cell_type": "code",
   "execution_count": 18,
   "metadata": {},
   "outputs": [
    {
     "data": {
      "text/plain": [
       "0.5035971223021583"
      ]
     },
     "execution_count": 18,
     "metadata": {},
     "output_type": "execute_result"
    }
   ],
   "source": [
    "280 / 556"
   ]
  },
  {
   "cell_type": "code",
   "execution_count": 19,
   "metadata": {},
   "outputs": [
    {
     "data": {
      "text/plain": [
       "0.25719424460431656"
      ]
     },
     "execution_count": 19,
     "metadata": {},
     "output_type": "execute_result"
    }
   ],
   "source": [
    "143 / 556"
   ]
  },
  {
   "cell_type": "code",
   "execution_count": 7,
   "metadata": {},
   "outputs": [
    {
     "data": {
      "image/png": "[encoded data removed]",
      "text/plain": [
       "<Figure size 432x288 with 1 Axes>"
      ]
     },
     "metadata": {
      "needs_background": "light"
     },
     "output_type": "display_data"
    }
   ],
   "source": [
    "pd.Series(source_pro).hist()\n",
    "plt.xlabel(\"proportion of original tweets for each user\")\n",
    "plt.ylabel(\"Number of IRA users\")\n",
    "plt.savefig(\"fig/proportion-of-original-tweets.pdf\", dpi=300, bbox_inches='tight')"
   ]
  },
  {
   "cell_type": "code",
   "execution_count": 7,
   "metadata": {},
   "outputs": [],
   "source": [
    "data = pd.DataFrame(users).transpose()"
   ]
  },
  {
   "cell_type": "code",
   "execution_count": 8,
   "metadata": {},
   "outputs": [
    {
     "data": {
      "text/plain": [
       "<matplotlib.axes._subplots.AxesSubplot at 0x7faf0df94dd8>"
      ]
     },
     "execution_count": 8,
     "metadata": {},
     "output_type": "execute_result"
    },
    {
     "data": {
      "image/png": "[encoded data removed]",
      "text/plain": [
       "<Figure size 432x288 with 1 Axes>"
      ]
     },
     "metadata": {
      "needs_background": "light"
     },
     "output_type": "display_data"
    }
   ],
   "source": [
    "sns.scatterplot(x=\"original tweet\", y=\"retweet\", data=data)"
   ]
  },
  {
   "cell_type": "code",
   "execution_count": 13,
   "metadata": {},
   "outputs": [
    {
     "data": {
      "text/plain": [
       "<matplotlib.axes._subplots.AxesSubplot at 0x7faeebf56b00>"
      ]
     },
     "execution_count": 13,
     "metadata": {},
     "output_type": "execute_result"
    },
    {
     "data": {
      "image/png": "[encoded data removed]",
      "text/plain": [
       "<Figure size 432x288 with 1 Axes>"
      ]
     },
     "metadata": {
      "needs_background": "light"
     },
     "output_type": "display_data"
    }
   ],
   "source": [
    "tweets.userid.value_counts().hist(cumulative=True, density=1, bins=200)"
   ]
  },
  {
   "cell_type": "code",
   "execution_count": 14,
   "metadata": {},
   "outputs": [
    {
     "data": {
      "text/plain": [
       "cfb0d237487ebe3520cb83bd82df903c9c7afd5a60acba8a3576bc3ca9346467    12308\n",
       "2943515140                                                          12226\n",
       "3438999494                                                          12133\n",
       "2882013788                                                          10812\n",
       "2951506251                                                           9056\n",
       "396b0b6914e425ca53c49b7f1d6cfe9757eb7368c04c657a09d83b19a8f1251e     8365\n",
       "3312143142                                                           7424\n",
       "2587843805                                                           6301\n",
       "1718000594                                                           5887\n",
       "2882037326                                                           5637\n",
       "2882350436                                                           5359\n",
       "3899481526                                                           4854\n",
       "080da9e6b0c293d8e7abe6115605790ec8bc9a5c75a2b3e60539e67e3f100875     4413\n",
       "4224729994                                                           3970\n",
       "2878166306                                                           3904\n",
       "4859142199                                                           3820\n",
       "2882331822                                                           3795\n",
       "9da254eb4e8a37d4e995e2bcac5030b3b5a45cb7226221ae3cd17560e22c3531     3426\n",
       "2928870434                                                           3354\n",
       "1fdac06ebb156f54ed03ca124d7faa8638dff2e7229910e4b52c0149b18dd7f0     3236\n",
       "2495567768                                                           3222\n",
       "a95a911dd6ae864c48ed062cdbe75e5c28dbe0cf57c6db3fa9dd53b654ee9845     3167\n",
       "1687183549                                                           3107\n",
       "1650681522                                                           3104\n",
       "3e4926039b55bcd7f2182ee1c9234fd9458adefac0b7f919ede18d8d9597b1c0     3034\n",
       "94c383089f0dd9993020276bd01113ecb5935ad860bfa61e6079e7d548577f76     3009\n",
       "2494112058                                                           2982\n",
       "2569229674                                                           2964\n",
       "9ebdcf10ebedc9abf33a34e07792e18230ecd26cea77ab0f3fcdfac11fe2116f     2757\n",
       "80b4e8619631959b3bf95991166381f8df8e9b0748a73e360d6ad1e7bc19cde7     2699\n",
       "                                                                    ...  \n",
       "fde230643125950bccce743024f20fedababd6aa5e00791bfa35543b9ed37169     1566\n",
       "74c5eb30de3d6691e150879ee8528463c70b0feaefed9766fcbbcc8b2458221a     1533\n",
       "6900f3b394a989c5e1f0af96d496e545a20bf38d6cda64549d1db2952d8d0e9a     1526\n",
       "b61d47c22efd69b47675c296d5c54e2675da8977504225327611713990b4e784     1485\n",
       "3da8a7609e8e8bbc93fb2051c4d6568ad5436d629d003735f217ecd3acd1bb7e     1449\n",
       "4332740714                                                           1439\n",
       "4537439c2e1d6f7d6d3e290b17e511c919556891aad99925cd7e5cb335c224ee     1412\n",
       "cfe9315d7429aedb7f843a165185d91f0ae819e54026d8a22a4f6e539f5e9132     1363\n",
       "ec2109adb67d2a24091026d5d9aab64dadca1fdb2f7355473c9a82f988a9c2a0     1362\n",
       "b8726fc348617a6f9dce6cf86995ac180d7de04399bd98c1e340a630f385f866     1326\n",
       "7cb9c145682a217a3bb77a53572a0cd1676f045eefbebfd1577bb0af1ad19a6b     1317\n",
       "c23ef2a108d3fc5ecfdee27c9717a2c8b0bd6240d9de3b329fa7a9197ee4c4ac     1316\n",
       "4188a238189b84504e938657369f0084adc37a0cda236d98c181b992a0a09317     1314\n",
       "5788d958456ab731e042dfff6d344829c158409c1c0911d79a5de12b0a72ced1     1307\n",
       "248e38be332960041c27149ac0cf9de6d7767f4221621313289792bbc7c762cb     1258\n",
       "3fb378539e01fe68efd1251da36d22ccda3260a84474931c902e4de3e160d5a4     1233\n",
       "aa80df35407d74929dc17b058bdc679ae7f995c237f1cfd09915d970d72f72c1     1226\n",
       "36f2768e6fcac2041cd5604315cab62bc02c808f1ddb3492bb7b265db4875a59     1221\n",
       "8a3c0cdcac971eaf9f7802a5688faea3aadd850e5d2e214941c2ccbdcaf4ac32     1220\n",
       "c36569f7b2c5d0681e59b1f685fdcae3648138035dc8072a24a01b76e65b9434     1196\n",
       "a4df865b62425d5eb91b169b0bbb873434078a44b193174962a65408ed66d793     1192\n",
       "dfcf2c9017b25c825fa444e17e429f3a6e739bc44ca7db41645470fe4410ad25     1190\n",
       "2742482932                                                           1189\n",
       "ea85ac8be1e8ab479064ca4c0fe3ac6587f76b1ef974526887856fe299d3f2c0     1186\n",
       "2611151319                                                           1177\n",
       "efbb959a308f1bd1199a15221511bdd9e8945a3a02da83ce9d6585224733a8f6     1174\n",
       "9a1f897e1fa9711af2b40d33277a8e51270fb3609903dec35890ea8a19dde985     1172\n",
       "f34f034f13f96195e932781c94862cfa54e86b274c0e156b72b7f84bd680acc8     1157\n",
       "32b46a5c438a663eaaebfbb1da979ea98bcfe3a6cba7d796246c880d522ea880     1147\n",
       "4728ce55f167bdbe09054a661cd4eb00f0c35d50d1d0b8b6d918b47c86335ec7     1146\n",
       "Name: userid, Length: 100, dtype: int64"
      ]
     },
     "execution_count": 14,
     "metadata": {},
     "output_type": "execute_result"
    }
   ],
   "source": [
    "tweets.userid.value_counts().head(100)"
   ]
  },
  {
   "cell_type": "code",
   "execution_count": null,
   "metadata": {},
   "outputs": [],
   "source": []
  }
 ],
 "metadata": {
  "kernelspec": {
   "display_name": "Python 3",
   "language": "python",
   "name": "python3"
  },
  "language_info": {
   "codemirror_mode": {
    "name": "ipython",
    "version": 3
   },
   "file_extension": ".py",
   "mimetype": "text/x-python",
   "name": "python",
   "nbconvert_exporter": "python",
   "pygments_lexer": "ipython3",
   "version": "3.7.3"
  }
 },
 "nbformat": 4,
 "nbformat_minor": 2
}
