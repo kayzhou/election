{
 "cells": [
  {
   "cell_type": "markdown",
   "metadata": {},
   "source": [
    "# 分析IRAs"
   ]
  },
  {
   "cell_type": "code",
   "execution_count": 1,
   "metadata": {},
   "outputs": [],
   "source": [
    "from my_weapon import *\n",
    "from tqdm import tqdm_notebook as tqdm\n",
    "\n",
    "sns.set_style('white')\n",
    "import graph_tool.all as gt"
   ]
  },
  {
   "cell_type": "code",
   "execution_count": 3,
   "metadata": {},
   "outputs": [
    {
     "name": "stdout",
     "output_type": "stream",
     "text": [
      "CPU times: user 16 ms, sys: 4 ms, total: 20 ms\n",
      "Wall time: 21.9 ms\n"
     ]
    }
   ],
   "source": [
    "%time user_data = pd.read_csv('data/ira_users_csv_hashed.csv')\n",
    "# user_data.head()"
   ]
  },
  {
   "cell_type": "code",
   "execution_count": 4,
   "metadata": {},
   "outputs": [
    {
     "data": {
      "text/plain": [
       "Index(['userid', 'user_display_name', 'user_screen_name',\n",
       "       'user_reported_location', 'user_profile_description',\n",
       "       'user_profile_url', 'follower_count', 'following_count',\n",
       "       'account_creation_date', 'account_language'],\n",
       "      dtype='object')"
      ]
     },
     "execution_count": 4,
     "metadata": {},
     "output_type": "execute_result"
    }
   ],
   "source": [
    "user_data.columns"
   ]
  },
  {
   "cell_type": "code",
   "execution_count": 5,
   "metadata": {},
   "outputs": [
    {
     "data": {
      "text/html": [
       "<div>\n",
       "<style scoped>\n",
       "    .dataframe tbody tr th:only-of-type {\n",
       "        vertical-align: middle;\n",
       "    }\n",
       "\n",
       "    .dataframe tbody tr th {\n",
       "        vertical-align: top;\n",
       "    }\n",
       "\n",
       "    .dataframe thead th {\n",
       "        text-align: right;\n",
       "    }\n",
       "</style>\n",
       "<table border=\"1\" class=\"dataframe\">\n",
       "  <thead>\n",
       "    <tr style=\"text-align: right;\">\n",
       "      <th></th>\n",
       "      <th>follower_count</th>\n",
       "      <th>following_count</th>\n",
       "    </tr>\n",
       "  </thead>\n",
       "  <tbody>\n",
       "    <tr>\n",
       "      <th>count</th>\n",
       "      <td>3836.000000</td>\n",
       "      <td>3836.000000</td>\n",
       "    </tr>\n",
       "    <tr>\n",
       "      <th>mean</th>\n",
       "      <td>1664.950209</td>\n",
       "      <td>826.092023</td>\n",
       "    </tr>\n",
       "    <tr>\n",
       "      <th>std</th>\n",
       "      <td>8860.043408</td>\n",
       "      <td>2726.252326</td>\n",
       "    </tr>\n",
       "    <tr>\n",
       "      <th>min</th>\n",
       "      <td>0.000000</td>\n",
       "      <td>0.000000</td>\n",
       "    </tr>\n",
       "    <tr>\n",
       "      <th>25%</th>\n",
       "      <td>58.000000</td>\n",
       "      <td>104.000000</td>\n",
       "    </tr>\n",
       "    <tr>\n",
       "      <th>50%</th>\n",
       "      <td>126.000000</td>\n",
       "      <td>239.000000</td>\n",
       "    </tr>\n",
       "    <tr>\n",
       "      <th>75%</th>\n",
       "      <td>461.250000</td>\n",
       "      <td>542.000000</td>\n",
       "    </tr>\n",
       "    <tr>\n",
       "      <th>max</th>\n",
       "      <td>257638.000000</td>\n",
       "      <td>74664.000000</td>\n",
       "    </tr>\n",
       "  </tbody>\n",
       "</table>\n",
       "</div>"
      ],
      "text/plain": [
       "       follower_count  following_count\n",
       "count     3836.000000      3836.000000\n",
       "mean      1664.950209       826.092023\n",
       "std       8860.043408      2726.252326\n",
       "min          0.000000         0.000000\n",
       "25%         58.000000       104.000000\n",
       "50%        126.000000       239.000000\n",
       "75%        461.250000       542.000000\n",
       "max     257638.000000     74664.000000"
      ]
     },
     "execution_count": 5,
     "metadata": {},
     "output_type": "execute_result"
    }
   ],
   "source": [
    "user_data.describe()"
   ]
  },
  {
   "cell_type": "code",
   "execution_count": 11,
   "metadata": {},
   "outputs": [],
   "source": [
    "# %matplotlib inline\n",
    "\n",
    "def get_cdf_pdf(data, mini, maxi, step, norm=True):\n",
    "    x = [float(i) for i in np.arange(mini, maxi, step)]\n",
    "    cdf = [0] * len(x)\n",
    "    pdf = [0] * len(x)\n",
    "    count = 0\n",
    "    for d in data:\n",
    "        d = float(d)\n",
    "        if d < mini or d > maxi:\n",
    "            continue\n",
    "        count += 1\n",
    "        for i in range(len(x)):\n",
    "            if i == (len(x) - 1) and d >= x[i]:\n",
    "                pdf[i] += 1\n",
    "            elif d >= x[i] and d < x[i+1]:\n",
    "                pdf[i] += 1\n",
    "\n",
    "            if d >= x[i]:\n",
    "                cdf[i] += 1\n",
    "\n",
    "    if norm:\n",
    "        cdf = [c / count for c in cdf]\n",
    "        pdf = [p / count for p in pdf]\n",
    "\n",
    "    return x, cdf, pdf"
   ]
  },
  {
   "cell_type": "code",
   "execution_count": 26,
   "metadata": {},
   "outputs": [
    {
     "data": {
      "image/png": "[encoded data removed]",
      "text/plain": [
       "<Figure size 576x432 with 1 Axes>"
      ]
     },
     "metadata": {
      "needs_background": "light"
     },
     "output_type": "display_data"
    }
   ],
   "source": [
    "# user_data\n",
    "plt.figure(figsize=(8, 6))\n",
    "x, cdf, pdf = get_cdf_pdf(user_data['follower_count'], 0, 200000, 100)\n",
    "plt.xscale('log'); plt.yscale('log')\n",
    "plt.plot(x, cdf, label='$follower\\ count$')\n",
    "\n",
    "pd.DataFrame({'x': x, 'cdf': cdf}).to_csv('dist_follower_count.csv')\n",
    "\n",
    "\n",
    "x, cdf, pdf = get_cdf_pdf(user_data['following_count'], 0, 100000, 100)\n",
    "plt.ylabel('$CCDF$', fontsize=15)\n",
    "pd.DataFrame({'x': x, 'cdf': cdf}).to_csv('dist_following_count.csv')\n",
    "\n",
    "\n",
    "plt.xticks(fontsize=14); plt.yticks(fontsize=14)\n",
    "plt.xscale('log'); plt.yscale('log')\n",
    "\n",
    "plt.plot(x, cdf, label='$following\\ count$')\n",
    "plt.legend(fontsize=13)\n",
    "plt.savefig('fig/fol.pdf', dpi=300)\n",
    "plt.show()\n",
    "\n"
   ]
  },
  {
   "cell_type": "code",
   "execution_count": 60,
   "metadata": {},
   "outputs": [],
   "source": [
    "sns.set(style=\"ticks\")\n",
    "\n",
    "# rs = np.random.RandomState(11)\n",
    "# x = rs.gamma(2, size=100'\"\"\n",
    "# y = -.5 * x + rs.normal(size=1000)\n",
    "x = []\n",
    "y = []\n",
    "for i, row in user_data.iterrows():\n",
    "    if row.follower_count > 1 and row.following_count > 1:\n",
    "        x.append(np.log10(row.follower_count))\n",
    "        y.append(np.log10(row.following_count))\n",
    "#         x.append(row.follower_count)\n",
    "#         y.append(row.following_count)"
   ]
  },
  {
   "cell_type": "code",
   "execution_count": 70,
   "metadata": {},
   "outputs": [
    {
     "data": {
      "image/png": "[encoded data removed]",
      "text/plain": [
       "<Figure size 432x432 with 3 Axes>"
      ]
     },
     "metadata": {},
     "output_type": "display_data"
    }
   ],
   "source": [
    "# sns.jointplot(x, y, kind=\"hex\")\n",
    "# plt.xlim(0.5, 4.5)\n",
    "# plt.ylim(0.5, 4.5)\n",
    "# plt.legend()\n",
    "sns.jointplot(x, y, alpha=0.1, color=\"g\")\n",
    "# plt.xscale(\"log\"); plt.yscale(\"log\")\n",
    "plt.show()"
   ]
  },
  {
   "cell_type": "code",
   "execution_count": 23,
   "metadata": {},
   "outputs": [
    {
     "data": {
      "text/plain": [
       "userid                                                             2527472164\n",
       "user_display_name                                              Вестник Москвы\n",
       "user_screen_name                                                   NovostiMsk\n",
       "user_reported_location                                                 Москва\n",
       "user_profile_description    Невозможно не любить этот город! Телефон редак...\n",
       "user_profile_url                                      https://t.co/sIJZDK1hTI\n",
       "follower_count                                                         257638\n",
       "following_count                                                           544\n",
       "account_creation_date                                     2014-05-04 00:00:00\n",
       "account_language                                                           en\n",
       "Name: 1014, dtype: object"
      ]
     },
     "execution_count": 23,
     "metadata": {},
     "output_type": "execute_result"
    }
   ],
   "source": [
    "user_data.iloc[user_data['follower_count'].idxmax(), :]"
   ]
  },
  {
   "cell_type": "code",
   "execution_count": 24,
   "metadata": {},
   "outputs": [
    {
     "data": {
      "text/plain": [
       "userid                                                             4224729994\n",
       "user_display_name                                                   Tennessee\n",
       "user_screen_name                                                      TEN_GOP\n",
       "user_reported_location                                                    NaN\n",
       "user_profile_description    Unofficial Twitter of Tennessee Republicans. C...\n",
       "user_profile_url                                                          NaN\n",
       "follower_count                                                         147767\n",
       "following_count                                                         74664\n",
       "account_creation_date                                     2015-11-19 00:00:00\n",
       "account_language                                                           en\n",
       "Name: 2642, dtype: object"
      ]
     },
     "execution_count": 24,
     "metadata": {},
     "output_type": "execute_result"
    }
   ],
   "source": [
    "user_data.iloc[user_data['following_count'].idxmax(), :]"
   ]
  },
  {
   "cell_type": "code",
   "execution_count": 15,
   "metadata": {
    "scrolled": false
   },
   "outputs": [],
   "source": [
    "# user_data.groupby('account_creation_date').count()\n",
    "user_data['account_creation_date'] = pd.to_datetime(user_data['account_creation_date'])\n",
    "A = user_data.set_index('account_creation_date')\n",
    "B = A.to_period('M').groupby('account_creation_date').count()\n",
    "# creation_dates = pd.to_datetime(user_data[\"account_creation_date\"])\n",
    "# pd.date_range(2010)\n",
    "# sum(B['userid'])"
   ]
  },
  {
   "cell_type": "code",
   "execution_count": 16,
   "metadata": {},
   "outputs": [
    {
     "data": {
      "image/png": "[encoded data removed]",
      "text/plain": [
       "<Figure size 720x432 with 1 Axes>"
      ]
     },
     "metadata": {
      "needs_background": "light"
     },
     "output_type": "display_data"
    }
   ],
   "source": [
    "plt.figure(figsize=(10, 6))\n",
    "# plt.plot_date(B.index, B['userid'])\n",
    "B['userid'].plot()\n",
    "plt.xlabel('$Date$', fontsize=15); plt.ylabel('$N\\ of\\ IRA\\ account\\ creation$', fontsize=15)\n",
    "plt.xticks(fontsize=14); plt.yticks(fontsize=14)\n",
    "plt.savefig('fig/account_creation.pdf', dpi=300)\n",
    "plt.show()\n",
    "\n",
    "B.to_csv('account_creation.csv')"
   ]
  },
  {
   "cell_type": "code",
   "execution_count": 3,
   "metadata": {},
   "outputs": [
    {
     "name": "stdout",
     "output_type": "stream",
     "text": [
      "CPU times: user 1min 19s, sys: 4.5 s, total: 1min 23s\n",
      "Wall time: 1min 29s\n"
     ]
    }
   ],
   "source": [
    "# load tweets\n",
    "\n",
    "%time tweets = pd.read_csv('data/ira_tweets_csv_hashed.csv', dtype=str, low_memory=True)"
   ]
  },
  {
   "cell_type": "code",
   "execution_count": 4,
   "metadata": {},
   "outputs": [
    {
     "data": {
      "text/plain": [
       "Index(['tweetid', 'userid', 'user_display_name', 'user_screen_name',\n",
       "       'user_reported_location', 'user_profile_description',\n",
       "       'user_profile_url', 'follower_count', 'following_count',\n",
       "       'account_creation_date', 'account_language', 'tweet_language',\n",
       "       'tweet_text', 'tweet_time', 'tweet_client_name', 'in_reply_to_tweetid',\n",
       "       'in_reply_to_userid', 'quoted_tweet_tweetid', 'is_retweet',\n",
       "       'retweet_userid', 'retweet_tweetid', 'latitude', 'longitude',\n",
       "       'quote_count', 'reply_count', 'like_count', 'retweet_count', 'hashtags',\n",
       "       'urls', 'user_mentions', 'poll_choices'],\n",
       "      dtype='object')"
      ]
     },
     "execution_count": 4,
     "metadata": {},
     "output_type": "execute_result"
    }
   ],
   "source": [
    "tweets.columns"
   ]
  },
  {
   "cell_type": "code",
   "execution_count": 9,
   "metadata": {},
   "outputs": [
    {
     "data": {
      "text/plain": [
       "count      3667.000000\n",
       "mean       2465.587128\n",
       "std        5751.521045\n",
       "min           1.000000\n",
       "25%         129.000000\n",
       "50%         553.000000\n",
       "75%        2743.500000\n",
       "max      159503.000000\n",
       "Name: userid, dtype: float64"
      ]
     },
     "execution_count": 9,
     "metadata": {},
     "output_type": "execute_result"
    }
   ],
   "source": [
    "tweets.userid.value_counts().describe()"
   ]
  },
  {
   "cell_type": "code",
   "execution_count": 6,
   "metadata": {},
   "outputs": [
    {
     "data": {
      "text/plain": [
       "<matplotlib.axes._subplots.AxesSubplot at 0x7f1de67afc18>"
      ]
     },
     "execution_count": 6,
     "metadata": {},
     "output_type": "execute_result"
    },
    {
     "data": {
      "image/png": "[encoded data removed]",
      "text/plain": [
       "<Figure size 432x288 with 1 Axes>"
      ]
     },
     "metadata": {
      "needs_background": "light"
     },
     "output_type": "display_data"
    }
   ],
   "source": [
    "# plt.xscale(\"log\")\n",
    "\n",
    "plt.yscale(\"log\")\n",
    "tweets.like_count.hist()"
   ]
  },
  {
   "cell_type": "code",
   "execution_count": 7,
   "metadata": {},
   "outputs": [
    {
     "data": {
      "text/plain": [
       "<matplotlib.axes._subplots.AxesSubplot at 0x7f1e56f541d0>"
      ]
     },
     "execution_count": 7,
     "metadata": {},
     "output_type": "execute_result"
    },
    {
     "data": {
      "image/png": "[encoded data removed]",
      "text/plain": [
       "<Figure size 432x288 with 1 Axes>"
      ]
     },
     "metadata": {
      "needs_background": "light"
     },
     "output_type": "display_data"
    }
   ],
   "source": [
    "plt.yscale(\"log\")\n",
    "tweets.reply_count.hist()"
   ]
  },
  {
   "cell_type": "code",
   "execution_count": 8,
   "metadata": {},
   "outputs": [
    {
     "data": {
      "text/plain": [
       "<matplotlib.axes._subplots.AxesSubplot at 0x7f1e56f22a90>"
      ]
     },
     "execution_count": 8,
     "metadata": {},
     "output_type": "execute_result"
    },
    {
     "data": {
      "image/png": "[encoded data removed]",
      "text/plain": [
       "<Figure size 432x288 with 1 Axes>"
      ]
     },
     "metadata": {
      "needs_background": "light"
     },
     "output_type": "display_data"
    }
   ],
   "source": [
    "plt.yscale(\"log\")\n",
    "tweets.quote_count.hist()"
   ]
  },
  {
   "cell_type": "code",
   "execution_count": 9,
   "metadata": {},
   "outputs": [
    {
     "data": {
      "text/plain": [
       "<matplotlib.axes._subplots.AxesSubplot at 0x7f1e56d972b0>"
      ]
     },
     "execution_count": 9,
     "metadata": {},
     "output_type": "execute_result"
    },
    {
     "data": {
      "image/png": "[encoded data removed]",
      "text/plain": [
       "<Figure size 432x288 with 1 Axes>"
      ]
     },
     "metadata": {
      "needs_background": "light"
     },
     "output_type": "display_data"
    }
   ],
   "source": [
    "plt.yscale(\"log\")\n",
    "tweets.retweet_count.hist()"
   ]
  },
  {
   "cell_type": "code",
   "execution_count": 11,
   "metadata": {},
   "outputs": [],
   "source": [
    "tweets['tweet_time'] = pd.to_datetime(tweets['tweet_time'])\n",
    "election_tweets = tweets[tweets[\"tweet_time\"] >= \"2016-06-01\"]"
   ]
  },
  {
   "cell_type": "code",
   "execution_count": 12,
   "metadata": {},
   "outputs": [],
   "source": [
    "A = election_tweets.set_index('tweet_time')\n",
    "A = tweets.set_index('tweet_time')\n",
    "B = A.to_period('M').groupby('tweet_time').count()"
   ]
  },
  {
   "cell_type": "code",
   "execution_count": 13,
   "metadata": {
    "scrolled": false
   },
   "outputs": [
    {
     "data": {
      "image/png": "[encoded data removed]",
      "text/plain": [
       "<Figure size 720x432 with 1 Axes>"
      ]
     },
     "metadata": {
      "needs_background": "light"
     },
     "output_type": "display_data"
    }
   ],
   "source": [
    "plt.figure(figsize=(10, 6))\n",
    "# plt.plot_date(B.index, B['userid'])\n",
    "B['tweetid'].plot()\n",
    "plt.xlabel('$Date$', fontsize=15); plt.ylabel('$N\\ of\\ IRA\\ tweets$', fontsize=15)\n",
    "plt.xticks(fontsize=14); plt.yticks(fontsize=14)\n",
    "plt.savefig('fig/tweet_creation.pdf', dpi=300)\n",
    "plt.show()\n",
    "\n",
    "B['tweetid'].to_csv('tweet_creation.csv')"
   ]
  },
  {
   "cell_type": "markdown",
   "metadata": {},
   "source": [
    "从整体上看2016年的选举，IRA的表现并不是很活跃；"
   ]
  },
  {
   "cell_type": "code",
   "execution_count": 31,
   "metadata": {},
   "outputs": [
    {
     "name": "stdout",
     "output_type": "stream",
     "text": [
      "0 http://ru-open.livejournal.com/374284.html > ru-open.livejournal.com\n"
     ]
    }
   ],
   "source": [
    "from urllib.parse import urlparse\n",
    "import requests\n",
    "\n",
    "for i, row in tweets.iterrows():\n",
    "    if not isinstance(row['urls'], str):\n",
    "        tweets.drop(i)\n",
    "    elif row['urls'][1: -1] == '':\n",
    "        tweets.drop(i)\n",
    "    else:\n",
    "        url = row['urls'][1: -1]\n",
    "        res = requests.head(url)\n",
    "        hostname = urlparse(res.headers.get('location')).hostname\n",
    "        if hostname:\n",
    "            print(i, url, '>', hostname)\n",
    "        else:\n",
    "            tweets.drop(i)\n",
    "        break\n",
    "        \n",
    "#     print(row)\n",
    "#     if isinstance(urls, str):\n",
    "#         url = urls[1: -1]\n",
    "#         if url:\n",
    "# #             hostname = urllib.parse.urlparse(url).hostname\n",
    "#             res = requests.head(url)\n",
    "#             hostname = urlparse(res.headers.get('location')).hostname\n",
    "#             if hostname:\n",
    "#                 print(hostname, type(hostname))\n",
    "\n"
   ]
  },
  {
   "cell_type": "code",
   "execution_count": 47,
   "metadata": {
    "scrolled": false
   },
   "outputs": [],
   "source": [
    "# build retweet networks\n",
    "\n",
    "userid_map = json.load(open(\"data/userid_mapping.json\"))\n",
    "G = nx.DiGraph()\n",
    "G.add_nodes_from(userid_map.values())\n",
    "# G.number_of_nodes()\n",
    "\n",
    "for i, row in tweets.iterrows():\n",
    "    if row[\"is_retweet\"]:\n",
    "        if row['retweet_userid'] in userid_map:\n",
    "            ret_userid = userid_map[row['retweet_userid']]\n",
    "            userid = userid_map[row['userid']]\n",
    "            if ret_userid != userid:\n",
    "                G.add_edge(ret_userid, userid)\n",
    "\n",
    "# save the network\n",
    "nx.readwrite.adjlist.write_adjlist(G, 'retweet_net_in_IRA.dat')"
   ]
  },
  {
   "cell_type": "code",
   "execution_count": 21,
   "metadata": {},
   "outputs": [],
   "source": [
    "G = nx.readwrite.adjlist.read_adjlist('retweet_net_in_IRA.dat')"
   ]
  },
  {
   "cell_type": "code",
   "execution_count": 48,
   "metadata": {},
   "outputs": [
    {
     "data": {
      "text/plain": [
       "3836"
      ]
     },
     "execution_count": 48,
     "metadata": {},
     "output_type": "execute_result"
    }
   ],
   "source": [
    "G.number_of_nodes()"
   ]
  },
  {
   "cell_type": "code",
   "execution_count": 49,
   "metadata": {},
   "outputs": [
    {
     "data": {
      "text/plain": [
       "168074"
      ]
     },
     "execution_count": 49,
     "metadata": {},
     "output_type": "execute_result"
    }
   ],
   "source": [
    "G.number_of_edges()"
   ]
  },
  {
   "cell_type": "code",
   "execution_count": 66,
   "metadata": {
    "scrolled": false
   },
   "outputs": [
    {
     "data": {
      "image/png": "[encoded data removed]",
      "text/plain": [
       "<Figure size 720x432 with 1 Axes>"
      ]
     },
     "metadata": {},
     "output_type": "display_data"
    },
    {
     "name": "stdout",
     "output_type": "stream",
     "text": [
      "0 76\n",
      "1 236\n",
      "14 633\n",
      "21 656\n",
      "22 676\n",
      "104 682\n",
      "372 700\n",
      "836 702\n",
      "857 838\n",
      "986 944\n",
      "1020 1027\n",
      "2168 1084\n",
      "2274 1088\n",
      "3585 1092\n"
     ]
    },
    {
     "ename": "KeyError",
     "evalue": "3585",
     "output_type": "error",
     "traceback": [
      "\u001b[0;31m---------------------------------------------------------------------------\u001b[0m",
      "\u001b[0;31mKeyError\u001b[0m                                  Traceback (most recent call last)",
      "\u001b[0;32m<ipython-input-66-cc5b6365a3b9>\u001b[0m in \u001b[0;36m<module>\u001b[0;34m\u001b[0m\n\u001b[1;32m     18\u001b[0m \u001b[0;34m\u001b[0m\u001b[0m\n\u001b[1;32m     19\u001b[0m \u001b[0muserid_map\u001b[0m \u001b[0;34m=\u001b[0m \u001b[0mjson\u001b[0m\u001b[0;34m.\u001b[0m\u001b[0mload\u001b[0m\u001b[0;34m(\u001b[0m\u001b[0mopen\u001b[0m\u001b[0;34m(\u001b[0m\u001b[0;34m\"data/userid_mapping.json\"\u001b[0m\u001b[0;34m)\u001b[0m\u001b[0;34m)\u001b[0m\u001b[0;34m\u001b[0m\u001b[0m\n\u001b[0;32m---> 20\u001b[0;31m \u001b[0muserid_map\u001b[0m\u001b[0;34m[\u001b[0m\u001b[0mn\u001b[0m\u001b[0;34m]\u001b[0m\u001b[0;34m\u001b[0m\u001b[0m\n\u001b[0m",
      "\u001b[0;31mKeyError\u001b[0m: 3585"
     ]
    }
   ],
   "source": [
    "plt.figure(figsize=(10, 6))\n",
    "\n",
    "degree = nx.degree_histogram(G)\n",
    "x = range(len(degree))                             \n",
    "y = [z / float(sum(degree)) for z in degree]  \n",
    "plt.loglog(x, y, linewidth=2)\n",
    "plt.xlabel('$Degree$', fontsize=15); plt.ylabel('$Distribution$', fontsize=15)\n",
    "plt.xticks(fontsize=14); plt.yticks(fontsize=14)\n",
    "plt.savefig('fig/degree_distribution.pdf', dpi=300)\n",
    "plt.show()\n",
    "\n",
    "d = dict(G.degree())\n",
    "n, de = 0, 0\n",
    "for k, v in d.items():\n",
    "    if v > de:\n",
    "        print(k, v)\n",
    "        n, de = k, v\n",
    "        \n",
    "userid_map = json.load(open(\"data/userid_mapping.json\"))\n",
    "userid_map[n]"
   ]
  },
  {
   "cell_type": "code",
   "execution_count": 59,
   "metadata": {},
   "outputs": [
    {
     "name": "stdout",
     "output_type": "stream",
     "text": [
      "33162\n"
     ]
    },
    {
     "data": {
      "image/png": "[encoded data removed]",
      "text/plain": [
       "<Figure size 864x432 with 1 Axes>"
      ]
     },
     "metadata": {},
     "output_type": "display_data"
    }
   ],
   "source": [
    "plt.figure(figsize=(12, 6))\n",
    "x = [11638 + 8910, 42 + 7102, 3707, 1042 + 721]\n",
    "print(sum(x))\n",
    "label = ['fake +\\n extremely biased', 'right +\\nright leaning', 'center', 'left +\\nleft leaning']\n",
    "plt.bar(1, x[0])\n",
    "plt.bar(2, x[1])\n",
    "plt.bar(3, x[2])\n",
    "plt.bar(4, x[3])\n",
    "plt.xticks([1, 2, 3, 4], label, rotation=10)\n",
    "plt.ylabel('$N\\ of\\ tweets$', fontsize=15)\n",
    "plt.xticks(fontsize=12); plt.yticks(fontsize=14)\n",
    "plt.savefig('fig/fake_news_bar.pdf', dpi=300)\n",
    "plt.show()\n"
   ]
  },
  {
   "cell_type": "markdown",
   "metadata": {},
   "source": [
    "发现了一些匿名的用户的真实id，但是非常的少；\n",
    "\n",
    "位置：data/IRAs_be_found.json，仅仅命中了21857\n",
    "\n",
    "3836个用户中匿名有3669个；\n",
    "\n",
    "## 如何判断一个人是不是IRAs？\n",
    "\n",
    "所以我要创造一个UID of IRAs \n"
   ]
  },
  {
   "cell_type": "code",
   "execution_count": 5,
   "metadata": {},
   "outputs": [],
   "source": [
    "uids_of_IRA = set(json.load(open(\"data/IRA_match.json\")).values())"
   ]
  },
  {
   "cell_type": "code",
   "execution_count": 6,
   "metadata": {},
   "outputs": [],
   "source": [
    "# 看看IRAs在我fake news的数据中有哪些？\n",
    "\n",
    "IRA_tweet_ids = set()\n",
    "for line in open(\"data/IRAs_be_found.json\"):\n",
    "    d = json.loads(line)\n",
    "    IRA_tweet_ids.add(d[\"tweet_id\"])"
   ]
  },
  {
   "cell_type": "code",
   "execution_count": 7,
   "metadata": {},
   "outputs": [],
   "source": [
    "url_tweets = json.load(open(\"data/url_tweets.json\"))"
   ]
  },
  {
   "cell_type": "code",
   "execution_count": 8,
   "metadata": {},
   "outputs": [
    {
     "data": {
      "text/plain": [
       "{'url': 'http://ln.is/truthfeed.com/viral-/znh3p',\n",
       " 'tweets': [{'id': 796583343882207233,\n",
       "   'dt': '2016-11-10 00:20:43',\n",
       "   'origin': True,\n",
       "   'user_id': 124896632,\n",
       "   'IRA': False}]}"
      ]
     },
     "execution_count": 8,
     "metadata": {},
     "output_type": "execute_result"
    }
   ],
   "source": [
    "IRA_tweets = [] # 存在在fake news里面的\n",
    "\n",
    "cnt_0 = 0\n",
    "cnt_1 = 0\n",
    "cnt_2 = 0\n",
    "\n",
    "for i, fake in enumerate(url_tweets):\n",
    "#     print(i, fake)\n",
    "    for j, t in enumerate(fake[\"tweets\"]):\n",
    "        if t[\"id\"] in IRA_tweet_ids:\n",
    "            cnt_2 += 1\n",
    "            IRA_tweets.append(t[\"id\"])\n",
    "            url_tweets[i][\"tweets\"][j][\"IRA\"] = True\n",
    "            if t[\"origin\"]:\n",
    "                cnt_1 += 1\n",
    "                if j == 0:\n",
    "                    cnt_0 += 1\n",
    "        else:\n",
    "            url_tweets[i][\"tweets\"][j][\"IRA\"] = False\n",
    "                    \n",
    "cnt_0, cnt_1, cnt_2\n",
    "\n",
    "url_tweets[-1]"
   ]
  },
  {
   "cell_type": "markdown",
   "metadata": {},
   "source": [
    "由目前的数据看，IRAs的活跃度很低。有可能是数据不重叠的问题，毕竟我之前的结果发现其中有大量的假新闻。我是不是应该解析URL然后添加进去呢？\n",
    "\n",
    "1. 解析URL，如果满足的话就添加进去；\n",
    "2. 看转发网络，如果转发了fake news里面数据就添加进去；\n",
    "\n",
    "从以上两点可以扩充数据！\n",
    "\n",
    "URL先继续解析着～"
   ]
  },
  {
   "cell_type": "raw",
   "metadata": {},
   "source": [
    "%time tweets = pd.read_csv('data/ira_tweets_csv_hashed.csv', usecols=[\"retweet_tweetid\"], dtype=str)\n",
    "tweets = tweets.dropna()\n",
    "IRA_retweet_tweetids = [int(tid) for tid in tqdm(tweets[\"retweet_tweetid\"])]\n",
    "IRA_retweet_tweetids = set(IRA_retweet_tweetids)\n",
    "len(IRA_retweet_tweetids)"
   ]
  },
  {
   "cell_type": "code",
   "execution_count": 10,
   "metadata": {},
   "outputs": [
    {
     "name": "stdout",
     "output_type": "stream",
     "text": [
      "CPU times: user 3.41 s, sys: 140 ms, total: 3.55 s\n",
      "Wall time: 3.76 s\n"
     ]
    },
    {
     "data": {
      "text/plain": [
       "391680"
      ]
     },
     "execution_count": 10,
     "metadata": {},
     "output_type": "execute_result"
    }
   ],
   "source": [
    "%time ele_tweets = pd.read_csv('data/ira-tweets-ele.csv', dtype=str)\n",
    "# all_tweets = all_tweets.dropna()\n",
    "len(ele_tweets)"
   ]
  },
  {
   "cell_type": "code",
   "execution_count": 11,
   "metadata": {},
   "outputs": [
    {
     "data": {
      "text/plain": [
       "count      556.000000\n",
       "mean       704.460432\n",
       "std       1439.989381\n",
       "min          1.000000\n",
       "25%          8.000000\n",
       "50%        114.500000\n",
       "75%        903.250000\n",
       "max      12308.000000\n",
       "Name: userid, dtype: float64"
      ]
     },
     "execution_count": 11,
     "metadata": {},
     "output_type": "execute_result"
    }
   ],
   "source": [
    "ele_tweets.userid.value_counts().describe()"
   ]
  },
  {
   "cell_type": "code",
   "execution_count": 13,
   "metadata": {},
   "outputs": [
    {
     "data": {
      "text/plain": [
       "(237, 776, 776)"
      ]
     },
     "execution_count": 13,
     "metadata": {},
     "output_type": "execute_result"
    }
   ],
   "source": [
    "cnt_0 = 0\n",
    "cnt_1 = 0\n",
    "cnt_2 = 0\n",
    "\n",
    "# 这些tweet转发了fake news，他们有可能不在数据里面？？但是他们全部都刚好不在数据里面？？？\n",
    "IRAs_retweets = []\n",
    "\n",
    "for i, fake in enumerate(url_tweets):\n",
    "    for j, t in enumerate(fake[\"tweets\"]):\n",
    "        if t[\"id\"] in IRA_retweet_tweetids:\n",
    "            tmp = all_tweets[all_tweets[\"retweet_tweetid\"]==str(t[\"id\"])]\n",
    "            for _, row in tmp.iterrows():\n",
    "                url_tweets[i][\"tweets\"].append({\n",
    "                    \"id\": int(row[\"tweetid\"]),\n",
    "                    \"dt\": row[\"tweet_time\"] + \":00\",\n",
    "                    \"origin\": False,\n",
    "                    \"IRA\": True,\n",
    "                    \"user_id\": row[\"userid\"]\n",
    "                })\n",
    "                cnt_2 += 1\n",
    "                if t[\"origin\"]:\n",
    "                    cnt_1 += 1\n",
    "                    if j == 0:\n",
    "                        cnt_0 += 1\n",
    "                    \n",
    "cnt_0, cnt_1, cnt_2"
   ]
  },
  {
   "cell_type": "code",
   "execution_count": 23,
   "metadata": {},
   "outputs": [
    {
     "data": {
      "text/plain": [
       "(2566055, 2565742)"
      ]
     },
     "execution_count": 23,
     "metadata": {},
     "output_type": "execute_result"
    }
   ],
   "source": [
    "# 删除多余的部分\n",
    "\n",
    "cnt = 0\n",
    "tids = set()\n",
    "lalala = []\n",
    "\n",
    "for i in range(len(url_tweets)):\n",
    "    fake = url_tweets[i]\n",
    "    for j in range(len(fake[\"tweets\"])):\n",
    "        t = fake[\"tweets\"][j]\n",
    "        cnt += 1\n",
    "        if t[\"id\"] in tids:\n",
    "            lalala.append((t[\"id\"], i, j))\n",
    "        else:\n",
    "            tids.add(t[\"id\"])\n",
    "        \n",
    "cnt, len(tids)"
   ]
  },
  {
   "cell_type": "code",
   "execution_count": 29,
   "metadata": {},
   "outputs": [
    {
     "name": "stderr",
     "output_type": "stream",
     "text": [
      "100%|██████████| 189620/189620 [00:05<00:00, 36620.77it/s]\n"
     ]
    }
   ],
   "source": [
    "tids = set()\n",
    "\n",
    "new_url_tweets = []\n",
    "for i in tqdm(range(len(url_tweets))):\n",
    "    fake = url_tweets[i]\n",
    "    url = fake[\"url\"]\n",
    "    new_url_tweets.append({\"url\": url, \"tweets\": []})\n",
    "    for j in range(len(fake[\"tweets\"])):\n",
    "        t = fake[\"tweets\"][j]\n",
    "        t[\"id\"] = str(t[\"id\"])\n",
    "        if t[\"id\"] in tids:\n",
    "            pass\n",
    "        else:\n",
    "            t[\"id\"] = str(t[\"id\"])\n",
    "            t[\"user_id\"] = str(t[\"user_id\"])\n",
    "            if j == 0:\n",
    "                t[\"first\"] = True\n",
    "            else:\n",
    "                t[\"first\"] = False\n",
    "            new_url_tweets[i][\"tweets\"].append(t)\n",
    "        tids.add(t[\"id\"])\n",
    "            "
   ]
  },
  {
   "cell_type": "code",
   "execution_count": 27,
   "metadata": {},
   "outputs": [
    {
     "data": {
      "text/plain": [
       "{'url': 'http://ln.is/truthfeed.com/viral-/znh3p',\n",
       " 'tweets': [{'id': '796583343882207233',\n",
       "   'dt': '2016-11-10 00:20:43',\n",
       "   'origin': True,\n",
       "   'user_id': '124896632',\n",
       "   'IRA': False,\n",
       "   'first': True}]}"
      ]
     },
     "execution_count": 27,
     "metadata": {},
     "output_type": "execute_result"
    }
   ],
   "source": [
    "new_url_tweets[-1]"
   ]
  },
  {
   "cell_type": "code",
   "execution_count": 30,
   "metadata": {},
   "outputs": [
    {
     "name": "stderr",
     "output_type": "stream",
     "text": [
      "100%|██████████| 189620/189620 [00:00<00:00, 336756.37it/s]\n"
     ]
    }
   ],
   "source": [
    "for i in tqdm(range(len(new_url_tweets))):\n",
    "    new_url_tweets[i][\"tweets\"] = sorted(new_url_tweets[i][\"tweets\"], key=lambda d: d[\"dt\"])"
   ]
  },
  {
   "cell_type": "code",
   "execution_count": 34,
   "metadata": {},
   "outputs": [
    {
     "data": {
      "text/plain": [
       "{'url': 'https://fellowshipoftheminds.com/2016/10/12/barack-obama-showed-off-his-erection-in-full-view-of-female-reporters/',\n",
       " 'tweets': [{'id': '786677570230190080',\n",
       "   'dt': '2016-10-13 16:18:43',\n",
       "   'origin': True,\n",
       "   'user_id': '305406922',\n",
       "   'IRA': False,\n",
       "   'first': True},\n",
       "  {'id': '787079877925089281',\n",
       "   'dt': '2016-10-14 18:57:20',\n",
       "   'origin': True,\n",
       "   'user_id': '1309442372',\n",
       "   'IRA': False,\n",
       "   'first': False}]}"
      ]
     },
     "execution_count": 34,
     "metadata": {},
     "output_type": "execute_result"
    }
   ],
   "source": [
    "new_url_tweets[100000]"
   ]
  },
  {
   "cell_type": "code",
   "execution_count": 35,
   "metadata": {},
   "outputs": [
    {
     "name": "stderr",
     "output_type": "stream",
     "text": [
      "100%|██████████| 189620/189620 [00:00<00:00, 1683638.57it/s]\n"
     ]
    }
   ],
   "source": [
    "# 验证第一个是不是first\n",
    "\n",
    "for i in tqdm(range(len(url_tweets))):\n",
    "    fake = url_tweets[i]\n",
    "    url = fake[\"url\"]\n",
    "    \n",
    "    if fake[\"tweets\"][0][\"first\"] != True:\n",
    "        print(\"What the fake!!!\")"
   ]
  },
  {
   "cell_type": "code",
   "execution_count": 37,
   "metadata": {},
   "outputs": [],
   "source": [
    "# 验证通过，save the data\n",
    "\n",
    "json.dump(new_url_tweets, open(\"url_tweets_v2.json\", \"w\"), indent=2)"
   ]
  },
  {
   "cell_type": "code",
   "execution_count": 43,
   "metadata": {},
   "outputs": [
    {
     "name": "stdout",
     "output_type": "stream",
     "text": [
      "CPU times: user 1min 9s, sys: 3.88 s, total: 1min 13s\n",
      "Wall time: 1min 18s\n"
     ]
    }
   ],
   "source": [
    "%time all_tweets = pd.read_csv('data/ira_tweets_csv_hashed.csv', dtype=str)"
   ]
  },
  {
   "cell_type": "code",
   "execution_count": 44,
   "metadata": {},
   "outputs": [],
   "source": [
    "# 时间上筛选数据\n",
    "tweets = all_tweets[(all_tweets[\"tweet_time\"]<\"2016-11-09 00:00\") & (all_tweets[\"tweet_time\"]>=\"2016-06-01 00:00\")]\n",
    "tweets = tweets[tweets.tweet_language==\"en\"]\n",
    "tweets.to_csv(\"data/ira-tweets-ele.csv\", index=None)"
   ]
  },
  {
   "cell_type": "code",
   "execution_count": 45,
   "metadata": {},
   "outputs": [],
   "source": [
    "tweets = pd.read_csv(\"data/ira-tweets-ele.csv\")"
   ]
  },
  {
   "cell_type": "code",
   "execution_count": 50,
   "metadata": {},
   "outputs": [
    {
     "data": {
      "text/plain": [
       "391680"
      ]
     },
     "execution_count": 50,
     "metadata": {},
     "output_type": "execute_result"
    }
   ],
   "source": [
    "len(tweets)"
   ]
  },
  {
   "cell_type": "markdown",
   "metadata": {},
   "source": [
    "针对这些选择后的数据进行url的分析"
   ]
  },
  {
   "cell_type": "code",
   "execution_count": 5,
   "metadata": {},
   "outputs": [
    {
     "data": {
      "application/vnd.jupyter.widget-view+json": {
       "model_id": "fefae9634df24f7997be640e06fc8ecd",
       "version_major": 2,
       "version_minor": 0
      },
      "text/plain": [
       "HBox(children=(IntProgress(value=1, bar_style='info', max=1), HTML(value='')))"
      ]
     },
     "metadata": {},
     "output_type": "display_data"
    },
    {
     "name": "stdout",
     "output_type": "stream",
     "text": [
      "\n"
     ]
    }
   ],
   "source": [
    "import tldextract\n",
    "\n",
    "rst = []\n",
    "for i, row in tqdm(tweets.iterrows()):\n",
    "    urls = row[\"urls\"][1:-1]\n",
    "    if urls and len(urls.split(\"http\")) < 3:\n",
    "        rst.append({\n",
    "            \"tweetid\": row.tweetid,\n",
    "            \"userid\": row.userid,\n",
    "            \"url\": urls,\n",
    "            \"hostname\": \".\".join(tldextract.extract(urls)[1:])\n",
    "        }) "
   ]
  },
  {
   "cell_type": "code",
   "execution_count": 6,
   "metadata": {},
   "outputs": [
    {
     "data": {
      "text/plain": [
       "[('bit.ly', 31443),\n",
       " ('twitter.com', 25079),\n",
       " ('dailym.ai', 2566),\n",
       " ('dlvr.it', 2309),\n",
       " ('youtu.be', 1974),\n",
       " ('cbsloc.al', 1966),\n",
       " ('ow.ly', 1686),\n",
       " ('youtube.com', 1555),\n",
       " ('rt.com', 1477),\n",
       " ('fb.me', 1465),\n",
       " ('instagram.com', 1413),\n",
       " ('ln.is', 1354),\n",
       " ('goo.gl', 1225),\n",
       " ('buff.ly', 1201),\n",
       " ('hill.cm', 951),\n",
       " ('trib.al', 926),\n",
       " ('sh.st', 880),\n",
       " ('lat.ms', 843),\n",
       " ('1063.mobi', 837),\n",
       " ('facebook.com', 818),\n",
       " ('nydn.us', 784),\n",
       " ('ift.tt', 737),\n",
       " ('blackmattersus.com', 681),\n",
       " ('breitbart.com', 650),\n",
       " ('pushpowerpromo.com', 645),\n",
       " ('bsun.md', 509),\n",
       " ('wapo.st', 449),\n",
       " ('bloom.bg', 445),\n",
       " ('huffingtonpost.com', 404),\n",
       " ('vine.co', 402),\n",
       " ('twib.in', 392),\n",
       " ('wordpress.com', 370),\n",
       " ('blacktolive.org', 361),\n",
       " ('atlantablackstar.com', 358),\n",
       " ('foxnews.com', 347),\n",
       " ('usat.ly', 338),\n",
       " ('tinyurl.com', 318),\n",
       " ('rdo.to', 314),\n",
       " ('theroot.com', 312),\n",
       " ('soundcloud.com', 312),\n",
       " ('huff.to', 310),\n",
       " ('bayareane.ws', 306),\n",
       " ('thebea.st', 299),\n",
       " ('nyti.ms', 299),\n",
       " ('dailycaller.com', 289),\n",
       " ('USFREEDOMARMY.COM', 284),\n",
       " ('detne.ws', 277),\n",
       " ('dld.bz', 269),\n",
       " ('twimg.com', 264),\n",
       " ('washingtonpost.com', 255)]"
      ]
     },
     "execution_count": 6,
     "metadata": {},
     "output_type": "execute_result"
    }
   ],
   "source": [
    "from collections import Counter\n",
    "\n",
    "Counter([d[\"hostname\"] for d in rst]).most_common(50)"
   ]
  },
  {
   "cell_type": "code",
   "execution_count": 61,
   "metadata": {},
   "outputs": [
    {
     "data": {
      "application/vnd.jupyter.widget-view+json": {
       "model_id": "08038604e56946128a445c1ddbeefec9",
       "version_major": 2,
       "version_minor": 0
      },
      "text/plain": [
       "HBox(children=(IntProgress(value=0, max=122686), HTML(value='')))"
      ]
     },
     "metadata": {},
     "output_type": "display_data"
    },
    {
     "name": "stdout",
     "output_type": "stream",
     "text": [
      "\n"
     ]
    }
   ],
   "source": [
    "with open(\"data/ira-final-url.json\", \"w\") as f:\n",
    "    for r in tqdm(rst):\n",
    "        f.write(json.dumps(r) + \"\\n\")"
   ]
  },
  {
   "cell_type": "code",
   "execution_count": 121,
   "metadata": {
    "slideshow": {
     "slide_type": "-"
    }
   },
   "outputs": [
    {
     "data": {
      "application/vnd.jupyter.widget-view+json": {
       "model_id": "dcbbdaf8fa3f4c1b937512e6d6746695",
       "version_major": 2,
       "version_minor": 0
      },
      "text/plain": [
       "HBox(children=(IntProgress(value=1, bar_style='info', max=1), HTML(value='')))"
      ]
     },
     "metadata": {},
     "output_type": "display_data"
    },
    {
     "name": "stdout",
     "output_type": "stream",
     "text": [
      "\n"
     ]
    },
    {
     "data": {
      "text/plain": [
       "(31666, 16792, 17537, 2036)"
      ]
     },
     "execution_count": 121,
     "metadata": {},
     "output_type": "execute_result"
    }
   ],
   "source": [
    "# 关键词选择出与 分析 相关的数据，主要是election, trump, hillary\n",
    "# IGNORE: 通过关键词合并数据，先放在一旁 !!!\n",
    "\n",
    "# 通过关键词和时间来筛选出相关的数据\n",
    "\n",
    "trump_count = 0\n",
    "hillary_count = 0\n",
    "election_count = 0\n",
    "\n",
    "bingo_index = set()\n",
    "\n",
    "for i, row in tqdm(tweets.iterrows()):\n",
    "    words = set(str(row[\"tweet_text\"]).lower().strip().split())\n",
    "    \n",
    "    if \"trump\" in words or \"realdonaldtrump\" in words or \"@realdonaldtrump\" in words or \"donaldtrump\" in words:\n",
    "        trump_count += 1\n",
    "        bingo_index.add(row[\"tweetid\"])\n",
    "    if \"hillary\" in words or \"clinton\" in words or \"hillaryclinton\" in words or \"@hillaryclinton\" in words:\n",
    "        hillary_count += 1\n",
    "        bingo_index.add(row[\"tweetid\"])    \n",
    "    if \"election\" in words or \"elect\" in words:\n",
    "        election_count += 1\n",
    "#         bingo_index.append(i)\n",
    "\n",
    "len(bingo_index), trump_count, hillary_count, election_count"
   ]
  },
  {
   "cell_type": "raw",
   "metadata": {},
   "source": [
    "针对这三万+ 的tweets进行详细地分析！"
   ]
  },
  {
   "cell_type": "code",
   "execution_count": 122,
   "metadata": {},
   "outputs": [],
   "source": [
    "df = tweets[tweets.tweetid.isin(bingo_index)]"
   ]
  },
  {
   "cell_type": "code",
   "execution_count": 123,
   "metadata": {},
   "outputs": [],
   "source": [
    "df.to_csv(\"ira-tweets-trump-hillary.csv\", index=None)"
   ]
  },
  {
   "cell_type": "code",
   "execution_count": 137,
   "metadata": {},
   "outputs": [
    {
     "name": "stdout",
     "output_type": "stream",
     "text": [
      "CPU times: user 3.26 s, sys: 76 ms, total: 3.33 s\n",
      "Wall time: 2.83 s\n"
     ]
    }
   ],
   "source": [
    "# select the pro-trump of tweets in election\n",
    "\n",
    "# tweet_ids = set(\n",
    "#     [str(json.loads(line.strip())[\"tweet_id\"]) for line in open(\"data/IRA-tweets.json\")])\n",
    "\n",
    "# tweet_ids = pd.read_csv(\"data/ira-tweets-ele.csv\", usecols=[\"tweetid\"], dtype=str).tweetid.tolist()\n",
    "\n",
    "# tweet_ids = set(pd.read_csv(\"data/ira-tweets-trump-hillary.csv\", usecols=[\"tweetid\"], dtype=str).tweetid.tolist())\n",
    "\n",
    "\n",
    "# print(tweet_ids[0])\n",
    "\n",
    "%time tweets = pd.read_csv(\"data/ira-tweets-ele.csv\")\n",
    "tweet_ids = set([str(tid) for tid in tweets.tweetid.tolist()])"
   ]
  },
  {
   "cell_type": "code",
   "execution_count": 134,
   "metadata": {},
   "outputs": [
    {
     "data": {
      "application/vnd.jupyter.widget-view+json": {
       "model_id": "2e05e5ea984642a4b86d91b57664dac3",
       "version_major": 2,
       "version_minor": 0
      },
      "text/plain": [
       "HBox(children=(IntProgress(value=1, bar_style='info', max=1), HTML(value='')))"
      ]
     },
     "metadata": {},
     "output_type": "display_data"
    },
    {
     "data": {
      "text/plain": [
       "(13198, 6314)"
      ]
     },
     "execution_count": 134,
     "metadata": {},
     "output_type": "execute_result"
    },
    {
     "data": {
      "image/png": "[encoded data removed]",
      "text/plain": [
       "<Figure size 432x288 with 1 Axes>"
      ]
     },
     "metadata": {
      "needs_background": "light"
     },
     "output_type": "display_data"
    }
   ],
   "source": [
    "pros = []\n",
    "for line in tqdm(open(\"data/IRA_support_trump.txt\")):\n",
    "    w = line.strip().split(\",\")\n",
    "    if w[0] in tweet_ids:\n",
    "        pros.append(float(w[1]))\n",
    "        \n",
    "# 分析pro-trump\n",
    "\n",
    "d = pd.Series(pros)\n",
    "d.hist(bins=10)\n",
    "plt.xlabel('Probability of pro-trump', fontsize=13)\n",
    "plt.ylabel('Number of tweets', fontsize=13)\n",
    "plt.xticks(fontsize=13); plt.yticks(fontsize=13)\n",
    "plt.tight_layout()\n",
    "plt.savefig(\"fig/probality of pro-trump.pdf\", dpi=300)\n",
    "\n",
    "trump_count = 0\n",
    "hillary_count = 0\n",
    "\n",
    "for row in d:\n",
    "    if row >= 0.8:\n",
    "        trump_count += 1\n",
    "    elif row < 0.2:\n",
    "        hillary_count += 1\n",
    "        \n",
    "trump_count, hillary_count"
   ]
  },
  {
   "cell_type": "code",
   "execution_count": 140,
   "metadata": {},
   "outputs": [
    {
     "data": {
      "application/vnd.jupyter.widget-view+json": {
       "model_id": "d4898b4a06394d3895387a37e25261f7",
       "version_major": 2,
       "version_minor": 0
      },
      "text/plain": [
       "HBox(children=(IntProgress(value=1, bar_style='info', max=1), HTML(value='')))"
      ]
     },
     "metadata": {},
     "output_type": "display_data"
    },
    {
     "name": "stdout",
     "output_type": "stream",
     "text": [
      "could not convert string to float: 'pro_trump'\n"
     ]
    },
    {
     "data": {
      "text/plain": [
       "(423705, 562089)"
      ]
     },
     "execution_count": 140,
     "metadata": {},
     "output_type": "execute_result"
    },
    {
     "data": {
      "image/png": "[encoded data removed]",
      "text/plain": [
       "<Figure size 432x288 with 1 Axes>"
      ]
     },
     "metadata": {
      "needs_background": "light"
     },
     "output_type": "display_data"
    }
   ],
   "source": [
    "pros = []\n",
    "for line in tqdm(open(\"data/IRA_support_trump.txt\")):\n",
    "    try:\n",
    "        w = line.strip().split(\",\")\n",
    "        pros.append(float(w[1]))\n",
    "    except Exception as e:\n",
    "        print(e)\n",
    "        \n",
    "# 分析pro-trump\n",
    "\n",
    "d = pd.Series(pros)\n",
    "d.hist(bins=10)\n",
    "plt.xlabel('Probability of pro-trump', fontsize=13)\n",
    "plt.ylabel('Number of tweets', fontsize=13)\n",
    "plt.xticks(fontsize=13); plt.yticks(fontsize=13)\n",
    "plt.tight_layout()\n",
    "plt.savefig(\"fig/pro-trump-all.pdf\", dpi=300)\n",
    "\n",
    "trump_count = 0\n",
    "hillary_count = 0\n",
    "\n",
    "for row in d:\n",
    "    if row >= 0.8:\n",
    "        trump_count += 1\n",
    "    elif row < 0.2:\n",
    "        hillary_count += 1\n",
    "        \n",
    "trump_count, hillary_count"
   ]
  },
  {
   "cell_type": "code",
   "execution_count": 139,
   "metadata": {},
   "outputs": [
    {
     "data": {
      "application/vnd.jupyter.widget-view+json": {
       "model_id": "cc74c7da60ef4fe7831aea07a8ee494c",
       "version_major": 2,
       "version_minor": 0
      },
      "text/plain": [
       "HBox(children=(IntProgress(value=1, bar_style='info', max=1), HTML(value='')))"
      ]
     },
     "metadata": {},
     "output_type": "display_data"
    },
    {
     "data": {
      "text/plain": [
       "(52962, 72734)"
      ]
     },
     "execution_count": 139,
     "metadata": {},
     "output_type": "execute_result"
    },
    {
     "data": {
      "image/png": "[encoded data removed]",
      "text/plain": [
       "<Figure size 432x288 with 1 Axes>"
      ]
     },
     "metadata": {
      "needs_background": "light"
     },
     "output_type": "display_data"
    }
   ],
   "source": [
    "pros = []\n",
    "for line in tqdm(open(\"data/IRA_support_trump.txt\")):\n",
    "    w = line.strip().split(\",\")\n",
    "    if w[0] in tweet_ids:\n",
    "        pros.append(float(w[1]))\n",
    "        \n",
    "# 分析pro-trump\n",
    "\n",
    "d = pd.Series(pros)\n",
    "d.hist(bins=10)\n",
    "plt.xlabel('Probability of pro-trump', fontsize=13)\n",
    "plt.ylabel('Number of tweets', fontsize=13)\n",
    "plt.xticks(fontsize=13); plt.yticks(fontsize=13)\n",
    "plt.tight_layout()\n",
    "plt.savefig(\"fig/pro-trump-en.pdf\", dpi=300)\n",
    "\n",
    "trump_count = 0\n",
    "hillary_count = 0\n",
    "\n",
    "for row in d:\n",
    "    if row >= 0.8:\n",
    "        trump_count += 1\n",
    "    elif row < 0.2:\n",
    "        hillary_count += 1\n",
    "        \n",
    "trump_count, hillary_count"
   ]
  },
  {
   "cell_type": "code",
   "execution_count": 33,
   "metadata": {},
   "outputs": [
    {
     "data": {
      "image/png": "[encoded data removed]",
      "text/plain": [
       "<Figure size 432x360 with 1 Axes>"
      ]
     },
     "metadata": {
      "needs_background": "light"
     },
     "output_type": "display_data"
    }
   ],
   "source": [
    "plt.figure(figsize=(6, 5))\n",
    "plt.bar(1, hillary_count, color=sns.color_palette(\"RdBu\")[5], width=0.2)\n",
    "plt.bar(1.5, trump_count, color=sns.color_palette(\"RdBu\")[0], width=0.2)\n",
    "label = [\"pro-hillary\\n{0:.0%}\".format(hillary_count / (trump_count + hillary_count)),\n",
    "         \"pro-trump\\n{0:.0%}\".format(trump_count / (trump_count + hillary_count))]\n",
    "plt.xticks([1, 1.5], label)\n",
    "plt.xlabel('Support rate', fontsize=15)\n",
    "plt.ylabel('Number of tweets', fontsize=15)\n",
    "plt.xticks(fontsize=14); plt.yticks(fontsize=14)\n",
    "plt.tight_layout()\n",
    "plt.savefig(\"support rate.png\", dpi=300)"
   ]
  },
  {
   "cell_type": "markdown",
   "metadata": {},
   "source": [
    "### 分析构造的IRA全网络"
   ]
  },
  {
   "cell_type": "code",
   "execution_count": 2,
   "metadata": {},
   "outputs": [],
   "source": [
    "all_net = nx.read_gpickle(\"data/network/ira-all.gpickle\")"
   ]
  },
  {
   "cell_type": "code",
   "execution_count": 3,
   "metadata": {},
   "outputs": [
    {
     "data": {
      "text/plain": [
       "136155"
      ]
     },
     "execution_count": 3,
     "metadata": {},
     "output_type": "execute_result"
    }
   ],
   "source": [
    "all_net.number_of_nodes()"
   ]
  },
  {
   "cell_type": "code",
   "execution_count": 4,
   "metadata": {},
   "outputs": [
    {
     "data": {
      "text/plain": [
       "277346"
      ]
     },
     "execution_count": 4,
     "metadata": {},
     "output_type": "execute_result"
    }
   ],
   "source": [
    "all_net.number_of_edges()"
   ]
  },
  {
   "cell_type": "code",
   "execution_count": 14,
   "metadata": {},
   "outputs": [],
   "source": [
    "# very important!\n",
    "\n",
    "ira_user_set = set()\n",
    "for uid in putin.IRA_user_set:\n",
    "    try:\n",
    "        if len(putin._map[uid]) != 64:\n",
    "            ira_user_set.add(str(putin._map[uid]))\n",
    "    except:\n",
    "        if len(uid) != 64:\n",
    "            ira_user_set.add(uid)"
   ]
  },
  {
   "cell_type": "code",
   "execution_count": 15,
   "metadata": {},
   "outputs": [],
   "source": [
    "ira_user_list = list(ira_user_set)"
   ]
  },
  {
   "cell_type": "code",
   "execution_count": 17,
   "metadata": {},
   "outputs": [
    {
     "data": {
      "text/plain": [
       "AtlasView({'2951904191': {}, '1339835893': {}, '2949261587': {}, '16715398': {}, '15980895': {}, '1330457336': {}, '3573336134': {}, '14522241': {}, '1640929196': {}, '716813053': {}, '22799750': {}, '759251': {}, '25073877': {}, '16589206': {}, '3313779296': {}, '41634520': {}, '1734949104': {}, '29417304': {}, '17629860': {}, '358545917': {}, '3245135844': {}, '18643437': {}, '66533920': {}, '16228398': {}, '229592356': {}, '823738296': {}, '2227403496': {}, '20772763': {}, '14717197': {}, '259001548': {}, '31228313': {}, '22203756': {}, '3124986791': {}, '439608838': {}, '17194090': {}, '4925188717': {}, '1140341359': {}, '4917092018': {}, '712967096': {}, '53130511': {}, '21688902': {}, '783214': {}, '2897970594': {}, '2864051403': {}, '18949452': {}, '15745368': {}, '45876240': {}})"
      ]
     },
     "execution_count": 17,
     "metadata": {},
     "output_type": "execute_result"
    }
   ],
   "source": [
    "all_net[ira_user_list[0]]"
   ]
  },
  {
   "cell_type": "code",
   "execution_count": 5,
   "metadata": {},
   "outputs": [],
   "source": [
    "CI_rst = np.load(\"data/CI_rst/CI_out_ira-all.rst.npy\")\n",
    "CI_rank_rst = CI_rst[0][:100]"
   ]
  },
  {
   "cell_type": "code",
   "execution_count": 7,
   "metadata": {},
   "outputs": [],
   "source": [
    "gtG = gt.load_graph(\"data/network/ira-all.gt\")"
   ]
  },
  {
   "cell_type": "code",
   "execution_count": 8,
   "metadata": {},
   "outputs": [],
   "source": [
    "from fake_identify import Are_you_IRA\n",
    "\n",
    "putin = Are_you_IRA()"
   ]
  },
  {
   "cell_type": "raw",
   "metadata": {},
   "source": [
    "for i, v_i in enumerate(CI_rst[0][:100]):\n",
    "    if gtG.vp[\"id\"][v_i] in putin.IRA_user_set:\n",
    "        print(i + 1, gtG.vp[\"id\"][v_i], \"√\", gtG.vp[\"CI_out\"][v_i])\n",
    "    else:\n",
    "        print(i + 1, gtG.vp[\"id\"][v_i])"
   ]
  },
  {
   "cell_type": "code",
   "execution_count": 10,
   "metadata": {},
   "outputs": [
    {
     "name": "stdout",
     "output_type": "stream",
     "text": [
      "CI_both        (vertex)  (type: int64_t)\n",
      "CI_out         (vertex)  (type: int64_t)\n",
      "id             (vertex)  (type: string)\n",
      "katz           (vertex)  (type: double)\n",
      "katz_rev       (vertex)  (type: double)\n"
     ]
    }
   ],
   "source": [
    "gtG.list_properties()"
   ]
  },
  {
   "cell_type": "code",
   "execution_count": 3,
   "metadata": {},
   "outputs": [
    {
     "name": "stdout",
     "output_type": "stream",
     "text": [
      "loading all tweets_csv ...\n",
      "finished!\n"
     ]
    }
   ],
   "source": [
    "from all_tweets import ALL_TWEET\n",
    "\n",
    "Lebron = ALL_TWEET()\n",
    "all_tweets = Lebron.load_all_tweets()"
   ]
  },
  {
   "cell_type": "code",
   "execution_count": 27,
   "metadata": {
    "scrolled": false
   },
   "outputs": [],
   "source": [
    "IRA_tweet_id = all_tweets[(all_tweets.is_IRA > 0) & (all_tweets.media_type == \"0\")].tweet_id"
   ]
  },
  {
   "cell_type": "code",
   "execution_count": 30,
   "metadata": {},
   "outputs": [],
   "source": [
    "IRA_tweet_ids = [_id for _id in IRA_tweet_id]"
   ]
  },
  {
   "cell_type": "code",
   "execution_count": 32,
   "metadata": {},
   "outputs": [
    {
     "data": {
      "text/plain": [
       "'786477613162246144'"
      ]
     },
     "execution_count": 32,
     "metadata": {},
     "output_type": "execute_result"
    }
   ],
   "source": [
    "IRA_tweet_ids[0]"
   ]
  },
  {
   "cell_type": "markdown",
   "metadata": {},
   "source": [
    "## 获取IRA发布消息的client_name"
   ]
  },
  {
   "cell_type": "code",
   "execution_count": 37,
   "metadata": {},
   "outputs": [
    {
     "name": "stdout",
     "output_type": "stream",
     "text": [
      "CPU times: user 18.4 s, sys: 824 ms, total: 19.2 s\n",
      "Wall time: 19.3 s\n"
     ]
    }
   ],
   "source": [
    "%time all_ira_tweets = pd.read_csv(\"data/ira_tweets_csv_hashed.csv\", usecols=[\"tweetid\", \"tweet_client_name\"], dtype=str)"
   ]
  },
  {
   "cell_type": "code",
   "execution_count": 38,
   "metadata": {},
   "outputs": [
    {
     "data": {
      "application/vnd.jupyter.widget-view+json": {
       "model_id": "85c06ba2fbf34e0faa601b3d229e6556",
       "version_major": 2,
       "version_minor": 0
      },
      "text/plain": [
       "HBox(children=(IntProgress(value=0, max=1176), HTML(value='')))"
      ]
     },
     "metadata": {},
     "output_type": "display_data"
    },
    {
     "name": "stdout",
     "output_type": "stream",
     "text": [
      "\n"
     ]
    }
   ],
   "source": [
    "from tqdm import tqdm_notebook as tqdm\n",
    "\n",
    "client_names = []\n",
    "\n",
    "for _id in tqdm(IRA_tweet_ids):\n",
    "    client_names.append(all_ira_tweets[all_ira_tweets.tweetid == _id].tweet_client_name)"
   ]
  },
  {
   "cell_type": "code",
   "execution_count": 53,
   "metadata": {
    "scrolled": false
   },
   "outputs": [],
   "source": [
    "new_client_names = [c.get_values()[0] for c in client_names]"
   ]
  },
  {
   "cell_type": "code",
   "execution_count": 56,
   "metadata": {
    "scrolled": false
   },
   "outputs": [],
   "source": [
    "from collections import Counter\n",
    "\n",
    "count_clinet_names = Counter(new_client_names)"
   ]
  },
  {
   "cell_type": "code",
   "execution_count": 60,
   "metadata": {},
   "outputs": [
    {
     "data": {
      "text/plain": [
       "Twitter Web Client     891\n",
       "Twitter for Android     18\n",
       "TweetDeck               45\n",
       "dlvr.it                222\n",
       "dtype: int64"
      ]
     },
     "execution_count": 60,
     "metadata": {},
     "output_type": "execute_result"
    }
   ],
   "source": [
    "pd.Series(count_clinet_names)"
   ]
  },
  {
   "cell_type": "code",
   "execution_count": 62,
   "metadata": {},
   "outputs": [
    {
     "data": {
      "text/plain": [
       "0.18877551020408162"
      ]
     },
     "execution_count": 62,
     "metadata": {},
     "output_type": "execute_result"
    }
   ],
   "source": [
    "# proportion of auto client in fake news of IRA\n",
    "\n",
    "222 / (891 + 18 + 45 + 222)"
   ]
  },
  {
   "cell_type": "markdown",
   "metadata": {},
   "source": [
    "## 回复Alex，IRA传播了哪些信息？他们影响了谁？"
   ]
  },
  {
   "cell_type": "code",
   "execution_count": 79,
   "metadata": {},
   "outputs": [],
   "source": [
    "from collections import Counter\n",
    "from imp import reload\n",
    "import fake_identify\n",
    "reload(fake_identify)\n",
    "\n",
    "map_labels = {\n",
    "    \"-1\": \"-1\",\n",
    "    \"0\": \"fake\",\n",
    "    \"1\": \"extreme bias (right)\",\n",
    "    \"2\": \"right\",\n",
    "    \"3\": \"right leaning\",\n",
    "    \"4\": \"center\",\n",
    "    \"5\": \"left leaning\",\n",
    "    \"6\": \"left\",\n",
    "    \"7\": \"extreme bias (left)\"\n",
    "}\n",
    "\n",
    "Putin = fake_identify.Who_is_fake()\n",
    "\n",
    "bias_cnt = Counter()\n",
    "bias_cnt_b = Counter()\n",
    "bias_cnt_sci_f = Counter()\n",
    "bias_cnt_sci_a = Counter()\n",
    "fact_cnt = Counter()\n",
    "\n",
    "cnt = Counter()\n",
    "for line in open(\"data/ira-urls-plus-2.json\"):\n",
    "    d = json.loads(line.strip())\n",
    "#     if \"error\" in d and d[\"error\"]:\n",
    "#         cnt[\"cannot analyzing this URL\"] += 1\n",
    "#         print(d)\n",
    "#     else:\n",
    "    cnt[d[\"hostname\"]] += 1\n",
    "#         if d[\"hostname\"] == \"m.vk.com\":\n",
    "#             print(d)\n",
    "\n",
    "del cnt[\"bi.ly\"]\n",
    "del cnt[\"bit.ly\"]\n",
    "\n",
    "print(\"hostname,count,category_alex,category_mbfc,category_sci_fake,category_sci_align\", file=open(\"data/ira-hostname-stat.csv\", \"a\")) \n",
    "for v in cnt.most_common():\n",
    "    label_b = Putin.identify(v[0])\n",
    "    label = Putin.identify_v2(v[0])\n",
    "    label_sci_f = Putin.identify_science_fake(v[0])\n",
    "    label_sci_a = Putin.identify_science_align(v[0])\n",
    "\n",
    "    bias_cnt_b[map_labels[str(label_b)]] += v[1]\n",
    "    bias_cnt[label] += v[1]\n",
    "    bias_cnt_sci_f[label_sci_f] += v[1]\n",
    "    bias_cnt_sci_a[label_sci_a] += v[1]\n",
    "    \n",
    "#     fact_cnt[rst[1]] += v[1]\n",
    "    print(v[0], v[1], map_labels[str(label_b)], label, label_sci_f, label_sci_a, sep=\",\", file=open(\"data/ira-hostname-stat.csv\", \"a\"))\n",
    "    \n",
    "#     if map_labels[str(label_b)] == \"-1\" and label != \"-1\":\n",
    "#         print(v[0], v[1], map_labels[str(label_b)], label, sep=\",\")"
   ]
  },
  {
   "cell_type": "code",
   "execution_count": 76,
   "metadata": {},
   "outputs": [
    {
     "data": {
      "text/plain": [
       "[('-1', 78388),\n",
       " ('left leaning', 20707),\n",
       " ('fake', 9594),\n",
       " ('right', 4147),\n",
       " ('left', 3651),\n",
       " ('right leaning', 2937),\n",
       " ('center', 2347)]"
      ]
     },
     "execution_count": 76,
     "metadata": {},
     "output_type": "execute_result"
    }
   ],
   "source": [
    "bias_cnt.most_common()"
   ]
  },
  {
   "cell_type": "code",
   "execution_count": 77,
   "metadata": {},
   "outputs": [
    {
     "data": {
      "text/plain": [
       "[('-1', 98770),\n",
       " ('left leaning', 5168),\n",
       " ('right', 5127),\n",
       " ('center', 4022),\n",
       " ('extreme bias (right)', 2660),\n",
       " ('left', 2275),\n",
       " ('right leaning', 2103),\n",
       " ('fake', 1539),\n",
       " ('extreme bias (left)', 107)]"
      ]
     },
     "execution_count": 77,
     "metadata": {},
     "output_type": "execute_result"
    }
   ],
   "source": [
    "bias_cnt_b.most_common()"
   ]
  },
  {
   "cell_type": "code",
   "execution_count": 78,
   "metadata": {},
   "outputs": [
    {
     "data": {
      "text/plain": [
       "[('-1', 118392), ('Red', 1636), ('Orange', 1046), ('Black', 697)]"
      ]
     },
     "execution_count": 78,
     "metadata": {},
     "output_type": "execute_result"
    }
   ],
   "source": [
    "bias_cnt_sci_f.most_common()"
   ]
  },
  {
   "cell_type": "code",
   "execution_count": 80,
   "metadata": {},
   "outputs": [
    {
     "name": "stdout",
     "output_type": "stream",
     "text": [
      "start ...\n"
     ]
    },
    {
     "data": {
      "application/vnd.jupyter.widget-view+json": {
       "model_id": "42ff474582ab4692837fa60c9255912c",
       "version_major": 2,
       "version_minor": 0
      },
      "text/plain": [
       "HBox(children=(IntProgress(value=0, max=57121899), HTML(value='')))"
      ]
     },
     "metadata": {},
     "output_type": "display_data"
    },
    {
     "name": "stdout",
     "output_type": "stream",
     "text": [
      "\n"
     ]
    }
   ],
   "source": [
    "import sqlite3\n",
    "\n",
    "# all\n",
    "conn = sqlite3.connect(\n",
    "    \"/home/alex/network_workdir/elections/databases/urls_db.sqlite\")\n",
    "c = conn.cursor()\n",
    "c.execute('''SELECT * FROM urls;''')\n",
    "col_names = [t[0] for t in c.description]\n",
    "\n",
    "with open(\"disk/all_tweets.json\", \"w\") as f:\n",
    "    print(\"start ...\")\n",
    "    for d in tqdm(c.fetchall()):\n",
    "        if d[8]:\n",
    "            hostname = d[8].lower()\n",
    "            # print(hostname)\n",
    "            if hostname.startswith(\"www.\"):\n",
    "                hostname = hostname[4:]\n",
    "                \n",
    "            label_b = map_labels[str(Putin.identify(hostname))]\n",
    "            label = Putin.identify_v2(hostname)\n",
    "            label_sci_f = Putin.identify_science_fake(hostname)\n",
    "            label_sci_a = Putin.identify_science_align(hostname)\n",
    "\n",
    "            json_d = {k: v for k, v in zip(col_names, d)}\n",
    "            json_d[\"media_type\"] = label_b\n",
    "            json_d[\"c_mbfc\"] = label                         \n",
    "            json_d[\"c_sci_fake\"] = label_sci_f                         \n",
    "            json_d[\"c_sci_align\"] = label_sci_a\n",
    "            \n",
    "            f.write(json.dumps(json_d, ensure_ascii=False) + '\\n')\n",
    "            # self.tweet_ids.append(json_d[\"tweet_id\"])\n",
    "            \n",
    "conn.close()"
   ]
  },
  {
   "cell_type": "markdown",
   "metadata": {},
   "source": [
    "分析全局的URL的情况"
   ]
  },
  {
   "cell_type": "code",
   "execution_count": 89,
   "metadata": {},
   "outputs": [
    {
     "data": {
      "application/vnd.jupyter.widget-view+json": {
       "model_id": "c8b8e74a24554939993aaa084df30c7d",
       "version_major": 2,
       "version_minor": 0
      },
      "text/plain": [
       "HBox(children=(IntProgress(value=1, bar_style='info', max=1), HTML(value='')))"
      ]
     },
     "metadata": {},
     "output_type": "display_data"
    },
    {
     "name": "stdout",
     "output_type": "stream",
     "text": [
      "\n"
     ]
    }
   ],
   "source": [
    "\n",
    "\n",
    "# bingo_tweets.json 是指至少被识别过一次的\n",
    "with open(\"disk/bingo_tweets.json\", \"w\") as f:\n",
    "    for line in tqdm(open(\"disk/all_tweets.json\")):\n",
    "        d = json.loads(line.strip())\n",
    "        if d[\"c_mbfc\"] != \"-1\" or d[\"media_type\"] != \"-1\" or d[\"c_sci_fake\"] != \"-1\":\n",
    "            f.write(line)\n",
    "    "
   ]
  },
  {
   "cell_type": "code",
   "execution_count": 3,
   "metadata": {},
   "outputs": [
    {
     "data": {
      "application/vnd.jupyter.widget-view+json": {
       "model_id": "b077e4562b714742b56083fce518e9c0",
       "version_major": 2,
       "version_minor": 0
      },
      "text/plain": [
       "HBox(children=(IntProgress(value=1, bar_style='info', max=1), HTML(value='')))"
      ]
     },
     "metadata": {},
     "output_type": "display_data"
    },
    {
     "name": "stdout",
     "output_type": "stream",
     "text": [
      "\n"
     ]
    }
   ],
   "source": [
    "from collections import Counter\n",
    "\n",
    "ht_cnt = Counter()\n",
    "\n",
    "for line in tqdm(open(\"disk/all_tweets.json\")):\n",
    "    d = json.loads(line.strip())\n",
    "    ht_cnt[d[\"final_hostname\"]] += 1\n"
   ]
  },
  {
   "cell_type": "code",
   "execution_count": 7,
   "metadata": {},
   "outputs": [],
   "source": [
    "import fake_identify\n",
    "\n",
    "map_labels = {\n",
    "    \"-1\": \"-1\",\n",
    "    \"0\": \"fake\",\n",
    "    \"1\": \"extreme bias (right)\",\n",
    "    \"2\": \"right\",\n",
    "    \"3\": \"right leaning\",\n",
    "    \"4\": \"center\",\n",
    "    \"5\": \"left leaning\",\n",
    "    \"6\": \"left\",\n",
    "    \"7\": \"extreme bias (left)\"\n",
    "}\n",
    "\n",
    "Putin = fake_identify.Who_is_fake()\n",
    "\n",
    "bias_cnt = Counter()\n",
    "bias_cnt_b = Counter()\n",
    "bias_cnt_sci_f = Counter()\n",
    "bias_cnt_sci_a = Counter()\n",
    "\n",
    "\n",
    "print(\"hostname,count,category_alex,category_mbfc,category_sci_fake,category_sci_align\", file=open(\"data/all-hostname-stat.csv\", \"a\")) \n",
    "for v in ht_cnt.most_common(1000):\n",
    "    label_b = Putin.identify(v[0])\n",
    "    label = Putin.identify_v2(v[0])\n",
    "    label_sci_f = Putin.identify_science_fake(v[0])\n",
    "    label_sci_a = Putin.identify_science_align(v[0])\n",
    "\n",
    "    bias_cnt_b[map_labels[str(label_b)]] += v[1]\n",
    "    bias_cnt[label] += v[1]\n",
    "    bias_cnt_sci_f[label_sci_f] += v[1]\n",
    "    bias_cnt_sci_a[label_sci_a] += v[1]\n",
    "    \n",
    "    print(v[0], v[1], map_labels[str(label_b)], label, label_sci_f, label_sci_a, sep=\",\", file=open(\"data/all-hostname-stat.csv\", \"a\"))"
   ]
  },
  {
   "cell_type": "code",
   "execution_count": 84,
   "metadata": {},
   "outputs": [
    {
     "data": {
      "text/plain": [
       "[('-1', 21366414),\n",
       " ('left leaning', 11670096),\n",
       " ('left', 7276584),\n",
       " ('fake', 6668013),\n",
       " ('right', 5399583),\n",
       " ('center', 2513694),\n",
       " ('right leaning', 2227513)]"
      ]
     },
     "execution_count": 84,
     "metadata": {},
     "output_type": "execute_result"
    }
   ],
   "source": [
    "bias_cnt.most_common()"
   ]
  },
  {
   "cell_type": "code",
   "execution_count": 85,
   "metadata": {},
   "outputs": [
    {
     "data": {
      "text/plain": [
       "[('-1', 26093139),\n",
       " ('left leaning', 7531427),\n",
       " ('center', 6494813),\n",
       " ('left', 4365831),\n",
       " ('right', 4042993),\n",
       " ('extreme bias (right)', 3981096),\n",
       " ('fake', 2994422),\n",
       " ('right leaning', 1008316),\n",
       " ('extreme bias (left)', 609860)]"
      ]
     },
     "execution_count": 85,
     "metadata": {},
     "output_type": "execute_result"
    }
   ],
   "source": [
    "bias_cnt_b.most_common()"
   ]
  },
  {
   "cell_type": "code",
   "execution_count": 86,
   "metadata": {},
   "outputs": [
    {
     "data": {
      "text/plain": [
       "[('-1', 51447062), ('Red', 2644269), ('Orange', 2011747), ('Black', 1018819)]"
      ]
     },
     "execution_count": 86,
     "metadata": {},
     "output_type": "execute_result"
    }
   ],
   "source": [
    "bias_cnt_sci_f.most_common()"
   ]
  },
  {
   "cell_type": "markdown",
   "metadata": {},
   "source": [
    "我们来看一下语言的问题"
   ]
  },
  {
   "cell_type": "code",
   "execution_count": 14,
   "metadata": {},
   "outputs": [
    {
     "name": "stdout",
     "output_type": "stream",
     "text": [
      "CPU times: user 3.42 s, sys: 80 ms, total: 3.5 s\n",
      "Wall time: 3 s\n"
     ]
    }
   ],
   "source": [
    "%time ira_tweets = pd.read_csv(\"data/ira-tweets-ele.csv\")"
   ]
  },
  {
   "cell_type": "code",
   "execution_count": 15,
   "metadata": {},
   "outputs": [
    {
     "data": {
      "text/plain": [
       "[('en', 391680)]"
      ]
     },
     "execution_count": 15,
     "metadata": {},
     "output_type": "execute_result"
    }
   ],
   "source": [
    "Counter(ira_tweets[\"tweet_language\"]).most_common()"
   ]
  },
  {
   "cell_type": "markdown",
   "metadata": {},
   "source": [
    "## IRA与谁交互了？他们的特点是什么样的？\n",
    "\n",
    "猜测：他们的倾向非常偏右，而且这类人群很集中，是目标的一群特定用户。他们基本不会相信其它人，已经深陷到fake news中。"
   ]
  },
  {
   "cell_type": "code",
   "execution_count": 12,
   "metadata": {},
   "outputs": [],
   "source": [
    "ira_tweets = pd.read_csv(\"data/ira-tweets-ele.csv\", dtype=str)"
   ]
  },
  {
   "cell_type": "code",
   "execution_count": 13,
   "metadata": {},
   "outputs": [
    {
     "data": {
      "text/plain": [
       "Index(['tweetid', 'userid', 'user_display_name', 'user_screen_name',\n",
       "       'user_reported_location', 'user_profile_description',\n",
       "       'user_profile_url', 'follower_count', 'following_count',\n",
       "       'account_creation_date', 'account_language', 'tweet_language',\n",
       "       'tweet_text', 'tweet_time', 'tweet_client_name', 'in_reply_to_tweetid',\n",
       "       'in_reply_to_userid', 'quoted_tweet_tweetid', 'is_retweet',\n",
       "       'retweet_userid', 'retweet_tweetid', 'latitude', 'longitude',\n",
       "       'quote_count', 'reply_count', 'like_count', 'retweet_count', 'hashtags',\n",
       "       'urls', 'user_mentions', 'poll_choices'],\n",
       "      dtype='object')"
      ]
     },
     "execution_count": 13,
     "metadata": {},
     "output_type": "execute_result"
    }
   ],
   "source": [
    "ira_tweets.columns"
   ]
  },
  {
   "cell_type": "markdown",
   "metadata": {},
   "source": [
    "reply tweets"
   ]
  },
  {
   "cell_type": "code",
   "execution_count": 15,
   "metadata": {},
   "outputs": [
    {
     "data": {
      "text/plain": [
       "(391680, 5350, 29716, 246163, 259279)"
      ]
     },
     "execution_count": 15,
     "metadata": {},
     "output_type": "execute_result"
    }
   ],
   "source": [
    "reply_ira_tweets = ira_tweets[ira_tweets.in_reply_to_tweetid.notnull()]\n",
    "quote_ira_tweets = ira_tweets[ira_tweets.quoted_tweet_tweetid.notnull()]\n",
    "ret_ira_tweets = ira_tweets[ira_tweets.retweet_tweetid.notnull()]\n",
    "men_ira_tweets = ira_tweets[ira_tweets.user_mentions.notnull()]\n",
    "\n",
    "len(ira_tweets), len(reply_ira_tweets), len(quote_ira_tweets), len(ret_ira_tweets), len(men_ira_tweets)"
   ]
  },
  {
   "cell_type": "code",
   "execution_count": 41,
   "metadata": {},
   "outputs": [
    {
     "name": "stdout",
     "output_type": "stream",
     "text": [
      "['2683299690', '69231187']\n"
     ]
    }
   ],
   "source": [
    "for row in men_ira_tweets.user_mentions:\n",
    "    print(row[1:-1].split(\", \"))\n",
    "    break"
   ]
  },
  {
   "cell_type": "code",
   "execution_count": 26,
   "metadata": {},
   "outputs": [
    {
     "data": {
      "text/plain": [
       "26612"
      ]
     },
     "execution_count": 26,
     "metadata": {},
     "output_type": "execute_result"
    }
   ],
   "source": [
    "# quote是不是一定是ret？极大部分是，小部分不是\n",
    "len(set(quote_ira_tweets.tweetid) & set(ret_ira_tweets.tweetid))"
   ]
  },
  {
   "cell_type": "code",
   "execution_count": 27,
   "metadata": {},
   "outputs": [
    {
     "data": {
      "text/plain": [
       "158"
      ]
     },
     "execution_count": 27,
     "metadata": {},
     "output_type": "execute_result"
    }
   ],
   "source": [
    "# quote有一些可能是reply\n",
    "len(set(reply_ira_tweets.tweetid) & set(quote_ira_tweets.tweetid))"
   ]
  },
  {
   "cell_type": "code",
   "execution_count": 28,
   "metadata": {},
   "outputs": [
    {
     "data": {
      "text/plain": [
       "0"
      ]
     },
     "execution_count": 28,
     "metadata": {},
     "output_type": "execute_result"
    }
   ],
   "source": [
    "# reply一定不是ret\n",
    "len(set(reply_ira_tweets.tweetid) & set(ret_ira_tweets.tweetid))"
   ]
  },
  {
   "cell_type": "code",
   "execution_count": 20,
   "metadata": {},
   "outputs": [],
   "source": [
    "original_ira_tweets = ira_tweets[(ira_tweets.in_reply_to_tweetid.isnull()) & \\\n",
    "                                 (ira_tweets.quoted_tweet_tweetid.isnull()) & \\\n",
    "                                 (ira_tweets.retweet_tweetid.isnull())]"
   ]
  },
  {
   "cell_type": "code",
   "execution_count": 34,
   "metadata": {},
   "outputs": [],
   "source": [
    "original_ira_tweets = set(ira_tweets[ira_tweets.retweet_tweetid.isnull()].tweetid.tolist())"
   ]
  },
  {
   "cell_type": "code",
   "execution_count": 35,
   "metadata": {},
   "outputs": [
    {
     "data": {
      "text/plain": [
       "145517"
      ]
     },
     "execution_count": 35,
     "metadata": {},
     "output_type": "execute_result"
    }
   ],
   "source": [
    "len(original_ira_tweets)"
   ]
  },
  {
   "cell_type": "markdown",
   "metadata": {},
   "source": [
    "## 先不跟Alex数据混合起来分析一下，在fake news下，源和非源的比例"
   ]
  },
  {
   "cell_type": "code",
   "execution_count": 39,
   "metadata": {},
   "outputs": [
    {
     "data": {
      "application/vnd.jupyter.widget-view+json": {
       "model_id": "44b8a846ff39452d88b2055d843ec8da",
       "version_major": 2,
       "version_minor": 0
      },
      "text/plain": [
       "HBox(children=(IntProgress(value=1, bar_style='info', max=1), HTML(value='')))"
      ]
     },
     "metadata": {},
     "output_type": "display_data"
    },
    {
     "name": "stdout",
     "output_type": "stream",
     "text": [
      "\n"
     ]
    }
   ],
   "source": [
    "_tweets = {}\n",
    "\n",
    "for line in tqdm(open(\"disk/all_IRA_tweets.json\")):\n",
    "    d = json.loads(line.strip())\n",
    "    tweet = {\n",
    "        \"tweet_id\": str(d[\"tweetid\"]),\n",
    "        \"user_id\": -1,\n",
    "        \"dt\": \"2000-01-01 00:00:00\",\n",
    "        \"is_first\": -1,\n",
    "        \"is_source\": -1,\n",
    "        \"is_IRA\": 1,\n",
    "        \"URL\": d[\"final_url\"].lower(),\n",
    "        \"hostname\": d[\"hostname\"].lower(),\n",
    "        \"c_alex\": d[\"media_type\"],\n",
    "        \"c_mbfc\": d[\"c_mbfc\"],\n",
    "        \"c_sci_f\": d[\"c_sci_fake\"],\n",
    "        \"c_sci_s\": d[\"c_sci_align\"],\n",
    "        \"retweeted_id\": -1,\n",
    "    }\n",
    "    # if tweet[\"URL\"].endswith(\"/\"):\n",
    "    #     tweet[\"URL\"] = tweet[\"URL\"][:-1]\n",
    "    _tweets[str(d[\"tweetid\"])] = tweet\n",
    "    \n",
    "_tweets = pd.DataFrame(list(_tweets.values()))"
   ]
  },
  {
   "cell_type": "code",
   "execution_count": 49,
   "metadata": {},
   "outputs": [
    {
     "data": {
      "text/plain": [
       "(43383, 13)"
      ]
     },
     "execution_count": 49,
     "metadata": {},
     "output_type": "execute_result"
    }
   ],
   "source": [
    "_tweets[_tweets.c_mbfc!=\"-1\"].shape"
   ]
  },
  {
   "cell_type": "code",
   "execution_count": 54,
   "metadata": {},
   "outputs": [
    {
     "data": {
      "text/plain": [
       "(20707, 13)"
      ]
     },
     "execution_count": 54,
     "metadata": {},
     "output_type": "execute_result"
    }
   ],
   "source": [
    "_tweets[_tweets.c_mbfc==\"left leaning\"].shape"
   ]
  },
  {
   "cell_type": "code",
   "execution_count": 55,
   "metadata": {},
   "outputs": [],
   "source": [
    "d = json.load(open(\"IRA-tweets-id.txt\"))"
   ]
  },
  {
   "cell_type": "code",
   "execution_count": 57,
   "metadata": {},
   "outputs": [],
   "source": [
    "maybe_tweet_ids = []\n",
    "\n",
    "for _i in d.values():\n",
    "    for _j in _i:\n",
    "        maybe_tweet_ids.append(_j)"
   ]
  },
  {
   "cell_type": "code",
   "execution_count": 61,
   "metadata": {},
   "outputs": [],
   "source": [
    "all_tweets_id = set(tweets.tweetid.tolist())"
   ]
  },
  {
   "cell_type": "code",
   "execution_count": 63,
   "metadata": {},
   "outputs": [
    {
     "data": {
      "text/plain": [
       "8698"
      ]
     },
     "execution_count": 63,
     "metadata": {},
     "output_type": "execute_result"
    }
   ],
   "source": [
    "cnt = 0\n",
    "\n",
    "for t_id in maybe_tweet_ids:\n",
    "    if t_id not in all_tweets_id:\n",
    "        cnt += 1\n",
    "cnt"
   ]
  },
  {
   "cell_type": "markdown",
   "metadata": {},
   "source": [
    "8698个tweets是原来数据中没有的。"
   ]
  }
 ],
 "metadata": {
  "kernelspec": {
   "display_name": "Python 3",
   "language": "python",
   "name": "python3"
  },
  "language_info": {
   "codemirror_mode": {
    "name": "ipython",
    "version": 3
   },
   "file_extension": ".py",
   "mimetype": "text/x-python",
   "name": "python",
   "nbconvert_exporter": "python",
   "pygments_lexer": "ipython3",
   "version": "3.6.8"
  }
 },
 "nbformat": 4,
 "nbformat_minor": 2
}
