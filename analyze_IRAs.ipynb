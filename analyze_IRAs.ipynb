{
 "cells": [
  {
   "cell_type": "markdown",
   "metadata": {},
   "source": [
    "# 分析IRAs"
   ]
  },
  {
   "cell_type": "code",
   "execution_count": 3,
   "metadata": {},
   "outputs": [],
   "source": [
    "from my_weapon import *\n",
    "import seaborn as sns\n",
    "sns.set_style('white')"
   ]
  },
  {
   "cell_type": "code",
   "execution_count": 4,
   "metadata": {},
   "outputs": [
    {
     "data": {
      "text/html": [
       "<div>\n",
       "<style scoped>\n",
       "    .dataframe tbody tr th:only-of-type {\n",
       "        vertical-align: middle;\n",
       "    }\n",
       "\n",
       "    .dataframe tbody tr th {\n",
       "        vertical-align: top;\n",
       "    }\n",
       "\n",
       "    .dataframe thead th {\n",
       "        text-align: right;\n",
       "    }\n",
       "</style>\n",
       "<table border=\"1\" class=\"dataframe\">\n",
       "  <thead>\n",
       "    <tr style=\"text-align: right;\">\n",
       "      <th></th>\n",
       "      <th>userid</th>\n",
       "      <th>user_display_name</th>\n",
       "      <th>user_screen_name</th>\n",
       "      <th>user_reported_location</th>\n",
       "      <th>user_profile_description</th>\n",
       "      <th>user_profile_url</th>\n",
       "      <th>follower_count</th>\n",
       "      <th>following_count</th>\n",
       "      <th>account_creation_date</th>\n",
       "      <th>account_language</th>\n",
       "    </tr>\n",
       "  </thead>\n",
       "  <tbody>\n",
       "    <tr>\n",
       "      <th>0</th>\n",
       "      <td>94c383089f0dd9993020276bd01113ecb5935ad860bfa6...</td>\n",
       "      <td>94c383089f0dd9993020276bd01113ecb5935ad860bfa6...</td>\n",
       "      <td>94c383089f0dd9993020276bd01113ecb5935ad860bfa6...</td>\n",
       "      <td>USA</td>\n",
       "      <td>Conservative. Politics. Pro-Life. Writer.  #Go...</td>\n",
       "      <td>NaN</td>\n",
       "      <td>1541</td>\n",
       "      <td>1676</td>\n",
       "      <td>2014-06-13</td>\n",
       "      <td>en</td>\n",
       "    </tr>\n",
       "    <tr>\n",
       "      <th>1</th>\n",
       "      <td>799bb58d3c064d3884fdc4604c74068ff059b60c0b3464...</td>\n",
       "      <td>799bb58d3c064d3884fdc4604c74068ff059b60c0b3464...</td>\n",
       "      <td>799bb58d3c064d3884fdc4604c74068ff059b60c0b3464...</td>\n",
       "      <td>Раша</td>\n",
       "      <td>На воре и шапка горит</td>\n",
       "      <td>NaN</td>\n",
       "      <td>299</td>\n",
       "      <td>324</td>\n",
       "      <td>2013-12-22</td>\n",
       "      <td>en</td>\n",
       "    </tr>\n",
       "    <tr>\n",
       "      <th>2</th>\n",
       "      <td>0d33d19fbadccaad0033a0a0d6ec7f9919e21da60ea958...</td>\n",
       "      <td>0d33d19fbadccaad0033a0a0d6ec7f9919e21da60ea958...</td>\n",
       "      <td>0d33d19fbadccaad0033a0a0d6ec7f9919e21da60ea958...</td>\n",
       "      <td>Чеченская республика, Россия</td>\n",
       "      <td>Я никогда не хотел стать президентом. У меня в...</td>\n",
       "      <td>NaN</td>\n",
       "      <td>4094</td>\n",
       "      <td>0</td>\n",
       "      <td>2016-11-25</td>\n",
       "      <td>ru</td>\n",
       "    </tr>\n",
       "    <tr>\n",
       "      <th>3</th>\n",
       "      <td>efbe6ab452cf84134d5e7764cc1ce176067c8224fd8868...</td>\n",
       "      <td>efbe6ab452cf84134d5e7764cc1ce176067c8224fd8868...</td>\n",
       "      <td>efbe6ab452cf84134d5e7764cc1ce176067c8224fd8868...</td>\n",
       "      <td>US</td>\n",
       "      <td>❥ ❣ my sweethearts))</td>\n",
       "      <td>NaN</td>\n",
       "      <td>140</td>\n",
       "      <td>191</td>\n",
       "      <td>2013-08-11</td>\n",
       "      <td>en</td>\n",
       "    </tr>\n",
       "    <tr>\n",
       "      <th>4</th>\n",
       "      <td>d1e5ee3856d4af872b7bb31638fb86fa0a8ee3287d8ca8...</td>\n",
       "      <td>d1e5ee3856d4af872b7bb31638fb86fa0a8ee3287d8ca8...</td>\n",
       "      <td>d1e5ee3856d4af872b7bb31638fb86fa0a8ee3287d8ca8...</td>\n",
       "      <td>NaN</td>\n",
       "      <td>NaN</td>\n",
       "      <td>NaN</td>\n",
       "      <td>119</td>\n",
       "      <td>1152</td>\n",
       "      <td>2016-07-06</td>\n",
       "      <td>de</td>\n",
       "    </tr>\n",
       "  </tbody>\n",
       "</table>\n",
       "</div>"
      ],
      "text/plain": [
       "                                              userid  \\\n",
       "0  94c383089f0dd9993020276bd01113ecb5935ad860bfa6...   \n",
       "1  799bb58d3c064d3884fdc4604c74068ff059b60c0b3464...   \n",
       "2  0d33d19fbadccaad0033a0a0d6ec7f9919e21da60ea958...   \n",
       "3  efbe6ab452cf84134d5e7764cc1ce176067c8224fd8868...   \n",
       "4  d1e5ee3856d4af872b7bb31638fb86fa0a8ee3287d8ca8...   \n",
       "\n",
       "                                   user_display_name  \\\n",
       "0  94c383089f0dd9993020276bd01113ecb5935ad860bfa6...   \n",
       "1  799bb58d3c064d3884fdc4604c74068ff059b60c0b3464...   \n",
       "2  0d33d19fbadccaad0033a0a0d6ec7f9919e21da60ea958...   \n",
       "3  efbe6ab452cf84134d5e7764cc1ce176067c8224fd8868...   \n",
       "4  d1e5ee3856d4af872b7bb31638fb86fa0a8ee3287d8ca8...   \n",
       "\n",
       "                                    user_screen_name  \\\n",
       "0  94c383089f0dd9993020276bd01113ecb5935ad860bfa6...   \n",
       "1  799bb58d3c064d3884fdc4604c74068ff059b60c0b3464...   \n",
       "2  0d33d19fbadccaad0033a0a0d6ec7f9919e21da60ea958...   \n",
       "3  efbe6ab452cf84134d5e7764cc1ce176067c8224fd8868...   \n",
       "4  d1e5ee3856d4af872b7bb31638fb86fa0a8ee3287d8ca8...   \n",
       "\n",
       "         user_reported_location  \\\n",
       "0                           USA   \n",
       "1                          Раша   \n",
       "2  Чеченская республика, Россия   \n",
       "3                            US   \n",
       "4                           NaN   \n",
       "\n",
       "                            user_profile_description user_profile_url  \\\n",
       "0  Conservative. Politics. Pro-Life. Writer.  #Go...              NaN   \n",
       "1                              На воре и шапка горит              NaN   \n",
       "2  Я никогда не хотел стать президентом. У меня в...              NaN   \n",
       "3                               ❥ ❣ my sweethearts))              NaN   \n",
       "4                                                NaN              NaN   \n",
       "\n",
       "   follower_count  following_count account_creation_date account_language  \n",
       "0            1541             1676            2014-06-13               en  \n",
       "1             299              324            2013-12-22               en  \n",
       "2            4094                0            2016-11-25               ru  \n",
       "3             140              191            2013-08-11               en  \n",
       "4             119             1152            2016-07-06               de  "
      ]
     },
     "execution_count": 4,
     "metadata": {},
     "output_type": "execute_result"
    }
   ],
   "source": [
    "user_data = pd.read_csv('data/ira_users_csv_hashed.csv')\n",
    "user_data.head()"
   ]
  },
  {
   "cell_type": "code",
   "execution_count": 9,
   "metadata": {},
   "outputs": [
    {
     "data": {
      "text/plain": [
       "Index(['userid', 'user_display_name', 'user_screen_name',\n",
       "       'user_reported_location', 'user_profile_description',\n",
       "       'user_profile_url', 'follower_count', 'following_count',\n",
       "       'account_creation_date', 'account_language'],\n",
       "      dtype='object')"
      ]
     },
     "execution_count": 9,
     "metadata": {},
     "output_type": "execute_result"
    }
   ],
   "source": [
    "user_data.columns"
   ]
  },
  {
   "cell_type": "code",
   "execution_count": 10,
   "metadata": {},
   "outputs": [
    {
     "data": {
      "text/html": [
       "<div>\n",
       "<style scoped>\n",
       "    .dataframe tbody tr th:only-of-type {\n",
       "        vertical-align: middle;\n",
       "    }\n",
       "\n",
       "    .dataframe tbody tr th {\n",
       "        vertical-align: top;\n",
       "    }\n",
       "\n",
       "    .dataframe thead th {\n",
       "        text-align: right;\n",
       "    }\n",
       "</style>\n",
       "<table border=\"1\" class=\"dataframe\">\n",
       "  <thead>\n",
       "    <tr style=\"text-align: right;\">\n",
       "      <th></th>\n",
       "      <th>follower_count</th>\n",
       "      <th>following_count</th>\n",
       "    </tr>\n",
       "  </thead>\n",
       "  <tbody>\n",
       "    <tr>\n",
       "      <th>count</th>\n",
       "      <td>3836.000000</td>\n",
       "      <td>3836.000000</td>\n",
       "    </tr>\n",
       "    <tr>\n",
       "      <th>mean</th>\n",
       "      <td>1664.950209</td>\n",
       "      <td>826.092023</td>\n",
       "    </tr>\n",
       "    <tr>\n",
       "      <th>std</th>\n",
       "      <td>8860.043408</td>\n",
       "      <td>2726.252326</td>\n",
       "    </tr>\n",
       "    <tr>\n",
       "      <th>min</th>\n",
       "      <td>0.000000</td>\n",
       "      <td>0.000000</td>\n",
       "    </tr>\n",
       "    <tr>\n",
       "      <th>25%</th>\n",
       "      <td>58.000000</td>\n",
       "      <td>104.000000</td>\n",
       "    </tr>\n",
       "    <tr>\n",
       "      <th>50%</th>\n",
       "      <td>126.000000</td>\n",
       "      <td>239.000000</td>\n",
       "    </tr>\n",
       "    <tr>\n",
       "      <th>75%</th>\n",
       "      <td>461.250000</td>\n",
       "      <td>542.000000</td>\n",
       "    </tr>\n",
       "    <tr>\n",
       "      <th>max</th>\n",
       "      <td>257638.000000</td>\n",
       "      <td>74664.000000</td>\n",
       "    </tr>\n",
       "  </tbody>\n",
       "</table>\n",
       "</div>"
      ],
      "text/plain": [
       "       follower_count  following_count\n",
       "count     3836.000000      3836.000000\n",
       "mean      1664.950209       826.092023\n",
       "std       8860.043408      2726.252326\n",
       "min          0.000000         0.000000\n",
       "25%         58.000000       104.000000\n",
       "50%        126.000000       239.000000\n",
       "75%        461.250000       542.000000\n",
       "max     257638.000000     74664.000000"
      ]
     },
     "execution_count": 10,
     "metadata": {},
     "output_type": "execute_result"
    }
   ],
   "source": [
    "user_data.describe()"
   ]
  },
  {
   "cell_type": "code",
   "execution_count": 11,
   "metadata": {},
   "outputs": [],
   "source": [
    "# %matplotlib inline\n",
    "\n",
    "def get_cdf_pdf(data, mini, maxi, step, norm=True):\n",
    "    x = [float(i) for i in np.arange(mini, maxi, step)]\n",
    "    cdf = [0] * len(x)\n",
    "    pdf = [0] * len(x)\n",
    "    count = 0\n",
    "    for d in data:\n",
    "        d = float(d)\n",
    "        if d < mini or d > maxi:\n",
    "            continue\n",
    "        count += 1\n",
    "        for i in range(len(x)):\n",
    "            if i == (len(x) - 1) and d >= x[i]:\n",
    "                pdf[i] += 1\n",
    "            elif d >= x[i] and d < x[i+1]:\n",
    "                pdf[i] += 1\n",
    "\n",
    "            if d >= x[i]:\n",
    "                cdf[i] += 1\n",
    "\n",
    "    if norm:\n",
    "        cdf = [c / count for c in cdf]\n",
    "        pdf = [p / count for p in pdf]\n",
    "\n",
    "    return x, cdf, pdf"
   ]
  },
  {
   "cell_type": "code",
   "execution_count": 26,
   "metadata": {},
   "outputs": [
    {
     "data": {
      "image/png": "[encoded data removed]",
      "text/plain": [
       "<Figure size 576x432 with 1 Axes>"
      ]
     },
     "metadata": {
      "needs_background": "light"
     },
     "output_type": "display_data"
    }
   ],
   "source": [
    "# user_data\n",
    "plt.figure(figsize=(8, 6))\n",
    "x, cdf, pdf = get_cdf_pdf(user_data['follower_count'], 0, 200000, 100)\n",
    "plt.xscale('log'); plt.yscale('log')\n",
    "plt.plot(x, cdf, label='$follower\\ count$')\n",
    "\n",
    "pd.DataFrame({'x': x, 'cdf': cdf}).to_csv('dist_follower_count.csv')\n",
    "\n",
    "\n",
    "x, cdf, pdf = get_cdf_pdf(user_data['following_count'], 0, 100000, 100)\n",
    "plt.ylabel('$CCDF$', fontsize=15)\n",
    "pd.DataFrame({'x': x, 'cdf': cdf}).to_csv('dist_following_count.csv')\n",
    "\n",
    "\n",
    "plt.xticks(fontsize=14); plt.yticks(fontsize=14)\n",
    "plt.xscale('log'); plt.yscale('log')\n",
    "\n",
    "plt.plot(x, cdf, label='$following\\ count$')\n",
    "plt.legend(fontsize=13)\n",
    "plt.savefig('fig/fol.pdf', dpi=300)\n",
    "plt.show()\n",
    "\n"
   ]
  },
  {
   "cell_type": "code",
   "execution_count": 23,
   "metadata": {},
   "outputs": [
    {
     "data": {
      "text/plain": [
       "userid                                                             2527472164\n",
       "user_display_name                                              Вестник Москвы\n",
       "user_screen_name                                                   NovostiMsk\n",
       "user_reported_location                                                 Москва\n",
       "user_profile_description    Невозможно не любить этот город! Телефон редак...\n",
       "user_profile_url                                      https://t.co/sIJZDK1hTI\n",
       "follower_count                                                         257638\n",
       "following_count                                                           544\n",
       "account_creation_date                                     2014-05-04 00:00:00\n",
       "account_language                                                           en\n",
       "Name: 1014, dtype: object"
      ]
     },
     "execution_count": 23,
     "metadata": {},
     "output_type": "execute_result"
    }
   ],
   "source": [
    "user_data.iloc[user_data['follower_count'].idxmax(), :]"
   ]
  },
  {
   "cell_type": "code",
   "execution_count": 24,
   "metadata": {},
   "outputs": [
    {
     "data": {
      "text/plain": [
       "userid                                                             4224729994\n",
       "user_display_name                                                   Tennessee\n",
       "user_screen_name                                                      TEN_GOP\n",
       "user_reported_location                                                    NaN\n",
       "user_profile_description    Unofficial Twitter of Tennessee Republicans. C...\n",
       "user_profile_url                                                          NaN\n",
       "follower_count                                                         147767\n",
       "following_count                                                         74664\n",
       "account_creation_date                                     2015-11-19 00:00:00\n",
       "account_language                                                           en\n",
       "Name: 2642, dtype: object"
      ]
     },
     "execution_count": 24,
     "metadata": {},
     "output_type": "execute_result"
    }
   ],
   "source": [
    "user_data.iloc[user_data['following_count'].idxmax(), :]"
   ]
  },
  {
   "cell_type": "code",
   "execution_count": 15,
   "metadata": {
    "scrolled": false
   },
   "outputs": [],
   "source": [
    "# user_data.groupby('account_creation_date').count()\n",
    "user_data['account_creation_date'] = pd.to_datetime(user_data['account_creation_date'])\n",
    "A = user_data.set_index('account_creation_date')\n",
    "B = A.to_period('M').groupby('account_creation_date').count()\n",
    "# creation_dates = pd.to_datetime(user_data[\"account_creation_date\"])\n",
    "# pd.date_range(2010)\n",
    "# sum(B['userid'])"
   ]
  },
  {
   "cell_type": "code",
   "execution_count": 16,
   "metadata": {},
   "outputs": [
    {
     "data": {
      "image/png": "[encoded data removed]",
      "text/plain": [
       "<Figure size 720x432 with 1 Axes>"
      ]
     },
     "metadata": {
      "needs_background": "light"
     },
     "output_type": "display_data"
    }
   ],
   "source": [
    "plt.figure(figsize=(10, 6))\n",
    "# plt.plot_date(B.index, B['userid'])\n",
    "B['userid'].plot()\n",
    "plt.xlabel('$Date$', fontsize=15); plt.ylabel('$N\\ of\\ IRA\\ account\\ creation$', fontsize=15)\n",
    "plt.xticks(fontsize=14); plt.yticks(fontsize=14)\n",
    "plt.savefig('fig/account_creation.pdf', dpi=300)\n",
    "plt.show()\n",
    "\n",
    "B.to_csv('account_creation.csv')"
   ]
  },
  {
   "cell_type": "code",
   "execution_count": 22,
   "metadata": {},
   "outputs": [
    {
     "name": "stdout",
     "output_type": "stream",
     "text": [
      "CPU times: user 1min 13s, sys: 5.09 s, total: 1min 18s\n",
      "Wall time: 1min 18s\n"
     ]
    },
    {
     "data": {
      "text/html": [
       "<div>\n",
       "<style scoped>\n",
       "    .dataframe tbody tr th:only-of-type {\n",
       "        vertical-align: middle;\n",
       "    }\n",
       "\n",
       "    .dataframe tbody tr th {\n",
       "        vertical-align: top;\n",
       "    }\n",
       "\n",
       "    .dataframe thead th {\n",
       "        text-align: right;\n",
       "    }\n",
       "</style>\n",
       "<table border=\"1\" class=\"dataframe\">\n",
       "  <thead>\n",
       "    <tr style=\"text-align: right;\">\n",
       "      <th></th>\n",
       "      <th>tweetid</th>\n",
       "      <th>userid</th>\n",
       "      <th>user_display_name</th>\n",
       "      <th>user_screen_name</th>\n",
       "      <th>user_reported_location</th>\n",
       "      <th>user_profile_description</th>\n",
       "      <th>user_profile_url</th>\n",
       "      <th>follower_count</th>\n",
       "      <th>following_count</th>\n",
       "      <th>account_creation_date</th>\n",
       "      <th>...</th>\n",
       "      <th>latitude</th>\n",
       "      <th>longitude</th>\n",
       "      <th>quote_count</th>\n",
       "      <th>reply_count</th>\n",
       "      <th>like_count</th>\n",
       "      <th>retweet_count</th>\n",
       "      <th>hashtags</th>\n",
       "      <th>urls</th>\n",
       "      <th>user_mentions</th>\n",
       "      <th>poll_choices</th>\n",
       "    </tr>\n",
       "  </thead>\n",
       "  <tbody>\n",
       "    <tr>\n",
       "      <th>0</th>\n",
       "      <td>877919995476496385</td>\n",
       "      <td>249064136b1c5cb00a705316ab73dd9b53785748ab757f...</td>\n",
       "      <td>249064136b1c5cb00a705316ab73dd9b53785748ab757f...</td>\n",
       "      <td>249064136b1c5cb00a705316ab73dd9b53785748ab757f...</td>\n",
       "      <td>Москва, Россия</td>\n",
       "      <td>Я примерный семьянин!</td>\n",
       "      <td>NaN</td>\n",
       "      <td>132</td>\n",
       "      <td>120</td>\n",
       "      <td>2013-12-07</td>\n",
       "      <td>...</td>\n",
       "      <td>NaN</td>\n",
       "      <td>NaN</td>\n",
       "      <td>0.0</td>\n",
       "      <td>0.0</td>\n",
       "      <td>0.0</td>\n",
       "      <td>0.0</td>\n",
       "      <td>[]</td>\n",
       "      <td>[http://ru-open.livejournal.com/374284.html]</td>\n",
       "      <td>[2572896396]</td>\n",
       "      <td>NaN</td>\n",
       "    </tr>\n",
       "    <tr>\n",
       "      <th>1</th>\n",
       "      <td>492388766930444288</td>\n",
       "      <td>0974d5dbee4ca9bd6c3b46d62a5cbdbd5c0d86e196b624...</td>\n",
       "      <td>0974d5dbee4ca9bd6c3b46d62a5cbdbd5c0d86e196b624...</td>\n",
       "      <td>0974d5dbee4ca9bd6c3b46d62a5cbdbd5c0d86e196b624...</td>\n",
       "      <td>Россия</td>\n",
       "      <td>Телефонист .Изучение истории   Игра в любитель...</td>\n",
       "      <td>NaN</td>\n",
       "      <td>74</td>\n",
       "      <td>8</td>\n",
       "      <td>2014-03-15</td>\n",
       "      <td>...</td>\n",
       "      <td>NaN</td>\n",
       "      <td>NaN</td>\n",
       "      <td>0.0</td>\n",
       "      <td>0.0</td>\n",
       "      <td>0.0</td>\n",
       "      <td>0.0</td>\n",
       "      <td>NaN</td>\n",
       "      <td>[http://pyypilg33.livejournal.com/11069.html]</td>\n",
       "      <td>NaN</td>\n",
       "      <td>NaN</td>\n",
       "    </tr>\n",
       "    <tr>\n",
       "      <th>2</th>\n",
       "      <td>719455077589721089</td>\n",
       "      <td>bda40f262856eee77c48a332e5eb23bc4f1943d600867d...</td>\n",
       "      <td>bda40f262856eee77c48a332e5eb23bc4f1943d600867d...</td>\n",
       "      <td>bda40f262856eee77c48a332e5eb23bc4f1943d600867d...</td>\n",
       "      <td>Рязань</td>\n",
       "      <td>волны так и плещут фиолетовой волной</td>\n",
       "      <td>NaN</td>\n",
       "      <td>165</td>\n",
       "      <td>454</td>\n",
       "      <td>2014-04-29</td>\n",
       "      <td>...</td>\n",
       "      <td>NaN</td>\n",
       "      <td>NaN</td>\n",
       "      <td>0.0</td>\n",
       "      <td>0.0</td>\n",
       "      <td>0.0</td>\n",
       "      <td>0.0</td>\n",
       "      <td>[]</td>\n",
       "      <td>[https://www.youtube.com/watch?v=9GvpImWxTJc]</td>\n",
       "      <td>[40807205]</td>\n",
       "      <td>NaN</td>\n",
       "    </tr>\n",
       "    <tr>\n",
       "      <th>3</th>\n",
       "      <td>536179342423105537</td>\n",
       "      <td>bda40f262856eee77c48a332e5eb23bc4f1943d600867d...</td>\n",
       "      <td>bda40f262856eee77c48a332e5eb23bc4f1943d600867d...</td>\n",
       "      <td>bda40f262856eee77c48a332e5eb23bc4f1943d600867d...</td>\n",
       "      <td>Рязань</td>\n",
       "      <td>волны так и плещут фиолетовой волной</td>\n",
       "      <td>NaN</td>\n",
       "      <td>165</td>\n",
       "      <td>454</td>\n",
       "      <td>2014-04-29</td>\n",
       "      <td>...</td>\n",
       "      <td>NaN</td>\n",
       "      <td>NaN</td>\n",
       "      <td>0.0</td>\n",
       "      <td>0.0</td>\n",
       "      <td>0.0</td>\n",
       "      <td>0.0</td>\n",
       "      <td>[STOPNazi]</td>\n",
       "      <td>NaN</td>\n",
       "      <td>NaN</td>\n",
       "      <td>NaN</td>\n",
       "    </tr>\n",
       "    <tr>\n",
       "      <th>4</th>\n",
       "      <td>841410788409630720</td>\n",
       "      <td>a53ed619f1dea6015c7c878bf744b0eefe8f7272dccf34...</td>\n",
       "      <td>a53ed619f1dea6015c7c878bf744b0eefe8f7272dccf34...</td>\n",
       "      <td>a53ed619f1dea6015c7c878bf744b0eefe8f7272dccf34...</td>\n",
       "      <td>NaN</td>\n",
       "      <td>Отвечаю на любой #ВопросПрезиденту</td>\n",
       "      <td>http://t.co/3CVqbMQFbf</td>\n",
       "      <td>4430</td>\n",
       "      <td>4413</td>\n",
       "      <td>2012-02-25</td>\n",
       "      <td>...</td>\n",
       "      <td>NaN</td>\n",
       "      <td>NaN</td>\n",
       "      <td>0.0</td>\n",
       "      <td>0.0</td>\n",
       "      <td>3.0</td>\n",
       "      <td>4.0</td>\n",
       "      <td>[]</td>\n",
       "      <td>[https://goo.gl/fBp94X]</td>\n",
       "      <td>NaN</td>\n",
       "      <td>NaN</td>\n",
       "    </tr>\n",
       "  </tbody>\n",
       "</table>\n",
       "<p>5 rows × 31 columns</p>\n",
       "</div>"
      ],
      "text/plain": [
       "              tweetid                                             userid  \\\n",
       "0  877919995476496385  249064136b1c5cb00a705316ab73dd9b53785748ab757f...   \n",
       "1  492388766930444288  0974d5dbee4ca9bd6c3b46d62a5cbdbd5c0d86e196b624...   \n",
       "2  719455077589721089  bda40f262856eee77c48a332e5eb23bc4f1943d600867d...   \n",
       "3  536179342423105537  bda40f262856eee77c48a332e5eb23bc4f1943d600867d...   \n",
       "4  841410788409630720  a53ed619f1dea6015c7c878bf744b0eefe8f7272dccf34...   \n",
       "\n",
       "                                   user_display_name  \\\n",
       "0  249064136b1c5cb00a705316ab73dd9b53785748ab757f...   \n",
       "1  0974d5dbee4ca9bd6c3b46d62a5cbdbd5c0d86e196b624...   \n",
       "2  bda40f262856eee77c48a332e5eb23bc4f1943d600867d...   \n",
       "3  bda40f262856eee77c48a332e5eb23bc4f1943d600867d...   \n",
       "4  a53ed619f1dea6015c7c878bf744b0eefe8f7272dccf34...   \n",
       "\n",
       "                                    user_screen_name user_reported_location  \\\n",
       "0  249064136b1c5cb00a705316ab73dd9b53785748ab757f...         Москва, Россия   \n",
       "1  0974d5dbee4ca9bd6c3b46d62a5cbdbd5c0d86e196b624...                 Россия   \n",
       "2  bda40f262856eee77c48a332e5eb23bc4f1943d600867d...                 Рязань   \n",
       "3  bda40f262856eee77c48a332e5eb23bc4f1943d600867d...                 Рязань   \n",
       "4  a53ed619f1dea6015c7c878bf744b0eefe8f7272dccf34...                    NaN   \n",
       "\n",
       "                            user_profile_description        user_profile_url  \\\n",
       "0                              Я примерный семьянин!                     NaN   \n",
       "1  Телефонист .Изучение истории   Игра в любитель...                     NaN   \n",
       "2               волны так и плещут фиолетовой волной                     NaN   \n",
       "3               волны так и плещут фиолетовой волной                     NaN   \n",
       "4                 Отвечаю на любой #ВопросПрезиденту  http://t.co/3CVqbMQFbf   \n",
       "\n",
       "   follower_count  following_count account_creation_date     ...       \\\n",
       "0             132              120            2013-12-07     ...        \n",
       "1              74                8            2014-03-15     ...        \n",
       "2             165              454            2014-04-29     ...        \n",
       "3             165              454            2014-04-29     ...        \n",
       "4            4430             4413            2012-02-25     ...        \n",
       "\n",
       "  latitude longitude quote_count reply_count like_count  retweet_count  \\\n",
       "0      NaN       NaN         0.0         0.0        0.0            0.0   \n",
       "1      NaN       NaN         0.0         0.0        0.0            0.0   \n",
       "2      NaN       NaN         0.0         0.0        0.0            0.0   \n",
       "3      NaN       NaN         0.0         0.0        0.0            0.0   \n",
       "4      NaN       NaN         0.0         0.0        3.0            4.0   \n",
       "\n",
       "     hashtags                                           urls  user_mentions  \\\n",
       "0          []   [http://ru-open.livejournal.com/374284.html]   [2572896396]   \n",
       "1         NaN  [http://pyypilg33.livejournal.com/11069.html]            NaN   \n",
       "2          []  [https://www.youtube.com/watch?v=9GvpImWxTJc]     [40807205]   \n",
       "3  [STOPNazi]                                            NaN            NaN   \n",
       "4          []                        [https://goo.gl/fBp94X]            NaN   \n",
       "\n",
       "  poll_choices  \n",
       "0          NaN  \n",
       "1          NaN  \n",
       "2          NaN  \n",
       "3          NaN  \n",
       "4          NaN  \n",
       "\n",
       "[5 rows x 31 columns]"
      ]
     },
     "execution_count": 22,
     "metadata": {},
     "output_type": "execute_result"
    }
   ],
   "source": [
    "# load tweets\n",
    "\n",
    "%time tweets = pd.read_csv('data/ira_tweets_csv_hashed.csv', low_memory=False)\n",
    "tweets.head()"
   ]
  },
  {
   "cell_type": "code",
   "execution_count": 26,
   "metadata": {},
   "outputs": [
    {
     "data": {
      "text/plain": [
       "Index(['tweetid', 'userid', 'user_display_name', 'user_screen_name',\n",
       "       'user_reported_location', 'user_profile_description',\n",
       "       'user_profile_url', 'follower_count', 'following_count',\n",
       "       'account_creation_date', 'account_language', 'tweet_language',\n",
       "       'tweet_text', 'tweet_time', 'tweet_client_name', 'in_reply_to_tweetid',\n",
       "       'in_reply_to_userid', 'quoted_tweet_tweetid', 'is_retweet',\n",
       "       'retweet_userid', 'retweet_tweetid', 'latitude', 'longitude',\n",
       "       'quote_count', 'reply_count', 'like_count', 'retweet_count', 'hashtags',\n",
       "       'urls', 'user_mentions', 'poll_choices'],\n",
       "      dtype='object')"
      ]
     },
     "execution_count": 26,
     "metadata": {},
     "output_type": "execute_result"
    }
   ],
   "source": [
    "tweets.columns"
   ]
  },
  {
   "cell_type": "code",
   "execution_count": 3,
   "metadata": {},
   "outputs": [
    {
     "data": {
      "text/html": [
       "<div>\n",
       "<style scoped>\n",
       "    .dataframe tbody tr th:only-of-type {\n",
       "        vertical-align: middle;\n",
       "    }\n",
       "\n",
       "    .dataframe tbody tr th {\n",
       "        vertical-align: top;\n",
       "    }\n",
       "\n",
       "    .dataframe thead th {\n",
       "        text-align: right;\n",
       "    }\n",
       "</style>\n",
       "<table border=\"1\" class=\"dataframe\">\n",
       "  <thead>\n",
       "    <tr style=\"text-align: right;\">\n",
       "      <th></th>\n",
       "      <th>tweetid</th>\n",
       "      <th>follower_count</th>\n",
       "      <th>following_count</th>\n",
       "      <th>in_reply_to_tweetid</th>\n",
       "      <th>quoted_tweet_tweetid</th>\n",
       "      <th>retweet_tweetid</th>\n",
       "      <th>latitude</th>\n",
       "      <th>longitude</th>\n",
       "      <th>quote_count</th>\n",
       "      <th>reply_count</th>\n",
       "      <th>like_count</th>\n",
       "      <th>retweet_count</th>\n",
       "    </tr>\n",
       "  </thead>\n",
       "  <tbody>\n",
       "    <tr>\n",
       "      <th>count</th>\n",
       "      <td>9.041308e+06</td>\n",
       "      <td>9.041308e+06</td>\n",
       "      <td>9.041308e+06</td>\n",
       "      <td>2.662080e+05</td>\n",
       "      <td>1.879130e+05</td>\n",
       "      <td>3.333184e+06</td>\n",
       "      <td>4779.000000</td>\n",
       "      <td>4779.000000</td>\n",
       "      <td>9.038635e+06</td>\n",
       "      <td>9.038635e+06</td>\n",
       "      <td>9.038635e+06</td>\n",
       "      <td>9.038635e+06</td>\n",
       "    </tr>\n",
       "    <tr>\n",
       "      <th>mean</th>\n",
       "      <td>6.403835e+17</td>\n",
       "      <td>8.670202e+03</td>\n",
       "      <td>2.522468e+03</td>\n",
       "      <td>6.111953e+17</td>\n",
       "      <td>7.965433e+17</td>\n",
       "      <td>6.711430e+17</td>\n",
       "      <td>53.958520</td>\n",
       "      <td>61.841277</td>\n",
       "      <td>1.981891e-01</td>\n",
       "      <td>2.810441e-01</td>\n",
       "      <td>4.002723e+00</td>\n",
       "      <td>3.457440e+00</td>\n",
       "    </tr>\n",
       "    <tr>\n",
       "      <th>std</th>\n",
       "      <td>1.550236e+17</td>\n",
       "      <td>2.214639e+04</td>\n",
       "      <td>5.028831e+03</td>\n",
       "      <td>1.334171e+17</td>\n",
       "      <td>8.698341e+16</td>\n",
       "      <td>1.232434e+17</td>\n",
       "      <td>12.332756</td>\n",
       "      <td>22.985006</td>\n",
       "      <td>1.307364e+01</td>\n",
       "      <td>7.408997e+00</td>\n",
       "      <td>2.903125e+02</td>\n",
       "      <td>1.403270e+02</td>\n",
       "    </tr>\n",
       "    <tr>\n",
       "      <th>min</th>\n",
       "      <td>1.747086e+09</td>\n",
       "      <td>0.000000e+00</td>\n",
       "      <td>0.000000e+00</td>\n",
       "      <td>0.000000e+00</td>\n",
       "      <td>1.834783e+09</td>\n",
       "      <td>1.000000e+02</td>\n",
       "      <td>-43.323251</td>\n",
       "      <td>-115.148349</td>\n",
       "      <td>0.000000e+00</td>\n",
       "      <td>0.000000e+00</td>\n",
       "      <td>0.000000e+00</td>\n",
       "      <td>0.000000e+00</td>\n",
       "    </tr>\n",
       "    <tr>\n",
       "      <th>25%</th>\n",
       "      <td>5.267902e+17</td>\n",
       "      <td>3.460000e+02</td>\n",
       "      <td>2.840000e+02</td>\n",
       "      <td>5.730938e+17</td>\n",
       "      <td>7.742985e+17</td>\n",
       "      <td>5.710871e+17</td>\n",
       "      <td>55.038939</td>\n",
       "      <td>37.660071</td>\n",
       "      <td>0.000000e+00</td>\n",
       "      <td>0.000000e+00</td>\n",
       "      <td>0.000000e+00</td>\n",
       "      <td>0.000000e+00</td>\n",
       "    </tr>\n",
       "    <tr>\n",
       "      <th>50%</th>\n",
       "      <td>6.221623e+17</td>\n",
       "      <td>8.420000e+02</td>\n",
       "      <td>6.180000e+02</td>\n",
       "      <td>6.325940e+17</td>\n",
       "      <td>8.102428e+17</td>\n",
       "      <td>6.531061e+17</td>\n",
       "      <td>55.039231</td>\n",
       "      <td>73.275546</td>\n",
       "      <td>0.000000e+00</td>\n",
       "      <td>0.000000e+00</td>\n",
       "      <td>0.000000e+00</td>\n",
       "      <td>0.000000e+00</td>\n",
       "    </tr>\n",
       "    <tr>\n",
       "      <th>75%</th>\n",
       "      <td>7.800047e+17</td>\n",
       "      <td>4.486000e+03</td>\n",
       "      <td>2.014000e+03</td>\n",
       "      <td>6.568322e+17</td>\n",
       "      <td>8.500103e+17</td>\n",
       "      <td>7.946743e+17</td>\n",
       "      <td>56.367504</td>\n",
       "      <td>73.279744</td>\n",
       "      <td>0.000000e+00</td>\n",
       "      <td>0.000000e+00</td>\n",
       "      <td>0.000000e+00</td>\n",
       "      <td>0.000000e+00</td>\n",
       "    </tr>\n",
       "    <tr>\n",
       "      <th>max</th>\n",
       "      <td>1.009806e+18</td>\n",
       "      <td>2.576380e+05</td>\n",
       "      <td>7.466400e+04</td>\n",
       "      <td>1.001021e+18</td>\n",
       "      <td>9.989833e+17</td>\n",
       "      <td>1.001554e+18</td>\n",
       "      <td>61.879338</td>\n",
       "      <td>171.602940</td>\n",
       "      <td>1.163300e+04</td>\n",
       "      <td>3.249000e+03</td>\n",
       "      <td>3.258260e+05</td>\n",
       "      <td>1.236170e+05</td>\n",
       "    </tr>\n",
       "  </tbody>\n",
       "</table>\n",
       "</div>"
      ],
      "text/plain": [
       "            tweetid  follower_count  following_count  in_reply_to_tweetid  \\\n",
       "count  9.041308e+06    9.041308e+06     9.041308e+06         2.662080e+05   \n",
       "mean   6.403835e+17    8.670202e+03     2.522468e+03         6.111953e+17   \n",
       "std    1.550236e+17    2.214639e+04     5.028831e+03         1.334171e+17   \n",
       "min    1.747086e+09    0.000000e+00     0.000000e+00         0.000000e+00   \n",
       "25%    5.267902e+17    3.460000e+02     2.840000e+02         5.730938e+17   \n",
       "50%    6.221623e+17    8.420000e+02     6.180000e+02         6.325940e+17   \n",
       "75%    7.800047e+17    4.486000e+03     2.014000e+03         6.568322e+17   \n",
       "max    1.009806e+18    2.576380e+05     7.466400e+04         1.001021e+18   \n",
       "\n",
       "       quoted_tweet_tweetid  retweet_tweetid     latitude    longitude  \\\n",
       "count          1.879130e+05     3.333184e+06  4779.000000  4779.000000   \n",
       "mean           7.965433e+17     6.711430e+17    53.958520    61.841277   \n",
       "std            8.698341e+16     1.232434e+17    12.332756    22.985006   \n",
       "min            1.834783e+09     1.000000e+02   -43.323251  -115.148349   \n",
       "25%            7.742985e+17     5.710871e+17    55.038939    37.660071   \n",
       "50%            8.102428e+17     6.531061e+17    55.039231    73.275546   \n",
       "75%            8.500103e+17     7.946743e+17    56.367504    73.279744   \n",
       "max            9.989833e+17     1.001554e+18    61.879338   171.602940   \n",
       "\n",
       "        quote_count   reply_count    like_count  retweet_count  \n",
       "count  9.038635e+06  9.038635e+06  9.038635e+06   9.038635e+06  \n",
       "mean   1.981891e-01  2.810441e-01  4.002723e+00   3.457440e+00  \n",
       "std    1.307364e+01  7.408997e+00  2.903125e+02   1.403270e+02  \n",
       "min    0.000000e+00  0.000000e+00  0.000000e+00   0.000000e+00  \n",
       "25%    0.000000e+00  0.000000e+00  0.000000e+00   0.000000e+00  \n",
       "50%    0.000000e+00  0.000000e+00  0.000000e+00   0.000000e+00  \n",
       "75%    0.000000e+00  0.000000e+00  0.000000e+00   0.000000e+00  \n",
       "max    1.163300e+04  3.249000e+03  3.258260e+05   1.236170e+05  "
      ]
     },
     "execution_count": 3,
     "metadata": {},
     "output_type": "execute_result"
    }
   ],
   "source": [
    "tweets.describe()"
   ]
  },
  {
   "cell_type": "code",
   "execution_count": 15,
   "metadata": {},
   "outputs": [],
   "source": [
    "# user_data['account_creation_date'] = pd.to_datetime(user_data['account_creation_date'])\n",
    "tweets['tweet_time'] = pd.to_datetime(tweets['tweet_time'])\n",
    "\n",
    "A = tweets.set_index('tweet_time')\n",
    "B = A.to_period('M').groupby('tweet_time').count()"
   ]
  },
  {
   "cell_type": "code",
   "execution_count": 19,
   "metadata": {
    "scrolled": false
   },
   "outputs": [
    {
     "data": {
      "image/png": "[encoded data removed]",
      "text/plain": [
       "<Figure size 720x432 with 1 Axes>"
      ]
     },
     "metadata": {
      "needs_background": "light"
     },
     "output_type": "display_data"
    }
   ],
   "source": [
    "plt.figure(figsize=(10, 6))\n",
    "# plt.plot_date(B.index, B['userid'])\n",
    "B['tweetid'].plot()\n",
    "plt.xlabel('$Date$', fontsize=15); plt.ylabel('$N\\ of\\ IRA\\ tweets$', fontsize=15)\n",
    "plt.xticks(fontsize=14); plt.yticks(fontsize=14)\n",
    "plt.savefig('fig/tweet_creation.pdf', dpi=300)\n",
    "plt.show()\n",
    "\n",
    "B['tweetid'].to_csv('tweet_creation.csv')"
   ]
  },
  {
   "cell_type": "code",
   "execution_count": 31,
   "metadata": {},
   "outputs": [
    {
     "name": "stdout",
     "output_type": "stream",
     "text": [
      "0 http://ru-open.livejournal.com/374284.html > ru-open.livejournal.com\n"
     ]
    }
   ],
   "source": [
    "from urllib.parse import urlparse\n",
    "import requests\n",
    "\n",
    "for i, row in tweets.iterrows():\n",
    "    if not isinstance(row['urls'], str):\n",
    "        tweets.drop(i)\n",
    "    elif row['urls'][1: -1] == '':\n",
    "        tweets.drop(i)\n",
    "    else:\n",
    "        url = row['urls'][1: -1]\n",
    "        res = requests.head(url)\n",
    "        hostname = urlparse(res.headers.get('location')).hostname\n",
    "        if hostname:\n",
    "            print(i, url, '>', hostname)\n",
    "        else:\n",
    "            tweets.drop(i)\n",
    "        break\n",
    "        \n",
    "#     print(row)\n",
    "#     if isinstance(urls, str):\n",
    "#         url = urls[1: -1]\n",
    "#         if url:\n",
    "# #             hostname = urllib.parse.urlparse(url).hostname\n",
    "#             res = requests.head(url)\n",
    "#             hostname = urlparse(res.headers.get('location')).hostname\n",
    "#             if hostname:\n",
    "#                 print(hostname, type(hostname))\n",
    "\n"
   ]
  },
  {
   "cell_type": "code",
   "execution_count": 47,
   "metadata": {
    "scrolled": false
   },
   "outputs": [],
   "source": [
    "# build retweet networks\n",
    "\n",
    "userid_map = json.load(open(\"data/userid_mapping.json\"))\n",
    "G = nx.DiGraph()\n",
    "G.add_nodes_from(userid_map.values())\n",
    "# G.number_of_nodes()\n",
    "\n",
    "for i, row in tweets.iterrows():\n",
    "    if row[\"is_retweet\"]:\n",
    "        if row['retweet_userid'] in userid_map:\n",
    "            ret_userid = userid_map[row['retweet_userid']]\n",
    "            userid = userid_map[row['userid']]\n",
    "            if ret_userid != userid:\n",
    "                G.add_edge(ret_userid, userid)\n",
    "\n",
    "# save the network\n",
    "nx.readwrite.adjlist.write_adjlist(G, 'retweet_net_in_IRA.dat')"
   ]
  },
  {
   "cell_type": "code",
   "execution_count": 21,
   "metadata": {},
   "outputs": [],
   "source": [
    "G = nx.readwrite.adjlist.read_adjlist('retweet_net_in_IRA.dat')"
   ]
  },
  {
   "cell_type": "code",
   "execution_count": 48,
   "metadata": {},
   "outputs": [
    {
     "data": {
      "text/plain": [
       "3836"
      ]
     },
     "execution_count": 48,
     "metadata": {},
     "output_type": "execute_result"
    }
   ],
   "source": [
    "G.number_of_nodes()"
   ]
  },
  {
   "cell_type": "code",
   "execution_count": 49,
   "metadata": {},
   "outputs": [
    {
     "data": {
      "text/plain": [
       "168074"
      ]
     },
     "execution_count": 49,
     "metadata": {},
     "output_type": "execute_result"
    }
   ],
   "source": [
    "G.number_of_edges()"
   ]
  },
  {
   "cell_type": "code",
   "execution_count": 66,
   "metadata": {
    "scrolled": false
   },
   "outputs": [
    {
     "data": {
      "image/png": "[encoded data removed]",
      "text/plain": [
       "<Figure size 720x432 with 1 Axes>"
      ]
     },
     "metadata": {},
     "output_type": "display_data"
    },
    {
     "name": "stdout",
     "output_type": "stream",
     "text": [
      "0 76\n",
      "1 236\n",
      "14 633\n",
      "21 656\n",
      "22 676\n",
      "104 682\n",
      "372 700\n",
      "836 702\n",
      "857 838\n",
      "986 944\n",
      "1020 1027\n",
      "2168 1084\n",
      "2274 1088\n",
      "3585 1092\n"
     ]
    },
    {
     "ename": "KeyError",
     "evalue": "3585",
     "output_type": "error",
     "traceback": [
      "\u001b[0;31m---------------------------------------------------------------------------\u001b[0m",
      "\u001b[0;31mKeyError\u001b[0m                                  Traceback (most recent call last)",
      "\u001b[0;32m<ipython-input-66-cc5b6365a3b9>\u001b[0m in \u001b[0;36m<module>\u001b[0;34m\u001b[0m\n\u001b[1;32m     18\u001b[0m \u001b[0;34m\u001b[0m\u001b[0m\n\u001b[1;32m     19\u001b[0m \u001b[0muserid_map\u001b[0m \u001b[0;34m=\u001b[0m \u001b[0mjson\u001b[0m\u001b[0;34m.\u001b[0m\u001b[0mload\u001b[0m\u001b[0;34m(\u001b[0m\u001b[0mopen\u001b[0m\u001b[0;34m(\u001b[0m\u001b[0;34m\"data/userid_mapping.json\"\u001b[0m\u001b[0;34m)\u001b[0m\u001b[0;34m)\u001b[0m\u001b[0;34m\u001b[0m\u001b[0m\n\u001b[0;32m---> 20\u001b[0;31m \u001b[0muserid_map\u001b[0m\u001b[0;34m[\u001b[0m\u001b[0mn\u001b[0m\u001b[0;34m]\u001b[0m\u001b[0;34m\u001b[0m\u001b[0m\n\u001b[0m",
      "\u001b[0;31mKeyError\u001b[0m: 3585"
     ]
    }
   ],
   "source": [
    "plt.figure(figsize=(10, 6))\n",
    "\n",
    "degree = nx.degree_histogram(G)\n",
    "x = range(len(degree))                             \n",
    "y = [z / float(sum(degree)) for z in degree]  \n",
    "plt.loglog(x, y, linewidth=2)\n",
    "plt.xlabel('$Degree$', fontsize=15); plt.ylabel('$Distribution$', fontsize=15)\n",
    "plt.xticks(fontsize=14); plt.yticks(fontsize=14)\n",
    "plt.savefig('fig/degree_distribution.pdf', dpi=300)\n",
    "plt.show()\n",
    "\n",
    "d = dict(G.degree())\n",
    "n, de = 0, 0\n",
    "for k, v in d.items():\n",
    "    if v > de:\n",
    "        print(k, v)\n",
    "        n, de = k, v\n",
    "        \n",
    "userid_map = json.load(open(\"data/userid_mapping.json\"))\n",
    "userid_map[n]"
   ]
  },
  {
   "cell_type": "code",
   "execution_count": 59,
   "metadata": {},
   "outputs": [
    {
     "name": "stdout",
     "output_type": "stream",
     "text": [
      "33162\n"
     ]
    },
    {
     "data": {
      "image/png": "[encoded data removed]",
      "text/plain": [
       "<Figure size 864x432 with 1 Axes>"
      ]
     },
     "metadata": {},
     "output_type": "display_data"
    }
   ],
   "source": [
    "plt.figure(figsize=(12, 6))\n",
    "x = [11638 + 8910, 42 + 7102, 3707, 1042 + 721]\n",
    "print(sum(x))\n",
    "label = ['fake +\\n extremely biased', 'right +\\nright leaning', 'center', 'left +\\nleft leaning']\n",
    "plt.bar(1, x[0])\n",
    "plt.bar(2, x[1])\n",
    "plt.bar(3, x[2])\n",
    "plt.bar(4, x[3])\n",
    "plt.xticks([1, 2, 3, 4], label, rotation=10)\n",
    "plt.ylabel('$N\\ of\\ tweets$', fontsize=15)\n",
    "plt.xticks(fontsize=12); plt.yticks(fontsize=14)\n",
    "plt.savefig('fig/fake_news_bar.pdf', dpi=300)\n",
    "plt.show()\n"
   ]
  },
  {
   "cell_type": "markdown",
   "metadata": {},
   "source": [
    "发现了一些匿名的用户的真实id，但是非常的少；\n",
    "\n",
    "位置：data/IRAs_be_found.json，仅仅命中了21857\n",
    "\n",
    "3836个用户中匿名有3669个；\n",
    "\n",
    "## 如何判断一个人是不是IRAs？\n",
    "\n",
    "所以我要创造一个UID of IRAs \n"
   ]
  },
  {
   "cell_type": "code",
   "execution_count": 15,
   "metadata": {},
   "outputs": [],
   "source": [
    "uids_of_IRA = set(json.load(open(\"data/IRA_match.json\")).values())"
   ]
  },
  {
   "cell_type": "code",
   "execution_count": null,
   "metadata": {},
   "outputs": [],
   "source": [
    "# 关键词选择出与 分析 相关的数据，主要是election, trump, hillary"
   ]
  },
  {
   "cell_type": "code",
   "execution_count": 35,
   "metadata": {},
   "outputs": [
    {
     "name": "stdout",
     "output_type": "stream",
     "text": [
      "0\n",
      "100000\n",
      "200000\n",
      "300000\n",
      "400000\n",
      "500000\n",
      "600000\n",
      "700000\n",
      "800000\n",
      "900000\n",
      "1000000\n",
      "1100000\n",
      "1200000\n",
      "1300000\n",
      "1400000\n",
      "1500000\n",
      "1600000\n",
      "1700000\n",
      "1800000\n",
      "1900000\n",
      "2000000\n",
      "2100000\n",
      "2200000\n",
      "2300000\n",
      "2400000\n",
      "2500000\n",
      "2600000\n",
      "2700000\n",
      "2800000\n",
      "2900000\n",
      "3000000\n",
      "3100000\n",
      "3200000\n",
      "3300000\n",
      "3400000\n",
      "3500000\n",
      "3600000\n",
      "3700000\n",
      "3800000\n",
      "3900000\n",
      "4000000\n",
      "4100000\n",
      "4200000\n",
      "4300000\n",
      "4400000\n",
      "4500000\n",
      "4600000\n",
      "4700000\n",
      "4800000\n",
      "4900000\n",
      "5000000\n",
      "5100000\n",
      "5200000\n",
      "5300000\n",
      "5400000\n",
      "5500000\n",
      "5600000\n",
      "5700000\n",
      "5800000\n",
      "5900000\n",
      "6000000\n",
      "6100000\n",
      "6200000\n",
      "6300000\n",
      "6400000\n",
      "6500000\n",
      "6600000\n",
      "6700000\n",
      "6800000\n",
      "6900000\n",
      "7000000\n",
      "7100000\n",
      "7200000\n",
      "7300000\n",
      "7400000\n",
      "7500000\n",
      "7600000\n",
      "7700000\n",
      "7800000\n",
      "7900000\n",
      "8000000\n",
      "8100000\n",
      "8200000\n",
      "8300000\n",
      "8400000\n",
      "8500000\n",
      "8600000\n",
      "8700000\n",
      "8800000\n",
      "8900000\n",
      "9000000\n"
     ]
    },
    {
     "data": {
      "text/plain": [
       "(144493, 50958, 9749)"
      ]
     },
     "execution_count": 35,
     "metadata": {},
     "output_type": "execute_result"
    }
   ],
   "source": [
    "trump_count = 0\n",
    "hillary_count = 0\n",
    "election_count = 0\n",
    "\n",
    "for i, row in tweets.iterrows():\n",
    "    if i % 100000 == 0:\n",
    "        print(i)\n",
    "    words = set(str(row[\"tweet_text\"]).lower().strip().split())\n",
    "    if \"trump\" in words or \"realdonaldtrump\" in words or \"@realdonaldtrump\" in words or \"donaldtrump\" in words:\n",
    "        trump_count += 1\n",
    "    if \"hillary\" in words or \"clinton\" in words or \"hillaryclinton\" in words or \"@hillaryclinton\" in words:\n",
    "        hillary_count += 1\n",
    "    if \"election\" in words:\n",
    "        election_count += 1\n",
    "\n",
    "trump_count, hillary_count, election_count"
   ]
  }
 ],
 "metadata": {
  "kernelspec": {
   "display_name": "Python 3",
   "language": "python",
   "name": "python3"
  },
  "language_info": {
   "codemirror_mode": {
    "name": "ipython",
    "version": 3
   },
   "file_extension": ".py",
   "mimetype": "text/x-python",
   "name": "python",
   "nbconvert_exporter": "python",
   "pygments_lexer": "ipython3",
   "version": "3.7.0"
  }
 },
 "nbformat": 4,
 "nbformat_minor": 2
}
